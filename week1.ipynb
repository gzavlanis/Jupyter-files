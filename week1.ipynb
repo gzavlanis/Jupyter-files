{
 "cells": [
  {
   "cell_type": "markdown",
   "metadata": {},
   "source": [
    "## Sage as calculator"
   ]
  },
  {
   "cell_type": "code",
   "execution_count": 1,
   "metadata": {
    "vscode": {
     "languageId": "python"
    }
   },
   "outputs": [
    {
     "data": {
      "text/plain": [
       "100"
      ]
     },
     "execution_count": 1,
     "metadata": {},
     "output_type": "execute_result"
    }
   ],
   "source": [
    "5*20"
   ]
  },
  {
   "cell_type": "code",
   "execution_count": 2,
   "metadata": {
    "vscode": {
     "languageId": "python"
    }
   },
   "outputs": [
    {
     "data": {
      "text/plain": [
       "(25, 64, 32, 2, 3, 9/4, 2.25000000000000, 2.33333333333333)"
      ]
     },
     "execution_count": 2,
     "metadata": {},
     "output_type": "execute_result"
    }
   ],
   "source": [
    "13 + 12, 8**2, 2^5, 11//4, 11 % 4, 9 / 4, 9 / 4.0, 3.5 / 1.5"
   ]
  },
  {
   "cell_type": "code",
   "execution_count": 3,
   "metadata": {
    "vscode": {
     "languageId": "python"
    }
   },
   "outputs": [
    {
     "data": {
      "text/plain": [
       "9/4"
      ]
     },
     "execution_count": 3,
     "metadata": {},
     "output_type": "execute_result"
    }
   ],
   "source": [
    "9 / 4"
   ]
  },
  {
   "cell_type": "code",
   "execution_count": 4,
   "metadata": {
    "vscode": {
     "languageId": "python"
    }
   },
   "outputs": [
    {
     "data": {
      "text/plain": [
       "2.55813953488372"
      ]
     },
     "execution_count": 4,
     "metadata": {},
     "output_type": "execute_result"
    }
   ],
   "source": [
    "11. / 4.3"
   ]
  },
  {
   "cell_type": "code",
   "execution_count": 5,
   "metadata": {
    "vscode": {
     "languageId": "python"
    }
   },
   "outputs": [
    {
     "data": {
      "text/plain": [
       "(<class 'sage.rings.integer.Integer'>,\n",
       " <class 'sage.rings.rational.Rational'>,\n",
       " <class 'sage.rings.real_mpfr.RealLiteral'>)"
      ]
     },
     "execution_count": 5,
     "metadata": {},
     "output_type": "execute_result"
    }
   ],
   "source": [
    "type(6), type(9/4), type(7.125)"
   ]
  },
  {
   "cell_type": "markdown",
   "metadata": {},
   "source": [
    "### Internal functions"
   ]
  },
  {
   "cell_type": "code",
   "execution_count": 6,
   "metadata": {
    "vscode": {
     "languageId": "python"
    }
   },
   "outputs": [
    {
     "data": {
      "text/plain": [
       "(3^2 * 11, 2^4)"
      ]
     },
     "execution_count": 6,
     "metadata": {},
     "output_type": "execute_result"
    }
   ],
   "source": [
    "factor(99), factor(16)"
   ]
  },
  {
   "cell_type": "code",
   "execution_count": 7,
   "metadata": {
    "vscode": {
     "languageId": "python"
    }
   },
   "outputs": [
    {
     "data": {
      "text/plain": [
       "(4, 4)"
      ]
     },
     "execution_count": 7,
     "metadata": {},
     "output_type": "execute_result"
    }
   ],
   "source": [
    "sqrt(16), 16 ** (1/2)"
   ]
  },
  {
   "cell_type": "code",
   "execution_count": 8,
   "metadata": {
    "vscode": {
     "languageId": "python"
    }
   },
   "outputs": [
    {
     "data": {
      "text/plain": [
       "(2*sqrt(2), 2.82842712474619)"
      ]
     },
     "execution_count": 8,
     "metadata": {},
     "output_type": "execute_result"
    }
   ],
   "source": [
    "sqrt(8), N( sqrt(8) )"
   ]
  },
  {
   "cell_type": "code",
   "execution_count": 9,
   "metadata": {
    "vscode": {
     "languageId": "python"
    }
   },
   "outputs": [
    {
     "data": {
      "text/plain": [
       "(e^2, e, 10, 2*log(2), 2)"
      ]
     },
     "execution_count": 9,
     "metadata": {},
     "output_type": "execute_result"
    }
   ],
   "source": [
    "e ** 2, exp(1), log( exp (10) ), log(4), log(100, 10)"
   ]
  },
  {
   "cell_type": "code",
   "execution_count": 10,
   "metadata": {
    "vscode": {
     "languageId": "python"
    }
   },
   "outputs": [
    {
     "data": {
      "text/plain": [
       "(0.999999995360574, 1, 1/2*pi)"
      ]
     },
     "execution_count": 10,
     "metadata": {},
     "output_type": "execute_result"
    }
   ],
   "source": [
    "N( sin(1.5707) ), sin(pi/2), arcsin(1)"
   ]
  },
  {
   "cell_type": "code",
   "execution_count": 11,
   "metadata": {
    "vscode": {
     "languageId": "python"
    }
   },
   "outputs": [
    {
     "name": "stdout",
     "output_type": "stream",
     "text": [
      "Help on function numerical_approx in module sage.misc.functional:\n",
      "\n",
      "numerical_approx(x, prec=None, digits=None, algorithm=None)\n",
      "    Return a numerical approximation of ``self`` with ``prec`` bits\n",
      "    (or decimal ``digits``) of precision.\n",
      "    \n",
      "    No guarantee is made about the accuracy of the result.\n",
      "    \n",
      "    .. NOTE::\n",
      "    \n",
      "        Lower case :func:`n` is an alias for :func:`numerical_approx`\n",
      "        and may be used as a method.\n",
      "    \n",
      "    INPUT:\n",
      "    \n",
      "    - ``prec`` -- precision in bits\n",
      "    \n",
      "    - ``digits`` -- precision in decimal digits (only used if\n",
      "      ``prec`` is not given)\n",
      "    \n",
      "    - ``algorithm`` -- which algorithm to use to compute this\n",
      "      approximation (the accepted algorithms depend on the object)\n",
      "    \n",
      "    If neither ``prec`` nor ``digits`` is given, the default\n",
      "    precision is 53 bits (roughly 16 digits).\n",
      "    \n",
      "    EXAMPLES::\n",
      "    \n",
      "        sage: numerical_approx(pi, 10)\n",
      "        3.1\n",
      "        sage: numerical_approx(pi, digits=10)\n",
      "        3.141592654\n",
      "        sage: numerical_approx(pi^2 + e, digits=20)\n",
      "        12.587886229548403854\n",
      "        sage: n(pi^2 + e)\n",
      "        12.5878862295484\n",
      "        sage: N(pi^2 + e)\n",
      "        12.5878862295484\n",
      "        sage: n(pi^2 + e, digits=50)\n",
      "        12.587886229548403854194778471228813633070946500941\n",
      "        sage: a = CC(-5).n(prec=40)\n",
      "        sage: b = ComplexField(40)(-5)\n",
      "        sage: a == b\n",
      "        True\n",
      "        sage: parent(a) is parent(b)\n",
      "        True\n",
      "        sage: numerical_approx(9)\n",
      "        9.00000000000000\n",
      "    \n",
      "    You can also usually use method notation::\n",
      "    \n",
      "        sage: (pi^2 + e).n()\n",
      "        12.5878862295484\n",
      "        sage: (pi^2 + e).numerical_approx()\n",
      "        12.5878862295484\n",
      "    \n",
      "    Vectors and matrices may also have their entries approximated::\n",
      "    \n",
      "        sage: v = vector(RDF, [1,2,3])\n",
      "        sage: v.n()\n",
      "        (1.00000000000000, 2.00000000000000, 3.00000000000000)\n",
      "    \n",
      "        sage: v = vector(CDF, [1,2,3])\n",
      "        sage: v.n()\n",
      "        (1.00000000000000, 2.00000000000000, 3.00000000000000)\n",
      "        sage: _.parent()\n",
      "        Vector space of dimension 3 over Complex Field with 53 bits of precision\n",
      "        sage: v.n(prec=20)\n",
      "        (1.0000, 2.0000, 3.0000)\n",
      "    \n",
      "        sage: u = vector(QQ, [1/2, 1/3, 1/4])\n",
      "        sage: n(u, prec=15)\n",
      "        (0.5000, 0.3333, 0.2500)\n",
      "        sage: n(u, digits=5)\n",
      "        (0.50000, 0.33333, 0.25000)\n",
      "    \n",
      "        sage: v = vector(QQ, [1/2, 0, 0, 1/3, 0, 0, 0, 1/4], sparse=True)\n",
      "        sage: u = v.numerical_approx(digits=4)\n",
      "        sage: u.is_sparse()\n",
      "        True\n",
      "        sage: u\n",
      "        (0.5000, 0.0000, 0.0000, 0.3333, 0.0000, 0.0000, 0.0000, 0.2500)\n",
      "    \n",
      "        sage: A = matrix(QQ, 2, 3, range(6))\n",
      "        sage: A.n()\n",
      "        [0.000000000000000  1.00000000000000  2.00000000000000]\n",
      "        [ 3.00000000000000  4.00000000000000  5.00000000000000]\n",
      "    \n",
      "        sage: B = matrix(Integers(12), 3, 8, srange(24))\n",
      "        sage: N(B, digits=2)\n",
      "        [0.00  1.0  2.0  3.0  4.0  5.0  6.0  7.0]\n",
      "        [ 8.0  9.0  10.  11. 0.00  1.0  2.0  3.0]\n",
      "        [ 4.0  5.0  6.0  7.0  8.0  9.0  10.  11.]\n",
      "    \n",
      "    Internally, numerical approximations of real numbers are stored in base-2.\n",
      "    Therefore, numbers which look the same in their decimal expansion might be\n",
      "    different::\n",
      "    \n",
      "        sage: x=N(pi, digits=3); x\n",
      "        3.14\n",
      "        sage: y=N(3.14, digits=3); y\n",
      "        3.14\n",
      "        sage: x==y\n",
      "        False\n",
      "        sage: x.str(base=2)\n",
      "        '11.001001000100'\n",
      "        sage: y.str(base=2)\n",
      "        '11.001000111101'\n",
      "    \n",
      "    Increasing the precision of a floating point number is not allowed::\n",
      "    \n",
      "        sage: CC(-5).n(prec=100)\n",
      "        Traceback (most recent call last):\n",
      "        ...\n",
      "        TypeError: cannot approximate to a precision of 100 bits, use at most 53 bits\n",
      "        sage: n(1.3r, digits=20)\n",
      "        Traceback (most recent call last):\n",
      "        ...\n",
      "        TypeError: cannot approximate to a precision of 70 bits, use at most 53 bits\n",
      "        sage: RealField(24).pi().n()\n",
      "        Traceback (most recent call last):\n",
      "        ...\n",
      "        TypeError: cannot approximate to a precision of 53 bits, use at most 24 bits\n",
      "    \n",
      "    As an exceptional case, ``digits=1`` usually leads to 2 digits (one\n",
      "    significant) in the decimal output (see :trac:`11647`)::\n",
      "    \n",
      "        sage: N(pi, digits=1)\n",
      "        3.2\n",
      "        sage: N(pi, digits=2)\n",
      "        3.1\n",
      "        sage: N(100*pi, digits=1)\n",
      "        320.\n",
      "        sage: N(100*pi, digits=2)\n",
      "        310.\n",
      "    \n",
      "    In the following example, ``pi`` and ``3`` are both approximated to two\n",
      "    bits of precision and then subtracted, which kills two bits of precision::\n",
      "    \n",
      "        sage: N(pi, prec=2)\n",
      "        3.0\n",
      "        sage: N(3, prec=2)\n",
      "        3.0\n",
      "        sage: N(pi - 3, prec=2)\n",
      "        0.00\n",
      "    \n",
      "    TESTS::\n",
      "    \n",
      "        sage: numerical_approx(I)\n",
      "        1.00000000000000*I\n",
      "        sage: x = QQ['x'].gen()\n",
      "        sage: F.<k> = NumberField(x^2+2, embedding=sqrt(CC(2))*CC.0)\n",
      "        sage: numerical_approx(k)\n",
      "        1.41421356237309*I\n",
      "    \n",
      "        sage: type(numerical_approx(CC(1/2)))\n",
      "        <class 'sage.rings.complex_mpfr.ComplexNumber'>\n",
      "    \n",
      "    The following tests :trac:`10761`, in which ``n()`` would break when\n",
      "    called on complex-valued algebraic numbers.  ::\n",
      "    \n",
      "        sage: E = matrix(3, [3,1,6,5,2,9,7,3,13]).eigenvalues(); E\n",
      "        [18.16815365088822?, -0.08407682544410650? - 0.2190261484802906?*I, -0.08407682544410650? + 0.2190261484802906?*I]\n",
      "        sage: E[1].parent()\n",
      "        Algebraic Field\n",
      "        sage: [a.n() for a in E]\n",
      "        [18.1681536508882, -0.0840768254441065 - 0.219026148480291*I, -0.0840768254441065 + 0.219026148480291*I]\n",
      "    \n",
      "    Make sure we've rounded up log(10,2) enough to guarantee\n",
      "    sufficient precision (:trac:`10164`)::\n",
      "    \n",
      "        sage: ks = 4*10**5, 10**6\n",
      "        sage: check_str_length = lambda k: len(str(numerical_approx(1+10**-k,digits=k+1)))-1 >= k+1\n",
      "        sage: check_precision = lambda k: numerical_approx(1+10**-k,digits=k+1)-1 > 0\n",
      "        sage: all(check_str_length(k) and check_precision(k) for k in ks)\n",
      "        True\n",
      "    \n",
      "    Testing we have sufficient precision for the golden ratio (:trac:`12163`), note\n",
      "    that the decimal point adds 1 to the string length::\n",
      "    \n",
      "        sage: len(str(n(golden_ratio, digits=5000)))\n",
      "        5001\n",
      "        sage: len(str(n(golden_ratio, digits=5000000)))  # long time (4s on sage.math, 2012)\n",
      "        5000001\n",
      "    \n",
      "    Check that :trac:`14778` is fixed::\n",
      "    \n",
      "        sage: n(0, algorithm='foo')\n",
      "        0.000000000000000\n",
      "\n"
     ]
    }
   ],
   "source": [
    "help(N)"
   ]
  },
  {
   "cell_type": "code",
   "execution_count": 12,
   "metadata": {
    "vscode": {
     "languageId": "python"
    }
   },
   "outputs": [
    {
     "data": {
      "text/plain": [
       "0.00001023"
      ]
     },
     "execution_count": 12,
     "metadata": {},
     "output_type": "execute_result"
    }
   ],
   "source": [
    "N(1999 / 195358756,  digits=4)"
   ]
  },
  {
   "cell_type": "code",
   "execution_count": 13,
   "metadata": {
    "vscode": {
     "languageId": "python"
    }
   },
   "outputs": [
    {
     "data": {
      "text/plain": [
       "(-Infinity, +Infinity)"
      ]
     },
     "execution_count": 13,
     "metadata": {},
     "output_type": "execute_result"
    }
   ],
   "source": [
    "-oo, oo # https://doc.sagemath.org/html/en/reference/rings/sage/rings/infinity.html"
   ]
  },
  {
   "cell_type": "code",
   "execution_count": 14,
   "metadata": {
    "vscode": {
     "languageId": "python"
    }
   },
   "outputs": [
    {
     "data": {
      "text/plain": [
       "1/8"
      ]
     },
     "execution_count": 14,
     "metadata": {},
     "output_type": "execute_result"
    }
   ],
   "source": [
    "1 / (3 + 5)"
   ]
  },
  {
   "cell_type": "code",
   "execution_count": 15,
   "metadata": {
    "vscode": {
     "languageId": "python"
    }
   },
   "outputs": [
    {
     "data": {
      "text/plain": [
       "10305.5514898770"
      ]
     },
     "execution_count": 15,
     "metadata": {},
     "output_type": "execute_result"
    }
   ],
   "source": [
    "x = sqrt(123456789) / ( 1 + exp(5 * sin(9 ** 10)) ) \n",
    "\n",
    "N(x)"
   ]
  },
  {
   "cell_type": "code",
   "execution_count": 16,
   "metadata": {
    "vscode": {
     "languageId": "python"
    }
   },
   "outputs": [
    {
     "data": {
      "text/plain": [
       "10305.551489876958252609797210992896623035682045803298575792768487832467609086796253927738067440121711382407604797204887399931460619315311692211485460623680449844683591264802932472158672440900613046209477217590587355230266861816939660186725098106603045122787819289443908555390513459703875996881849353267252540978012382742330276438950245967643586380422398019301222589509375572934085403123473949427820762086209251261280544843405110952208439275074452002435383162602586928361508086362778832337017258138364508465511695"
      ]
     },
     "execution_count": 16,
     "metadata": {},
     "output_type": "execute_result"
    }
   ],
   "source": [
    "numerical_approx(x, digits=512) # 2nd argument: number of digits used"
   ]
  },
  {
   "cell_type": "code",
   "execution_count": 17,
   "metadata": {
    "vscode": {
     "languageId": "python"
    }
   },
   "outputs": [
    {
     "name": "stdout",
     "output_type": "stream",
     "text": [
      "3.14159265358979323846264338328\n"
     ]
    }
   ],
   "source": [
    "print(numerical_approx(pi,digits=30))"
   ]
  },
  {
   "cell_type": "code",
   "execution_count": 18,
   "metadata": {
    "vscode": {
     "languageId": "python"
    }
   },
   "outputs": [
    {
     "data": {
      "text/plain": [
       "\\frac{3 \\, \\sqrt{13717421}}{e^{\\left(5 \\, \\sin\\left(3486784401\\right)\\right)} + 1}"
      ]
     },
     "execution_count": 18,
     "metadata": {},
     "output_type": "execute_result"
    }
   ],
   "source": [
    "latex(x)"
   ]
  },
  {
   "cell_type": "markdown",
   "metadata": {},
   "source": [
    "### <font color='red'>Common errors</font>\n",
    "\n",
    "* asterisk  --->  3sin(x)\n",
    "* parenetheses ---> (5 + (x/6)\n",
    "* comma-seperated values ---> 11,000"
   ]
  },
  {
   "cell_type": "code",
   "execution_count": 19,
   "metadata": {
    "vscode": {
     "languageId": "python"
    }
   },
   "outputs": [
    {
     "data": {
      "text/plain": [
       "11000"
      ]
     },
     "execution_count": 19,
     "metadata": {},
     "output_type": "execute_result"
    }
   ],
   "source": [
    "11_000"
   ]
  },
  {
   "cell_type": "markdown",
   "metadata": {},
   "source": [
    "## Linear Algebra & equations"
   ]
  },
  {
   "cell_type": "markdown",
   "metadata": {},
   "source": [
    "## Element indexing\n",
    "The number located in the $i^{th}$ row, and $j^{th}$ column of a matrix $X$ is sometimes noted $X_{i,j}$ or $X_{ij}$, but there is no standard notation, so people often prefer to explicitely name the elements, like this: \"*let $X = (x_{i,j})_{1 ≤ i ≤ m, 1 ≤ j ≤ n}$*\". This means that $X$ is equal to:\n",
    "\n",
    "$X = \\begin{bmatrix}\n",
    "  x_{1,1} & x_{1,2} & x_{1,3} & \\cdots & x_{1,n}\\\\\n",
    "  x_{2,1} & x_{2,2} & x_{2,3} & \\cdots & x_{2,n}\\\\\n",
    "  x_{3,1} & x_{3,2} & x_{3,3} & \\cdots & x_{3,n}\\\\\n",
    "  \\vdots & \\vdots & \\vdots & \\ddots & \\vdots \\\\\n",
    "  x_{m,1} & x_{m,2} & x_{m,3} & \\cdots & x_{m,n}\\\\\n",
    "\\end{bmatrix}$\n",
    "\n",
    "However in this notebook we will use the $X_{i,j}$ notation, as it matches fairly well NumPy's (Sage's) notation.\n",
    "\n",
    "**Note that in math indices generally start at 1, but in programming they usually start at 0.**\n",
    "\n",
    "So to access $A_{2,3}$ programmatically, we need to follow the next commands: A[1,2]"
   ]
  },
  {
   "cell_type": "code",
   "execution_count": 20,
   "metadata": {
    "vscode": {
     "languageId": "python"
    }
   },
   "outputs": [],
   "source": [
    "A = matrix(3,4, [3, 1, -5, 0, 8, 2 , 7, 45, 4, 5, -11, 6] )"
   ]
  },
  {
   "cell_type": "code",
   "execution_count": 21,
   "metadata": {
    "vscode": {
     "languageId": "python"
    }
   },
   "outputs": [
    {
     "data": {
      "text/plain": [
       "[  3   1  -5   0]\n",
       "[  8   2   7  45]\n",
       "[  4   5 -11   6]"
      ]
     },
     "execution_count": 21,
     "metadata": {},
     "output_type": "execute_result"
    }
   ],
   "source": [
    "A"
   ]
  },
  {
   "cell_type": "markdown",
   "metadata": {},
   "source": [
    "### Test the output of the next commands"
   ]
  },
  {
   "cell_type": "code",
   "execution_count": 22,
   "metadata": {
    "vscode": {
     "languageId": "python"
    }
   },
   "outputs": [
    {
     "name": "stdout",
     "output_type": "stream",
     "text": [
      "3\n"
     ]
    }
   ],
   "source": [
    "print(A[0,0])"
   ]
  },
  {
   "cell_type": "code",
   "execution_count": 23,
   "metadata": {
    "vscode": {
     "languageId": "python"
    }
   },
   "outputs": [
    {
     "name": "stdout",
     "output_type": "stream",
     "text": [
      "7\n"
     ]
    }
   ],
   "source": [
    "print(A[1,2])"
   ]
  },
  {
   "cell_type": "code",
   "execution_count": 24,
   "metadata": {
    "vscode": {
     "languageId": "python"
    }
   },
   "outputs": [
    {
     "data": {
      "text/plain": [
       "[  7  45]\n",
       "[-11   6]"
      ]
     },
     "execution_count": 24,
     "metadata": {},
     "output_type": "execute_result"
    }
   ],
   "source": [
    "A[1:3,2:4] # : during slicing acts as [,)"
   ]
  },
  {
   "cell_type": "markdown",
   "metadata": {},
   "source": [
    "The $i^{th}$ row vector is sometimes noted $M_i$ or $M_{i,*}$, but again there is no standard notation so people often prefer to explicitely define their own names, for example: \"*let **x**$_{i}$ be the $i^{th}$ row vector of matrix $X$*\". We will use the $M_{i,*}$, for the same reason as above. For example, to access $A_{2,*}$ (ie. $A$'s 2nd row vector):\n",
    "\n",
    "Similarly, the $j^{th}$ column vector is sometimes noted $M^j$ or $M_{*,j}$, but there is no standard notation. We will use $M_{*,j}$.\n",
    "\n",
    "For example, to access $A_{*,3}$ (ie. $A$'s 3rd column vector):"
   ]
  },
  {
   "cell_type": "code",
   "execution_count": 25,
   "metadata": {
    "vscode": {
     "languageId": "python"
    }
   },
   "outputs": [
    {
     "name": "stdout",
     "output_type": "stream",
     "text": [
      "[ -5]\n",
      "[  7]\n",
      "[-11]\n",
      "******\n",
      "[ 3  1 -5  0]\n"
     ]
    }
   ],
   "source": [
    "print(A[:,2])\n",
    "print('******')\n",
    "print(A[0,:])"
   ]
  },
  {
   "cell_type": "markdown",
   "metadata": {},
   "source": [
    "## Adding matrices\n",
    "If two matrices $Q$ and $R$ have the same size $m \\times n$, they can be added together. Addition is performed *elementwise*: the result is also a $m \\times n$ matrix $S$ where each element is the sum of the elements at the corresponding position: $S_{i,j} = Q_{i,j} + R_{i,j}$\n",
    "\n",
    "$S =\n",
    "\\begin{bmatrix}\n",
    "  Q_{11} + R_{11} & Q_{12} + R_{12} & Q_{13} + R_{13} & \\cdots & Q_{1n} + R_{1n} \\\\\n",
    "  Q_{21} + R_{21} & Q_{22} + R_{22} & Q_{23} + R_{23} & \\cdots & Q_{2n} + R_{2n}  \\\\\n",
    "  Q_{31} + R_{31} & Q_{32} + R_{32} & Q_{33} + R_{33} & \\cdots & Q_{3n} + R_{3n}  \\\\\n",
    "  \\vdots & \\vdots & \\vdots & \\ddots & \\vdots \\\\\n",
    "  Q_{m1} + R_{m1} & Q_{m2} + R_{m2} & Q_{m3} + R_{m3} & \\cdots & Q_{mn} + R_{mn}  \\\\\n",
    "\\end{bmatrix}$\n",
    "\n",
    "For example, let's create a $2 \\times 3$ matrix $B$ and compute $A + B$:\n",
    "\n",
    "**Addition is *commutative***, meaning that $A + B = B + A$:\n",
    "\n",
    "**It is also *associative***, meaning that $A + (B + C) = (A + B) + C$:\n",
    "\n",
    "\n",
    "## Scalar multiplication\n",
    "A matrix $M$ can be multiplied by a scalar $\\lambda$. The result is noted $\\lambda M$, and it is a matrix of the same size as $M$ with all elements multiplied by $\\lambda$:\n",
    "\n",
    "$\\lambda M =\n",
    "\\begin{bmatrix}\n",
    "  \\lambda \\times M_{11} & \\lambda \\times M_{12} & \\lambda \\times M_{13} & \\cdots & \\lambda \\times M_{1n} \\\\\n",
    "  \\lambda \\times M_{21} & \\lambda \\times M_{22} & \\lambda \\times M_{23} & \\cdots & \\lambda \\times M_{2n} \\\\\n",
    "  \\lambda \\times M_{31} & \\lambda \\times M_{32} & \\lambda \\times M_{33} & \\cdots & \\lambda \\times M_{3n} \\\\\n",
    "  \\vdots & \\vdots & \\vdots & \\ddots & \\vdots \\\\\n",
    "  \\lambda \\times M_{m1} & \\lambda \\times M_{m2} & \\lambda \\times M_{m3} & \\cdots & \\lambda \\times M_{mn} \\\\\n",
    "\\end{bmatrix}$\n",
    "\n",
    "A more concise way of writing this is:\n",
    "\n",
    "$(\\lambda M)_{i,j} = \\lambda (M)_{i,j}$\n",
    "\n",
    "In Sage, simply use the `*` operator to multiply a matrix by a scalar. Look to the next cell for some examples.\n",
    "\n",
    "\n",
    "## Matrix multiplication\n",
    "So far, matrix operations have been rather intuitive. But multiplying matrices is a bit more involved.\n",
    "\n",
    "A matrix $Q$ of size $m \\times n$ can be multiplied by a matrix $R$ of size $n \\times q$. It is noted simply $QR$ without multiplication sign or dot. The result $P$ is an $m \\times q$ matrix where each element is computed as a sum of products:\n",
    "\n",
    "$P_{i,j} = \\sum_{k=1}^n{Q_{i,k} \\times R_{k,j}}$\n",
    "\n",
    "The element at position $i,j$ in the resulting matrix is the sum of the products of elements in row $i$ of matrix $Q$ by the elements in column $j$ of matrix $R$.\n",
    "\n",
    "$P =\n",
    "\\begin{bmatrix}\n",
    "Q_{11} R_{11} + Q_{12} R_{21} + \\cdots + Q_{1n} R_{n1} &\n",
    "  Q_{11} R_{12} + Q_{12} R_{22} + \\cdots + Q_{1n} R_{n2} &\n",
    "    \\cdots &\n",
    "      Q_{11} R_{1q} + Q_{12} R_{2q} + \\cdots + Q_{1n} R_{nq} \\\\\n",
    "Q_{21} R_{11} + Q_{22} R_{21} + \\cdots + Q_{2n} R_{n1} &\n",
    "  Q_{21} R_{12} + Q_{22} R_{22} + \\cdots + Q_{2n} R_{n2} &\n",
    "    \\cdots &\n",
    "      Q_{21} R_{1q} + Q_{22} R_{2q} + \\cdots + Q_{2n} R_{nq} \\\\\n",
    "  \\vdots & \\vdots & \\ddots & \\vdots \\\\\n",
    "Q_{m1} R_{11} + Q_{m2} R_{21} + \\cdots + Q_{mn} R_{n1} &\n",
    "  Q_{m1} R_{12} + Q_{m2} R_{22} + \\cdots + Q_{mn} R_{n2} &\n",
    "    \\cdots &\n",
    "      Q_{m1} R_{1q} + Q_{m2} R_{2q} + \\cdots + Q_{mn} R_{nq}\n",
    "\\end{bmatrix}$\n",
    "\n",
    "You may notice that each element $P_{i,j}$ is the dot product of the row vector $Q_{i,*}$ and the column vector $R_{*,j}$:\n",
    "\n",
    "$P_{i,j} = Q_{i,*} \\cdot R_{*,j}$\n",
    "\n",
    "So we can rewrite $P$ more concisely as:\n",
    "\n",
    "$P =\n",
    "\\begin{bmatrix}\n",
    "Q_{1,*} \\cdot R_{*,1} & Q_{1,*} \\cdot R_{*,2} & \\cdots & Q_{1,*} \\cdot R_{*,q} \\\\\n",
    "Q_{2,*} \\cdot R_{*,1} & Q_{2,*} \\cdot R_{*,2} & \\cdots & Q_{2,*} \\cdot R_{*,q} \\\\\n",
    "\\vdots & \\vdots & \\ddots & \\vdots \\\\\n",
    "Q_{m,*} \\cdot R_{*,1} & Q_{m,*} \\cdot R_{*,2} & \\cdots & Q_{m,*} \\cdot R_{*,q}\n",
    "\\end{bmatrix}$\n",
    "\n",
    "\n",
    "This illustrates the fact that **matrix multiplication is *NOT* commutative**: in general $QR ≠ RQ$\n",
    "\n",
    "In fact, $QR$ and $RQ$ are only *both* defined if $Q$ has size $m \\times n$ and $R$ has size $n \\times m$. Let's look at an example where both *are* defined and show that they are (in general) *NOT* equal:"
   ]
  },
  {
   "cell_type": "code",
   "execution_count": 26,
   "metadata": {
    "vscode": {
     "languageId": "python"
    }
   },
   "outputs": [
    {
     "name": "stdout",
     "output_type": "stream",
     "text": [
      "B = \n",
      " [0 1]\n",
      "[3 2] \n",
      "\n",
      " 4*B = \n",
      " [ 0  4]\n",
      "[12  8]\n",
      "--------------\n",
      "[-1  1]\n",
      "[ 3  7] \n",
      "\n",
      " [-1  1]\n",
      "[ 3  7]\n",
      "True\n",
      "--------------\n",
      "[ 0  5]\n",
      "[-3 10] \n",
      "\n",
      " [ 0 -1]\n",
      "[15 10]\n",
      "False\n"
     ]
    }
   ],
   "source": [
    "B = matrix(2,2, [0, 1 , 3, 2])\n",
    "C = matrix(2,2, [-1, 0 , 0, 5])\n",
    "\n",
    "print('B = \\n', B, '\\n\\n', '4*B = \\n', 4*B)\n",
    "print('--------------')\n",
    "\n",
    "print(B+C,'\\n\\n',C+B)\n",
    "print(B+C == C+B)\n",
    "print('--------------')\n",
    "\n",
    "print(B*C,'\\n\\n',C*B)\n",
    "print(B*C == C*B)"
   ]
  },
  {
   "cell_type": "markdown",
   "metadata": {},
   "source": [
    "## Matrix transpose\n",
    "The transpose of a matrix $M$ is a matrix noted $M^T$ such that the $i^{th}$ row in $M^T$ is equal to the $i^{th}$ column in $M$:\n",
    "\n",
    "$ A^T =\n",
    "\\begin{bmatrix}\n",
    "  10 & 20 & 30 \\\\\n",
    "  40 & 50 & 60\n",
    "\\end{bmatrix}^T =\n",
    "\\begin{bmatrix}\n",
    "  10 & 40 \\\\\n",
    "  20 & 50 \\\\\n",
    "  30 & 60\n",
    "\\end{bmatrix}$\n",
    "\n",
    "In other words, ($A^T)_{i,j}$ = $A_{j,i}$\n",
    "\n",
    "Obviously, if $M$ is an $m \\times n$ matrix, then $M^T$ is an $n \\times m$ matrix.\n",
    "\n",
    "Note: there are a few other notations, such as $M^t$, $M′$, or ${^t}M$.\n",
    "\n",
    "In NumPy, a matrix's transpose can be obtained simply using the `T` attribute:"
   ]
  },
  {
   "cell_type": "code",
   "execution_count": 27,
   "metadata": {
    "vscode": {
     "languageId": "python"
    }
   },
   "outputs": [
    {
     "data": {
      "text/plain": [
       "[-1  0]\n",
       "[ 0  5]"
      ]
     },
     "execution_count": 27,
     "metadata": {},
     "output_type": "execute_result"
    }
   ],
   "source": [
    "C.T"
   ]
  },
  {
   "cell_type": "markdown",
   "metadata": {},
   "source": [
    "### Some basic commands for solving systems of equations"
   ]
  },
  {
   "cell_type": "code",
   "execution_count": 28,
   "metadata": {
    "vscode": {
     "languageId": "python"
    }
   },
   "outputs": [
    {
     "data": {
      "text/plain": [
       "[  3   1  -5   0]\n",
       "[  8   2   7  45]\n",
       "[  4   5 -11   6]"
      ]
     },
     "execution_count": 28,
     "metadata": {},
     "output_type": "execute_result"
    }
   ],
   "source": [
    "A"
   ]
  },
  {
   "cell_type": "code",
   "execution_count": 29,
   "metadata": {
    "vscode": {
     "languageId": "python"
    }
   },
   "outputs": [
    {
     "data": {
      "text/plain": [
       "[      1       0       0 528/215]\n",
       "[      0       1       0 951/215]\n",
       "[      0       0       1 507/215]"
      ]
     },
     "execution_count": 29,
     "metadata": {},
     "output_type": "execute_result"
    }
   ],
   "source": [
    "A.rref()"
   ]
  },
  {
   "cell_type": "code",
   "execution_count": 30,
   "metadata": {
    "vscode": {
     "languageId": "python"
    }
   },
   "outputs": [
    {
     "name": "stdout",
     "output_type": "stream",
     "text": [
      "0\n"
     ]
    }
   ],
   "source": [
    "a = A.rref()\n",
    "print(A[0][0] * a[0][3] + A[0][1] * a[1][3] +\n",
    "      A[0][2] * a[2][3] ) # validate the first equation"
   ]
  },
  {
   "cell_type": "code",
   "execution_count": 31,
   "metadata": {
    "vscode": {
     "languageId": "python"
    }
   },
   "outputs": [
    {
     "name": "stdout",
     "output_type": "stream",
     "text": [
      "<class 'sage.matrix.matrix_integer_dense.Matrix_integer_dense'>\n"
     ]
    },
    {
     "data": {
      "text/plain": [
       "[ 1  0 -1 -1]\n",
       "[ 0  1  2  4]\n",
       "[ 0  0  0  0]"
      ]
     },
     "execution_count": 31,
     "metadata": {},
     "output_type": "execute_result"
    }
   ],
   "source": [
    "B = matrix(ZZ, 3,4, [1,2,3,7, 4,5,6,16, 7,8,9,25])\n",
    "print(type(B))\n",
    "B.rref() # infinite solutions"
   ]
  },
  {
   "cell_type": "markdown",
   "metadata": {},
   "source": [
    "### Redefine the A matrix for examining slicing and products"
   ]
  },
  {
   "cell_type": "code",
   "execution_count": 32,
   "metadata": {
    "vscode": {
     "languageId": "python"
    }
   },
   "outputs": [],
   "source": [
    "A = matrix(3,4, [3, 1, -5, 0, 8, 2 , 7, 45, 4, 5, -11, 6]) \n",
    "v = vector([1,5,10])"
   ]
  },
  {
   "cell_type": "code",
   "execution_count": 33,
   "metadata": {
    "vscode": {
     "languageId": "python"
    }
   },
   "outputs": [
    {
     "data": {
      "text/plain": [
       "[  3   1  -5   0]\n",
       "[  8   2   7  45]\n",
       "[  4   5 -11   6]"
      ]
     },
     "execution_count": 33,
     "metadata": {},
     "output_type": "execute_result"
    }
   ],
   "source": [
    "A"
   ]
  },
  {
   "cell_type": "code",
   "execution_count": 34,
   "metadata": {
    "vscode": {
     "languageId": "python"
    }
   },
   "outputs": [
    {
     "data": {
      "text/plain": [
       "(1, 5, 10)"
      ]
     },
     "execution_count": 34,
     "metadata": {},
     "output_type": "execute_result"
    }
   ],
   "source": [
    "v"
   ]
  },
  {
   "cell_type": "code",
   "execution_count": 35,
   "metadata": {
    "vscode": {
     "languageId": "python"
    }
   },
   "outputs": [
    {
     "data": {
      "text/plain": [
       "[ 3  1 -5  0]"
      ]
     },
     "execution_count": 35,
     "metadata": {},
     "output_type": "execute_result"
    }
   ],
   "source": [
    "A[0,:] # 1st row"
   ]
  },
  {
   "cell_type": "code",
   "execution_count": 36,
   "metadata": {
    "vscode": {
     "languageId": "python"
    }
   },
   "outputs": [
    {
     "data": {
      "text/plain": [
       "[3]\n",
       "[8]\n",
       "[4]"
      ]
     },
     "execution_count": 36,
     "metadata": {},
     "output_type": "execute_result"
    }
   ],
   "source": [
    "A[:,0] # 1st column"
   ]
  },
  {
   "cell_type": "code",
   "execution_count": 37,
   "metadata": {
    "vscode": {
     "languageId": "python"
    }
   },
   "outputs": [
    {
     "data": {
      "text/plain": [
       "5"
      ]
     },
     "execution_count": 37,
     "metadata": {},
     "output_type": "execute_result"
    }
   ],
   "source": [
    "A[2][1] # specific component or A[2,1]"
   ]
  },
  {
   "cell_type": "code",
   "execution_count": 38,
   "metadata": {
    "vscode": {
     "languageId": "python"
    }
   },
   "outputs": [
    {
     "data": {
      "text/plain": [
       "[ 3  1 -5  0]\n",
       "[ 8  2  7 45]"
      ]
     },
     "execution_count": 38,
     "metadata": {},
     "output_type": "execute_result"
    }
   ],
   "source": [
    "A[0:2, :]"
   ]
  },
  {
   "cell_type": "code",
   "execution_count": 39,
   "metadata": {
    "vscode": {
     "languageId": "python"
    }
   },
   "outputs": [
    {
     "data": {
      "text/plain": [
       "[  3   1  -5   0]\n",
       "[  8   2   7  45]\n",
       "[  4   5 -11   6]"
      ]
     },
     "execution_count": 39,
     "metadata": {},
     "output_type": "execute_result"
    }
   ],
   "source": [
    "A"
   ]
  },
  {
   "cell_type": "code",
   "execution_count": 40,
   "metadata": {
    "vscode": {
     "languageId": "python"
    }
   },
   "outputs": [
    {
     "data": {
      "text/plain": [
       "[ -5   1   0]\n",
       "[  7   2  45]\n",
       "[-11   5   6]"
      ]
     },
     "execution_count": 40,
     "metadata": {},
     "output_type": "execute_result"
    }
   ],
   "source": [
    "# select specific columns without any specific order\n",
    "A.matrix_from_columns([2,1,3])  # in Python: #A[[2,1,3], :]"
   ]
  },
  {
   "cell_type": "code",
   "execution_count": 41,
   "metadata": {
    "vscode": {
     "languageId": "python"
    }
   },
   "outputs": [
    {
     "data": {
      "text/plain": [
       "[ 3  1 -5  0]\n",
       "[ 8  2  7 45]"
      ]
     },
     "execution_count": 41,
     "metadata": {},
     "output_type": "execute_result"
    }
   ],
   "source": [
    "A.matrix_from_rows([0,1])  # in Python: #A[[2,1,3], :]"
   ]
  },
  {
   "cell_type": "code",
   "execution_count": 42,
   "metadata": {
    "vscode": {
     "languageId": "python"
    }
   },
   "outputs": [
    {
     "data": {
      "text/plain": [
       "[  3   1  -5   0]\n",
       "[  8   2   7  45]\n",
       "[  4   5 -11   6]"
      ]
     },
     "execution_count": 42,
     "metadata": {},
     "output_type": "execute_result"
    }
   ],
   "source": [
    "A = matrix(3,4, [3, 1, -5, 0, 8, 2 , 7, 45, 4, 5, -11, 6]) \n",
    "A"
   ]
  },
  {
   "cell_type": "code",
   "execution_count": 43,
   "metadata": {
    "vscode": {
     "languageId": "python"
    }
   },
   "outputs": [
    {
     "data": {
      "text/plain": [
       "[  9   3 -15   0]\n",
       "[  8   2   7  45]\n",
       "[  4   5 -11   6]"
      ]
     },
     "execution_count": 43,
     "metadata": {},
     "output_type": "execute_result"
    }
   ],
   "source": [
    "A.rescale_row(0,3)\n",
    "A"
   ]
  },
  {
   "cell_type": "code",
   "execution_count": 44,
   "metadata": {
    "vscode": {
     "languageId": "python"
    }
   },
   "outputs": [
    {
     "data": {
      "text/plain": [
       "[  9 -30 -15   0]\n",
       "[  8 -20   7  45]\n",
       "[  4 -50 -11   6]"
      ]
     },
     "execution_count": 44,
     "metadata": {},
     "output_type": "execute_result"
    }
   ],
   "source": [
    "A.rescale_col(1,-10)\n",
    "A"
   ]
  },
  {
   "cell_type": "code",
   "execution_count": 45,
   "metadata": {
    "vscode": {
     "languageId": "python"
    }
   },
   "outputs": [
    {
     "data": {
      "text/plain": [
       "[  8 -20   7  45]\n",
       "[  9 -30 -15   0]\n",
       "[  4 -50 -11   6]"
      ]
     },
     "execution_count": 45,
     "metadata": {},
     "output_type": "execute_result"
    }
   ],
   "source": [
    "A.swap_rows(0,1)\n",
    "A"
   ]
  },
  {
   "cell_type": "code",
   "execution_count": 46,
   "metadata": {
    "vscode": {
     "languageId": "python"
    }
   },
   "outputs": [
    {
     "data": {
      "text/plain": [
       "[  0  80  29  33]\n",
       "[  9 -30 -15   0]\n",
       "[  4 -50 -11   6]"
      ]
     },
     "execution_count": 46,
     "metadata": {},
     "output_type": "execute_result"
    }
   ],
   "source": [
    "A.add_multiple_of_row(0, 2, -2)\n",
    "A"
   ]
  },
  {
   "cell_type": "code",
   "execution_count": 47,
   "metadata": {
    "vscode": {
     "languageId": "python"
    }
   },
   "outputs": [
    {
     "name": "stdout",
     "output_type": "stream",
     "text": [
      "Help on built-in function add_multiple_of_column:\n",
      "\n",
      "add_multiple_of_column(...) method of sage.matrix.matrix_integer_dense.Matrix_integer_dense instance\n",
      "    Matrix.add_multiple_of_column(self, Py_ssize_t i, Py_ssize_t j, s, Py_ssize_t start_row=0)\n",
      "    File: sage/matrix/matrix0.pyx (starting at line 2969)\n",
      "    \n",
      "            Add s times column j to column i.\n",
      "    \n",
      "            EXAMPLES: We add -1 times the third column to the second column of\n",
      "            an integer matrix, remembering to start numbering cols at zero::\n",
      "    \n",
      "                sage: a = matrix(ZZ,2,3,range(6)); a\n",
      "                [0 1 2]\n",
      "                [3 4 5]\n",
      "                sage: a.add_multiple_of_column(1,2,-1)\n",
      "                sage: a\n",
      "                [ 0 -1  2]\n",
      "                [ 3 -1  5]\n",
      "    \n",
      "            To add a rational multiple, we first need to change the base ring::\n",
      "    \n",
      "                sage: a = a.change_ring(QQ)\n",
      "                sage: a.add_multiple_of_column(1,0,1/3)\n",
      "                sage: a\n",
      "                [ 0 -1  2]\n",
      "                [ 3  0  5]\n",
      "    \n",
      "            If not, we get an error message::\n",
      "    \n",
      "                sage: a.add_multiple_of_column(1,0,SR.I())\n",
      "                Traceback (most recent call last):\n",
      "                ...\n",
      "                TypeError: Multiplying column by Symbolic Ring element cannot be done over Rational Field, use change_ring or with_added_multiple_of_column instead.\n",
      "\n"
     ]
    }
   ],
   "source": [
    "help(A.add_multiple_of_column)"
   ]
  },
  {
   "cell_type": "code",
   "execution_count": 48,
   "metadata": {
    "vscode": {
     "languageId": "python"
    }
   },
   "outputs": [
    {
     "data": {
      "text/plain": [
       "(690, -291, -356)"
      ]
     },
     "execution_count": 48,
     "metadata": {},
     "output_type": "execute_result"
    }
   ],
   "source": [
    "A[:,0:3] * v"
   ]
  },
  {
   "cell_type": "code",
   "execution_count": 49,
   "metadata": {
    "vscode": {
     "languageId": "python"
    }
   },
   "outputs": [
    {
     "name": "stdout",
     "output_type": "stream",
     "text": [
      "[ -40726  258330   98703]\n",
      "[  24834 -141300  -54756]\n",
      "[  25278 -159970  -60733]\n",
      "-------------------\n",
      "[ -40726  258330   98703]\n",
      "[  24834 -141300  -54756]\n",
      "[  25278 -159970  -60733]\n"
     ]
    }
   ],
   "source": [
    "A = A[:,0:3]\n",
    "print(A * A * A)\n",
    "print('-------------------')\n",
    "print(A ^ 3)"
   ]
  },
  {
   "cell_type": "code",
   "execution_count": 50,
   "metadata": {
    "vscode": {
     "languageId": "python"
    }
   },
   "outputs": [
    {
     "data": {
      "text/plain": [
       "(85, -570, -156)"
      ]
     },
     "execution_count": 50,
     "metadata": {},
     "output_type": "execute_result"
    }
   ],
   "source": [
    "v * A[:,:3]"
   ]
  },
  {
   "cell_type": "markdown",
   "metadata": {},
   "source": [
    "## Apply Gauss elimintation through one command"
   ]
  },
  {
   "cell_type": "code",
   "execution_count": 51,
   "metadata": {
    "vscode": {
     "languageId": "python"
    }
   },
   "outputs": [
    {
     "data": {
      "text/plain": [
       "(3201/40, -243/40, 234/5)"
      ]
     },
     "execution_count": 51,
     "metadata": {},
     "output_type": "execute_result"
    }
   ],
   "source": [
    "A = matrix(3,3, [3, 1, -5, 0, 8, 2 , 7, 45, -6]) \n",
    "b = vector([0, 45, 6])\n",
    "A\\b"
   ]
  },
  {
   "cell_type": "code",
   "execution_count": 52,
   "metadata": {
    "vscode": {
     "languageId": "python"
    }
   },
   "outputs": [
    {
     "data": {
      "text/plain": [
       "[ 3  1 -5  0]\n",
       "[ 0  8  2 45]\n",
       "[ 7 45 -6  6]"
      ]
     },
     "execution_count": 52,
     "metadata": {},
     "output_type": "execute_result"
    }
   ],
   "source": [
    "A.augment(b)"
   ]
  },
  {
   "cell_type": "code",
   "execution_count": 53,
   "metadata": {
    "vscode": {
     "languageId": "python"
    }
   },
   "outputs": [
    {
     "name": "stdout",
     "output_type": "stream",
     "text": [
      "[  23/20   73/40   -7/20]\n",
      "[  -7/60 -17/120    1/20]\n",
      "[   7/15   16/15    -1/5]\n",
      "-------------------\n",
      "[1 0 0]\n",
      "[0 1 0]\n",
      "[0 0 1]\n",
      "-------------------\n",
      "[1 0 0]\n",
      "[0 1 0]\n",
      "[0 0 1]\n"
     ]
    }
   ],
   "source": [
    "Ainv = A.inverse() #A^(-1)\n",
    "print(Ainv)\n",
    "print('-------------------')\n",
    "print(Ainv * A)\n",
    "print('-------------------')\n",
    "print(A * Ainv)"
   ]
  },
  {
   "cell_type": "markdown",
   "metadata": {},
   "source": [
    "### Different kind of solutions under both matrix definition and system of equations"
   ]
  },
  {
   "cell_type": "code",
   "execution_count": 54,
   "metadata": {
    "vscode": {
     "languageId": "python"
    }
   },
   "outputs": [
    {
     "data": {
      "text/plain": [
       "[{x: 528/215, y: 951/215, z: 507/215}]"
      ]
     },
     "execution_count": 54,
     "metadata": {},
     "output_type": "execute_result"
    }
   ],
   "source": [
    "var('x y z')\n",
    "eq1 = 3*x + 1*y -5*z == 0\n",
    "eq2 = 8*x + 2*y + 7*z == 45\n",
    "eq3 = 4*x + 5*y - 11*z == 6\n",
    "solve( [eq1, eq2, eq3] , x, y, z, solution_dict = True)"
   ]
  },
  {
   "cell_type": "code",
   "execution_count": 55,
   "metadata": {
    "vscode": {
     "languageId": "python"
    }
   },
   "outputs": [
    {
     "data": {
      "text/plain": [
       "[{x: -2*r1 + 2, y: -r1 - 1, z: r1}]"
      ]
     },
     "execution_count": 55,
     "metadata": {},
     "output_type": "execute_result"
    }
   ],
   "source": [
    "var('x y z')\n",
    "eq1 = 1*x + 2*y + 4*z == 0\n",
    "eq2 = -1*x + 3*y + 1*z == -5\n",
    "eq3 = 2*x + 1*y + 5*z == 3\n",
    "solve([eq1, eq2, eq3], x, y, z, solution_dict = True)"
   ]
  },
  {
   "cell_type": "code",
   "execution_count": 56,
   "metadata": {
    "vscode": {
     "languageId": "python"
    }
   },
   "outputs": [
    {
     "data": {
      "text/plain": [
       "(0, 1)"
      ]
     },
     "execution_count": 56,
     "metadata": {},
     "output_type": "execute_result"
    }
   ],
   "source": [
    "C.pivot_rows()"
   ]
  },
  {
   "cell_type": "code",
   "execution_count": 57,
   "metadata": {
    "vscode": {
     "languageId": "python"
    }
   },
   "outputs": [
    {
     "data": {
      "text/plain": [
       "()"
      ]
     },
     "execution_count": 57,
     "metadata": {},
     "output_type": "execute_result"
    }
   ],
   "source": [
    "C.nonpivots()"
   ]
  },
  {
   "cell_type": "markdown",
   "metadata": {},
   "source": [
    "### Gauss elimination for inverse of A"
   ]
  },
  {
   "cell_type": "code",
   "execution_count": 58,
   "metadata": {
    "vscode": {
     "languageId": "python"
    }
   },
   "outputs": [
    {
     "name": "stdout",
     "output_type": "stream",
     "text": [
      "------------test---------------\n",
      "[ 1  1 -2]\n",
      "[ 2  2  1]\n",
      "[ 4 -1  2]\n",
      "------------Augmented with Identity matrix---------------\n",
      "[ 1  1 -2  1  0  0]\n",
      "[ 2  2  1  0  1  0]\n",
      "[ 4 -1  2  0  0  1]\n",
      "------------Gauss Jordan---------------\n",
      "[   1    0    0  1/5    0  1/5]\n",
      "[   0    1    0    0  2/5 -1/5]\n",
      "[   0    0    1 -2/5  1/5    0]\n",
      "------------Verification---------------\n",
      "[ 1/5    0  1/5]\n",
      "[   0  2/5 -1/5]\n",
      "[-2/5  1/5    0]\n"
     ]
    }
   ],
   "source": [
    "I = identity_matrix(3)\n",
    "\n",
    "test = matrix(3,3, [1,1,-2,2,2,1,4,-1,2])\n",
    "\n",
    "C = test.augment(I)\n",
    "\n",
    "print('------------test---------------')\n",
    "print(test)\n",
    "print('------------Augmented with Identity matrix---------------')\n",
    "print(C)\n",
    "print('------------Gauss Jordan---------------')\n",
    "print(C.rref())\n",
    "print('------------Verification---------------')\n",
    "print(test.inverse())"
   ]
  },
  {
   "cell_type": "code",
   "execution_count": 59,
   "metadata": {
    "vscode": {
     "languageId": "python"
    }
   },
   "outputs": [
    {
     "name": "stdout",
     "output_type": "stream",
     "text": [
      "[ 1/5    0  1/5]\n",
      "[   0  2/5 -1/5]\n",
      "[-2/5  1/5    0]\n"
     ]
    }
   ],
   "source": [
    "print(test.inverse())"
   ]
  },
  {
   "cell_type": "code",
   "execution_count": 60,
   "metadata": {
    "vscode": {
     "languageId": "python"
    }
   },
   "outputs": [
    {
     "data": {
      "text/plain": [
       "25"
      ]
     },
     "execution_count": 60,
     "metadata": {},
     "output_type": "execute_result"
    }
   ],
   "source": [
    "det(test)"
   ]
  },
  {
   "cell_type": "code",
   "execution_count": 61,
   "metadata": {
    "vscode": {
     "languageId": "python"
    }
   },
   "outputs": [
    {
     "data": {
      "text/plain": [
       "3"
      ]
     },
     "execution_count": 61,
     "metadata": {},
     "output_type": "execute_result"
    }
   ],
   "source": [
    "rank(test) #test.rank()"
   ]
  },
  {
   "cell_type": "markdown",
   "metadata": {},
   "source": [
    "## Introduce vectors"
   ]
  },
  {
   "cell_type": "code",
   "execution_count": 62,
   "metadata": {
    "vscode": {
     "languageId": "python"
    }
   },
   "outputs": [
    {
     "name": "stdout",
     "output_type": "stream",
     "text": [
      "(-14, -242, -11)\n",
      "(43, -34, -56)\n"
     ]
    }
   ],
   "source": [
    "v = vector([7, -3, -5])\n",
    "print(v * A)\n",
    "print(A * v)"
   ]
  },
  {
   "cell_type": "markdown",
   "metadata": {},
   "source": [
    "### Parametric matrix"
   ]
  },
  {
   "cell_type": "code",
   "execution_count": 63,
   "metadata": {
    "vscode": {
     "languageId": "python"
    }
   },
   "outputs": [
    {
     "name": "stdout",
     "output_type": "stream",
     "text": [
      "[ 1  1 -1| 1]\n",
      "[ 2  0  4| 1]\n",
      "[ 3 -1  k| k]\n",
      "[                       1                        0                        0|-2*(k - 1)/(k - 9) + 1/2]\n",
      "[                       0                        1                        0| 3*(k - 1)/(k - 9) + 1/2]\n",
      "[                       0                        0                        1|         (k - 1)/(k - 9)]\n",
      "-2*k + 18\n"
     ]
    }
   ],
   "source": [
    "var('k')\n",
    "A = Matrix(SR,[[1,1,-1],[2,0,4],[3,-1,k]])\n",
    "b = vector(SR, [1, 1, k])\n",
    "A_aug = A.augment(b, subdivide=True); print(A_aug)\n",
    "print(A_aug.rref())\n",
    "print(det(A))"
   ]
  }
 ],
 "metadata": {
  "kernelspec": {
   "display_name": "SageMath 9.5",
   "language": "sage",
   "name": "sagemath"
  },
  "language_info": {
   "codemirror_mode": {
    "name": "ipython",
    "version": 3
   },
   "file_extension": ".py",
   "mimetype": "text/x-python",
   "name": "sage",
   "nbconvert_exporter": "python",
   "pygments_lexer": "ipython3",
   "version": "3.11.4"
  }
 },
 "nbformat": 4,
 "nbformat_minor": 4
}
