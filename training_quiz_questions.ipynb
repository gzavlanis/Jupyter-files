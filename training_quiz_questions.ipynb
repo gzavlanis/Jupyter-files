{
 "cells": [
  {
   "cell_type": "markdown",
   "metadata": {},
   "source": [
    "# Training quiz questions\n",
    "\n",
    "## Unit 3 - **Matrix Decompositions**"
   ]
  },
  {
   "cell_type": "markdown",
   "metadata": {},
   "source": [
    "### Question 1"
   ]
  },
  {
   "cell_type": "code",
   "execution_count": 96,
   "metadata": {},
   "outputs": [
    {
     "data": {
      "text/html": [
       "<html>\\(\\displaystyle \\left(\\begin{array}{rrr}\n",
       "\\cos\\left(x\\right) & 0 & \\sin\\left(x\\right) \\\\\n",
       "0 & 1 & 0 \\\\\n",
       "-\\sin\\left(x\\right) & 0 & \\cos\\left(x\\right)\n",
       "\\end{array}\\right)\\)</html>"
      ],
      "text/latex": [
       "$\\displaystyle \\left(\\begin{array}{rrr}\n",
       "\\cos\\left(x\\right) & 0 & \\sin\\left(x\\right) \\\\\n",
       "0 & 1 & 0 \\\\\n",
       "-\\sin\\left(x\\right) & 0 & \\cos\\left(x\\right)\n",
       "\\end{array}\\right)$"
      ],
      "text/plain": [
       "[ cos(x)       0  sin(x)]\n",
       "[      0       1       0]\n",
       "[-sin(x)       0  cos(x)]"
      ]
     },
     "execution_count": 96,
     "metadata": {},
     "output_type": "execute_result"
    }
   ],
   "source": [
    "%display latex\n",
    "x = var('x')\n",
    "\n",
    "A = matrix([[cos(x), 0, sin(x)], [0, 1, 0], [-sin(x), 0, cos(x)]]); A"
   ]
  },
  {
   "cell_type": "code",
   "execution_count": 97,
   "metadata": {},
   "outputs": [
    {
     "data": {
      "text/html": [
       "<html>\\(\\displaystyle \\cos\\left(x\\right)^{2} + \\sin\\left(x\\right)^{2}\\)</html>"
      ],
      "text/latex": [
       "$\\displaystyle \\cos\\left(x\\right)^{2} + \\sin\\left(x\\right)^{2}$"
      ],
      "text/plain": [
       "cos(x)^2 + sin(x)^2"
      ]
     },
     "execution_count": 97,
     "metadata": {},
     "output_type": "execute_result"
    }
   ],
   "source": [
    "det(A)"
   ]
  },
  {
   "cell_type": "markdown",
   "metadata": {},
   "source": [
    "### Question 2"
   ]
  },
  {
   "cell_type": "code",
   "execution_count": 98,
   "metadata": {},
   "outputs": [
    {
     "data": {
      "text/html": [
       "<html>\\(\\displaystyle \\left(\\begin{array}{rrr}\n",
       "1 & -1 & 1 \\\\\n",
       "1 & 1 & -1 \\\\\n",
       "1 & 1 & 1\n",
       "\\end{array}\\right)\\)</html>"
      ],
      "text/latex": [
       "$\\displaystyle \\left(\\begin{array}{rrr}\n",
       "1 & -1 & 1 \\\\\n",
       "1 & 1 & -1 \\\\\n",
       "1 & 1 & 1\n",
       "\\end{array}\\right)$"
      ],
      "text/plain": [
       "[ 1 -1  1]\n",
       "[ 1  1 -1]\n",
       "[ 1  1  1]"
      ]
     },
     "execution_count": 98,
     "metadata": {},
     "output_type": "execute_result"
    }
   ],
   "source": [
    "a = vector(QQ, [1, 1, 1])\n",
    "b = vector(QQ, [-1, 1, 1])\n",
    "c = vector(QQ, [1, -1, 1])\n",
    "\n",
    "A = column_matrix([a, b, c]); A"
   ]
  },
  {
   "cell_type": "code",
   "execution_count": 99,
   "metadata": {},
   "outputs": [
    {
     "data": {
      "text/html": [
       "<html>\\(\\displaystyle 4\\)</html>"
      ],
      "text/latex": [
       "$\\displaystyle 4$"
      ],
      "text/plain": [
       "4"
      ]
     },
     "execution_count": 99,
     "metadata": {},
     "output_type": "execute_result"
    }
   ],
   "source": [
    "det(A)"
   ]
  },
  {
   "cell_type": "markdown",
   "metadata": {},
   "source": [
    "### Question 3"
   ]
  },
  {
   "cell_type": "code",
   "execution_count": 100,
   "metadata": {},
   "outputs": [
    {
     "data": {
      "text/html": [
       "<html>\\(\\displaystyle \\left(\\begin{array}{rrr}\n",
       "1 & 3 & 2 \\\\\n",
       "2 & 1 & 3 \\\\\n",
       "3 & 2 & k\n",
       "\\end{array}\\right)\\)</html>"
      ],
      "text/latex": [
       "$\\displaystyle \\left(\\begin{array}{rrr}\n",
       "1 & 3 & 2 \\\\\n",
       "2 & 1 & 3 \\\\\n",
       "3 & 2 & k\n",
       "\\end{array}\\right)$"
      ],
      "text/plain": [
       "[1 3 2]\n",
       "[2 1 3]\n",
       "[3 2 k]"
      ]
     },
     "execution_count": 100,
     "metadata": {},
     "output_type": "execute_result"
    }
   ],
   "source": [
    "k = var('k')\n",
    "\n",
    "a = vector([1, 2, 3])\n",
    "b = vector([3, 1, 2])\n",
    "c = vector([2, 3, k])\n",
    "\n",
    "A = column_matrix([a, b, c]); A"
   ]
  },
  {
   "cell_type": "code",
   "execution_count": 101,
   "metadata": {},
   "outputs": [
    {
     "data": {
      "text/html": [
       "<html>\\(\\displaystyle -5 \\, k + 23\\)</html>"
      ],
      "text/latex": [
       "$\\displaystyle -5 \\, k + 23$"
      ],
      "text/plain": [
       "-5*k + 23"
      ]
     },
     "execution_count": 101,
     "metadata": {},
     "output_type": "execute_result"
    }
   ],
   "source": [
    "P = det(A); P"
   ]
  },
  {
   "cell_type": "markdown",
   "metadata": {},
   "source": [
    "### Question 4"
   ]
  },
  {
   "cell_type": "code",
   "execution_count": 102,
   "metadata": {},
   "outputs": [
    {
     "data": {
      "text/html": [
       "<html>\\(\\displaystyle \\left(\\begin{array}{rrrrrrrr}\n",
       "8 & 0 & 0 & 0 & 0 & 0 & 0 & 0 \\\\\n",
       "0 & 8 & 0 & 0 & 0 & 0 & 0 & 0 \\\\\n",
       "0 & 0 & 8 & 0 & 0 & 0 & 0 & 0 \\\\\n",
       "0 & 0 & 0 & 8 & 0 & 0 & 0 & 0 \\\\\n",
       "0 & 0 & 0 & 0 & 8 & 0 & 0 & 0 \\\\\n",
       "0 & 0 & 0 & 0 & 0 & 8 & 0 & 0 \\\\\n",
       "0 & 0 & 0 & 0 & 0 & 0 & 8 & 0 \\\\\n",
       "0 & 0 & 0 & 0 & 0 & 0 & 0 & 8\n",
       "\\end{array}\\right)\\)</html>"
      ],
      "text/latex": [
       "$\\displaystyle \\left(\\begin{array}{rrrrrrrr}\n",
       "8 & 0 & 0 & 0 & 0 & 0 & 0 & 0 \\\\\n",
       "0 & 8 & 0 & 0 & 0 & 0 & 0 & 0 \\\\\n",
       "0 & 0 & 8 & 0 & 0 & 0 & 0 & 0 \\\\\n",
       "0 & 0 & 0 & 8 & 0 & 0 & 0 & 0 \\\\\n",
       "0 & 0 & 0 & 0 & 8 & 0 & 0 & 0 \\\\\n",
       "0 & 0 & 0 & 0 & 0 & 8 & 0 & 0 \\\\\n",
       "0 & 0 & 0 & 0 & 0 & 0 & 8 & 0 \\\\\n",
       "0 & 0 & 0 & 0 & 0 & 0 & 0 & 8\n",
       "\\end{array}\\right)$"
      ],
      "text/plain": [
       "[8 0 0 0 0 0 0 0]\n",
       "[0 8 0 0 0 0 0 0]\n",
       "[0 0 8 0 0 0 0 0]\n",
       "[0 0 0 8 0 0 0 0]\n",
       "[0 0 0 0 8 0 0 0]\n",
       "[0 0 0 0 0 8 0 0]\n",
       "[0 0 0 0 0 0 8 0]\n",
       "[0 0 0 0 0 0 0 8]"
      ]
     },
     "execution_count": 102,
     "metadata": {},
     "output_type": "execute_result"
    }
   ],
   "source": [
    "A3 = 8*identity_matrix(8, 8); A3"
   ]
  },
  {
   "cell_type": "code",
   "execution_count": 103,
   "metadata": {},
   "outputs": [
    {
     "data": {
      "text/html": [
       "<html>\\(\\displaystyle \\left(16777216, 256\\right)\\)</html>"
      ],
      "text/latex": [
       "$\\displaystyle \\left(16777216, 256\\right)$"
      ],
      "text/plain": [
       "(16777216, 256)"
      ]
     },
     "execution_count": 103,
     "metadata": {},
     "output_type": "execute_result"
    }
   ],
   "source": [
    "det(A3), det(A3).nth_root(3)"
   ]
  },
  {
   "cell_type": "markdown",
   "metadata": {},
   "source": [
    "### Question 5"
   ]
  },
  {
   "cell_type": "code",
   "execution_count": 104,
   "metadata": {},
   "outputs": [
    {
     "data": {
      "text/html": [
       "<html>\\(\\displaystyle \\left(\\begin{array}{rr}\n",
       "a & b \\\\\n",
       "c & d\n",
       "\\end{array}\\right)\\)</html>"
      ],
      "text/latex": [
       "$\\displaystyle \\left(\\begin{array}{rr}\n",
       "a & b \\\\\n",
       "c & d\n",
       "\\end{array}\\right)$"
      ],
      "text/plain": [
       "[a b]\n",
       "[c d]"
      ]
     },
     "execution_count": 104,
     "metadata": {},
     "output_type": "execute_result"
    }
   ],
   "source": [
    "a, b, c, d = var('a b c d')\n",
    "\n",
    "A = matrix([[a, b], [c, d]]); A"
   ]
  },
  {
   "cell_type": "code",
   "execution_count": 105,
   "metadata": {},
   "outputs": [
    {
     "data": {
      "text/html": [
       "<html>\\(\\displaystyle -b c + a d\\)</html>"
      ],
      "text/latex": [
       "$\\displaystyle -b c + a d$"
      ],
      "text/plain": [
       "-b*c + a*d"
      ]
     },
     "execution_count": 105,
     "metadata": {},
     "output_type": "execute_result"
    }
   ],
   "source": [
    "det(A)"
   ]
  },
  {
   "cell_type": "code",
   "execution_count": 106,
   "metadata": {},
   "outputs": [
    {
     "data": {
      "text/html": [
       "<html>\\(\\displaystyle \\left(\\begin{array}{rr}\n",
       "c & d \\\\\n",
       "a & b\n",
       "\\end{array}\\right)\\)</html>"
      ],
      "text/latex": [
       "$\\displaystyle \\left(\\begin{array}{rr}\n",
       "c & d \\\\\n",
       "a & b\n",
       "\\end{array}\\right)$"
      ],
      "text/plain": [
       "[c d]\n",
       "[a b]"
      ]
     },
     "execution_count": 106,
     "metadata": {},
     "output_type": "execute_result"
    }
   ],
   "source": [
    "B = matrix([[c, d], [a, b]]); B"
   ]
  },
  {
   "cell_type": "code",
   "execution_count": 107,
   "metadata": {},
   "outputs": [
    {
     "data": {
      "text/html": [
       "<html>\\(\\displaystyle b c - a d\\)</html>"
      ],
      "text/latex": [
       "$\\displaystyle b c - a d$"
      ],
      "text/plain": [
       "b*c - a*d"
      ]
     },
     "execution_count": 107,
     "metadata": {},
     "output_type": "execute_result"
    }
   ],
   "source": [
    "det(B)"
   ]
  },
  {
   "cell_type": "markdown",
   "metadata": {},
   "source": [
    "### Question 6"
   ]
  },
  {
   "cell_type": "code",
   "execution_count": 108,
   "metadata": {},
   "outputs": [
    {
     "data": {
      "text/html": [
       "<html>\\(\\displaystyle \\left(\\begin{array}{rr}\n",
       "0 & 1 \\\\\n",
       "1 & 1\n",
       "\\end{array}\\right)\\)</html>"
      ],
      "text/latex": [
       "$\\displaystyle \\left(\\begin{array}{rr}\n",
       "0 & 1 \\\\\n",
       "1 & 1\n",
       "\\end{array}\\right)$"
      ],
      "text/plain": [
       "[0 1]\n",
       "[1 1]"
      ]
     },
     "execution_count": 108,
     "metadata": {},
     "output_type": "execute_result"
    }
   ],
   "source": [
    "A = matrix([[0, 1], [1, 1]]); A"
   ]
  },
  {
   "cell_type": "code",
   "execution_count": 109,
   "metadata": {},
   "outputs": [
    {
     "data": {
      "text/html": [
       "<html>\\(\\displaystyle \\left(\\begin{array}{rr}\n",
       "1 & 2 \\\\\n",
       "2 & 3\n",
       "\\end{array}\\right)\\)</html>"
      ],
      "text/latex": [
       "$\\displaystyle \\left(\\begin{array}{rr}\n",
       "1 & 2 \\\\\n",
       "2 & 3\n",
       "\\end{array}\\right)$"
      ],
      "text/plain": [
       "[1 2]\n",
       "[2 3]"
      ]
     },
     "execution_count": 109,
     "metadata": {},
     "output_type": "execute_result"
    }
   ],
   "source": [
    "B = A^3; B"
   ]
  },
  {
   "cell_type": "code",
   "execution_count": 110,
   "metadata": {},
   "outputs": [
    {
     "data": {
      "text/html": [
       "<html>\\(\\displaystyle 4\\)</html>"
      ],
      "text/latex": [
       "$\\displaystyle 4$"
      ],
      "text/plain": [
       "4"
      ]
     },
     "execution_count": 110,
     "metadata": {},
     "output_type": "execute_result"
    }
   ],
   "source": [
    "B.trace()"
   ]
  },
  {
   "cell_type": "markdown",
   "metadata": {},
   "source": [
    "### Question 7"
   ]
  },
  {
   "cell_type": "code",
   "execution_count": 111,
   "metadata": {},
   "outputs": [
    {
     "data": {
      "text/html": [
       "<html>\\(\\displaystyle \\left(\\left(\\begin{array}{rrr}\n",
       "1 & 2 & 1 \\\\\n",
       "-1 & 1 & -1 \\\\\n",
       "-1 & -1 & 1\n",
       "\\end{array}\\right), \\left(\\begin{array}{rrr}\n",
       "2 & 3 & 1 \\\\\n",
       "-2 & 1 & 3 \\\\\n",
       "-3 & -1 & 1\n",
       "\\end{array}\\right)\\right)\\)</html>"
      ],
      "text/latex": [
       "$\\displaystyle \\left(\\left(\\begin{array}{rrr}\n",
       "1 & 2 & 1 \\\\\n",
       "-1 & 1 & -1 \\\\\n",
       "-1 & -1 & 1\n",
       "\\end{array}\\right), \\left(\\begin{array}{rrr}\n",
       "2 & 3 & 1 \\\\\n",
       "-2 & 1 & 3 \\\\\n",
       "-3 & -1 & 1\n",
       "\\end{array}\\right)\\right)$"
      ],
      "text/plain": [
       "(\n",
       "[ 1  2  1]  [ 2  3  1]\n",
       "[-1  1 -1]  [-2  1  3]\n",
       "[-1 -1  1], [-3 -1  1]\n",
       ")"
      ]
     },
     "execution_count": 111,
     "metadata": {},
     "output_type": "execute_result"
    }
   ],
   "source": [
    "B = matrix([[1, 2, 1], [-1, 1, -1], [-1, -1, 1]])\n",
    "C = matrix([[2, 3, 1], [-2, 1, 3], [-3, -1, 1]])\n",
    "B, C"
   ]
  },
  {
   "cell_type": "code",
   "execution_count": 112,
   "metadata": {},
   "outputs": [
    {
     "data": {
      "text/html": [
       "<html>\\(\\displaystyle \\left(\\begin{array}{rrr}\n",
       "2 & 5 & 1 \\\\\n",
       "-2 & 0 & 5 \\\\\n",
       "-5 & -3 & 0\n",
       "\\end{array}\\right)\\)</html>"
      ],
      "text/latex": [
       "$\\displaystyle \\left(\\begin{array}{rrr}\n",
       "2 & 5 & 1 \\\\\n",
       "-2 & 0 & 5 \\\\\n",
       "-5 & -3 & 0\n",
       "\\end{array}\\right)$"
      ],
      "text/plain": [
       "[ 2  5  1]\n",
       "[-2  0  5]\n",
       "[-5 -3  0]"
      ]
     },
     "execution_count": 112,
     "metadata": {},
     "output_type": "execute_result"
    }
   ],
   "source": [
    "A = B.T + 2*C - 3*identity_matrix(3, 3); A"
   ]
  },
  {
   "cell_type": "code",
   "execution_count": 113,
   "metadata": {},
   "outputs": [
    {
     "data": {
      "text/html": [
       "<html>\\(\\displaystyle 2\\)</html>"
      ],
      "text/latex": [
       "$\\displaystyle 2$"
      ],
      "text/plain": [
       "2"
      ]
     },
     "execution_count": 113,
     "metadata": {},
     "output_type": "execute_result"
    }
   ],
   "source": [
    "A.trace()"
   ]
  },
  {
   "cell_type": "markdown",
   "metadata": {},
   "source": [
    "### Question 9"
   ]
  },
  {
   "cell_type": "code",
   "execution_count": 3,
   "metadata": {},
   "outputs": [
    {
     "data": {
      "text/plain": [
       "[0 1 0]\n",
       "[0 0 1]\n",
       "[a b c]"
      ]
     },
     "execution_count": 3,
     "metadata": {},
     "output_type": "execute_result"
    }
   ],
   "source": [
    "a, b, c = var('a b c')\n",
    "\n",
    "C = matrix([[0, 1, 0], [0, 0, 1], [a, b, c]]); C"
   ]
  },
  {
   "cell_type": "code",
   "execution_count": 4,
   "metadata": {},
   "outputs": [
    {
     "data": {
      "text/plain": [
       "-c*x^2 + x^3 - b*x - a"
      ]
     },
     "execution_count": 4,
     "metadata": {},
     "output_type": "execute_result"
    }
   ],
   "source": [
    "P(x) = C.characteristic_polynomial(); P(x)"
   ]
  },
  {
   "cell_type": "code",
   "execution_count": 14,
   "metadata": {},
   "outputs": [],
   "source": [
    "eq1, eq2, eq3 = solve([P(x) == 0], x)"
   ]
  },
  {
   "cell_type": "code",
   "execution_count": 15,
   "metadata": {},
   "outputs": [
    {
     "data": {
      "text/plain": [
       "[a == 6, b == -11, c == 6, x == 1/6*2^(2/3)*(2*c^3 + 9*b*c + 27*a + 9*sqrt(-1/3*b^2*c^2 + 4/3*a*c^3 - 4/3*b^3 + 6*a*b*c + 9*a^2))^(1/3) + 1/3*2^(1/3)*(c^2 + 3*b)/(2*c^3 + 9*b*c + 27*a + 9*sqrt(-1/3*b^2*c^2 + 4/3*a*c^3 - 4/3*b^3 + 6*a*b*c + 9*a^2))^(1/3) + 1/3*c, x == -1/6*2^(1/3)*(c^2 + 3*b)*(I*sqrt(3) + 1)/(2*c^3 + 9*b*c + 27*a + 9*sqrt(-1/3*b^2*c^2 + 4/3*a*c^3 - 4/3*b^3 + 6*a*b*c + 9*a^2))^(1/3) - 1/12*2^(2/3)*(2*c^3 + 9*b*c + 27*a + 9*sqrt(-1/3*b^2*c^2 + 4/3*a*c^3 - 4/3*b^3 + 6*a*b*c + 9*a^2))^(1/3)*(-I*sqrt(3) + 1) + 1/3*c, x == -1/12*2^(2/3)*(2*c^3 + 9*b*c + 27*a + 9*sqrt(-1/3*b^2*c^2 + 4/3*a*c^3 - 4/3*b^3 + 6*a*b*c + 9*a^2))^(1/3)*(I*sqrt(3) + 1) - 1/6*2^(1/3)*(c^2 + 3*b)*(-I*sqrt(3) + 1)/(2*c^3 + 9*b*c + 27*a + 9*sqrt(-1/3*b^2*c^2 + 4/3*a*c^3 - 4/3*b^3 + 6*a*b*c + 9*a^2))^(1/3) + 1/3*c]"
      ]
     },
     "execution_count": 15,
     "metadata": {},
     "output_type": "execute_result"
    }
   ],
   "source": [
    "solve([eq1, eq2, eq3, a == 6, b== -11, c == 6], a, b, c, x)"
   ]
  }
 ],
 "metadata": {
  "kernelspec": {
   "display_name": "SageMath 10.0",
   "language": "sage",
   "name": "sagemath"
  },
  "language_info": {
   "codemirror_mode": {
    "name": "ipython",
    "version": 3
   },
   "file_extension": ".py",
   "mimetype": "text/x-python",
   "name": "python",
   "nbconvert_exporter": "python",
   "pygments_lexer": "ipython3",
   "version": "3.9.18"
  }
 },
 "nbformat": 4,
 "nbformat_minor": 2
}
