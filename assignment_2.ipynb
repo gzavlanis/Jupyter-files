{
 "cells": [
  {
   "cell_type": "markdown",
   "metadata": {},
   "source": [
    "# DAMA50: Mathematics for machine learning\n",
    "\n",
    "## Written assignment 2\n",
    "\n",
    "### Question 7\n",
    "\n",
    "a. We first create the vectors:"
   ]
  },
  {
   "cell_type": "code",
   "execution_count": 9,
   "metadata": {},
   "outputs": [],
   "source": [
    "%display latex"
   ]
  },
  {
   "cell_type": "code",
   "execution_count": 10,
   "metadata": {},
   "outputs": [
    {
     "data": {
      "text/html": [
       "<html>\\(\\displaystyle \\left(\\left(0,\\,-1,\\,2,\\,0,\\,2\\right), \\left(1,\\,-3,\\,1,\\,-1,\\,2\\right), \\left(-3,\\,4,\\,1,\\,2,\\,1\\right), \\left(-1,\\,-3,\\,5,\\,0,\\,7\\right)\\right)\\)</html>"
      ],
      "text/latex": [
       "$\\displaystyle \\left(\\left(0,\\,-1,\\,2,\\,0,\\,2\\right), \\left(1,\\,-3,\\,1,\\,-1,\\,2\\right), \\left(-3,\\,4,\\,1,\\,2,\\,1\\right), \\left(-1,\\,-3,\\,5,\\,0,\\,7\\right)\\right)$"
      ],
      "text/plain": [
       "((0, -1, 2, 0, 2), (1, -3, 1, -1, 2), (-3, 4, 1, 2, 1), (-1, -3, 5, 0, 7))"
      ]
     },
     "execution_count": 10,
     "metadata": {},
     "output_type": "execute_result"
    }
   ],
   "source": [
    "a = vector(QQ, [0, -1, 2, 0, 2])\n",
    "b = vector(QQ, [1, -3, 1, -1, 2])\n",
    "c = vector(QQ, [-3, 4, 1, 2, 1])\n",
    "d = vector(QQ, [-1, -3, 5, 0, 7])\n",
    "\n",
    "a, b, c, d"
   ]
  },
  {
   "cell_type": "markdown",
   "metadata": {},
   "source": [
    "After that, we check the linear independence:"
   ]
  },
  {
   "cell_type": "code",
   "execution_count": 11,
   "metadata": {},
   "outputs": [
    {
     "data": {
      "text/html": [
       "<html>\\(\\displaystyle \\left(\\begin{array}{rrrr}\n",
       "0 & 1 & -3 & -1 \\\\\n",
       "-1 & -3 & 4 & -3 \\\\\n",
       "2 & 1 & 1 & 5 \\\\\n",
       "0 & -1 & 2 & 0 \\\\\n",
       "2 & 2 & 1 & 7\n",
       "\\end{array}\\right)\\)</html>"
      ],
      "text/latex": [
       "$\\displaystyle \\left(\\begin{array}{rrrr}\n",
       "0 & 1 & -3 & -1 \\\\\n",
       "-1 & -3 & 4 & -3 \\\\\n",
       "2 & 1 & 1 & 5 \\\\\n",
       "0 & -1 & 2 & 0 \\\\\n",
       "2 & 2 & 1 & 7\n",
       "\\end{array}\\right)$"
      ],
      "text/plain": [
       "[ 0  1 -3 -1]\n",
       "[-1 -3  4 -3]\n",
       "[ 2  1  1  5]\n",
       "[ 0 -1  2  0]\n",
       "[ 2  2  1  7]"
      ]
     },
     "execution_count": 11,
     "metadata": {},
     "output_type": "execute_result"
    }
   ],
   "source": [
    "# We form the matrix A = [a b c d]\n",
    "\n",
    "A = matrix([a, b, c, d]).T\n",
    "A"
   ]
  },
  {
   "cell_type": "code",
   "execution_count": 12,
   "metadata": {},
   "outputs": [
    {
     "data": {
      "text/html": [
       "<html>\\(\\displaystyle \\left(\\begin{array}{rrrr}\n",
       "1 & 0 & 0 & 1 \\\\\n",
       "0 & 1 & 0 & 2 \\\\\n",
       "0 & 0 & 1 & 1 \\\\\n",
       "0 & 0 & 0 & 0 \\\\\n",
       "0 & 0 & 0 & 0\n",
       "\\end{array}\\right)\\)</html>"
      ],
      "text/latex": [
       "$\\displaystyle \\left(\\begin{array}{rrrr}\n",
       "1 & 0 & 0 & 1 \\\\\n",
       "0 & 1 & 0 & 2 \\\\\n",
       "0 & 0 & 1 & 1 \\\\\n",
       "0 & 0 & 0 & 0 \\\\\n",
       "0 & 0 & 0 & 0\n",
       "\\end{array}\\right)$"
      ],
      "text/plain": [
       "[1 0 0 1]\n",
       "[0 1 0 2]\n",
       "[0 0 1 1]\n",
       "[0 0 0 0]\n",
       "[0 0 0 0]"
      ]
     },
     "execution_count": 12,
     "metadata": {},
     "output_type": "execute_result"
    }
   ],
   "source": [
    "# Then we transform A in Reduced Row Echelon Form:\n",
    "\n",
    "A.rref()"
   ]
  },
  {
   "cell_type": "markdown",
   "metadata": {},
   "source": [
    "As we can see we have the following system of equations:"
   ]
  },
  {
   "cell_type": "code",
   "execution_count": 15,
   "metadata": {},
   "outputs": [
    {
     "data": {
      "text/html": [
       "<html>\\(\\displaystyle \\left[\\left[x_{1} = -r_{3}, x_{2} = -2 \\, r_{3}, x_{3} = -r_{3}, x_{4} = r_{3}\\right]\\right]\\)</html>"
      ],
      "text/latex": [
       "$\\displaystyle \\left[\\left[x_{1} = -r_{3}, x_{2} = -2 \\, r_{3}, x_{3} = -r_{3}, x_{4} = r_{3}\\right]\\right]$"
      ],
      "text/plain": [
       "[[x1 == -r3, x2 == -2*r3, x3 == -r3, x4 == r3]]"
      ]
     },
     "execution_count": 15,
     "metadata": {},
     "output_type": "execute_result"
    }
   ],
   "source": [
    "x1, x2, x3, x4 = var('x1 x2 x3 x4')\n",
    "\n",
    "eq1 = x1 + x4 == 0\n",
    "eq2 = x2 + 2*x4 == 0\n",
    "eq3 = x3 + x4 == 0\n",
    "\n",
    "solve([eq1, eq2, eq3], x1, x2, x3, x4)"
   ]
  },
  {
   "cell_type": "markdown",
   "metadata": {},
   "source": [
    "We can see that for every non-zero value of r3, the system has infinitely many solutions. Thus, the vectors are linear dependent."
   ]
  },
  {
   "cell_type": "markdown",
   "metadata": {},
   "source": [
    "b. "
   ]
  }
 ],
 "metadata": {
  "kernelspec": {
   "display_name": "SageMath 10.0",
   "language": "sage",
   "name": "sagemath"
  },
  "language_info": {
   "codemirror_mode": {
    "name": "ipython",
    "version": 3
   },
   "file_extension": ".py",
   "mimetype": "text/x-python",
   "name": "python",
   "nbconvert_exporter": "python",
   "pygments_lexer": "ipython3",
   "version": "3.9.18"
  }
 },
 "nbformat": 4,
 "nbformat_minor": 2
}
