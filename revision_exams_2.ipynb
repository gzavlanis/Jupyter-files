{
 "cells": [
  {
   "cell_type": "markdown",
   "metadata": {},
   "source": [
    "# Revision for exams\n",
    "\n",
    "## Solutions of previous years assignments 2021-2022\n",
    "\n",
    "### Unit 1\n",
    "\n",
    "**Problem 7**\n",
    "\n"
   ]
  },
  {
   "cell_type": "markdown",
   "metadata": {},
   "source": [
    "The vectors are linearly dependent when the system $λ_1α+λ_2β+λ_3γ=0$ has solutions with $λi\\neq0, i=1,2,3$\\\n",
    "This is equivalen to having non trivial solutions to the system $M.λ=0$ where $M=[α,β,γ]$ and $λ=[λ_1,λ_2,λ_3]$,\\\n",
    "which is true only when $det(M)=0$."
   ]
  },
  {
   "cell_type": "code",
   "execution_count": 5,
   "metadata": {},
   "outputs": [
    {
     "data": {
      "text/html": [
       "<html><script type=\"math/tex; mode=display\">\\newcommand{\\Bold}[1]{\\mathbf{#1}}\\left(\\left(1,\\,k,\\,3\\right), \\left(-1,\\,1,\\,1\\right), \\left(7,\\,3,\\,k\\right)\\right)</script></html>"
      ],
      "text/latex": [
       "$$\\newcommand{\\Bold}[1]{\\mathbf{#1}}\\left(\\left(1,\\,k,\\,3\\right), \\left(-1,\\,1,\\,1\\right), \\left(7,\\,3,\\,k\\right)\\right)$$"
      ],
      "text/plain": [
       "((1, k, 3), (-1, 1, 1), (7, 3, k))"
      ]
     },
     "execution_count": 5,
     "metadata": {},
     "output_type": "execute_result"
    }
   ],
   "source": [
    "%display latex\n",
    "\n",
    "k = var('k')\n",
    "a = vector([1, k, 3])\n",
    "b = vector([-1, 1, 1])\n",
    "c = vector([7, 3, k])\n",
    "\n",
    "a, b, c"
   ]
  },
  {
   "cell_type": "code",
   "execution_count": 4,
   "metadata": {},
   "outputs": [
    {
     "data": {
      "text/html": [
       "<html><script type=\"math/tex; mode=display\">\\newcommand{\\Bold}[1]{\\mathbf{#1}}\\left(\\begin{array}{rrr}\n",
       "1 & k & 3 \\\\\n",
       "-1 & 1 & 1 \\\\\n",
       "7 & 3 & k\n",
       "\\end{array}\\right)</script></html>"
      ],
      "text/latex": [
       "$$\\newcommand{\\Bold}[1]{\\mathbf{#1}}\\left(\\begin{array}{rrr}\n",
       "1 & k & 3 \\\\\n",
       "-1 & 1 & 1 \\\\\n",
       "7 & 3 & k\n",
       "\\end{array}\\right)$$"
      ],
      "text/plain": [
       "[ 1  k  3]\n",
       "[-1  1  1]\n",
       "[ 7  3  k]"
      ]
     },
     "execution_count": 4,
     "metadata": {},
     "output_type": "execute_result"
    }
   ],
   "source": [
    "m = matrix([a, b, c]); m"
   ]
  },
  {
   "cell_type": "code",
   "execution_count": 7,
   "metadata": {},
   "outputs": [
    {
     "data": {
      "text/html": [
       "<html><script type=\"math/tex; mode=display\">\\newcommand{\\Bold}[1]{\\mathbf{#1}}\\left[k = 3, k = \\left(-11\\right)\\right]</script></html>"
      ],
      "text/latex": [
       "$$\\newcommand{\\Bold}[1]{\\mathbf{#1}}\\left[k = 3, k = \\left(-11\\right)\\right]$$"
      ],
      "text/plain": [
       "[k == 3, k == -11]"
      ]
     },
     "execution_count": 7,
     "metadata": {},
     "output_type": "execute_result"
    }
   ],
   "source": [
    "solve(det(m) == 0, k)"
   ]
  },
  {
   "cell_type": "markdown",
   "metadata": {},
   "source": [
    "**Problem 8**"
   ]
  },
  {
   "cell_type": "code",
   "execution_count": 8,
   "metadata": {},
   "outputs": [
    {
     "data": {
      "text/html": [
       "<html><script type=\"math/tex; mode=display\">\\newcommand{\\Bold}[1]{\\mathbf{#1}}7</script></html>"
      ],
      "text/latex": [
       "$$\\newcommand{\\Bold}[1]{\\mathbf{#1}}7$$"
      ],
      "text/plain": [
       "7"
      ]
     },
     "execution_count": 8,
     "metadata": {},
     "output_type": "execute_result"
    }
   ],
   "source": [
    "k = 3744\n",
    "l = 1 + (k % 7); l"
   ]
  },
  {
   "cell_type": "markdown",
   "metadata": {},
   "source": [
    "(a)"
   ]
  },
  {
   "cell_type": "code",
   "execution_count": 9,
   "metadata": {},
   "outputs": [
    {
     "data": {
      "text/html": [
       "<html><script type=\"math/tex; mode=display\">\\newcommand{\\Bold}[1]{\\mathbf{#1}}\\left[\\left[x = \\left(\\frac{96}{137}\\right), y = \\left(\\frac{66}{137}\\right), z = \\left(-\\frac{13}{137}\\right)\\right]\\right]</script></html>"
      ],
      "text/latex": [
       "$$\\newcommand{\\Bold}[1]{\\mathbf{#1}}\\left[\\left[x = \\left(\\frac{96}{137}\\right), y = \\left(\\frac{66}{137}\\right), z = \\left(-\\frac{13}{137}\\right)\\right]\\right]$$"
      ],
      "text/plain": [
       "[[x == (96/137), y == (66/137), z == (-13/137)]]"
      ]
     },
     "execution_count": 9,
     "metadata": {},
     "output_type": "execute_result"
    }
   ],
   "source": [
    "x, y, z = var('x, y, z')\n",
    "solve([x+2*y+7*z == 1, 3*x+l*y+5*z == 5, -x+6*y+2*z == 2], [x, y, z])"
   ]
  },
  {
   "cell_type": "markdown",
   "metadata": {},
   "source": [
    "(b)"
   ]
  },
  {
   "cell_type": "code",
   "execution_count": 10,
   "metadata": {},
   "outputs": [
    {
     "data": {
      "text/html": [
       "<html><script type=\"math/tex; mode=display\">\\newcommand{\\Bold}[1]{\\mathbf{#1}}\\left(\\begin{array}{rrr}\n",
       "1 & 2 & 7 \\\\\n",
       "3 & 7 & 5 \\\\\n",
       "-1 & 6 & 2\n",
       "\\end{array}\\right)</script></html>"
      ],
      "text/latex": [
       "$$\\newcommand{\\Bold}[1]{\\mathbf{#1}}\\left(\\begin{array}{rrr}\n",
       "1 & 2 & 7 \\\\\n",
       "3 & 7 & 5 \\\\\n",
       "-1 & 6 & 2\n",
       "\\end{array}\\right)$$"
      ],
      "text/plain": [
       "[ 1  2  7]\n",
       "[ 3  7  5]\n",
       "[-1  6  2]"
      ]
     },
     "execution_count": 10,
     "metadata": {},
     "output_type": "execute_result"
    }
   ],
   "source": [
    "m = matrix(QQ, [[1, 2, 7], [3, l, 5], [-1, 6, 2]]); m"
   ]
  },
  {
   "cell_type": "code",
   "execution_count": 11,
   "metadata": {},
   "outputs": [
    {
     "data": {
      "text/html": [
       "<html><script type=\"math/tex; mode=display\">\\newcommand{\\Bold}[1]{\\mathbf{#1}}\\left(\\frac{96}{137},\\,\\frac{66}{137},\\,-\\frac{13}{137}\\right)</script></html>"
      ],
      "text/latex": [
       "$$\\newcommand{\\Bold}[1]{\\mathbf{#1}}\\left(\\frac{96}{137},\\,\\frac{66}{137},\\,-\\frac{13}{137}\\right)$$"
      ],
      "text/plain": [
       "(96/137, 66/137, -13/137)"
      ]
     },
     "execution_count": 11,
     "metadata": {},
     "output_type": "execute_result"
    }
   ],
   "source": [
    "u = vector(QQ, [1, 5, 2])\n",
    "m^(-1)*u"
   ]
  },
  {
   "cell_type": "markdown",
   "metadata": {},
   "source": [
    "(c)"
   ]
  },
  {
   "cell_type": "code",
   "execution_count": 14,
   "metadata": {},
   "outputs": [
    {
     "data": {
      "text/html": [
       "<html><script type=\"math/tex; mode=display\">\\newcommand{\\Bold}[1]{\\mathbf{#1}}\\left(\\begin{array}{rrr|r}\n",
       "1 & 2 & 7 & 1 \\\\\n",
       "3 & 7 & 5 & 5 \\\\\n",
       "-1 & 6 & 2 & 2\n",
       "\\end{array}\\right)</script></html>"
      ],
      "text/latex": [
       "$$\\newcommand{\\Bold}[1]{\\mathbf{#1}}\\left(\\begin{array}{rrr|r}\n",
       "1 & 2 & 7 & 1 \\\\\n",
       "3 & 7 & 5 & 5 \\\\\n",
       "-1 & 6 & 2 & 2\n",
       "\\end{array}\\right)$$"
      ],
      "text/plain": [
       "[ 1  2  7| 1]\n",
       "[ 3  7  5| 5]\n",
       "[-1  6  2| 2]"
      ]
     },
     "execution_count": 14,
     "metadata": {},
     "output_type": "execute_result"
    }
   ],
   "source": [
    "mu = m.augment(u, subdivide = True); mu"
   ]
  },
  {
   "cell_type": "code",
   "execution_count": 15,
   "metadata": {},
   "outputs": [
    {
     "data": {
      "text/html": [
       "<html><script type=\"math/tex; mode=display\">\\newcommand{\\Bold}[1]{\\mathbf{#1}}\\left(\\begin{array}{rrr|r}\n",
       "1 & 0 & 0 & \\frac{96}{137} \\\\\n",
       "0 & 1 & 0 & \\frac{66}{137} \\\\\n",
       "0 & 0 & 1 & -\\frac{13}{137}\n",
       "\\end{array}\\right)</script></html>"
      ],
      "text/latex": [
       "$$\\newcommand{\\Bold}[1]{\\mathbf{#1}}\\left(\\begin{array}{rrr|r}\n",
       "1 & 0 & 0 & \\frac{96}{137} \\\\\n",
       "0 & 1 & 0 & \\frac{66}{137} \\\\\n",
       "0 & 0 & 1 & -\\frac{13}{137}\n",
       "\\end{array}\\right)$$"
      ],
      "text/plain": [
       "[      1       0       0| 96/137]\n",
       "[      0       1       0| 66/137]\n",
       "[      0       0       1|-13/137]"
      ]
     },
     "execution_count": 15,
     "metadata": {},
     "output_type": "execute_result"
    }
   ],
   "source": [
    "mu.echelon_form()"
   ]
  },
  {
   "cell_type": "markdown",
   "metadata": {},
   "source": [
    "### Unit 2\n",
    "\n",
    "**Problem 7**"
   ]
  },
  {
   "cell_type": "code",
   "execution_count": 31,
   "metadata": {},
   "outputs": [
    {
     "data": {
      "text/plain": [
       "[(2, 0, 1),\n",
       " (-4, 10, 0),\n",
       " (1, 6, 1),\n",
       " (-1, 1, 0),\n",
       " (0, -1, 0),\n",
       " (-1, -1, 0),\n",
       " (5, -3, 1),\n",
       " (5, 1, 0),\n",
       " (1, -1, -1),\n",
       " (2, -10, 10),\n",
       " (0, 2, 1),\n",
       " (-2, 3, -3),\n",
       " (1, -10, -1),\n",
       " (2, -1, 4),\n",
       " (1, 1, -1),\n",
       " (-5, -3, 39),\n",
       " (-1, 9, 1),\n",
       " (2, 3, 1),\n",
       " (1, 1, 1),\n",
       " (7, 1, -1)]"
      ]
     },
     "execution_count": 31,
     "metadata": {},
     "output_type": "execute_result"
    }
   ],
   "source": [
    "%display plain\n",
    "\n",
    "rvs = [vector(random_matrix(ZZ, 1, 3)) for i in range(20)]; rvs"
   ]
  },
  {
   "cell_type": "markdown",
   "metadata": {},
   "source": [
    "(a) The associated norms are:"
   ]
  },
  {
   "cell_type": "code",
   "execution_count": 32,
   "metadata": {},
   "outputs": [
    {
     "data": {
      "text/plain": [
       "[[2.236],\n",
       " [10.77],\n",
       " [6.164],\n",
       " [1.414],\n",
       " [1.000],\n",
       " [1.414],\n",
       " [5.916],\n",
       " [5.099],\n",
       " [1.732],\n",
       " [14.28],\n",
       " [2.236],\n",
       " [4.690],\n",
       " [10.10],\n",
       " [4.583],\n",
       " [1.732],\n",
       " [39.43],\n",
       " [9.110],\n",
       " [3.742],\n",
       " [1.732],\n",
       " [7.141]]"
      ]
     },
     "execution_count": 32,
     "metadata": {},
     "output_type": "execute_result"
    }
   ],
   "source": [
    "[[n(norm(x), digits = 4)] for x in rvs]"
   ]
  },
  {
   "cell_type": "markdown",
   "metadata": {},
   "source": [
    "(b) The angles (in rads)"
   ]
  },
  {
   "cell_type": "code",
   "execution_count": 24,
   "metadata": {},
   "outputs": [
    {
     "data": {
      "text/plain": [
       "(1/3*sqrt(3), 1/3*sqrt(3), 1/3*sqrt(3))"
      ]
     },
     "execution_count": 24,
     "metadata": {},
     "output_type": "execute_result"
    }
   ],
   "source": [
    "r = vector(ZZ, [1,1,1]) / sqrt(3); r"
   ]
  },
  {
   "cell_type": "code",
   "execution_count": 33,
   "metadata": {},
   "outputs": [
    {
     "data": {
      "text/plain": [
       "[0.6847,\n",
       " 1.243,\n",
       " 0.7238,\n",
       " 1.571,\n",
       " 2.186,\n",
       " 2.526,\n",
       " 1.274,\n",
       " 0.8239,\n",
       " 1.911,\n",
       " 1.490,\n",
       " 0.6847,\n",
       " 1.820,\n",
       " 2.179,\n",
       " 0.8893,\n",
       " 1.231,\n",
       " 1.100,\n",
       " 0.9639,\n",
       " 0.3876,\n",
       " 0.0000,\n",
       " 0.9693]"
      ]
     },
     "execution_count": 33,
     "metadata": {},
     "output_type": "execute_result"
    }
   ],
   "source": [
    "[n(arccos(r.dot_product(x)/norm(x)/norm(r)), digits =4) for x in rvs]"
   ]
  },
  {
   "cell_type": "markdown",
   "metadata": {},
   "source": [
    "(c) The projections are:"
   ]
  },
  {
   "cell_type": "code",
   "execution_count": 34,
   "metadata": {},
   "outputs": [
    {
     "data": {
      "text/plain": [
       "[(1, 1, 1),\n",
       " (2, 2, 2),\n",
       " (8/3, 8/3, 8/3),\n",
       " (0, 0, 0),\n",
       " (-1/3, -1/3, -1/3),\n",
       " (-2/3, -2/3, -2/3),\n",
       " (1, 1, 1),\n",
       " (2, 2, 2),\n",
       " (-1/3, -1/3, -1/3),\n",
       " (2/3, 2/3, 2/3),\n",
       " (1, 1, 1),\n",
       " (-2/3, -2/3, -2/3),\n",
       " (-10/3, -10/3, -10/3),\n",
       " (5/3, 5/3, 5/3),\n",
       " (1/3, 1/3, 1/3),\n",
       " (31/3, 31/3, 31/3),\n",
       " (3, 3, 3),\n",
       " (2, 2, 2),\n",
       " (1, 1, 1),\n",
       " (7/3, 7/3, 7/3)]"
      ]
     },
     "execution_count": 34,
     "metadata": {},
     "output_type": "execute_result"
    }
   ],
   "source": [
    "projs = [r.dot_product(x)*r/norm(r)^2 for x in rvs]; projs"
   ]
  },
  {
   "cell_type": "markdown",
   "metadata": {},
   "source": [
    "(d) The angles in degrees are:"
   ]
  },
  {
   "cell_type": "code",
   "execution_count": 35,
   "metadata": {},
   "outputs": [
    {
     "data": {
      "text/plain": [
       "[44.38,\n",
       " 18.43,\n",
       " 42.93,\n",
       " 0.0000,\n",
       " -33.08,\n",
       " -46.78,\n",
       " 16.77,\n",
       " 38.92,\n",
       " -19.10,\n",
       " 4.632,\n",
       " 44.38,\n",
       " -14.11,\n",
       " -32.75,\n",
       " 36.09,\n",
       " 19.10,\n",
       " 26.01,\n",
       " 32.68,\n",
       " 53.05,\n",
       " 57.30,\n",
       " 32.42]"
      ]
     },
     "execution_count": 35,
     "metadata": {},
     "output_type": "execute_result"
    }
   ],
   "source": [
    "[n((180/pi)*x.dot_product(r)/norm(x)/norm(r), digits = 4) for x in rvs]"
   ]
  },
  {
   "cell_type": "markdown",
   "metadata": {},
   "source": [
    "**Problem 8**"
   ]
  },
  {
   "cell_type": "code",
   "execution_count": null,
   "metadata": {},
   "outputs": [],
   "source": [
    "%display latex"
   ]
  },
  {
   "cell_type": "code",
   "execution_count": 37,
   "metadata": {},
   "outputs": [
    {
     "data": {
      "text/plain": [
       "[    2     1     1]\n",
       "[ -2/3   7/6   1/6]\n",
       "[-4/11 -4/11 12/11]"
      ]
     },
     "execution_count": 37,
     "metadata": {},
     "output_type": "execute_result"
    }
   ],
   "source": [
    "m = matrix(QQ, [[2,1,1],[1,2,1],[1,1,2]])\n",
    "g, s = m.gram_schmidt(); g"
   ]
  },
  {
   "cell_type": "code",
   "execution_count": 40,
   "metadata": {},
   "outputs": [
    {
     "data": {
      "text/plain": [
       "[(2, 1, 1), (-2/3, 7/6, 1/6), (-4/11, -4/11, 12/11)]"
      ]
     },
     "execution_count": 40,
     "metadata": {},
     "output_type": "execute_result"
    }
   ],
   "source": [
    "v1, v2, v3 = g\n",
    "[v1, v2, v3]"
   ]
  },
  {
   "cell_type": "code",
   "execution_count": 44,
   "metadata": {},
   "outputs": [
    {
     "data": {
      "text/plain": [
       "(0.817, 0.408, 0.408)"
      ]
     },
     "execution_count": 44,
     "metadata": {},
     "output_type": "execute_result"
    }
   ],
   "source": [
    "nv1 = v1/norm(v1)\n",
    "n(nv1, digits = 3)"
   ]
  },
  {
   "cell_type": "code",
   "execution_count": 46,
   "metadata": {},
   "outputs": [
    {
     "data": {
      "text/plain": [
       "(-0.492, 0.862, 0.123)"
      ]
     },
     "execution_count": 46,
     "metadata": {},
     "output_type": "execute_result"
    }
   ],
   "source": [
    "nv2 = v2/norm(v2)\n",
    "n(nv2, digits = 3)"
   ]
  },
  {
   "cell_type": "code",
   "execution_count": 47,
   "metadata": {},
   "outputs": [
    {
     "data": {
      "text/plain": [
       "(-0.302, -0.302, 0.905)"
      ]
     },
     "execution_count": 47,
     "metadata": {},
     "output_type": "execute_result"
    }
   ],
   "source": [
    "nv3 = v3/norm(v3)\n",
    "n(nv3, digits = 3)"
   ]
  },
  {
   "cell_type": "markdown",
   "metadata": {},
   "source": [
    "### Unit 3\n",
    "\n",
    "**Problem 7**\n",
    "\n",
    "(a)"
   ]
  },
  {
   "cell_type": "code",
   "execution_count": 2,
   "metadata": {},
   "outputs": [
    {
     "data": {
      "text/html": [
       "<html><script type=\"math/tex; mode=display\">\\newcommand{\\Bold}[1]{\\mathbf{#1}}\\left(\\begin{array}{rrr}\n",
       "1 & 0 & 0 \\\\\n",
       "-1 & 1 & 0 \\\\\n",
       "0 & -1 & 1 \\\\\n",
       "0 & 0 & -1\n",
       "\\end{array}\\right)</script></html>"
      ],
      "text/latex": [
       "$$\\newcommand{\\Bold}[1]{\\mathbf{#1}}\\left(\\begin{array}{rrr}\n",
       "1 & 0 & 0 \\\\\n",
       "-1 & 1 & 0 \\\\\n",
       "0 & -1 & 1 \\\\\n",
       "0 & 0 & -1\n",
       "\\end{array}\\right)$$"
      ],
      "text/plain": [
       "[ 1  0  0]\n",
       "[-1  1  0]\n",
       "[ 0 -1  1]\n",
       "[ 0  0 -1]"
      ]
     },
     "execution_count": 2,
     "metadata": {},
     "output_type": "execute_result"
    }
   ],
   "source": [
    "%display latex\n",
    "A = matrix(SR, [[1, 0, 0], [-1, 1, 0], [0, -1, 1], [0, 0, -1]]); A"
   ]
  },
  {
   "cell_type": "code",
   "execution_count": 3,
   "metadata": {},
   "outputs": [
    {
     "data": {
      "text/html": [
       "<html><script type=\"math/tex; mode=display\">\\newcommand{\\Bold}[1]{\\mathbf{#1}}\\left(\\begin{array}{rrrr}\n",
       "-0.2705980500730981 & 0.4999999999999982 & 0.6532814824381891 & 0.5000000000000001 \\\\\n",
       "0.6532814824381878 & -0.5000000000000009 & 0.2705980500730975 & 0.5000000000000001 \\\\\n",
       "-0.6532814824381883 & -0.4999999999999989 & -0.2705980500730997 & 0.5 \\\\\n",
       "0.27059805007309873 & 0.5000000000000013 & -0.6532814824381871 & 0.49999999999999983\n",
       "\\end{array}\\right)</script></html>"
      ],
      "text/latex": [
       "$$\\newcommand{\\Bold}[1]{\\mathbf{#1}}\\left(\\begin{array}{rrrr}\n",
       "-0.2705980500730981 & 0.4999999999999982 & 0.6532814824381891 & 0.5000000000000001 \\\\\n",
       "0.6532814824381878 & -0.5000000000000009 & 0.2705980500730975 & 0.5000000000000001 \\\\\n",
       "-0.6532814824381883 & -0.4999999999999989 & -0.2705980500730997 & 0.5 \\\\\n",
       "0.27059805007309873 & 0.5000000000000013 & -0.6532814824381871 & 0.49999999999999983\n",
       "\\end{array}\\right)$$"
      ],
      "text/plain": [
       "[-0.2705980500730981  0.4999999999999982  0.6532814824381891  0.5000000000000001]\n",
       "[ 0.6532814824381878 -0.5000000000000009  0.2705980500730975  0.5000000000000001]\n",
       "[-0.6532814824381883 -0.4999999999999989 -0.2705980500730997                 0.5]\n",
       "[0.27059805007309873  0.5000000000000013 -0.6532814824381871 0.49999999999999983]"
      ]
     },
     "execution_count": 3,
     "metadata": {},
     "output_type": "execute_result"
    }
   ],
   "source": [
    "U, S, V = (A.change_ring(RDF)).SVD()\n",
    "U"
   ]
  },
  {
   "cell_type": "code",
   "execution_count": 4,
   "metadata": {},
   "outputs": [
    {
     "data": {
      "text/html": [
       "<html><script type=\"math/tex; mode=display\">\\newcommand{\\Bold}[1]{\\mathbf{#1}}\\left(\\begin{array}{rrr}\n",
       "1.8477590650225733 & 0.0 & 0.0 \\\\\n",
       "0.0 & 1.414213562373095 & 0.0 \\\\\n",
       "0.0 & 0.0 & 0.7653668647301793 \\\\\n",
       "0.0 & 0.0 & 0.0\n",
       "\\end{array}\\right)</script></html>"
      ],
      "text/latex": [
       "$$\\newcommand{\\Bold}[1]{\\mathbf{#1}}\\left(\\begin{array}{rrr}\n",
       "1.8477590650225733 & 0.0 & 0.0 \\\\\n",
       "0.0 & 1.414213562373095 & 0.0 \\\\\n",
       "0.0 & 0.0 & 0.7653668647301793 \\\\\n",
       "0.0 & 0.0 & 0.0\n",
       "\\end{array}\\right)$$"
      ],
      "text/plain": [
       "[1.8477590650225733                0.0                0.0]\n",
       "[               0.0  1.414213562373095                0.0]\n",
       "[               0.0                0.0 0.7653668647301793]\n",
       "[               0.0                0.0                0.0]"
      ]
     },
     "execution_count": 4,
     "metadata": {},
     "output_type": "execute_result"
    }
   ],
   "source": [
    "S"
   ]
  },
  {
   "cell_type": "code",
   "execution_count": 5,
   "metadata": {},
   "outputs": [
    {
     "data": {
      "text/html": [
       "<html><script type=\"math/tex; mode=display\">\\newcommand{\\Bold}[1]{\\mathbf{#1}}\\left(\\begin{array}{rrr}\n",
       "-0.4999999999999999 & 0.7071067811865454 & 0.5000000000000029 \\\\\n",
       "0.7071067811865471 & -3.441108539399111 \\times 10^{-15} & 0.7071067811865478 \\\\\n",
       "-0.5000000000000004 & -0.7071067811865495 & 0.4999999999999966\n",
       "\\end{array}\\right)</script></html>"
      ],
      "text/latex": [
       "$$\\newcommand{\\Bold}[1]{\\mathbf{#1}}\\left(\\begin{array}{rrr}\n",
       "-0.4999999999999999 & 0.7071067811865454 & 0.5000000000000029 \\\\\n",
       "0.7071067811865471 & -3.441108539399111 \\times 10^{-15} & 0.7071067811865478 \\\\\n",
       "-0.5000000000000004 & -0.7071067811865495 & 0.4999999999999966\n",
       "\\end{array}\\right)$$"
      ],
      "text/plain": [
       "[   -0.4999999999999999     0.7071067811865454     0.5000000000000029]\n",
       "[    0.7071067811865471 -3.441108539399111e-15     0.7071067811865478]\n",
       "[   -0.5000000000000004    -0.7071067811865495     0.4999999999999966]"
      ]
     },
     "execution_count": 5,
     "metadata": {},
     "output_type": "execute_result"
    }
   ],
   "source": [
    "V"
   ]
  },
  {
   "cell_type": "markdown",
   "metadata": {},
   "source": [
    "(b)"
   ]
  },
  {
   "cell_type": "code",
   "execution_count": 6,
   "metadata": {},
   "outputs": [
    {
     "data": {
      "text/html": [
       "<html><script type=\"math/tex; mode=display\">\\newcommand{\\Bold}[1]{\\mathbf{#1}}\\left(\\begin{array}{rrr}\n",
       "0.9999999999999979 & -1.240293742738464 \\times 10^{-15} & -1.165734175856416 \\times 10^{-15} \\\\\n",
       "-0.9999999999999984 & 1.0000000000000009 & 1.0056670134217877 \\times 10^{-15} \\\\\n",
       "1.4977156947037764 \\times 10^{-15} & -0.9999999999999978 & 1.000000000000001 \\\\\n",
       "-1.276756478318927 \\times 10^{-15} & -1.8077190387630668 \\times 10^{-15} & -1.0000000000000009\n",
       "\\end{array}\\right)</script></html>"
      ],
      "text/latex": [
       "$$\\newcommand{\\Bold}[1]{\\mathbf{#1}}\\left(\\begin{array}{rrr}\n",
       "0.9999999999999979 & -1.240293742738464 \\times 10^{-15} & -1.165734175856416 \\times 10^{-15} \\\\\n",
       "-0.9999999999999984 & 1.0000000000000009 & 1.0056670134217877 \\times 10^{-15} \\\\\n",
       "1.4977156947037764 \\times 10^{-15} & -0.9999999999999978 & 1.000000000000001 \\\\\n",
       "-1.276756478318927 \\times 10^{-15} & -1.8077190387630668 \\times 10^{-15} & -1.0000000000000009\n",
       "\\end{array}\\right)$$"
      ],
      "text/plain": [
       "[     0.9999999999999979  -1.240293742738464e-15  -1.165734175856416e-15]\n",
       "[    -0.9999999999999984      1.0000000000000009  1.0056670134217877e-15]\n",
       "[ 1.4977156947037764e-15     -0.9999999999999978       1.000000000000001]\n",
       "[ -1.276756478318927e-15 -1.8077190387630668e-15     -1.0000000000000009]"
      ]
     },
     "execution_count": 6,
     "metadata": {},
     "output_type": "execute_result"
    }
   ],
   "source": [
    "RA = U*S*transpose(V); RA"
   ]
  },
  {
   "cell_type": "code",
   "execution_count": 7,
   "metadata": {},
   "outputs": [
    {
     "data": {
      "text/html": [
       "<html><script type=\"math/tex; mode=display\">\\newcommand{\\Bold}[1]{\\mathbf{#1}}\\left(\\begin{array}{rrr}\n",
       "-2.1094237467877974 \\times 10^{-15} & -1.240293742738464 \\times 10^{-15} & -1.165734175856416 \\times 10^{-15} \\\\\n",
       "1.5543122344752192 \\times 10^{-15} & 8.881784197001252 \\times 10^{-16} & 1.0056670134217877 \\times 10^{-15} \\\\\n",
       "1.4977156947037764 \\times 10^{-15} & 2.220446049250313 \\times 10^{-15} & 1.1102230246251565 \\times 10^{-15} \\\\\n",
       "-1.276756478318927 \\times 10^{-15} & -1.8077190387630668 \\times 10^{-15} & -8.881784197001252 \\times 10^{-16}\n",
       "\\end{array}\\right)</script></html>"
      ],
      "text/latex": [
       "$$\\newcommand{\\Bold}[1]{\\mathbf{#1}}\\left(\\begin{array}{rrr}\n",
       "-2.1094237467877974 \\times 10^{-15} & -1.240293742738464 \\times 10^{-15} & -1.165734175856416 \\times 10^{-15} \\\\\n",
       "1.5543122344752192 \\times 10^{-15} & 8.881784197001252 \\times 10^{-16} & 1.0056670134217877 \\times 10^{-15} \\\\\n",
       "1.4977156947037764 \\times 10^{-15} & 2.220446049250313 \\times 10^{-15} & 1.1102230246251565 \\times 10^{-15} \\\\\n",
       "-1.276756478318927 \\times 10^{-15} & -1.8077190387630668 \\times 10^{-15} & -8.881784197001252 \\times 10^{-16}\n",
       "\\end{array}\\right)$$"
      ],
      "text/plain": [
       "[-2.1094237467877974e-15  -1.240293742738464e-15  -1.165734175856416e-15]\n",
       "[ 1.5543122344752192e-15   8.881784197001252e-16  1.0056670134217877e-15]\n",
       "[ 1.4977156947037764e-15   2.220446049250313e-15  1.1102230246251565e-15]\n",
       "[ -1.276756478318927e-15 -1.8077190387630668e-15  -8.881784197001252e-16]"
      ]
     },
     "execution_count": 7,
     "metadata": {},
     "output_type": "execute_result"
    }
   ],
   "source": [
    "RA - A"
   ]
  },
  {
   "cell_type": "markdown",
   "metadata": {},
   "source": [
    "The discrepancy is due to numerical errors related to the finite number of digits (16 digits)\n",
    "\n",
    "(c)"
   ]
  },
  {
   "cell_type": "code",
   "execution_count": 8,
   "metadata": {},
   "outputs": [
    {
     "data": {
      "text/html": [
       "<html><script type=\"math/tex; mode=display\">\\newcommand{\\Bold}[1]{\\mathbf{#1}}\\left(\\begin{array}{rrr}\n",
       "2 & -1 & 0 \\\\\n",
       "-1 & 2 & -1 \\\\\n",
       "0 & -1 & 2\n",
       "\\end{array}\\right)</script></html>"
      ],
      "text/latex": [
       "$$\\newcommand{\\Bold}[1]{\\mathbf{#1}}\\left(\\begin{array}{rrr}\n",
       "2 & -1 & 0 \\\\\n",
       "-1 & 2 & -1 \\\\\n",
       "0 & -1 & 2\n",
       "\\end{array}\\right)$$"
      ],
      "text/plain": [
       "[ 2 -1  0]\n",
       "[-1  2 -1]\n",
       "[ 0 -1  2]"
      ]
     },
     "execution_count": 8,
     "metadata": {},
     "output_type": "execute_result"
    }
   ],
   "source": [
    "ATA = transpose(A) * A; ATA"
   ]
  },
  {
   "cell_type": "code",
   "execution_count": 10,
   "metadata": {},
   "outputs": [],
   "source": [
    "eATA, vATA = ATA.eigenmatrix_right()"
   ]
  },
  {
   "cell_type": "markdown",
   "metadata": {},
   "source": [
    "The eigenvalues are the diagonal elements of the matrix:"
   ]
  },
  {
   "cell_type": "code",
   "execution_count": 11,
   "metadata": {},
   "outputs": [
    {
     "data": {
      "text/html": [
       "<html><script type=\"math/tex; mode=display\">\\newcommand{\\Bold}[1]{\\mathbf{#1}}\\left(\\begin{array}{rrr}\n",
       "-\\sqrt{2} + 2 & 0 & 0 \\\\\n",
       "0 & \\sqrt{2} + 2 & 0 \\\\\n",
       "0 & 0 & 2\n",
       "\\end{array}\\right)</script></html>"
      ],
      "text/latex": [
       "$$\\newcommand{\\Bold}[1]{\\mathbf{#1}}\\left(\\begin{array}{rrr}\n",
       "-\\sqrt{2} + 2 & 0 & 0 \\\\\n",
       "0 & \\sqrt{2} + 2 & 0 \\\\\n",
       "0 & 0 & 2\n",
       "\\end{array}\\right)$$"
      ],
      "text/plain": [
       "[-sqrt(2) + 2            0            0]\n",
       "[           0  sqrt(2) + 2            0]\n",
       "[           0            0            2]"
      ]
     },
     "execution_count": 11,
     "metadata": {},
     "output_type": "execute_result"
    }
   ],
   "source": [
    "eATA"
   ]
  },
  {
   "cell_type": "code",
   "execution_count": 12,
   "metadata": {},
   "outputs": [
    {
     "data": {
      "text/html": [
       "<html><script type=\"math/tex; mode=display\">\\newcommand{\\Bold}[1]{\\mathbf{#1}}\\left[\\sqrt{2} + 2, 2, -\\sqrt{2} + 2\\right]</script></html>"
      ],
      "text/latex": [
       "$$\\newcommand{\\Bold}[1]{\\mathbf{#1}}\\left[\\sqrt{2} + 2, 2, -\\sqrt{2} + 2\\right]$$"
      ],
      "text/plain": [
       "[sqrt(2) + 2, 2, -sqrt(2) + 2]"
      ]
     },
     "execution_count": 12,
     "metadata": {},
     "output_type": "execute_result"
    }
   ],
   "source": [
    "eordered = [eATA[1][1], eATA[2][2], eATA[0][0]]; eordered"
   ]
  },
  {
   "cell_type": "code",
   "execution_count": 14,
   "metadata": {},
   "outputs": [],
   "source": [
    "e1 = vATA.column(1)\n",
    "e2 = vATA.column(2)\n",
    "e3 = vATA.column(0)\n",
    "\n",
    "ne1 = e1/norm(e1)\n",
    "ne2 = e2/norm(e2)\n",
    "ne3 = e3/norm(e3)"
   ]
  },
  {
   "cell_type": "markdown",
   "metadata": {},
   "source": [
    "The normalized eigenvectors are the columns of the matrix"
   ]
  },
  {
   "cell_type": "code",
   "execution_count": 15,
   "metadata": {},
   "outputs": [
    {
     "data": {
      "text/html": [
       "<html><script type=\"math/tex; mode=display\">\\newcommand{\\Bold}[1]{\\mathbf{#1}}\\left(\\begin{array}{rrr}\n",
       "\\frac{1}{2} & \\frac{1}{2} \\, \\sqrt{2} & \\frac{1}{2} \\\\\n",
       "-\\frac{1}{2} \\, \\sqrt{2} & 0 & \\frac{1}{2} \\, \\sqrt{2} \\\\\n",
       "\\frac{1}{2} & -\\frac{1}{2} \\, \\sqrt{2} & \\frac{1}{2}\n",
       "\\end{array}\\right)</script></html>"
      ],
      "text/latex": [
       "$$\\newcommand{\\Bold}[1]{\\mathbf{#1}}\\left(\\begin{array}{rrr}\n",
       "\\frac{1}{2} & \\frac{1}{2} \\, \\sqrt{2} & \\frac{1}{2} \\\\\n",
       "-\\frac{1}{2} \\, \\sqrt{2} & 0 & \\frac{1}{2} \\, \\sqrt{2} \\\\\n",
       "\\frac{1}{2} & -\\frac{1}{2} \\, \\sqrt{2} & \\frac{1}{2}\n",
       "\\end{array}\\right)$$"
      ],
      "text/plain": [
       "[         1/2  1/2*sqrt(2)          1/2]\n",
       "[-1/2*sqrt(2)            0  1/2*sqrt(2)]\n",
       "[         1/2 -1/2*sqrt(2)          1/2]"
      ]
     },
     "execution_count": 15,
     "metadata": {},
     "output_type": "execute_result"
    }
   ],
   "source": [
    "vv = column_matrix(SR, [ne1, ne2, ne3]); vv"
   ]
  },
  {
   "cell_type": "markdown",
   "metadata": {},
   "source": [
    "(d)"
   ]
  },
  {
   "cell_type": "code",
   "execution_count": 16,
   "metadata": {},
   "outputs": [
    {
     "data": {
      "text/html": [
       "<html><script type=\"math/tex; mode=display\">\\newcommand{\\Bold}[1]{\\mathbf{#1}}\\left[-2.220446049250313 \\times 10^{-16}, -2.220446049250313 \\times 10^{-16}, -1.1102230246251565 \\times 10^{-16}\\right]</script></html>"
      ],
      "text/latex": [
       "$$\\newcommand{\\Bold}[1]{\\mathbf{#1}}\\left[-2.220446049250313 \\times 10^{-16}, -2.220446049250313 \\times 10^{-16}, -1.1102230246251565 \\times 10^{-16}\\right]$$"
      ],
      "text/plain": [
       "[-2.220446049250313e-16, -2.220446049250313e-16, -1.1102230246251565e-16]"
      ]
     },
     "execution_count": 16,
     "metadata": {},
     "output_type": "execute_result"
    }
   ],
   "source": [
    "[ (S[i][i] - sqrt(eordered[i]).n()) for i in range(0, 3) ]"
   ]
  },
  {
   "cell_type": "markdown",
   "metadata": {},
   "source": [
    "We confirm that the diagonal entries of S are the square roots of the eigenvalues as expected."
   ]
  },
  {
   "cell_type": "markdown",
   "metadata": {},
   "source": [
    "(e)"
   ]
  },
  {
   "cell_type": "code",
   "execution_count": 17,
   "metadata": {},
   "outputs": [
    {
     "data": {
      "text/html": [
       "<html><script type=\"math/tex; mode=display\">\\newcommand{\\Bold}[1]{\\mathbf{#1}}\\left(\\left(\\begin{array}{rrr}\n",
       "0.500000000000000 & 0.707106781186548 & 0.500000000000000 \\\\\n",
       "-0.707106781186548 & 0.000000000000000 & 0.707106781186548 \\\\\n",
       "0.500000000000000 & -0.707106781186548 & 0.500000000000000\n",
       "\\end{array}\\right), \\left(\\begin{array}{rrr}\n",
       "-0.4999999999999999 & 0.7071067811865454 & 0.5000000000000029 \\\\\n",
       "0.7071067811865471 & -3.441108539399111 \\times 10^{-15} & 0.7071067811865478 \\\\\n",
       "-0.5000000000000004 & -0.7071067811865495 & 0.4999999999999966\n",
       "\\end{array}\\right)\\right)</script></html>"
      ],
      "text/latex": [
       "$$\\newcommand{\\Bold}[1]{\\mathbf{#1}}\\left(\\left(\\begin{array}{rrr}\n",
       "0.500000000000000 & 0.707106781186548 & 0.500000000000000 \\\\\n",
       "-0.707106781186548 & 0.000000000000000 & 0.707106781186548 \\\\\n",
       "0.500000000000000 & -0.707106781186548 & 0.500000000000000\n",
       "\\end{array}\\right), \\left(\\begin{array}{rrr}\n",
       "-0.4999999999999999 & 0.7071067811865454 & 0.5000000000000029 \\\\\n",
       "0.7071067811865471 & -3.441108539399111 \\times 10^{-15} & 0.7071067811865478 \\\\\n",
       "-0.5000000000000004 & -0.7071067811865495 & 0.4999999999999966\n",
       "\\end{array}\\right)\\right)$$"
      ],
      "text/plain": [
       "(\n",
       "[ 0.500000000000000  0.707106781186548  0.500000000000000]\n",
       "[-0.707106781186548  0.000000000000000  0.707106781186548]\n",
       "[ 0.500000000000000 -0.707106781186548  0.500000000000000],\n",
       "\n",
       "[   -0.4999999999999999     0.7071067811865454     0.5000000000000029]\n",
       "[    0.7071067811865471 -3.441108539399111e-15     0.7071067811865478]\n",
       "[   -0.5000000000000004    -0.7071067811865495     0.4999999999999966]\n",
       ")"
      ]
     },
     "execution_count": 17,
     "metadata": {},
     "output_type": "execute_result"
    }
   ],
   "source": [
    "vv.n(), V"
   ]
  },
  {
   "cell_type": "markdown",
   "metadata": {},
   "source": [
    "**Problem 9**\n",
    "\n",
    "(a)"
   ]
  },
  {
   "cell_type": "code",
   "execution_count": 19,
   "metadata": {},
   "outputs": [
    {
     "data": {
      "text/html": [
       "<html><script type=\"math/tex; mode=display\">\\newcommand{\\Bold}[1]{\\mathbf{#1}}\\left(\\begin{array}{rrrrrr}\n",
       "1 & 1 & 0 & 0 & 0 & 0 \\\\\n",
       "1 & 2 & 1 & 0 & 0 & 0 \\\\\n",
       "0 & 1 & 2 & 1 & 0 & 0 \\\\\n",
       "0 & 0 & 1 & 3 & 1 & 0 \\\\\n",
       "0 & 0 & 0 & 1 & 3 & 1 \\\\\n",
       "0 & 0 & 0 & 0 & 1 & x\n",
       "\\end{array}\\right)</script></html>"
      ],
      "text/latex": [
       "$$\\newcommand{\\Bold}[1]{\\mathbf{#1}}\\left(\\begin{array}{rrrrrr}\n",
       "1 & 1 & 0 & 0 & 0 & 0 \\\\\n",
       "1 & 2 & 1 & 0 & 0 & 0 \\\\\n",
       "0 & 1 & 2 & 1 & 0 & 0 \\\\\n",
       "0 & 0 & 1 & 3 & 1 & 0 \\\\\n",
       "0 & 0 & 0 & 1 & 3 & 1 \\\\\n",
       "0 & 0 & 0 & 0 & 1 & x\n",
       "\\end{array}\\right)$$"
      ],
      "text/plain": [
       "[1 1 0 0 0 0]\n",
       "[1 2 1 0 0 0]\n",
       "[0 1 2 1 0 0]\n",
       "[0 0 1 3 1 0]\n",
       "[0 0 0 1 3 1]\n",
       "[0 0 0 0 1 x]"
      ]
     },
     "execution_count": 19,
     "metadata": {},
     "output_type": "execute_result"
    }
   ],
   "source": [
    "x = var('x')\n",
    "A = matrix(SR, [[1,1,0,0,0,0], [1,2,1,0,0,0], [0,1,2,1,0,0], [0,0,1,3,1,0], [0,0,0,1,3,1], [0,0,0,0,1,x]]); A"
   ]
  },
  {
   "cell_type": "markdown",
   "metadata": {},
   "source": [
    "The matrix is sigular when the determinant vanishes"
   ]
  },
  {
   "cell_type": "code",
   "execution_count": 20,
   "metadata": {},
   "outputs": [
    {
     "data": {
      "text/html": [
       "<html><script type=\"math/tex; mode=display\">\\newcommand{\\Bold}[1]{\\mathbf{#1}}\\left[x = \\left(\\frac{2}{5}\\right)\\right]</script></html>"
      ],
      "text/latex": [
       "$$\\newcommand{\\Bold}[1]{\\mathbf{#1}}\\left[x = \\left(\\frac{2}{5}\\right)\\right]$$"
      ],
      "text/plain": [
       "[x == (2/5)]"
      ]
     },
     "execution_count": 20,
     "metadata": {},
     "output_type": "execute_result"
    }
   ],
   "source": [
    "solve(A.det() == 0, x)"
   ]
  },
  {
   "cell_type": "markdown",
   "metadata": {},
   "source": [
    "The Cholesky decomposition is defined for symmetric positive definite matrices. A matrix is positive definite if all\\\n",
    "eigenvalues are positive. We can check this numerically for the matrix A by ploting the smallest eigenvalue of A versus x,\\\n",
    "as follows:"
   ]
  },
  {
   "cell_type": "code",
   "execution_count": 22,
   "metadata": {},
   "outputs": [
    {
     "data": {
      "image/png": "[encoded data removed]",
      "text/plain": [
       "Graphics object consisting of 1 graphics primitive"
      ]
     },
     "execution_count": 22,
     "metadata": {},
     "output_type": "execute_result"
    }
   ],
   "source": [
    "la = var('la')\n",
    "\n",
    "u = [[xx, min(det(A-la*matrix.identity(6)) (x = xx).roots(explicit_solutions = False, multiplicities = False, ring = RR))] for xx in srange(-2,2,.02)]\n",
    "points(u)"
   ]
  },
  {
   "cell_type": "markdown",
   "metadata": {},
   "source": [
    "Finally, we calculate the Cholesky decomposition for x = 3:"
   ]
  },
  {
   "cell_type": "code",
   "execution_count": 23,
   "metadata": {},
   "outputs": [
    {
     "data": {
      "text/html": [
       "<html><script type=\"math/tex; mode=display\">\\newcommand{\\Bold}[1]{\\mathbf{#1}}\\mathrm{True}</script></html>"
      ],
      "text/latex": [
       "$$\\newcommand{\\Bold}[1]{\\mathbf{#1}}\\mathrm{True}$$"
      ],
      "text/plain": [
       "True"
      ]
     },
     "execution_count": 23,
     "metadata": {},
     "output_type": "execute_result"
    }
   ],
   "source": [
    "(A(x = 3)).change_ring(QQ).is_positive_definite()"
   ]
  },
  {
   "cell_type": "code",
   "execution_count": 24,
   "metadata": {},
   "outputs": [
    {
     "data": {
      "text/html": [
       "<html><script type=\"math/tex; mode=display\">\\newcommand{\\Bold}[1]{\\mathbf{#1}}\\mathrm{True}</script></html>"
      ],
      "text/latex": [
       "$$\\newcommand{\\Bold}[1]{\\mathbf{#1}}\\mathrm{True}$$"
      ],
      "text/plain": [
       "True"
      ]
     },
     "execution_count": 24,
     "metadata": {},
     "output_type": "execute_result"
    }
   ],
   "source": [
    "(A(x = 3)).change_ring(QQ).is_symmetric()"
   ]
  },
  {
   "cell_type": "code",
   "execution_count": 25,
   "metadata": {},
   "outputs": [
    {
     "data": {
      "text/html": [
       "<html><script type=\"math/tex; mode=display\">\\newcommand{\\Bold}[1]{\\mathbf{#1}}\\left(\\begin{array}{rrrrrr}\n",
       "1 & 0 & 0 & 0 & 0 & 0 \\\\\n",
       "1 & 1 & 0 & 0 & 0 & 0 \\\\\n",
       "0 & 1 & 1 & 0 & 0 & 0 \\\\\n",
       "0 & 0 & 1 & 1.414213562373095? & 0 & 0 \\\\\n",
       "0 & 0 & 0 & 0.7071067811865475? & 1.581138830084190? & 0 \\\\\n",
       "0 & 0 & 0 & 0 & 0.6324555320336758? & 1.612451549659710?\n",
       "\\end{array}\\right)</script></html>"
      ],
      "text/latex": [
       "$$\\newcommand{\\Bold}[1]{\\mathbf{#1}}\\left(\\begin{array}{rrrrrr}\n",
       "1 & 0 & 0 & 0 & 0 & 0 \\\\\n",
       "1 & 1 & 0 & 0 & 0 & 0 \\\\\n",
       "0 & 1 & 1 & 0 & 0 & 0 \\\\\n",
       "0 & 0 & 1 & 1.414213562373095? & 0 & 0 \\\\\n",
       "0 & 0 & 0 & 0.7071067811865475? & 1.581138830084190? & 0 \\\\\n",
       "0 & 0 & 0 & 0 & 0.6324555320336758? & 1.612451549659710?\n",
       "\\end{array}\\right)$$"
      ],
      "text/plain": [
       "[                  1                   0                   0                   0                   0                   0]\n",
       "[                  1                   1                   0                   0                   0                   0]\n",
       "[                  0                   1                   1                   0                   0                   0]\n",
       "[                  0                   0                   1  1.414213562373095?                   0                   0]\n",
       "[                  0                   0                   0 0.7071067811865475?  1.581138830084190?                   0]\n",
       "[                  0                   0                   0                   0 0.6324555320336758?  1.612451549659710?]"
      ]
     },
     "execution_count": 25,
     "metadata": {},
     "output_type": "execute_result"
    }
   ],
   "source": [
    "L = (A(x = 3)).change_ring(QQ).cholesky(); L"
   ]
  },
  {
   "cell_type": "code",
   "execution_count": 26,
   "metadata": {},
   "outputs": [
    {
     "data": {
      "text/html": [
       "<html><script type=\"math/tex; mode=display\">\\newcommand{\\Bold}[1]{\\mathbf{#1}}\\left(\\begin{array}{rrrrrr}\n",
       "1 & 1 & 0 & 0 & 0 & 0 \\\\\n",
       "1 & 2 & 1 & 0 & 0 & 0 \\\\\n",
       "0 & 1 & 2 & 1 & 0 & 0 \\\\\n",
       "0 & 0 & 1 & 3 & 1 & 0 \\\\\n",
       "0 & 0 & 0 & 1 & 3 & 1 \\\\\n",
       "0 & 0 & 0 & 0 & 1 & 3\n",
       "\\end{array}\\right)</script></html>"
      ],
      "text/latex": [
       "$$\\newcommand{\\Bold}[1]{\\mathbf{#1}}\\left(\\begin{array}{rrrrrr}\n",
       "1 & 1 & 0 & 0 & 0 & 0 \\\\\n",
       "1 & 2 & 1 & 0 & 0 & 0 \\\\\n",
       "0 & 1 & 2 & 1 & 0 & 0 \\\\\n",
       "0 & 0 & 1 & 3 & 1 & 0 \\\\\n",
       "0 & 0 & 0 & 1 & 3 & 1 \\\\\n",
       "0 & 0 & 0 & 0 & 1 & 3\n",
       "\\end{array}\\right)$$"
      ],
      "text/plain": [
       "[1 1 0 0 0 0]\n",
       "[1 2 1 0 0 0]\n",
       "[0 1 2 1 0 0]\n",
       "[0 0 1 3 1 0]\n",
       "[0 0 0 1 3 1]\n",
       "[0 0 0 0 1 3]"
      ]
     },
     "execution_count": 26,
     "metadata": {},
     "output_type": "execute_result"
    }
   ],
   "source": [
    "(A(x = 3)).change_ring(QQ)"
   ]
  },
  {
   "cell_type": "markdown",
   "metadata": {},
   "source": [
    "(c)"
   ]
  },
  {
   "cell_type": "code",
   "execution_count": 27,
   "metadata": {},
   "outputs": [
    {
     "data": {
      "text/html": [
       "<html><script type=\"math/tex; mode=display\">\\newcommand{\\Bold}[1]{\\mathbf{#1}}5.692061405548898 \\times 10^{-19}</script></html>"
      ],
      "text/latex": [
       "$$\\newcommand{\\Bold}[1]{\\mathbf{#1}}5.692061405548898 \\times 10^{-19}$$"
      ],
      "text/plain": [
       "5.692061405548898e-19"
      ]
     },
     "execution_count": 27,
     "metadata": {},
     "output_type": "execute_result"
    }
   ],
   "source": [
    "((A(x = 3)).change_ring(QQ) - L*transpose(L)).norm(1)"
   ]
  },
  {
   "cell_type": "markdown",
   "metadata": {},
   "source": [
    "The discrepancy is due to numerical errors related to the finite number of digits (16 digits)\n",
    "\n",
    "(d)"
   ]
  },
  {
   "cell_type": "code",
   "execution_count": 28,
   "metadata": {},
   "outputs": [
    {
     "data": {
      "text/html": [
       "<html><script type=\"math/tex; mode=display\">\\newcommand{\\Bold}[1]{\\mathbf{#1}}\\left[13.00000000000000?, 13\\right]</script></html>"
      ],
      "text/latex": [
       "$$\\newcommand{\\Bold}[1]{\\mathbf{#1}}\\left[13.00000000000000?, 13\\right]$$"
      ],
      "text/plain": [
       "[13.00000000000000?, 13]"
      ]
     },
     "execution_count": 28,
     "metadata": {},
     "output_type": "execute_result"
    }
   ],
   "source": [
    "[det(L*transpose(L)), det(A).subs(x = 3)]"
   ]
  },
  {
   "cell_type": "code",
   "execution_count": 29,
   "metadata": {},
   "outputs": [
    {
     "data": {
      "text/html": [
       "<html><script type=\"math/tex; mode=display\">\\newcommand{\\Bold}[1]{\\mathbf{#1}}0.?e-36</script></html>"
      ],
      "text/latex": [
       "$$\\newcommand{\\Bold}[1]{\\mathbf{#1}}0.?e-36$$"
      ],
      "text/plain": [
       "0.?e-36"
      ]
     },
     "execution_count": 29,
     "metadata": {},
     "output_type": "execute_result"
    }
   ],
   "source": [
    "det(L*transpose(L)) - det(A).subs(x = 3)"
   ]
  },
  {
   "cell_type": "markdown",
   "metadata": {},
   "source": [
    "The small discrepancy is due to numerical errors related to the finite number of digits (16 digits)"
   ]
  },
  {
   "cell_type": "markdown",
   "metadata": {},
   "source": [
    "**Problem 10**\n",
    "\n",
    "Following “13.2.7 Application to Least Squares” page 287 in SageMath book"
   ]
  },
  {
   "cell_type": "code",
   "execution_count": 30,
   "metadata": {},
   "outputs": [
    {
     "data": {
      "text/html": [
       "<html><script type=\"math/tex; mode=display\">\\newcommand{\\Bold}[1]{\\mathbf{#1}}\\left(-0.5405405405405405,\\,-1.054054054054054,\\,-1.8108108108108107\\right)</script></html>"
      ],
      "text/latex": [
       "$$\\newcommand{\\Bold}[1]{\\mathbf{#1}}\\left(-0.5405405405405405,\\,-1.054054054054054,\\,-1.8108108108108107\\right)$$"
      ],
      "text/plain": [
       "(-0.5405405405405405, -1.054054054054054, -1.8108108108108107)"
      ]
     },
     "execution_count": 30,
     "metadata": {},
     "output_type": "execute_result"
    }
   ],
   "source": [
    "A = matrix(RDF, [[1,-1,0], [-1,1,1], [1,2,-1], [0, -1,1], [0,1,-1]])\n",
    "b = vector(RDF, [1, -2,-1, 0, 2])\n",
    "Z = transpose(A)*A\n",
    "C = Z.cholesky()\n",
    "R = transpose(A)*b\n",
    "Z.solve_right(R)"
   ]
  }
 ],
 "metadata": {
  "kernelspec": {
   "display_name": "SageMath 9.3",
   "language": "sage",
   "name": "sagemath"
  },
  "language_info": {
   "codemirror_mode": {
    "name": "ipython",
    "version": 3
   },
   "file_extension": ".py",
   "mimetype": "text/x-python",
   "name": "python",
   "nbconvert_exporter": "python",
   "pygments_lexer": "ipython3",
   "version": "3.7.10"
  }
 },
 "nbformat": 4,
 "nbformat_minor": 2
}
