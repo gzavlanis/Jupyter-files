{
 "cells": [
  {
   "cell_type": "markdown",
   "metadata": {},
   "source": [
    "# DAMA50: Mathematics for machine learning\n",
    "\n",
    "## Written assignment 3\n",
    "\n",
    "### Problem 7\n",
    "\n",
    "First, we must create the matrix A, so:"
   ]
  },
  {
   "cell_type": "code",
   "execution_count": 25,
   "metadata": {},
   "outputs": [
    {
     "data": {
      "text/html": [
       "<html>\\(\\displaystyle \\left(\\begin{array}{rrr}\n",
       "-2 & 6 & -3 \\\\\n",
       "6 & 3 & 2 \\\\\n",
       "-3 & 2 & -18\n",
       "\\end{array}\\right)\\)</html>"
      ],
      "text/latex": [
       "$\\displaystyle \\left(\\begin{array}{rrr}\n",
       "-2 & 6 & -3 \\\\\n",
       "6 & 3 & 2 \\\\\n",
       "-3 & 2 & -18\n",
       "\\end{array}\\right)$"
      ],
      "text/plain": [
       "[ -2   6  -3]\n",
       "[  6   3   2]\n",
       "[ -3   2 -18]"
      ]
     },
     "execution_count": 25,
     "metadata": {},
     "output_type": "execute_result"
    }
   ],
   "source": [
    "%display latex\n",
    "\n",
    "a = -18\n",
    "\n",
    "A = matrix([[-2, 6, -3], [6, 3, 2], [-3, 2, a]]); A"
   ]
  },
  {
   "cell_type": "markdown",
   "metadata": {},
   "source": [
    "Now, we can start answering the questions:\n",
    "\n",
    "**a.** We must find the characteristic polynomial of the matrix P(x) and then solve the equation P(x) = 0:"
   ]
  },
  {
   "cell_type": "code",
   "execution_count": 26,
   "metadata": {},
   "outputs": [
    {
     "data": {
      "text/html": [
       "<html>\\(\\displaystyle x^{3} + 17 \\, x^{2} - 73 \\, x - 665\\)</html>"
      ],
      "text/latex": [
       "$\\displaystyle x^{3} + 17 \\, x^{2} - 73 \\, x - 665$"
      ],
      "text/plain": [
       "x^3 + 17*x^2 - 73*x - 665"
      ]
     },
     "execution_count": 26,
     "metadata": {},
     "output_type": "execute_result"
    }
   ],
   "source": [
    "P(x) = A.characteristic_polynomial(x); P(x)"
   ]
  },
  {
   "cell_type": "code",
   "execution_count": 27,
   "metadata": {},
   "outputs": [
    {
     "data": {
      "text/html": [
       "<html>\\(\\displaystyle \\left[x = \\left(-19\\right), x = 7, x = \\left(-5\\right)\\right]\\)</html>"
      ],
      "text/latex": [
       "$\\displaystyle \\left[x = \\left(-19\\right), x = 7, x = \\left(-5\\right)\\right]$"
      ],
      "text/plain": [
       "[x == -19, x == 7, x == -5]"
      ]
     },
     "execution_count": 27,
     "metadata": {},
     "output_type": "execute_result"
    }
   ],
   "source": [
    "solve(P(x) == 0, x)"
   ]
  },
  {
   "cell_type": "code",
   "execution_count": 28,
   "metadata": {},
   "outputs": [
    {
     "data": {
      "text/html": [
       "<html>\\(\\displaystyle \\left[7, -5, -19\\right]\\)</html>"
      ],
      "text/latex": [
       "$\\displaystyle \\left[7, -5, -19\\right]$"
      ],
      "text/plain": [
       "[7, -5, -19]"
      ]
     },
     "execution_count": 28,
     "metadata": {},
     "output_type": "execute_result"
    }
   ],
   "source": [
    "# another way\n",
    "A.eigenvalues()"
   ]
  },
  {
   "cell_type": "markdown",
   "metadata": {},
   "source": [
    "For the eigenvectors, we can just write:"
   ]
  },
  {
   "cell_type": "code",
   "execution_count": 29,
   "metadata": {},
   "outputs": [
    {
     "data": {
      "text/html": [
       "<html>\\(\\displaystyle \\left[\\left(7, \\left[\\left(1,\\,\\frac{3}{2},\\,0\\right)\\right], 1\\right), \\left(-5, \\left[\\left(1,\\,-\\frac{2}{3},\\,-\\frac{1}{3}\\right)\\right], 1\\right), \\left(-19, \\left[\\left(1,\\,-\\frac{2}{3},\\,\\frac{13}{3}\\right)\\right], 1\\right)\\right]\\)</html>"
      ],
      "text/latex": [
       "$\\displaystyle \\left[\\left(7, \\left[\\left(1,\\,\\frac{3}{2},\\,0\\right)\\right], 1\\right), \\left(-5, \\left[\\left(1,\\,-\\frac{2}{3},\\,-\\frac{1}{3}\\right)\\right], 1\\right), \\left(-19, \\left[\\left(1,\\,-\\frac{2}{3},\\,\\frac{13}{3}\\right)\\right], 1\\right)\\right]$"
      ],
      "text/plain": [
       "[(7,\n",
       "  [\n",
       "  (1, 3/2, 0)\n",
       "  ],\n",
       "  1),\n",
       " (-5,\n",
       "  [\n",
       "  (1, -2/3, -1/3)\n",
       "  ],\n",
       "  1),\n",
       " (-19,\n",
       "  [\n",
       "  (1, -2/3, 13/3)\n",
       "  ],\n",
       "  1)]"
      ]
     },
     "execution_count": 29,
     "metadata": {},
     "output_type": "execute_result"
    }
   ],
   "source": [
    "A.eigenvectors_right()"
   ]
  },
  {
   "cell_type": "markdown",
   "metadata": {},
   "source": [
    "**b.** To normalize the eigenvectors we must export them from the eigenmatrix, which is the matrix that has these vectors as columns, so:"
   ]
  },
  {
   "cell_type": "code",
   "execution_count": 30,
   "metadata": {},
   "outputs": [
    {
     "data": {
      "text/html": [
       "<html>\\(\\displaystyle \\left(\\left(\\begin{array}{rrr}\n",
       "7 & 0 & 0 \\\\\n",
       "0 & -5 & 0 \\\\\n",
       "0 & 0 & -19\n",
       "\\end{array}\\right), \\left(\\begin{array}{rrr}\n",
       "1 & 1 & 1 \\\\\n",
       "\\frac{3}{2} & -\\frac{2}{3} & -\\frac{2}{3} \\\\\n",
       "0 & -\\frac{1}{3} & \\frac{13}{3}\n",
       "\\end{array}\\right)\\right)\\)</html>"
      ],
      "text/latex": [
       "$\\displaystyle \\left(\\left(\\begin{array}{rrr}\n",
       "7 & 0 & 0 \\\\\n",
       "0 & -5 & 0 \\\\\n",
       "0 & 0 & -19\n",
       "\\end{array}\\right), \\left(\\begin{array}{rrr}\n",
       "1 & 1 & 1 \\\\\n",
       "\\frac{3}{2} & -\\frac{2}{3} & -\\frac{2}{3} \\\\\n",
       "0 & -\\frac{1}{3} & \\frac{13}{3}\n",
       "\\end{array}\\right)\\right)$"
      ],
      "text/plain": [
       "(\n",
       "[  7   0   0]  [   1    1    1]\n",
       "[  0  -5   0]  [ 3/2 -2/3 -2/3]\n",
       "[  0   0 -19], [   0 -1/3 13/3]\n",
       ")"
      ]
     },
     "execution_count": 30,
     "metadata": {},
     "output_type": "execute_result"
    }
   ],
   "source": [
    "D, PU = A.eigenmatrix_right(); D, PU # where D is a Diagonal matrix created by the eigenvalues (Eigendecomposition)"
   ]
  },
  {
   "cell_type": "code",
   "execution_count": 31,
   "metadata": {},
   "outputs": [
    {
     "data": {
      "text/html": [
       "<html>\\(\\displaystyle \\left(\\left(1,\\,\\frac{3}{2},\\,0\\right), \\left(1,\\,-\\frac{2}{3},\\,-\\frac{1}{3}\\right), \\left(1,\\,-\\frac{2}{3},\\,\\frac{13}{3}\\right)\\right)\\)</html>"
      ],
      "text/latex": [
       "$\\displaystyle \\left(\\left(1,\\,\\frac{3}{2},\\,0\\right), \\left(1,\\,-\\frac{2}{3},\\,-\\frac{1}{3}\\right), \\left(1,\\,-\\frac{2}{3},\\,\\frac{13}{3}\\right)\\right)$"
      ],
      "text/plain": [
       "((1, 3/2, 0), (1, -2/3, -1/3), (1, -2/3, 13/3))"
      ]
     },
     "execution_count": 31,
     "metadata": {},
     "output_type": "execute_result"
    }
   ],
   "source": [
    "p1, p2, p3 = PU.columns(); p1, p2, p3"
   ]
  },
  {
   "cell_type": "markdown",
   "metadata": {},
   "source": [
    "And finally:"
   ]
  },
  {
   "cell_type": "code",
   "execution_count": 32,
   "metadata": {},
   "outputs": [
    {
     "data": {
      "text/html": [
       "<html>\\(\\displaystyle \\left(\\left(\\frac{2}{13} \\, \\sqrt{13},\\,\\frac{3}{13} \\, \\sqrt{13},\\,0\\right), \\left(\\frac{3}{14} \\, \\sqrt{14},\\,-\\frac{1}{7} \\, \\sqrt{14},\\,-\\frac{1}{14} \\, \\sqrt{14}\\right), \\left(\\frac{3}{182} \\, \\sqrt{182},\\,-\\frac{1}{91} \\, \\sqrt{182},\\,\\frac{1}{14} \\, \\sqrt{182}\\right)\\right)\\)</html>"
      ],
      "text/latex": [
       "$\\displaystyle \\left(\\left(\\frac{2}{13} \\, \\sqrt{13},\\,\\frac{3}{13} \\, \\sqrt{13},\\,0\\right), \\left(\\frac{3}{14} \\, \\sqrt{14},\\,-\\frac{1}{7} \\, \\sqrt{14},\\,-\\frac{1}{14} \\, \\sqrt{14}\\right), \\left(\\frac{3}{182} \\, \\sqrt{182},\\,-\\frac{1}{91} \\, \\sqrt{182},\\,\\frac{1}{14} \\, \\sqrt{182}\\right)\\right)$"
      ],
      "text/plain": [
       "((2/13*sqrt(13), 3/13*sqrt(13), 0),\n",
       " (3/14*sqrt(14), -1/7*sqrt(14), -1/14*sqrt(14)),\n",
       " (3/182*sqrt(182), -1/91*sqrt(182), 1/14*sqrt(182)))"
      ]
     },
     "execution_count": 32,
     "metadata": {},
     "output_type": "execute_result"
    }
   ],
   "source": [
    "p1.normalized(), p2.normalized(), p3.normalized()"
   ]
  },
  {
   "cell_type": "markdown",
   "metadata": {},
   "source": [
    "**c.** We first create vector x:"
   ]
  },
  {
   "cell_type": "code",
   "execution_count": 33,
   "metadata": {},
   "outputs": [
    {
     "data": {
      "text/html": [
       "<html>\\(\\displaystyle \\left(1,\\,1,\\,1\\right)\\)</html>"
      ],
      "text/latex": [
       "$\\displaystyle \\left(1,\\,1,\\,1\\right)$"
      ],
      "text/plain": [
       "(1, 1, 1)"
      ]
     },
     "execution_count": 33,
     "metadata": {},
     "output_type": "execute_result"
    }
   ],
   "source": [
    "x = vector(QQ, [1, 1, 1]); x"
   ]
  },
  {
   "cell_type": "markdown",
   "metadata": {},
   "source": [
    "Then, we can write x as a linear combination of p1, p2 and p3:"
   ]
  },
  {
   "cell_type": "code",
   "execution_count": 34,
   "metadata": {},
   "outputs": [
    {
     "data": {
      "text/html": [
       "<html>\\(\\displaystyle \\left(3.00,\\,0.167,\\,4.00\\right)\\)</html>"
      ],
      "text/latex": [
       "$\\displaystyle \\left(3.00,\\,0.167,\\,4.00\\right)$"
      ],
      "text/plain": [
       "(3.00, 0.167, 4.00)"
      ]
     },
     "execution_count": 34,
     "metadata": {},
     "output_type": "execute_result"
    }
   ],
   "source": [
    "x = 1*p1 + 1*p2 + 1*p3\n",
    "x.n(digits = 3)"
   ]
  },
  {
   "cell_type": "markdown",
   "metadata": {},
   "source": [
    "And this will be the answer."
   ]
  },
  {
   "cell_type": "markdown",
   "metadata": {},
   "source": [
    "**d.** We will follow the same process with question **a.**:"
   ]
  },
  {
   "cell_type": "code",
   "execution_count": 35,
   "metadata": {},
   "outputs": [
    {
     "data": {
      "text/html": [
       "<html>\\(\\displaystyle \\left(\\begin{array}{rrr}\n",
       "-2 & 6 & -3 \\\\\n",
       "6 & 3 & 2 \\\\\n",
       "-3 & 2 & 6\n",
       "\\end{array}\\right)\\)</html>"
      ],
      "text/latex": [
       "$\\displaystyle \\left(\\begin{array}{rrr}\n",
       "-2 & 6 & -3 \\\\\n",
       "6 & 3 & 2 \\\\\n",
       "-3 & 2 & 6\n",
       "\\end{array}\\right)$"
      ],
      "text/plain": [
       "[-2  6 -3]\n",
       "[ 6  3  2]\n",
       "[-3  2  6]"
      ]
     },
     "execution_count": 35,
     "metadata": {},
     "output_type": "execute_result"
    }
   ],
   "source": [
    "a = 6\n",
    "\n",
    "A = matrix([[-2, 6, -3], [6, 3, 2], [-3, 2, a]]); A"
   ]
  },
  {
   "cell_type": "code",
   "execution_count": 36,
   "metadata": {},
   "outputs": [
    {
     "data": {
      "text/html": [
       "<html>\\(\\displaystyle \\left[-7, 7, 7\\right]\\)</html>"
      ],
      "text/latex": [
       "$\\displaystyle \\left[-7, 7, 7\\right]$"
      ],
      "text/plain": [
       "[-7, 7, 7]"
      ]
     },
     "execution_count": 36,
     "metadata": {},
     "output_type": "execute_result"
    }
   ],
   "source": [
    "A.eigenvalues()"
   ]
  },
  {
   "cell_type": "code",
   "execution_count": 37,
   "metadata": {},
   "outputs": [
    {
     "data": {
      "text/html": [
       "<html>\\(\\displaystyle \\left[\\left(-7, \\left[\\left(1,\\,-\\frac{2}{3},\\,\\frac{1}{3}\\right)\\right], 1\\right), \\left(7, \\left[\\left(1,\\,0,\\,-3\\right), \\left(0,\\,1,\\,2\\right)\\right], 2\\right)\\right]\\)</html>"
      ],
      "text/latex": [
       "$\\displaystyle \\left[\\left(-7, \\left[\\left(1,\\,-\\frac{2}{3},\\,\\frac{1}{3}\\right)\\right], 1\\right), \\left(7, \\left[\\left(1,\\,0,\\,-3\\right), \\left(0,\\,1,\\,2\\right)\\right], 2\\right)\\right]$"
      ],
      "text/plain": [
       "[(-7,\n",
       "  [\n",
       "  (1, -2/3, 1/3)\n",
       "  ],\n",
       "  1),\n",
       " (7,\n",
       "  [\n",
       "  (1, 0, -3),\n",
       "  (0, 1, 2)\n",
       "  ],\n",
       "  2)]"
      ]
     },
     "execution_count": 37,
     "metadata": {},
     "output_type": "execute_result"
    }
   ],
   "source": [
    "A.eigenvectors_right()"
   ]
  },
  {
   "cell_type": "markdown",
   "metadata": {},
   "source": [
    "**e.** In this case we have 2 eigenvalues p1=-7 and p2=7. The algebraic multiplicity of p2 is equal to 2 based on the result above, which gave us the number 2 next to the\n",
    "corresponding eigenvectors of eigenvalue p2. The algebraic multiplicity of p1 is 1."
   ]
  },
  {
   "cell_type": "markdown",
   "metadata": {},
   "source": [
    "**f.** To find out if the eigenvectors are orthogonal we will write:"
   ]
  },
  {
   "cell_type": "code",
   "execution_count": 38,
   "metadata": {},
   "outputs": [
    {
     "data": {
      "text/html": [
       "<html>\\(\\displaystyle \\left(0, 0, -6\\right)\\)</html>"
      ],
      "text/latex": [
       "$\\displaystyle \\left(0, 0, -6\\right)$"
      ],
      "text/plain": [
       "(0, 0, -6)"
      ]
     },
     "execution_count": 38,
     "metadata": {},
     "output_type": "execute_result"
    }
   ],
   "source": [
    "# export the eigenvectors as parameters\n",
    "D, PU = A.eigenmatrix_right()\n",
    "p1, p2, p3 = PU.columns()\n",
    "\n",
    "# check orthogonality with each other\n",
    "p1.dot_product(p2), p1.dot_product(p3), p2.dot_product(p3)\n"
   ]
  },
  {
   "cell_type": "markdown",
   "metadata": {},
   "source": [
    "As we can see p2 is not orthogonal to p3, so not all the eigenvectors are orthogonal. Now, we will find an orthonormal basis:\n",
    "\n",
    "We will perform the Gram-Schmidt Orthogonalization process"
   ]
  },
  {
   "cell_type": "code",
   "execution_count": 39,
   "metadata": {},
   "outputs": [
    {
     "data": {
      "text/html": [
       "<html>\\(\\displaystyle \\left[\\left(1,\\,-\\frac{2}{3},\\,\\frac{1}{3}\\right), \\left(1,\\,0,\\,-3\\right), \\left(0,\\,1,\\,2\\right)\\right]\\)</html>"
      ],
      "text/latex": [
       "$\\displaystyle \\left[\\left(1,\\,-\\frac{2}{3},\\,\\frac{1}{3}\\right), \\left(1,\\,0,\\,-3\\right), \\left(0,\\,1,\\,2\\right)\\right]$"
      ],
      "text/plain": [
       "[(1, -2/3, 1/3), (1, 0, -3), (0, 1, 2)]"
      ]
     },
     "execution_count": 39,
     "metadata": {},
     "output_type": "execute_result"
    }
   ],
   "source": [
    "vectors = [p1, p2, p3]; vectors"
   ]
  },
  {
   "cell_type": "code",
   "execution_count": 40,
   "metadata": {},
   "outputs": [
    {
     "data": {
      "text/html": [
       "<html>\\(\\displaystyle \\left[\\left(\\frac{3}{14} \\, \\sqrt{14},\\,-\\frac{1}{7} \\, \\sqrt{14},\\,\\frac{1}{14} \\, \\sqrt{14}\\right), \\left(\\frac{1}{10} \\, \\sqrt{10},\\,0,\\,-\\frac{3}{10} \\, \\sqrt{10}\\right), \\left(\\frac{3}{35} \\, \\sqrt{7} \\sqrt{5},\\,\\frac{1}{7} \\, \\sqrt{7} \\sqrt{5},\\,\\frac{1}{35} \\, \\sqrt{7} \\sqrt{5}\\right)\\right]\\)</html>"
      ],
      "text/latex": [
       "$\\displaystyle \\left[\\left(\\frac{3}{14} \\, \\sqrt{14},\\,-\\frac{1}{7} \\, \\sqrt{14},\\,\\frac{1}{14} \\, \\sqrt{14}\\right), \\left(\\frac{1}{10} \\, \\sqrt{10},\\,0,\\,-\\frac{3}{10} \\, \\sqrt{10}\\right), \\left(\\frac{3}{35} \\, \\sqrt{7} \\sqrt{5},\\,\\frac{1}{7} \\, \\sqrt{7} \\sqrt{5},\\,\\frac{1}{35} \\, \\sqrt{7} \\sqrt{5}\\right)\\right]$"
      ],
      "text/plain": [
       "[(3/14*sqrt(14), -1/7*sqrt(14), 1/14*sqrt(14)),\n",
       " (1/10*sqrt(10), 0, -3/10*sqrt(10)),\n",
       " (3/35*sqrt(7)*sqrt(5), 1/7*sqrt(7)*sqrt(5), 1/35*sqrt(7)*sqrt(5))]"
      ]
     },
     "execution_count": 40,
     "metadata": {},
     "output_type": "execute_result"
    }
   ],
   "source": [
    "for j in range(len(vectors)):\n",
    "    vectors[j] = vectors[j]/vectors[j].norm()\n",
    "    for i in range(j):\n",
    "        vectors[j] -= vectors[i].inner_product(vectors[j]) * vectors[i]\n",
    "    vectors[j] = vectors[j]/vectors[j].norm()\n",
    "    \n",
    "vectors"
   ]
  },
  {
   "cell_type": "markdown",
   "metadata": {},
   "source": [
    "**g.** Following the same process with question **c** we write vector x as linear combination of our new vectors: "
   ]
  },
  {
   "cell_type": "code",
   "execution_count": 41,
   "metadata": {},
   "outputs": [
    {
     "data": {
      "text/html": [
       "<html>\\(\\displaystyle \\left(1.62,\\,0.311,\\,-0.512\\right)\\)</html>"
      ],
      "text/latex": [
       "$\\displaystyle \\left(1.62,\\,0.311,\\,-0.512\\right)$"
      ],
      "text/plain": [
       "(1.62, 0.311, -0.512)"
      ]
     },
     "execution_count": 41,
     "metadata": {},
     "output_type": "execute_result"
    }
   ],
   "source": [
    "p1, p2, p3 = vectors\n",
    "\n",
    "x = 1*p1 + 1*p2 + 1*p3\n",
    "x.n(digits = 3)\n"
   ]
  },
  {
   "cell_type": "markdown",
   "metadata": {},
   "source": [
    "### Problem 8\n",
    "\n",
    "**a.** Let's create our matrix:"
   ]
  },
  {
   "cell_type": "code",
   "execution_count": 42,
   "metadata": {},
   "outputs": [
    {
     "data": {
      "text/html": [
       "<html>\\(\\displaystyle \\left(\\begin{array}{rr}\n",
       "3.0 & 5.0 \\\\\n",
       "8.0 & 12.0 \\\\\n",
       "15.0 & 21.0 \\\\\n",
       "24.0 & 32.0 \\\\\n",
       "35.0 & 45.0 \\\\\n",
       "48.0 & 60.0\n",
       "\\end{array}\\right)\\)</html>"
      ],
      "text/latex": [
       "$\\displaystyle \\left(\\begin{array}{rr}\n",
       "3.0 & 5.0 \\\\\n",
       "8.0 & 12.0 \\\\\n",
       "15.0 & 21.0 \\\\\n",
       "24.0 & 32.0 \\\\\n",
       "35.0 & 45.0 \\\\\n",
       "48.0 & 60.0\n",
       "\\end{array}\\right)$"
      ],
      "text/plain": [
       "[ 3.0  5.0]\n",
       "[ 8.0 12.0]\n",
       "[15.0 21.0]\n",
       "[24.0 32.0]\n",
       "[35.0 45.0]\n",
       "[48.0 60.0]"
      ]
     },
     "execution_count": 42,
     "metadata": {},
     "output_type": "execute_result"
    }
   ],
   "source": [
    "properties = []\n",
    "\n",
    "for i in range(1, 7):\n",
    "    for j in range(1, 3):\n",
    "        properties.append(i^2 + 2*i*j)\n",
    "        \n",
    "A = matrix(RDF, 6, 2, properties); A"
   ]
  },
  {
   "cell_type": "markdown",
   "metadata": {},
   "source": [
    "**b.** To compute the SVD of A we are following the process below:"
   ]
  },
  {
   "cell_type": "code",
   "execution_count": 43,
   "metadata": {},
   "outputs": [
    {
     "data": {
      "text/html": [
       "<html>\\(\\displaystyle \\left(\\left(\\begin{array}{rrrrrr}\n",
       "-0.0536 & -0.340 & -0.293 & -0.398 & -0.506 & -0.618 \\\\\n",
       "-0.133 & -0.511 & -0.480 & -0.286 & 0.0854 & 0.634 \\\\\n",
       "-0.239 & -0.514 & 0.802 & -0.159 & -0.0659 & 0.0796 \\\\\n",
       "-0.370 & -0.349 & -0.174 & 0.823 & -0.152 & -0.0992 \\\\\n",
       "-0.528 & -0.0152 & -0.104 & -0.177 & 0.731 & -0.381 \\\\\n",
       "-0.712 & 0.487 & 0.0107 & -0.160 & -0.419 & 0.235\n",
       "\\end{array}\\right), \\left(\\begin{array}{rr}\n",
       "108. & 0.000 \\\\\n",
       "0.000 & 2.07 \\\\\n",
       "0.000 & 0.000 \\\\\n",
       "0.000 & 0.000 \\\\\n",
       "0.000 & 0.000 \\\\\n",
       "0.000 & 0.000\n",
       "\\end{array}\\right), \\left(\\begin{array}{rr}\n",
       "-0.614 & 0.789 \\\\\n",
       "-0.789 & -0.614\n",
       "\\end{array}\\right)\\right)\\)</html>"
      ],
      "text/latex": [
       "$\\displaystyle \\left(\\left(\\begin{array}{rrrrrr}\n",
       "-0.0536 & -0.340 & -0.293 & -0.398 & -0.506 & -0.618 \\\\\n",
       "-0.133 & -0.511 & -0.480 & -0.286 & 0.0854 & 0.634 \\\\\n",
       "-0.239 & -0.514 & 0.802 & -0.159 & -0.0659 & 0.0796 \\\\\n",
       "-0.370 & -0.349 & -0.174 & 0.823 & -0.152 & -0.0992 \\\\\n",
       "-0.528 & -0.0152 & -0.104 & -0.177 & 0.731 & -0.381 \\\\\n",
       "-0.712 & 0.487 & 0.0107 & -0.160 & -0.419 & 0.235\n",
       "\\end{array}\\right), \\left(\\begin{array}{rr}\n",
       "108. & 0.000 \\\\\n",
       "0.000 & 2.07 \\\\\n",
       "0.000 & 0.000 \\\\\n",
       "0.000 & 0.000 \\\\\n",
       "0.000 & 0.000 \\\\\n",
       "0.000 & 0.000\n",
       "\\end{array}\\right), \\left(\\begin{array}{rr}\n",
       "-0.614 & 0.789 \\\\\n",
       "-0.789 & -0.614\n",
       "\\end{array}\\right)\\right)$"
      ],
      "text/plain": [
       "(\n",
       "[-0.0536  -0.340  -0.293  -0.398  -0.506  -0.618]  [ 108. 0.000]\n",
       "[ -0.133  -0.511  -0.480  -0.286  0.0854   0.634]  [0.000  2.07]\n",
       "[ -0.239  -0.514   0.802  -0.159 -0.0659  0.0796]  [0.000 0.000]\n",
       "[ -0.370  -0.349  -0.174   0.823  -0.152 -0.0992]  [0.000 0.000]\n",
       "[ -0.528 -0.0152  -0.104  -0.177   0.731  -0.381]  [0.000 0.000]\n",
       "[ -0.712   0.487  0.0107  -0.160  -0.419   0.235], [0.000 0.000],\n",
       "\n",
       "[-0.614  0.789]\n",
       "[-0.789 -0.614]\n",
       ")"
      ]
     },
     "execution_count": 43,
     "metadata": {},
     "output_type": "execute_result"
    }
   ],
   "source": [
    "U,S,V = A.SVD()\n",
    "U.n(digits = 3), S.n(digits = 3), V.n(digits = 3)"
   ]
  },
  {
   "cell_type": "markdown",
   "metadata": {},
   "source": [
    "**c.** To compute the rank-1 approximation of A we are doing the following:"
   ]
  },
  {
   "cell_type": "code",
   "execution_count": 44,
   "metadata": {},
   "outputs": [
    {
     "data": {
      "text/html": [
       "<html>\\(\\displaystyle \\left(\\begin{array}{rr}\n",
       "3.56 & 4.57 \\\\\n",
       "8.84 & 11.3 \\\\\n",
       "15.8 & 20.3 \\\\\n",
       "24.6 & 31.6 \\\\\n",
       "35.0 & 45.0 \\\\\n",
       "47.2 & 60.6\n",
       "\\end{array}\\right)\\)</html>"
      ],
      "text/latex": [
       "$\\displaystyle \\left(\\begin{array}{rr}\n",
       "3.56 & 4.57 \\\\\n",
       "8.84 & 11.3 \\\\\n",
       "15.8 & 20.3 \\\\\n",
       "24.6 & 31.6 \\\\\n",
       "35.0 & 45.0 \\\\\n",
       "47.2 & 60.6\n",
       "\\end{array}\\right)$"
      ],
      "text/plain": [
       "[3.56 4.57]\n",
       "[8.84 11.3]\n",
       "[15.8 20.3]\n",
       "[24.6 31.6]\n",
       "[35.0 45.0]\n",
       "[47.2 60.6]"
      ]
     },
     "execution_count": 44,
     "metadata": {},
     "output_type": "execute_result"
    }
   ],
   "source": [
    "u1,u2,u3 = U.column(0),U.column(1),U.column(2)\n",
    "v1,v2 = V.column(0),V.column(1)\n",
    "s1,s2 = S[0,0],S[1,1]\n",
    "\n",
    "A1 = s1*(u1.outer_product(v1))\n",
    "A1.n(digits = 3)"
   ]
  },
  {
   "cell_type": "markdown",
   "metadata": {},
   "source": [
    "**d.** To compute the Frobenius norm, we can do the following:"
   ]
  },
  {
   "cell_type": "code",
   "execution_count": 45,
   "metadata": {},
   "outputs": [
    {
     "data": {
      "text/html": [
       "<html>\\(\\displaystyle 2.07463479478077\\)</html>"
      ],
      "text/latex": [
       "$\\displaystyle 2.07463479478077$"
      ],
      "text/plain": [
       "2.07463479478077"
      ]
     },
     "execution_count": 45,
     "metadata": {},
     "output_type": "execute_result"
    }
   ],
   "source": [
    "(A - A1).norm('frob')"
   ]
  },
  {
   "cell_type": "markdown",
   "metadata": {},
   "source": [
    "**e.** The process for rank-2 approximation and the Frobenius norm of A - A2 is:"
   ]
  },
  {
   "cell_type": "code",
   "execution_count": 46,
   "metadata": {},
   "outputs": [
    {
     "data": {
      "text/html": [
       "<html>\\(\\displaystyle \\left(\\begin{array}{rr}\n",
       "3.00 & 5.00 \\\\\n",
       "8.00 & 12.0 \\\\\n",
       "15.0 & 21.0 \\\\\n",
       "24.0 & 32.0 \\\\\n",
       "35.0 & 45.0 \\\\\n",
       "48.0 & 60.0\n",
       "\\end{array}\\right)\\)</html>"
      ],
      "text/latex": [
       "$\\displaystyle \\left(\\begin{array}{rr}\n",
       "3.00 & 5.00 \\\\\n",
       "8.00 & 12.0 \\\\\n",
       "15.0 & 21.0 \\\\\n",
       "24.0 & 32.0 \\\\\n",
       "35.0 & 45.0 \\\\\n",
       "48.0 & 60.0\n",
       "\\end{array}\\right)$"
      ],
      "text/plain": [
       "[3.00 5.00]\n",
       "[8.00 12.0]\n",
       "[15.0 21.0]\n",
       "[24.0 32.0]\n",
       "[35.0 45.0]\n",
       "[48.0 60.0]"
      ]
     },
     "execution_count": 46,
     "metadata": {},
     "output_type": "execute_result"
    }
   ],
   "source": [
    "A2 = s1*(u1.outer_product(v1)) + s2*(u2.outer_product(v2))\n",
    "A2.n(digits = 3)"
   ]
  },
  {
   "cell_type": "code",
   "execution_count": 47,
   "metadata": {},
   "outputs": [
    {
     "data": {
      "text/html": [
       "<html>\\(\\displaystyle 1.9720761300567452 \\times 10^{-14}\\)</html>"
      ],
      "text/latex": [
       "$\\displaystyle 1.9720761300567452 \\times 10^{-14}$"
      ],
      "text/plain": [
       "1.9720761300567452e-14"
      ]
     },
     "execution_count": 47,
     "metadata": {},
     "output_type": "execute_result"
    }
   ],
   "source": [
    "(A - A2).norm('frob')"
   ]
  },
  {
   "cell_type": "code",
   "execution_count": 48,
   "metadata": {},
   "outputs": [
    {
     "data": {
      "text/html": [
       "<html>\\(\\displaystyle \\left(\\left(\\begin{array}{rr}\n",
       "3.0 & 5.0 \\\\\n",
       "8.0 & 12.0 \\\\\n",
       "15.0 & 21.0 \\\\\n",
       "24.0 & 32.0 \\\\\n",
       "35.0 & 45.0 \\\\\n",
       "48.0 & 60.0\n",
       "\\end{array}\\right), \\left(\\begin{array}{rr}\n",
       "3.56 & 4.57 \\\\\n",
       "8.84 & 11.3 \\\\\n",
       "15.8 & 20.3 \\\\\n",
       "24.6 & 31.6 \\\\\n",
       "35.0 & 45.0 \\\\\n",
       "47.2 & 60.6\n",
       "\\end{array}\\right), \\left(\\begin{array}{rr}\n",
       "3.00 & 5.00 \\\\\n",
       "8.00 & 12.0 \\\\\n",
       "15.0 & 21.0 \\\\\n",
       "24.0 & 32.0 \\\\\n",
       "35.0 & 45.0 \\\\\n",
       "48.0 & 60.0\n",
       "\\end{array}\\right)\\right)\\)</html>"
      ],
      "text/latex": [
       "$\\displaystyle \\left(\\left(\\begin{array}{rr}\n",
       "3.0 & 5.0 \\\\\n",
       "8.0 & 12.0 \\\\\n",
       "15.0 & 21.0 \\\\\n",
       "24.0 & 32.0 \\\\\n",
       "35.0 & 45.0 \\\\\n",
       "48.0 & 60.0\n",
       "\\end{array}\\right), \\left(\\begin{array}{rr}\n",
       "3.56 & 4.57 \\\\\n",
       "8.84 & 11.3 \\\\\n",
       "15.8 & 20.3 \\\\\n",
       "24.6 & 31.6 \\\\\n",
       "35.0 & 45.0 \\\\\n",
       "47.2 & 60.6\n",
       "\\end{array}\\right), \\left(\\begin{array}{rr}\n",
       "3.00 & 5.00 \\\\\n",
       "8.00 & 12.0 \\\\\n",
       "15.0 & 21.0 \\\\\n",
       "24.0 & 32.0 \\\\\n",
       "35.0 & 45.0 \\\\\n",
       "48.0 & 60.0\n",
       "\\end{array}\\right)\\right)$"
      ],
      "text/plain": [
       "(\n",
       "[ 3.0  5.0]  [3.56 4.57]  [3.00 5.00]\n",
       "[ 8.0 12.0]  [8.84 11.3]  [8.00 12.0]\n",
       "[15.0 21.0]  [15.8 20.3]  [15.0 21.0]\n",
       "[24.0 32.0]  [24.6 31.6]  [24.0 32.0]\n",
       "[35.0 45.0]  [35.0 45.0]  [35.0 45.0]\n",
       "[48.0 60.0], [47.2 60.6], [48.0 60.0]\n",
       ")"
      ]
     },
     "execution_count": 48,
     "metadata": {},
     "output_type": "execute_result"
    }
   ],
   "source": [
    "A, A1.n(digits = 3), A2.n(digits = 3) # all three together for comparison"
   ]
  },
  {
   "cell_type": "markdown",
   "metadata": {},
   "source": [
    "Comparing the rank-1 approximation, the rank-2 approximation and the original matrix, we can say that rank-1 is a quite good approximation of\n",
    "the original matrix, with only small disclaimers in the values.\n",
    "\n",
    "From the other hand, rank-2 approximation is perfect, returning matrix A itself.\n",
    "\n",
    "So, for matrix approximations we can say that the bigger is the rank of the approximation, then the matrix we take is closer to the original."
   ]
  }
 ],
 "metadata": {
  "kernelspec": {
   "display_name": "SageMath 10.0",
   "language": "sage",
   "name": "sagemath"
  },
  "language_info": {
   "codemirror_mode": {
    "name": "ipython",
    "version": 3
   },
   "file_extension": ".py",
   "mimetype": "text/x-python",
   "name": "python",
   "nbconvert_exporter": "python",
   "pygments_lexer": "ipython3",
   "version": "3.9.18"
  }
 },
 "nbformat": 4,
 "nbformat_minor": 2
}
