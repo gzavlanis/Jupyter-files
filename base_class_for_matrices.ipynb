{
 "cells": [
  {
   "cell_type": "code",
   "execution_count": 3,
   "metadata": {},
   "outputs": [
    {
     "data": {
      "text/plain": [
       "(\n",
       "[      -3  5 + 3*I  7 + 4*I]  [      -3  7 - 3*I  3 - 3*I]\n",
       "[ 7 - 3*I -1 - 6*I  3 - 5*I]  [ 5 + 3*I -1 - 6*I -3 - 6*I]\n",
       "[ 3 - 3*I -3 - 6*I  5 - 1*I], [ 7 + 4*I  3 - 5*I  5 - 1*I]\n",
       ")"
      ]
     },
     "execution_count": 3,
     "metadata": {},
     "output_type": "execute_result"
    }
   ],
   "source": [
    "A = matrix(QQbar, [[-3, 5 - 3*I, 7 - 4*I], [7 + 3*I, -1 + 6*I, 3 + 5*I], [3 + 3*I, -3 + 6*I, 5 +   I]])\n",
    "A.C, A.H"
   ]
  },
  {
   "cell_type": "code",
   "execution_count": 4,
   "metadata": {},
   "outputs": [
    {
     "data": {
      "text/plain": [
       "(\n",
       "[5 3]  [-1  1]  [1 0]\n",
       "[3 2], [ 1 -2], [0 1]\n",
       ")"
      ]
     },
     "execution_count": 4,
     "metadata": {},
     "output_type": "execute_result"
    }
   ],
   "source": [
    "M = Matrix(ZZ, 2, 2, [5, 3, 3, 2])\n",
    "U = M.LLL_gram()\n",
    "MM = U.transpose() * M * U\n",
    "M, U, MM"
   ]
  },
  {
   "cell_type": "code",
   "execution_count": 5,
   "metadata": {},
   "outputs": [
    {
     "data": {
      "text/plain": [
       "[ 0 -1]\n",
       "[ 1  0]"
      ]
     },
     "execution_count": 5,
     "metadata": {},
     "output_type": "execute_result"
    }
   ],
   "source": [
    "M = matrix(RDF, 2, 2, [1, 0, 0, 1e-5])\n",
    "M.LLL_gram()"
   ]
  },
  {
   "cell_type": "code",
   "execution_count": 7,
   "metadata": {},
   "outputs": [
    {
     "data": {
      "text/plain": [
       "[0 0 0 0 1]\n",
       "[1 0 0 0 0]\n",
       "[0 0 0 1 0]\n",
       "[0 0 1 0 0]\n",
       "[0 1 0 0 0]"
      ]
     },
     "execution_count": 7,
     "metadata": {},
     "output_type": "execute_result"
    }
   ],
   "source": [
    "A = matrix(QQ, [[1, -1,  0,  2,  4,  7, -1],\n",
    "                [2, -1,  0,  6,  4,  8, -2],\n",
    "                [2,  0,  1,  4,  2,  6,  0],\n",
    "                [1,  0, -1,  8, -1, -1, -3],\n",
    "                [1,  1,  2, -2, -1,  1,  3]])\n",
    "P, L, U = A.LU(pivot = 'partial')\n",
    "P"
   ]
  },
  {
   "cell_type": "code",
   "execution_count": 8,
   "metadata": {},
   "outputs": [
    {
     "data": {
      "text/plain": [
       "[   1    0    0    0    0]\n",
       "[ 1/2    1    0    0    0]\n",
       "[ 1/2  1/3    1    0    0]\n",
       "[   1  2/3  1/5    1    0]\n",
       "[ 1/2 -1/3 -2/5    0    1]"
      ]
     },
     "execution_count": 8,
     "metadata": {},
     "output_type": "execute_result"
    }
   ],
   "source": [
    "L"
   ]
  },
  {
   "cell_type": "code",
   "execution_count": 9,
   "metadata": {},
   "outputs": [
    {
     "data": {
      "text/plain": [
       "[    2    -1     0     6     4     8    -2]\n",
       "[    0   3/2     2    -5    -3    -3     4]\n",
       "[    0     0  -5/3  20/3    -2    -4 -10/3]\n",
       "[    0     0     0     0   2/5   4/5     0]\n",
       "[    0     0     0     0   1/5   2/5     0]"
      ]
     },
     "execution_count": 9,
     "metadata": {},
     "output_type": "execute_result"
    }
   ],
   "source": [
    "U"
   ]
  },
  {
   "cell_type": "code",
   "execution_count": 10,
   "metadata": {},
   "outputs": [
    {
     "data": {
      "text/plain": [
       "True"
      ]
     },
     "execution_count": 10,
     "metadata": {},
     "output_type": "execute_result"
    }
   ],
   "source": [
    "A == P*L*U"
   ]
  },
  {
   "cell_type": "code",
   "execution_count": 11,
   "metadata": {},
   "outputs": [
    {
     "data": {
      "text/plain": [
       "[1 0 0 0 0]\n",
       "[0 1 0 0 0]\n",
       "[0 0 1 0 0]\n",
       "[0 0 0 1 0]\n",
       "[0 0 0 0 1]"
      ]
     },
     "execution_count": 11,
     "metadata": {},
     "output_type": "execute_result"
    }
   ],
   "source": [
    "P, L, U = A.LU(pivot = 'nonzero')\n",
    "P"
   ]
  },
  {
   "cell_type": "code",
   "execution_count": 12,
   "metadata": {},
   "outputs": [
    {
     "data": {
      "text/plain": [
       "[ 1  0  0  0  0]\n",
       "[ 2  1  0  0  0]\n",
       "[ 2  2  1  0  0]\n",
       "[ 1  1 -1  1  0]\n",
       "[ 1  2  2  0  1]"
      ]
     },
     "execution_count": 12,
     "metadata": {},
     "output_type": "execute_result"
    }
   ],
   "source": [
    "L"
   ]
  },
  {
   "cell_type": "code",
   "execution_count": 13,
   "metadata": {},
   "outputs": [
    {
     "data": {
      "text/plain": [
       "[ 1 -1  0  2  4  7 -1]\n",
       "[ 0  1  0  2 -4 -6  0]\n",
       "[ 0  0  1 -4  2  4  2]\n",
       "[ 0  0  0  0  1  2  0]\n",
       "[ 0  0  0  0 -1 -2  0]"
      ]
     },
     "execution_count": 13,
     "metadata": {},
     "output_type": "execute_result"
    }
   ],
   "source": [
    "U"
   ]
  },
  {
   "cell_type": "code",
   "execution_count": 14,
   "metadata": {},
   "outputs": [
    {
     "data": {
      "text/plain": [
       "True"
      ]
     },
     "execution_count": 14,
     "metadata": {},
     "output_type": "execute_result"
    }
   ],
   "source": [
    "A == P*L*U"
   ]
  },
  {
   "cell_type": "code",
   "execution_count": 15,
   "metadata": {},
   "outputs": [
    {
     "data": {
      "text/plain": [
       "True"
      ]
     },
     "execution_count": 15,
     "metadata": {},
     "output_type": "execute_result"
    }
   ],
   "source": [
    "C = matrix(QQ, [[-2,  3, -2, -5],\n",
    "                [ 1, -2,  1,  3],\n",
    "                [-4,  7, -3, -8],\n",
    "                [-3,  8, -1, -5]])\n",
    "P, L, U = C.LU(format = 'plu')\n",
    "perm, M = C.LU(format = 'compact')\n",
    "(L - identity_matrix(4)) + U == M"
   ]
  },
  {
   "cell_type": "code",
   "execution_count": 18,
   "metadata": {},
   "outputs": [
    {
     "data": {
      "text/plain": [
       "(\n",
       "              [0 0 0 1]      \n",
       "              [0 0 1 0]      \n",
       "              [1 0 0 0]      \n",
       "[3, 4, 2, 1], [0 1 0 0], True\n",
       ")"
      ]
     },
     "execution_count": 18,
     "metadata": {},
     "output_type": "execute_result"
    }
   ],
   "source": [
    "p = [perm[i] + 1 for i in range(len(perm))]\n",
    "PP = Permutation(p).to_matrix()\n",
    "p, PP, PP == P"
   ]
  },
  {
   "cell_type": "code",
   "execution_count": 19,
   "metadata": {},
   "outputs": [
    {
     "data": {
      "text/plain": [
       "[1 0 0 0 0 0]\n",
       "[0 1 0 0 0 0]\n",
       "[0 0 1 0 0 0]\n",
       "[0 0 0 1 0 0]\n",
       "[0 0 0 0 1 0]\n",
       "[0 0 0 0 0 1]"
      ]
     },
     "execution_count": 19,
     "metadata": {},
     "output_type": "execute_result"
    }
   ],
   "source": [
    "D = matrix(QQ, [[ 1,  0,  2,  0, -2, -1],\n",
    "                [ 3, -2,  3, -1,  0,  6],\n",
    "                [-4,  2, -3,  1, -1, -8],\n",
    "                [-2,  2, -3,  2,  1,  0],\n",
    "                [ 0, -1, -1,  0,  2,  5],\n",
    "                [-1,  2, -4, -1,  5, -3]])\n",
    "P, L, U = D.LU(pivot = 'nonzero')\n",
    "P"
   ]
  },
  {
   "cell_type": "code",
   "execution_count": 20,
   "metadata": {},
   "outputs": [
    {
     "data": {
      "text/plain": [
       "[   1    0    0    0    0    0]\n",
       "[   3    1    0    0    0    0]\n",
       "[  -4   -1    1    0    0    0]\n",
       "[  -2   -1   -1    1    0    0]\n",
       "[   0  1/2  1/4  1/2    1    0]\n",
       "[  -1   -1 -5/2   -2   -6    1]"
      ]
     },
     "execution_count": 20,
     "metadata": {},
     "output_type": "execute_result"
    }
   ],
   "source": [
    "L"
   ]
  },
  {
   "cell_type": "code",
   "execution_count": 21,
   "metadata": {},
   "outputs": [
    {
     "data": {
      "text/plain": [
       "(\n",
       "[   1    0    2    0   -2   -1]      \n",
       "[   0   -2   -3   -1    6    9]      \n",
       "[   0    0    2    0   -3   -3]      \n",
       "[   0    0    0    1    0    4]      \n",
       "[   0    0    0    0 -1/4 -3/4]      \n",
       "[   0    0    0    0    0    1], True\n",
       ")"
      ]
     },
     "execution_count": 21,
     "metadata": {},
     "output_type": "execute_result"
    }
   ],
   "source": [
    "U, D == L*U"
   ]
  },
  {
   "cell_type": "code",
   "execution_count": 35,
   "metadata": {},
   "outputs": [
    {
     "data": {
      "text/plain": [
       "[1 0]\n",
       "[0 1]"
      ]
     },
     "execution_count": 35,
     "metadata": {},
     "output_type": "execute_result"
    }
   ],
   "source": [
    "R.<y> = PolynomialRing(QQ, 'y')\n",
    "B = matrix(R, [[y+1, y^2+y], [y^2, y^3]])\n",
    "P, L, U = B.LU(pivot = 'nonzero')\n",
    "P"
   ]
  },
  {
   "cell_type": "code",
   "execution_count": 36,
   "metadata": {},
   "outputs": [
    {
     "data": {
      "text/plain": [
       "[          1           0]\n",
       "[y^2/(y + 1)           1]"
      ]
     },
     "execution_count": 36,
     "metadata": {},
     "output_type": "execute_result"
    }
   ],
   "source": [
    "L"
   ]
  },
  {
   "cell_type": "code",
   "execution_count": 37,
   "metadata": {},
   "outputs": [
    {
     "data": {
      "text/plain": [
       "[  y + 1 y^2 + y]\n",
       "[      0       0]"
      ]
     },
     "execution_count": 37,
     "metadata": {},
     "output_type": "execute_result"
    }
   ],
   "source": [
    "U"
   ]
  },
  {
   "cell_type": "code",
   "execution_count": 39,
   "metadata": {},
   "outputs": [
    {
     "data": {
      "text/plain": [
       "(Fraction Field of Univariate Polynomial Ring in y over Rational Field, True)"
      ]
     },
     "execution_count": 39,
     "metadata": {},
     "output_type": "execute_result"
    }
   ],
   "source": [
    "L.base_ring(), B == P*L*U"
   ]
  },
  {
   "cell_type": "code",
   "execution_count": 40,
   "metadata": {},
   "outputs": [
    {
     "data": {
      "text/plain": [
       "[1 0 0 0]\n",
       "[0 1 0 0]\n",
       "[0 0 1 0]\n",
       "[0 0 0 1]"
      ]
     },
     "execution_count": 40,
     "metadata": {},
     "output_type": "execute_result"
    }
   ],
   "source": [
    "F.<a> = FiniteField(5^2)\n",
    "C = matrix(F, [[a + 3, 4*a + 4, 2, 4*a + 2],\n",
    "               [3, 2*a + 4, 2*a + 4, 2*a + 1],\n",
    "               [3*a + 1, a + 3, 2*a + 4, 4*a + 3],\n",
    "               [a, 3, 3*a + 1, a]])\n",
    "P, L, U = C.LU(pivot = 'nonzero')\n",
    "P"
   ]
  },
  {
   "cell_type": "code",
   "execution_count": 41,
   "metadata": {},
   "outputs": [
    {
     "data": {
      "text/plain": [
       "[      1       0       0       0]\n",
       "[3*a + 3       1       0       0]\n",
       "[    2*a 4*a + 2       1       0]\n",
       "[2*a + 3       2 2*a + 4       1]"
      ]
     },
     "execution_count": 41,
     "metadata": {},
     "output_type": "execute_result"
    }
   ],
   "source": [
    "L"
   ]
  },
  {
   "cell_type": "code",
   "execution_count": 42,
   "metadata": {},
   "outputs": [
    {
     "data": {
      "text/plain": [
       "[  a + 3 4*a + 4       2 4*a + 2]\n",
       "[      0   a + 1   a + 3 2*a + 4]\n",
       "[      0       0       1 4*a + 2]\n",
       "[      0       0       0       0]"
      ]
     },
     "execution_count": 42,
     "metadata": {},
     "output_type": "execute_result"
    }
   ],
   "source": [
    "U"
   ]
  },
  {
   "cell_type": "code",
   "execution_count": 43,
   "metadata": {},
   "outputs": [
    {
     "data": {
      "text/plain": [
       "True"
      ]
     },
     "execution_count": 43,
     "metadata": {},
     "output_type": "execute_result"
    }
   ],
   "source": [
    "C == P*L*U"
   ]
  },
  {
   "cell_type": "code",
   "execution_count": 44,
   "metadata": {},
   "outputs": [
    {
     "data": {
      "text/plain": [
       "(0, 1, 2, 3)"
      ]
     },
     "execution_count": 44,
     "metadata": {},
     "output_type": "execute_result"
    }
   ],
   "source": [
    "entries = [3, 20, 11, 7, 16, 28, 5, 15, 21, 23, 22, 18, 8, 23, 15, 2]\n",
    "A = matrix(Integers(29), 4, 4, entries)\n",
    "perm, _ = A.LU(format = 'compact'); perm"
   ]
  },
  {
   "cell_type": "code",
   "execution_count": 45,
   "metadata": {},
   "outputs": [
    {
     "data": {
      "text/plain": [
       "(2, 0, 1, 3)"
      ]
     },
     "execution_count": 45,
     "metadata": {},
     "output_type": "execute_result"
    }
   ],
   "source": [
    "B = matrix(QQ, 4, 4, entries)\n",
    "perm, _ = B.LU(format = 'compact'); perm"
   ]
  },
  {
   "cell_type": "code",
   "execution_count": 46,
   "metadata": {},
   "outputs": [
    {
     "data": {
      "text/plain": [
       "[   -2     8    -1    -4     2    -4     1    -8    -7]\n",
       "[    0     0   1/2    -2    -1    -2   9/2    -3  -7/2]\n",
       "[    0     0   3/2    -6    -2     0  11/2     2   1/2]\n",
       "[    0     0     0     0  -1/3    -1   5/3  -5/3  -5/3]\n",
       "[    0     0     0     0   1/3    -3   7/3 -19/3 -19/3]"
      ]
     },
     "execution_count": 46,
     "metadata": {},
     "output_type": "execute_result"
    }
   ],
   "source": [
    "A = matrix(QQ, [[ 1, -4,  1,  0, -2,  1, 3,  3,  2],\n",
    "                [-1,  4,  0, -4,  0, -4, 5, -7, -7],\n",
    "                [ 0,  0,  1, -4, -1, -3, 6, -5, -6],\n",
    "                [-2,  8, -1, -4,  2, -4, 1, -8, -7],\n",
    "                [ 1, -4,  2, -4, -3,  2, 5,  6,  4]])\n",
    "P, L, U = A.LU()\n",
    "U"
   ]
  },
  {
   "cell_type": "code",
   "execution_count": 47,
   "metadata": {},
   "outputs": [
    {
     "data": {
      "text/plain": [
       "[ 1 -4  0  4  0  0 -1 -1 -1]\n",
       "[ 0  0  1 -4  0  0  1  0 -1]\n",
       "[ 0  0  0  0  1  0 -2 -1 -1]\n",
       "[ 0  0  0  0  0  1 -1  2  2]\n",
       "[ 0  0  0  0  0  0  0  0  0]"
      ]
     },
     "execution_count": 47,
     "metadata": {},
     "output_type": "execute_result"
    }
   ],
   "source": [
    "A.rref()"
   ]
  },
  {
   "cell_type": "code",
   "execution_count": 48,
   "metadata": {},
   "outputs": [
    {
     "data": {
      "text/plain": [
       "(0, 2, 4, 5)"
      ]
     },
     "execution_count": 48,
     "metadata": {},
     "output_type": "execute_result"
    }
   ],
   "source": [
    "A.pivots()"
   ]
  },
  {
   "cell_type": "code",
   "execution_count": 49,
   "metadata": {},
   "outputs": [
    {
     "data": {
      "text/plain": [
       "[ -0.4588314677411235?  -0.1260506983326509?   0.3812120831224489?   -0.394573711338418?     -0.6874400625964?]\n",
       "[ -0.4588314677411235?   0.4726901187474409? -0.05198346588033394?   0.7172941251646595?     -0.2209628772631?]\n",
       "[  0.2294157338705618?   0.6617661662464172?   0.6619227988762521?  -0.1808720937375480?      0.1964114464561?]\n",
       "[  0.6882472016116853?   0.1890760474989764?  -0.2044682991293135?   0.0966302966543065?     -0.6628886317894?]\n",
       "[ -0.2294157338705618?   0.5357154679137663?   -0.609939332995919?   -0.536422031427112?      0.0245514308070?]"
      ]
     },
     "execution_count": 49,
     "metadata": {},
     "output_type": "execute_result"
    }
   ],
   "source": [
    "A = matrix(QQbar, [[-2, 0, -4, -1, -1],\n",
    "                   [-2, 1, -6, -3, -1],\n",
    "                   [1, 1, 7, 4, 5],\n",
    "                   [3, 0, 8, 3, 3],\n",
    "                   [-1, 1, -6, -6, 5]])\n",
    "Q, R = A.QR()\n",
    "Q"
   ]
  },
  {
   "cell_type": "code",
   "execution_count": 50,
   "metadata": {},
   "outputs": [
    {
     "data": {
      "text/plain": [
       "[  4.358898943540674? -0.4588314677411235?   13.07669683062202?   6.194224814505168?   2.982404540317303?]\n",
       "[                   0   1.670171752907625?  0.5987408170800917?  -1.292019657909672?   6.207996892883057?]\n",
       "[                   0                    0   5.444401659866974?   5.468660610611130? -0.6827161852283857?]\n",
       "[                   0                    0                    0   1.027626039419836?  -3.619300149686620?]\n",
       "[                   0                    0                    0                    0   0.024551430807012?]"
      ]
     },
     "execution_count": 50,
     "metadata": {},
     "output_type": "execute_result"
    }
   ],
   "source": [
    "R"
   ]
  },
  {
   "cell_type": "code",
   "execution_count": 52,
   "metadata": {},
   "outputs": [
    {
     "data": {
      "text/plain": [
       "[1.000000000000000?            0.?e-18            0.?e-17            0.?e-16            0.?e-13]\n",
       "[           0.?e-18 1.000000000000000?            0.?e-17            0.?e-16            0.?e-13]\n",
       "[           0.?e-17            0.?e-17 1.000000000000000?            0.?e-16            0.?e-13]\n",
       "[           0.?e-16            0.?e-16            0.?e-16 1.000000000000000?            0.?e-13]\n",
       "[           0.?e-13            0.?e-13            0.?e-13            0.?e-13   1.0000000000000?]"
      ]
     },
     "execution_count": 52,
     "metadata": {},
     "output_type": "execute_result"
    }
   ],
   "source": [
    "Q.conjugate_transpose() * Q"
   ]
  },
  {
   "cell_type": "code",
   "execution_count": null,
   "metadata": {},
   "outputs": [],
   "source": [
    "Q*R == A"
   ]
  },
  {
   "cell_type": "code",
   "execution_count": 53,
   "metadata": {},
   "outputs": [
    {
     "data": {
      "text/plain": [
       "[                          -0.7302967433402215?    0.2070566455055649? + 0.5383472783144687?*I    0.2463049809998642? - 0.0764456358723292?*I    0.2381617683194332? - 0.1036596032779695?*I]\n",
       "[                           0.0912870929175277?   -0.2070566455055649? - 0.3778783780476559?*I    0.3786559533863033? - 0.1952221495524667?*I     0.701244450214469? - 0.3643711650986595?*I]\n",
       "[   0.6390096504226938? + 0.0912870929175277?*I    0.1708217325420910? + 0.6677576817554466?*I -0.03411475806452072? + 0.04090198741767143?*I    0.3140171085506764? - 0.0825191718705412?*I]\n",
       "[   0.1825741858350554? + 0.0912870929175277?*I  -0.03623491296347385? + 0.0724698259269477?*I   0.8632284069415110? + 0.06322839976356195?*I   -0.4499694867611521? - 0.0116119181208918?*I]"
      ]
     },
     "execution_count": 53,
     "metadata": {},
     "output_type": "execute_result"
    }
   ],
   "source": [
    "A = matrix(QQbar, [[-8, 4*I + 1, -I + 2, 2*I + 1],\n",
    "                   [1, -2*I - 1, -I + 3, -I + 1],\n",
    "                   [I + 7, 2*I + 1, -2*I + 7, -I + 1],\n",
    "                   [I + 2, 0, I + 12, -1]])\n",
    "Q, R = A.QR()\n",
    "Q"
   ]
  },
  {
   "cell_type": "code",
   "execution_count": 54,
   "metadata": {},
   "outputs": [
    {
     "data": {
      "text/plain": [
       "[                          10.95445115010333?               0.?e-18 - 1.917028951268082?*I    5.385938482134133? - 2.190890230020665?*I  -0.2738612787525831? - 2.190890230020665?*I]\n",
       "[                                           0               4.829596256417300? + 0.?e-18*I   -0.869637911123373? - 5.864879483945125?*I   0.993871898426712? - 0.3054085521207082?*I]\n",
       "[                                           0                                            0               12.00160760935814? + 0.?e-16*I -0.2709533402297273? + 0.4420629644486323?*I]\n",
       "[                                           0                                            0                                            0               1.942963944258992? + 0.?e-16*I]"
      ]
     },
     "execution_count": 54,
     "metadata": {},
     "output_type": "execute_result"
    }
   ],
   "source": [
    "R"
   ]
  },
  {
   "cell_type": "code",
   "execution_count": 55,
   "metadata": {},
   "outputs": [
    {
     "data": {
      "text/plain": [
       "[1.000000000000000? + 0.?e-19*I            0.?e-18 + 0.?e-17*I            0.?e-17 + 0.?e-17*I            0.?e-16 + 0.?e-16*I]\n",
       "[           0.?e-18 + 0.?e-17*I 1.000000000000000? + 0.?e-17*I            0.?e-17 + 0.?e-17*I            0.?e-16 + 0.?e-16*I]\n",
       "[           0.?e-17 + 0.?e-17*I            0.?e-17 + 0.?e-17*I 1.000000000000000? + 0.?e-17*I            0.?e-16 + 0.?e-16*I]\n",
       "[           0.?e-16 + 0.?e-16*I            0.?e-16 + 0.?e-16*I            0.?e-16 + 0.?e-16*I 1.000000000000000? + 0.?e-16*I]"
      ]
     },
     "execution_count": 55,
     "metadata": {},
     "output_type": "execute_result"
    }
   ],
   "source": [
    "Q.conjugate_transpose() * Q"
   ]
  },
  {
   "cell_type": "code",
   "execution_count": 56,
   "metadata": {},
   "outputs": [
    {
     "data": {
      "text/plain": [
       "[            0.?e-17 0.?e-17 + 0.?e-17*I 0.?e-16 + 0.?e-16*I 0.?e-16 + 0.?e-16*I]\n",
       "[            0.?e-18 0.?e-17 + 0.?e-17*I 0.?e-16 + 0.?e-16*I 0.?e-16 + 0.?e-16*I]\n",
       "[0.?e-17 + 0.?e-18*I 0.?e-17 + 0.?e-17*I 0.?e-16 + 0.?e-16*I 0.?e-16 + 0.?e-16*I]\n",
       "[0.?e-18 + 0.?e-18*I 0.?e-18 + 0.?e-18*I 0.?e-16 + 0.?e-16*I 0.?e-16 + 0.?e-16*I]"
      ]
     },
     "execution_count": 56,
     "metadata": {},
     "output_type": "execute_result"
    }
   ],
   "source": [
    "Q * R - A"
   ]
  },
  {
   "cell_type": "code",
   "execution_count": 57,
   "metadata": {},
   "outputs": [
    {
     "data": {
      "text/plain": [
       "[  0.3592106040535498?  -0.5693261797050169?   0.7239227659930268?   0.1509015305256380?]\n",
       "[ -0.1796053020267749?   0.1445907757980996?                     0   0.9730546968377341?]\n",
       "[ -0.1796053020267749?   0.7048800320157352?    0.672213996993525?  -0.1378927778941174?]\n",
       "[ -0.8980265101338745?  -0.3976246334447737?   0.1551263069985058? -0.10667177157846818?]"
      ]
     },
     "execution_count": 57,
     "metadata": {},
     "output_type": "execute_result"
    }
   ],
   "source": [
    "A = matrix(QQbar, [[2, -3, 3],\n",
    "                   [-1, 1, -1],\n",
    "                   [-1, 3, -3],\n",
    "                   [-5, 1, -1]])\n",
    "Q, R = A.QR()\n",
    "Q"
   ]
  },
  {
   "cell_type": "code",
   "execution_count": 58,
   "metadata": {},
   "outputs": [
    {
     "data": {
      "text/plain": [
       "[ 5.567764362830022? -2.694079530401624?  2.694079530401624?]\n",
       "[                  0  3.569584777515583? -3.569584777515583?]\n",
       "[                  0                   0                   0]\n",
       "[                  0                   0                   0]"
      ]
     },
     "execution_count": 58,
     "metadata": {},
     "output_type": "execute_result"
    }
   ],
   "source": [
    "R"
   ]
  },
  {
   "cell_type": "code",
   "execution_count": 59,
   "metadata": {},
   "outputs": [
    {
     "data": {
      "text/plain": [
       "[                 1            0.?e-18            0.?e-18            0.?e-18]\n",
       "[           0.?e-18                  1            0.?e-18            0.?e-18]\n",
       "[           0.?e-18            0.?e-18 1.000000000000000?            0.?e-18]\n",
       "[           0.?e-18            0.?e-18            0.?e-18 1.000000000000000?]"
      ]
     },
     "execution_count": 59,
     "metadata": {},
     "output_type": "execute_result"
    }
   ],
   "source": [
    "Q.conjugate_transpose() * Q"
   ]
  },
  {
   "cell_type": "code",
   "execution_count": 60,
   "metadata": {},
   "outputs": [
    {
     "data": {
      "text/plain": [
       "[ 0.3592106040535498? -0.5693261797050169?]\n",
       "[-0.1796053020267749?  0.1445907757980996?]\n",
       "[-0.1796053020267749?  0.7048800320157352?]\n",
       "[-0.8980265101338745? -0.3976246334447737?]"
      ]
     },
     "execution_count": 60,
     "metadata": {},
     "output_type": "execute_result"
    }
   ],
   "source": [
    "Q, R = A.QR(full = False)\n",
    "Q"
   ]
  },
  {
   "cell_type": "code",
   "execution_count": 61,
   "metadata": {},
   "outputs": [
    {
     "data": {
      "text/plain": [
       "[ 5.567764362830022? -2.694079530401624?  2.694079530401624?]\n",
       "[                  0  3.569584777515583? -3.569584777515583?]"
      ]
     },
     "execution_count": 61,
     "metadata": {},
     "output_type": "execute_result"
    }
   ],
   "source": [
    "R"
   ]
  },
  {
   "cell_type": "code",
   "execution_count": 64,
   "metadata": {},
   "outputs": [
    {
     "data": {
      "text/plain": [
       "[      1 0.?e-18]\n",
       "[0.?e-18       1]"
      ]
     },
     "execution_count": 64,
     "metadata": {},
     "output_type": "execute_result"
    }
   ],
   "source": [
    "Q.conjugate_transpose() * Q"
   ]
  },
  {
   "cell_type": "code",
   "execution_count": 65,
   "metadata": {},
   "outputs": [
    {
     "data": {
      "text/plain": [
       "[0 0 0]\n",
       "[0 0 0]\n",
       "[0 0 0]\n",
       "[0 0 0]"
      ]
     },
     "execution_count": 65,
     "metadata": {},
     "output_type": "execute_result"
    }
   ],
   "source": [
    "Q * R - A"
   ]
  }
 ],
 "metadata": {
  "kernelspec": {
   "display_name": "SageMath 10.0",
   "language": "sage",
   "name": "sagemath"
  },
  "language_info": {
   "codemirror_mode": {
    "name": "ipython",
    "version": 3
   },
   "file_extension": ".py",
   "mimetype": "text/x-python",
   "name": "python",
   "nbconvert_exporter": "python",
   "pygments_lexer": "ipython3",
   "version": "3.9.18"
  }
 },
 "nbformat": 4,
 "nbformat_minor": 2
}
