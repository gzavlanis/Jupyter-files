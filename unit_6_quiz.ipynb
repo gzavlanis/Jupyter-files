{
 "cells": [
  {
   "cell_type": "markdown",
   "metadata": {},
   "source": [
    "# Answers to some quiz questions of Unit 6\n",
    "\n",
    "### Question 3"
   ]
  },
  {
   "cell_type": "code",
   "execution_count": 7,
   "metadata": {},
   "outputs": [
    {
     "data": {
      "text/plain": [
       "7.0"
      ]
     },
     "execution_count": 7,
     "metadata": {},
     "output_type": "execute_result"
    }
   ],
   "source": [
    "# Define the Linear Programming Problem (LP)\n",
    "p = MixedIntegerLinearProgram(maximization = False)\n",
    "v = p.new_variable(real = True, nonnegative = True)\n",
    "x1, x2 = v['x1'], v['x2']\n",
    "\n",
    "# Set the cost function\n",
    "p.set_objective(4*x1 + 2*x2)\n",
    "\n",
    "# Define the constraints\n",
    "p.add_constraint(x1 + x2 >= 2)\n",
    "p.add_constraint(x1 - x2 >= 1)\n",
    "\n",
    "#Solve the LP problem\n",
    "p.solve()"
   ]
  },
  {
   "cell_type": "code",
   "execution_count": 8,
   "metadata": {},
   "outputs": [
    {
     "data": {
      "text/plain": [
       "(1.5, 0.5)"
      ]
     },
     "execution_count": 8,
     "metadata": {},
     "output_type": "execute_result"
    }
   ],
   "source": [
    "p.get_values(x1), p.get_values(x2)"
   ]
  },
  {
   "cell_type": "code",
   "execution_count": 9,
   "metadata": {},
   "outputs": [
    {
     "data": {
      "text/plain": [
       "7.0"
      ]
     },
     "execution_count": 9,
     "metadata": {},
     "output_type": "execute_result"
    }
   ],
   "source": [
    "p = MixedIntegerLinearProgram(maximization = True)\n",
    "v = p.new_variable(real = True, nonnegative = True)\n",
    "y1, y2 = v['y1'], v['y2']\n",
    "\n",
    "# Set the cost function\n",
    "p.set_objective(2*y1 + y2)\n",
    "\n",
    "# Define the constraints\n",
    "p.add_constraint(y1 + y2 <= 4)\n",
    "p.add_constraint(y1 - y2 <= 2)\n",
    "\n",
    "#Solve the LP problem\n",
    "p.solve()"
   ]
  },
  {
   "cell_type": "code",
   "execution_count": 10,
   "metadata": {},
   "outputs": [
    {
     "data": {
      "text/plain": [
       "(3.0, 1.0)"
      ]
     },
     "execution_count": 10,
     "metadata": {},
     "output_type": "execute_result"
    }
   ],
   "source": [
    "p.get_values(y1), p.get_values(y2)"
   ]
  }
 ],
 "metadata": {
  "kernelspec": {
   "display_name": "SageMath 10.0",
   "language": "sage",
   "name": "sagemath"
  },
  "language_info": {
   "codemirror_mode": {
    "name": "ipython",
    "version": 3
   },
   "file_extension": ".py",
   "mimetype": "text/x-python",
   "name": "python",
   "nbconvert_exporter": "python",
   "pygments_lexer": "ipython3",
   "version": "3.9.18"
  }
 },
 "nbformat": 4,
 "nbformat_minor": 2
}
