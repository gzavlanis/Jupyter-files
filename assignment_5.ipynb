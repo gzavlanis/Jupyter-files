{
 "cells": [
  {
   "cell_type": "markdown",
   "metadata": {},
   "source": [
    "# DAMA50: Mathematics for machine learning\n",
    "\n",
    "## Written assignment 5\n",
    "\n",
    "### Georgios Zavlanis\n",
    "\n",
    "\n",
    "### Problem 7\n",
    "\n",
    "First, we create the Normal Distribution function, which will be our pmf f from scratch, based on our theory"
   ]
  },
  {
   "cell_type": "code",
   "execution_count": null,
   "metadata": {},
   "outputs": [
    {
     "ename": "ValueError",
     "evalue": "too many values to unpack (expected 2)",
     "output_type": "error",
     "traceback": [
      "\u001b[0;31m---------------------------------------------------------------------------\u001b[0m",
      "\u001b[0;31mValueError\u001b[0m                                Traceback (most recent call last)",
      "Cell \u001b[0;32mIn[3], line 1\u001b[0m\n\u001b[0;32m----> 1\u001b[0m μ, σ \u001b[38;5;241m=\u001b[39m var(\u001b[38;5;124m'\u001b[39m\u001b[38;5;124mx, μ, σ\u001b[39m\u001b[38;5;124m'\u001b[39m)\n\u001b[1;32m      3\u001b[0m pdf \u001b[38;5;241m=\u001b[39m Integer(\u001b[38;5;241m1\u001b[39m)\u001b[38;5;241m/\u001b[39mσ\u001b[38;5;241m*\u001b[39msqrt(Integer(\u001b[38;5;241m2\u001b[39m)\u001b[38;5;241m*\u001b[39mpi)\u001b[38;5;241m*\u001b[39mexp(\u001b[38;5;241m-\u001b[39mInteger(\u001b[38;5;241m1\u001b[39m)\u001b[38;5;241m/\u001b[39mInteger(\u001b[38;5;241m2\u001b[39m)\u001b[38;5;241m*\u001b[39m((x\u001b[38;5;241m-\u001b[39mμ)\u001b[38;5;241m/\u001b[39mσ)\u001b[38;5;241m*\u001b[39m\u001b[38;5;241m*\u001b[39mInteger(\u001b[38;5;241m2\u001b[39m)); pdf\n",
      "\u001b[0;31mValueError\u001b[0m: too many values to unpack (expected 2)"
     ]
    }
   ],
   "source": [
    "x, μ, σ = var('x, μ, σ')\n",
    "\n",
    "pdf = 1/σ*sqrt(2*pi)*exp(-1/2*((x-μ)/σ)^2); pdf"
   ]
  }
 ],
 "metadata": {
  "kernelspec": {
   "display_name": "SageMath 10.0",
   "language": "sage",
   "name": "sagemath"
  },
  "language_info": {
   "codemirror_mode": {
    "name": "ipython",
    "version": 3
   },
   "file_extension": ".py",
   "mimetype": "text/x-python",
   "name": "python",
   "nbconvert_exporter": "python",
   "pygments_lexer": "ipython3",
   "version": "3.9.18"
  }
 },
 "nbformat": 4,
 "nbformat_minor": 2
}
