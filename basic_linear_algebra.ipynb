{
 "cells": [
  {
   "cell_type": "markdown",
   "metadata": {},
   "source": [
    "# Basic linear algebra\n",
    "\n",
    "## Code examples from the book\n",
    "\n",
    "### Matrix Computations"
   ]
  },
  {
   "cell_type": "code",
   "execution_count": 1,
   "metadata": {},
   "outputs": [
    {
     "name": "stdout",
     "output_type": "stream",
     "text": [
      "[1 2]\n",
      "[3 4]\n"
     ]
    }
   ],
   "source": [
    "B = matrix(QQ, [[1, 2], [3, 4]]); B\n",
    "print(B)"
   ]
  },
  {
   "cell_type": "code",
   "execution_count": 2,
   "metadata": {},
   "outputs": [
    {
     "name": "stdout",
     "output_type": "stream",
     "text": [
      "[ 2  4  3]\n",
      "[-4 -6 -3]\n",
      "[ 3  3  1]\n",
      "x^3 + 3*x^2 - 4\n",
      "[1, -2, -2]\n",
      "(x - 1) * (x + 2)^2\n",
      "([ 1  0  0]\n",
      "[ 0 -2  0]\n",
      "[ 0  0 -2], [ 1  1  0]\n",
      "[-1 -1  0]\n",
      "[ 1  0  0])\n",
      "([ 1| 0  0]\n",
      "[--+-----]\n",
      "[ 0|-2  1]\n",
      "[ 0| 0 -2], [ 1  1  1]\n",
      "[-1 -1  0]\n",
      "[ 1  0 -1])\n"
     ]
    }
   ],
   "source": [
    "A = matrix(QQ, [[2, 4, 3], [-4, -6, -3], [3, 3, 1]])\n",
    "print(A)\n",
    "print(A.characteristic_polynomial())\n",
    "print(A.eigenvalues())\n",
    "print(A.minimal_polynomial().factor())\n",
    "print(A.eigenmatrix_right())\n",
    "print(A.jordan_form(transformation = True))"
   ]
  },
  {
   "cell_type": "code",
   "execution_count": 5,
   "metadata": {},
   "outputs": [
    {
     "name": "stdout",
     "output_type": "stream",
     "text": [
      "x^2 - 5/4\n"
     ]
    },
    {
     "name": "stdout",
     "output_type": "stream",
     "text": [
      "([ 1/2*sqrt5          0]\n",
      "[         0 -1/2*sqrt5], [         1          1]\n",
      "[-sqrt5 + 2  sqrt5 + 2])\n"
     ]
    }
   ],
   "source": [
    "C = matrix(QQ, [[1, -1/2], [-1/2, -1]])\n",
    "print(C.minimal_polynomial())\n",
    "\n",
    "R = QQ[sqrt(5)]\n",
    "C = C.change_ring(R)\n",
    "print(C.jordan_form(transformation = True, subdivide = False))"
   ]
  },
  {
   "cell_type": "code",
   "execution_count": 6,
   "metadata": {},
   "outputs": [
    {
     "name": "stdout",
     "output_type": "stream",
     "text": [
      "([6|0|0]\n",
      "[-+-+-]\n",
      "[0|0|0]\n",
      "[-+-+-]\n",
      "[0|0|0], [              1               1               0]\n",
      "[1/2*sqrt2*sqrt3               0               1]\n",
      "[      1/2*sqrt2          -sqrt2          -sqrt3])\n"
     ]
    }
   ],
   "source": [
    "K.<sqrt2> = NumberField(x^2 - 2)\n",
    "L.<sqrt3> = K.extension(x^2 - 3)\n",
    "D = matrix(L, [[2, sqrt2 * sqrt3, sqrt2], [sqrt2 * sqrt3, 3, sqrt3], [sqrt2, sqrt3, 1]])\n",
    "print(D.jordan_form(transformation = True))"
   ]
  },
  {
   "cell_type": "markdown",
   "metadata": {},
   "source": [
    "## More analytic examples from book\n",
    "\n",
    "### Spaces of Vectors and Matrices"
   ]
  },
  {
   "cell_type": "code",
   "execution_count": 7,
   "metadata": {},
   "outputs": [
    {
     "name": "stdout",
     "output_type": "stream",
     "text": [
      "Full MatrixSpace of 2 by 3 dense matrices over Integer Ring\n",
      "Vector space of dimension 3 over Finite Field in x of size 3^2\n",
      "[[1 0 0]\n",
      "[0 0 0], [0 1 0]\n",
      "[0 0 0], [0 0 1]\n",
      "[0 0 0], [0 0 0]\n",
      "[1 0 0], [0 0 0]\n",
      "[0 1 0], [0 0 0]\n",
      "[0 0 1]]\n"
     ]
    },
    {
     "name": "stdout",
     "output_type": "stream",
     "text": [
      "200\n",
      "[1 0]\n",
      "[0 1]\n"
     ]
    },
    {
     "data": {
      "text/plain": [
       "False"
      ]
     },
     "execution_count": 7,
     "metadata": {},
     "output_type": "execute_result"
    }
   ],
   "source": [
    "MS = MatrixSpace(ZZ, 2, 3)\n",
    "print(MS)\n",
    "\n",
    "VS = VectorSpace(GF(3^2, 'x'), 3)\n",
    "print(VS)\n",
    "\n",
    "print(list(MS.basis()))\n",
    "\n",
    "A = matrix(GF(11), 2, 2, [1,0,0,2])\n",
    "B = matrix(GF(11), 2, 2, [0,1,1,0])\n",
    "MG = MatrixGroup([A, B])\n",
    "print(MG.cardinality())\n",
    "print(identity_matrix(GF(11), 2)) in MG"
   ]
  },
  {
   "cell_type": "markdown",
   "metadata": {},
   "source": [
    "### Vector and Matrix Construction"
   ]
  },
  {
   "cell_type": "code",
   "execution_count": 8,
   "metadata": {},
   "outputs": [
    {
     "name": "stdout",
     "output_type": "stream",
     "text": [
      "[1 2 3]\n",
      "[4 5 6]\n",
      "Full MatrixSpace of 0 by 0 dense matrices over Integer Ring\n",
      "Full MatrixSpace of 3 by 4 dense matrices over Finite Field in x of size 2^3\n"
     ]
    }
   ],
   "source": [
    "C = MS([1, 2, 3, 4, 5, 6])\n",
    "print(C)\n",
    "\n",
    "a = matrix()\n",
    "print(a.parent())\n",
    "\n",
    "b = matrix(GF(8, 'x'), 3, 4)\n",
    "print(b.parent())"
   ]
  },
  {
   "cell_type": "code",
   "execution_count": 13,
   "metadata": {},
   "outputs": [
    {
     "name": "stdout",
     "output_type": "stream",
     "text": [
      "[ 1  2|-1 -2]\n",
      "[ 3  4|-3 -4]\n",
      "[-----+-----]\n",
      "[ 2  4| 7 10]\n",
      "[ 6  8|15 22]\n",
      "\n",
      "[ 1  0| 1  2| 0  0]\n",
      "[ 0  1| 3  4| 0  0]\n",
      "[-----+-----+-----]\n",
      "[ 0  0|-1 -2| 2  0]\n",
      "[ 0  0|-3 -4| 0  2]\n",
      "\n",
      "[1 2|0 0]\n",
      "[3 4|0 0]\n",
      "[---+---]\n",
      "[0 0|1 3]\n",
      "[0 0|2 4]\n"
     ]
    }
   ],
   "source": [
    "A = matrix([[1,2], [3,4]])\n",
    "print(block_matrix([[A, -A], [2*A, A^2]]))\n",
    "\n",
    "B = matrix([[1,2,3], [4,5,6]])\n",
    "print('')\n",
    "print(block_matrix([1, A, 0, 0, -A, 2], ncols = 3))\n",
    "\n",
    "C = matrix([[1,2,3], [0,1,0]])\n",
    "print('')\n",
    "print(block_diagonal_matrix(A, A.transpose()))"
   ]
  },
  {
   "cell_type": "markdown",
   "metadata": {},
   "source": [
    "## Basic Manipulations and Arithmetic on Matrices"
   ]
  },
  {
   "cell_type": "code",
   "execution_count": 20,
   "metadata": {},
   "outputs": [
    {
     "name": "stdout",
     "output_type": "stream",
     "text": [
      "[0 1 2]\n",
      "[3 1 5]\n",
      "[6 2 8]\n",
      "\n",
      "[[6 2 8]\n",
      "[3 1 5]\n",
      "[0 1 2], [2 1 0]\n",
      "[5 1 3]\n",
      "[8 2 6], [2]\n",
      "[8]]\n",
      "\n",
      "[ 1  2]\n",
      "[ 9 10]\n",
      "[13 14]\n"
     ]
    }
   ],
   "source": [
    "A = matrix(3, 3, range(9))\n",
    "A[:, 1] = vector([1,1,2])\n",
    "print(A)\n",
    "print('')\n",
    "print([A[::-1], A[:, ::-1], A[::2, -1]])\n",
    "\n",
    "B = matrix(ZZ, 4, 4, range(16))\n",
    "print('')\n",
    "print(B.matrix_from_rows_and_columns([0,2,3], [1,2]))"
   ]
  },
  {
   "cell_type": "markdown",
   "metadata": {},
   "source": [
    "### Embedding and Extension"
   ]
  },
  {
   "cell_type": "code",
   "execution_count": 23,
   "metadata": {},
   "outputs": [
    {
     "name": "stdout",
     "output_type": "stream",
     "text": [
      "Full MatrixSpace of 2 by 3 dense matrices over Finite Field in x of size 3^2\n"
     ]
    },
    {
     "data": {
      "text/plain": [
       "Full MatrixSpace of 2 by 3 dense matrices over Finite Field of size 3"
      ]
     },
     "execution_count": 23,
     "metadata": {},
     "output_type": "execute_result"
    }
   ],
   "source": [
    "MS = MatrixSpace(GF(3), 2, 3)\n",
    "print(MS.base_extend(GF(9, 'x')))\n",
    "\n",
    "MS2 = MatrixSpace(ZZ, 2, 3)\n",
    "MS2.change_ring(GF(3))"
   ]
  },
  {
   "cell_type": "markdown",
   "metadata": {},
   "source": [
    "## Gaussian Elimination, Echelon Form"
   ]
  },
  {
   "cell_type": "code",
   "execution_count": 32,
   "metadata": {},
   "outputs": [
    {
     "name": "stdout",
     "output_type": "stream",
     "text": [
      "[6 2 2]\n",
      "[5 4 4]\n",
      "[6 4 5]\n",
      "[5 1 3]\n",
      "\n",
      "[1 0 0 0]\n",
      "[5 1 0 0]\n",
      "[6 0 1 0]\n",
      "[5 0 0 1] [6 2 2]\n",
      "[0 0 0]\n",
      "[0 2 3]\n",
      "[0 4 6]\n",
      "\n",
      "[1 0 0 0]\n",
      "[0 0 1 0]\n",
      "[0 1 0 0]\n",
      "[0 0 0 1] [6 2 2]\n",
      "[0 2 3]\n",
      "[0 0 0]\n",
      "[0 4 6]\n",
      "\n",
      "[1 0 0 0]\n",
      "[0 1 0 0]\n",
      "[0 0 1 0]\n",
      "[0 5 0 1] [6 2 2]\n",
      "[0 2 3]\n",
      "[0 0 0]\n",
      "[0 0 0]\n"
     ]
    }
   ],
   "source": [
    "a = matrix(GF(7), 4, 3, [6, 2, 2, 5, 4, 4, 6, 4, 5, 5, 1, 3])\n",
    "print(a)\n",
    "\n",
    "u = copy(identity_matrix(GF(7), 4))\n",
    "u[1:,0] = -a[1:, 0]/a[0,0]\n",
    "print('')\n",
    "print(u, u*a)\n",
    "\n",
    "v = copy(identity_matrix(GF(7), 4))\n",
    "v.swap_rows(1, 2)\n",
    "b = v*u*a\n",
    "print('')\n",
    "print(v, b)\n",
    "\n",
    "w = copy(identity_matrix(GF(7), 4))\n",
    "w[2:, 1] = -b[2:, 1]/b[1,1]\n",
    "print('')\n",
    "print(w, w*b)"
   ]
  },
  {
   "cell_type": "code",
   "execution_count": 33,
   "metadata": {},
   "outputs": [
    {
     "data": {
      "text/plain": [
       "(\n",
       "[4 4 0 2 4]  [1 0 5 0 3]\n",
       "[5 1 6 5 4]  [0 1 2 0 6]\n",
       "[1 1 0 1 0]  [0 0 0 1 5]\n",
       "[5 1 6 6 2], [0 0 0 0 0]\n",
       ")"
      ]
     },
     "execution_count": 33,
     "metadata": {},
     "output_type": "execute_result"
    }
   ],
   "source": [
    "b = matrix(GF(7), 4, 5, [4,4,0,2,4,5,1,6,5,4,1,1,0,1,0,5,1,6,6,2])\n",
    "b, b.echelon_form()"
   ]
  },
  {
   "cell_type": "code",
   "execution_count": 35,
   "metadata": {},
   "outputs": [
    {
     "data": {
      "text/plain": [
       "(\n",
       "[ 1  2  0  5  4 -1]  [   1    0    0    0  5/2 11/6]\n",
       "[ 0  3  0  2 -6 -7]  [   0    1    0    0   -3 -8/3]\n",
       "[ 0  0  1  3  3  0]  [   0    0    1    0 -3/2 -3/2]\n",
       "[ 0  0  0  6  9  3], [   0    0    0    1  3/2  1/2]\n",
       ")"
      ]
     },
     "execution_count": 35,
     "metadata": {},
     "output_type": "execute_result"
    }
   ],
   "source": [
    "c = matrix(ZZ, 4, 6, [2,1,2,2,2,-1,1,2,-1,2,1,-1,2,1,-1,-1,2,2,2,1,1,-1,-1,-1])\n",
    "c.echelon_form(), c.base_extend(QQ).echelon_form()"
   ]
  },
  {
   "cell_type": "code",
   "execution_count": 36,
   "metadata": {},
   "outputs": [
    {
     "data": {
      "text/plain": [
       "(\n",
       "[ 1  1  0  0  2]  [ 0  1  1 -1]\n",
       "[ 0  4 -6  0 -4]  [ 0 -1  5  0]\n",
       "[ 0  0  0  1 -2]  [ 0 -1  0  1]\n",
       "[ 0  0  0  0  0], [ 1 -2 -4  2]\n",
       ")"
      ]
     },
     "execution_count": 36,
     "metadata": {},
     "output_type": "execute_result"
    }
   ],
   "source": [
    "d = matrix(ZZ, 4, 5, [4,4,0,2,4,5,1,6,5,4,1,1,0,1,0,5,1,6,6,2])\n",
    "H, U = d.echelon_form(transformation = True)\n",
    "H, U"
   ]
  },
  {
   "cell_type": "code",
   "execution_count": 39,
   "metadata": {},
   "outputs": [
    {
     "data": {
      "text/plain": [
       "(\n",
       "                            [ 3  1  2 -1  0]                    \n",
       "[1 0 0 0 0]  [ 0  0  1  0]  [ 0  0  0  0  1]                    \n",
       "[0 1 0 0 0]  [ 0  1  0  0]  [ 1  1  1  1 -1]                    \n",
       "[0 0 3 0 0]  [ 1 -2 -4  1]  [-3 -2 -3 -1  0]                    \n",
       "[0 0 0 6 0], [ 0  0  4 -1], [ 1  0  0 -2  0], [1, 1, 3, 6], True\n",
       ")"
      ]
     },
     "execution_count": 39,
     "metadata": {},
     "output_type": "execute_result"
    }
   ],
   "source": [
    "e = matrix(ZZ, 4, 5, [-1,-1,-1,-2,-2,-2,1,1,-1,2,2,2,2,2,-1,2,2,2,2,2])\n",
    "s, u, v = e.smith_form()\n",
    "s, u, v, e.elementary_divisors(), s == u*e*v"
   ]
  }
 ],
 "metadata": {
  "kernelspec": {
   "display_name": "SageMath 9.3",
   "language": "sage",
   "name": "sagemath"
  },
  "language_info": {
   "codemirror_mode": {
    "name": "ipython",
    "version": 3
   },
   "file_extension": ".py",
   "mimetype": "text/x-python",
   "name": "python",
   "nbconvert_exporter": "python",
   "pygments_lexer": "ipython3",
   "version": "3.7.10"
  }
 },
 "nbformat": 4,
 "nbformat_minor": 2
}
