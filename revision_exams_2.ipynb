{
 "cells": [
  {
   "cell_type": "markdown",
   "metadata": {},
   "source": [
    "# Revision for exams\n",
    "\n",
    "## Solutions of previous years assignments 2021-2022\n",
    "\n",
    "### Unit 1\n",
    "\n",
    "**Problem 7**\n",
    "\n"
   ]
  },
  {
   "cell_type": "markdown",
   "metadata": {},
   "source": [
    "The vectors are linearly dependent when the system $λ_1α+λ_2β+λ_3γ=0$ has solutions with $λi\\neq0, i=1,2,3$\\\n",
    "This is equivalen to having non trivial solutions to the system $M.λ=0$ where $M=[α,β,γ]$ and $λ=[λ_1,λ_2,λ_3]$,\\\n",
    "which is true only when $det(M)=0$."
   ]
  },
  {
   "cell_type": "code",
   "execution_count": 5,
   "metadata": {},
   "outputs": [
    {
     "data": {
      "text/html": [
       "<html><script type=\"math/tex; mode=display\">\\newcommand{\\Bold}[1]{\\mathbf{#1}}\\left(\\left(1,\\,k,\\,3\\right), \\left(-1,\\,1,\\,1\\right), \\left(7,\\,3,\\,k\\right)\\right)</script></html>"
      ],
      "text/latex": [
       "$$\\newcommand{\\Bold}[1]{\\mathbf{#1}}\\left(\\left(1,\\,k,\\,3\\right), \\left(-1,\\,1,\\,1\\right), \\left(7,\\,3,\\,k\\right)\\right)$$"
      ],
      "text/plain": [
       "((1, k, 3), (-1, 1, 1), (7, 3, k))"
      ]
     },
     "execution_count": 5,
     "metadata": {},
     "output_type": "execute_result"
    }
   ],
   "source": [
    "%display latex\n",
    "\n",
    "k = var('k')\n",
    "a = vector([1, k, 3])\n",
    "b = vector([-1, 1, 1])\n",
    "c = vector([7, 3, k])\n",
    "\n",
    "a, b, c"
   ]
  },
  {
   "cell_type": "code",
   "execution_count": 4,
   "metadata": {},
   "outputs": [
    {
     "data": {
      "text/html": [
       "<html><script type=\"math/tex; mode=display\">\\newcommand{\\Bold}[1]{\\mathbf{#1}}\\left(\\begin{array}{rrr}\n",
       "1 & k & 3 \\\\\n",
       "-1 & 1 & 1 \\\\\n",
       "7 & 3 & k\n",
       "\\end{array}\\right)</script></html>"
      ],
      "text/latex": [
       "$$\\newcommand{\\Bold}[1]{\\mathbf{#1}}\\left(\\begin{array}{rrr}\n",
       "1 & k & 3 \\\\\n",
       "-1 & 1 & 1 \\\\\n",
       "7 & 3 & k\n",
       "\\end{array}\\right)$$"
      ],
      "text/plain": [
       "[ 1  k  3]\n",
       "[-1  1  1]\n",
       "[ 7  3  k]"
      ]
     },
     "execution_count": 4,
     "metadata": {},
     "output_type": "execute_result"
    }
   ],
   "source": [
    "m = matrix([a, b, c]); m"
   ]
  },
  {
   "cell_type": "code",
   "execution_count": 7,
   "metadata": {},
   "outputs": [
    {
     "data": {
      "text/html": [
       "<html><script type=\"math/tex; mode=display\">\\newcommand{\\Bold}[1]{\\mathbf{#1}}\\left[k = 3, k = \\left(-11\\right)\\right]</script></html>"
      ],
      "text/latex": [
       "$$\\newcommand{\\Bold}[1]{\\mathbf{#1}}\\left[k = 3, k = \\left(-11\\right)\\right]$$"
      ],
      "text/plain": [
       "[k == 3, k == -11]"
      ]
     },
     "execution_count": 7,
     "metadata": {},
     "output_type": "execute_result"
    }
   ],
   "source": [
    "solve(det(m) == 0, k)"
   ]
  },
  {
   "cell_type": "markdown",
   "metadata": {},
   "source": [
    "**Problem 8**"
   ]
  },
  {
   "cell_type": "code",
   "execution_count": 8,
   "metadata": {},
   "outputs": [
    {
     "data": {
      "text/html": [
       "<html><script type=\"math/tex; mode=display\">\\newcommand{\\Bold}[1]{\\mathbf{#1}}7</script></html>"
      ],
      "text/latex": [
       "$$\\newcommand{\\Bold}[1]{\\mathbf{#1}}7$$"
      ],
      "text/plain": [
       "7"
      ]
     },
     "execution_count": 8,
     "metadata": {},
     "output_type": "execute_result"
    }
   ],
   "source": [
    "k = 3744\n",
    "l = 1 + (k % 7); l"
   ]
  },
  {
   "cell_type": "markdown",
   "metadata": {},
   "source": [
    "(a)"
   ]
  },
  {
   "cell_type": "code",
   "execution_count": 9,
   "metadata": {},
   "outputs": [
    {
     "data": {
      "text/html": [
       "<html><script type=\"math/tex; mode=display\">\\newcommand{\\Bold}[1]{\\mathbf{#1}}\\left[\\left[x = \\left(\\frac{96}{137}\\right), y = \\left(\\frac{66}{137}\\right), z = \\left(-\\frac{13}{137}\\right)\\right]\\right]</script></html>"
      ],
      "text/latex": [
       "$$\\newcommand{\\Bold}[1]{\\mathbf{#1}}\\left[\\left[x = \\left(\\frac{96}{137}\\right), y = \\left(\\frac{66}{137}\\right), z = \\left(-\\frac{13}{137}\\right)\\right]\\right]$$"
      ],
      "text/plain": [
       "[[x == (96/137), y == (66/137), z == (-13/137)]]"
      ]
     },
     "execution_count": 9,
     "metadata": {},
     "output_type": "execute_result"
    }
   ],
   "source": [
    "x, y, z = var('x, y, z')\n",
    "solve([x+2*y+7*z == 1, 3*x+l*y+5*z == 5, -x+6*y+2*z == 2], [x, y, z])"
   ]
  },
  {
   "cell_type": "markdown",
   "metadata": {},
   "source": [
    "(b)"
   ]
  },
  {
   "cell_type": "code",
   "execution_count": 10,
   "metadata": {},
   "outputs": [
    {
     "data": {
      "text/html": [
       "<html><script type=\"math/tex; mode=display\">\\newcommand{\\Bold}[1]{\\mathbf{#1}}\\left(\\begin{array}{rrr}\n",
       "1 & 2 & 7 \\\\\n",
       "3 & 7 & 5 \\\\\n",
       "-1 & 6 & 2\n",
       "\\end{array}\\right)</script></html>"
      ],
      "text/latex": [
       "$$\\newcommand{\\Bold}[1]{\\mathbf{#1}}\\left(\\begin{array}{rrr}\n",
       "1 & 2 & 7 \\\\\n",
       "3 & 7 & 5 \\\\\n",
       "-1 & 6 & 2\n",
       "\\end{array}\\right)$$"
      ],
      "text/plain": [
       "[ 1  2  7]\n",
       "[ 3  7  5]\n",
       "[-1  6  2]"
      ]
     },
     "execution_count": 10,
     "metadata": {},
     "output_type": "execute_result"
    }
   ],
   "source": [
    "m = matrix(QQ, [[1, 2, 7], [3, l, 5], [-1, 6, 2]]); m"
   ]
  },
  {
   "cell_type": "code",
   "execution_count": 11,
   "metadata": {},
   "outputs": [
    {
     "data": {
      "text/html": [
       "<html><script type=\"math/tex; mode=display\">\\newcommand{\\Bold}[1]{\\mathbf{#1}}\\left(\\frac{96}{137},\\,\\frac{66}{137},\\,-\\frac{13}{137}\\right)</script></html>"
      ],
      "text/latex": [
       "$$\\newcommand{\\Bold}[1]{\\mathbf{#1}}\\left(\\frac{96}{137},\\,\\frac{66}{137},\\,-\\frac{13}{137}\\right)$$"
      ],
      "text/plain": [
       "(96/137, 66/137, -13/137)"
      ]
     },
     "execution_count": 11,
     "metadata": {},
     "output_type": "execute_result"
    }
   ],
   "source": [
    "u = vector(QQ, [1, 5, 2])\n",
    "m^(-1)*u"
   ]
  },
  {
   "cell_type": "markdown",
   "metadata": {},
   "source": [
    "(c)"
   ]
  },
  {
   "cell_type": "code",
   "execution_count": 14,
   "metadata": {},
   "outputs": [
    {
     "data": {
      "text/html": [
       "<html><script type=\"math/tex; mode=display\">\\newcommand{\\Bold}[1]{\\mathbf{#1}}\\left(\\begin{array}{rrr|r}\n",
       "1 & 2 & 7 & 1 \\\\\n",
       "3 & 7 & 5 & 5 \\\\\n",
       "-1 & 6 & 2 & 2\n",
       "\\end{array}\\right)</script></html>"
      ],
      "text/latex": [
       "$$\\newcommand{\\Bold}[1]{\\mathbf{#1}}\\left(\\begin{array}{rrr|r}\n",
       "1 & 2 & 7 & 1 \\\\\n",
       "3 & 7 & 5 & 5 \\\\\n",
       "-1 & 6 & 2 & 2\n",
       "\\end{array}\\right)$$"
      ],
      "text/plain": [
       "[ 1  2  7| 1]\n",
       "[ 3  7  5| 5]\n",
       "[-1  6  2| 2]"
      ]
     },
     "execution_count": 14,
     "metadata": {},
     "output_type": "execute_result"
    }
   ],
   "source": [
    "mu = m.augment(u, subdivide = True); mu"
   ]
  },
  {
   "cell_type": "code",
   "execution_count": 15,
   "metadata": {},
   "outputs": [
    {
     "data": {
      "text/html": [
       "<html><script type=\"math/tex; mode=display\">\\newcommand{\\Bold}[1]{\\mathbf{#1}}\\left(\\begin{array}{rrr|r}\n",
       "1 & 0 & 0 & \\frac{96}{137} \\\\\n",
       "0 & 1 & 0 & \\frac{66}{137} \\\\\n",
       "0 & 0 & 1 & -\\frac{13}{137}\n",
       "\\end{array}\\right)</script></html>"
      ],
      "text/latex": [
       "$$\\newcommand{\\Bold}[1]{\\mathbf{#1}}\\left(\\begin{array}{rrr|r}\n",
       "1 & 0 & 0 & \\frac{96}{137} \\\\\n",
       "0 & 1 & 0 & \\frac{66}{137} \\\\\n",
       "0 & 0 & 1 & -\\frac{13}{137}\n",
       "\\end{array}\\right)$$"
      ],
      "text/plain": [
       "[      1       0       0| 96/137]\n",
       "[      0       1       0| 66/137]\n",
       "[      0       0       1|-13/137]"
      ]
     },
     "execution_count": 15,
     "metadata": {},
     "output_type": "execute_result"
    }
   ],
   "source": [
    "mu.echelon_form()"
   ]
  },
  {
   "cell_type": "markdown",
   "metadata": {},
   "source": [
    "### Unit 2\n",
    "\n",
    "**Problem 7**"
   ]
  },
  {
   "cell_type": "code",
   "execution_count": 31,
   "metadata": {},
   "outputs": [
    {
     "data": {
      "text/plain": [
       "[(2, 0, 1),\n",
       " (-4, 10, 0),\n",
       " (1, 6, 1),\n",
       " (-1, 1, 0),\n",
       " (0, -1, 0),\n",
       " (-1, -1, 0),\n",
       " (5, -3, 1),\n",
       " (5, 1, 0),\n",
       " (1, -1, -1),\n",
       " (2, -10, 10),\n",
       " (0, 2, 1),\n",
       " (-2, 3, -3),\n",
       " (1, -10, -1),\n",
       " (2, -1, 4),\n",
       " (1, 1, -1),\n",
       " (-5, -3, 39),\n",
       " (-1, 9, 1),\n",
       " (2, 3, 1),\n",
       " (1, 1, 1),\n",
       " (7, 1, -1)]"
      ]
     },
     "execution_count": 31,
     "metadata": {},
     "output_type": "execute_result"
    }
   ],
   "source": [
    "%display plain\n",
    "\n",
    "rvs = [vector(random_matrix(ZZ, 1, 3)) for i in range(20)]; rvs"
   ]
  },
  {
   "cell_type": "markdown",
   "metadata": {},
   "source": [
    "(a) The associated norms are:"
   ]
  },
  {
   "cell_type": "code",
   "execution_count": 32,
   "metadata": {},
   "outputs": [
    {
     "data": {
      "text/plain": [
       "[[2.236],\n",
       " [10.77],\n",
       " [6.164],\n",
       " [1.414],\n",
       " [1.000],\n",
       " [1.414],\n",
       " [5.916],\n",
       " [5.099],\n",
       " [1.732],\n",
       " [14.28],\n",
       " [2.236],\n",
       " [4.690],\n",
       " [10.10],\n",
       " [4.583],\n",
       " [1.732],\n",
       " [39.43],\n",
       " [9.110],\n",
       " [3.742],\n",
       " [1.732],\n",
       " [7.141]]"
      ]
     },
     "execution_count": 32,
     "metadata": {},
     "output_type": "execute_result"
    }
   ],
   "source": [
    "[[n(norm(x), digits = 4)] for x in rvs]"
   ]
  },
  {
   "cell_type": "markdown",
   "metadata": {},
   "source": [
    "(b) The angles (in rads)"
   ]
  },
  {
   "cell_type": "code",
   "execution_count": 24,
   "metadata": {},
   "outputs": [
    {
     "data": {
      "text/plain": [
       "(1/3*sqrt(3), 1/3*sqrt(3), 1/3*sqrt(3))"
      ]
     },
     "execution_count": 24,
     "metadata": {},
     "output_type": "execute_result"
    }
   ],
   "source": [
    "r = vector(ZZ, [1,1,1]) / sqrt(3); r"
   ]
  },
  {
   "cell_type": "code",
   "execution_count": 33,
   "metadata": {},
   "outputs": [
    {
     "data": {
      "text/plain": [
       "[0.6847,\n",
       " 1.243,\n",
       " 0.7238,\n",
       " 1.571,\n",
       " 2.186,\n",
       " 2.526,\n",
       " 1.274,\n",
       " 0.8239,\n",
       " 1.911,\n",
       " 1.490,\n",
       " 0.6847,\n",
       " 1.820,\n",
       " 2.179,\n",
       " 0.8893,\n",
       " 1.231,\n",
       " 1.100,\n",
       " 0.9639,\n",
       " 0.3876,\n",
       " 0.0000,\n",
       " 0.9693]"
      ]
     },
     "execution_count": 33,
     "metadata": {},
     "output_type": "execute_result"
    }
   ],
   "source": [
    "[n(arccos(r.dot_product(x)/norm(x)/norm(r)), digits =4) for x in rvs]"
   ]
  },
  {
   "cell_type": "markdown",
   "metadata": {},
   "source": [
    "(c) The projections are:"
   ]
  },
  {
   "cell_type": "code",
   "execution_count": 34,
   "metadata": {},
   "outputs": [
    {
     "data": {
      "text/plain": [
       "[(1, 1, 1),\n",
       " (2, 2, 2),\n",
       " (8/3, 8/3, 8/3),\n",
       " (0, 0, 0),\n",
       " (-1/3, -1/3, -1/3),\n",
       " (-2/3, -2/3, -2/3),\n",
       " (1, 1, 1),\n",
       " (2, 2, 2),\n",
       " (-1/3, -1/3, -1/3),\n",
       " (2/3, 2/3, 2/3),\n",
       " (1, 1, 1),\n",
       " (-2/3, -2/3, -2/3),\n",
       " (-10/3, -10/3, -10/3),\n",
       " (5/3, 5/3, 5/3),\n",
       " (1/3, 1/3, 1/3),\n",
       " (31/3, 31/3, 31/3),\n",
       " (3, 3, 3),\n",
       " (2, 2, 2),\n",
       " (1, 1, 1),\n",
       " (7/3, 7/3, 7/3)]"
      ]
     },
     "execution_count": 34,
     "metadata": {},
     "output_type": "execute_result"
    }
   ],
   "source": [
    "projs = [r.dot_product(x)*r/norm(r)^2 for x in rvs]; projs"
   ]
  },
  {
   "cell_type": "markdown",
   "metadata": {},
   "source": [
    "(d) The angles in degrees are:"
   ]
  },
  {
   "cell_type": "code",
   "execution_count": 35,
   "metadata": {},
   "outputs": [
    {
     "data": {
      "text/plain": [
       "[44.38,\n",
       " 18.43,\n",
       " 42.93,\n",
       " 0.0000,\n",
       " -33.08,\n",
       " -46.78,\n",
       " 16.77,\n",
       " 38.92,\n",
       " -19.10,\n",
       " 4.632,\n",
       " 44.38,\n",
       " -14.11,\n",
       " -32.75,\n",
       " 36.09,\n",
       " 19.10,\n",
       " 26.01,\n",
       " 32.68,\n",
       " 53.05,\n",
       " 57.30,\n",
       " 32.42]"
      ]
     },
     "execution_count": 35,
     "metadata": {},
     "output_type": "execute_result"
    }
   ],
   "source": [
    "[n((180/pi)*x.dot_product(r)/norm(x)/norm(r), digits = 4) for x in rvs]"
   ]
  },
  {
   "cell_type": "markdown",
   "metadata": {},
   "source": [
    "**Problem 8**"
   ]
  },
  {
   "cell_type": "code",
   "execution_count": null,
   "metadata": {},
   "outputs": [],
   "source": [
    "%display latex"
   ]
  },
  {
   "cell_type": "code",
   "execution_count": 37,
   "metadata": {},
   "outputs": [
    {
     "data": {
      "text/plain": [
       "[    2     1     1]\n",
       "[ -2/3   7/6   1/6]\n",
       "[-4/11 -4/11 12/11]"
      ]
     },
     "execution_count": 37,
     "metadata": {},
     "output_type": "execute_result"
    }
   ],
   "source": [
    "m = matrix(QQ, [[2,1,1],[1,2,1],[1,1,2]])\n",
    "g, s = m.gram_schmidt(); g"
   ]
  },
  {
   "cell_type": "code",
   "execution_count": 40,
   "metadata": {},
   "outputs": [
    {
     "data": {
      "text/plain": [
       "[(2, 1, 1), (-2/3, 7/6, 1/6), (-4/11, -4/11, 12/11)]"
      ]
     },
     "execution_count": 40,
     "metadata": {},
     "output_type": "execute_result"
    }
   ],
   "source": [
    "v1, v2, v3 = g\n",
    "[v1, v2, v3]"
   ]
  },
  {
   "cell_type": "code",
   "execution_count": 44,
   "metadata": {},
   "outputs": [
    {
     "data": {
      "text/plain": [
       "(0.817, 0.408, 0.408)"
      ]
     },
     "execution_count": 44,
     "metadata": {},
     "output_type": "execute_result"
    }
   ],
   "source": [
    "nv1 = v1/norm(v1)\n",
    "n(nv1, digits = 3)"
   ]
  },
  {
   "cell_type": "code",
   "execution_count": 46,
   "metadata": {},
   "outputs": [
    {
     "data": {
      "text/plain": [
       "(-0.492, 0.862, 0.123)"
      ]
     },
     "execution_count": 46,
     "metadata": {},
     "output_type": "execute_result"
    }
   ],
   "source": [
    "nv2 = v2/norm(v2)\n",
    "n(nv2, digits = 3)"
   ]
  },
  {
   "cell_type": "code",
   "execution_count": 47,
   "metadata": {},
   "outputs": [
    {
     "data": {
      "text/plain": [
       "(-0.302, -0.302, 0.905)"
      ]
     },
     "execution_count": 47,
     "metadata": {},
     "output_type": "execute_result"
    }
   ],
   "source": [
    "nv3 = v3/norm(v3)\n",
    "n(nv3, digits = 3)"
   ]
  }
 ],
 "metadata": {
  "kernelspec": {
   "display_name": "SageMath 9.3",
   "language": "sage",
   "name": "sagemath"
  },
  "language_info": {
   "codemirror_mode": {
    "name": "ipython",
    "version": 3
   },
   "file_extension": ".py",
   "mimetype": "text/x-python",
   "name": "python",
   "nbconvert_exporter": "python",
   "pygments_lexer": "ipython3",
   "version": "3.7.10"
  }
 },
 "nbformat": 4,
 "nbformat_minor": 2
}
