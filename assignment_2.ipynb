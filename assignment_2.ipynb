{
 "cells": [
  {
   "cell_type": "markdown",
   "metadata": {},
   "source": [
    "# DAMA50: Mathematics for machine learning\n",
    "\n",
    "## Written assignment 2\n",
    "\n",
    "### Problem 7\n",
    "\n",
    "a. We first create the vectors:"
   ]
  },
  {
   "cell_type": "code",
   "execution_count": 78,
   "metadata": {},
   "outputs": [],
   "source": [
    "%display latex"
   ]
  },
  {
   "cell_type": "code",
   "execution_count": 79,
   "metadata": {},
   "outputs": [
    {
     "data": {
      "text/html": [
       "<html>\\(\\displaystyle \\left(\\left(0,\\,-1,\\,2,\\,0,\\,2\\right), \\left(1,\\,-3,\\,1,\\,-1,\\,2\\right), \\left(-3,\\,4,\\,1,\\,2,\\,1\\right), \\left(-1,\\,-3,\\,5,\\,0,\\,7\\right)\\right)\\)</html>"
      ],
      "text/latex": [
       "$\\displaystyle \\left(\\left(0,\\,-1,\\,2,\\,0,\\,2\\right), \\left(1,\\,-3,\\,1,\\,-1,\\,2\\right), \\left(-3,\\,4,\\,1,\\,2,\\,1\\right), \\left(-1,\\,-3,\\,5,\\,0,\\,7\\right)\\right)$"
      ],
      "text/plain": [
       "((0, -1, 2, 0, 2), (1, -3, 1, -1, 2), (-3, 4, 1, 2, 1), (-1, -3, 5, 0, 7))"
      ]
     },
     "execution_count": 79,
     "metadata": {},
     "output_type": "execute_result"
    }
   ],
   "source": [
    "a = vector(QQ, [0, -1, 2, 0, 2])\n",
    "b = vector(QQ, [1, -3, 1, -1, 2])\n",
    "c = vector(QQ, [-3, 4, 1, 2, 1])\n",
    "d = vector(QQ, [-1, -3, 5, 0, 7])\n",
    "\n",
    "a, b, c, d"
   ]
  },
  {
   "cell_type": "markdown",
   "metadata": {},
   "source": [
    "After that, we check the linear independence:"
   ]
  },
  {
   "cell_type": "code",
   "execution_count": 80,
   "metadata": {},
   "outputs": [
    {
     "data": {
      "text/html": [
       "<html>\\(\\displaystyle \\left(\\begin{array}{rrrr}\n",
       "0 & 1 & -3 & -1 \\\\\n",
       "-1 & -3 & 4 & -3 \\\\\n",
       "2 & 1 & 1 & 5 \\\\\n",
       "0 & -1 & 2 & 0 \\\\\n",
       "2 & 2 & 1 & 7\n",
       "\\end{array}\\right)\\)</html>"
      ],
      "text/latex": [
       "$\\displaystyle \\left(\\begin{array}{rrrr}\n",
       "0 & 1 & -3 & -1 \\\\\n",
       "-1 & -3 & 4 & -3 \\\\\n",
       "2 & 1 & 1 & 5 \\\\\n",
       "0 & -1 & 2 & 0 \\\\\n",
       "2 & 2 & 1 & 7\n",
       "\\end{array}\\right)$"
      ],
      "text/plain": [
       "[ 0  1 -3 -1]\n",
       "[-1 -3  4 -3]\n",
       "[ 2  1  1  5]\n",
       "[ 0 -1  2  0]\n",
       "[ 2  2  1  7]"
      ]
     },
     "execution_count": 80,
     "metadata": {},
     "output_type": "execute_result"
    }
   ],
   "source": [
    "# We form the matrix A = [a b c d]\n",
    "\n",
    "A = column_matrix([a, b, c, d])\n",
    "A"
   ]
  },
  {
   "cell_type": "code",
   "execution_count": 81,
   "metadata": {},
   "outputs": [
    {
     "data": {
      "text/html": [
       "<html>\\(\\displaystyle \\left(\\begin{array}{rrrr}\n",
       "1 & 0 & 0 & 1 \\\\\n",
       "0 & 1 & 0 & 2 \\\\\n",
       "0 & 0 & 1 & 1 \\\\\n",
       "0 & 0 & 0 & 0 \\\\\n",
       "0 & 0 & 0 & 0\n",
       "\\end{array}\\right)\\)</html>"
      ],
      "text/latex": [
       "$\\displaystyle \\left(\\begin{array}{rrrr}\n",
       "1 & 0 & 0 & 1 \\\\\n",
       "0 & 1 & 0 & 2 \\\\\n",
       "0 & 0 & 1 & 1 \\\\\n",
       "0 & 0 & 0 & 0 \\\\\n",
       "0 & 0 & 0 & 0\n",
       "\\end{array}\\right)$"
      ],
      "text/plain": [
       "[1 0 0 1]\n",
       "[0 1 0 2]\n",
       "[0 0 1 1]\n",
       "[0 0 0 0]\n",
       "[0 0 0 0]"
      ]
     },
     "execution_count": 81,
     "metadata": {},
     "output_type": "execute_result"
    }
   ],
   "source": [
    "# Then we transform A in Reduced Row Echelon Form:\n",
    "\n",
    "A.rref()"
   ]
  },
  {
   "cell_type": "markdown",
   "metadata": {},
   "source": [
    "As we can see we have the following system of equations:"
   ]
  },
  {
   "cell_type": "code",
   "execution_count": 82,
   "metadata": {},
   "outputs": [
    {
     "data": {
      "text/html": [
       "<html>\\(\\displaystyle \\left[\\left[x_{1} = -r_{6}, x_{2} = -2 \\, r_{6}, x_{3} = -r_{6}, x_{4} = r_{6}\\right]\\right]\\)</html>"
      ],
      "text/latex": [
       "$\\displaystyle \\left[\\left[x_{1} = -r_{6}, x_{2} = -2 \\, r_{6}, x_{3} = -r_{6}, x_{4} = r_{6}\\right]\\right]$"
      ],
      "text/plain": [
       "[[x1 == -r6, x2 == -2*r6, x3 == -r6, x4 == r6]]"
      ]
     },
     "execution_count": 82,
     "metadata": {},
     "output_type": "execute_result"
    }
   ],
   "source": [
    "x1, x2, x3, x4 = var('x1 x2 x3 x4')\n",
    "\n",
    "eq1 = x1 + x4 == 0\n",
    "eq2 = x2 + 2*x4 == 0\n",
    "eq3 = x3 + x4 == 0\n",
    "\n",
    "solve([eq1, eq2, eq3], x1, x2, x3, x4)"
   ]
  },
  {
   "cell_type": "markdown",
   "metadata": {},
   "source": [
    "We can see that for every non-zero value of r3, the system has infinitely many solutions. Thus, the vectors are linearly dependent.\n",
    "\n",
    "Or, we can just use a simplier way:"
   ]
  },
  {
   "cell_type": "code",
   "execution_count": 83,
   "metadata": {},
   "outputs": [
    {
     "data": {
      "text/html": [
       "<html>\\(\\displaystyle \\mathrm{True}\\)</html>"
      ],
      "text/latex": [
       "$\\displaystyle \\mathrm{True}$"
      ],
      "text/plain": [
       "True"
      ]
     },
     "execution_count": 83,
     "metadata": {},
     "output_type": "execute_result"
    }
   ],
   "source": [
    "S = RR^5 # define our space\n",
    "vectors = [(a), (b), (c), (d)]\n",
    "S.are_linearly_dependent(vectors)"
   ]
  },
  {
   "cell_type": "markdown",
   "metadata": {},
   "source": [
    "b. Let {a, b} a base of U, where $a = [0, -1, 2, 0, 2]^T$ and $b = [1, -3, 1, -1, 2]^T$, 2 linearly independent vectors, the first 2 of the vectors given by the exercise:"
   ]
  },
  {
   "cell_type": "code",
   "execution_count": 84,
   "metadata": {},
   "outputs": [
    {
     "name": "stdout",
     "output_type": "stream",
     "text": [
      "False\n"
     ]
    },
    {
     "data": {
      "text/html": [
       "<html>\\(\\displaystyle \\left(\\begin{array}{rr}\n",
       "0 & 1 \\\\\n",
       "-1 & -3 \\\\\n",
       "2 & 1 \\\\\n",
       "0 & -1 \\\\\n",
       "2 & 2\n",
       "\\end{array}\\right)\\)</html>"
      ],
      "text/latex": [
       "$\\displaystyle \\left(\\begin{array}{rr}\n",
       "0 & 1 \\\\\n",
       "-1 & -3 \\\\\n",
       "2 & 1 \\\\\n",
       "0 & -1 \\\\\n",
       "2 & 2\n",
       "\\end{array}\\right)$"
      ],
      "text/plain": [
       "[ 0  1]\n",
       "[-1 -3]\n",
       "[ 2  1]\n",
       "[ 0 -1]\n",
       "[ 2  2]"
      ]
     },
     "execution_count": 84,
     "metadata": {},
     "output_type": "execute_result"
    }
   ],
   "source": [
    "print(S.are_linearly_dependent([(a), (b)]))\n",
    "\n",
    "B = column_matrix([a, b]); B"
   ]
  },
  {
   "cell_type": "code",
   "execution_count": 85,
   "metadata": {},
   "outputs": [
    {
     "data": {
      "text/html": [
       "<html>\\(\\displaystyle \\left(\\begin{array}{rrrrr}\n",
       "\\frac{1}{7} & -\\frac{2}{7} & -\\frac{1}{7} & -\\frac{1}{7} & 0 \\\\\n",
       "-\\frac{2}{7} & \\frac{43}{63} & \\frac{4}{63} & \\frac{2}{7} & -\\frac{2}{9} \\\\\n",
       "-\\frac{1}{7} & \\frac{4}{63} & \\frac{37}{63} & \\frac{1}{7} & \\frac{4}{9} \\\\\n",
       "-\\frac{1}{7} & \\frac{2}{7} & \\frac{1}{7} & \\frac{1}{7} & 0 \\\\\n",
       "0 & -\\frac{2}{9} & \\frac{4}{9} & 0 & \\frac{4}{9}\n",
       "\\end{array}\\right)\\)</html>"
      ],
      "text/latex": [
       "$\\displaystyle \\left(\\begin{array}{rrrrr}\n",
       "\\frac{1}{7} & -\\frac{2}{7} & -\\frac{1}{7} & -\\frac{1}{7} & 0 \\\\\n",
       "-\\frac{2}{7} & \\frac{43}{63} & \\frac{4}{63} & \\frac{2}{7} & -\\frac{2}{9} \\\\\n",
       "-\\frac{1}{7} & \\frac{4}{63} & \\frac{37}{63} & \\frac{1}{7} & \\frac{4}{9} \\\\\n",
       "-\\frac{1}{7} & \\frac{2}{7} & \\frac{1}{7} & \\frac{1}{7} & 0 \\\\\n",
       "0 & -\\frac{2}{9} & \\frac{4}{9} & 0 & \\frac{4}{9}\n",
       "\\end{array}\\right)$"
      ],
      "text/plain": [
       "[  1/7  -2/7  -1/7  -1/7     0]\n",
       "[ -2/7 43/63  4/63   2/7  -2/9]\n",
       "[ -1/7  4/63 37/63   1/7   4/9]\n",
       "[ -1/7   2/7   1/7   1/7     0]\n",
       "[    0  -2/9   4/9     0   4/9]"
      ]
     },
     "execution_count": 85,
     "metadata": {},
     "output_type": "execute_result"
    }
   ],
   "source": [
    "# We calculate the projection matrix:\n",
    "\n",
    "P = B*(transpose(B)*B)^(-1)*transpose(B); P"
   ]
  },
  {
   "cell_type": "markdown",
   "metadata": {},
   "source": [
    "c. "
   ]
  },
  {
   "cell_type": "code",
   "execution_count": 86,
   "metadata": {},
   "outputs": [
    {
     "data": {
      "text/html": [
       "<html>\\(\\displaystyle \\left(-\\frac{22}{7},\\,\\frac{51}{7},\\,\\frac{8}{7},\\,\\frac{22}{7},\\,-2\\right)\\)</html>"
      ],
      "text/latex": [
       "$\\displaystyle \\left(-\\frac{22}{7},\\,\\frac{51}{7},\\,\\frac{8}{7},\\,\\frac{22}{7},\\,-2\\right)$"
      ],
      "text/plain": [
       "(-22/7, 51/7, 8/7, 22/7, -2)"
      ]
     },
     "execution_count": 86,
     "metadata": {},
     "output_type": "execute_result"
    }
   ],
   "source": [
    "x = vector(QQ, [-1, 9, -1, 4, 1])\n",
    "\n",
    "# now we calculate the projection of x onto U:\n",
    "Proj = vector(P * x); Proj\n"
   ]
  },
  {
   "cell_type": "markdown",
   "metadata": {},
   "source": [
    "d. We calculate the projection error as follows:"
   ]
  },
  {
   "cell_type": "code",
   "execution_count": 87,
   "metadata": {},
   "outputs": [
    {
     "data": {
      "text/html": [
       "<html>\\(\\displaystyle \\left(\\frac{15}{7},\\,\\frac{12}{7},\\,-\\frac{15}{7},\\,\\frac{6}{7},\\,3\\right)\\)</html>"
      ],
      "text/latex": [
       "$\\displaystyle \\left(\\frac{15}{7},\\,\\frac{12}{7},\\,-\\frac{15}{7},\\,\\frac{6}{7},\\,3\\right)$"
      ],
      "text/plain": [
       "(15/7, 12/7, -15/7, 6/7, 3)"
      ]
     },
     "execution_count": 87,
     "metadata": {},
     "output_type": "execute_result"
    }
   ],
   "source": [
    "e = vector(x - Proj); e"
   ]
  },
  {
   "cell_type": "code",
   "execution_count": 88,
   "metadata": {},
   "outputs": [
    {
     "data": {
      "text/html": [
       "<html>\\(\\displaystyle 3 \\, \\sqrt{\\frac{17}{7}}\\)</html>"
      ],
      "text/latex": [
       "$\\displaystyle 3 \\, \\sqrt{\\frac{17}{7}}$"
      ],
      "text/plain": [
       "3*sqrt(17/7)"
      ]
     },
     "execution_count": 88,
     "metadata": {},
     "output_type": "execute_result"
    }
   ],
   "source": [
    "norm(e)"
   ]
  },
  {
   "cell_type": "markdown",
   "metadata": {},
   "source": [
    "### Problem 8"
   ]
  }
 ],
 "metadata": {
  "kernelspec": {
   "display_name": "SageMath 10.0",
   "language": "sage",
   "name": "sagemath"
  },
  "language_info": {
   "codemirror_mode": {
    "name": "ipython",
    "version": 3
   },
   "file_extension": ".py",
   "mimetype": "text/x-python",
   "name": "python",
   "nbconvert_exporter": "python",
   "pygments_lexer": "ipython3",
   "version": "3.9.18"
  }
 },
 "nbformat": 4,
 "nbformat_minor": 2
}
