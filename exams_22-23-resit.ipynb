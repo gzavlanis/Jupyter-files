{
 "cells": [
  {
   "cell_type": "markdown",
   "metadata": {},
   "source": [
    "# Exams solutions 2022 - 2023 (Sagemath part)\n",
    "\n",
    "### Trying to solve Quiz problems using Sagemath\n",
    "\n",
    "**Problem 1**"
   ]
  },
  {
   "cell_type": "code",
   "execution_count": 114,
   "metadata": {},
   "outputs": [
    {
     "data": {
      "text/html": [
       "<html>\\(\\displaystyle \\left(\\left(\\begin{array}{r}\n",
       "2 \\\\\n",
       "1\n",
       "\\end{array}\\right), \\left(\\begin{array}{rrr}\n",
       "1 & 2 & 3 \\\\\n",
       "4 & 5 & 6\n",
       "\\end{array}\\right), \\left(\\begin{array}{r}\n",
       "1 \\\\\n",
       "1 \\\\\n",
       "-1\n",
       "\\end{array}\\right)\\right)\\)</html>"
      ],
      "text/latex": [
       "$\\displaystyle \\left(\\left(\\begin{array}{r}\n",
       "2 \\\\\n",
       "1\n",
       "\\end{array}\\right), \\left(\\begin{array}{rrr}\n",
       "1 & 2 & 3 \\\\\n",
       "4 & 5 & 6\n",
       "\\end{array}\\right), \\left(\\begin{array}{r}\n",
       "1 \\\\\n",
       "1 \\\\\n",
       "-1\n",
       "\\end{array}\\right)\\right)$"
      ],
      "text/plain": [
       "(\n",
       "              [ 1]\n",
       "[2]  [1 2 3]  [ 1]\n",
       "[1], [4 5 6], [-1]\n",
       ")"
      ]
     },
     "execution_count": 114,
     "metadata": {},
     "output_type": "execute_result"
    }
   ],
   "source": [
    "%display latex\n",
    "\n",
    "X = matrix(2, 1, [2, 1])\n",
    "A = matrix([[1, 2, 3], [4, 5, 6]])\n",
    "Y = matrix(3, 1, [1, 1, -1])\n",
    "\n",
    "X, A, Y"
   ]
  },
  {
   "cell_type": "code",
   "execution_count": 115,
   "metadata": {},
   "outputs": [
    {
     "data": {
      "text/html": [
       "<html>\\(\\displaystyle 3\\)</html>"
      ],
      "text/latex": [
       "$\\displaystyle 3$"
      ],
      "text/plain": [
       "3"
      ]
     },
     "execution_count": 115,
     "metadata": {},
     "output_type": "execute_result"
    }
   ],
   "source": [
    "res = X.T*A*Y; res[0][0]"
   ]
  },
  {
   "cell_type": "markdown",
   "metadata": {},
   "source": [
    "**Problem 3**"
   ]
  },
  {
   "cell_type": "code",
   "execution_count": 116,
   "metadata": {},
   "outputs": [
    {
     "data": {
      "text/html": [
       "<html>\\(\\displaystyle \\left(\\begin{array}{rr}\n",
       "0 & 1 \\\\\n",
       "1 & 1\n",
       "\\end{array}\\right)\\)</html>"
      ],
      "text/latex": [
       "$\\displaystyle \\left(\\begin{array}{rr}\n",
       "0 & 1 \\\\\n",
       "1 & 1\n",
       "\\end{array}\\right)$"
      ],
      "text/plain": [
       "[0 1]\n",
       "[1 1]"
      ]
     },
     "execution_count": 116,
     "metadata": {},
     "output_type": "execute_result"
    }
   ],
   "source": [
    "A = matrix([[0, 1], [1, 1]]); A"
   ]
  },
  {
   "cell_type": "code",
   "execution_count": 117,
   "metadata": {},
   "outputs": [
    {
     "data": {
      "text/html": [
       "<html>\\(\\displaystyle \\left(\\begin{array}{rr}\n",
       "1 & 2 \\\\\n",
       "2 & 3\n",
       "\\end{array}\\right)\\)</html>"
      ],
      "text/latex": [
       "$\\displaystyle \\left(\\begin{array}{rr}\n",
       "1 & 2 \\\\\n",
       "2 & 3\n",
       "\\end{array}\\right)$"
      ],
      "text/plain": [
       "[1 2]\n",
       "[2 3]"
      ]
     },
     "execution_count": 117,
     "metadata": {},
     "output_type": "execute_result"
    }
   ],
   "source": [
    "A3 = A^3; A3"
   ]
  },
  {
   "cell_type": "code",
   "execution_count": 118,
   "metadata": {},
   "outputs": [
    {
     "data": {
      "text/html": [
       "<html>\\(\\displaystyle 4\\)</html>"
      ],
      "text/latex": [
       "$\\displaystyle 4$"
      ],
      "text/plain": [
       "4"
      ]
     },
     "execution_count": 118,
     "metadata": {},
     "output_type": "execute_result"
    }
   ],
   "source": [
    "A3.trace()"
   ]
  },
  {
   "cell_type": "markdown",
   "metadata": {},
   "source": [
    "**Problem 4**"
   ]
  },
  {
   "cell_type": "code",
   "execution_count": 119,
   "metadata": {},
   "outputs": [
    {
     "data": {
      "text/html": [
       "<html>\\(\\displaystyle \\cos\\left(t\\right) \\sin\\left(t\\right) + t\\)</html>"
      ],
      "text/latex": [
       "$\\displaystyle \\cos\\left(t\\right) \\sin\\left(t\\right) + t$"
      ],
      "text/plain": [
       "cos(t)*sin(t) + t"
      ]
     },
     "execution_count": 119,
     "metadata": {},
     "output_type": "execute_result"
    }
   ],
   "source": [
    "x(t) = sin(t)\n",
    "y(t) = cos(t)\n",
    "z(t) = t\n",
    "\n",
    "f(t) = x(t)*y(t) + z(t); f(t)"
   ]
  },
  {
   "cell_type": "code",
   "execution_count": 120,
   "metadata": {},
   "outputs": [
    {
     "data": {
      "text/html": [
       "<html>\\(\\displaystyle 2 \\, \\cos\\left(t\\right)^{2}\\)</html>"
      ],
      "text/latex": [
       "$\\displaystyle 2 \\, \\cos\\left(t\\right)^{2}$"
      ],
      "text/plain": [
       "2*cos(t)^2"
      ]
     },
     "execution_count": 120,
     "metadata": {},
     "output_type": "execute_result"
    }
   ],
   "source": [
    "diff(f(t), t).full_simplify()"
   ]
  },
  {
   "cell_type": "markdown",
   "metadata": {},
   "source": [
    "**Problem 5**"
   ]
  },
  {
   "cell_type": "code",
   "execution_count": 121,
   "metadata": {},
   "outputs": [
    {
     "data": {
      "text/html": [
       "<html>\\(\\displaystyle x^{3} + y^{3} - 3 \\, x y\\)</html>"
      ],
      "text/latex": [
       "$\\displaystyle x^{3} + y^{3} - 3 \\, x y$"
      ],
      "text/plain": [
       "x^3 + y^3 - 3*x*y"
      ]
     },
     "execution_count": 121,
     "metadata": {},
     "output_type": "execute_result"
    }
   ],
   "source": [
    "f(x, y) = x^3 + y^3 -3*x*y; f(x, y)"
   ]
  },
  {
   "cell_type": "code",
   "execution_count": 122,
   "metadata": {},
   "outputs": [
    {
     "data": {
      "text/html": [
       "<html>\\(\\displaystyle \\left(\\begin{array}{rr}\n",
       "6 \\, x & -3 \\\\\n",
       "-3 & 6 \\, y\n",
       "\\end{array}\\right)\\)</html>"
      ],
      "text/latex": [
       "$\\displaystyle \\left(\\begin{array}{rr}\n",
       "6 \\, x & -3 \\\\\n",
       "-3 & 6 \\, y\n",
       "\\end{array}\\right)$"
      ],
      "text/plain": [
       "[6*x  -3]\n",
       "[ -3 6*y]"
      ]
     },
     "execution_count": 122,
     "metadata": {},
     "output_type": "execute_result"
    }
   ],
   "source": [
    "H = f(x, y).hessian(); H"
   ]
  },
  {
   "cell_type": "code",
   "execution_count": 123,
   "metadata": {},
   "outputs": [
    {
     "data": {
      "text/html": [
       "<html>\\(\\displaystyle \\left[\\left[x = 0, y = 0\\right], \\left[x = 1, y = 1\\right]\\right]\\)</html>"
      ],
      "text/latex": [
       "$\\displaystyle \\left[\\left[x = 0, y = 0\\right], \\left[x = 1, y = 1\\right]\\right]$"
      ],
      "text/plain": [
       "[[x == 0, y == 0], [x == 1, y == 1]]"
      ]
     },
     "execution_count": 123,
     "metadata": {},
     "output_type": "execute_result"
    }
   ],
   "source": [
    "s = [[x == 0, y == 0], [x == 1, y == 1]]; s"
   ]
  },
  {
   "cell_type": "code",
   "execution_count": 124,
   "metadata": {},
   "outputs": [
    {
     "data": {
      "text/html": [
       "<html>\\(\\displaystyle \\left[-3.00000000000000, 3.00000000000000\\right]\\)</html>"
      ],
      "text/latex": [
       "$\\displaystyle \\left[-3.00000000000000, 3.00000000000000\\right]$"
      ],
      "text/plain": [
       "[-3.00000000000000, 3.00000000000000]"
      ]
     },
     "execution_count": 124,
     "metadata": {},
     "output_type": "execute_result"
    }
   ],
   "source": [
    "list(map(n, H.subs(s[0]).eigenvalues()))"
   ]
  },
  {
   "cell_type": "markdown",
   "metadata": {},
   "source": [
    "Saddle point!"
   ]
  },
  {
   "cell_type": "code",
   "execution_count": 125,
   "metadata": {},
   "outputs": [
    {
     "data": {
      "text/html": [
       "<html>\\(\\displaystyle \\left[3.00000000000000, 9.00000000000000\\right]\\)</html>"
      ],
      "text/latex": [
       "$\\displaystyle \\left[3.00000000000000, 9.00000000000000\\right]$"
      ],
      "text/plain": [
       "[3.00000000000000, 9.00000000000000]"
      ]
     },
     "execution_count": 125,
     "metadata": {},
     "output_type": "execute_result"
    }
   ],
   "source": [
    "list(map(n, H.subs(s[1]).eigenvalues()))"
   ]
  },
  {
   "cell_type": "markdown",
   "metadata": {},
   "source": [
    "Minimum!"
   ]
  },
  {
   "cell_type": "markdown",
   "metadata": {},
   "source": [
    "**Problem 6**"
   ]
  },
  {
   "cell_type": "code",
   "execution_count": 126,
   "metadata": {},
   "outputs": [
    {
     "data": {
      "text/html": [
       "<html>\\(\\displaystyle \\log\\left(x^{2} + y^{2}\\right)\\)</html>"
      ],
      "text/latex": [
       "$\\displaystyle \\log\\left(x^{2} + y^{2}\\right)$"
      ],
      "text/plain": [
       "log(x^2 + y^2)"
      ]
     },
     "execution_count": 126,
     "metadata": {},
     "output_type": "execute_result"
    }
   ],
   "source": [
    "f(x, y) = ln(x^2 + y^2); f(x, y)"
   ]
  },
  {
   "cell_type": "code",
   "execution_count": 127,
   "metadata": {},
   "outputs": [
    {
     "data": {
      "text/html": [
       "<html>\\(\\displaystyle \\left(\\frac{2 \\, x}{x^{2} + y^{2}},\\,\\frac{2 \\, y}{x^{2} + y^{2}}\\right)\\)</html>"
      ],
      "text/latex": [
       "$\\displaystyle \\left(\\frac{2 \\, x}{x^{2} + y^{2}},\\,\\frac{2 \\, y}{x^{2} + y^{2}}\\right)$"
      ],
      "text/plain": [
       "(2*x/(x^2 + y^2), 2*y/(x^2 + y^2))"
      ]
     },
     "execution_count": 127,
     "metadata": {},
     "output_type": "execute_result"
    }
   ],
   "source": [
    "grd(x, y) = f(x, y).gradient(); grd(x, y)"
   ]
  },
  {
   "cell_type": "code",
   "execution_count": 128,
   "metadata": {},
   "outputs": [
    {
     "data": {
      "text/html": [
       "<html>\\(\\displaystyle \\left(\\frac{1}{2},\\,\\frac{1}{2}\\right)\\)</html>"
      ],
      "text/latex": [
       "$\\displaystyle \\left(\\frac{1}{2},\\,\\frac{1}{2}\\right)$"
      ],
      "text/plain": [
       "(1/2, 1/2)"
      ]
     },
     "execution_count": 128,
     "metadata": {},
     "output_type": "execute_result"
    }
   ],
   "source": [
    "grd(2, 2)"
   ]
  },
  {
   "cell_type": "markdown",
   "metadata": {},
   "source": [
    "**Problem 9**"
   ]
  },
  {
   "cell_type": "code",
   "execution_count": 129,
   "metadata": {},
   "outputs": [
    {
     "data": {
      "text/html": [
       "<html>\\(\\displaystyle \\left(\\begin{array}{rr}\n",
       "4 \\, x_{1} x_{2} & x_{1} + 3 \\, x_{2}\n",
       "\\end{array}\\right)\\)</html>"
      ],
      "text/latex": [
       "$\\displaystyle \\left(\\begin{array}{rr}\n",
       "4 \\, x_{1} x_{2} & x_{1} + 3 \\, x_{2}\n",
       "\\end{array}\\right)$"
      ],
      "text/plain": [
       "[  4*x1*x2 x1 + 3*x2]"
      ]
     },
     "execution_count": 129,
     "metadata": {},
     "output_type": "execute_result"
    }
   ],
   "source": [
    "f(x1, x2) = matrix([4*x1*x2, x1+3*x2]); f(x1, x2)"
   ]
  },
  {
   "cell_type": "code",
   "execution_count": 130,
   "metadata": {},
   "outputs": [
    {
     "data": {
      "text/html": [
       "<html>\\(\\displaystyle \\left(\\begin{array}{rr}\n",
       "\\left( x_{1}, x_{2} \\right) \\ {\\mapsto} \\ 4 \\, x_{2} & \\left( x_{1}, x_{2} \\right) \\ {\\mapsto} \\ 4 \\, x_{1} \\\\\n",
       "\\left( x_{1}, x_{2} \\right) \\ {\\mapsto} \\ 1 & \\left( x_{1}, x_{2} \\right) \\ {\\mapsto} \\ 3\n",
       "\\end{array}\\right)\\)</html>"
      ],
      "text/latex": [
       "$\\displaystyle \\left(\\begin{array}{rr}\n",
       "\\left( x_{1}, x_{2} \\right) \\ {\\mapsto} \\ 4 \\, x_{2} & \\left( x_{1}, x_{2} \\right) \\ {\\mapsto} \\ 4 \\, x_{1} \\\\\n",
       "\\left( x_{1}, x_{2} \\right) \\ {\\mapsto} \\ 1 & \\left( x_{1}, x_{2} \\right) \\ {\\mapsto} \\ 3\n",
       "\\end{array}\\right)$"
      ],
      "text/plain": [
       "[(x1, x2) |--> 4*x2 (x1, x2) |--> 4*x1]\n",
       "[   (x1, x2) |--> 1    (x1, x2) |--> 3]"
      ]
     },
     "execution_count": 130,
     "metadata": {},
     "output_type": "execute_result"
    }
   ],
   "source": [
    "J = jacobian(f, (x1, x2)); J"
   ]
  },
  {
   "cell_type": "code",
   "execution_count": 131,
   "metadata": {},
   "outputs": [
    {
     "data": {
      "text/html": [
       "<html>\\(\\displaystyle \\left( x_{1}, x_{2} \\right) \\ {\\mapsto} \\ -4 \\, x_{1} + 12 \\, x_{2}\\)</html>"
      ],
      "text/latex": [
       "$\\displaystyle \\left( x_{1}, x_{2} \\right) \\ {\\mapsto} \\ -4 \\, x_{1} + 12 \\, x_{2}$"
      ],
      "text/plain": [
       "(x1, x2) |--> -4*x1 + 12*x2"
      ]
     },
     "execution_count": 131,
     "metadata": {},
     "output_type": "execute_result"
    }
   ],
   "source": [
    "J.determinant()"
   ]
  },
  {
   "cell_type": "markdown",
   "metadata": {},
   "source": [
    "**Problem 10**"
   ]
  },
  {
   "cell_type": "code",
   "execution_count": 132,
   "metadata": {},
   "outputs": [
    {
     "data": {
      "text/html": [
       "<html>\\(\\displaystyle \\sin\\left(x\\right)^{100} + \\sin\\left(x^{100}\\right)\\)</html>"
      ],
      "text/latex": [
       "$\\displaystyle \\sin\\left(x\\right)^{100} + \\sin\\left(x^{100}\\right)$"
      ],
      "text/plain": [
       "sin(x)^100 + sin(x^100)"
      ]
     },
     "execution_count": 132,
     "metadata": {},
     "output_type": "execute_result"
    }
   ],
   "source": [
    "f(x) = sin(x^100) + (sin(x))^100; f(x)"
   ]
  },
  {
   "cell_type": "code",
   "execution_count": 133,
   "metadata": {},
   "outputs": [
    {
     "data": {
      "text/html": [
       "<html>\\(\\displaystyle 100 \\, x^{99} \\cos\\left(x^{100}\\right) + 100 \\, \\cos\\left(x\\right) \\sin\\left(x\\right)^{99}\\)</html>"
      ],
      "text/latex": [
       "$\\displaystyle 100 \\, x^{99} \\cos\\left(x^{100}\\right) + 100 \\, \\cos\\left(x\\right) \\sin\\left(x\\right)^{99}$"
      ],
      "text/plain": [
       "100*x^99*cos(x^100) + 100*cos(x)*sin(x)^99"
      ]
     },
     "execution_count": 133,
     "metadata": {},
     "output_type": "execute_result"
    }
   ],
   "source": [
    "diff(f(x))"
   ]
  },
  {
   "cell_type": "markdown",
   "metadata": {},
   "source": [
    "**Problem 11**"
   ]
  },
  {
   "cell_type": "code",
   "execution_count": 134,
   "metadata": {},
   "outputs": [
    {
     "data": {
      "text/html": [
       "<html>\\(\\displaystyle \\frac{e^{x}}{e^{\\left(2 \\, x\\right)} + 2 \\, e^{x} + 1}\\)</html>"
      ],
      "text/latex": [
       "$\\displaystyle \\frac{e^{x}}{e^{\\left(2 \\, x\\right)} + 2 \\, e^{x} + 1}$"
      ],
      "text/plain": [
       "e^x/(e^(2*x) + 2*e^x + 1)"
      ]
     },
     "execution_count": 134,
     "metadata": {},
     "output_type": "execute_result"
    }
   ],
   "source": [
    "f(x) = ln(1+exp(x))\n",
    "diff(f(x), 2).full_simplify()"
   ]
  },
  {
   "cell_type": "markdown",
   "metadata": {},
   "source": [
    "Always positive, so Convex."
   ]
  },
  {
   "cell_type": "code",
   "execution_count": 135,
   "metadata": {},
   "outputs": [
    {
     "data": {
      "text/html": [
       "<html>\\(\\displaystyle -\\sin\\left(x\\right)\\)</html>"
      ],
      "text/latex": [
       "$\\displaystyle -\\sin\\left(x\\right)$"
      ],
      "text/plain": [
       "-sin(x)"
      ]
     },
     "execution_count": 135,
     "metadata": {},
     "output_type": "execute_result"
    }
   ],
   "source": [
    "f(x) = sin(x)\n",
    "diff(f(x), 2)"
   ]
  },
  {
   "cell_type": "markdown",
   "metadata": {},
   "source": [
    "No Convex."
   ]
  },
  {
   "cell_type": "code",
   "execution_count": 136,
   "metadata": {},
   "outputs": [
    {
     "data": {
      "text/html": [
       "<html>\\(\\displaystyle \\frac{\\sqrt{x^{2} + 1}}{x^{4} + 2 \\, x^{2} + 1}\\)</html>"
      ],
      "text/latex": [
       "$\\displaystyle \\frac{\\sqrt{x^{2} + 1}}{x^{4} + 2 \\, x^{2} + 1}$"
      ],
      "text/plain": [
       "sqrt(x^2 + 1)/(x^4 + 2*x^2 + 1)"
      ]
     },
     "execution_count": 136,
     "metadata": {},
     "output_type": "execute_result"
    }
   ],
   "source": [
    "f(x) = sqrt(1+x^2)\n",
    "diff(f(x), 2).full_simplify()"
   ]
  },
  {
   "cell_type": "markdown",
   "metadata": {},
   "source": [
    "Always positive, so Convex."
   ]
  },
  {
   "cell_type": "markdown",
   "metadata": {},
   "source": [
    "**Problem 12**"
   ]
  },
  {
   "cell_type": "code",
   "execution_count": 137,
   "metadata": {},
   "outputs": [
    {
     "data": {
      "text/html": [
       "<html>\\(\\displaystyle \\left(2,\\,-2\\right)\\)</html>"
      ],
      "text/latex": [
       "$\\displaystyle \\left(2,\\,-2\\right)$"
      ],
      "text/plain": [
       "(2, -2)"
      ]
     },
     "execution_count": 137,
     "metadata": {},
     "output_type": "execute_result"
    }
   ],
   "source": [
    "X = vector([2, -2]); X"
   ]
  },
  {
   "cell_type": "code",
   "execution_count": 138,
   "metadata": {},
   "outputs": [],
   "source": [
    "# create rotarion matrix\n",
    "def R(thetaRads):\n",
    "    return matrix([[cos(thetaRads), -sin(thetaRads)], [sin(thetaRads), cos(thetaRads)]])\n",
    "\n",
    "# Convert degrees into rads.\n",
    "def degreesToRads(theta):\n",
    "    return pi*theta/180.0\n",
    "\n",
    "# Convert rads into degrees.\n",
    "def radsToDegrees(thetaRads):\n",
    "    return (180*thetaRads/pi).n()"
   ]
  },
  {
   "cell_type": "code",
   "execution_count": 139,
   "metadata": {},
   "outputs": [
    {
     "data": {
      "text/html": [
       "<html>\\(\\displaystyle \\left(2.0 \\, \\cos\\left(0.250000000000000 \\, \\pi\\right) + 2.0 \\, \\sin\\left(0.250000000000000 \\, \\pi\\right),\\,-2.0 \\, \\cos\\left(0.250000000000000 \\, \\pi\\right) + 2.0 \\, \\sin\\left(0.250000000000000 \\, \\pi\\right)\\right)\\)</html>"
      ],
      "text/latex": [
       "$\\displaystyle \\left(2.0 \\, \\cos\\left(0.250000000000000 \\, \\pi\\right) + 2.0 \\, \\sin\\left(0.250000000000000 \\, \\pi\\right),\\,-2.0 \\, \\cos\\left(0.250000000000000 \\, \\pi\\right) + 2.0 \\, \\sin\\left(0.250000000000000 \\, \\pi\\right)\\right)$"
      ],
      "text/plain": [
       "(2.0*cos(0.250000000000000*pi) + 2.0*sin(0.250000000000000*pi), -2.0*cos(0.250000000000000*pi) + 2.0*sin(0.250000000000000*pi))"
      ]
     },
     "execution_count": 139,
     "metadata": {},
     "output_type": "execute_result"
    }
   ],
   "source": [
    "R(degreesToRads(45))*X.n(digits = 2)"
   ]
  },
  {
   "cell_type": "markdown",
   "metadata": {},
   "source": [
    "**Problem 14**"
   ]
  },
  {
   "cell_type": "code",
   "execution_count": 140,
   "metadata": {},
   "outputs": [
    {
     "data": {
      "text/html": [
       "<html>\\(\\displaystyle \\left(\\begin{array}{rrr}\n",
       "0 & a & b \\\\\n",
       "a & b & 0 \\\\\n",
       "b & 0 & b\n",
       "\\end{array}\\right)\\)</html>"
      ],
      "text/latex": [
       "$\\displaystyle \\left(\\begin{array}{rrr}\n",
       "0 & a & b \\\\\n",
       "a & b & 0 \\\\\n",
       "b & 0 & b\n",
       "\\end{array}\\right)$"
      ],
      "text/plain": [
       "[0 a b]\n",
       "[a b 0]\n",
       "[b 0 b]"
      ]
     },
     "execution_count": 140,
     "metadata": {},
     "output_type": "execute_result"
    }
   ],
   "source": [
    "a, b, λ = var('a, b, λ')\n",
    "A = matrix([[0, a, b], [a, b, 0], [b, 0, b]]); A"
   ]
  },
  {
   "cell_type": "code",
   "execution_count": 141,
   "metadata": {},
   "outputs": [
    {
     "data": {
      "text/html": [
       "<html>\\(\\displaystyle \\left(\\begin{array}{rrr}\n",
       "λ & 0 & 0 \\\\\n",
       "0 & λ & 0 \\\\\n",
       "0 & 0 & λ\n",
       "\\end{array}\\right)\\)</html>"
      ],
      "text/latex": [
       "$\\displaystyle \\left(\\begin{array}{rrr}\n",
       "λ & 0 & 0 \\\\\n",
       "0 & λ & 0 \\\\\n",
       "0 & 0 & λ\n",
       "\\end{array}\\right)$"
      ],
      "text/plain": [
       "[λ 0 0]\n",
       "[0 λ 0]\n",
       "[0 0 λ]"
      ]
     },
     "execution_count": 141,
     "metadata": {},
     "output_type": "execute_result"
    }
   ],
   "source": [
    "λI = matrix([[λ, 0, 0], [0, λ, 0], [0, 0, λ]]); λI"
   ]
  },
  {
   "cell_type": "code",
   "execution_count": 142,
   "metadata": {},
   "outputs": [
    {
     "data": {
      "text/html": [
       "<html>\\(\\displaystyle -a^{2} {\\left(b - λ\\right)} - {\\left(b - λ\\right)} b^{2} - {\\left(b - λ\\right)}^{2} λ\\)</html>"
      ],
      "text/latex": [
       "$\\displaystyle -a^{2} {\\left(b - λ\\right)} - {\\left(b - λ\\right)} b^{2} - {\\left(b - λ\\right)}^{2} λ$"
      ],
      "text/plain": [
       "-a^2*(b - λ) - (b - λ)*b^2 - (b - λ)^2*λ"
      ]
     },
     "execution_count": 142,
     "metadata": {},
     "output_type": "execute_result"
    }
   ],
   "source": [
    "det(λ) = (A-λI).determinant(); det(λ)"
   ]
  },
  {
   "cell_type": "code",
   "execution_count": 143,
   "metadata": {},
   "outputs": [
    {
     "data": {
      "text/html": [
       "<html>\\(\\displaystyle \\left[\\left[a = \\left(-1\\right), b = \\left(-1\\right)\\right], \\left[a = 1, b = \\left(-1\\right)\\right]\\right]\\)</html>"
      ],
      "text/latex": [
       "$\\displaystyle \\left[\\left[a = \\left(-1\\right), b = \\left(-1\\right)\\right], \\left[a = 1, b = \\left(-1\\right)\\right]\\right]$"
      ],
      "text/plain": [
       "[[a == -1, b == -1], [a == 1, b == -1]]"
      ]
     },
     "execution_count": 143,
     "metadata": {},
     "output_type": "execute_result"
    }
   ],
   "source": [
    "eq1 = det(1) == 0\n",
    "eq2 = det(-1) == 0\n",
    "eq3 = det(-2) == 0\n",
    "\n",
    "solve([eq1, eq2, eq3], [a, b])"
   ]
  },
  {
   "cell_type": "markdown",
   "metadata": {},
   "source": [
    "**problem 15**"
   ]
  },
  {
   "cell_type": "code",
   "execution_count": 170,
   "metadata": {},
   "outputs": [
    {
     "data": {
      "text/html": [
       "<html>\\(\\displaystyle \\left(\\begin{array}{rrr}\n",
       "3 & 2 & 10 \\\\\n",
       "6 & 4 & 20 \\\\\n",
       "0 & 0 & 0\n",
       "\\end{array}\\right)\\)</html>"
      ],
      "text/latex": [
       "$\\displaystyle \\left(\\begin{array}{rrr}\n",
       "3 & 2 & 10 \\\\\n",
       "6 & 4 & 20 \\\\\n",
       "0 & 0 & 0\n",
       "\\end{array}\\right)$"
      ],
      "text/plain": [
       "[ 3  2 10]\n",
       "[ 6  4 20]\n",
       "[ 0  0  0]"
      ]
     },
     "execution_count": 170,
     "metadata": {},
     "output_type": "execute_result"
    }
   ],
   "source": [
    "a = vector([3, 6])\n",
    "b = vector([2, 4])\n",
    "c = vector([10, 20])\n",
    "\n",
    "A = matrix([a, b, c])\n",
    "AT = A.T\n",
    "\n",
    "AT = AT.insert_row(2, [0, 0, 0]); AT"
   ]
  },
  {
   "cell_type": "code",
   "execution_count": 166,
   "metadata": {},
   "outputs": [
    {
     "data": {
      "text/html": [
       "<html>\\(\\displaystyle 0\\)</html>"
      ],
      "text/latex": [
       "$\\displaystyle 0$"
      ],
      "text/plain": [
       "0"
      ]
     },
     "execution_count": 166,
     "metadata": {},
     "output_type": "execute_result"
    }
   ],
   "source": [
    "AT.determinant()"
   ]
  },
  {
   "cell_type": "markdown",
   "metadata": {},
   "source": [
    "## Part III: Excercises with Sagemath\n",
    "\n",
    "**Problem 1**\n",
    "\n",
    "(a)"
   ]
  },
  {
   "cell_type": "code",
   "execution_count": 175,
   "metadata": {},
   "outputs": [
    {
     "data": {
      "text/html": [
       "<html>\\(\\displaystyle \\left(-24, 0\\right)\\)</html>"
      ],
      "text/latex": [
       "$\\displaystyle \\left(-24, 0\\right)$"
      ],
      "text/plain": [
       "(-24, 0)"
      ]
     },
     "execution_count": 175,
     "metadata": {},
     "output_type": "execute_result"
    }
   ],
   "source": [
    "setA = matrix(QQ, [[1, 2, 2], [-1, 2, 1], [0, 8, 0]])\n",
    "setB = matrix(QQ, [[1, 2, 2], [-1, 2, 1], [0, 8, 6]])\n",
    "\n",
    "setA.determinant(), setB.determinant()"
   ]
  },
  {
   "cell_type": "markdown",
   "metadata": {},
   "source": [
    "The set b vectors are linearly dependent and cannot be a basis in $R^3$.\n",
    "\n",
    "(b)"
   ]
  },
  {
   "cell_type": "code",
   "execution_count": 176,
   "metadata": {},
   "outputs": [
    {
     "data": {
      "text/html": [
       "<html>\\(\\displaystyle \\left(\\left(1,\\,2,\\,2\\right), \\left(-\\frac{14}{9},\\,\\frac{8}{9},\\,-\\frac{1}{9}\\right), \\left(\\frac{48}{29},\\,\\frac{72}{29},\\,-\\frac{96}{29}\\right)\\right)\\)</html>"
      ],
      "text/latex": [
       "$\\displaystyle \\left(\\left(1,\\,2,\\,2\\right), \\left(-\\frac{14}{9},\\,\\frac{8}{9},\\,-\\frac{1}{9}\\right), \\left(\\frac{48}{29},\\,\\frac{72}{29},\\,-\\frac{96}{29}\\right)\\right)$"
      ],
      "text/plain": [
       "((1, 2, 2), (-14/9, 8/9, -1/9), (48/29, 72/29, -96/29))"
      ]
     },
     "execution_count": 176,
     "metadata": {},
     "output_type": "execute_result"
    }
   ],
   "source": [
    "g, s = setA.gram_schmidt()\n",
    "v1, v2, v3 = g\n",
    "v1, v2, v3"
   ]
  },
  {
   "cell_type": "code",
   "execution_count": 177,
   "metadata": {},
   "outputs": [
    {
     "data": {
      "text/html": [
       "<html>\\(\\displaystyle \\left(\\left(\\frac{1}{3},\\,\\frac{2}{3},\\,\\frac{2}{3}\\right), \\left(-\\frac{14}{87} \\, \\sqrt{29},\\,\\frac{8}{87} \\, \\sqrt{29},\\,-\\frac{1}{87} \\, \\sqrt{29}\\right), \\left(2 \\, \\sqrt{\\frac{1}{29}},\\,3 \\, \\sqrt{\\frac{1}{29}},\\,-4 \\, \\sqrt{\\frac{1}{29}}\\right)\\right)\\)</html>"
      ],
      "text/latex": [
       "$\\displaystyle \\left(\\left(\\frac{1}{3},\\,\\frac{2}{3},\\,\\frac{2}{3}\\right), \\left(-\\frac{14}{87} \\, \\sqrt{29},\\,\\frac{8}{87} \\, \\sqrt{29},\\,-\\frac{1}{87} \\, \\sqrt{29}\\right), \\left(2 \\, \\sqrt{\\frac{1}{29}},\\,3 \\, \\sqrt{\\frac{1}{29}},\\,-4 \\, \\sqrt{\\frac{1}{29}}\\right)\\right)$"
      ],
      "text/plain": [
       "((1/3, 2/3, 2/3),\n",
       " (-14/87*sqrt(29), 8/87*sqrt(29), -1/87*sqrt(29)),\n",
       " (2*sqrt(1/29), 3*sqrt(1/29), -4*sqrt(1/29)))"
      ]
     },
     "execution_count": 177,
     "metadata": {},
     "output_type": "execute_result"
    }
   ],
   "source": [
    "e1 = v1/norm(v1)\n",
    "e2 = v2/norm(v2)\n",
    "e3 = v3/norm(v3)\n",
    "\n",
    "e1, e2, e3"
   ]
  },
  {
   "cell_type": "markdown",
   "metadata": {},
   "source": [
    "(c)"
   ]
  },
  {
   "cell_type": "code",
   "execution_count": 178,
   "metadata": {},
   "outputs": [
    {
     "data": {
      "text/html": [
       "<html>\\(\\displaystyle \\left(0, 0, 0\\right)\\)</html>"
      ],
      "text/latex": [
       "$\\displaystyle \\left(0, 0, 0\\right)$"
      ],
      "text/plain": [
       "(0, 0, 0)"
      ]
     },
     "execution_count": 178,
     "metadata": {},
     "output_type": "execute_result"
    }
   ],
   "source": [
    "e1.dot_product(e2), e1.dot_product(e3), e2.dot_product(e3)"
   ]
  },
  {
   "cell_type": "code",
   "execution_count": 179,
   "metadata": {},
   "outputs": [
    {
     "data": {
      "text/html": [
       "<html>\\(\\displaystyle \\left(1, 1, 1\\right)\\)</html>"
      ],
      "text/latex": [
       "$\\displaystyle \\left(1, 1, 1\\right)$"
      ],
      "text/plain": [
       "(1, 1, 1)"
      ]
     },
     "execution_count": 179,
     "metadata": {},
     "output_type": "execute_result"
    }
   ],
   "source": [
    "norm(e1), norm(e2), norm(e3)"
   ]
  },
  {
   "cell_type": "markdown",
   "metadata": {},
   "source": [
    "(d)"
   ]
  },
  {
   "cell_type": "code",
   "execution_count": 180,
   "metadata": {},
   "outputs": [
    {
     "data": {
      "text/html": [
       "<html>\\(\\displaystyle \\left(\\frac{11}{3},\\,-\\frac{1}{87} \\, \\sqrt{29},\\,-4 \\, \\sqrt{\\frac{1}{29}}\\right)\\)</html>"
      ],
      "text/latex": [
       "$\\displaystyle \\left(\\frac{11}{3},\\,-\\frac{1}{87} \\, \\sqrt{29},\\,-4 \\, \\sqrt{\\frac{1}{29}}\\right)$"
      ],
      "text/plain": [
       "(11/3, -1/87*sqrt(29), -4*sqrt(1/29))"
      ]
     },
     "execution_count": 180,
     "metadata": {},
     "output_type": "execute_result"
    }
   ],
   "source": [
    "k = vector(QQ, [1, 2, 3])\n",
    "w = vector(SR, [k.dot_product(e1), k.dot_product(e2), k.dot_product(e3)]); w"
   ]
  },
  {
   "cell_type": "markdown",
   "metadata": {},
   "source": [
    "(e)"
   ]
  },
  {
   "cell_type": "code",
   "execution_count": 181,
   "metadata": {},
   "outputs": [
    {
     "data": {
      "text/html": [
       "<html>\\(\\displaystyle \\left(\\sqrt{14}, \\sqrt{14}\\right)\\)</html>"
      ],
      "text/latex": [
       "$\\displaystyle \\left(\\sqrt{14}, \\sqrt{14}\\right)$"
      ],
      "text/plain": [
       "(sqrt(14), sqrt(14))"
      ]
     },
     "execution_count": 181,
     "metadata": {},
     "output_type": "execute_result"
    }
   ],
   "source": [
    "norm(w), norm(k)"
   ]
  },
  {
   "cell_type": "markdown",
   "metadata": {},
   "source": [
    "The vector norm is preserved as expected."
   ]
  },
  {
   "cell_type": "markdown",
   "metadata": {},
   "source": [
    "**Problem 2**\n",
    "\n",
    "(a)"
   ]
  },
  {
   "cell_type": "code",
   "execution_count": 184,
   "metadata": {},
   "outputs": [
    {
     "data": {
      "text/html": [
       "<html>\\(\\displaystyle {\\left(x y^{3} - x + 2.62500000000000\\right)}^{2} + {\\left(x y^{2} - x + 2.25000000000000\\right)}^{2} + {\\left(x y - x + 1.50000000000000\\right)}^{2}\\)</html>"
      ],
      "text/latex": [
       "$\\displaystyle {\\left(x y^{3} - x + 2.62500000000000\\right)}^{2} + {\\left(x y^{2} - x + 2.25000000000000\\right)}^{2} + {\\left(x y - x + 1.50000000000000\\right)}^{2}$"
      ],
      "text/plain": [
       "(x*y^3 - x + 2.62500000000000)^2 + (x*y^2 - x + 2.25000000000000)^2 + (x*y - x + 1.50000000000000)^2"
      ]
     },
     "execution_count": 184,
     "metadata": {},
     "output_type": "execute_result"
    }
   ],
   "source": [
    "f(x, y) = (1.5 - x + x*y)^2 + (2.25 - x + x*y^2)^2 + (2.625 - x + x*y^3)^2; f(x, y)"
   ]
  },
  {
   "cell_type": "markdown",
   "metadata": {},
   "source": [
    "Without the derivatives:"
   ]
  },
  {
   "cell_type": "code",
   "execution_count": 185,
   "metadata": {},
   "outputs": [
    {
     "name": "stdout",
     "output_type": "stream",
     "text": [
      "Optimization terminated successfully.\n",
      "         Current function value: 0.000000\n",
      "         Iterations: 62\n",
      "         Function evaluations: 118\n"
     ]
    },
    {
     "data": {
      "text/html": [
       "<html>\\(\\displaystyle \\left(3.0000557516962947,\\,0.5000105987828054\\right)\\)</html>"
      ],
      "text/latex": [
       "$\\displaystyle \\left(3.0000557516962947,\\,0.5000105987828054\\right)$"
      ],
      "text/plain": [
       "(3.0000557516962947, 0.5000105987828054)"
      ]
     },
     "execution_count": 185,
     "metadata": {},
     "output_type": "execute_result"
    }
   ],
   "source": [
    "xx = minimize(f(x, y), (5, -1), verbose = True, algorithm = \"simplex\"); xx"
   ]
  },
  {
   "cell_type": "markdown",
   "metadata": {},
   "source": [
    "Using derivatives:"
   ]
  },
  {
   "cell_type": "code",
   "execution_count": 186,
   "metadata": {},
   "outputs": [
    {
     "name": "stdout",
     "output_type": "stream",
     "text": [
      "Optimization terminated successfully.\n",
      "         Current function value: 0.000000\n",
      "         Iterations: 207\n",
      "         Function evaluations: 216\n",
      "         Gradient evaluations: 216\n",
      "         Hessian evaluations: 207\n"
     ]
    },
    {
     "data": {
      "text/html": [
       "<html>\\(\\displaystyle \\left(2.999999999960974,\\,0.4999999999906147\\right)\\)</html>"
      ],
      "text/latex": [
       "$\\displaystyle \\left(2.999999999960974,\\,0.4999999999906147\\right)$"
      ],
      "text/plain": [
       "(2.999999999960974, 0.4999999999906147)"
      ]
     },
     "execution_count": 186,
     "metadata": {},
     "output_type": "execute_result"
    }
   ],
   "source": [
    "xx = minimize(f(x, y), (5, -1), verbose = True, algorithm = \"ncg\"); xx"
   ]
  },
  {
   "cell_type": "markdown",
   "metadata": {},
   "source": [
    "We remark that the simplex method, which does not use derivatives, is faster here, as it uses only 118 function evaluyyations\\\n",
    "compared to 218 for the Newton conjugate method.\n",
    "\n",
    "(b)"
   ]
  },
  {
   "cell_type": "code",
   "execution_count": 187,
   "metadata": {},
   "outputs": [
    {
     "data": {
      "text/html": [
       "<html>\\(\\displaystyle 2.45742511206121 \\times 10^{-22}\\)</html>"
      ],
      "text/latex": [
       "$\\displaystyle 2.45742511206121 \\times 10^{-22}$"
      ],
      "text/plain": [
       "2.45742511206121e-22"
      ]
     },
     "execution_count": 187,
     "metadata": {},
     "output_type": "execute_result"
    }
   ],
   "source": [
    "f(xx[0], xx[1])"
   ]
  },
  {
   "cell_type": "code",
   "execution_count": 188,
   "metadata": {},
   "outputs": [
    {
     "data": {
      "text/html": [
       "<html>\\(\\displaystyle \\left(-1.5831627675530968 \\times 10^{-11},\\,1.3463646861551708 \\times 10^{-11}\\right)\\)</html>"
      ],
      "text/latex": [
       "$\\displaystyle \\left(-1.5831627675530968 \\times 10^{-11},\\,1.3463646861551708 \\times 10^{-11}\\right)$"
      ],
      "text/plain": [
       "(-1.5831627675530968e-11, 1.3463646861551708e-11)"
      ]
     },
     "execution_count": 188,
     "metadata": {},
     "output_type": "execute_result"
    }
   ],
   "source": [
    "f(x, y).gradient().subs(x = xx[0], y = xx[1])"
   ]
  },
  {
   "cell_type": "markdown",
   "metadata": {},
   "source": [
    "(c)"
   ]
  },
  {
   "cell_type": "code",
   "execution_count": 189,
   "metadata": {},
   "outputs": [
    {
     "data": {
      "image/png": "[encoded data removed]",
      "text/plain": [
       "Graphics object consisting of 2 graphics primitives"
      ]
     },
     "execution_count": 189,
     "metadata": {},
     "output_type": "execute_result"
    }
   ],
   "source": [
    "cp = contour_plot(f(x, y), (x, 0, 5), (y, -2, 2), fill = False, contours = [0.1, 1, 2, 4, 6, 8, 10], plot_points = 200) +\\\n",
    "point(xx, size = 30); cp"
   ]
  },
  {
   "cell_type": "markdown",
   "metadata": {},
   "source": [
    "(d)"
   ]
  },
  {
   "cell_type": "code",
   "execution_count": 190,
   "metadata": {},
   "outputs": [
    {
     "data": {
      "text/html": [
       "<html>\\(\\displaystyle \\left(1.4140550794234015,\\,-0.021171970985089068\\right)\\)</html>"
      ],
      "text/latex": [
       "$\\displaystyle \\left(1.4140550794234015,\\,-0.021171970985089068\\right)$"
      ],
      "text/plain": [
       "(1.4140550794234015, -0.021171970985089068)"
      ]
     },
     "execution_count": 190,
     "metadata": {},
     "output_type": "execute_result"
    }
   ],
   "source": [
    "g(x, y) = 2 - (x^2 + y^2)\n",
    "cxx = minimize_constrained(f(x, y), g(x, y), (1/2, 1/2)); cxx"
   ]
  }
 ],
 "metadata": {
  "kernelspec": {
   "display_name": "SageMath 10.3",
   "language": "sage",
   "name": "sagemath"
  },
  "language_info": {
   "codemirror_mode": {
    "name": "ipython",
    "version": 3
   },
   "file_extension": ".py",
   "mimetype": "text/x-python",
   "name": "python",
   "nbconvert_exporter": "python",
   "pygments_lexer": "ipython3",
   "version": "3.11.9"
  }
 },
 "nbformat": 4,
 "nbformat_minor": 2
}
