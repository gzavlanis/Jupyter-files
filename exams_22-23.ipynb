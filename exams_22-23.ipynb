{
 "cells": [
  {
   "cell_type": "markdown",
   "metadata": {},
   "source": [
    "# Exams solutions 2022 - 2023 (Sagemath part)\n",
    "\n",
    "### Trying to solve Quiz problems using Sagemath\n",
    "\n",
    "**Problem 1**"
   ]
  },
  {
   "cell_type": "code",
   "execution_count": 132,
   "metadata": {
    "vscode": {
     "languageId": "python"
    }
   },
   "outputs": [
    {
     "data": {
      "text/html": [
       "<html>\\(\\displaystyle \\left(\\begin{array}{rrr}\n",
       "2 & 2 & 2 \\\\\n",
       "2 & 2 & 2 \\\\\n",
       "2 & 2 & 0\n",
       "\\end{array}\\right)\\)</html>"
      ],
      "text/latex": [
       "$\\displaystyle \\left(\\begin{array}{rrr}\n",
       "2 & 2 & 2 \\\\\n",
       "2 & 2 & 2 \\\\\n",
       "2 & 2 & 0\n",
       "\\end{array}\\right)$"
      ],
      "text/plain": [
       "[2 2 2]\n",
       "[2 2 2]\n",
       "[2 2 0]"
      ]
     },
     "execution_count": 132,
     "metadata": {},
     "output_type": "execute_result"
    }
   ],
   "source": [
    "%display latex\n",
    "A = matrix(QQ, [[2, 2, 2], [2, 2, 2], [2, 2, 0]]); A"
   ]
  },
  {
   "cell_type": "code",
   "execution_count": 133,
   "metadata": {
    "vscode": {
     "languageId": "python"
    }
   },
   "outputs": [
    {
     "data": {
      "text/html": [
       "<html>\\(\\displaystyle \\mathrm{False}\\)</html>"
      ],
      "text/latex": [
       "$\\displaystyle \\mathrm{False}$"
      ],
      "text/plain": [
       "False"
      ]
     },
     "execution_count": 133,
     "metadata": {},
     "output_type": "execute_result"
    }
   ],
   "source": [
    "A.is_positive_definite()"
   ]
  },
  {
   "cell_type": "code",
   "execution_count": 134,
   "metadata": {
    "vscode": {
     "languageId": "python"
    }
   },
   "outputs": [
    {
     "data": {
      "text/html": [
       "<html>\\(\\displaystyle \\mathrm{False}\\)</html>"
      ],
      "text/latex": [
       "$\\displaystyle \\mathrm{False}$"
      ],
      "text/plain": [
       "False"
      ]
     },
     "execution_count": 134,
     "metadata": {},
     "output_type": "execute_result"
    }
   ],
   "source": [
    "A.is_positive_semidefinite()"
   ]
  },
  {
   "cell_type": "code",
   "execution_count": 135,
   "metadata": {
    "vscode": {
     "languageId": "python"
    }
   },
   "outputs": [
    {
     "data": {
      "text/html": [
       "<html>\\(\\displaystyle \\mathrm{True}\\)</html>"
      ],
      "text/latex": [
       "$\\displaystyle \\mathrm{True}$"
      ],
      "text/plain": [
       "True"
      ]
     },
     "execution_count": 135,
     "metadata": {},
     "output_type": "execute_result"
    }
   ],
   "source": [
    "A.is_symmetric()"
   ]
  },
  {
   "cell_type": "code",
   "execution_count": 136,
   "metadata": {
    "vscode": {
     "languageId": "python"
    }
   },
   "outputs": [
    {
     "data": {
      "text/html": [
       "<html>\\(\\displaystyle \\mathrm{True}\\)</html>"
      ],
      "text/latex": [
       "$\\displaystyle \\mathrm{True}$"
      ],
      "text/plain": [
       "True"
      ]
     },
     "execution_count": 136,
     "metadata": {},
     "output_type": "execute_result"
    }
   ],
   "source": [
    "A.is_square()"
   ]
  },
  {
   "cell_type": "markdown",
   "metadata": {},
   "source": [
    "**Problem 2**"
   ]
  },
  {
   "cell_type": "code",
   "execution_count": 137,
   "metadata": {
    "vscode": {
     "languageId": "python"
    }
   },
   "outputs": [
    {
     "data": {
      "text/html": [
       "<html>\\(\\displaystyle \\left(\\begin{array}{rrr}\n",
       "1 & λ & -1 \\\\\n",
       "λ & 1 & 2 \\\\\n",
       "-1 & 2 & 5\n",
       "\\end{array}\\right)\\)</html>"
      ],
      "text/latex": [
       "$\\displaystyle \\left(\\begin{array}{rrr}\n",
       "1 & λ & -1 \\\\\n",
       "λ & 1 & 2 \\\\\n",
       "-1 & 2 & 5\n",
       "\\end{array}\\right)$"
      ],
      "text/plain": [
       "[ 1  λ -1]\n",
       "[ λ  1  2]\n",
       "[-1  2  5]"
      ]
     },
     "execution_count": 137,
     "metadata": {},
     "output_type": "execute_result"
    }
   ],
   "source": [
    "λ = var('λ')\n",
    "\n",
    "M = matrix([[1, λ, -1], [λ, 1, 2], [-1, 2, 5]]); M"
   ]
  },
  {
   "cell_type": "code",
   "execution_count": 138,
   "metadata": {
    "vscode": {
     "languageId": "python"
    }
   },
   "outputs": [
    {
     "data": {
      "text/html": [
       "<html>\\(\\displaystyle \\left[λ = \\left(-\\frac{4}{5}\\right), λ = 0\\right]\\)</html>"
      ],
      "text/latex": [
       "$\\displaystyle \\left[λ = \\left(-\\frac{4}{5}\\right), λ = 0\\right]$"
      ],
      "text/plain": [
       "[λ == (-4/5), λ == 0]"
      ]
     },
     "execution_count": 138,
     "metadata": {},
     "output_type": "execute_result"
    }
   ],
   "source": [
    "eq = M.determinant() == 0\n",
    "solve(eq, λ)\n"
   ]
  },
  {
   "cell_type": "markdown",
   "metadata": {},
   "source": [
    "**Problem 3**"
   ]
  },
  {
   "cell_type": "code",
   "execution_count": 139,
   "metadata": {
    "vscode": {
     "languageId": "python"
    }
   },
   "outputs": [
    {
     "data": {
      "text/html": [
       "<html>\\(\\displaystyle \\left(\\left(\\begin{array}{r}\n",
       "1 \\\\\n",
       "2\n",
       "\\end{array}\\right), \\left(\\begin{array}{rr}\n",
       "0 & 1 \\\\\n",
       "1 & 0 \\\\\n",
       "3 & 1\n",
       "\\end{array}\\right), \\left(\\begin{array}{rr}\n",
       "1 & -1\n",
       "\\end{array}\\right)\\right)\\)</html>"
      ],
      "text/latex": [
       "$\\displaystyle \\left(\\left(\\begin{array}{r}\n",
       "1 \\\\\n",
       "2\n",
       "\\end{array}\\right), \\left(\\begin{array}{rr}\n",
       "0 & 1 \\\\\n",
       "1 & 0 \\\\\n",
       "3 & 1\n",
       "\\end{array}\\right), \\left(\\begin{array}{rr}\n",
       "1 & -1\n",
       "\\end{array}\\right)\\right)$"
      ],
      "text/plain": [
       "(\n",
       "     [0 1]         \n",
       "[1]  [1 0]         \n",
       "[2], [3 1], [ 1 -1]\n",
       ")"
      ]
     },
     "execution_count": 139,
     "metadata": {},
     "output_type": "execute_result"
    }
   ],
   "source": [
    "A = matrix(QQ, 2, 1, [1, 2])\n",
    "B = matrix(QQ, 3, 2, [[0, 1], [1, 0], [3, 1]])\n",
    "C = matrix(QQ, [1, -1])\n",
    "\n",
    "A, B, C"
   ]
  },
  {
   "cell_type": "code",
   "execution_count": 140,
   "metadata": {
    "vscode": {
     "languageId": "python"
    }
   },
   "outputs": [
    {
     "data": {
      "text/html": [
       "<html>\\(\\displaystyle \\left(\\begin{array}{rr}\n",
       "1 & -1 \\\\\n",
       "2 & -2\n",
       "\\end{array}\\right)\\)</html>"
      ],
      "text/latex": [
       "$\\displaystyle \\left(\\begin{array}{rr}\n",
       "1 & -1 \\\\\n",
       "2 & -2\n",
       "\\end{array}\\right)$"
      ],
      "text/plain": [
       "[ 1 -1]\n",
       "[ 2 -2]"
      ]
     },
     "execution_count": 140,
     "metadata": {},
     "output_type": "execute_result"
    }
   ],
   "source": [
    "A*C"
   ]
  },
  {
   "cell_type": "code",
   "execution_count": 141,
   "metadata": {
    "vscode": {
     "languageId": "python"
    }
   },
   "outputs": [
    {
     "data": {
      "text/html": [
       "<html>\\(\\displaystyle \\left(\\begin{array}{r}\n",
       "-1\n",
       "\\end{array}\\right)\\)</html>"
      ],
      "text/latex": [
       "$\\displaystyle \\left(\\begin{array}{r}\n",
       "-1\n",
       "\\end{array}\\right)$"
      ],
      "text/plain": [
       "[-1]"
      ]
     },
     "execution_count": 141,
     "metadata": {},
     "output_type": "execute_result"
    }
   ],
   "source": [
    "C*A"
   ]
  },
  {
   "cell_type": "code",
   "execution_count": 142,
   "metadata": {
    "vscode": {
     "languageId": "python"
    }
   },
   "outputs": [
    {
     "data": {
      "text/html": [
       "<html>\\(\\displaystyle \\left(\\begin{array}{r}\n",
       "2 \\\\\n",
       "1 \\\\\n",
       "5\n",
       "\\end{array}\\right)\\)</html>"
      ],
      "text/latex": [
       "$\\displaystyle \\left(\\begin{array}{r}\n",
       "2 \\\\\n",
       "1 \\\\\n",
       "5\n",
       "\\end{array}\\right)$"
      ],
      "text/plain": [
       "[2]\n",
       "[1]\n",
       "[5]"
      ]
     },
     "execution_count": 142,
     "metadata": {},
     "output_type": "execute_result"
    }
   ],
   "source": [
    "B*A"
   ]
  },
  {
   "cell_type": "markdown",
   "metadata": {},
   "source": [
    "**Problem 4**"
   ]
  },
  {
   "cell_type": "code",
   "execution_count": 143,
   "metadata": {
    "vscode": {
     "languageId": "python"
    }
   },
   "outputs": [
    {
     "data": {
      "text/html": [
       "<html>\\(\\displaystyle \\left(x^{2}, 3 \\, x + 2, e^{\\left(-x - y\\right)}\\right)\\)</html>"
      ],
      "text/latex": [
       "$\\displaystyle \\left(x^{2}, 3 \\, x + 2, e^{\\left(-x - y\\right)}\\right)$"
      ],
      "text/plain": [
       "(x^2, 3*x + 2, e^(-x - y))"
      ]
     },
     "execution_count": 143,
     "metadata": {},
     "output_type": "execute_result"
    }
   ],
   "source": [
    "f1(x) = x^2\n",
    "f2(x) = 3*x + 2\n",
    "f3(x, y) = exp(-x-y)\n",
    "\n",
    "f1(x), f2(x), f3(x, y)"
   ]
  },
  {
   "cell_type": "code",
   "execution_count": 144,
   "metadata": {
    "vscode": {
     "languageId": "python"
    }
   },
   "outputs": [
    {
     "data": {
      "text/html": [
       "<html>\\(\\displaystyle 2\\)</html>"
      ],
      "text/latex": [
       "$\\displaystyle 2$"
      ],
      "text/plain": [
       "2"
      ]
     },
     "execution_count": 144,
     "metadata": {},
     "output_type": "execute_result"
    }
   ],
   "source": [
    "diff_f1 = diff(f1(x), x, 2); diff_f1"
   ]
  },
  {
   "cell_type": "code",
   "execution_count": 145,
   "metadata": {
    "vscode": {
     "languageId": "python"
    }
   },
   "outputs": [
    {
     "data": {
      "text/html": [
       "<html>\\(\\displaystyle 0\\)</html>"
      ],
      "text/latex": [
       "$\\displaystyle 0$"
      ],
      "text/plain": [
       "0"
      ]
     },
     "execution_count": 145,
     "metadata": {},
     "output_type": "execute_result"
    }
   ],
   "source": [
    "diff_f2 = diff(f2(x), 2); diff_f2"
   ]
  },
  {
   "cell_type": "code",
   "execution_count": 146,
   "metadata": {
    "vscode": {
     "languageId": "python"
    }
   },
   "outputs": [
    {
     "data": {
      "text/html": [
       "<html>\\(\\displaystyle \\left(\\begin{array}{rr}\n",
       "e^{\\left(-x - y\\right)} & e^{\\left(-x - y\\right)} \\\\\n",
       "e^{\\left(-x - y\\right)} & e^{\\left(-x - y\\right)}\n",
       "\\end{array}\\right)\\)</html>"
      ],
      "text/latex": [
       "$\\displaystyle \\left(\\begin{array}{rr}\n",
       "e^{\\left(-x - y\\right)} & e^{\\left(-x - y\\right)} \\\\\n",
       "e^{\\left(-x - y\\right)} & e^{\\left(-x - y\\right)}\n",
       "\\end{array}\\right)$"
      ],
      "text/plain": [
       "[e^(-x - y) e^(-x - y)]\n",
       "[e^(-x - y) e^(-x - y)]"
      ]
     },
     "execution_count": 146,
     "metadata": {},
     "output_type": "execute_result"
    }
   ],
   "source": [
    "H = f3(x, y).hessian(); H"
   ]
  },
  {
   "cell_type": "code",
   "execution_count": 147,
   "metadata": {
    "vscode": {
     "languageId": "python"
    }
   },
   "outputs": [
    {
     "data": {
      "text/html": [
       "<html>\\(\\displaystyle {\\left(x e^{\\left(-x - y\\right)} + y e^{\\left(-x - y\\right)}\\right)} x + {\\left(x e^{\\left(-x - y\\right)} + y e^{\\left(-x - y\\right)}\\right)} y\\)</html>"
      ],
      "text/latex": [
       "$\\displaystyle {\\left(x e^{\\left(-x - y\\right)} + y e^{\\left(-x - y\\right)}\\right)} x + {\\left(x e^{\\left(-x - y\\right)} + y e^{\\left(-x - y\\right)}\\right)} y$"
      ],
      "text/plain": [
       "(x*e^(-x - y) + y*e^(-x - y))*x + (x*e^(-x - y) + y*e^(-x - y))*y"
      ]
     },
     "execution_count": 147,
     "metadata": {},
     "output_type": "execute_result"
    }
   ],
   "source": [
    "x, y = var('x, y')\n",
    "X = matrix(2, 1, [x, y])\n",
    "\n",
    "sol = X.T*H*X; sol[0][0]"
   ]
  },
  {
   "cell_type": "code",
   "execution_count": 148,
   "metadata": {
    "vscode": {
     "languageId": "python"
    }
   },
   "outputs": [
    {
     "data": {
      "text/html": [
       "<html>\\(\\displaystyle \\mathrm{False}\\)</html>"
      ],
      "text/latex": [
       "$\\displaystyle \\mathrm{False}$"
      ],
      "text/plain": [
       "False"
      ]
     },
     "execution_count": 148,
     "metadata": {},
     "output_type": "execute_result"
    }
   ],
   "source": [
    "p = sol[0][0]\n",
    "all([coef >= 0 for coef, degree in p.coefficients(x)])"
   ]
  },
  {
   "cell_type": "markdown",
   "metadata": {},
   "source": [
    "**Problem 6**"
   ]
  },
  {
   "cell_type": "code",
   "execution_count": 149,
   "metadata": {
    "vscode": {
     "languageId": "python"
    }
   },
   "outputs": [
    {
     "data": {
      "text/html": [
       "<html>\\(\\displaystyle \\left(\\left(1,\\,-1,\\,1\\right), \\left(1,\\,-1,\\,-1\\right)\\right)\\)</html>"
      ],
      "text/latex": [
       "$\\displaystyle \\left(\\left(1,\\,-1,\\,1\\right), \\left(1,\\,-1,\\,-1\\right)\\right)$"
      ],
      "text/plain": [
       "((1, -1, 1), (1, -1, -1))"
      ]
     },
     "execution_count": 149,
     "metadata": {},
     "output_type": "execute_result"
    }
   ],
   "source": [
    "a = vector(QQ, [1, -1, 1])\n",
    "b = vector(QQ, [1, -1, -1])\n",
    "\n",
    "a, b"
   ]
  },
  {
   "cell_type": "code",
   "execution_count": 150,
   "metadata": {
    "vscode": {
     "languageId": "python"
    }
   },
   "outputs": [
    {
     "data": {
      "text/html": [
       "<html>\\(\\displaystyle \\frac{1}{3}\\)</html>"
      ],
      "text/latex": [
       "$\\displaystyle \\frac{1}{3}$"
      ],
      "text/plain": [
       "1/3"
      ]
     },
     "execution_count": 150,
     "metadata": {},
     "output_type": "execute_result"
    }
   ],
   "source": [
    "cw = a.dot_product(b) / (norm(a)*norm(b)); cw"
   ]
  },
  {
   "cell_type": "markdown",
   "metadata": {},
   "source": [
    "**problem 7**"
   ]
  },
  {
   "cell_type": "code",
   "execution_count": 151,
   "metadata": {
    "vscode": {
     "languageId": "python"
    }
   },
   "outputs": [
    {
     "data": {
      "text/html": [
       "<html>\\(\\displaystyle x e^{\\left(x + y\\right)}\\)</html>"
      ],
      "text/latex": [
       "$\\displaystyle x e^{\\left(x + y\\right)}$"
      ],
      "text/plain": [
       "x*e^(x + y)"
      ]
     },
     "execution_count": 151,
     "metadata": {},
     "output_type": "execute_result"
    }
   ],
   "source": [
    "f(x, y) = x*exp(x+y); f(x, y)"
   ]
  },
  {
   "cell_type": "code",
   "execution_count": 152,
   "metadata": {
    "vscode": {
     "languageId": "python"
    }
   },
   "outputs": [
    {
     "data": {
      "text/html": [
       "<html>\\(\\displaystyle x e^{\\left(x + y\\right)} + e^{\\left(x + y\\right)}\\)</html>"
      ],
      "text/latex": [
       "$\\displaystyle x e^{\\left(x + y\\right)} + e^{\\left(x + y\\right)}$"
      ],
      "text/plain": [
       "x*e^(x + y) + e^(x + y)"
      ]
     },
     "execution_count": 152,
     "metadata": {},
     "output_type": "execute_result"
    }
   ],
   "source": [
    "diff(diff(f(x, y), y), x)"
   ]
  },
  {
   "cell_type": "markdown",
   "metadata": {},
   "source": [
    "**Problem 8**"
   ]
  },
  {
   "cell_type": "code",
   "execution_count": 4,
   "metadata": {
    "vscode": {
     "languageId": "python"
    }
   },
   "outputs": [
    {
     "data": {
      "text/plain": [
       "x*log(y)"
      ]
     },
     "execution_count": 4,
     "metadata": {},
     "output_type": "execute_result"
    }
   ],
   "source": [
    "f(x, y) = x*ln(y); f(x, y)"
   ]
  },
  {
   "cell_type": "code",
   "execution_count": 7,
   "metadata": {
    "vscode": {
     "languageId": "python"
    }
   },
   "outputs": [
    {
     "ename": "TypeError",
     "evalue": "unable to convert (log(y), x/y) to a symbolic expression",
     "output_type": "error",
     "traceback": [
      "\u001b[0;31m---------------------------------------------------------------------------\u001b[0m",
      "\u001b[0;31mTypeError\u001b[0m                                 Traceback (most recent call last)",
      "\u001b[0;32m<ipython-input-7-be6cc628246d>\u001b[0m in \u001b[0;36m<module>\u001b[0;34m\u001b[0m\n\u001b[0;32m----> 1\u001b[0;31m \u001b[0m__tmp__\u001b[0m\u001b[0;34m=\u001b[0m\u001b[0mvar\u001b[0m\u001b[0;34m(\u001b[0m\u001b[0;34m\"x,y\"\u001b[0m\u001b[0;34m)\u001b[0m\u001b[0;34m;\u001b[0m \u001b[0mgrd\u001b[0m \u001b[0;34m=\u001b[0m \u001b[0msymbolic_expression\u001b[0m\u001b[0;34m(\u001b[0m\u001b[0mf\u001b[0m\u001b[0;34m(\u001b[0m\u001b[0mx\u001b[0m\u001b[0;34m,\u001b[0m \u001b[0my\u001b[0m\u001b[0;34m)\u001b[0m\u001b[0;34m.\u001b[0m\u001b[0mgradient\u001b[0m\u001b[0;34m(\u001b[0m\u001b[0;34m)\u001b[0m\u001b[0;34m)\u001b[0m\u001b[0;34m.\u001b[0m\u001b[0mfunction\u001b[0m\u001b[0;34m(\u001b[0m\u001b[0mx\u001b[0m\u001b[0;34m,\u001b[0m\u001b[0my\u001b[0m\u001b[0;34m)\u001b[0m\u001b[0;34m;\u001b[0m \u001b[0mgrd\u001b[0m\u001b[0;34m\u001b[0m\u001b[0;34m\u001b[0m\u001b[0m\n\u001b[0m",
      "\u001b[0;32m/opt/sagemath-9.3/local/lib/python3.7/site-packages/sage/calculus/all.py\u001b[0m in \u001b[0;36msymbolic_expression\u001b[0;34m(x)\u001b[0m\n\u001b[1;32m    104\u001b[0m         \u001b[0;32mreturn\u001b[0m \u001b[0mvector\u001b[0m\u001b[0;34m(\u001b[0m\u001b[0mSR\u001b[0m\u001b[0;34m,\u001b[0m\u001b[0mx\u001b[0m\u001b[0;34m)\u001b[0m\u001b[0;34m\u001b[0m\u001b[0;34m\u001b[0m\u001b[0m\n\u001b[1;32m    105\u001b[0m     \u001b[0;32melse\u001b[0m\u001b[0;34m:\u001b[0m\u001b[0;34m\u001b[0m\u001b[0;34m\u001b[0m\u001b[0m\n\u001b[0;32m--> 106\u001b[0;31m         \u001b[0;32mreturn\u001b[0m \u001b[0mSR\u001b[0m\u001b[0;34m(\u001b[0m\u001b[0mx\u001b[0m\u001b[0;34m)\u001b[0m\u001b[0;34m\u001b[0m\u001b[0;34m\u001b[0m\u001b[0m\n\u001b[0m\u001b[1;32m    107\u001b[0m \u001b[0;34m\u001b[0m\u001b[0m\n\u001b[1;32m    108\u001b[0m \u001b[0;32mfrom\u001b[0m \u001b[0;34m.\u001b[0m \u001b[0;32mimport\u001b[0m \u001b[0mdesolvers\u001b[0m\u001b[0;34m\u001b[0m\u001b[0;34m\u001b[0m\u001b[0m\n",
      "\u001b[0;32m/opt/sagemath-9.3/local/lib/python3.7/site-packages/sage/structure/parent.pyx\u001b[0m in \u001b[0;36msage.structure.parent.Parent.__call__ (build/cythonized/sage/structure/parent.c:9336)\u001b[0;34m()\u001b[0m\n\u001b[1;32m    896\u001b[0m         \u001b[0;32mif\u001b[0m \u001b[0mmor\u001b[0m \u001b[0;32mis\u001b[0m \u001b[0;32mnot\u001b[0m \u001b[0;32mNone\u001b[0m\u001b[0;34m:\u001b[0m\u001b[0;34m\u001b[0m\u001b[0;34m\u001b[0m\u001b[0m\n\u001b[1;32m    897\u001b[0m             \u001b[0;32mif\u001b[0m \u001b[0mno_extra_args\u001b[0m\u001b[0;34m:\u001b[0m\u001b[0;34m\u001b[0m\u001b[0;34m\u001b[0m\u001b[0m\n\u001b[0;32m--> 898\u001b[0;31m                 \u001b[0;32mreturn\u001b[0m \u001b[0mmor\u001b[0m\u001b[0;34m.\u001b[0m\u001b[0m_call_\u001b[0m\u001b[0;34m(\u001b[0m\u001b[0mx\u001b[0m\u001b[0;34m)\u001b[0m\u001b[0;34m\u001b[0m\u001b[0;34m\u001b[0m\u001b[0m\n\u001b[0m\u001b[1;32m    899\u001b[0m             \u001b[0;32melse\u001b[0m\u001b[0;34m:\u001b[0m\u001b[0;34m\u001b[0m\u001b[0;34m\u001b[0m\u001b[0m\n\u001b[1;32m    900\u001b[0m                 \u001b[0;32mreturn\u001b[0m \u001b[0mmor\u001b[0m\u001b[0;34m.\u001b[0m\u001b[0m_call_with_args\u001b[0m\u001b[0;34m(\u001b[0m\u001b[0mx\u001b[0m\u001b[0;34m,\u001b[0m \u001b[0margs\u001b[0m\u001b[0;34m,\u001b[0m \u001b[0mkwds\u001b[0m\u001b[0;34m)\u001b[0m\u001b[0;34m\u001b[0m\u001b[0;34m\u001b[0m\u001b[0m\n",
      "\u001b[0;32m/opt/sagemath-9.3/local/lib/python3.7/site-packages/sage/structure/coerce_maps.pyx\u001b[0m in \u001b[0;36msage.structure.coerce_maps.DefaultConvertMap_unique._call_ (build/cythonized/sage/structure/coerce_maps.c:4622)\u001b[0;34m()\u001b[0m\n\u001b[1;32m    159\u001b[0m                 \u001b[0mprint\u001b[0m\u001b[0;34m(\u001b[0m\u001b[0mtype\u001b[0m\u001b[0;34m(\u001b[0m\u001b[0mC\u001b[0m\u001b[0;34m)\u001b[0m\u001b[0;34m,\u001b[0m \u001b[0mC\u001b[0m\u001b[0;34m)\u001b[0m\u001b[0;34m\u001b[0m\u001b[0;34m\u001b[0m\u001b[0m\n\u001b[1;32m    160\u001b[0m                 \u001b[0mprint\u001b[0m\u001b[0;34m(\u001b[0m\u001b[0mtype\u001b[0m\u001b[0;34m(\u001b[0m\u001b[0mC\u001b[0m\u001b[0;34m.\u001b[0m\u001b[0m_element_constructor\u001b[0m\u001b[0;34m)\u001b[0m\u001b[0;34m,\u001b[0m \u001b[0mC\u001b[0m\u001b[0;34m.\u001b[0m\u001b[0m_element_constructor\u001b[0m\u001b[0;34m)\u001b[0m\u001b[0;34m\u001b[0m\u001b[0;34m\u001b[0m\u001b[0m\n\u001b[0;32m--> 161\u001b[0;31m             \u001b[0;32mraise\u001b[0m\u001b[0;34m\u001b[0m\u001b[0;34m\u001b[0m\u001b[0m\n\u001b[0m\u001b[1;32m    162\u001b[0m \u001b[0;34m\u001b[0m\u001b[0m\n\u001b[1;32m    163\u001b[0m     \u001b[0mcpdef\u001b[0m \u001b[0mElement\u001b[0m \u001b[0m_call_with_args\u001b[0m\u001b[0;34m(\u001b[0m\u001b[0mself\u001b[0m\u001b[0;34m,\u001b[0m \u001b[0mx\u001b[0m\u001b[0;34m,\u001b[0m \u001b[0margs\u001b[0m\u001b[0;34m=\u001b[0m\u001b[0;34m(\u001b[0m\u001b[0;34m)\u001b[0m\u001b[0;34m,\u001b[0m \u001b[0mkwds\u001b[0m\u001b[0;34m=\u001b[0m\u001b[0;34m{\u001b[0m\u001b[0;34m}\u001b[0m\u001b[0;34m)\u001b[0m\u001b[0;34m:\u001b[0m\u001b[0;34m\u001b[0m\u001b[0;34m\u001b[0m\u001b[0m\n",
      "\u001b[0;32m/opt/sagemath-9.3/local/lib/python3.7/site-packages/sage/structure/coerce_maps.pyx\u001b[0m in \u001b[0;36msage.structure.coerce_maps.DefaultConvertMap_unique._call_ (build/cythonized/sage/structure/coerce_maps.c:4514)\u001b[0;34m()\u001b[0m\n\u001b[1;32m    154\u001b[0m         \u001b[0mcdef\u001b[0m \u001b[0mParent\u001b[0m \u001b[0mC\u001b[0m \u001b[0;34m=\u001b[0m \u001b[0mself\u001b[0m\u001b[0;34m.\u001b[0m\u001b[0m_codomain\u001b[0m\u001b[0;34m\u001b[0m\u001b[0;34m\u001b[0m\u001b[0m\n\u001b[1;32m    155\u001b[0m         \u001b[0;32mtry\u001b[0m\u001b[0;34m:\u001b[0m\u001b[0;34m\u001b[0m\u001b[0;34m\u001b[0m\u001b[0m\n\u001b[0;32m--> 156\u001b[0;31m             \u001b[0;32mreturn\u001b[0m \u001b[0mC\u001b[0m\u001b[0;34m.\u001b[0m\u001b[0m_element_constructor\u001b[0m\u001b[0;34m(\u001b[0m\u001b[0mx\u001b[0m\u001b[0;34m)\u001b[0m\u001b[0;34m\u001b[0m\u001b[0;34m\u001b[0m\u001b[0m\n\u001b[0m\u001b[1;32m    157\u001b[0m         \u001b[0;32mexcept\u001b[0m \u001b[0mException\u001b[0m\u001b[0;34m:\u001b[0m\u001b[0;34m\u001b[0m\u001b[0;34m\u001b[0m\u001b[0m\n\u001b[1;32m    158\u001b[0m             \u001b[0;32mif\u001b[0m \u001b[0mprint_warnings\u001b[0m\u001b[0;34m:\u001b[0m\u001b[0;34m\u001b[0m\u001b[0;34m\u001b[0m\u001b[0m\n",
      "\u001b[0;32m/opt/sagemath-9.3/local/lib/python3.7/site-packages/sage/symbolic/ring.pyx\u001b[0m in \u001b[0;36msage.symbolic.ring.SymbolicRing._element_constructor_ (build/cythonized/sage/symbolic/ring.cpp:6981)\u001b[0;34m()\u001b[0m\n\u001b[1;32m    394\u001b[0m             \u001b[0;32mreturn\u001b[0m \u001b[0mprod\u001b[0m\u001b[0;34m(\u001b[0m\u001b[0;34m[\u001b[0m\u001b[0mSR\u001b[0m\u001b[0;34m(\u001b[0m\u001b[0mp\u001b[0m\u001b[0;34m)\u001b[0m\u001b[0;34m**\u001b[0m\u001b[0me\u001b[0m \u001b[0;32mfor\u001b[0m \u001b[0mp\u001b[0m\u001b[0;34m,\u001b[0m\u001b[0me\u001b[0m \u001b[0;32min\u001b[0m \u001b[0mx\u001b[0m\u001b[0;34m]\u001b[0m\u001b[0;34m,\u001b[0m \u001b[0mSR\u001b[0m\u001b[0;34m(\u001b[0m\u001b[0mx\u001b[0m\u001b[0;34m.\u001b[0m\u001b[0munit\u001b[0m\u001b[0;34m(\u001b[0m\u001b[0;34m)\u001b[0m\u001b[0;34m)\u001b[0m\u001b[0;34m)\u001b[0m\u001b[0;34m\u001b[0m\u001b[0;34m\u001b[0m\u001b[0m\n\u001b[1;32m    395\u001b[0m         \u001b[0;32melse\u001b[0m\u001b[0;34m:\u001b[0m\u001b[0;34m\u001b[0m\u001b[0;34m\u001b[0m\u001b[0m\n\u001b[0;32m--> 396\u001b[0;31m             \u001b[0;32mraise\u001b[0m \u001b[0mTypeError\u001b[0m\u001b[0;34m(\u001b[0m\u001b[0;34mf\"unable to convert {x!r} to a symbolic expression\"\u001b[0m\u001b[0;34m)\u001b[0m\u001b[0;34m\u001b[0m\u001b[0;34m\u001b[0m\u001b[0m\n\u001b[0m\u001b[1;32m    397\u001b[0m \u001b[0;34m\u001b[0m\u001b[0m\n\u001b[1;32m    398\u001b[0m         \u001b[0;32mreturn\u001b[0m \u001b[0mnew_Expression_from_GEx\u001b[0m\u001b[0;34m(\u001b[0m\u001b[0mself\u001b[0m\u001b[0;34m,\u001b[0m \u001b[0mexp\u001b[0m\u001b[0;34m)\u001b[0m\u001b[0;34m\u001b[0m\u001b[0;34m\u001b[0m\u001b[0m\n",
      "\u001b[0;31mTypeError\u001b[0m: unable to convert (log(y), x/y) to a symbolic expression"
     ]
    }
   ],
   "source": [
    "grd(x, y) = f(x, y).gradient(); grd"
   ]
  },
  {
   "cell_type": "code",
   "execution_count": 155,
   "metadata": {
    "vscode": {
     "languageId": "python"
    }
   },
   "outputs": [
    {
     "data": {
      "text/html": [
       "<html>\\(\\displaystyle \\left(0,\\,1\\right)\\)</html>"
      ],
      "text/latex": [
       "$\\displaystyle \\left(0,\\,1\\right)$"
      ],
      "text/plain": [
       "(0, 1)"
      ]
     },
     "execution_count": 155,
     "metadata": {},
     "output_type": "execute_result"
    }
   ],
   "source": [
    "grd(1, 1)"
   ]
  },
  {
   "cell_type": "markdown",
   "metadata": {},
   "source": [
    "**problem 9**"
   ]
  },
  {
   "cell_type": "code",
   "execution_count": 156,
   "metadata": {
    "vscode": {
     "languageId": "python"
    }
   },
   "outputs": [
    {
     "data": {
      "text/html": [
       "<html>\\(\\displaystyle 11\\)</html>"
      ],
      "text/latex": [
       "$\\displaystyle 11$"
      ],
      "text/plain": [
       "11"
      ]
     },
     "execution_count": 156,
     "metadata": {},
     "output_type": "execute_result"
    }
   ],
   "source": [
    "data = [0, 0, 12, 12, 12, 12, 12, 12, 12, 12, 12, 12, 12, 12, 12, 12, 12, 12, 12, 12, 12, 12, 12, 12]\n",
    "μ = sum(data)/len(data); μ"
   ]
  },
  {
   "cell_type": "code",
   "execution_count": 157,
   "metadata": {
    "vscode": {
     "languageId": "python"
    }
   },
   "outputs": [
    {
     "data": {
      "text/html": [
       "<html>\\(\\displaystyle \\left[121, 121, 1, 1, 1, 1, 1, 1, 1, 1, 1, 1, 1, 1, 1, 1, 1, 1, 1, 1, 1, 1, 1, 1\\right]\\)</html>"
      ],
      "text/latex": [
       "$\\displaystyle \\left[121, 121, 1, 1, 1, 1, 1, 1, 1, 1, 1, 1, 1, 1, 1, 1, 1, 1, 1, 1, 1, 1, 1, 1\\right]$"
      ],
      "text/plain": [
       "[121, 121, 1, 1, 1, 1, 1, 1, 1, 1, 1, 1, 1, 1, 1, 1, 1, 1, 1, 1, 1, 1, 1, 1]"
      ]
     },
     "execution_count": 157,
     "metadata": {},
     "output_type": "execute_result"
    }
   ],
   "source": [
    "vv = [(data[i] - μ)^2  for i in range(24)]; vv"
   ]
  },
  {
   "cell_type": "code",
   "execution_count": 158,
   "metadata": {
    "vscode": {
     "languageId": "python"
    }
   },
   "outputs": [
    {
     "data": {
      "text/html": [
       "<html>\\(\\displaystyle 11\\)</html>"
      ],
      "text/latex": [
       "$\\displaystyle 11$"
      ],
      "text/plain": [
       "11"
      ]
     },
     "execution_count": 158,
     "metadata": {},
     "output_type": "execute_result"
    }
   ],
   "source": [
    "v = sum(vv) / len(vv); v"
   ]
  },
  {
   "cell_type": "code",
   "execution_count": 159,
   "metadata": {
    "vscode": {
     "languageId": "python"
    }
   },
   "outputs": [
    {
     "data": {
      "text/html": [
       "<html>\\(\\displaystyle \\sqrt{11}\\)</html>"
      ],
      "text/latex": [
       "$\\displaystyle \\sqrt{11}$"
      ],
      "text/plain": [
       "sqrt(11)"
      ]
     },
     "execution_count": 159,
     "metadata": {},
     "output_type": "execute_result"
    }
   ],
   "source": [
    "σ = sqrt(v); σ "
   ]
  },
  {
   "cell_type": "code",
   "execution_count": 160,
   "metadata": {
    "vscode": {
     "languageId": "python"
    }
   },
   "outputs": [
    {
     "data": {
      "text/html": [
       "<html>\\(\\displaystyle \\sqrt{11}\\)</html>"
      ],
      "text/latex": [
       "$\\displaystyle \\sqrt{11}$"
      ],
      "text/plain": [
       "sqrt(11)"
      ]
     },
     "execution_count": 160,
     "metadata": {},
     "output_type": "execute_result"
    }
   ],
   "source": [
    "err = sqrt(1/24*sum(vv)); err"
   ]
  },
  {
   "cell_type": "markdown",
   "metadata": {},
   "source": [
    "**Problem 10**"
   ]
  },
  {
   "cell_type": "code",
   "execution_count": 161,
   "metadata": {
    "vscode": {
     "languageId": "python"
    }
   },
   "outputs": [
    {
     "data": {
      "text/html": [
       "<html>\\(\\displaystyle 1\\)</html>"
      ],
      "text/latex": [
       "$\\displaystyle 1$"
      ],
      "text/plain": [
       "1"
      ]
     },
     "execution_count": 161,
     "metadata": {},
     "output_type": "execute_result"
    }
   ],
   "source": [
    "B = matrix([[3, 1, 3], [6, 2, 6]])\n",
    "B.rank()"
   ]
  },
  {
   "cell_type": "code",
   "execution_count": 162,
   "metadata": {
    "vscode": {
     "languageId": "python"
    }
   },
   "outputs": [
    {
     "data": {
      "text/html": [
       "<html>\\(\\displaystyle 2\\)</html>"
      ],
      "text/latex": [
       "$\\displaystyle 2$"
      ],
      "text/plain": [
       "2"
      ]
     },
     "execution_count": 162,
     "metadata": {},
     "output_type": "execute_result"
    }
   ],
   "source": [
    "B = matrix([[3, 1, 3], [1, 2, 1]])\n",
    "B.rank()"
   ]
  },
  {
   "cell_type": "markdown",
   "metadata": {},
   "source": [
    "**Problem 11**"
   ]
  },
  {
   "cell_type": "code",
   "execution_count": 8,
   "metadata": {
    "vscode": {
     "languageId": "python"
    }
   },
   "outputs": [
    {
     "data": {
      "text/plain": [
       "[              x*y]\n",
       "[1/2*x^2 - 1/2*y^2]"
      ]
     },
     "execution_count": 8,
     "metadata": {},
     "output_type": "execute_result"
    }
   ],
   "source": [
    "f(x, y) = matrix(2, 1, [[x*y], [(x^2 - y^2)/2]]); f(x, y)"
   ]
  },
  {
   "cell_type": "code",
   "execution_count": 9,
   "metadata": {
    "vscode": {
     "languageId": "python"
    }
   },
   "outputs": [
    {
     "data": {
      "text/plain": [
       "[(x, y) |--> 0 (x, y) |--> 0]"
      ]
     },
     "execution_count": 9,
     "metadata": {},
     "output_type": "execute_result"
    }
   ],
   "source": [
    "jacobian(f, (x, y))"
   ]
  },
  {
   "cell_type": "markdown",
   "metadata": {},
   "source": [
    "**Problem 12**"
   ]
  },
  {
   "cell_type": "code",
   "execution_count": 165,
   "metadata": {
    "vscode": {
     "languageId": "python"
    }
   },
   "outputs": [
    {
     "data": {
      "text/html": [
       "<html>\\(\\displaystyle \\left(\\begin{array}{rrr}\n",
       "1 & 0 & 0 \\\\\n",
       "0 & 1 & -\\frac{1}{2} \\\\\n",
       "0 & 0 & 0\n",
       "\\end{array}\\right)\\)</html>"
      ],
      "text/latex": [
       "$\\displaystyle \\left(\\begin{array}{rrr}\n",
       "1 & 0 & 0 \\\\\n",
       "0 & 1 & -\\frac{1}{2} \\\\\n",
       "0 & 0 & 0\n",
       "\\end{array}\\right)$"
      ],
      "text/plain": [
       "[   1    0    0]\n",
       "[   0    1 -1/2]\n",
       "[   0    0    0]"
      ]
     },
     "execution_count": 165,
     "metadata": {},
     "output_type": "execute_result"
    }
   ],
   "source": [
    "A = matrix([[1, 0, 0], [0, 2, -1], [0, 0, 0]])\n",
    "A.rref()"
   ]
  },
  {
   "cell_type": "code",
   "execution_count": 166,
   "metadata": {
    "vscode": {
     "languageId": "python"
    }
   },
   "outputs": [
    {
     "data": {
      "text/html": [
       "<html>\\(\\displaystyle \\left(\\begin{array}{rrrr}\n",
       "0 & 1 & 0 & 1 \\\\\n",
       "0 & 0 & 1 & 0\n",
       "\\end{array}\\right)\\)</html>"
      ],
      "text/latex": [
       "$\\displaystyle \\left(\\begin{array}{rrrr}\n",
       "0 & 1 & 0 & 1 \\\\\n",
       "0 & 0 & 1 & 0\n",
       "\\end{array}\\right)$"
      ],
      "text/plain": [
       "[0 1 0 1]\n",
       "[0 0 1 0]"
      ]
     },
     "execution_count": 166,
     "metadata": {},
     "output_type": "execute_result"
    }
   ],
   "source": [
    "B = matrix([[0, 1, 0, 1], [0, 0, 1, 0]])\n",
    "B.rref()"
   ]
  },
  {
   "cell_type": "code",
   "execution_count": 167,
   "metadata": {
    "vscode": {
     "languageId": "python"
    }
   },
   "outputs": [
    {
     "data": {
      "text/html": [
       "<html>\\(\\displaystyle \\left(\\begin{array}{rr}\n",
       "1 & 0 \\\\\n",
       "0 & 1\n",
       "\\end{array}\\right)\\)</html>"
      ],
      "text/latex": [
       "$\\displaystyle \\left(\\begin{array}{rr}\n",
       "1 & 0 \\\\\n",
       "0 & 1\n",
       "\\end{array}\\right)$"
      ],
      "text/plain": [
       "[1 0]\n",
       "[0 1]"
      ]
     },
     "execution_count": 167,
     "metadata": {},
     "output_type": "execute_result"
    }
   ],
   "source": [
    "C = matrix([[0, 1], [1, 0]])\n",
    "C.rref()"
   ]
  },
  {
   "cell_type": "code",
   "execution_count": 168,
   "metadata": {
    "vscode": {
     "languageId": "python"
    }
   },
   "outputs": [
    {
     "data": {
      "text/html": [
       "<html>\\(\\displaystyle \\left(\\begin{array}{rrr}\n",
       "1 & 0 & -3 \\\\\n",
       "0 & 1 & 0 \\\\\n",
       "0 & 0 & 0\n",
       "\\end{array}\\right)\\)</html>"
      ],
      "text/latex": [
       "$\\displaystyle \\left(\\begin{array}{rrr}\n",
       "1 & 0 & -3 \\\\\n",
       "0 & 1 & 0 \\\\\n",
       "0 & 0 & 0\n",
       "\\end{array}\\right)$"
      ],
      "text/plain": [
       "[ 1  0 -3]\n",
       "[ 0  1  0]\n",
       "[ 0  0  0]"
      ]
     },
     "execution_count": 168,
     "metadata": {},
     "output_type": "execute_result"
    }
   ],
   "source": [
    "D = matrix([[1, 0, -3], [0, 1, 0], [0, 0, 0]])\n",
    "D.rref()"
   ]
  },
  {
   "cell_type": "markdown",
   "metadata": {},
   "source": [
    "**Problem 14**"
   ]
  },
  {
   "cell_type": "code",
   "execution_count": 169,
   "metadata": {
    "vscode": {
     "languageId": "python"
    }
   },
   "outputs": [
    {
     "data": {
      "text/html": [
       "<html>\\(\\displaystyle \\left(\\begin{array}{rrr}\n",
       "1 & 2 & 3 \\\\\n",
       "1 & 0 & 1 \\\\\n",
       "2 & 2 & 4\n",
       "\\end{array}\\right)\\)</html>"
      ],
      "text/latex": [
       "$\\displaystyle \\left(\\begin{array}{rrr}\n",
       "1 & 2 & 3 \\\\\n",
       "1 & 0 & 1 \\\\\n",
       "2 & 2 & 4\n",
       "\\end{array}\\right)$"
      ],
      "text/plain": [
       "[1 2 3]\n",
       "[1 0 1]\n",
       "[2 2 4]"
      ]
     },
     "execution_count": 169,
     "metadata": {},
     "output_type": "execute_result"
    }
   ],
   "source": [
    "A = matrix(QQ, [[1, 2, 3], [1, 0, 1], [2, 2, 4]]); A"
   ]
  },
  {
   "cell_type": "code",
   "execution_count": 170,
   "metadata": {
    "vscode": {
     "languageId": "python"
    }
   },
   "outputs": [
    {
     "data": {
      "text/html": [
       "<html>\\(\\displaystyle \\left(\\left(\\begin{array}{r}\n",
       "1 \\\\\n",
       "1 \\\\\n",
       "-1\n",
       "\\end{array}\\right), \\left(\\begin{array}{r}\n",
       "2 \\\\\n",
       "1 \\\\\n",
       "0\n",
       "\\end{array}\\right), \\left(\\begin{array}{r}\n",
       "0 \\\\\n",
       "1 \\\\\n",
       "1\n",
       "\\end{array}\\right)\\right)\\)</html>"
      ],
      "text/latex": [
       "$\\displaystyle \\left(\\left(\\begin{array}{r}\n",
       "1 \\\\\n",
       "1 \\\\\n",
       "-1\n",
       "\\end{array}\\right), \\left(\\begin{array}{r}\n",
       "2 \\\\\n",
       "1 \\\\\n",
       "0\n",
       "\\end{array}\\right), \\left(\\begin{array}{r}\n",
       "0 \\\\\n",
       "1 \\\\\n",
       "1\n",
       "\\end{array}\\right)\\right)$"
      ],
      "text/plain": [
       "(\n",
       "[ 1]  [2]  [0]\n",
       "[ 1]  [1]  [1]\n",
       "[-1], [0], [1]\n",
       ")"
      ]
     },
     "execution_count": 170,
     "metadata": {},
     "output_type": "execute_result"
    }
   ],
   "source": [
    "a = matrix(QQ, 3, 1, [1, 1, -1])\n",
    "b = matrix(QQ, 3, 1, [2, 1, 0])\n",
    "c = matrix(QQ, 3, 1, [0, 1, 1])\n",
    "\n",
    "a, b, c"
   ]
  },
  {
   "cell_type": "code",
   "execution_count": 171,
   "metadata": {
    "vscode": {
     "languageId": "python"
    }
   },
   "outputs": [
    {
     "data": {
      "text/html": [
       "<html>\\(\\displaystyle \\left(\\left(\\begin{array}{r}\n",
       "0 \\\\\n",
       "0 \\\\\n",
       "0\n",
       "\\end{array}\\right), \\left(\\begin{array}{r}\n",
       "4 \\\\\n",
       "2 \\\\\n",
       "6\n",
       "\\end{array}\\right), \\left(\\begin{array}{r}\n",
       "5 \\\\\n",
       "1 \\\\\n",
       "6\n",
       "\\end{array}\\right)\\right)\\)</html>"
      ],
      "text/latex": [
       "$\\displaystyle \\left(\\left(\\begin{array}{r}\n",
       "0 \\\\\n",
       "0 \\\\\n",
       "0\n",
       "\\end{array}\\right), \\left(\\begin{array}{r}\n",
       "4 \\\\\n",
       "2 \\\\\n",
       "6\n",
       "\\end{array}\\right), \\left(\\begin{array}{r}\n",
       "5 \\\\\n",
       "1 \\\\\n",
       "6\n",
       "\\end{array}\\right)\\right)$"
      ],
      "text/plain": [
       "(\n",
       "[0]  [4]  [5]\n",
       "[0]  [2]  [1]\n",
       "[0], [6], [6]\n",
       ")"
      ]
     },
     "execution_count": 171,
     "metadata": {},
     "output_type": "execute_result"
    }
   ],
   "source": [
    "A*a, A*b, A*c"
   ]
  },
  {
   "cell_type": "markdown",
   "metadata": {},
   "source": [
    "## Part III: Excercises with Sagemath\n",
    "\n",
    "**Problem 1**"
   ]
  },
  {
   "cell_type": "code",
   "execution_count": 172,
   "metadata": {
    "vscode": {
     "languageId": "python"
    }
   },
   "outputs": [
    {
     "data": {
      "text/html": [
       "<html>\\(\\displaystyle \\left(\\begin{array}{rrrr}\n",
       "1 & 2 & 1 & 2 \\\\\n",
       "2 & 3 & 0 & 1 \\\\\n",
       "0 & 1 & 0 & 1\n",
       "\\end{array}\\right)\\)</html>"
      ],
      "text/latex": [
       "$\\displaystyle \\left(\\begin{array}{rrrr}\n",
       "1 & 2 & 1 & 2 \\\\\n",
       "2 & 3 & 0 & 1 \\\\\n",
       "0 & 1 & 0 & 1\n",
       "\\end{array}\\right)$"
      ],
      "text/plain": [
       "[1 2 1 2]\n",
       "[2 3 0 1]\n",
       "[0 1 0 1]"
      ]
     },
     "execution_count": 172,
     "metadata": {},
     "output_type": "execute_result"
    }
   ],
   "source": [
    "k = 1 + 5%3\n",
    "A = matrix(QQ, [[1, 2, 1, 2], [2, k, 0, 1], [0, 1, 0, 1]]); A"
   ]
  },
  {
   "cell_type": "code",
   "execution_count": 173,
   "metadata": {
    "vscode": {
     "languageId": "python"
    }
   },
   "outputs": [
    {
     "data": {
      "text/html": [
       "<html>\\(\\displaystyle \\left(\\begin{array}{rrrr}\n",
       "1.0 & 2.0 & 1.0 & 2.0 \\\\\n",
       "2.0 & 3.0 & 0.0 & 1.0 \\\\\n",
       "0.0 & 1.0 & 0.0 & 1.0\n",
       "\\end{array}\\right)\\)</html>"
      ],
      "text/latex": [
       "$\\displaystyle \\left(\\begin{array}{rrrr}\n",
       "1.0 & 2.0 & 1.0 & 2.0 \\\\\n",
       "2.0 & 3.0 & 0.0 & 1.0 \\\\\n",
       "0.0 & 1.0 & 0.0 & 1.0\n",
       "\\end{array}\\right)$"
      ],
      "text/plain": [
       "[1.0 2.0 1.0 2.0]\n",
       "[2.0 3.0 0.0 1.0]\n",
       "[0.0 1.0 0.0 1.0]"
      ]
     },
     "execution_count": 173,
     "metadata": {},
     "output_type": "execute_result"
    }
   ],
   "source": [
    "A = A.change_ring(RDF); A"
   ]
  },
  {
   "cell_type": "code",
   "execution_count": 174,
   "metadata": {
    "vscode": {
     "languageId": "python"
    }
   },
   "outputs": [
    {
     "data": {
      "text/html": [
       "<html>\\(\\displaystyle \\left(\\left(\\begin{array}{rrr}\n",
       "0.619 & 0.667 & -0.416 \\\\\n",
       "0.744 & -0.667 & 0.0384 \\\\\n",
       "0.252 & 0.333 & 0.909\n",
       "\\end{array}\\right), \\left(\\begin{array}{rrrr}\n",
       "4.86 & 0.000 & 0.000 & 0.000 \\\\\n",
       "0.000 & 1.41 & 0.000 & 0.000 \\\\\n",
       "0.000 & 0.000 & 0.581 & 0.000\n",
       "\\end{array}\\right), \\left(\\begin{array}{rrrr}\n",
       "0.433 & -0.471 & -0.583 & -0.500 \\\\\n",
       "0.765 & -0.236 & 0.330 & 0.500 \\\\\n",
       "0.127 & 0.471 & -0.715 & 0.500 \\\\\n",
       "0.459 & 0.707 & 0.198 & -0.500\n",
       "\\end{array}\\right)\\right)\\)</html>"
      ],
      "text/latex": [
       "$\\displaystyle \\left(\\left(\\begin{array}{rrr}\n",
       "0.619 & 0.667 & -0.416 \\\\\n",
       "0.744 & -0.667 & 0.0384 \\\\\n",
       "0.252 & 0.333 & 0.909\n",
       "\\end{array}\\right), \\left(\\begin{array}{rrrr}\n",
       "4.86 & 0.000 & 0.000 & 0.000 \\\\\n",
       "0.000 & 1.41 & 0.000 & 0.000 \\\\\n",
       "0.000 & 0.000 & 0.581 & 0.000\n",
       "\\end{array}\\right), \\left(\\begin{array}{rrrr}\n",
       "0.433 & -0.471 & -0.583 & -0.500 \\\\\n",
       "0.765 & -0.236 & 0.330 & 0.500 \\\\\n",
       "0.127 & 0.471 & -0.715 & 0.500 \\\\\n",
       "0.459 & 0.707 & 0.198 & -0.500\n",
       "\\end{array}\\right)\\right)$"
      ],
      "text/plain": [
       "(\n",
       "[ 0.619  0.667 -0.416]  [ 4.86 0.000 0.000 0.000]\n",
       "[ 0.744 -0.667 0.0384]  [0.000  1.41 0.000 0.000]\n",
       "[ 0.252  0.333  0.909], [0.000 0.000 0.581 0.000],\n",
       "\n",
       "[ 0.433 -0.471 -0.583 -0.500]\n",
       "[ 0.765 -0.236  0.330  0.500]\n",
       "[ 0.127  0.471 -0.715  0.500]\n",
       "[ 0.459  0.707  0.198 -0.500]\n",
       ")"
      ]
     },
     "execution_count": 174,
     "metadata": {},
     "output_type": "execute_result"
    }
   ],
   "source": [
    "U, S, V = A.SVD()\n",
    "n(U, digits = 3), n(S, digits = 3), n(V, digits = 3)"
   ]
  },
  {
   "cell_type": "code",
   "execution_count": 175,
   "metadata": {
    "vscode": {
     "languageId": "python"
    }
   },
   "outputs": [
    {
     "data": {
      "text/html": [
       "<html>\\(\\displaystyle \\left(\\begin{array}{rrrr}\n",
       "1.30 & 2.30 & 0.383 & 1.38 \\\\\n",
       "1.57 & 2.77 & 0.460 & 1.66 \\\\\n",
       "0.530 & 0.937 & 0.156 & 0.562\n",
       "\\end{array}\\right)\\)</html>"
      ],
      "text/latex": [
       "$\\displaystyle \\left(\\begin{array}{rrrr}\n",
       "1.30 & 2.30 & 0.383 & 1.38 \\\\\n",
       "1.57 & 2.77 & 0.460 & 1.66 \\\\\n",
       "0.530 & 0.937 & 0.156 & 0.562\n",
       "\\end{array}\\right)$"
      ],
      "text/plain": [
       "[ 1.30  2.30 0.383  1.38]\n",
       "[ 1.57  2.77 0.460  1.66]\n",
       "[0.530 0.937 0.156 0.562]"
      ]
     },
     "execution_count": 175,
     "metadata": {},
     "output_type": "execute_result"
    }
   ],
   "source": [
    "u1 = U.column(0)\n",
    "v1 = V.column(0)\n",
    "s1 = S[0, 0]\n",
    "A1 = s1*(u1.outer_product(v1))\n",
    "n(A1, digits = 3)"
   ]
  },
  {
   "cell_type": "code",
   "execution_count": 176,
   "metadata": {
    "vscode": {
     "languageId": "python"
    }
   },
   "outputs": [
    {
     "data": {
      "text/html": [
       "<html>\\(\\displaystyle \\left(\\left(\\begin{array}{rrr}\n",
       "0.619 & 0.546 & -0.565 \\\\\n",
       "0.744 & -0.637 & 0.199 \\\\\n",
       "0.252 & 0.544 & 0.800\n",
       "\\end{array}\\right), \\left(\\begin{array}{rrrr}\n",
       "4.86 & 0.000 & 0.000 & 0.000 \\\\\n",
       "0.000 & 4.86 \\times 10^{-16} & 0.000 & 0.000 \\\\\n",
       "0.000 & 0.000 & 5.55 \\times 10^{-17} & 0.000\n",
       "\\end{array}\\right), \\left(\\begin{array}{rrrr}\n",
       "0.433 & -0.864 & -0.136 & 0.216 \\\\\n",
       "0.765 & 0.246 & -0.0653 & -0.592 \\\\\n",
       "0.127 & -0.0873 & 0.988 & 0.0192 \\\\\n",
       "0.459 & 0.430 & -0.0361 & 0.776\n",
       "\\end{array}\\right)\\right)\\)</html>"
      ],
      "text/latex": [
       "$\\displaystyle \\left(\\left(\\begin{array}{rrr}\n",
       "0.619 & 0.546 & -0.565 \\\\\n",
       "0.744 & -0.637 & 0.199 \\\\\n",
       "0.252 & 0.544 & 0.800\n",
       "\\end{array}\\right), \\left(\\begin{array}{rrrr}\n",
       "4.86 & 0.000 & 0.000 & 0.000 \\\\\n",
       "0.000 & 4.86 \\times 10^{-16} & 0.000 & 0.000 \\\\\n",
       "0.000 & 0.000 & 5.55 \\times 10^{-17} & 0.000\n",
       "\\end{array}\\right), \\left(\\begin{array}{rrrr}\n",
       "0.433 & -0.864 & -0.136 & 0.216 \\\\\n",
       "0.765 & 0.246 & -0.0653 & -0.592 \\\\\n",
       "0.127 & -0.0873 & 0.988 & 0.0192 \\\\\n",
       "0.459 & 0.430 & -0.0361 & 0.776\n",
       "\\end{array}\\right)\\right)$"
      ],
      "text/plain": [
       "(\n",
       "[ 0.619  0.546 -0.565]  [    4.86    0.000    0.000    0.000]\n",
       "[ 0.744 -0.637  0.199]  [   0.000 4.86e-16    0.000    0.000]\n",
       "[ 0.252  0.544  0.800], [   0.000    0.000 5.55e-17    0.000],\n",
       "\n",
       "[  0.433  -0.864  -0.136   0.216]\n",
       "[  0.765   0.246 -0.0653  -0.592]\n",
       "[  0.127 -0.0873   0.988  0.0192]\n",
       "[  0.459   0.430 -0.0361   0.776]\n",
       ")"
      ]
     },
     "execution_count": 176,
     "metadata": {},
     "output_type": "execute_result"
    }
   ],
   "source": [
    "u, s, v = A1.SVD()\n",
    "n(u, digits = 3), n(s, digits = 3), n(v, digits = 3)"
   ]
  },
  {
   "cell_type": "code",
   "execution_count": 177,
   "metadata": {
    "vscode": {
     "languageId": "python"
    }
   },
   "outputs": [
    {
     "data": {
      "text/html": [
       "<html>\\(\\displaystyle 8.88 \\times 10^{-16}\\)</html>"
      ],
      "text/latex": [
       "$\\displaystyle 8.88 \\times 10^{-16}$"
      ],
      "text/plain": [
       "8.88e-16"
      ]
     },
     "execution_count": 177,
     "metadata": {},
     "output_type": "execute_result"
    }
   ],
   "source": [
    "n(S[0, 0] - s[0, 0], digits = 3)"
   ]
  },
  {
   "cell_type": "markdown",
   "metadata": {},
   "source": [
    "We note that the highest singular value of A1 is the same as the highest singular value of A, while all other singular values are practically zero.\\\n",
    "This is expected as the matrix A1 is built using only the highest singular value of A (rank 1 approximation)."
   ]
  },
  {
   "cell_type": "code",
   "execution_count": 178,
   "metadata": {
    "vscode": {
     "languageId": "python"
    }
   },
   "outputs": [
    {
     "data": {
      "text/html": [
       "<html>\\(\\displaystyle \\left(\\begin{array}{rrrr}\n",
       "-0.303 & -0.302 & 0.617 & 0.619 \\\\\n",
       "0.431 & 0.230 & -0.460 & -0.662 \\\\\n",
       "-0.530 & 0.0633 & -0.156 & 0.438\n",
       "\\end{array}\\right)\\)</html>"
      ],
      "text/latex": [
       "$\\displaystyle \\left(\\begin{array}{rrrr}\n",
       "-0.303 & -0.302 & 0.617 & 0.619 \\\\\n",
       "0.431 & 0.230 & -0.460 & -0.662 \\\\\n",
       "-0.530 & 0.0633 & -0.156 & 0.438\n",
       "\\end{array}\\right)$"
      ],
      "text/plain": [
       "[-0.303 -0.302  0.617  0.619]\n",
       "[ 0.431  0.230 -0.460 -0.662]\n",
       "[-0.530 0.0633 -0.156  0.438]"
      ]
     },
     "execution_count": 178,
     "metadata": {},
     "output_type": "execute_result"
    }
   ],
   "source": [
    "n(A - A1, digits = 3)"
   ]
  },
  {
   "cell_type": "code",
   "execution_count": 179,
   "metadata": {
    "vscode": {
     "languageId": "python"
    }
   },
   "outputs": [
    {
     "data": {
      "text/html": [
       "<html>\\(\\displaystyle 1.53\\)</html>"
      ],
      "text/latex": [
       "$\\displaystyle 1.53$"
      ],
      "text/plain": [
       "1.53"
      ]
     },
     "execution_count": 179,
     "metadata": {},
     "output_type": "execute_result"
    }
   ],
   "source": [
    "n((A - A1).norm('frob'), digits = 3)"
   ]
  },
  {
   "cell_type": "markdown",
   "metadata": {},
   "source": [
    "**Problem 2**"
   ]
  },
  {
   "cell_type": "code",
   "execution_count": 180,
   "metadata": {
    "vscode": {
     "languageId": "python"
    }
   },
   "outputs": [
    {
     "data": {
      "text/html": [
       "<html>\\(\\displaystyle 100 \\, {\\left(x^{2} - y\\right)}^{2} + {\\left(x + y - 2\\right)}^{2}\\)</html>"
      ],
      "text/latex": [
       "$\\displaystyle 100 \\, {\\left(x^{2} - y\\right)}^{2} + {\\left(x + y - 2\\right)}^{2}$"
      ],
      "text/plain": [
       "100*(x^2 - y)^2 + (x + y - 2)^2"
      ]
     },
     "execution_count": 180,
     "metadata": {},
     "output_type": "execute_result"
    }
   ],
   "source": [
    "x, y = var('x, y')\n",
    "f(x, y) = 100*(y-x^2)^2 + (2-x-y)^2; f(x, y)"
   ]
  },
  {
   "cell_type": "code",
   "execution_count": 181,
   "metadata": {
    "vscode": {
     "languageId": "python"
    }
   },
   "outputs": [
    {
     "data": {
      "text/html": [
       "<html>\\(\\displaystyle \\left[\\left[x = 1, y = 1\\right], \\left[x = \\left(-2\\right), y = 4\\right], \\left[x = \\left(-\\frac{1}{2}\\right), y = \\left(\\frac{55}{202}\\right)\\right]\\right]\\)</html>"
      ],
      "text/latex": [
       "$\\displaystyle \\left[\\left[x = 1, y = 1\\right], \\left[x = \\left(-2\\right), y = 4\\right], \\left[x = \\left(-\\frac{1}{2}\\right), y = \\left(\\frac{55}{202}\\right)\\right]\\right]$"
      ],
      "text/plain": [
       "[[x == 1, y == 1], [x == -2, y == 4], [x == (-1/2), y == (55/202)]]"
      ]
     },
     "execution_count": 181,
     "metadata": {},
     "output_type": "execute_result"
    }
   ],
   "source": [
    "dfx = diff(f(x, y), x)\n",
    "dfy = diff(f(x, y), y)\n",
    "s = solve([dfx == 0, dfy == 0], [x, y]); s"
   ]
  },
  {
   "cell_type": "code",
   "execution_count": 182,
   "metadata": {
    "vscode": {
     "languageId": "python"
    }
   },
   "outputs": [
    {
     "data": {
      "text/html": [
       "<html>\\(\\displaystyle \\left[0, 0, \\frac{2025}{404}\\right]\\)</html>"
      ],
      "text/latex": [
       "$\\displaystyle \\left[0, 0, \\frac{2025}{404}\\right]$"
      ],
      "text/plain": [
       "[0, 0, 2025/404]"
      ]
     },
     "execution_count": 182,
     "metadata": {},
     "output_type": "execute_result"
    }
   ],
   "source": [
    "[ f(x, y).subs(s[i]) for i in range(len(s)) ]"
   ]
  },
  {
   "cell_type": "code",
   "execution_count": 183,
   "metadata": {
    "vscode": {
     "languageId": "python"
    }
   },
   "outputs": [
    {
     "data": {
      "text/html": [
       "<html>\\(\\displaystyle \\left(\\begin{array}{rr}\n",
       "1200 \\, x^{2} - 400 \\, y + 2 & -400 \\, x + 2 \\\\\n",
       "-400 \\, x + 2 & 202\n",
       "\\end{array}\\right)\\)</html>"
      ],
      "text/latex": [
       "$\\displaystyle \\left(\\begin{array}{rr}\n",
       "1200 \\, x^{2} - 400 \\, y + 2 & -400 \\, x + 2 \\\\\n",
       "-400 \\, x + 2 & 202\n",
       "\\end{array}\\right)$"
      ],
      "text/plain": [
       "[1200*x^2 - 400*y + 2           -400*x + 2]\n",
       "[          -400*x + 2                  202]"
      ]
     },
     "execution_count": 183,
     "metadata": {},
     "output_type": "execute_result"
    }
   ],
   "source": [
    "H = f(x, y).hessian(); H"
   ]
  },
  {
   "cell_type": "code",
   "execution_count": 184,
   "metadata": {
    "vscode": {
     "languageId": "python"
    }
   },
   "outputs": [
    {
     "data": {
      "text/html": [
       "<html>\\(\\displaystyle \\left[3.59855537930071, 1000.40144462070\\right]\\)</html>"
      ],
      "text/latex": [
       "$\\displaystyle \\left[3.59855537930071, 1000.40144462070\\right]$"
      ],
      "text/plain": [
       "[3.59855537930071, 1000.40144462070]"
      ]
     },
     "execution_count": 184,
     "metadata": {},
     "output_type": "execute_result"
    }
   ],
   "source": [
    "list(map(n, H.subs(s[0]).eigenvalues()))"
   ]
  },
  {
   "cell_type": "markdown",
   "metadata": {},
   "source": [
    "This point is a minimum."
   ]
  },
  {
   "cell_type": "code",
   "execution_count": 185,
   "metadata": {
    "vscode": {
     "languageId": "python"
    }
   },
   "outputs": [
    {
     "data": {
      "text/html": [
       "<html>\\(\\displaystyle \\left[1.05790809916175, 3402.94209190084\\right]\\)</html>"
      ],
      "text/latex": [
       "$\\displaystyle \\left[1.05790809916175, 3402.94209190084\\right]$"
      ],
      "text/plain": [
       "[1.05790809916175, 3402.94209190084]"
      ]
     },
     "execution_count": 185,
     "metadata": {},
     "output_type": "execute_result"
    }
   ],
   "source": [
    "list(map(n, H.subs(s[1]).eigenvalues()))"
   ]
  },
  {
   "cell_type": "markdown",
   "metadata": {},
   "source": [
    "This point is also a minimum."
   ]
  },
  {
   "cell_type": "code",
   "execution_count": 186,
   "metadata": {
    "vscode": {
     "languageId": "python"
    }
   },
   "outputs": [
    {
     "data": {
      "text/html": [
       "<html>\\(\\displaystyle \\left[-4.50457569611063, 399.593684607002\\right]\\)</html>"
      ],
      "text/latex": [
       "$\\displaystyle \\left[-4.50457569611063, 399.593684607002\\right]$"
      ],
      "text/plain": [
       "[-4.50457569611063, 399.593684607002]"
      ]
     },
     "execution_count": 186,
     "metadata": {},
     "output_type": "execute_result"
    }
   ],
   "source": [
    "list(map(n, H.subs(s[2]).eigenvalues()))"
   ]
  },
  {
   "cell_type": "markdown",
   "metadata": {},
   "source": [
    "This point is a saddle point."
   ]
  },
  {
   "cell_type": "code",
   "execution_count": 187,
   "metadata": {
    "vscode": {
     "languageId": "python"
    }
   },
   "outputs": [
    {
     "data": {
      "text/html": [
       "<html>\\(\\displaystyle \\left(\\left[1, 1\\right], \\left[-2, 4\\right], \\left[-\\frac{1}{2}, \\frac{55}{202}\\right]\\right)\\)</html>"
      ],
      "text/latex": [
       "$\\displaystyle \\left(\\left[1, 1\\right], \\left[-2, 4\\right], \\left[-\\frac{1}{2}, \\frac{55}{202}\\right]\\right)$"
      ],
      "text/plain": [
       "([1, 1], [-2, 4], [-1/2, 55/202])"
      ]
     },
     "execution_count": 187,
     "metadata": {},
     "output_type": "execute_result"
    }
   ],
   "source": [
    "p1 = [x.subs(s[0]), y.subs(s[0])]\n",
    "p2 = [x.subs(s[1]), y.subs(s[1])]\n",
    "p3 = [x.subs(s[2]), y.subs(s[2])]\n",
    "\n",
    "p1, p2, p3"
   ]
  },
  {
   "cell_type": "code",
   "execution_count": 188,
   "metadata": {
    "vscode": {
     "languageId": "python"
    }
   },
   "outputs": [
    {
     "data": {
      "image/png": "[encoded data removed]",
      "text/plain": [
       "Graphics object consisting of 4 graphics primitives"
      ]
     },
     "execution_count": 188,
     "metadata": {},
     "output_type": "execute_result"
    }
   ],
   "source": [
    "contour_plot(f(x, y), (x, -5, 5), (y, -1, 5), fill = False, contours = [1, 5, 10, 20, 30, 100, 200, 300], plot_points = 300) +\\\n",
    "point(p1, color = 'red', size = 30, zorder = 3) +\\\n",
    "point(p2, color = 'red', size = 30, zorder = 3) +\\\n",
    "point(p3, color = 'green', size = 30, zorder = 3)"
   ]
  }
 ],
 "metadata": {
  "kernelspec": {
   "display_name": "SageMath 9.3",
   "language": "sage",
   "name": "sagemath"
  },
  "language_info": {
   "codemirror_mode": {
    "name": "ipython",
    "version": 3
   },
   "file_extension": ".py",
   "mimetype": "text/x-python",
   "name": "python",
   "nbconvert_exporter": "python",
   "pygments_lexer": "ipython3",
   "version": "3.7.10"
  }
 },
 "nbformat": 4,
 "nbformat_minor": 2
}
