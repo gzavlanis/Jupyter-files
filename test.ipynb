{
 "cells": [
  {
   "cell_type": "code",
   "execution_count": 1,
   "metadata": {
    "vscode": {
     "languageId": "python"
    }
   },
   "outputs": [
    {
     "name": "stdout",
     "output_type": "stream",
     "text": [
      "[1 2]\n",
      "[3 4]\n"
     ]
    }
   ],
   "source": [
    "B = matrix(QQ, [[1, 2], [3, 4]]); B\n",
    "print(B)"
   ]
  },
  {
   "cell_type": "code",
   "execution_count": 8,
   "metadata": {
    "vscode": {
     "languageId": "python"
    }
   },
   "outputs": [
    {
     "data": {
      "text/plain": [
       "[(x1^2 + x2^2 + x3^2)*a (x1^2 + x2^2 + x3^2)*b (x1^2 + x2^2 + x3^2)*c]\n",
       "[(x1^2 + x2^2 + x3^2)*b (x1^2 + x2^2 + x3^2)*d (x1^2 + x2^2 + x3^2)*e]\n",
       "[(x1^2 + x2^2 + x3^2)*c (x1^2 + x2^2 + x3^2)*e (x1^2 + x2^2 + x3^2)*f]"
      ]
     },
     "execution_count": 8,
     "metadata": {},
     "output_type": "execute_result"
    }
   ],
   "source": [
    "a, b, c, d, e, f, x1, x2, x3 = var('a b c d e f x1 x2 x3')\n",
    "S = matrix([[a, b, c], [b, d, e], [c, e, f]])\n",
    "x = vector([x1, x2, x3]);\n",
    "\n",
    "cw = x.dot_product(x)\n",
    "S* cw"
   ]
  },
  {
   "cell_type": "code",
   "execution_count": 10,
   "metadata": {
    "vscode": {
     "languageId": "python"
    }
   },
   "outputs": [
    {
     "data": {
      "text/plain": [
       "(a*x1 + b*x2 + c*x3)*x1 + (b*x1 + d*x2 + e*x3)*x2 + (c*x1 + e*x2 + f*x3)*x3"
      ]
     },
     "execution_count": 10,
     "metadata": {},
     "output_type": "execute_result"
    }
   ],
   "source": [
    "x*S*x"
   ]
  }
 ],
 "metadata": {
  "kernelspec": {
   "display_name": "SageMath 10.0",
   "language": "sage",
   "name": "sagemath"
  },
  "language_info": {
   "codemirror_mode": {
    "name": "ipython",
    "version": 3
   },
   "file_extension": ".py",
   "mimetype": "text/x-python",
   "name": "sage",
   "nbconvert_exporter": "python",
   "pygments_lexer": "ipython3",
   "version": "3.9.18"
  }
 },
 "nbformat": 4,
 "nbformat_minor": 2
}
