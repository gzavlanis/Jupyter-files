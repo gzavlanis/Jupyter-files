{
 "cells": [
  {
   "cell_type": "markdown",
   "metadata": {},
   "source": [
    "# Exams 2023-2024 - Georgios Zavlanis\n",
    "\n",
    "### Problem 1\n",
    "\n",
    "(i)"
   ]
  },
  {
   "cell_type": "code",
   "execution_count": 6,
   "metadata": {},
   "outputs": [
    {
     "data": {
      "text/html": [
       "<html><script type=\"math/tex; mode=display\">\\newcommand{\\Bold}[1]{\\mathbf{#1}}\\left(\\begin{array}{rrr}\n",
       "3 & -1 & 1 \\\\\n",
       "-2 & 2 & 4 \\\\\n",
       "3 & 0 & 1 \\\\\n",
       "1 & 2 & 3\n",
       "\\end{array}\\right)</script></html>"
      ],
      "text/latex": [
       "$$\\newcommand{\\Bold}[1]{\\mathbf{#1}}\\left(\\begin{array}{rrr}\n",
       "3 & -1 & 1 \\\\\n",
       "-2 & 2 & 4 \\\\\n",
       "3 & 0 & 1 \\\\\n",
       "1 & 2 & 3\n",
       "\\end{array}\\right)$$"
      ],
      "text/plain": [
       "[ 3 -1  1]\n",
       "[-2  2  4]\n",
       "[ 3  0  1]\n",
       "[ 1  2  3]"
      ]
     },
     "execution_count": 6,
     "metadata": {},
     "output_type": "execute_result"
    }
   ],
   "source": [
    "%display latex\n",
    "\n",
    "a = vector([3,-2,3,1])\n",
    "b = vector([-1,2,0,2])\n",
    "c = vector([1,4,1,3])\n",
    "\n",
    "A = matrix([a, b, c])\n",
    "A1 = A.T; A1"
   ]
  },
  {
   "cell_type": "markdown",
   "metadata": {},
   "source": [
    "The subspace is the defined by the above matrix A1 with original vectors as columns."
   ]
  },
  {
   "cell_type": "markdown",
   "metadata": {},
   "source": [
    "(ii) The projection matrix Ppr:"
   ]
  },
  {
   "cell_type": "code",
   "execution_count": 7,
   "metadata": {},
   "outputs": [
    {
     "data": {
      "text/html": [
       "<html><script type=\"math/tex; mode=display\">\\newcommand{\\Bold}[1]{\\mathbf{#1}}\\left(\\begin{array}{rrrr}\n",
       "\\frac{31}{37} & \\frac{4}{37} & \\frac{11}{37} & -\\frac{7}{37} \\\\\n",
       "\\frac{4}{37} & \\frac{103}{111} & -\\frac{22}{111} & \\frac{14}{111} \\\\\n",
       "\\frac{11}{37} & -\\frac{22}{111} & \\frac{101}{222} & \\frac{77}{222} \\\\\n",
       "-\\frac{7}{37} & \\frac{14}{111} & \\frac{77}{222} & \\frac{173}{222}\n",
       "\\end{array}\\right)</script></html>"
      ],
      "text/latex": [
       "$$\\newcommand{\\Bold}[1]{\\mathbf{#1}}\\left(\\begin{array}{rrrr}\n",
       "\\frac{31}{37} & \\frac{4}{37} & \\frac{11}{37} & -\\frac{7}{37} \\\\\n",
       "\\frac{4}{37} & \\frac{103}{111} & -\\frac{22}{111} & \\frac{14}{111} \\\\\n",
       "\\frac{11}{37} & -\\frac{22}{111} & \\frac{101}{222} & \\frac{77}{222} \\\\\n",
       "-\\frac{7}{37} & \\frac{14}{111} & \\frac{77}{222} & \\frac{173}{222}\n",
       "\\end{array}\\right)$$"
      ],
      "text/plain": [
       "[  31/37    4/37   11/37   -7/37]\n",
       "[   4/37 103/111 -22/111  14/111]\n",
       "[  11/37 -22/111 101/222  77/222]\n",
       "[  -7/37  14/111  77/222 173/222]"
      ]
     },
     "execution_count": 7,
     "metadata": {},
     "output_type": "execute_result"
    }
   ],
   "source": [
    "Ppr = A1*(A1.T*A1)^(-1)*A1.T; Ppr"
   ]
  },
  {
   "cell_type": "markdown",
   "metadata": {},
   "source": [
    "(iii)"
   ]
  },
  {
   "cell_type": "code",
   "execution_count": 9,
   "metadata": {},
   "outputs": [
    {
     "data": {
      "text/html": [
       "<html><script type=\"math/tex; mode=display\">\\newcommand{\\Bold}[1]{\\mathbf{#1}}\\left(\\frac{49}{37},\\,-\\frac{8}{37},\\,\\frac{15}{37},\\,-\\frac{23}{37}\\right)</script></html>"
      ],
      "text/latex": [
       "$$\\newcommand{\\Bold}[1]{\\mathbf{#1}}\\left(\\frac{49}{37},\\,-\\frac{8}{37},\\,\\frac{15}{37},\\,-\\frac{23}{37}\\right)$$"
      ],
      "text/plain": [
       "(49/37, -8/37, 15/37, -23/37)"
      ]
     },
     "execution_count": 9,
     "metadata": {},
     "output_type": "execute_result"
    }
   ],
   "source": [
    "x = vector([1,0,1,-1])\n",
    "y = vector([2,1,0,1])\n",
    "\n",
    "x1 = Ppr*x; x1"
   ]
  },
  {
   "cell_type": "code",
   "execution_count": 10,
   "metadata": {},
   "outputs": [
    {
     "data": {
      "text/html": [
       "<html><script type=\"math/tex; mode=display\">\\newcommand{\\Bold}[1]{\\mathbf{#1}}\\left(\\frac{59}{37},\\,\\frac{47}{37},\\,\\frac{55}{74},\\,\\frac{39}{74}\\right)</script></html>"
      ],
      "text/latex": [
       "$$\\newcommand{\\Bold}[1]{\\mathbf{#1}}\\left(\\frac{59}{37},\\,\\frac{47}{37},\\,\\frac{55}{74},\\,\\frac{39}{74}\\right)$$"
      ],
      "text/plain": [
       "(59/37, 47/37, 55/74, 39/74)"
      ]
     },
     "execution_count": 10,
     "metadata": {},
     "output_type": "execute_result"
    }
   ],
   "source": [
    "y1 = Ppr*y; y1"
   ]
  },
  {
   "cell_type": "markdown",
   "metadata": {},
   "source": [
    "For the angle of the projections:"
   ]
  },
  {
   "cell_type": "code",
   "execution_count": 15,
   "metadata": {},
   "outputs": [
    {
     "data": {
      "text/html": [
       "<html><script type=\"math/tex; mode=display\">\\newcommand{\\Bold}[1]{\\mathbf{#1}}\\frac{4958}{10701} \\, \\sqrt{\\frac{87}{37}} \\sqrt{\\frac{41}{74}}</script></html>"
      ],
      "text/latex": [
       "$$\\newcommand{\\Bold}[1]{\\mathbf{#1}}\\frac{4958}{10701} \\, \\sqrt{\\frac{87}{37}} \\sqrt{\\frac{41}{74}}$$"
      ],
      "text/plain": [
       "4958/10701*sqrt(87/37)*sqrt(41/74)"
      ]
     },
     "execution_count": 15,
     "metadata": {},
     "output_type": "execute_result"
    }
   ],
   "source": [
    "cosθ = x1.dot_product(y1)/(norm(x1)*norm(y1)); cosθ"
   ]
  },
  {
   "cell_type": "code",
   "execution_count": 19,
   "metadata": {},
   "outputs": [
    {
     "data": {
      "text/html": [
       "<html><script type=\"math/tex; mode=display\">\\newcommand{\\Bold}[1]{\\mathbf{#1}}58.073</script></html>"
      ],
      "text/latex": [
       "$$\\newcommand{\\Bold}[1]{\\mathbf{#1}}58.073$$"
      ],
      "text/plain": [
       "58.073"
      ]
     },
     "execution_count": 19,
     "metadata": {},
     "output_type": "execute_result"
    }
   ],
   "source": [
    "θ = n(arccos(cosθ)*180/pi, digits = 5); θ"
   ]
  },
  {
   "cell_type": "markdown",
   "metadata": {},
   "source": [
    "### Problem 2\n",
    "\n",
    "(i) Translate the problem into a linear programming problem:\n",
    "\n",
    "- Profit of iPac: 200\n",
    "- Profit of iPac Ultra: 300\n",
    "- 20 hours/day\n",
    "- 1 hour for iPac\n",
    "- 3 hours for iPac Ultra\n",
    "- 45 kits per day, 6 for iPac and 2 for iPac Ultra\n",
    "\n",
    "So: \n",
    "- Let $x_1$ number of 1 model and $x_2$ for the other\n",
    "- It must be: $x_1 + 3*x_2 \\le 20$\n",
    "- Also: $6*x_1 + 2*x_2 \\le 45$\n",
    "- We need to maximize the profit so: $max 200*x_1+300*x_2$\n",
    "\n",
    "(ii)"
   ]
  },
  {
   "cell_type": "code",
   "execution_count": 20,
   "metadata": {},
   "outputs": [
    {
     "data": {
      "text/html": [
       "<html><script type=\"math/tex; mode=display\">\\newcommand{\\Bold}[1]{\\mathbf{#1}}2593.75</script></html>"
      ],
      "text/latex": [
       "$$\\newcommand{\\Bold}[1]{\\mathbf{#1}}2593.75$$"
      ],
      "text/plain": [
       "2593.75"
      ]
     },
     "execution_count": 20,
     "metadata": {},
     "output_type": "execute_result"
    }
   ],
   "source": [
    "# Define the Linear Programming Problem (LP)\n",
    "p = MixedIntegerLinearProgram(maximization = True)\n",
    "v = p.new_variable(real = True, nonnegative = True)\n",
    "x1, x2 = v['x1'], v['x2']\n",
    "\n",
    "# Set the cost function\n",
    "p.set_objective(200*x1 + 300*x2)\n",
    "\n",
    "# and the constraints\n",
    "p.add_constraint(x1 + 3*x2 <= 20)\n",
    "p.add_constraint(6*x1 + 2*x2 <= 45)\n",
    "\n",
    "# Solve the LP problem\n",
    "p.solve()"
   ]
  },
  {
   "cell_type": "markdown",
   "metadata": {},
   "source": [
    "Thus, the maximum profit must be 2593.75 euros"
   ]
  }
 ],
 "metadata": {
  "kernelspec": {
   "display_name": "SageMath 9.3",
   "language": "sage",
   "name": "sagemath"
  },
  "language_info": {
   "codemirror_mode": {
    "name": "ipython",
    "version": 3
   },
   "file_extension": ".py",
   "mimetype": "text/x-python",
   "name": "python",
   "nbconvert_exporter": "python",
   "pygments_lexer": "ipython3",
   "version": "3.7.10"
  }
 },
 "nbformat": 4,
 "nbformat_minor": 4
}
