{
 "cells": [
  {
   "cell_type": "markdown",
   "metadata": {},
   "source": [
    "# DAMA50: Mathematics for machine learning\n",
    "\n",
    "## Written assignment 5\n",
    "\n",
    "### Georgios Zavlanis\n",
    "\n",
    "\n",
    "### Problem 7\n",
    "\n",
    "First, we create the Normal Distribution function, which will be our pmf f from scratch, based on our theory"
   ]
  },
  {
   "cell_type": "code",
   "execution_count": 1,
   "metadata": {},
   "outputs": [
    {
     "data": {
      "text/html": [
       "<html>\\(\\displaystyle x \\ {\\mapsto}\\ \\frac{\\sqrt{2} e^{\\left(-\\frac{1}{128} \\, {\\left(x - 42\\right)}^{2}\\right)}}{16 \\, \\sqrt{\\pi}}\\)</html>"
      ],
      "text/latex": [
       "$\\displaystyle x \\ {\\mapsto}\\ \\frac{\\sqrt{2} e^{\\left(-\\frac{1}{128} \\, {\\left(x - 42\\right)}^{2}\\right)}}{16 \\, \\sqrt{\\pi}}$"
      ],
      "text/plain": [
       "x |--> 1/16*sqrt(2)*e^(-1/128*(x - 42)^2)/sqrt(pi)"
      ]
     },
     "execution_count": 1,
     "metadata": {},
     "output_type": "execute_result"
    }
   ],
   "source": [
    "%display latex\n",
    "\n",
    "μ = 42\n",
    "σ = 8\n",
    "\n",
    "pdf(x) = 1/(σ*sqrt(2*pi))*exp(-1/2*((x-μ)/σ)^2); pdf"
   ]
  },
  {
   "cell_type": "markdown",
   "metadata": {},
   "source": [
    "To find the probability the phone will last between 20 and 30 months, we can do the following:\n",
    "\n",
    "We have to find the probability $P(20<X<30)$:"
   ]
  },
  {
   "cell_type": "code",
   "execution_count": 2,
   "metadata": {},
   "outputs": [
    {
     "data": {
      "text/html": [
       "<html>\\(\\displaystyle 0.0638274380338034\\)</html>"
      ],
      "text/latex": [
       "$\\displaystyle 0.0638274380338034$"
      ],
      "text/plain": [
       "0.0638274380338034"
      ]
     },
     "execution_count": 2,
     "metadata": {},
     "output_type": "execute_result"
    }
   ],
   "source": [
    "P = integrate(pdf(x), (x, 20, 30)); P.n()"
   ]
  },
  {
   "cell_type": "markdown",
   "metadata": {},
   "source": [
    "### Problem 8\n",
    "\n",
    "We start the implementation of our solution, by following the steps of the given exercise:\n",
    "\n",
    "a. Create the sample:"
   ]
  },
  {
   "cell_type": "code",
   "execution_count": 3,
   "metadata": {},
   "outputs": [],
   "source": [
    "w = []\n",
    "\n",
    "for i in range(10^6):\n",
    "    w.append([ZZ.random_element(1, 26) for i in range(3)])"
   ]
  },
  {
   "cell_type": "markdown",
   "metadata": {},
   "source": [
    "b. Create the sums:"
   ]
  },
  {
   "cell_type": "code",
   "execution_count": 4,
   "metadata": {},
   "outputs": [],
   "source": [
    "ws = list(map(sum, w))"
   ]
  },
  {
   "cell_type": "markdown",
   "metadata": {},
   "source": [
    "c. Find the [1, 2, 3] triplets:"
   ]
  },
  {
   "cell_type": "code",
   "execution_count": 5,
   "metadata": {},
   "outputs": [
    {
     "data": {
      "text/html": [
       "<html>\\(\\displaystyle 60\\)</html>"
      ],
      "text/latex": [
       "$\\displaystyle 60$"
      ],
      "text/plain": [
       "60"
      ]
     },
     "execution_count": 5,
     "metadata": {},
     "output_type": "execute_result"
    }
   ],
   "source": [
    "w.count([1,2,3])"
   ]
  },
  {
   "cell_type": "markdown",
   "metadata": {},
   "source": [
    "We asked to compute the probability: $P([1,2,3])$"
   ]
  },
  {
   "cell_type": "code",
   "execution_count": 6,
   "metadata": {},
   "outputs": [
    {
     "data": {
      "text/html": [
       "<html>\\(\\displaystyle 6 \\times 10^{-05}\\)</html>"
      ],
      "text/latex": [
       "$\\displaystyle 6 \\times 10^{-05}$"
      ],
      "text/plain": [
       "6e-05"
      ]
     },
     "execution_count": 6,
     "metadata": {},
     "output_type": "execute_result"
    }
   ],
   "source": [
    "P = w.count([1,2,3])/len(w); P"
   ]
  },
  {
   "cell_type": "markdown",
   "metadata": {},
   "source": [
    "d. We now have to calculate the probability $P([1,3,2],[2,1,3],[2,3,1],[3,1,2],[3,2,1])$:\n",
    "It is enough to calculate the individual probabilities for each triplet and add them together"
   ]
  },
  {
   "cell_type": "code",
   "execution_count": 7,
   "metadata": {},
   "outputs": [
    {
     "data": {
      "text/html": [
       "<html>\\(\\displaystyle \\left(6.3 \\times 10^{-05}, 5.6 \\times 10^{-05}, 7.2 \\times 10^{-05}, 6.5 \\times 10^{-05}, 7.2 \\times 10^{-05}\\right)\\)</html>"
      ],
      "text/latex": [
       "$\\displaystyle \\left(6.3 \\times 10^{-05}, 5.6 \\times 10^{-05}, 7.2 \\times 10^{-05}, 6.5 \\times 10^{-05}, 7.2 \\times 10^{-05}\\right)$"
      ],
      "text/plain": [
       "(6.3e-05, 5.6e-05, 7.2e-05, 6.5e-05, 7.2e-05)"
      ]
     },
     "execution_count": 7,
     "metadata": {},
     "output_type": "execute_result"
    }
   ],
   "source": [
    "P1 = w.count([1,3,2])/len(w)\n",
    "P2 = w.count([2,1,3])/len(w)\n",
    "P3 = w.count([2,3,1])/len(w)\n",
    "P4 = w.count([3,1,2])/len(w)\n",
    "P5 = w.count([3,2,1])/len(w)\n",
    "\n",
    "P1, P2, P3, P4, P5"
   ]
  },
  {
   "cell_type": "code",
   "execution_count": 8,
   "metadata": {},
   "outputs": [
    {
     "data": {
      "text/html": [
       "<html>\\(\\displaystyle 0.000328\\)</html>"
      ],
      "text/latex": [
       "$\\displaystyle 0.000328$"
      ],
      "text/plain": [
       "0.000328"
      ]
     },
     "execution_count": 8,
     "metadata": {},
     "output_type": "execute_result"
    }
   ],
   "source": [
    "P = P1 + P2 + P3 + P4 + P5; P"
   ]
  },
  {
   "cell_type": "markdown",
   "metadata": {},
   "source": [
    "e. We use the same logic as in the previous queries:"
   ]
  },
  {
   "cell_type": "code",
   "execution_count": 9,
   "metadata": {},
   "outputs": [
    {
     "data": {
      "text/html": [
       "<html>\\(\\displaystyle 647\\)</html>"
      ],
      "text/latex": [
       "$\\displaystyle 647$"
      ],
      "text/plain": [
       "647"
      ]
     },
     "execution_count": 9,
     "metadata": {},
     "output_type": "execute_result"
    }
   ],
   "source": [
    "ws.count(1+2+3)"
   ]
  },
  {
   "cell_type": "code",
   "execution_count": 10,
   "metadata": {},
   "outputs": [
    {
     "data": {
      "text/html": [
       "<html>\\(\\displaystyle 0.000328\\)</html>"
      ],
      "text/latex": [
       "$\\displaystyle 0.000328$"
      ],
      "text/plain": [
       "0.000328"
      ]
     },
     "execution_count": 10,
     "metadata": {},
     "output_type": "execute_result"
    }
   ],
   "source": [
    "Psum = ws.count(1+2+3)/len(ws); P"
   ]
  },
  {
   "cell_type": "markdown",
   "metadata": {},
   "source": [
    "f. The process to calculate the win/loss ratio is the following:"
   ]
  },
  {
   "cell_type": "code",
   "execution_count": 11,
   "metadata": {},
   "outputs": [
    {
     "data": {
      "text/html": [
       "<html>\\(\\displaystyle 0.000388\\)</html>"
      ],
      "text/latex": [
       "$\\displaystyle 0.000388$"
      ],
      "text/plain": [
       "0.000388"
      ]
     },
     "execution_count": 11,
     "metadata": {},
     "output_type": "execute_result"
    }
   ],
   "source": [
    "wons = w.count([1,2,3]) + w.count([1,3,2]) + w.count([2,1,3]) + w.count([2,3,1]) + w.count([3,1,2]) + w.count([3,2,1])\n",
    "losses = len(w)\n",
    "\n",
    "Ratio = wons/losses; Ratio"
   ]
  }
 ],
 "metadata": {
  "kernelspec": {
   "display_name": "SageMath 10.0",
   "language": "sage",
   "name": "sagemath"
  },
  "language_info": {
   "codemirror_mode": {
    "name": "ipython",
    "version": 3
   },
   "file_extension": ".py",
   "mimetype": "text/x-python",
   "name": "python",
   "nbconvert_exporter": "python",
   "pygments_lexer": "ipython3",
   "version": "3.9.18"
  }
 },
 "nbformat": 4,
 "nbformat_minor": 2
}
