{
 "cells": [
  {
   "cell_type": "markdown",
   "metadata": {},
   "source": [
    "# DAMA50: Mathematics for machine learning\n",
    "\n",
    "## Written assignment 5\n",
    "\n",
    "### Georgios Zavlanis\n",
    "\n",
    "\n",
    "### Problem 7\n",
    "\n",
    "First, we create the Normal Distribution function, which will be our pmf f from scratch, based on our theory"
   ]
  },
  {
   "cell_type": "code",
   "execution_count": 1,
   "metadata": {
    "vscode": {
     "languageId": "python"
    }
   },
   "outputs": [
    {
     "data": {
      "text/html": [
       "<html>\\(\\displaystyle x \\ {\\mapsto}\\ \\frac{\\sqrt{2} e^{\\left(-\\frac{1}{128} \\, {\\left(x - 42\\right)}^{2}\\right)}}{16 \\, \\sqrt{\\pi}}\\)</html>"
      ],
      "text/latex": [
       "$\\displaystyle x \\ {\\mapsto}\\ \\frac{\\sqrt{2} e^{\\left(-\\frac{1}{128} \\, {\\left(x - 42\\right)}^{2}\\right)}}{16 \\, \\sqrt{\\pi}}$"
      ],
      "text/plain": [
       "x |--> 1/16*sqrt(2)*e^(-1/128*(x - 42)^2)/sqrt(pi)"
      ]
     },
     "execution_count": 1,
     "metadata": {},
     "output_type": "execute_result"
    }
   ],
   "source": [
    "%display latex\n",
    "\n",
    "μ = 42\n",
    "σ = 8\n",
    "\n",
    "pdf(x) = 1/(σ*sqrt(2*pi))*exp(-1/2*((x-μ)/σ)^2); pdf"
   ]
  },
  {
   "cell_type": "markdown",
   "metadata": {},
   "source": [
    "To find the probability the phone will last between 20 and 30 months, we can do the following:\n",
    "\n",
    "We have to find the probability $P(20<X<30)$:"
   ]
  },
  {
   "cell_type": "code",
   "execution_count": 2,
   "metadata": {
    "vscode": {
     "languageId": "python"
    }
   },
   "outputs": [
    {
     "data": {
      "text/html": [
       "<html>\\(\\displaystyle 0.0638274380338034\\)</html>"
      ],
      "text/latex": [
       "$\\displaystyle 0.0638274380338034$"
      ],
      "text/plain": [
       "0.0638274380338034"
      ]
     },
     "execution_count": 2,
     "metadata": {},
     "output_type": "execute_result"
    }
   ],
   "source": [
    "P = integrate(pdf(x), (x, 20, 30)); P.n()"
   ]
  },
  {
   "cell_type": "markdown",
   "metadata": {},
   "source": [
    "### Problem 8\n",
    "\n",
    "We start the implementation of our solution, by following the steps of the given exercise:\n",
    "\n",
    "a. Create the sample:"
   ]
  },
  {
   "cell_type": "code",
   "execution_count": 8,
   "metadata": {
    "vscode": {
     "languageId": "python"
    }
   },
   "outputs": [],
   "source": [
    "w = []\n",
    "\n",
    "for i in range(10^6):\n",
    "    w.append([ZZ.random_element(1, 26) for i in range(3)])"
   ]
  }
 ],
 "metadata": {
  "kernelspec": {
   "display_name": "SageMath 10.0",
   "language": "sage",
   "name": "sagemath"
  },
  "language_info": {
   "codemirror_mode": {
    "name": "ipython",
    "version": 3
   },
   "file_extension": ".py",
   "mimetype": "text/x-python",
   "name": "sage",
   "nbconvert_exporter": "python",
   "pygments_lexer": "ipython3",
   "version": "3.9.18"
  }
 },
 "nbformat": 4,
 "nbformat_minor": 2
}
