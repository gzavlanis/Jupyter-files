{
 "cells": [
  {
   "cell_type": "markdown",
   "metadata": {},
   "source": [
    "# Training quiz questions\n",
    "\n",
    "## Unit 3 - **Matrix Decompositions**"
   ]
  },
  {
   "cell_type": "markdown",
   "metadata": {},
   "source": [
    "### Question 1"
   ]
  },
  {
   "cell_type": "code",
   "execution_count": 1,
   "metadata": {
    "vscode": {
     "languageId": "python"
    }
   },
   "outputs": [
    {
     "data": {
      "text/html": [
       "<html>\\(\\displaystyle \\left(\\begin{array}{rrr}\n",
       "\\cos\\left(x\\right) & 0 & \\sin\\left(x\\right) \\\\\n",
       "0 & 1 & 0 \\\\\n",
       "-\\sin\\left(x\\right) & 0 & \\cos\\left(x\\right)\n",
       "\\end{array}\\right)\\)</html>"
      ],
      "text/latex": [
       "$\\displaystyle \\left(\\begin{array}{rrr}\n",
       "\\cos\\left(x\\right) & 0 & \\sin\\left(x\\right) \\\\\n",
       "0 & 1 & 0 \\\\\n",
       "-\\sin\\left(x\\right) & 0 & \\cos\\left(x\\right)\n",
       "\\end{array}\\right)$"
      ],
      "text/plain": [
       "[ cos(x)       0  sin(x)]\n",
       "[      0       1       0]\n",
       "[-sin(x)       0  cos(x)]"
      ]
     },
     "execution_count": 1,
     "metadata": {},
     "output_type": "execute_result"
    }
   ],
   "source": [
    "%display latex\n",
    "x = var('x')\n",
    "\n",
    "A = matrix([[cos(x), 0, sin(x)], [0, 1, 0], [-sin(x), 0, cos(x)]]); A"
   ]
  },
  {
   "cell_type": "code",
   "execution_count": 2,
   "metadata": {
    "vscode": {
     "languageId": "python"
    }
   },
   "outputs": [
    {
     "data": {
      "text/html": [
       "<html>\\(\\displaystyle \\cos\\left(x\\right)^{2} + \\sin\\left(x\\right)^{2}\\)</html>"
      ],
      "text/latex": [
       "$\\displaystyle \\cos\\left(x\\right)^{2} + \\sin\\left(x\\right)^{2}$"
      ],
      "text/plain": [
       "cos(x)^2 + sin(x)^2"
      ]
     },
     "execution_count": 2,
     "metadata": {},
     "output_type": "execute_result"
    }
   ],
   "source": [
    "det(A)"
   ]
  },
  {
   "cell_type": "markdown",
   "metadata": {},
   "source": [
    "### Question 2"
   ]
  },
  {
   "cell_type": "code",
   "execution_count": 3,
   "metadata": {
    "vscode": {
     "languageId": "python"
    }
   },
   "outputs": [
    {
     "data": {
      "text/html": [
       "<html>\\(\\displaystyle \\left(\\begin{array}{rrr}\n",
       "1 & -1 & 1 \\\\\n",
       "1 & 1 & -1 \\\\\n",
       "1 & 1 & 1\n",
       "\\end{array}\\right)\\)</html>"
      ],
      "text/latex": [
       "$\\displaystyle \\left(\\begin{array}{rrr}\n",
       "1 & -1 & 1 \\\\\n",
       "1 & 1 & -1 \\\\\n",
       "1 & 1 & 1\n",
       "\\end{array}\\right)$"
      ],
      "text/plain": [
       "[ 1 -1  1]\n",
       "[ 1  1 -1]\n",
       "[ 1  1  1]"
      ]
     },
     "execution_count": 3,
     "metadata": {},
     "output_type": "execute_result"
    }
   ],
   "source": [
    "a = vector(QQ, [1, 1, 1])\n",
    "b = vector(QQ, [-1, 1, 1])\n",
    "c = vector(QQ, [1, -1, 1])\n",
    "\n",
    "A = column_matrix([a, b, c]); A"
   ]
  },
  {
   "cell_type": "code",
   "execution_count": 4,
   "metadata": {
    "vscode": {
     "languageId": "python"
    }
   },
   "outputs": [
    {
     "data": {
      "text/html": [
       "<html>\\(\\displaystyle 4\\)</html>"
      ],
      "text/latex": [
       "$\\displaystyle 4$"
      ],
      "text/plain": [
       "4"
      ]
     },
     "execution_count": 4,
     "metadata": {},
     "output_type": "execute_result"
    }
   ],
   "source": [
    "det(A)"
   ]
  },
  {
   "cell_type": "markdown",
   "metadata": {},
   "source": [
    "### Question 3"
   ]
  },
  {
   "cell_type": "code",
   "execution_count": 5,
   "metadata": {
    "vscode": {
     "languageId": "python"
    }
   },
   "outputs": [
    {
     "data": {
      "text/html": [
       "<html>\\(\\displaystyle \\left(\\begin{array}{rrr}\n",
       "1 & 3 & 2 \\\\\n",
       "2 & 1 & 3 \\\\\n",
       "3 & 2 & k\n",
       "\\end{array}\\right)\\)</html>"
      ],
      "text/latex": [
       "$\\displaystyle \\left(\\begin{array}{rrr}\n",
       "1 & 3 & 2 \\\\\n",
       "2 & 1 & 3 \\\\\n",
       "3 & 2 & k\n",
       "\\end{array}\\right)$"
      ],
      "text/plain": [
       "[1 3 2]\n",
       "[2 1 3]\n",
       "[3 2 k]"
      ]
     },
     "execution_count": 5,
     "metadata": {},
     "output_type": "execute_result"
    }
   ],
   "source": [
    "k = var('k')\n",
    "\n",
    "a = vector([1, 2, 3])\n",
    "b = vector([3, 1, 2])\n",
    "c = vector([2, 3, k])\n",
    "\n",
    "A = column_matrix([a, b, c]); A"
   ]
  },
  {
   "cell_type": "code",
   "execution_count": 6,
   "metadata": {
    "vscode": {
     "languageId": "python"
    }
   },
   "outputs": [
    {
     "data": {
      "text/html": [
       "<html>\\(\\displaystyle -5 \\, k + 23\\)</html>"
      ],
      "text/latex": [
       "$\\displaystyle -5 \\, k + 23$"
      ],
      "text/plain": [
       "-5*k + 23"
      ]
     },
     "execution_count": 6,
     "metadata": {},
     "output_type": "execute_result"
    }
   ],
   "source": [
    "P = det(A); P"
   ]
  },
  {
   "cell_type": "markdown",
   "metadata": {},
   "source": [
    "### Question 4"
   ]
  },
  {
   "cell_type": "code",
   "execution_count": 7,
   "metadata": {
    "vscode": {
     "languageId": "python"
    }
   },
   "outputs": [
    {
     "data": {
      "text/html": [
       "<html>\\(\\displaystyle \\left(\\begin{array}{rrrrrrrr}\n",
       "8 & 0 & 0 & 0 & 0 & 0 & 0 & 0 \\\\\n",
       "0 & 8 & 0 & 0 & 0 & 0 & 0 & 0 \\\\\n",
       "0 & 0 & 8 & 0 & 0 & 0 & 0 & 0 \\\\\n",
       "0 & 0 & 0 & 8 & 0 & 0 & 0 & 0 \\\\\n",
       "0 & 0 & 0 & 0 & 8 & 0 & 0 & 0 \\\\\n",
       "0 & 0 & 0 & 0 & 0 & 8 & 0 & 0 \\\\\n",
       "0 & 0 & 0 & 0 & 0 & 0 & 8 & 0 \\\\\n",
       "0 & 0 & 0 & 0 & 0 & 0 & 0 & 8\n",
       "\\end{array}\\right)\\)</html>"
      ],
      "text/latex": [
       "$\\displaystyle \\left(\\begin{array}{rrrrrrrr}\n",
       "8 & 0 & 0 & 0 & 0 & 0 & 0 & 0 \\\\\n",
       "0 & 8 & 0 & 0 & 0 & 0 & 0 & 0 \\\\\n",
       "0 & 0 & 8 & 0 & 0 & 0 & 0 & 0 \\\\\n",
       "0 & 0 & 0 & 8 & 0 & 0 & 0 & 0 \\\\\n",
       "0 & 0 & 0 & 0 & 8 & 0 & 0 & 0 \\\\\n",
       "0 & 0 & 0 & 0 & 0 & 8 & 0 & 0 \\\\\n",
       "0 & 0 & 0 & 0 & 0 & 0 & 8 & 0 \\\\\n",
       "0 & 0 & 0 & 0 & 0 & 0 & 0 & 8\n",
       "\\end{array}\\right)$"
      ],
      "text/plain": [
       "[8 0 0 0 0 0 0 0]\n",
       "[0 8 0 0 0 0 0 0]\n",
       "[0 0 8 0 0 0 0 0]\n",
       "[0 0 0 8 0 0 0 0]\n",
       "[0 0 0 0 8 0 0 0]\n",
       "[0 0 0 0 0 8 0 0]\n",
       "[0 0 0 0 0 0 8 0]\n",
       "[0 0 0 0 0 0 0 8]"
      ]
     },
     "execution_count": 7,
     "metadata": {},
     "output_type": "execute_result"
    }
   ],
   "source": [
    "A3 = 8*identity_matrix(8, 8); A3"
   ]
  },
  {
   "cell_type": "code",
   "execution_count": 8,
   "metadata": {
    "vscode": {
     "languageId": "python"
    }
   },
   "outputs": [
    {
     "data": {
      "text/html": [
       "<html>\\(\\displaystyle \\left(16777216, 256\\right)\\)</html>"
      ],
      "text/latex": [
       "$\\displaystyle \\left(16777216, 256\\right)$"
      ],
      "text/plain": [
       "(16777216, 256)"
      ]
     },
     "execution_count": 8,
     "metadata": {},
     "output_type": "execute_result"
    }
   ],
   "source": [
    "det(A3), det(A3).nth_root(3)"
   ]
  },
  {
   "cell_type": "markdown",
   "metadata": {},
   "source": [
    "### Question 5"
   ]
  },
  {
   "cell_type": "code",
   "execution_count": 9,
   "metadata": {
    "vscode": {
     "languageId": "python"
    }
   },
   "outputs": [
    {
     "data": {
      "text/html": [
       "<html>\\(\\displaystyle \\left(\\begin{array}{rr}\n",
       "a & b \\\\\n",
       "c & d\n",
       "\\end{array}\\right)\\)</html>"
      ],
      "text/latex": [
       "$\\displaystyle \\left(\\begin{array}{rr}\n",
       "a & b \\\\\n",
       "c & d\n",
       "\\end{array}\\right)$"
      ],
      "text/plain": [
       "[a b]\n",
       "[c d]"
      ]
     },
     "execution_count": 9,
     "metadata": {},
     "output_type": "execute_result"
    }
   ],
   "source": [
    "a, b, c, d = var('a b c d')\n",
    "\n",
    "A = matrix([[a, b], [c, d]]); A"
   ]
  },
  {
   "cell_type": "code",
   "execution_count": 10,
   "metadata": {
    "vscode": {
     "languageId": "python"
    }
   },
   "outputs": [
    {
     "data": {
      "text/html": [
       "<html>\\(\\displaystyle -b c + a d\\)</html>"
      ],
      "text/latex": [
       "$\\displaystyle -b c + a d$"
      ],
      "text/plain": [
       "-b*c + a*d"
      ]
     },
     "execution_count": 10,
     "metadata": {},
     "output_type": "execute_result"
    }
   ],
   "source": [
    "det(A)"
   ]
  },
  {
   "cell_type": "code",
   "execution_count": 11,
   "metadata": {
    "vscode": {
     "languageId": "python"
    }
   },
   "outputs": [
    {
     "data": {
      "text/html": [
       "<html>\\(\\displaystyle \\left(\\begin{array}{rr}\n",
       "c & d \\\\\n",
       "a & b\n",
       "\\end{array}\\right)\\)</html>"
      ],
      "text/latex": [
       "$\\displaystyle \\left(\\begin{array}{rr}\n",
       "c & d \\\\\n",
       "a & b\n",
       "\\end{array}\\right)$"
      ],
      "text/plain": [
       "[c d]\n",
       "[a b]"
      ]
     },
     "execution_count": 11,
     "metadata": {},
     "output_type": "execute_result"
    }
   ],
   "source": [
    "B = matrix([[c, d], [a, b]]); B"
   ]
  },
  {
   "cell_type": "code",
   "execution_count": 12,
   "metadata": {
    "vscode": {
     "languageId": "python"
    }
   },
   "outputs": [
    {
     "data": {
      "text/html": [
       "<html>\\(\\displaystyle b c - a d\\)</html>"
      ],
      "text/latex": [
       "$\\displaystyle b c - a d$"
      ],
      "text/plain": [
       "b*c - a*d"
      ]
     },
     "execution_count": 12,
     "metadata": {},
     "output_type": "execute_result"
    }
   ],
   "source": [
    "det(B)"
   ]
  },
  {
   "cell_type": "markdown",
   "metadata": {},
   "source": [
    "### Question 6"
   ]
  },
  {
   "cell_type": "code",
   "execution_count": 13,
   "metadata": {
    "vscode": {
     "languageId": "python"
    }
   },
   "outputs": [
    {
     "data": {
      "text/html": [
       "<html>\\(\\displaystyle \\left(\\begin{array}{rr}\n",
       "0 & 1 \\\\\n",
       "1 & 1\n",
       "\\end{array}\\right)\\)</html>"
      ],
      "text/latex": [
       "$\\displaystyle \\left(\\begin{array}{rr}\n",
       "0 & 1 \\\\\n",
       "1 & 1\n",
       "\\end{array}\\right)$"
      ],
      "text/plain": [
       "[0 1]\n",
       "[1 1]"
      ]
     },
     "execution_count": 13,
     "metadata": {},
     "output_type": "execute_result"
    }
   ],
   "source": [
    "A = matrix([[0, 1], [1, 1]]); A"
   ]
  },
  {
   "cell_type": "code",
   "execution_count": 14,
   "metadata": {
    "vscode": {
     "languageId": "python"
    }
   },
   "outputs": [
    {
     "data": {
      "text/html": [
       "<html>\\(\\displaystyle \\left(\\begin{array}{rr}\n",
       "1 & 2 \\\\\n",
       "2 & 3\n",
       "\\end{array}\\right)\\)</html>"
      ],
      "text/latex": [
       "$\\displaystyle \\left(\\begin{array}{rr}\n",
       "1 & 2 \\\\\n",
       "2 & 3\n",
       "\\end{array}\\right)$"
      ],
      "text/plain": [
       "[1 2]\n",
       "[2 3]"
      ]
     },
     "execution_count": 14,
     "metadata": {},
     "output_type": "execute_result"
    }
   ],
   "source": [
    "B = A^3; B"
   ]
  },
  {
   "cell_type": "code",
   "execution_count": 15,
   "metadata": {
    "vscode": {
     "languageId": "python"
    }
   },
   "outputs": [
    {
     "data": {
      "text/html": [
       "<html>\\(\\displaystyle 4\\)</html>"
      ],
      "text/latex": [
       "$\\displaystyle 4$"
      ],
      "text/plain": [
       "4"
      ]
     },
     "execution_count": 15,
     "metadata": {},
     "output_type": "execute_result"
    }
   ],
   "source": [
    "B.trace()"
   ]
  },
  {
   "cell_type": "markdown",
   "metadata": {},
   "source": [
    "### Question 7"
   ]
  },
  {
   "cell_type": "code",
   "execution_count": 16,
   "metadata": {
    "vscode": {
     "languageId": "python"
    }
   },
   "outputs": [
    {
     "data": {
      "text/html": [
       "<html>\\(\\displaystyle \\left(\\left(\\begin{array}{rrr}\n",
       "1 & 2 & 1 \\\\\n",
       "-1 & 1 & -1 \\\\\n",
       "-1 & -1 & 1\n",
       "\\end{array}\\right), \\left(\\begin{array}{rrr}\n",
       "2 & 3 & 1 \\\\\n",
       "-2 & 1 & 3 \\\\\n",
       "-3 & -1 & 1\n",
       "\\end{array}\\right)\\right)\\)</html>"
      ],
      "text/latex": [
       "$\\displaystyle \\left(\\left(\\begin{array}{rrr}\n",
       "1 & 2 & 1 \\\\\n",
       "-1 & 1 & -1 \\\\\n",
       "-1 & -1 & 1\n",
       "\\end{array}\\right), \\left(\\begin{array}{rrr}\n",
       "2 & 3 & 1 \\\\\n",
       "-2 & 1 & 3 \\\\\n",
       "-3 & -1 & 1\n",
       "\\end{array}\\right)\\right)$"
      ],
      "text/plain": [
       "(\n",
       "[ 1  2  1]  [ 2  3  1]\n",
       "[-1  1 -1]  [-2  1  3]\n",
       "[-1 -1  1], [-3 -1  1]\n",
       ")"
      ]
     },
     "execution_count": 16,
     "metadata": {},
     "output_type": "execute_result"
    }
   ],
   "source": [
    "B = matrix([[1, 2, 1], [-1, 1, -1], [-1, -1, 1]])\n",
    "C = matrix([[2, 3, 1], [-2, 1, 3], [-3, -1, 1]])\n",
    "B, C"
   ]
  },
  {
   "cell_type": "code",
   "execution_count": 17,
   "metadata": {
    "vscode": {
     "languageId": "python"
    }
   },
   "outputs": [
    {
     "data": {
      "text/html": [
       "<html>\\(\\displaystyle \\left(\\begin{array}{rrr}\n",
       "2 & 5 & 1 \\\\\n",
       "-2 & 0 & 5 \\\\\n",
       "-5 & -3 & 0\n",
       "\\end{array}\\right)\\)</html>"
      ],
      "text/latex": [
       "$\\displaystyle \\left(\\begin{array}{rrr}\n",
       "2 & 5 & 1 \\\\\n",
       "-2 & 0 & 5 \\\\\n",
       "-5 & -3 & 0\n",
       "\\end{array}\\right)$"
      ],
      "text/plain": [
       "[ 2  5  1]\n",
       "[-2  0  5]\n",
       "[-5 -3  0]"
      ]
     },
     "execution_count": 17,
     "metadata": {},
     "output_type": "execute_result"
    }
   ],
   "source": [
    "A = B.T + 2*C - 3*identity_matrix(3, 3); A"
   ]
  },
  {
   "cell_type": "code",
   "execution_count": 18,
   "metadata": {
    "vscode": {
     "languageId": "python"
    }
   },
   "outputs": [
    {
     "data": {
      "text/html": [
       "<html>\\(\\displaystyle 2\\)</html>"
      ],
      "text/latex": [
       "$\\displaystyle 2$"
      ],
      "text/plain": [
       "2"
      ]
     },
     "execution_count": 18,
     "metadata": {},
     "output_type": "execute_result"
    }
   ],
   "source": [
    "A.trace()"
   ]
  },
  {
   "cell_type": "markdown",
   "metadata": {},
   "source": [
    "### Question 9"
   ]
  },
  {
   "cell_type": "code",
   "execution_count": 19,
   "metadata": {
    "vscode": {
     "languageId": "python"
    }
   },
   "outputs": [
    {
     "data": {
      "text/html": [
       "<html>\\(\\displaystyle \\left(\\begin{array}{rrr}\n",
       "0 & 1 & 0 \\\\\n",
       "0 & 0 & 1 \\\\\n",
       "6 & -11 & 6\n",
       "\\end{array}\\right)\\)</html>"
      ],
      "text/latex": [
       "$\\displaystyle \\left(\\begin{array}{rrr}\n",
       "0 & 1 & 0 \\\\\n",
       "0 & 0 & 1 \\\\\n",
       "6 & -11 & 6\n",
       "\\end{array}\\right)$"
      ],
      "text/plain": [
       "[  0   1   0]\n",
       "[  0   0   1]\n",
       "[  6 -11   6]"
      ]
     },
     "execution_count": 19,
     "metadata": {},
     "output_type": "execute_result"
    }
   ],
   "source": [
    "C = matrix([[0, 1, 0], [0, 0, 1], [6, -11, 6]]); C"
   ]
  },
  {
   "cell_type": "code",
   "execution_count": 20,
   "metadata": {
    "vscode": {
     "languageId": "python"
    }
   },
   "outputs": [
    {
     "data": {
      "text/html": [
       "<html>\\(\\displaystyle \\left[3, 2, 1\\right]\\)</html>"
      ],
      "text/latex": [
       "$\\displaystyle \\left[3, 2, 1\\right]$"
      ],
      "text/plain": [
       "[3, 2, 1]"
      ]
     },
     "execution_count": 20,
     "metadata": {},
     "output_type": "execute_result"
    }
   ],
   "source": [
    "C.eigenvalues()"
   ]
  },
  {
   "cell_type": "markdown",
   "metadata": {},
   "source": [
    "### Question 10"
   ]
  },
  {
   "cell_type": "code",
   "execution_count": 21,
   "metadata": {
    "vscode": {
     "languageId": "python"
    }
   },
   "outputs": [
    {
     "data": {
      "text/html": [
       "<html>\\(\\displaystyle \\left(\\begin{array}{rrr}\n",
       "8 & -4 & 2 \\\\\n",
       "4 & 0 & 2 \\\\\n",
       "0 & -2 & -4\n",
       "\\end{array}\\right)\\)</html>"
      ],
      "text/latex": [
       "$\\displaystyle \\left(\\begin{array}{rrr}\n",
       "8 & -4 & 2 \\\\\n",
       "4 & 0 & 2 \\\\\n",
       "0 & -2 & -4\n",
       "\\end{array}\\right)$"
      ],
      "text/plain": [
       "[ 8 -4  2]\n",
       "[ 4  0  2]\n",
       "[ 0 -2 -4]"
      ]
     },
     "execution_count": 21,
     "metadata": {},
     "output_type": "execute_result"
    }
   ],
   "source": [
    "A = matrix([[8, -4, 2], [4, 0, 2], [0, -2, -4]]); A"
   ]
  },
  {
   "cell_type": "code",
   "execution_count": 22,
   "metadata": {
    "vscode": {
     "languageId": "python"
    }
   },
   "outputs": [
    {
     "data": {
      "text/html": [
       "<html>\\(\\displaystyle \\left[\\left(4, \\left[\\left(1,\\,\\frac{8}{9},\\,-\\frac{2}{9}\\right)\\right], 1\\right), \\left(-3.464101615137755?, \\left[\\left(1,\\,1,\\,-3.732050807568878?\\right)\\right], 1\\right), \\left(3.464101615137755?, \\left[\\left(1,\\,1,\\,-0.2679491924311227?\\right)\\right], 1\\right)\\right]\\)</html>"
      ],
      "text/latex": [
       "$\\displaystyle \\left[\\left(4, \\left[\\left(1,\\,\\frac{8}{9},\\,-\\frac{2}{9}\\right)\\right], 1\\right), \\left(-3.464101615137755?, \\left[\\left(1,\\,1,\\,-3.732050807568878?\\right)\\right], 1\\right), \\left(3.464101615137755?, \\left[\\left(1,\\,1,\\,-0.2679491924311227?\\right)\\right], 1\\right)\\right]$"
      ],
      "text/plain": [
       "[(4,\n",
       "  [\n",
       "  (1, 8/9, -2/9)\n",
       "  ],\n",
       "  1),\n",
       " (-3.464101615137755?, [(1, 1, -3.732050807568878?)], 1),\n",
       " (3.464101615137755?, [(1, 1, -0.2679491924311227?)], 1)]"
      ]
     },
     "execution_count": 22,
     "metadata": {},
     "output_type": "execute_result"
    }
   ],
   "source": [
    "A.eigenvectors_right()"
   ]
  },
  {
   "cell_type": "markdown",
   "metadata": {},
   "source": [
    "### Question 11"
   ]
  },
  {
   "cell_type": "code",
   "execution_count": 23,
   "metadata": {
    "vscode": {
     "languageId": "python"
    }
   },
   "outputs": [
    {
     "data": {
      "text/html": [
       "<html>\\(\\displaystyle \\left(\\begin{array}{rrr}\n",
       "1 & 2 & 0 \\\\\n",
       "2 & 2 & 1 \\\\\n",
       "0 & 1 & 4\n",
       "\\end{array}\\right)\\)</html>"
      ],
      "text/latex": [
       "$\\displaystyle \\left(\\begin{array}{rrr}\n",
       "1 & 2 & 0 \\\\\n",
       "2 & 2 & 1 \\\\\n",
       "0 & 1 & 4\n",
       "\\end{array}\\right)$"
      ],
      "text/plain": [
       "[1 2 0]\n",
       "[2 2 1]\n",
       "[0 1 4]"
      ]
     },
     "execution_count": 23,
     "metadata": {},
     "output_type": "execute_result"
    }
   ],
   "source": [
    "A = matrix([[1, 2, 0], [2, 2, 1], [0, 1, 4]]); A"
   ]
  },
  {
   "cell_type": "code",
   "execution_count": 24,
   "metadata": {
    "vscode": {
     "languageId": "python"
    }
   },
   "outputs": [
    {
     "data": {
      "text/html": [
       "<html>\\(\\displaystyle \\left(\\left[3, -0.645751311064591?, 4.645751311064590?\\right], 7\\right)\\)</html>"
      ],
      "text/latex": [
       "$\\displaystyle \\left(\\left[3, -0.645751311064591?, 4.645751311064590?\\right], 7\\right)$"
      ],
      "text/plain": [
       "([3, -0.645751311064591?, 4.645751311064590?], 7)"
      ]
     },
     "execution_count": 24,
     "metadata": {},
     "output_type": "execute_result"
    }
   ],
   "source": [
    "A.eigenvalues(), A.trace()"
   ]
  },
  {
   "cell_type": "code",
   "execution_count": 25,
   "metadata": {
    "vscode": {
     "languageId": "python"
    }
   },
   "outputs": [
    {
     "data": {
      "text/html": [
       "<html>\\(\\displaystyle \\left[\\frac{1}{2} \\, a + \\frac{1}{2} \\, d - \\frac{1}{2} \\, \\sqrt{a^{2} + 4 \\, b c - 2 \\, a d + d^{2}}, \\frac{1}{2} \\, a + \\frac{1}{2} \\, d + \\frac{1}{2} \\, \\sqrt{a^{2} + 4 \\, b c - 2 \\, a d + d^{2}}\\right]\\)</html>"
      ],
      "text/latex": [
       "$\\displaystyle \\left[\\frac{1}{2} \\, a + \\frac{1}{2} \\, d - \\frac{1}{2} \\, \\sqrt{a^{2} + 4 \\, b c - 2 \\, a d + d^{2}}, \\frac{1}{2} \\, a + \\frac{1}{2} \\, d + \\frac{1}{2} \\, \\sqrt{a^{2} + 4 \\, b c - 2 \\, a d + d^{2}}\\right]$"
      ],
      "text/plain": [
       "[1/2*a + 1/2*d - 1/2*sqrt(a^2 + 4*b*c - 2*a*d + d^2),\n",
       " 1/2*a + 1/2*d + 1/2*sqrt(a^2 + 4*b*c - 2*a*d + d^2)]"
      ]
     },
     "execution_count": 25,
     "metadata": {},
     "output_type": "execute_result"
    }
   ],
   "source": [
    "a, b, c, d = var('a, b, c, d')\n",
    "A = matrix([[a, b], [c, d]])\n",
    "A.eigenvalues()"
   ]
  },
  {
   "cell_type": "markdown",
   "metadata": {},
   "source": [
    "### Question 13"
   ]
  },
  {
   "cell_type": "code",
   "execution_count": 26,
   "metadata": {
    "vscode": {
     "languageId": "python"
    }
   },
   "outputs": [
    {
     "data": {
      "text/html": [
       "<html>\\(\\displaystyle \\left(\\begin{array}{rr}\n",
       "2 & \\frac{1}{8} \\\\\n",
       "-1 & 1\n",
       "\\end{array}\\right)\\)</html>"
      ],
      "text/latex": [
       "$\\displaystyle \\left(\\begin{array}{rr}\n",
       "2 & \\frac{1}{8} \\\\\n",
       "-1 & 1\n",
       "\\end{array}\\right)$"
      ],
      "text/plain": [
       "[  2 1/8]\n",
       "[ -1   1]"
      ]
     },
     "execution_count": 26,
     "metadata": {},
     "output_type": "execute_result"
    }
   ],
   "source": [
    "a = 1/8\n",
    "A = matrix([[2, a], [-1, 1]]); A"
   ]
  },
  {
   "cell_type": "code",
   "execution_count": 27,
   "metadata": {
    "vscode": {
     "languageId": "python"
    }
   },
   "outputs": [
    {
     "data": {
      "text/html": [
       "<html>\\(\\displaystyle \\left(1.146446609406727?, 1.853553390593274?\\right)\\)</html>"
      ],
      "text/latex": [
       "$\\displaystyle \\left(1.146446609406727?, 1.853553390593274?\\right)$"
      ],
      "text/plain": [
       "(1.146446609406727?, 1.853553390593274?)"
      ]
     },
     "execution_count": 27,
     "metadata": {},
     "output_type": "execute_result"
    }
   ],
   "source": [
    "x1, x2 = A.eigenvalues(); x1, x2"
   ]
  },
  {
   "cell_type": "markdown",
   "metadata": {},
   "source": [
    "### Question 14"
   ]
  },
  {
   "cell_type": "code",
   "execution_count": 28,
   "metadata": {
    "vscode": {
     "languageId": "python"
    }
   },
   "outputs": [
    {
     "data": {
      "text/html": [
       "<html>\\(\\displaystyle x^{2} - 2x\\)</html>"
      ],
      "text/latex": [
       "$\\displaystyle x^{2} - 2x$"
      ],
      "text/plain": [
       "x^2 - 2*x"
      ]
     },
     "execution_count": 28,
     "metadata": {},
     "output_type": "execute_result"
    }
   ],
   "source": [
    "A = matrix([[1, 1], [1, 1]])\n",
    "A.characteristic_polynomial()"
   ]
  },
  {
   "cell_type": "markdown",
   "metadata": {},
   "source": [
    "### Question 15"
   ]
  },
  {
   "cell_type": "code",
   "execution_count": 29,
   "metadata": {
    "vscode": {
     "languageId": "python"
    }
   },
   "outputs": [
    {
     "data": {
      "text/html": [
       "<html>\\(\\displaystyle \\left(\\begin{array}{rrr}\n",
       "2 & 1 & -1 \\\\\n",
       "2 & -1 & 2 \\\\\n",
       "1 & 2 & -1\n",
       "\\end{array}\\right)\\)</html>"
      ],
      "text/latex": [
       "$\\displaystyle \\left(\\begin{array}{rrr}\n",
       "2 & 1 & -1 \\\\\n",
       "2 & -1 & 2 \\\\\n",
       "1 & 2 & -1\n",
       "\\end{array}\\right)$"
      ],
      "text/plain": [
       "[ 2  1 -1]\n",
       "[ 2 -1  2]\n",
       "[ 1  2 -1]"
      ]
     },
     "execution_count": 29,
     "metadata": {},
     "output_type": "execute_result"
    }
   ],
   "source": [
    "A = matrix([[2, 1, -1], [2, -1, 2], [1, 2, -1]]); A"
   ]
  },
  {
   "cell_type": "code",
   "execution_count": 30,
   "metadata": {
    "vscode": {
     "languageId": "python"
    }
   },
   "outputs": [
    {
     "data": {
      "text/html": [
       "<html>\\(\\displaystyle \\left[\\left(1, \\left[\\left(0,\\,1,\\,1\\right)\\right], 1\\right), \\left(-3.192582403567252?, \\left[\\left(1,\\,-2.954065922853802?,\\,2.238516480713451?\\right)\\right], 1\\right), \\left(2.192582403567252?, \\left[\\left(1,\\,1.354065922853802?,\\,1.161483519286550?\\right)\\right], 1\\right)\\right]\\)</html>"
      ],
      "text/latex": [
       "$\\displaystyle \\left[\\left(1, \\left[\\left(0,\\,1,\\,1\\right)\\right], 1\\right), \\left(-3.192582403567252?, \\left[\\left(1,\\,-2.954065922853802?,\\,2.238516480713451?\\right)\\right], 1\\right), \\left(2.192582403567252?, \\left[\\left(1,\\,1.354065922853802?,\\,1.161483519286550?\\right)\\right], 1\\right)\\right]$"
      ],
      "text/plain": [
       "[(1,\n",
       "  [\n",
       "  (0, 1, 1)\n",
       "  ],\n",
       "  1),\n",
       " (-3.192582403567252?, [(1, -2.954065922853802?, 2.238516480713451?)], 1),\n",
       " (2.192582403567252?, [(1, 1.354065922853802?, 1.161483519286550?)], 1)]"
      ]
     },
     "execution_count": 30,
     "metadata": {},
     "output_type": "execute_result"
    }
   ],
   "source": [
    "A.eigenvectors_right()"
   ]
  },
  {
   "cell_type": "markdown",
   "metadata": {},
   "source": [
    "### Question 16"
   ]
  },
  {
   "cell_type": "code",
   "execution_count": 1,
   "metadata": {
    "vscode": {
     "languageId": "python"
    }
   },
   "outputs": [
    {
     "data": {
      "text/plain": [
       "[ 1 -2  2]\n",
       "[-1  0  1]\n",
       "[ 3 -4 -3]"
      ]
     },
     "execution_count": 1,
     "metadata": {},
     "output_type": "execute_result"
    }
   ],
   "source": [
    "A = matrix([[1, -2, 2], [-1, 0, 1], [3, -4, -3]]); A"
   ]
  },
  {
   "cell_type": "code",
   "execution_count": 2,
   "metadata": {
    "vscode": {
     "languageId": "python"
    }
   },
   "outputs": [
    {
     "data": {
      "text/plain": [
       "[-3, -1.561552812808831?, 2.561552812808830?]"
      ]
     },
     "execution_count": 2,
     "metadata": {},
     "output_type": "execute_result"
    }
   ],
   "source": [
    "A.eigenvalues()"
   ]
  },
  {
   "cell_type": "markdown",
   "metadata": {},
   "source": [
    "### Question 17"
   ]
  },
  {
   "cell_type": "code",
   "execution_count": 3,
   "metadata": {
    "vscode": {
     "languageId": "python"
    }
   },
   "outputs": [
    {
     "data": {
      "text/plain": [
       "[ 1  0  2]\n",
       "[-1  1  3]\n",
       "[ 0  0  2]"
      ]
     },
     "execution_count": 3,
     "metadata": {},
     "output_type": "execute_result"
    }
   ],
   "source": [
    "A = matrix([[1, 0, 2], [-1, 1, 3], [0, 0, 2]]); A"
   ]
  },
  {
   "cell_type": "code",
   "execution_count": 7,
   "metadata": {
    "vscode": {
     "languageId": "python"
    }
   },
   "outputs": [
    {
     "data": {
      "text/plain": [
       "[(2,\n",
       "  [\n",
       "  (1, 1/2, 1/2)\n",
       "  ],\n",
       "  1),\n",
       " (1,\n",
       "  [\n",
       "  (0, 1, 0)\n",
       "  ],\n",
       "  2)]"
      ]
     },
     "execution_count": 7,
     "metadata": {},
     "output_type": "execute_result"
    }
   ],
   "source": [
    "A.eigenvectors_right()"
   ]
  },
  {
   "cell_type": "markdown",
   "metadata": {},
   "source": [
    "### Question 19"
   ]
  },
  {
   "cell_type": "code",
   "execution_count": 9,
   "metadata": {
    "vscode": {
     "languageId": "python"
    }
   },
   "outputs": [
    {
     "data": {
      "text/plain": [
       "[(3, 2)]"
      ]
     },
     "execution_count": 9,
     "metadata": {},
     "output_type": "execute_result"
    }
   ],
   "source": [
    "A = matrix([[4, -1], [1, 2]])\n",
    "p = A.characteristic_polynomial()\n",
    "p.roots()"
   ]
  },
  {
   "cell_type": "code",
   "execution_count": 10,
   "metadata": {
    "vscode": {
     "languageId": "python"
    }
   },
   "outputs": [
    {
     "data": {
      "text/plain": [
       "[(2, 1), (0, 1)]"
      ]
     },
     "execution_count": 10,
     "metadata": {},
     "output_type": "execute_result"
    }
   ],
   "source": [
    "B = matrix([[1, 1], [1, 1]])\n",
    "p = B.characteristic_polynomial()\n",
    "p.roots()"
   ]
  },
  {
   "cell_type": "code",
   "execution_count": 11,
   "metadata": {
    "vscode": {
     "languageId": "python"
    }
   },
   "outputs": [
    {
     "data": {
      "text/plain": [
       "[(3, 2)]"
      ]
     },
     "execution_count": 11,
     "metadata": {},
     "output_type": "execute_result"
    }
   ],
   "source": [
    "C = matrix([[3, 2], [0, 3]])\n",
    "p = C.characteristic_polynomial()\n",
    "p.roots()"
   ]
  },
  {
   "cell_type": "markdown",
   "metadata": {},
   "source": [
    "### Question 20"
   ]
  },
  {
   "cell_type": "code",
   "execution_count": 15,
   "metadata": {
    "vscode": {
     "languageId": "python"
    }
   },
   "outputs": [
    {
     "data": {
      "text/plain": [
       "(False, False)"
      ]
     },
     "execution_count": 15,
     "metadata": {},
     "output_type": "execute_result"
    }
   ],
   "source": [
    "a = matrix(QQ, [[0, 1], [0, 0]])\n",
    "a.is_invertible(), a.is_diagonalizable()"
   ]
  }
 ],
 "metadata": {
  "kernelspec": {
   "display_name": "SageMath 10.0",
   "language": "sage",
   "name": "sagemath"
  },
  "language_info": {
   "codemirror_mode": {
    "name": "ipython",
    "version": 3
   },
   "file_extension": ".py",
   "mimetype": "text/x-python",
   "name": "sage",
   "nbconvert_exporter": "python",
   "pygments_lexer": "ipython3",
   "version": "3.9.18"
  }
 },
 "nbformat": 4,
 "nbformat_minor": 2
}
