{
 "cells": [
  {
   "cell_type": "code",
   "execution_count": 1,
   "metadata": {},
   "outputs": [
    {
     "data": {
      "text/plain": [
       "(\n",
       "[      -3  5 + 3*I  7 + 4*I]  [      -3  7 - 3*I  3 - 3*I]\n",
       "[ 7 - 3*I -1 - 6*I  3 - 5*I]  [ 5 + 3*I -1 - 6*I -3 - 6*I]\n",
       "[ 3 - 3*I -3 - 6*I  5 - 1*I], [ 7 + 4*I  3 - 5*I  5 - 1*I]\n",
       ")"
      ]
     },
     "execution_count": 1,
     "metadata": {},
     "output_type": "execute_result"
    }
   ],
   "source": [
    "A = matrix(QQbar, [[-3, 5 - 3*I, 7 - 4*I], [7 + 3*I, -1 + 6*I, 3 + 5*I], [3 + 3*I, -3 + 6*I, 5 +   I]])\n",
    "A.C, A.H"
   ]
  },
  {
   "cell_type": "code",
   "execution_count": 2,
   "metadata": {},
   "outputs": [
    {
     "data": {
      "text/plain": [
       "(\n",
       "[5 3]  [-1  1]  [1 0]\n",
       "[3 2], [ 1 -2], [0 1]\n",
       ")"
      ]
     },
     "execution_count": 2,
     "metadata": {},
     "output_type": "execute_result"
    }
   ],
   "source": [
    "M = Matrix(ZZ, 2, 2, [5, 3, 3, 2])\n",
    "U = M.LLL_gram()\n",
    "MM = U.transpose() * M * U\n",
    "M, U, MM"
   ]
  },
  {
   "cell_type": "code",
   "execution_count": 3,
   "metadata": {},
   "outputs": [
    {
     "data": {
      "text/plain": [
       "[ 0 -1]\n",
       "[ 1  0]"
      ]
     },
     "execution_count": 3,
     "metadata": {},
     "output_type": "execute_result"
    }
   ],
   "source": [
    "M = matrix(RDF, 2, 2, [1, 0, 0, 1e-5])\n",
    "M.LLL_gram()"
   ]
  },
  {
   "cell_type": "code",
   "execution_count": 4,
   "metadata": {},
   "outputs": [
    {
     "data": {
      "text/plain": [
       "[0 0 0 0 1]\n",
       "[1 0 0 0 0]\n",
       "[0 0 0 1 0]\n",
       "[0 0 1 0 0]\n",
       "[0 1 0 0 0]"
      ]
     },
     "execution_count": 4,
     "metadata": {},
     "output_type": "execute_result"
    }
   ],
   "source": [
    "A = matrix(QQ, [[1, -1,  0,  2,  4,  7, -1],\n",
    "                [2, -1,  0,  6,  4,  8, -2],\n",
    "                [2,  0,  1,  4,  2,  6,  0],\n",
    "                [1,  0, -1,  8, -1, -1, -3],\n",
    "                [1,  1,  2, -2, -1,  1,  3]])\n",
    "P, L, U = A.LU(pivot = 'partial')\n",
    "P"
   ]
  },
  {
   "cell_type": "code",
   "execution_count": 5,
   "metadata": {},
   "outputs": [
    {
     "data": {
      "text/plain": [
       "[   1    0    0    0    0]\n",
       "[ 1/2    1    0    0    0]\n",
       "[ 1/2  1/3    1    0    0]\n",
       "[   1  2/3  1/5    1    0]\n",
       "[ 1/2 -1/3 -2/5    0    1]"
      ]
     },
     "execution_count": 5,
     "metadata": {},
     "output_type": "execute_result"
    }
   ],
   "source": [
    "L"
   ]
  },
  {
   "cell_type": "code",
   "execution_count": 6,
   "metadata": {},
   "outputs": [
    {
     "data": {
      "text/plain": [
       "[    2    -1     0     6     4     8    -2]\n",
       "[    0   3/2     2    -5    -3    -3     4]\n",
       "[    0     0  -5/3  20/3    -2    -4 -10/3]\n",
       "[    0     0     0     0   2/5   4/5     0]\n",
       "[    0     0     0     0   1/5   2/5     0]"
      ]
     },
     "execution_count": 6,
     "metadata": {},
     "output_type": "execute_result"
    }
   ],
   "source": [
    "U"
   ]
  },
  {
   "cell_type": "code",
   "execution_count": 7,
   "metadata": {},
   "outputs": [
    {
     "data": {
      "text/plain": [
       "True"
      ]
     },
     "execution_count": 7,
     "metadata": {},
     "output_type": "execute_result"
    }
   ],
   "source": [
    "A == P*L*U"
   ]
  },
  {
   "cell_type": "code",
   "execution_count": 8,
   "metadata": {},
   "outputs": [
    {
     "data": {
      "text/plain": [
       "[1 0 0 0 0]\n",
       "[0 1 0 0 0]\n",
       "[0 0 1 0 0]\n",
       "[0 0 0 1 0]\n",
       "[0 0 0 0 1]"
      ]
     },
     "execution_count": 8,
     "metadata": {},
     "output_type": "execute_result"
    }
   ],
   "source": [
    "P, L, U = A.LU(pivot = 'nonzero')\n",
    "P"
   ]
  },
  {
   "cell_type": "code",
   "execution_count": 9,
   "metadata": {},
   "outputs": [
    {
     "data": {
      "text/plain": [
       "[ 1  0  0  0  0]\n",
       "[ 2  1  0  0  0]\n",
       "[ 2  2  1  0  0]\n",
       "[ 1  1 -1  1  0]\n",
       "[ 1  2  2  0  1]"
      ]
     },
     "execution_count": 9,
     "metadata": {},
     "output_type": "execute_result"
    }
   ],
   "source": [
    "L"
   ]
  },
  {
   "cell_type": "code",
   "execution_count": 10,
   "metadata": {},
   "outputs": [
    {
     "data": {
      "text/plain": [
       "[ 1 -1  0  2  4  7 -1]\n",
       "[ 0  1  0  2 -4 -6  0]\n",
       "[ 0  0  1 -4  2  4  2]\n",
       "[ 0  0  0  0  1  2  0]\n",
       "[ 0  0  0  0 -1 -2  0]"
      ]
     },
     "execution_count": 10,
     "metadata": {},
     "output_type": "execute_result"
    }
   ],
   "source": [
    "U"
   ]
  },
  {
   "cell_type": "code",
   "execution_count": 11,
   "metadata": {},
   "outputs": [
    {
     "data": {
      "text/plain": [
       "True"
      ]
     },
     "execution_count": 11,
     "metadata": {},
     "output_type": "execute_result"
    }
   ],
   "source": [
    "A == P*L*U"
   ]
  },
  {
   "cell_type": "code",
   "execution_count": 12,
   "metadata": {},
   "outputs": [
    {
     "data": {
      "text/plain": [
       "True"
      ]
     },
     "execution_count": 12,
     "metadata": {},
     "output_type": "execute_result"
    }
   ],
   "source": [
    "C = matrix(QQ, [[-2,  3, -2, -5],\n",
    "                [ 1, -2,  1,  3],\n",
    "                [-4,  7, -3, -8],\n",
    "                [-3,  8, -1, -5]])\n",
    "P, L, U = C.LU(format = 'plu')\n",
    "perm, M = C.LU(format = 'compact')\n",
    "(L - identity_matrix(4)) + U == M"
   ]
  },
  {
   "cell_type": "code",
   "execution_count": 13,
   "metadata": {},
   "outputs": [
    {
     "data": {
      "text/plain": [
       "(\n",
       "              [0 0 0 1]      \n",
       "              [0 0 1 0]      \n",
       "              [1 0 0 0]      \n",
       "[3, 4, 2, 1], [0 1 0 0], True\n",
       ")"
      ]
     },
     "execution_count": 13,
     "metadata": {},
     "output_type": "execute_result"
    }
   ],
   "source": [
    "p = [perm[i] + 1 for i in range(len(perm))]\n",
    "PP = Permutation(p).to_matrix()\n",
    "p, PP, PP == P"
   ]
  },
  {
   "cell_type": "code",
   "execution_count": 14,
   "metadata": {},
   "outputs": [
    {
     "data": {
      "text/plain": [
       "[1 0 0 0 0 0]\n",
       "[0 1 0 0 0 0]\n",
       "[0 0 1 0 0 0]\n",
       "[0 0 0 1 0 0]\n",
       "[0 0 0 0 1 0]\n",
       "[0 0 0 0 0 1]"
      ]
     },
     "execution_count": 14,
     "metadata": {},
     "output_type": "execute_result"
    }
   ],
   "source": [
    "D = matrix(QQ, [[ 1,  0,  2,  0, -2, -1],\n",
    "                [ 3, -2,  3, -1,  0,  6],\n",
    "                [-4,  2, -3,  1, -1, -8],\n",
    "                [-2,  2, -3,  2,  1,  0],\n",
    "                [ 0, -1, -1,  0,  2,  5],\n",
    "                [-1,  2, -4, -1,  5, -3]])\n",
    "P, L, U = D.LU(pivot = 'nonzero')\n",
    "P"
   ]
  },
  {
   "cell_type": "code",
   "execution_count": 15,
   "metadata": {},
   "outputs": [
    {
     "data": {
      "text/plain": [
       "[   1    0    0    0    0    0]\n",
       "[   3    1    0    0    0    0]\n",
       "[  -4   -1    1    0    0    0]\n",
       "[  -2   -1   -1    1    0    0]\n",
       "[   0  1/2  1/4  1/2    1    0]\n",
       "[  -1   -1 -5/2   -2   -6    1]"
      ]
     },
     "execution_count": 15,
     "metadata": {},
     "output_type": "execute_result"
    }
   ],
   "source": [
    "L"
   ]
  },
  {
   "cell_type": "code",
   "execution_count": 16,
   "metadata": {},
   "outputs": [
    {
     "data": {
      "text/plain": [
       "(\n",
       "[   1    0    2    0   -2   -1]      \n",
       "[   0   -2   -3   -1    6    9]      \n",
       "[   0    0    2    0   -3   -3]      \n",
       "[   0    0    0    1    0    4]      \n",
       "[   0    0    0    0 -1/4 -3/4]      \n",
       "[   0    0    0    0    0    1], True\n",
       ")"
      ]
     },
     "execution_count": 16,
     "metadata": {},
     "output_type": "execute_result"
    }
   ],
   "source": [
    "U, D == L*U"
   ]
  },
  {
   "cell_type": "code",
   "execution_count": 17,
   "metadata": {},
   "outputs": [
    {
     "data": {
      "text/plain": [
       "[1 0]\n",
       "[0 1]"
      ]
     },
     "execution_count": 17,
     "metadata": {},
     "output_type": "execute_result"
    }
   ],
   "source": [
    "R.<y> = PolynomialRing(QQ, 'y')\n",
    "B = matrix(R, [[y+1, y^2+y], [y^2, y^3]])\n",
    "P, L, U = B.LU(pivot = 'nonzero')\n",
    "P"
   ]
  },
  {
   "cell_type": "code",
   "execution_count": 18,
   "metadata": {},
   "outputs": [
    {
     "data": {
      "text/plain": [
       "[          1           0]\n",
       "[y^2/(y + 1)           1]"
      ]
     },
     "execution_count": 18,
     "metadata": {},
     "output_type": "execute_result"
    }
   ],
   "source": [
    "L"
   ]
  },
  {
   "cell_type": "code",
   "execution_count": 19,
   "metadata": {},
   "outputs": [
    {
     "data": {
      "text/plain": [
       "[  y + 1 y^2 + y]\n",
       "[      0       0]"
      ]
     },
     "execution_count": 19,
     "metadata": {},
     "output_type": "execute_result"
    }
   ],
   "source": [
    "U"
   ]
  },
  {
   "cell_type": "code",
   "execution_count": 20,
   "metadata": {},
   "outputs": [
    {
     "data": {
      "text/plain": [
       "(Fraction Field of Univariate Polynomial Ring in y over Rational Field, True)"
      ]
     },
     "execution_count": 20,
     "metadata": {},
     "output_type": "execute_result"
    }
   ],
   "source": [
    "L.base_ring(), B == P*L*U"
   ]
  },
  {
   "cell_type": "code",
   "execution_count": 21,
   "metadata": {},
   "outputs": [
    {
     "data": {
      "text/plain": [
       "[1 0 0 0]\n",
       "[0 1 0 0]\n",
       "[0 0 1 0]\n",
       "[0 0 0 1]"
      ]
     },
     "execution_count": 21,
     "metadata": {},
     "output_type": "execute_result"
    }
   ],
   "source": [
    "F.<a> = FiniteField(5^2)\n",
    "C = matrix(F, [[a + 3, 4*a + 4, 2, 4*a + 2],\n",
    "               [3, 2*a + 4, 2*a + 4, 2*a + 1],\n",
    "               [3*a + 1, a + 3, 2*a + 4, 4*a + 3],\n",
    "               [a, 3, 3*a + 1, a]])\n",
    "P, L, U = C.LU(pivot = 'nonzero')\n",
    "P"
   ]
  },
  {
   "cell_type": "code",
   "execution_count": 22,
   "metadata": {},
   "outputs": [
    {
     "data": {
      "text/plain": [
       "[      1       0       0       0]\n",
       "[3*a + 3       1       0       0]\n",
       "[    2*a 4*a + 2       1       0]\n",
       "[2*a + 3       2 2*a + 4       1]"
      ]
     },
     "execution_count": 22,
     "metadata": {},
     "output_type": "execute_result"
    }
   ],
   "source": [
    "L"
   ]
  },
  {
   "cell_type": "code",
   "execution_count": 23,
   "metadata": {},
   "outputs": [
    {
     "data": {
      "text/plain": [
       "[  a + 3 4*a + 4       2 4*a + 2]\n",
       "[      0   a + 1   a + 3 2*a + 4]\n",
       "[      0       0       1 4*a + 2]\n",
       "[      0       0       0       0]"
      ]
     },
     "execution_count": 23,
     "metadata": {},
     "output_type": "execute_result"
    }
   ],
   "source": [
    "U"
   ]
  },
  {
   "cell_type": "code",
   "execution_count": 24,
   "metadata": {},
   "outputs": [
    {
     "data": {
      "text/plain": [
       "True"
      ]
     },
     "execution_count": 24,
     "metadata": {},
     "output_type": "execute_result"
    }
   ],
   "source": [
    "C == P*L*U"
   ]
  },
  {
   "cell_type": "code",
   "execution_count": 25,
   "metadata": {},
   "outputs": [
    {
     "data": {
      "text/plain": [
       "(0, 1, 2, 3)"
      ]
     },
     "execution_count": 25,
     "metadata": {},
     "output_type": "execute_result"
    }
   ],
   "source": [
    "entries = [3, 20, 11, 7, 16, 28, 5, 15, 21, 23, 22, 18, 8, 23, 15, 2]\n",
    "A = matrix(Integers(29), 4, 4, entries)\n",
    "perm, _ = A.LU(format = 'compact'); perm"
   ]
  },
  {
   "cell_type": "code",
   "execution_count": 26,
   "metadata": {},
   "outputs": [
    {
     "data": {
      "text/plain": [
       "(2, 0, 1, 3)"
      ]
     },
     "execution_count": 26,
     "metadata": {},
     "output_type": "execute_result"
    }
   ],
   "source": [
    "B = matrix(QQ, 4, 4, entries)\n",
    "perm, _ = B.LU(format = 'compact'); perm"
   ]
  },
  {
   "cell_type": "code",
   "execution_count": 27,
   "metadata": {},
   "outputs": [
    {
     "data": {
      "text/plain": [
       "[   -2     8    -1    -4     2    -4     1    -8    -7]\n",
       "[    0     0   1/2    -2    -1    -2   9/2    -3  -7/2]\n",
       "[    0     0   3/2    -6    -2     0  11/2     2   1/2]\n",
       "[    0     0     0     0  -1/3    -1   5/3  -5/3  -5/3]\n",
       "[    0     0     0     0   1/3    -3   7/3 -19/3 -19/3]"
      ]
     },
     "execution_count": 27,
     "metadata": {},
     "output_type": "execute_result"
    }
   ],
   "source": [
    "A = matrix(QQ, [[ 1, -4,  1,  0, -2,  1, 3,  3,  2],\n",
    "                [-1,  4,  0, -4,  0, -4, 5, -7, -7],\n",
    "                [ 0,  0,  1, -4, -1, -3, 6, -5, -6],\n",
    "                [-2,  8, -1, -4,  2, -4, 1, -8, -7],\n",
    "                [ 1, -4,  2, -4, -3,  2, 5,  6,  4]])\n",
    "P, L, U = A.LU()\n",
    "U"
   ]
  },
  {
   "cell_type": "code",
   "execution_count": 28,
   "metadata": {},
   "outputs": [
    {
     "data": {
      "text/plain": [
       "[ 1 -4  0  4  0  0 -1 -1 -1]\n",
       "[ 0  0  1 -4  0  0  1  0 -1]\n",
       "[ 0  0  0  0  1  0 -2 -1 -1]\n",
       "[ 0  0  0  0  0  1 -1  2  2]\n",
       "[ 0  0  0  0  0  0  0  0  0]"
      ]
     },
     "execution_count": 28,
     "metadata": {},
     "output_type": "execute_result"
    }
   ],
   "source": [
    "A.rref()"
   ]
  },
  {
   "cell_type": "code",
   "execution_count": 29,
   "metadata": {},
   "outputs": [
    {
     "data": {
      "text/plain": [
       "(0, 2, 4, 5)"
      ]
     },
     "execution_count": 29,
     "metadata": {},
     "output_type": "execute_result"
    }
   ],
   "source": [
    "A.pivots()"
   ]
  },
  {
   "cell_type": "code",
   "execution_count": 30,
   "metadata": {},
   "outputs": [
    {
     "data": {
      "text/plain": [
       "[ -0.4588314677411235?  -0.1260506983326509?   0.3812120831224489?   -0.394573711338418?     -0.6874400625964?]\n",
       "[ -0.4588314677411235?   0.4726901187474409? -0.05198346588033394?   0.7172941251646595?     -0.2209628772631?]\n",
       "[  0.2294157338705618?   0.6617661662464172?   0.6619227988762521?  -0.1808720937375480?      0.1964114464561?]\n",
       "[  0.6882472016116853?   0.1890760474989764?  -0.2044682991293135?   0.0966302966543065?     -0.6628886317894?]\n",
       "[ -0.2294157338705618?   0.5357154679137663?   -0.609939332995919?   -0.536422031427112?      0.0245514308070?]"
      ]
     },
     "execution_count": 30,
     "metadata": {},
     "output_type": "execute_result"
    }
   ],
   "source": [
    "A = matrix(QQbar, [[-2, 0, -4, -1, -1],\n",
    "                   [-2, 1, -6, -3, -1],\n",
    "                   [1, 1, 7, 4, 5],\n",
    "                   [3, 0, 8, 3, 3],\n",
    "                   [-1, 1, -6, -6, 5]])\n",
    "Q, R = A.QR()\n",
    "Q"
   ]
  },
  {
   "cell_type": "code",
   "execution_count": 31,
   "metadata": {},
   "outputs": [
    {
     "data": {
      "text/plain": [
       "[  4.358898943540674? -0.4588314677411235?   13.07669683062202?   6.194224814505168?   2.982404540317303?]\n",
       "[                   0   1.670171752907625?  0.5987408170800917?  -1.292019657909672?   6.207996892883057?]\n",
       "[                   0                    0   5.444401659866974?   5.468660610611130? -0.6827161852283857?]\n",
       "[                   0                    0                    0   1.027626039419836?  -3.619300149686620?]\n",
       "[                   0                    0                    0                    0   0.024551430807012?]"
      ]
     },
     "execution_count": 31,
     "metadata": {},
     "output_type": "execute_result"
    }
   ],
   "source": [
    "R"
   ]
  },
  {
   "cell_type": "code",
   "execution_count": 32,
   "metadata": {},
   "outputs": [
    {
     "data": {
      "text/plain": [
       "[1.000000000000000?            0.?e-18            0.?e-17            0.?e-16            0.?e-13]\n",
       "[           0.?e-18 1.000000000000000?            0.?e-17            0.?e-16            0.?e-13]\n",
       "[           0.?e-17            0.?e-17 1.000000000000000?            0.?e-16            0.?e-13]\n",
       "[           0.?e-16            0.?e-16            0.?e-16 1.000000000000000?            0.?e-13]\n",
       "[           0.?e-13            0.?e-13            0.?e-13            0.?e-13   1.0000000000000?]"
      ]
     },
     "execution_count": 32,
     "metadata": {},
     "output_type": "execute_result"
    }
   ],
   "source": [
    "Q.conjugate_transpose() * Q"
   ]
  },
  {
   "cell_type": "code",
   "execution_count": 33,
   "metadata": {},
   "outputs": [
    {
     "data": {
      "text/plain": [
       "True"
      ]
     },
     "execution_count": 33,
     "metadata": {},
     "output_type": "execute_result"
    }
   ],
   "source": [
    "Q*R == A"
   ]
  },
  {
   "cell_type": "code",
   "execution_count": 34,
   "metadata": {},
   "outputs": [
    {
     "data": {
      "text/plain": [
       "[                          -0.7302967433402215?    0.2070566455055649? + 0.5383472783144687?*I    0.2463049809998642? - 0.0764456358723292?*I    0.2381617683194332? - 0.1036596032779695?*I]\n",
       "[                           0.0912870929175277?   -0.2070566455055649? - 0.3778783780476559?*I    0.3786559533863033? - 0.1952221495524667?*I     0.701244450214469? - 0.3643711650986595?*I]\n",
       "[   0.6390096504226938? + 0.0912870929175277?*I    0.1708217325420910? + 0.6677576817554466?*I -0.03411475806452072? + 0.04090198741767143?*I    0.3140171085506764? - 0.0825191718705412?*I]\n",
       "[   0.1825741858350554? + 0.0912870929175277?*I  -0.03623491296347385? + 0.0724698259269477?*I   0.8632284069415110? + 0.06322839976356195?*I   -0.4499694867611521? - 0.0116119181208918?*I]"
      ]
     },
     "execution_count": 34,
     "metadata": {},
     "output_type": "execute_result"
    }
   ],
   "source": [
    "A = matrix(QQbar, [[-8, 4*I + 1, -I + 2, 2*I + 1],\n",
    "                   [1, -2*I - 1, -I + 3, -I + 1],\n",
    "                   [I + 7, 2*I + 1, -2*I + 7, -I + 1],\n",
    "                   [I + 2, 0, I + 12, -1]])\n",
    "Q, R = A.QR()\n",
    "Q"
   ]
  },
  {
   "cell_type": "code",
   "execution_count": 35,
   "metadata": {},
   "outputs": [
    {
     "data": {
      "text/plain": [
       "[                          10.95445115010333?               0.?e-18 - 1.917028951268082?*I    5.385938482134133? - 2.190890230020665?*I  -0.2738612787525831? - 2.190890230020665?*I]\n",
       "[                                           0               4.829596256417300? + 0.?e-18*I   -0.869637911123373? - 5.864879483945125?*I   0.993871898426712? - 0.3054085521207082?*I]\n",
       "[                                           0                                            0               12.00160760935814? + 0.?e-16*I -0.2709533402297273? + 0.4420629644486323?*I]\n",
       "[                                           0                                            0                                            0               1.942963944258992? + 0.?e-16*I]"
      ]
     },
     "execution_count": 35,
     "metadata": {},
     "output_type": "execute_result"
    }
   ],
   "source": [
    "R"
   ]
  },
  {
   "cell_type": "code",
   "execution_count": 36,
   "metadata": {},
   "outputs": [
    {
     "data": {
      "text/plain": [
       "[1.000000000000000? + 0.?e-19*I            0.?e-18 + 0.?e-17*I            0.?e-17 + 0.?e-17*I            0.?e-16 + 0.?e-16*I]\n",
       "[           0.?e-18 + 0.?e-17*I 1.000000000000000? + 0.?e-17*I            0.?e-17 + 0.?e-17*I            0.?e-16 + 0.?e-16*I]\n",
       "[           0.?e-17 + 0.?e-17*I            0.?e-17 + 0.?e-17*I 1.000000000000000? + 0.?e-17*I            0.?e-16 + 0.?e-16*I]\n",
       "[           0.?e-16 + 0.?e-16*I            0.?e-16 + 0.?e-16*I            0.?e-16 + 0.?e-16*I 1.000000000000000? + 0.?e-16*I]"
      ]
     },
     "execution_count": 36,
     "metadata": {},
     "output_type": "execute_result"
    }
   ],
   "source": [
    "Q.conjugate_transpose() * Q"
   ]
  },
  {
   "cell_type": "code",
   "execution_count": 37,
   "metadata": {},
   "outputs": [
    {
     "data": {
      "text/plain": [
       "[            0.?e-17 0.?e-17 + 0.?e-17*I 0.?e-16 + 0.?e-16*I 0.?e-16 + 0.?e-16*I]\n",
       "[            0.?e-18 0.?e-17 + 0.?e-17*I 0.?e-16 + 0.?e-16*I 0.?e-16 + 0.?e-16*I]\n",
       "[0.?e-17 + 0.?e-18*I 0.?e-17 + 0.?e-17*I 0.?e-16 + 0.?e-16*I 0.?e-16 + 0.?e-16*I]\n",
       "[0.?e-18 + 0.?e-18*I 0.?e-18 + 0.?e-18*I 0.?e-16 + 0.?e-16*I 0.?e-16 + 0.?e-16*I]"
      ]
     },
     "execution_count": 37,
     "metadata": {},
     "output_type": "execute_result"
    }
   ],
   "source": [
    "Q * R - A"
   ]
  },
  {
   "cell_type": "code",
   "execution_count": 38,
   "metadata": {},
   "outputs": [
    {
     "data": {
      "text/plain": [
       "[  0.3592106040535498?  -0.5693261797050169?   0.7239227659930268?   0.1509015305256380?]\n",
       "[ -0.1796053020267749?   0.1445907757980996?                     0   0.9730546968377341?]\n",
       "[ -0.1796053020267749?   0.7048800320157352?    0.672213996993525?  -0.1378927778941174?]\n",
       "[ -0.8980265101338745?  -0.3976246334447737?   0.1551263069985058? -0.10667177157846818?]"
      ]
     },
     "execution_count": 38,
     "metadata": {},
     "output_type": "execute_result"
    }
   ],
   "source": [
    "A = matrix(QQbar, [[2, -3, 3],\n",
    "                   [-1, 1, -1],\n",
    "                   [-1, 3, -3],\n",
    "                   [-5, 1, -1]])\n",
    "Q, R = A.QR()\n",
    "Q"
   ]
  },
  {
   "cell_type": "code",
   "execution_count": 39,
   "metadata": {},
   "outputs": [
    {
     "data": {
      "text/plain": [
       "[ 5.567764362830022? -2.694079530401624?  2.694079530401624?]\n",
       "[                  0  3.569584777515583? -3.569584777515583?]\n",
       "[                  0                   0                   0]\n",
       "[                  0                   0                   0]"
      ]
     },
     "execution_count": 39,
     "metadata": {},
     "output_type": "execute_result"
    }
   ],
   "source": [
    "R"
   ]
  },
  {
   "cell_type": "code",
   "execution_count": 40,
   "metadata": {},
   "outputs": [
    {
     "data": {
      "text/plain": [
       "[                 1            0.?e-18            0.?e-18            0.?e-18]\n",
       "[           0.?e-18                  1            0.?e-18            0.?e-18]\n",
       "[           0.?e-18            0.?e-18 1.000000000000000?            0.?e-18]\n",
       "[           0.?e-18            0.?e-18            0.?e-18 1.000000000000000?]"
      ]
     },
     "execution_count": 40,
     "metadata": {},
     "output_type": "execute_result"
    }
   ],
   "source": [
    "Q.conjugate_transpose() * Q"
   ]
  },
  {
   "cell_type": "code",
   "execution_count": 41,
   "metadata": {},
   "outputs": [
    {
     "data": {
      "text/plain": [
       "[ 0.3592106040535498? -0.5693261797050169?]\n",
       "[-0.1796053020267749?  0.1445907757980996?]\n",
       "[-0.1796053020267749?  0.7048800320157352?]\n",
       "[-0.8980265101338745? -0.3976246334447737?]"
      ]
     },
     "execution_count": 41,
     "metadata": {},
     "output_type": "execute_result"
    }
   ],
   "source": [
    "Q, R = A.QR(full = False)\n",
    "Q"
   ]
  },
  {
   "cell_type": "code",
   "execution_count": 42,
   "metadata": {},
   "outputs": [
    {
     "data": {
      "text/plain": [
       "[ 5.567764362830022? -2.694079530401624?  2.694079530401624?]\n",
       "[                  0  3.569584777515583? -3.569584777515583?]"
      ]
     },
     "execution_count": 42,
     "metadata": {},
     "output_type": "execute_result"
    }
   ],
   "source": [
    "R"
   ]
  },
  {
   "cell_type": "code",
   "execution_count": 43,
   "metadata": {},
   "outputs": [
    {
     "data": {
      "text/plain": [
       "[      1 0.?e-18]\n",
       "[0.?e-18       1]"
      ]
     },
     "execution_count": 43,
     "metadata": {},
     "output_type": "execute_result"
    }
   ],
   "source": [
    "Q.conjugate_transpose() * Q"
   ]
  },
  {
   "cell_type": "code",
   "execution_count": 44,
   "metadata": {},
   "outputs": [
    {
     "data": {
      "text/plain": [
       "[0 0 0]\n",
       "[0 0 0]\n",
       "[0 0 0]\n",
       "[0 0 0]"
      ]
     },
     "execution_count": 44,
     "metadata": {},
     "output_type": "execute_result"
    }
   ],
   "source": [
    "Q * R - A"
   ]
  },
  {
   "cell_type": "code",
   "execution_count": 45,
   "metadata": {},
   "outputs": [
    {
     "data": {
      "text/plain": [
       "(0, 0)"
      ]
     },
     "execution_count": 45,
     "metadata": {},
     "output_type": "execute_result"
    }
   ],
   "source": [
    "A = zero_matrix(QQbar, 0, 10)\n",
    "Q, R = A.QR()\n",
    "Q.nrows(), Q.ncols()"
   ]
  },
  {
   "cell_type": "code",
   "execution_count": 46,
   "metadata": {},
   "outputs": [
    {
     "data": {
      "text/plain": [
       "(0, 10)"
      ]
     },
     "execution_count": 46,
     "metadata": {},
     "output_type": "execute_result"
    }
   ],
   "source": [
    "R.nrows(), R.ncols()"
   ]
  },
  {
   "cell_type": "code",
   "execution_count": 47,
   "metadata": {},
   "outputs": [
    {
     "data": {
      "text/plain": [
       "(3, 3)"
      ]
     },
     "execution_count": 47,
     "metadata": {},
     "output_type": "execute_result"
    }
   ],
   "source": [
    "A = zero_matrix(QQbar, 3, 0)\n",
    "Q, R = A.QR()\n",
    "Q.nrows(), Q.ncols()"
   ]
  },
  {
   "cell_type": "code",
   "execution_count": 48,
   "metadata": {},
   "outputs": [
    {
     "data": {
      "text/plain": [
       "(3, 0)"
      ]
     },
     "execution_count": 48,
     "metadata": {},
     "output_type": "execute_result"
    }
   ],
   "source": [
    "R.nrows(), R.ncols()"
   ]
  },
  {
   "cell_type": "code",
   "execution_count": 49,
   "metadata": {},
   "outputs": [
    {
     "data": {
      "text/plain": [
       "[1 0 0]\n",
       "[0 1 0]\n",
       "[0 0 1]"
      ]
     },
     "execution_count": 49,
     "metadata": {},
     "output_type": "execute_result"
    }
   ],
   "source": [
    "Q"
   ]
  },
  {
   "cell_type": "code",
   "execution_count": 50,
   "metadata": {},
   "outputs": [
    {
     "data": {
      "text/plain": [
       "[ 0  5 10 15 20]\n",
       "[ 1  6 11 16 21]\n",
       "[ 2  7 12 17 22]\n",
       "[ 3  8 13 18 23]\n",
       "[ 4  9 14 19 24]"
      ]
     },
     "execution_count": 50,
     "metadata": {},
     "output_type": "execute_result"
    }
   ],
   "source": [
    "A = matrix(QQ, 5, range(25))\n",
    "A.T"
   ]
  },
  {
   "cell_type": "code",
   "execution_count": 51,
   "metadata": {},
   "outputs": [
    {
     "data": {
      "text/plain": [
       "[5 2]\n",
       "[3 4]"
      ]
     },
     "execution_count": 51,
     "metadata": {},
     "output_type": "execute_result"
    }
   ],
   "source": [
    "M = Matrix(ZZ, 2, 2, [5, 2, 3, 4]); M"
   ]
  },
  {
   "cell_type": "code",
   "execution_count": 52,
   "metadata": {},
   "outputs": [
    {
     "data": {
      "text/plain": [
       "[ 4 -2]\n",
       "[-3  5]"
      ]
     },
     "execution_count": 52,
     "metadata": {},
     "output_type": "execute_result"
    }
   ],
   "source": [
    "N = M.adjugate(); N"
   ]
  },
  {
   "cell_type": "code",
   "execution_count": 53,
   "metadata": {},
   "outputs": [
    {
     "data": {
      "text/plain": [
       "[14  0]\n",
       "[ 0 14]"
      ]
     },
     "execution_count": 53,
     "metadata": {},
     "output_type": "execute_result"
    }
   ],
   "source": [
    "M * N"
   ]
  },
  {
   "cell_type": "code",
   "execution_count": 54,
   "metadata": {},
   "outputs": [
    {
     "data": {
      "text/plain": [
       "[14  0]\n",
       "[ 0 14]"
      ]
     },
     "execution_count": 54,
     "metadata": {},
     "output_type": "execute_result"
    }
   ],
   "source": [
    "N * M"
   ]
  },
  {
   "cell_type": "code",
   "execution_count": 55,
   "metadata": {},
   "outputs": [
    {
     "data": {
      "text/plain": [
       "[  5/3  1/28]\n",
       "[33/13 41/10]"
      ]
     },
     "execution_count": 55,
     "metadata": {},
     "output_type": "execute_result"
    }
   ],
   "source": [
    "M = Matrix(QQ, 2, 2, [5/3, 2/56, 33/13, 41/10]); M"
   ]
  },
  {
   "cell_type": "code",
   "execution_count": 56,
   "metadata": {},
   "outputs": [
    {
     "data": {
      "text/plain": [
       "[ 41/10  -1/28]\n",
       "[-33/13    5/3]"
      ]
     },
     "execution_count": 56,
     "metadata": {},
     "output_type": "execute_result"
    }
   ],
   "source": [
    "N = M.adjugate(); N"
   ]
  },
  {
   "cell_type": "code",
   "execution_count": 57,
   "metadata": {},
   "outputs": [
    {
     "data": {
      "text/plain": [
       "[7363/1092         0]\n",
       "[        0 7363/1092]"
      ]
     },
     "execution_count": 57,
     "metadata": {},
     "output_type": "execute_result"
    }
   ],
   "source": [
    "M * N"
   ]
  },
  {
   "cell_type": "code",
   "execution_count": 58,
   "metadata": {},
   "outputs": [
    {
     "name": "stderr",
     "output_type": "stream",
     "text": [
      "/tmp/ipykernel_13380/2586619251.py:1: DeprecationWarning: adjoint is deprecated. Please use adjugate instead.\n",
      "See https://github.com/sagemath/sage/issues/10501 for details.\n",
      "  M.adjoint()\n"
     ]
    },
    {
     "data": {
      "text/plain": [
       "[ 41/10  -1/28]\n",
       "[-33/13    5/3]"
      ]
     },
     "execution_count": 58,
     "metadata": {},
     "output_type": "execute_result"
    }
   ],
   "source": [
    "M.adjoint()"
   ]
  },
  {
   "cell_type": "code",
   "execution_count": 59,
   "metadata": {},
   "outputs": [
    {
     "data": {
      "text/plain": [
       "[ 41/10  -1/28]\n",
       "[-33/13    5/3]"
      ]
     },
     "execution_count": 59,
     "metadata": {},
     "output_type": "execute_result"
    }
   ],
   "source": [
    "M.adjoint_classical()"
   ]
  },
  {
   "cell_type": "code",
   "execution_count": 60,
   "metadata": {},
   "outputs": [
    {
     "data": {
      "text/plain": [
       "[5 2]\n",
       "[3 4]"
      ]
     },
     "execution_count": 60,
     "metadata": {},
     "output_type": "execute_result"
    }
   ],
   "source": [
    "M = Matrix(ZZ, 2, 2, [5, 2, 3, 4]); M"
   ]
  },
  {
   "cell_type": "code",
   "execution_count": 61,
   "metadata": {},
   "outputs": [
    {
     "data": {
      "text/plain": [
       "[ 4 -2]\n",
       "[-3  5]"
      ]
     },
     "execution_count": 61,
     "metadata": {},
     "output_type": "execute_result"
    }
   ],
   "source": [
    "N = M.adjugate(); N"
   ]
  },
  {
   "cell_type": "code",
   "execution_count": 62,
   "metadata": {},
   "outputs": [
    {
     "data": {
      "text/plain": [
       "(\n",
       "[14  0]  [14  0]\n",
       "[ 0 14], [ 0 14]\n",
       ")"
      ]
     },
     "execution_count": 62,
     "metadata": {},
     "output_type": "execute_result"
    }
   ],
   "source": [
    "M * N, N * M"
   ]
  },
  {
   "cell_type": "code",
   "execution_count": 63,
   "metadata": {},
   "outputs": [
    {
     "data": {
      "text/plain": [
       "[0 1 2]\n",
       "[0 1 2]\n",
       "[0 1 2]"
      ]
     },
     "execution_count": 63,
     "metadata": {},
     "output_type": "execute_result"
    }
   ],
   "source": [
    "m = matrix(ZZ, 3, 3, range(9))\n",
    "k.<a> = GF(9)\n",
    "f = lambda x: k(x)\n",
    "n = m.apply_map(f); n"
   ]
  },
  {
   "cell_type": "code",
   "execution_count": 64,
   "metadata": {},
   "outputs": [
    {
     "data": {
      "text/plain": [
       "Full MatrixSpace of 3 by 3 dense matrices over Finite Field in a of size 3^2"
      ]
     },
     "execution_count": 64,
     "metadata": {},
     "output_type": "execute_result"
    }
   ],
   "source": [
    "n.parent()"
   ]
  },
  {
   "cell_type": "code",
   "execution_count": 65,
   "metadata": {},
   "outputs": [
    {
     "data": {
      "text/plain": [
       "(\n",
       "[0 1 2]                                                                              \n",
       "[0 1 2]                                                                              \n",
       "[0 1 2], Full MatrixSpace of 3 by 3 dense matrices over Finite Field in a of size 3^2\n",
       ")"
      ]
     },
     "execution_count": 65,
     "metadata": {},
     "output_type": "execute_result"
    }
   ],
   "source": [
    "s = GF(3)\n",
    "f = lambda x: s(x)\n",
    "n = m.apply_map(f, k)\n",
    "n, n.parent()"
   ]
  },
  {
   "cell_type": "code",
   "execution_count": 66,
   "metadata": {},
   "outputs": [
    {
     "data": {
      "text/plain": [
       "[0|1]\n",
       "[2|3]"
      ]
     },
     "execution_count": 66,
     "metadata": {},
     "output_type": "execute_result"
    }
   ],
   "source": [
    "m = matrix(2, 2, srange(4))\n",
    "m.subdivide(None, 1); m"
   ]
  },
  {
   "cell_type": "code",
   "execution_count": 67,
   "metadata": {},
   "outputs": [
    {
     "data": {
      "text/plain": [
       "[0|1]\n",
       "[4|9]"
      ]
     },
     "execution_count": 67,
     "metadata": {},
     "output_type": "execute_result"
    }
   ],
   "source": [
    "m.apply_map(lambda x: x*x)"
   ]
  },
  {
   "cell_type": "code",
   "execution_count": 68,
   "metadata": {},
   "outputs": [
    {
     "data": {
      "text/plain": [
       "[0 1 2]\n",
       "[3 4 0]\n",
       "[1 2 3]"
      ]
     },
     "execution_count": 68,
     "metadata": {},
     "output_type": "execute_result"
    }
   ],
   "source": [
    "m = matrix(ZZ, 3, 3, range(9))\n",
    "phi = ZZ.hom(GF(5))\n",
    "m.apply_morphism(phi)"
   ]
  },
  {
   "cell_type": "code",
   "execution_count": 69,
   "metadata": {},
   "outputs": [
    {
     "data": {
      "text/plain": [
       "Full MatrixSpace of 3 by 3 dense matrices over Finite Field of size 5"
      ]
     },
     "execution_count": 69,
     "metadata": {},
     "output_type": "execute_result"
    }
   ],
   "source": [
    "parent(m.apply_morphism(phi))"
   ]
  },
  {
   "cell_type": "code",
   "execution_count": 70,
   "metadata": {},
   "outputs": [
    {
     "data": {
      "text/plain": [
       "[          x     x^2 + y]\n",
       "[2/3*y^2 - x           x]"
      ]
     },
     "execution_count": 70,
     "metadata": {},
     "output_type": "execute_result"
    }
   ],
   "source": [
    "R.<x, y> = QQ[]\n",
    "m = matrix(2, [x, x^2 + y, 2/3 * y^2-x, x]); m"
   ]
  },
  {
   "cell_type": "code",
   "execution_count": 71,
   "metadata": {},
   "outputs": [
    {
     "data": {
      "text/plain": [
       "[          y     y^2 + x]\n",
       "[2/3*x^2 - y           y]"
      ]
     },
     "execution_count": 71,
     "metadata": {},
     "output_type": "execute_result"
    }
   ],
   "source": [
    "phi = R.hom([y, x])\n",
    "m.apply_morphism(phi)"
   ]
  },
  {
   "cell_type": "code",
   "execution_count": 73,
   "metadata": {},
   "outputs": [
    {
     "name": "stdout",
     "output_type": "stream",
     "text": [
      "2*B[[1, 4, 2, 3, 5]] + 3*B[[3, 1, 4, 2, 5]] + 9*B[[4, 1, 3, 5, 2]] + 6*B[[5, 3, 4, 1, 2]]\n"
     ]
    },
    {
     "ename": "ValueError",
     "evalue": "The matrix is not bistochastic",
     "output_type": "error",
     "traceback": [
      "\u001b[0;31m---------------------------------------------------------------------------\u001b[0m",
      "\u001b[0;31mValueError\u001b[0m                                Traceback (most recent call last)",
      "\u001b[1;32m/home/george/Επιφάνεια/Jupyter files/base_class_for_matrices.ipynb Cell 72\u001b[0m line \u001b[0;36m1\n\u001b[1;32m     <a href='vscode-notebook-cell:/home/george/%CE%95%CF%80%CE%B9%CF%86%CE%AC%CE%BD%CE%B5%CE%B9%CE%B1/Jupyter%20files/base_class_for_matrices.ipynb#Y223sZmlsZQ%3D%3D?line=9'>10</a>\u001b[0m \u001b[39mprint\u001b[39m(decomp)\n\u001b[1;32m     <a href='vscode-notebook-cell:/home/george/%CE%95%CF%80%CE%B9%CF%86%CE%AC%CE%BD%CE%B5%CE%B9%CE%B1/Jupyter%20files/base_class_for_matrices.ipynb#Y223sZmlsZQ%3D%3D?line=11'>12</a>\u001b[0m M \u001b[39m=\u001b[39m Matrix([[Integer(\u001b[39m2\u001b[39m), Integer(\u001b[39m3\u001b[39m)],[Integer(\u001b[39m2\u001b[39m), Integer(\u001b[39m2\u001b[39m)]])\n\u001b[0;32m---> <a href='vscode-notebook-cell:/home/george/%CE%95%CF%80%CE%B9%CF%86%CE%AC%CE%BD%CE%B5%CE%B9%CE%B1/Jupyter%20files/base_class_for_matrices.ipynb#Y223sZmlsZQ%3D%3D?line=12'>13</a>\u001b[0m decomp \u001b[39m=\u001b[39m bistochastic_as_sum_of_permutations(M)\n",
      "File \u001b[0;32m~/mambaforge/envs/sage/lib/python3.9/site-packages/sage/combinat/permutation.py:7891\u001b[0m, in \u001b[0;36mbistochastic_as_sum_of_permutations\u001b[0;34m(M, check)\u001b[0m\n\u001b[1;32m   7888\u001b[0m     \u001b[39mraise\u001b[39;00m \u001b[39mValueError\u001b[39;00m(\u001b[39m\"\u001b[39m\u001b[39mThe matrix should have nonnegative entries\u001b[39m\u001b[39m\"\u001b[39m)\n\u001b[1;32m   7890\u001b[0m \u001b[39mif\u001b[39;00m check \u001b[39mand\u001b[39;00m \u001b[39mnot\u001b[39;00m M\u001b[39m.\u001b[39mis_bistochastic(normalized \u001b[39m=\u001b[39m \u001b[39mFalse\u001b[39;00m):\n\u001b[0;32m-> 7891\u001b[0m     \u001b[39mraise\u001b[39;00m \u001b[39mValueError\u001b[39;00m(\u001b[39m\"\u001b[39m\u001b[39mThe matrix is not bistochastic\u001b[39m\u001b[39m\"\u001b[39m)\n\u001b[1;32m   7893\u001b[0m \u001b[39mif\u001b[39;00m \u001b[39mnot\u001b[39;00m RR\u001b[39m.\u001b[39mhas_coerce_map_from(M\u001b[39m.\u001b[39mbase_ring()):\n\u001b[1;32m   7894\u001b[0m     \u001b[39mraise\u001b[39;00m \u001b[39mValueError\u001b[39;00m(\u001b[39m\"\u001b[39m\u001b[39mThe base ring of the matrix must have a coercion map to RR\u001b[39m\u001b[39m\"\u001b[39m)\n",
      "\u001b[0;31mValueError\u001b[0m: The matrix is not bistochastic"
     ]
    }
   ],
   "source": [
    "L = []\n",
    "L.append((9, Permutation([4, 1, 3, 5, 2])))\n",
    "L.append((6, Permutation([5, 3, 4, 1, 2])))\n",
    "L.append((3, Permutation([3, 1, 4, 2, 5])))\n",
    "L.append((2, Permutation([1, 4, 2, 3, 5])))\n",
    "M = sum([c * p.to_matrix() for c, p in L])\n",
    "\n",
    "from sage.combinat.permutation import bistochastic_as_sum_of_permutations\n",
    "decomp = bistochastic_as_sum_of_permutations(M)\n",
    "print(decomp)\n",
    "\n",
    "M = Matrix([[2, 3],[2, 2]])\n",
    "decomp = bistochastic_as_sum_of_permutations(M)"
   ]
  },
  {
   "cell_type": "code",
   "execution_count": 74,
   "metadata": {},
   "outputs": [
    {
     "data": {
      "text/plain": [
       "[1 0]\n",
       "[1 0]\n",
       "[0 1]"
      ]
     },
     "execution_count": 74,
     "metadata": {},
     "output_type": "execute_result"
    }
   ],
   "source": [
    "M = matrix(ZZ, [[1, 0], [1, 0], [0, 1]]); M"
   ]
  },
  {
   "cell_type": "code",
   "execution_count": 75,
   "metadata": {},
   "outputs": [
    {
     "data": {
      "text/plain": [
       "[((), ()), ((1,2), ())]"
      ]
     },
     "execution_count": 75,
     "metadata": {},
     "output_type": "execute_result"
    }
   ],
   "source": [
    "A = M.automorphisms_of_rows_and_columns(); A"
   ]
  },
  {
   "cell_type": "code",
   "execution_count": 2,
   "metadata": {},
   "outputs": [
    {
     "data": {
      "text/plain": [
       "([((), ()),\n",
       "  ((), (1,2)(3,4)),\n",
       "  ((), (1,3)(2,4)),\n",
       "  ((), (1,4)(2,3)),\n",
       "  ((), (2,3,4)),\n",
       "  ((), (1,2,4)),\n",
       "  ((), (1,3,2)),\n",
       "  ((), (1,4,3)),\n",
       "  ((), (2,4,3)),\n",
       "  ((), (1,2,3)),\n",
       "  ((), (1,3,4)),\n",
       "  ((), (1,4,2)),\n",
       "  ((), (3,4)),\n",
       "  ((), (1,2)),\n",
       "  ((), (1,3,2,4)),\n",
       "  ((), (1,4,2,3)),\n",
       "  ((), (2,3)),\n",
       "  ((), (1,2,4,3)),\n",
       "  ((), (1,3,4,2)),\n",
       "  ((), (1,4)),\n",
       "  ((), (2,4)),\n",
       "  ((), (1,2,3,4)),\n",
       "  ((), (1,3)),\n",
       "  ((), (1,4,3,2)),\n",
       "  ((1,2), ()),\n",
       "  ((1,2), (1,2)(3,4)),\n",
       "  ((1,2), (1,3)(2,4)),\n",
       "  ((1,2), (1,4)(2,3)),\n",
       "  ((1,2), (2,3,4)),\n",
       "  ((1,2), (1,2,4)),\n",
       "  ((1,2), (1,3,2)),\n",
       "  ((1,2), (1,4,3)),\n",
       "  ((1,2), (2,4,3)),\n",
       "  ((1,2), (1,2,3)),\n",
       "  ((1,2), (1,3,4)),\n",
       "  ((1,2), (1,4,2)),\n",
       "  ((1,2), (3,4)),\n",
       "  ((1,2), (1,2)),\n",
       "  ((1,2), (1,3,2,4)),\n",
       "  ((1,2), (1,4,2,3)),\n",
       "  ((1,2), (2,3)),\n",
       "  ((1,2), (1,2,4,3)),\n",
       "  ((1,2), (1,3,4,2)),\n",
       "  ((1,2), (1,4)),\n",
       "  ((1,2), (2,4)),\n",
       "  ((1,2), (1,2,3,4)),\n",
       "  ((1,2), (1,3)),\n",
       "  ((1,2), (1,4,3,2))],\n",
       " 48)"
      ]
     },
     "execution_count": 2,
     "metadata": {},
     "output_type": "execute_result"
    }
   ],
   "source": [
    "M = matrix(ZZ, [[1, 1, 1, 1], [1, 1, 1, 1]])\n",
    "A = M.automorphisms_of_rows_and_columns()\n",
    "A, len(A)"
   ]
  },
  {
   "cell_type": "code",
   "execution_count": 3,
   "metadata": {},
   "outputs": [
    {
     "data": {
      "text/plain": [
       "True"
      ]
     },
     "execution_count": 3,
     "metadata": {},
     "output_type": "execute_result"
    }
   ],
   "source": [
    "all(M.with_permuted_rows_and_columns(*i) == M for i in A)"
   ]
  },
  {
   "cell_type": "code",
   "execution_count": 4,
   "metadata": {},
   "outputs": [
    {
     "data": {
      "text/plain": [
       "[0 0 1]\n",
       "[1 0 0]\n",
       "[0 1 0]"
      ]
     },
     "execution_count": 4,
     "metadata": {},
     "output_type": "execute_result"
    }
   ],
   "source": [
    "A = matrix(QQ, [[0, 1, 0], [1, 1, 2], [0, 2, 0]])\n",
    "P, L, D = A.block_ldlt()\n",
    "P"
   ]
  },
  {
   "cell_type": "code",
   "execution_count": 5,
   "metadata": {},
   "outputs": [
    {
     "data": {
      "text/plain": [
       "[  1   0   0]\n",
       "[  2   1   0]\n",
       "[  1 1/2   1]"
      ]
     },
     "execution_count": 5,
     "metadata": {},
     "output_type": "execute_result"
    }
   ],
   "source": [
    "L"
   ]
  },
  {
   "cell_type": "code",
   "execution_count": 8,
   "metadata": {},
   "outputs": [
    {
     "data": {
      "text/plain": [
       "(\n",
       "[ 1| 0| 0]      \n",
       "[--+--+--]      \n",
       "[ 0|-4| 0]      \n",
       "[--+--+--]      \n",
       "[ 0| 0| 0], True\n",
       ")"
      ]
     },
     "execution_count": 8,
     "metadata": {},
     "output_type": "execute_result"
    }
   ],
   "source": [
    "D, P.transpose() * A * P == L * D * L.transpose()"
   ]
  },
  {
   "cell_type": "code",
   "execution_count": 10,
   "metadata": {},
   "outputs": [
    {
     "ename": "ValueError",
     "evalue": "matrix has no classical LDL^T factorization",
     "output_type": "error",
     "traceback": [
      "\u001b[0;31m---------------------------------------------------------------------------\u001b[0m",
      "\u001b[0;31mZeroDivisionError\u001b[0m                         Traceback (most recent call last)",
      "File \u001b[0;32m~/mambaforge/envs/sage/lib/python3.9/site-packages/sage/matrix/matrix2.pyx:13997\u001b[0m, in \u001b[0;36msage.matrix.matrix2.Matrix._block_ldlt (build/cythonized/sage/matrix/matrix2.c:91863)\u001b[0;34m()\u001b[0m\n\u001b[1;32m  13996\u001b[0m d.append( one_by_one_space(A_kk) )\n\u001b[0;32m> 13997\u001b[0m _block_ldlt_pivot1x1(A,k)\n\u001b[1;32m  13998\u001b[0m k += 1\n",
      "File \u001b[0;32m~/mambaforge/envs/sage/lib/python3.9/site-packages/sage/matrix/matrix2.pyx:18271\u001b[0m, in \u001b[0;36msage.matrix.matrix2._block_ldlt_pivot1x1 (build/cythonized/sage/matrix/matrix2.c:121256)\u001b[0;34m()\u001b[0m\n\u001b[1;32m  18270\u001b[0m              ( A.get_unsafe(k+1+i,k+1+j) -\n\u001b[0;32m> 18271\u001b[0m                A.get_unsafe(k+1+i,k)*A.get_unsafe(k,k+1+j)/pivot ))\n\u001b[1;32m  18272\u001b[0m A.set_unsafe(k+1+j,\n",
      "File \u001b[0;32m~/mambaforge/envs/sage/lib/python3.9/site-packages/sage/rings/rational.pyx:2451\u001b[0m, in \u001b[0;36msage.rings.rational.Rational.__truediv__ (build/cythonized/sage/rings/rational.cpp:21455)\u001b[0;34m()\u001b[0m\n\u001b[1;32m   2450\u001b[0m if mpq_cmp_si((<Rational> right).value, 0, 1) == 0:\n\u001b[0;32m-> 2451\u001b[0m     raise ZeroDivisionError('rational division by zero')\n\u001b[1;32m   2452\u001b[0m x = <Rational> Rational.__new__(Rational)\n",
      "\u001b[0;31mZeroDivisionError\u001b[0m: rational division by zero",
      "\nDuring handling of the above exception, another exception occurred:\n",
      "\u001b[0;31mValueError\u001b[0m                                Traceback (most recent call last)",
      "Cell \u001b[0;32mIn[10], line 2\u001b[0m\n\u001b[1;32m      1\u001b[0m A \u001b[38;5;241m=\u001b[39m matrix(QQ, [[Integer(\u001b[38;5;241m0\u001b[39m), Integer(\u001b[38;5;241m1\u001b[39m)], [Integer(\u001b[38;5;241m1\u001b[39m), Integer(\u001b[38;5;241m0\u001b[39m)]])\n\u001b[0;32m----> 2\u001b[0m \u001b[43mA\u001b[49m\u001b[38;5;241;43m.\u001b[39;49m\u001b[43mblock_ldlt\u001b[49m\u001b[43m(\u001b[49m\u001b[43mclassical\u001b[49m\u001b[43m \u001b[49m\u001b[38;5;241;43m=\u001b[39;49m\u001b[43m \u001b[49m\u001b[38;5;28;43;01mTrue\u001b[39;49;00m\u001b[43m)\u001b[49m\n",
      "File \u001b[0;32m~/mambaforge/envs/sage/lib/python3.9/site-packages/sage/matrix/matrix2.pyx:14443\u001b[0m, in \u001b[0;36msage.matrix.matrix2.Matrix.block_ldlt (build/cythonized/sage/matrix/matrix2.c:93238)\u001b[0;34m()\u001b[0m\n\u001b[1;32m  14441\u001b[0m cdef Matrix P,L,D    # output matrices\n\u001b[1;32m  14442\u001b[0m \n\u001b[0;32m> 14443\u001b[0m p,L,d = self._block_ldlt(classical)\n\u001b[1;32m  14444\u001b[0m MS = L.matrix_space()\n\u001b[1;32m  14445\u001b[0m P = MS.matrix(lambda i,j: p[j] == i)\n",
      "File \u001b[0;32m~/mambaforge/envs/sage/lib/python3.9/site-packages/sage/matrix/matrix2.pyx:14001\u001b[0m, in \u001b[0;36msage.matrix.matrix2.Matrix._block_ldlt (build/cythonized/sage/matrix/matrix2.c:91924)\u001b[0;34m()\u001b[0m\n\u001b[1;32m  13999\u001b[0m         continue\n\u001b[1;32m  14000\u001b[0m     except ZeroDivisionError:\n\u001b[0;32m> 14001\u001b[0m         raise ValueError(\"matrix has no classical LDL^T factorization\")\n\u001b[1;32m  14002\u001b[0m \n\u001b[1;32m  14003\u001b[0m # Find the largest subdiagonal entry (in magnitude) in the\n",
      "\u001b[0;31mValueError\u001b[0m: matrix has no classical LDL^T factorization"
     ]
    }
   ],
   "source": [
    "A = matrix(QQ, [[0, 1], [1, 0]])\n",
    "A.block_ldlt(classical = True)"
   ]
  },
  {
   "cell_type": "code",
   "execution_count": 11,
   "metadata": {},
   "outputs": [
    {
     "data": {
      "text/plain": [
       "(\n",
       "[1 0]  [1 0]  [0 1]\n",
       "[0 1], [0 1], [1 0]\n",
       ")"
      ]
     },
     "execution_count": 11,
     "metadata": {},
     "output_type": "execute_result"
    }
   ],
   "source": [
    "A.block_ldlt()"
   ]
  },
  {
   "cell_type": "code",
   "execution_count": 12,
   "metadata": {},
   "outputs": [
    {
     "ename": "ValueError",
     "evalue": "matrix has no classical LDL^T factorization",
     "output_type": "error",
     "traceback": [
      "\u001b[0;31m---------------------------------------------------------------------------\u001b[0m",
      "\u001b[0;31mZeroDivisionError\u001b[0m                         Traceback (most recent call last)",
      "File \u001b[0;32m~/mambaforge/envs/sage/lib/python3.9/site-packages/sage/matrix/matrix2.pyx:13997\u001b[0m, in \u001b[0;36msage.matrix.matrix2.Matrix._block_ldlt (build/cythonized/sage/matrix/matrix2.c:91863)\u001b[0;34m()\u001b[0m\n\u001b[1;32m  13996\u001b[0m d.append( one_by_one_space(A_kk) )\n\u001b[0;32m> 13997\u001b[0m _block_ldlt_pivot1x1(A,k)\n\u001b[1;32m  13998\u001b[0m k += 1\n",
      "File \u001b[0;32m~/mambaforge/envs/sage/lib/python3.9/site-packages/sage/matrix/matrix2.pyx:18271\u001b[0m, in \u001b[0;36msage.matrix.matrix2._block_ldlt_pivot1x1 (build/cythonized/sage/matrix/matrix2.c:121256)\u001b[0;34m()\u001b[0m\n\u001b[1;32m  18270\u001b[0m              ( A.get_unsafe(k+1+i,k+1+j) -\n\u001b[0;32m> 18271\u001b[0m                A.get_unsafe(k+1+i,k)*A.get_unsafe(k,k+1+j)/pivot ))\n\u001b[1;32m  18272\u001b[0m A.set_unsafe(k+1+j,\n",
      "File \u001b[0;32m~/mambaforge/envs/sage/lib/python3.9/site-packages/sage/structure/element.pyx:1737\u001b[0m, in \u001b[0;36msage.structure.element.Element.__truediv__ (build/cythonized/sage/structure/element.c:13344)\u001b[0;34m()\u001b[0m\n\u001b[1;32m   1736\u001b[0m if HAVE_SAME_PARENT(cl):\n\u001b[0;32m-> 1737\u001b[0m     return (<Element>left)._div_(right)\n\u001b[1;32m   1738\u001b[0m if BOTH_ARE_ELEMENT(cl):\n",
      "File \u001b[0;32m~/mambaforge/envs/sage/lib/python3.9/site-packages/sage/structure/element.pyx:2742\u001b[0m, in \u001b[0;36msage.structure.element.RingElement._div_ (build/cythonized/sage/structure/element.c:19305)\u001b[0;34m()\u001b[0m\n\u001b[1;32m   2741\u001b[0m \n\u001b[0;32m-> 2742\u001b[0m     cpdef _div_(self, other):\n\u001b[1;32m   2743\u001b[0m         \"\"\"\n",
      "File \u001b[0;32m~/mambaforge/envs/sage/lib/python3.9/site-packages/sage/rings/qqbar.py:3835\u001b[0m, in \u001b[0;36mAlgebraicNumber_base._div_\u001b[0;34m(self, other)\u001b[0m\n\u001b[1;32m   3834\u001b[0m \u001b[38;5;28;01mif\u001b[39;00m \u001b[38;5;129;01mnot\u001b[39;00m other:\n\u001b[0;32m-> 3835\u001b[0m     \u001b[38;5;28;01mraise\u001b[39;00m \u001b[38;5;167;01mZeroDivisionError\u001b[39;00m(\u001b[38;5;124m\"\u001b[39m\u001b[38;5;124mdivision by zero in algebraic field\u001b[39m\u001b[38;5;124m\"\u001b[39m)\n\u001b[1;32m   3836\u001b[0m sk \u001b[38;5;241m=\u001b[39m \u001b[38;5;28mtype\u001b[39m(\u001b[38;5;28mself\u001b[39m\u001b[38;5;241m.\u001b[39m_descr)\n",
      "\u001b[0;31mZeroDivisionError\u001b[0m: division by zero in algebraic field",
      "\nDuring handling of the above exception, another exception occurred:\n",
      "\u001b[0;31mValueError\u001b[0m                                Traceback (most recent call last)",
      "Cell \u001b[0;32mIn[12], line 2\u001b[0m\n\u001b[1;32m      1\u001b[0m A \u001b[38;5;241m=\u001b[39m matrix(QQbar, [[Integer(\u001b[38;5;241m0\u001b[39m), I], [\u001b[38;5;241m-\u001b[39mI, Integer(\u001b[38;5;241m0\u001b[39m)]])\n\u001b[0;32m----> 2\u001b[0m \u001b[43mA\u001b[49m\u001b[38;5;241;43m.\u001b[39;49m\u001b[43mblock_ldlt\u001b[49m\u001b[43m(\u001b[49m\u001b[43mclassical\u001b[49m\u001b[43m \u001b[49m\u001b[38;5;241;43m=\u001b[39;49m\u001b[43m \u001b[49m\u001b[38;5;28;43;01mTrue\u001b[39;49;00m\u001b[43m)\u001b[49m\n",
      "File \u001b[0;32m~/mambaforge/envs/sage/lib/python3.9/site-packages/sage/matrix/matrix2.pyx:14443\u001b[0m, in \u001b[0;36msage.matrix.matrix2.Matrix.block_ldlt (build/cythonized/sage/matrix/matrix2.c:93238)\u001b[0;34m()\u001b[0m\n\u001b[1;32m  14441\u001b[0m cdef Matrix P,L,D    # output matrices\n\u001b[1;32m  14442\u001b[0m \n\u001b[0;32m> 14443\u001b[0m p,L,d = self._block_ldlt(classical)\n\u001b[1;32m  14444\u001b[0m MS = L.matrix_space()\n\u001b[1;32m  14445\u001b[0m P = MS.matrix(lambda i,j: p[j] == i)\n",
      "File \u001b[0;32m~/mambaforge/envs/sage/lib/python3.9/site-packages/sage/matrix/matrix2.pyx:14001\u001b[0m, in \u001b[0;36msage.matrix.matrix2.Matrix._block_ldlt (build/cythonized/sage/matrix/matrix2.c:91924)\u001b[0;34m()\u001b[0m\n\u001b[1;32m  13999\u001b[0m         continue\n\u001b[1;32m  14000\u001b[0m     except ZeroDivisionError:\n\u001b[0;32m> 14001\u001b[0m         raise ValueError(\"matrix has no classical LDL^T factorization\")\n\u001b[1;32m  14002\u001b[0m \n\u001b[1;32m  14003\u001b[0m # Find the largest subdiagonal entry (in magnitude) in the\n",
      "\u001b[0;31mValueError\u001b[0m: matrix has no classical LDL^T factorization"
     ]
    }
   ],
   "source": [
    "A = matrix(QQbar, [[0, I], [-I, 0]])\n",
    "A.block_ldlt(classical = True)"
   ]
  },
  {
   "cell_type": "code",
   "execution_count": 13,
   "metadata": {},
   "outputs": [
    {
     "data": {
      "text/plain": [
       "(\n",
       "[1 0]  [1 0]  [ 0  I]\n",
       "[0 1], [0 1], [-I  0]\n",
       ")"
      ]
     },
     "execution_count": 13,
     "metadata": {},
     "output_type": "execute_result"
    }
   ],
   "source": [
    "A.block_ldlt()"
   ]
  },
  {
   "cell_type": "code",
   "execution_count": 16,
   "metadata": {},
   "outputs": [
    {
     "data": {
      "text/plain": [
       "(False, True)"
      ]
     },
     "execution_count": 16,
     "metadata": {},
     "output_type": "execute_result"
    }
   ],
   "source": [
    "A = matrix(CDF, 2, 2, [ [-1.1933, -0.3185 - 1.3553*I],\n",
    "                        [-0.3185 + 1.3553*I, 1.5729 ] ])\n",
    "P, L, D = A.block_ldlt()\n",
    "P.T * A * P == L * D * L.H, (P.T * A * P - L * D * L.H).norm() < 1e-10"
   ]
  },
  {
   "cell_type": "code",
   "execution_count": 17,
   "metadata": {},
   "outputs": [
    {
     "data": {
      "text/plain": [
       "(\n",
       "                  [ 3| 0| 0| 0| 0]\n",
       "                  [--+--+--+--+--]\n",
       "                  [ 0|-1| 0| 0| 0]\n",
       "                  [--+--+--+--+--]\n",
       "[ 1  0  0  0  0]  [ 0| 0| 5| 0| 0]\n",
       "[-2  1  0  0  0]  [--+--+--+--+--]\n",
       "[ 3 -2  1  0  0]  [ 0| 0| 0|-2| 0]\n",
       "[ 2 -1  0  1  0]  [--+--+--+--+--]\n",
       "[-3  1 -3  1  1], [ 0| 0| 0| 0|-1]\n",
       ")"
      ]
     },
     "execution_count": 17,
     "metadata": {},
     "output_type": "execute_result"
    }
   ],
   "source": [
    "A = matrix(QQ, [[ 3, -6,  9,  6, -9],\n",
    "                [-6, 11, -16, -11, 17],\n",
    "                [ 9, -16, 28, 16, -40],\n",
    "                [ 6, -11, 16, 9, -19],\n",
    "                [-9, 17, -40, -19, 68]])\n",
    "A.block_ldlt(classical = True)[1:]"
   ]
  },
  {
   "cell_type": "code",
   "execution_count": 18,
   "metadata": {},
   "outputs": [
    {
     "data": {
      "text/plain": [
       "(\n",
       "[1 2]               \n",
       "[3 4], T^2 - 5*T - 2\n",
       ")"
      ]
     },
     "execution_count": 18,
     "metadata": {},
     "output_type": "execute_result"
    }
   ],
   "source": [
    "a = matrix(QQ, 2, 2, [1, 2, 3, 4])\n",
    "a, a.characteristic_polynomial('T')"
   ]
  },
  {
   "cell_type": "code",
   "execution_count": 19,
   "metadata": {},
   "outputs": [
    {
     "data": {
      "text/plain": [
       "(\n",
       "x^2 - 5*x - 2, Univariate Polynomial Ring in x over Integer Ring,\n",
       "\n",
       "[0 0]\n",
       "[0 0]\n",
       ")"
      ]
     },
     "execution_count": 19,
     "metadata": {},
     "output_type": "execute_result"
    }
   ],
   "source": [
    "A = MatrixSpace(ZZ, 2)([1,2, 3,4])\n",
    "f = A.charpoly('x')\n",
    "f, f.parent(), f(A)"
   ]
  },
  {
   "cell_type": "code",
   "execution_count": 20,
   "metadata": {},
   "outputs": [
    {
     "data": {
      "text/plain": [
       "(x^3 - 12*x^2 - 18*x, 12, 0)"
      ]
     },
     "execution_count": 20,
     "metadata": {},
     "output_type": "execute_result"
    }
   ],
   "source": [
    "A = MatrixSpace(QQ, 3)(range(9))\n",
    "A.charpoly('x'), A.trace(), A.determinant()"
   ]
  },
  {
   "cell_type": "code",
   "execution_count": 23,
   "metadata": {},
   "outputs": [
    {
     "data": {
      "text/plain": [
       "[    a     1]\n",
       "[    a a + 1]"
      ]
     },
     "execution_count": 23,
     "metadata": {},
     "output_type": "execute_result"
    }
   ],
   "source": [
    "R.<a> = PolynomialRing(ZZ)\n",
    "M = MatrixSpace(R, 2)([a,1, a,a+1]); M"
   ]
  },
  {
   "cell_type": "code",
   "execution_count": null,
   "metadata": {},
   "outputs": [],
   "source": [
    "f = M.charpoly('x')\n",
    "f, f.parent(), M.trace(), M.determinant()"
   ]
  },
  {
   "cell_type": "code",
   "execution_count": 25,
   "metadata": {},
   "outputs": [
    {
     "name": "stdout",
     "output_type": "stream",
     "text": [
      "Z^2 + (-y^2 - x)*Z - x^2*y + x*y^2\n"
     ]
    }
   ],
   "source": [
    "R.<x, y>  = PolynomialRing(ZZ, 2)\n",
    "A = MatrixSpace(R, 2)([x, y, x^2, y^2])\n",
    "f = A.charpoly('x');\n",
    "with localvars(f.parent(), 'Z'): print(f)"
   ]
  },
  {
   "cell_type": "code",
   "execution_count": 26,
   "metadata": {},
   "outputs": [
    {
     "data": {
      "text/plain": [
       "Z^2 + (-y^2 - x)*Z - x^2*y + x*y^2"
      ]
     },
     "execution_count": 26,
     "metadata": {},
     "output_type": "execute_result"
    }
   ],
   "source": [
    "A.charpoly('Z')"
   ]
  },
  {
   "cell_type": "code",
   "execution_count": 27,
   "metadata": {},
   "outputs": [
    {
     "data": {
      "text/plain": [
       "(\n",
       "[ x*y^2    2*y]                                 \n",
       "[     2 x^10*y], T^2 + (-x^10*y - x*y^2)*T - 4*y\n",
       ")"
      ]
     },
     "execution_count": 27,
     "metadata": {},
     "output_type": "execute_result"
    }
   ],
   "source": [
    "R.<a, b> = QQ[]\n",
    "S.<x, y> = R.quo((b^3))\n",
    "A = matrix(S, [[x*y^2, 2*y], [2, x^10*y]])\n",
    "A, A.charpoly('T')"
   ]
  },
  {
   "cell_type": "code",
   "execution_count": 28,
   "metadata": {},
   "outputs": [
    {
     "data": {
      "text/plain": [
       "True"
      ]
     },
     "execution_count": 28,
     "metadata": {},
     "output_type": "execute_result"
    }
   ],
   "source": [
    "A = matrix(QQ, [[ 4, -2, 4, 2],\n",
    "                [-2, 10, -2, -7],\n",
    "                [ 4, -2, 8, 4],\n",
    "                [ 2, -7, 4, 7]])\n",
    "A.is_symmetric()"
   ]
  },
  {
   "cell_type": "code",
   "execution_count": 29,
   "metadata": {},
   "outputs": [
    {
     "data": {
      "text/plain": [
       "(\n",
       "[ 2  0  0  0]\n",
       "[-1  3  0  0]\n",
       "[ 2  0  2  0]\n",
       "[ 1 -2  1  1],\n",
       "\n",
       "Full MatrixSpace of 4 by 4 dense matrices over Rational Field, True\n",
       ")"
      ]
     },
     "execution_count": 29,
     "metadata": {},
     "output_type": "execute_result"
    }
   ],
   "source": [
    "L = A.cholesky()\n",
    "L, L.parent(), L*L.transpose() == A"
   ]
  },
  {
   "cell_type": "code",
   "execution_count": 33,
   "metadata": {},
   "outputs": [
    {
     "data": {
      "text/plain": [
       "True"
      ]
     },
     "execution_count": 33,
     "metadata": {},
     "output_type": "execute_result"
    }
   ],
   "source": [
    "A = matrix(ZZ, [[ 78, -30, -37,  -2],\n",
    "                [-30, 102, 179, -18],\n",
    "                [-37, 179, 326, -38],\n",
    "                [ -2, -18, -38,  15]])\n",
    "A.is_symmetric()"
   ]
  },
  {
   "cell_type": "code",
   "execution_count": 34,
   "metadata": {},
   "outputs": [
    {
     "data": {
      "text/plain": [
       "(\n",
       "[   8.83176086632785?                    0                    0                    0]\n",
       "[ -3.396831102433787?    9.51112708681461?                    0                    0]\n",
       "[ -4.189425026335004?   17.32383862241232?   2.886751345948129?                    0]\n",
       "[-0.2264554068289192?  -1.973397116652010?  -1.649572197684645?   2.886751345948129?],\n",
       "\n",
       "Full MatrixSpace of 4 by 4 dense matrices over Algebraic Real Field,\n",
       "\n",
       "True\n",
       ")"
      ]
     },
     "execution_count": 34,
     "metadata": {},
     "output_type": "execute_result"
    }
   ],
   "source": [
    "L = A.cholesky()\n",
    "L, L.parent(), L*L.transpose() == A"
   ]
  },
  {
   "cell_type": "code",
   "execution_count": 35,
   "metadata": {},
   "outputs": [
    {
     "data": {
      "text/plain": [
       "True"
      ]
     },
     "execution_count": 35,
     "metadata": {},
     "output_type": "execute_result"
    }
   ],
   "source": [
    "A = matrix(QQbar, [[        2,   4 + 2*I,   6 - 4*I],\n",
    "                   [ -2*I + 4,        11, 10 - 12*I],\n",
    "                   [  4*I + 6, 10 + 12*I,        37]])\n",
    "A.is_hermitian()"
   ]
  },
  {
   "cell_type": "code",
   "execution_count": 37,
   "metadata": {},
   "outputs": [
    {
     "data": {
      "text/plain": [
       "(\n",
       "[                       1.414213562373095?                                         0                                         0]\n",
       "[2.828427124746190? - 1.414213562373095?*I                                         1                                         0]\n",
       "[4.242640687119285? + 2.828427124746190?*I                                  -2*I + 2                        1.732050807568878?],\n",
       "\n",
       "Full MatrixSpace of 3 by 3 dense matrices over Algebraic Field, True\n",
       ")"
      ]
     },
     "execution_count": 37,
     "metadata": {},
     "output_type": "execute_result"
    }
   ],
   "source": [
    "L = A.cholesky()\n",
    "L, L.parent(), L*L.conjugate_transpose() == A"
   ]
  },
  {
   "cell_type": "code",
   "execution_count": 38,
   "metadata": {},
   "outputs": [
    {
     "data": {
      "text/plain": [
       "True"
      ]
     },
     "execution_count": 38,
     "metadata": {},
     "output_type": "execute_result"
    }
   ],
   "source": [
    "A = matrix(QQ, [[ 4, -2,  4,  2],\n",
    "                [-2, 10, -2, -7],\n",
    "                [ 4, -2,  8,  4],\n",
    "                [ 2, -7,  4,  7]])\n",
    "L = A.cholesky()\n",
    "L.is_immutable()"
   ]
  },
  {
   "cell_type": "code",
   "execution_count": 39,
   "metadata": {},
   "outputs": [
    {
     "data": {
      "text/plain": [
       "[1000    0    0    0]\n",
       "[  -1    3    0    0]\n",
       "[   2    0    2    0]\n",
       "[   1   -2    1    1]"
      ]
     },
     "execution_count": 39,
     "metadata": {},
     "output_type": "execute_result"
    }
   ],
   "source": [
    "from copy import copy\n",
    "LC = copy(L)\n",
    "LC[0, 0] = 1000\n",
    "LC"
   ]
  },
  {
   "cell_type": "code",
   "execution_count": 40,
   "metadata": {},
   "outputs": [
    {
     "data": {
      "text/plain": [
       "[ 1.0000000000000000000000000000 0.00000000000000000000000000000]\n",
       "[ 2.0000000000000000000000000000  1.4142135623730950488016887242]"
      ]
     },
     "execution_count": 40,
     "metadata": {},
     "output_type": "execute_result"
    }
   ],
   "source": [
    "F = RealField(100)\n",
    "A = A = matrix(F, [[1.0, 2.0], [2.0, 6.0]])\n",
    "L = A.cholesky(); L"
   ]
  },
  {
   "cell_type": "code",
   "execution_count": 41,
   "metadata": {},
   "outputs": [
    {
     "data": {
      "text/plain": [
       "True"
      ]
     },
     "execution_count": 41,
     "metadata": {},
     "output_type": "execute_result"
    }
   ],
   "source": [
    "(L*L.transpose() - A).norm() < 1e-10"
   ]
  },
  {
   "cell_type": "code",
   "execution_count": null,
   "metadata": {},
   "outputs": [],
   "source": [
    "# column_module()"
   ]
  }
 ],
 "metadata": {
  "kernelspec": {
   "display_name": "SageMath 10.0",
   "language": "sage",
   "name": "sagemath"
  },
  "language_info": {
   "codemirror_mode": {
    "name": "ipython",
    "version": 3
   },
   "file_extension": ".py",
   "mimetype": "text/x-python",
   "name": "python",
   "nbconvert_exporter": "python",
   "pygments_lexer": "ipython3",
   "version": "3.9.18"
  }
 },
 "nbformat": 4,
 "nbformat_minor": 2
}
