{
 "cells": [
  {
   "cell_type": "markdown",
   "metadata": {},
   "source": [
    "# DAMA50: Mathematics for machine learning\n",
    "\n",
    "## Written assignment 1\n",
    "\n",
    "### Question 7\n",
    "\n",
    "a. We compute the matrix as follows:"
   ]
  },
  {
   "cell_type": "code",
   "execution_count": 37,
   "metadata": {},
   "outputs": [
    {
     "name": "stdout",
     "output_type": "stream",
     "text": [
      "[  2   3   0   1  -2  -1  -4  -3]\n",
      "[  3   8   5  10   7  12   9  14]\n",
      "[  0   5  -2   3  -4   1  -6  -1]\n",
      "[  1  10   3  12   5  14   7  16]\n",
      "[ -2   7  -4   5  -6   3  -8   1]\n",
      "[ -1  12   1  14   3  16   5  18]\n",
      "[ -4   9  -6   7  -8   5 -10   3]\n",
      "[ -3  14  -1  16   1  18   3  20]\n"
     ]
    }
   ],
   "source": [
    "k = 4\n",
    "\n",
    "numbers = []\n",
    "for i in range(1, 9):\n",
    "    for j in range(1, 9):\n",
    "        numbers.append(j * (-1)^i + i * (-1)^ j + k)\n",
    "        \n",
    "A = matrix(8, 8, numbers)\n",
    "\n",
    "print(A)"
   ]
  },
  {
   "cell_type": "markdown",
   "metadata": {},
   "source": [
    "b. We must compute the $ A^T $ first:"
   ]
  },
  {
   "cell_type": "code",
   "execution_count": 38,
   "metadata": {},
   "outputs": [
    {
     "name": "stdout",
     "output_type": "stream",
     "text": [
      "[  2   3   0   1  -2  -1  -4  -3]\n",
      "[  3   8   5  10   7  12   9  14]\n",
      "[  0   5  -2   3  -4   1  -6  -1]\n",
      "[  1  10   3  12   5  14   7  16]\n",
      "[ -2   7  -4   5  -6   3  -8   1]\n",
      "[ -1  12   1  14   3  16   5  18]\n",
      "[ -4   9  -6   7  -8   5 -10   3]\n",
      "[ -3  14  -1  16   1  18   3  20]\n"
     ]
    }
   ],
   "source": [
    "print(A.T)"
   ]
  },
  {
   "cell_type": "markdown",
   "metadata": {},
   "source": [
    "We notice that, $ A = A^T $ therefore the A is called **\"Symmetric\"**."
   ]
  },
  {
   "cell_type": "code",
   "execution_count": 39,
   "metadata": {},
   "outputs": [
    {
     "name": "stdout",
     "output_type": "stream",
     "text": [
      "[  44  -64   52  -56   60  -48   68  -40]\n",
      "[ -64  668  -24  708   16  748   56  788]\n",
      "[  52  -24   92   16  132   56  172   96]\n",
      "[ -56  708   16  780   88  852  160  924]\n",
      "[  60   16  132   88  204  160  276  232]\n",
      "[ -48  748   56  852  160  956  264 1060]\n",
      "[  68   56  172  160  276  264  380  368]\n",
      "[ -40  788   96  924  232 1060  368 1196]\n",
      " \n",
      "[ 1  0  0 -1 -1 -2 -2 -3]\n",
      "[ 0  1  0  1  0  1  0  1]\n",
      "[ 0  0  1  1  2  2  3  3]\n",
      "[ 0  0  0  0  0  0  0  0]\n",
      "[ 0  0  0  0  0  0  0  0]\n",
      "[ 0  0  0  0  0  0  0  0]\n",
      "[ 0  0  0  0  0  0  0  0]\n",
      "[ 0  0  0  0  0  0  0  0]\n"
     ]
    }
   ],
   "source": [
    "D = A * A.T\n",
    "print(D)\n",
    "print(' ')\n",
    "print(D.rref())"
   ]
  },
  {
   "cell_type": "markdown",
   "metadata": {},
   "source": [
    "c. To compute the rank of A we do the following:"
   ]
  },
  {
   "cell_type": "code",
   "execution_count": 40,
   "metadata": {},
   "outputs": [
    {
     "name": "stdout",
     "output_type": "stream",
     "text": [
      "3\n"
     ]
    }
   ],
   "source": [
    "print(A.rank())"
   ]
  },
  {
   "cell_type": "markdown",
   "metadata": {},
   "source": [
    "d. For the solution of the next question, first we need to calculate the expression: $ A^2 - A + 1 $, where 1 is the 8 x 8 matrix of ones:"
   ]
  },
  {
   "cell_type": "code",
   "execution_count": 41,
   "metadata": {},
   "outputs": [
    {
     "name": "stdout",
     "output_type": "stream",
     "text": [
      "[1 1 1 1 1 1 1 1]\n",
      "[1 1 1 1 1 1 1 1]\n",
      "[1 1 1 1 1 1 1 1]\n",
      "[1 1 1 1 1 1 1 1]\n",
      "[1 1 1 1 1 1 1 1]\n",
      "[1 1 1 1 1 1 1 1]\n",
      "[1 1 1 1 1 1 1 1]\n",
      "[1 1 1 1 1 1 1 1]\n",
      " \n",
      "[  44  -64   52  -56   60  -48   68  -40]\n",
      "[ -64  668  -24  708   16  748   56  788]\n",
      "[  52  -24   92   16  132   56  172   96]\n",
      "[ -56  708   16  780   88  852  160  924]\n",
      "[  60   16  132   88  204  160  276  232]\n",
      "[ -48  748   56  852  160  956  264 1060]\n",
      "[  68   56  172  160  276  264  380  368]\n",
      "[ -40  788   96  924  232 1060  368 1196]\n",
      " \n",
      "[  43  -66   53  -56   63  -46   73  -36]\n",
      "[ -66  661  -28  699   10  737   48  775]\n",
      "[  53  -28   95   14  137   56  179   98]\n",
      "[ -56  699   14  769   84  839  154  909]\n",
      "[  63   10  137   84  211  158  285  232]\n",
      "[ -46  737   56  839  158  941  260 1043]\n",
      "[  73   48  179  154  285  260  391  366]\n",
      "[ -36  775   98  909  232 1043  366 1177]\n",
      " \n",
      "0\n"
     ]
    }
   ],
   "source": [
    "I = ones_matrix(8, 8)\n",
    "print(I)\n",
    "\n",
    "B = A * A\n",
    "print(' ')\n",
    "print(B)\n",
    "\n",
    "C = (B - A) + I\n",
    "print(' ')\n",
    "print(C)\n",
    "\n",
    "print(' ')\n",
    "print(C.determinant())"
   ]
  },
  {
   "cell_type": "markdown",
   "metadata": {},
   "source": [
    "### Question 8\n",
    "\n",
    "a."
   ]
  },
  {
   "cell_type": "code",
   "execution_count": 1,
   "metadata": {},
   "outputs": [
    {
     "data": {
      "text/plain": [
       "[[x == -(b^3 + b^2 - a + b - 2)/(a^2 + 2*a - 3), y == -(b^3 - a*b + b^2 - 2*b + 1)/(a^2 + 2*a - 3), z == (a*b^2 - b^3 + 2*b^2 - b - 1)/(a^2 + 2*a - 3), t == (a*b^3 + 2*b^3 - b^2 - b - 1)/(a^2 + 2*a - 3)]]"
      ]
     },
     "execution_count": 1,
     "metadata": {},
     "output_type": "execute_result"
    }
   ],
   "source": [
    "x, y, z, t, a, b = var('x y z t a b')\n",
    "solve([a*x + y + z + t ==1, x + a*y + z + t == b, x + y + a*z + t == b^2, x + y + z + a*t == b^3], x, y, z, t)"
   ]
  },
  {
   "cell_type": "code",
   "execution_count": null,
   "metadata": {},
   "outputs": [],
   "source": []
  }
 ],
 "metadata": {
  "kernelspec": {
   "display_name": "SageMath 9.5",
   "language": "sage",
   "name": "sagemath"
  },
  "language_info": {
   "codemirror_mode": {
    "name": "ipython",
    "version": 3
   },
   "file_extension": ".py",
   "mimetype": "text/x-python",
   "name": "python",
   "nbconvert_exporter": "python",
   "pygments_lexer": "ipython3",
   "version": "3.11.4"
  }
 },
 "nbformat": 4,
 "nbformat_minor": 2
}
