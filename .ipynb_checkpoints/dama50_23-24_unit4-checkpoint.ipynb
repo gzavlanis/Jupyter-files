{
 "cells": [
  {
   "cell_type": "markdown",
   "metadata": {},
   "source": [
    " # __DAMA50: Unit4 Notebook [25-1-2024]__"
   ]
  },
  {
   "cell_type": "markdown",
   "metadata": {
    "tags": []
   },
   "source": [
    "# 1. Derivative of a univariate function"
   ]
  },
  {
   "cell_type": "code",
   "execution_count": 5,
   "metadata": {
    "vscode": {
     "languageId": "python"
    }
   },
   "outputs": [
    {
     "data": {
      "text/html": [
       "<html><script type=\"math/tex; mode=display\">\\newcommand{\\Bold}[1]{\\mathbf{#1}}2 \\, t^{3} - 3 \\, t^{2} - 12 \\, t + 8</script></html>"
      ],
      "text/latex": [
       "$$\\newcommand{\\Bold}[1]{\\mathbf{#1}}2 \\, t^{3} - 3 \\, t^{2} - 12 \\, t + 8$$"
      ],
      "text/plain": [
       "2*t^3 - 3*t^2 - 12*t + 8"
      ]
     },
     "execution_count": 5,
     "metadata": {},
     "output_type": "execute_result"
    }
   ],
   "source": [
    "%display latex\n",
    "x(t)=2*t^3-3*t^2-12*t+8;x(t)"
   ]
  },
  {
   "cell_type": "code",
   "execution_count": 7,
   "metadata": {
    "vscode": {
     "languageId": "python"
    }
   },
   "outputs": [
    {
     "data": {
      "text/html": [
       "<html><script type=\"math/tex; mode=display\">\\newcommand{\\Bold}[1]{\\mathbf{#1}}6 \\, t^{2} - 6 \\, t - 12</script></html>"
      ],
      "text/latex": [
       "$$\\newcommand{\\Bold}[1]{\\mathbf{#1}}6 \\, t^{2} - 6 \\, t - 12$$"
      ],
      "text/plain": [
       "6*t^2 - 6*t - 12"
      ]
     },
     "execution_count": 7,
     "metadata": {},
     "output_type": "execute_result"
    }
   ],
   "source": [
    "v(t)=diff(x(t),t);v(t)"
   ]
  },
  {
   "cell_type": "code",
   "execution_count": 8,
   "metadata": {
    "vscode": {
     "languageId": "python"
    }
   },
   "outputs": [
    {
     "data": {
      "image/png": "[encoded data removed]",
      "text/plain": [
       "Graphics object consisting of 4 graphics primitives"
      ]
     },
     "execution_count": 8,
     "metadata": {},
     "output_type": "execute_result"
    }
   ],
   "source": [
    "plot(x(t),(t,-3,3),legend_label='$x(t)$')+\\\n",
    "plot(v(t),(t,-3,3),color='red',legend_label='$v(t)$')+\\\n",
    "line([(-1,-40),(-1,60)],color='gray',linestyle='dashed')+\\\n",
    "line([(2,-40),(2,60)],color='gray',linestyle='dashed')"
   ]
  },
  {
   "cell_type": "markdown",
   "metadata": {},
   "source": [
    "### Derivatives of univariate functions"
   ]
  },
  {
   "cell_type": "code",
   "execution_count": 41,
   "metadata": {
    "vscode": {
     "languageId": "python"
    }
   },
   "outputs": [
    {
     "data": {
      "text/html": [
       "<html>\\(\\displaystyle x \\cos\\left(x\\right) + \\sin\\left(x\\right)\\)</html>"
      ],
      "text/latex": [
       "$\\displaystyle x \\cos\\left(x\\right) + \\sin\\left(x\\right)$"
      ],
      "text/plain": [
       "x*cos(x) + sin(x)"
      ]
     },
     "execution_count": 41,
     "metadata": {},
     "output_type": "execute_result"
    }
   ],
   "source": [
    "x=var('x')\n",
    "diff(x*sin(x),x)"
   ]
  },
  {
   "cell_type": "code",
   "execution_count": 42,
   "metadata": {
    "vscode": {
     "languageId": "python"
    }
   },
   "outputs": [
    {
     "data": {
      "text/html": [
       "<html>\\(\\displaystyle \\frac{1}{x^{2} + 1}\\)</html>"
      ],
      "text/latex": [
       "$\\displaystyle \\frac{1}{x^{2} + 1}$"
      ],
      "text/plain": [
       "1/(x^2 + 1)"
      ]
     },
     "execution_count": 42,
     "metadata": {},
     "output_type": "execute_result"
    }
   ],
   "source": [
    "diff(arctan(x),x)"
   ]
  },
  {
   "cell_type": "code",
   "execution_count": 45,
   "metadata": {
    "vscode": {
     "languageId": "python"
    }
   },
   "outputs": [
    {
     "data": {
      "text/html": [
       "<html>\\(\\displaystyle {\\left(\\cos\\left(t\\right) - \\sin\\left(t\\right)\\right)} e^{t}\\)</html>"
      ],
      "text/latex": [
       "$\\displaystyle {\\left(\\cos\\left(t\\right) - \\sin\\left(t\\right)\\right)} e^{t}$"
      ],
      "text/plain": [
       "(cos(t) - sin(t))*e^t"
      ]
     },
     "execution_count": 45,
     "metadata": {},
     "output_type": "execute_result"
    }
   ],
   "source": [
    "t=var('t')\n",
    "g(t)=cos(t)*exp(t)\n",
    "diff(g(t),t).factor()"
   ]
  },
  {
   "cell_type": "code",
   "execution_count": 46,
   "metadata": {
    "vscode": {
     "languageId": "python"
    }
   },
   "outputs": [
    {
     "data": {
      "text/html": [
       "<html>\\(\\displaystyle -2 \\, e^{t} \\sin\\left(t\\right)\\)</html>"
      ],
      "text/latex": [
       "$\\displaystyle -2 \\, e^{t} \\sin\\left(t\\right)$"
      ],
      "text/plain": [
       "-2*e^t*sin(t)"
      ]
     },
     "execution_count": 46,
     "metadata": {},
     "output_type": "execute_result"
    }
   ],
   "source": [
    "diff(g(t),t,2).factor()"
   ]
  },
  {
   "cell_type": "code",
   "execution_count": 48,
   "metadata": {
    "vscode": {
     "languageId": "python"
    }
   },
   "outputs": [
    {
     "data": {
      "text/html": [
       "<html>\\(\\displaystyle -2 \\, {\\left(\\cos\\left(t\\right) + \\sin\\left(t\\right)\\right)} e^{t}\\)</html>"
      ],
      "text/latex": [
       "$\\displaystyle -2 \\, {\\left(\\cos\\left(t\\right) + \\sin\\left(t\\right)\\right)} e^{t}$"
      ],
      "text/plain": [
       "-2*(cos(t) + sin(t))*e^t"
      ]
     },
     "execution_count": 48,
     "metadata": {},
     "output_type": "execute_result"
    }
   ],
   "source": [
    "d3=diff(g(t),t,3).factor();d3"
   ]
  },
  {
   "cell_type": "code",
   "execution_count": 50,
   "metadata": {
    "vscode": {
     "languageId": "python"
    }
   },
   "outputs": [
    {
     "data": {
      "text/html": [
       "<html>\\(\\displaystyle 16 \\, x^{4} \\sin\\left(x^{2}\\right) - 48 \\, x^{2} \\cos\\left(x^{2}\\right) - 12 \\, \\sin\\left(x^{2}\\right)\\)</html>"
      ],
      "text/latex": [
       "$\\displaystyle 16 \\, x^{4} \\sin\\left(x^{2}\\right) - 48 \\, x^{2} \\cos\\left(x^{2}\\right) - 12 \\, \\sin\\left(x^{2}\\right)$"
      ],
      "text/plain": [
       "16*x^4*sin(x^2) - 48*x^2*cos(x^2) - 12*sin(x^2)"
      ]
     },
     "execution_count": 50,
     "metadata": {},
     "output_type": "execute_result"
    }
   ],
   "source": [
    "diff(sin(x^2),x,4)"
   ]
  },
  {
   "cell_type": "markdown",
   "metadata": {},
   "source": [
    "# 2. Partial derivatives of multivariate functions"
   ]
  },
  {
   "cell_type": "code",
   "execution_count": 88,
   "metadata": {
    "vscode": {
     "languageId": "python"
    }
   },
   "outputs": [],
   "source": [
    "x,y = var('x y')"
   ]
  },
  {
   "cell_type": "code",
   "execution_count": 89,
   "metadata": {
    "vscode": {
     "languageId": "python"
    }
   },
   "outputs": [],
   "source": [
    "f(x,y)=3*sin(x)-2*cos(y)-x*y"
   ]
  },
  {
   "cell_type": "code",
   "execution_count": 90,
   "metadata": {
    "vscode": {
     "languageId": "python"
    }
   },
   "outputs": [
    {
     "data": {
      "text/html": [
       "<html>\\(\\displaystyle -y + 3 \\, \\cos\\left(x\\right)\\)</html>"
      ],
      "text/latex": [
       "$\\displaystyle -y + 3 \\, \\cos\\left(x\\right)$"
      ],
      "text/plain": [
       "-y + 3*cos(x)"
      ]
     },
     "execution_count": 90,
     "metadata": {},
     "output_type": "execute_result"
    }
   ],
   "source": [
    "diff(f(x,y),x)"
   ]
  },
  {
   "cell_type": "code",
   "execution_count": 91,
   "metadata": {
    "vscode": {
     "languageId": "python"
    }
   },
   "outputs": [
    {
     "data": {
      "text/html": [
       "<html>\\(\\displaystyle -3 \\, \\sin\\left(x\\right)\\)</html>"
      ],
      "text/latex": [
       "$\\displaystyle -3 \\, \\sin\\left(x\\right)$"
      ],
      "text/plain": [
       "-3*sin(x)"
      ]
     },
     "execution_count": 91,
     "metadata": {},
     "output_type": "execute_result"
    }
   ],
   "source": [
    "diff(f(x,y),x,x)"
   ]
  },
  {
   "cell_type": "code",
   "execution_count": 92,
   "metadata": {
    "vscode": {
     "languageId": "python"
    }
   },
   "outputs": [
    {
     "data": {
      "text/html": [
       "<html>\\(\\displaystyle -1\\)</html>"
      ],
      "text/latex": [
       "$\\displaystyle -1$"
      ],
      "text/plain": [
       "-1"
      ]
     },
     "execution_count": 92,
     "metadata": {},
     "output_type": "execute_result"
    }
   ],
   "source": [
    "diff(f(x,y),x,y)"
   ]
  },
  {
   "cell_type": "markdown",
   "metadata": {},
   "source": [
    "#### Gradient"
   ]
  },
  {
   "cell_type": "code",
   "execution_count": 93,
   "metadata": {
    "vscode": {
     "languageId": "python"
    }
   },
   "outputs": [
    {
     "data": {
      "text/html": [
       "<html>\\(\\displaystyle \\left( x, y \\right) \\ {\\mapsto} \\ \\left(-y + 3 \\, \\cos\\left(x\\right),\\,-x + 2 \\, \\sin\\left(y\\right)\\right)\\)</html>"
      ],
      "text/latex": [
       "$\\displaystyle \\left( x, y \\right) \\ {\\mapsto} \\ \\left(-y + 3 \\, \\cos\\left(x\\right),\\,-x + 2 \\, \\sin\\left(y\\right)\\right)$"
      ],
      "text/plain": [
       "(x, y) |--> (-y + 3*cos(x), -x + 2*sin(y))"
      ]
     },
     "execution_count": 93,
     "metadata": {},
     "output_type": "execute_result"
    }
   ],
   "source": [
    "f.gradient()"
   ]
  },
  {
   "cell_type": "code",
   "execution_count": 94,
   "metadata": {
    "vscode": {
     "languageId": "python"
    }
   },
   "outputs": [],
   "source": [
    "gradf=f.gradient([x,y])"
   ]
  },
  {
   "cell_type": "code",
   "execution_count": 95,
   "metadata": {
    "vscode": {
     "languageId": "python"
    }
   },
   "outputs": [
    {
     "data": {
      "text/html": [
       "<html>\\(\\displaystyle \\left(-y + 3 \\, \\cos\\left(x\\right),\\,-x + 2 \\, \\sin\\left(y\\right)\\right)\\)</html>"
      ],
      "text/latex": [
       "$\\displaystyle \\left(-y + 3 \\, \\cos\\left(x\\right),\\,-x + 2 \\, \\sin\\left(y\\right)\\right)$"
      ],
      "text/plain": [
       "(-y + 3*cos(x), -x + 2*sin(y))"
      ]
     },
     "execution_count": 95,
     "metadata": {},
     "output_type": "execute_result"
    }
   ],
   "source": [
    "gradf(x,y)"
   ]
  },
  {
   "cell_type": "code",
   "execution_count": 96,
   "metadata": {
    "vscode": {
     "languageId": "python"
    }
   },
   "outputs": [
    {
     "data": {
      "text/html": [
       "<html>\\(\\displaystyle \\left(-\\pi + 3,\\,0\\right)\\)</html>"
      ],
      "text/latex": [
       "$\\displaystyle \\left(-\\pi + 3,\\,0\\right)$"
      ],
      "text/plain": [
       "(-pi + 3, 0)"
      ]
     },
     "execution_count": 96,
     "metadata": {},
     "output_type": "execute_result"
    }
   ],
   "source": [
    "gradf(0,pi)"
   ]
  },
  {
   "cell_type": "markdown",
   "metadata": {},
   "source": [
    "#### Jacobian"
   ]
  },
  {
   "cell_type": "code",
   "execution_count": 97,
   "metadata": {
    "vscode": {
     "languageId": "python"
    }
   },
   "outputs": [
    {
     "data": {
      "text/html": [
       "<html>\\(\\displaystyle \\left(\\begin{array}{rr}\n",
       "-y + 3 \\, \\cos\\left(x\\right) & -x + 2 \\, \\sin\\left(y\\right)\n",
       "\\end{array}\\right)\\)</html>"
      ],
      "text/latex": [
       "$\\displaystyle \\left(\\begin{array}{rr}\n",
       "-y + 3 \\, \\cos\\left(x\\right) & -x + 2 \\, \\sin\\left(y\\right)\n",
       "\\end{array}\\right)$"
      ],
      "text/plain": [
       "[-y + 3*cos(x) -x + 2*sin(y)]"
      ]
     },
     "execution_count": 97,
     "metadata": {},
     "output_type": "execute_result"
    }
   ],
   "source": [
    "jacobian(f(x,y), (x,y))"
   ]
  },
  {
   "cell_type": "markdown",
   "metadata": {},
   "source": [
    "### Hessian matrix"
   ]
  },
  {
   "cell_type": "code",
   "execution_count": 98,
   "metadata": {
    "vscode": {
     "languageId": "python"
    }
   },
   "outputs": [],
   "source": [
    "h(x,y)=f(x,y).hessian()"
   ]
  },
  {
   "cell_type": "code",
   "execution_count": 76,
   "metadata": {
    "vscode": {
     "languageId": "python"
    }
   },
   "outputs": [
    {
     "data": {
      "text/html": [
       "<html>\\(\\displaystyle \\left(\\begin{array}{rr}\n",
       "-3 \\, \\sin\\left(x\\right) & -1 \\\\\n",
       "-1 & 2 \\, \\cos\\left(y\\right)\n",
       "\\end{array}\\right)\\)</html>"
      ],
      "text/latex": [
       "$\\displaystyle \\left(\\begin{array}{rr}\n",
       "-3 \\, \\sin\\left(x\\right) & -1 \\\\\n",
       "-1 & 2 \\, \\cos\\left(y\\right)\n",
       "\\end{array}\\right)$"
      ],
      "text/plain": [
       "[-3*sin(x)        -1]\n",
       "[       -1  2*cos(y)]"
      ]
     },
     "execution_count": 76,
     "metadata": {},
     "output_type": "execute_result"
    }
   ],
   "source": [
    "h(x,y)"
   ]
  },
  {
   "cell_type": "markdown",
   "metadata": {
    "tags": []
   },
   "source": [
    "# 3. Power Series expansions"
   ]
  },
  {
   "cell_type": "markdown",
   "metadata": {},
   "source": [
    "#### a) Univariate functions"
   ]
  },
  {
   "cell_type": "code",
   "execution_count": 83,
   "metadata": {
    "vscode": {
     "languageId": "python"
    }
   },
   "outputs": [],
   "source": [
    "%display latex\n",
    "x=var('x')"
   ]
  },
  {
   "cell_type": "code",
   "execution_count": 84,
   "metadata": {
    "vscode": {
     "languageId": "python"
    }
   },
   "outputs": [
    {
     "data": {
      "text/html": [
       "<html>\\(\\displaystyle 1 + 2 x + 1 x^{2} + {(-\\frac{2}{3})} x^{3} + {(-\\frac{2}{3})} x^{4} + \\mathcal{O}\\left(x^{5}\\right)\\)</html>"
      ],
      "text/latex": [
       "$\\displaystyle 1 + 2 x + 1 x^{2} + {(-\\frac{2}{3})} x^{3} + {(-\\frac{2}{3})} x^{4} + \\mathcal{O}\\left(x^{5}\\right)$"
      ],
      "text/plain": [
       "1 + 2*x + 1*x^2 + (-2/3)*x^3 + (-2/3)*x^4 + Order(x^5)"
      ]
     },
     "execution_count": 84,
     "metadata": {},
     "output_type": "execute_result"
    }
   ],
   "source": [
    "((1+arctan(x))^(2)).series(x==0, 5)"
   ]
  },
  {
   "cell_type": "code",
   "execution_count": 14,
   "metadata": {
    "vscode": {
     "languageId": "python"
    }
   },
   "outputs": [
    {
     "data": {
      "text/html": [
       "<html>\\(\\displaystyle {(-1)} {(-\\frac{1}{2} \\, \\pi + x)} + {(-\\frac{1}{3})} {(-\\frac{1}{2} \\, \\pi + x)}^{3} + \\mathcal{O}\\left(-\\frac{1}{32} \\, {\\left(\\pi - 2 \\, x\\right)}^{5}\\right)\\)</html>"
      ],
      "text/latex": [
       "$\\displaystyle {(-1)} {(-\\frac{1}{2} \\, \\pi + x)} + {(-\\frac{1}{3})} {(-\\frac{1}{2} \\, \\pi + x)}^{3} + \\mathcal{O}\\left(-\\frac{1}{32} \\, {\\left(\\pi - 2 \\, x\\right)}^{5}\\right)$"
      ],
      "text/plain": [
       "(-1)*(-1/2*pi + x) + (-1/3)*(-1/2*pi + x)^3 + Order(-1/32*(pi - 2*x)^5)"
      ]
     },
     "execution_count": 14,
     "metadata": {},
     "output_type": "execute_result"
    }
   ],
   "source": [
    "(1/tan(x)).series(x==pi/2,5)"
   ]
  },
  {
   "cell_type": "markdown",
   "metadata": {},
   "source": [
    "The last term indicates the lowest power ommited in the expansion"
   ]
  },
  {
   "cell_type": "markdown",
   "metadata": {},
   "source": [
    "Sagemath can automatically perform expansions"
   ]
  },
  {
   "cell_type": "code",
   "execution_count": 75,
   "metadata": {
    "vscode": {
     "languageId": "python"
    }
   },
   "outputs": [],
   "source": [
    "%display latex\n",
    "R.<x> = PowerSeriesRing(QQ,default_prec = 10)"
   ]
  },
  {
   "cell_type": "code",
   "execution_count": 76,
   "metadata": {
    "vscode": {
     "languageId": "python"
    }
   },
   "outputs": [
    {
     "data": {
      "text/html": [
       "<html>\\(\\displaystyle x - \\frac{1}{6} x^{3} + \\frac{1}{120} x^{5} - \\frac{1}{5040} x^{7} + \\frac{1}{362880} x^{9} + O(x^{10})\\)</html>"
      ],
      "text/latex": [
       "$\\displaystyle x - \\frac{1}{6} x^{3} + \\frac{1}{120} x^{5} - \\frac{1}{5040} x^{7} + \\frac{1}{362880} x^{9} + O(x^{10})$"
      ],
      "text/plain": [
       "x - 1/6*x^3 + 1/120*x^5 - 1/5040*x^7 + 1/362880*x^9 + O(x^10)"
      ]
     },
     "execution_count": 76,
     "metadata": {},
     "output_type": "execute_result"
    }
   ],
   "source": [
    "sin(x)"
   ]
  },
  {
   "cell_type": "code",
   "execution_count": 77,
   "metadata": {
    "vscode": {
     "languageId": "python"
    }
   },
   "outputs": [
    {
     "data": {
      "text/html": [
       "<html>\\(\\displaystyle 2 +  x^{2}\\)</html>"
      ],
      "text/latex": [
       "$\\displaystyle 2 +  x^{2}$"
      ],
      "text/plain": [
       "2 + x^2"
      ]
     },
     "execution_count": 77,
     "metadata": {},
     "output_type": "execute_result"
    }
   ],
   "source": [
    "(1+x)(1+x^2)"
   ]
  },
  {
   "cell_type": "code",
   "execution_count": 78,
   "metadata": {
    "vscode": {
     "languageId": "python"
    }
   },
   "outputs": [
    {
     "data": {
      "text/html": [
       "<html>\\(\\displaystyle \\frac{1}{2} x + \\frac{1}{24} x^{3} + \\frac{1}{240} x^{5} + \\frac{17}{40320} x^{7} + \\frac{31}{725760} x^{9} + O(x^{10})\\)</html>"
      ],
      "text/latex": [
       "$\\displaystyle \\frac{1}{2} x + \\frac{1}{24} x^{3} + \\frac{1}{240} x^{5} + \\frac{17}{40320} x^{7} + \\frac{31}{725760} x^{9} + O(x^{10})$"
      ],
      "text/plain": [
       "1/2*x + 1/24*x^3 + 1/240*x^5 + 17/40320*x^7 + 31/725760*x^9 + O(x^10)"
      ]
     },
     "execution_count": 78,
     "metadata": {},
     "output_type": "execute_result"
    }
   ],
   "source": [
    "sin(x)/(1+cos(x))"
   ]
  },
  {
   "cell_type": "code",
   "execution_count": 79,
   "metadata": {
    "vscode": {
     "languageId": "python"
    }
   },
   "outputs": [
    {
     "data": {
      "text/html": [
       "<html>\\(\\displaystyle x - \\frac{1}{2} x^{2} + \\frac{1}{3} x^{3} - \\frac{1}{4} x^{4} + \\frac{1}{5} x^{5} - \\frac{1}{6} x^{6} + \\frac{1}{7} x^{7} - \\frac{1}{8} x^{8} + \\frac{1}{9} x^{9} + O(x^{10})\\)</html>"
      ],
      "text/latex": [
       "$\\displaystyle x - \\frac{1}{2} x^{2} + \\frac{1}{3} x^{3} - \\frac{1}{4} x^{4} + \\frac{1}{5} x^{5} - \\frac{1}{6} x^{6} + \\frac{1}{7} x^{7} - \\frac{1}{8} x^{8} + \\frac{1}{9} x^{9} + O(x^{10})$"
      ],
      "text/plain": [
       "x - 1/2*x^2 + 1/3*x^3 - 1/4*x^4 + 1/5*x^5 - 1/6*x^6 + 1/7*x^7 - 1/8*x^8 + 1/9*x^9 + O(x^10)"
      ]
     },
     "execution_count": 79,
     "metadata": {},
     "output_type": "execute_result"
    }
   ],
   "source": [
    "w=log(1+x);w"
   ]
  },
  {
   "cell_type": "markdown",
   "metadata": {},
   "source": [
    "We can obtain a normal expression (without the last term) using truncate"
   ]
  },
  {
   "cell_type": "code",
   "execution_count": 80,
   "metadata": {
    "vscode": {
     "languageId": "python"
    }
   },
   "outputs": [
    {
     "data": {
      "text/html": [
       "<html>\\(\\displaystyle \\frac{1}{9} x^{9} - \\frac{1}{8} x^{8} + \\frac{1}{7} x^{7} - \\frac{1}{6} x^{6} + \\frac{1}{5} x^{5} - \\frac{1}{4} x^{4} + \\frac{1}{3} x^{3} - \\frac{1}{2} x^{2} + x\\)</html>"
      ],
      "text/latex": [
       "$\\displaystyle \\frac{1}{9} x^{9} - \\frac{1}{8} x^{8} + \\frac{1}{7} x^{7} - \\frac{1}{6} x^{6} + \\frac{1}{5} x^{5} - \\frac{1}{4} x^{4} + \\frac{1}{3} x^{3} - \\frac{1}{2} x^{2} + x$"
      ],
      "text/plain": [
       "1/9*x^9 - 1/8*x^8 + 1/7*x^7 - 1/6*x^6 + 1/5*x^5 - 1/4*x^4 + 1/3*x^3 - 1/2*x^2 + x"
      ]
     },
     "execution_count": 80,
     "metadata": {},
     "output_type": "execute_result"
    }
   ],
   "source": [
    "wt=w.truncate();wt"
   ]
  },
  {
   "cell_type": "code",
   "execution_count": 81,
   "metadata": {
    "vscode": {
     "languageId": "python"
    }
   },
   "outputs": [],
   "source": [
    "x=var('x')"
   ]
  },
  {
   "cell_type": "code",
   "execution_count": 83,
   "metadata": {
    "vscode": {
     "languageId": "python"
    }
   },
   "outputs": [
    {
     "data": {
      "image/png": "[encoded data removed]",
      "text/plain": [
       "Graphics object consisting of 2 graphics primitives"
      ]
     },
     "execution_count": 83,
     "metadata": {},
     "output_type": "execute_result"
    }
   ],
   "source": [
    "plot([log(1+x),wt],(x,0,1.3),linestyle=['-',':'])"
   ]
  },
  {
   "cell_type": "markdown",
   "metadata": {},
   "source": [
    "#### b) Multivariate functions"
   ]
  },
  {
   "cell_type": "code",
   "execution_count": 2,
   "metadata": {
    "vscode": {
     "languageId": "python"
    }
   },
   "outputs": [],
   "source": [
    "R.<u, v> = PowerSeriesRing(QQ, default_prec = 20)"
   ]
  },
  {
   "cell_type": "code",
   "execution_count": 3,
   "metadata": {
    "vscode": {
     "languageId": "python"
    }
   },
   "outputs": [
    {
     "data": {
      "text/plain": [
       "1 - 1/2*u^2*v^4 + 1/24*u^4*v^8 - 1/720*u^6*v^12 + O(u, v)^20"
      ]
     },
     "execution_count": 3,
     "metadata": {},
     "output_type": "execute_result"
    }
   ],
   "source": [
    "w1=cos(u*v^2);w1"
   ]
  },
  {
   "cell_type": "code",
   "execution_count": 86,
   "metadata": {
    "vscode": {
     "languageId": "python"
    }
   },
   "outputs": [
    {
     "data": {
      "text/html": [
       "<html>\\(\\displaystyle u v - \\frac{1}{6} u v^{3} + \\frac{1}{120} u v^{5} - \\frac{1}{5040} u v^{7} + \\frac{1}{362880} u v^{9} - \\frac{1}{39916800} u v^{11} + \\frac{1}{6227020800} u v^{13} - \\frac{1}{1307674368000} u v^{15} + \\frac{1}{355687428096000} u v^{17} - \\frac{1}{121645100408832000} u v^{19} + O(u, v)^{21}\\)</html>"
      ],
      "text/latex": [
       "$\\displaystyle u v - \\frac{1}{6} u v^{3} + \\frac{1}{120} u v^{5} - \\frac{1}{5040} u v^{7} + \\frac{1}{362880} u v^{9} - \\frac{1}{39916800} u v^{11} + \\frac{1}{6227020800} u v^{13} - \\frac{1}{1307674368000} u v^{15} + \\frac{1}{355687428096000} u v^{17} - \\frac{1}{121645100408832000} u v^{19} + O(u, v)^{21}$"
      ],
      "text/plain": [
       "u*v - 1/6*u*v^3 + 1/120*u*v^5 - 1/5040*u*v^7 + 1/362880*u*v^9 - 1/39916800*u*v^11 + 1/6227020800*u*v^13 - 1/1307674368000*u*v^15 + 1/355687428096000*u*v^17 - 1/121645100408832000*u*v^19 + O(u, v)^21"
      ]
     },
     "execution_count": 86,
     "metadata": {},
     "output_type": "execute_result"
    }
   ],
   "source": [
    "w2=u*sin(v);w2"
   ]
  },
  {
   "cell_type": "code",
   "execution_count": 87,
   "metadata": {
    "vscode": {
     "languageId": "python"
    }
   },
   "outputs": [
    {
     "data": {
      "text/html": [
       "<html>\\(\\displaystyle u v - \\frac{1}{6} u v^{3} - \\frac{1}{6} u^{3} v^{3} + \\frac{1}{120} u v^{5} - \\frac{5}{12} u^{3} v^{5} - \\frac{1}{5040} u v^{7} + \\frac{1}{120} u^{5} v^{5} + \\frac{47}{720} u^{3} v^{7} + \\frac{1}{362880} u v^{9} + \\frac{35}{144} u^{5} v^{7} - \\frac{173}{90720} u^{3} v^{9} - \\frac{1}{39916800} u v^{11} - \\frac{1}{5040} u^{7} v^{7} - \\frac{697}{8640} u^{5} v^{9} - \\frac{311}{3628800} u^{3} v^{11} + \\frac{1}{6227020800} u v^{13} - \\frac{89}{4320} u^{7} v^{9} + \\frac{7081}{362880} u^{5} v^{11} + \\frac{89}{9580032} u^{3} v^{13} - \\frac{1}{1307674368000} u v^{15} + \\frac{1}{362880} u^{9} v^{9} - \\frac{11111}{86400} u^{7} v^{11} - \\frac{128063}{43545600} u^{5} v^{13} - \\frac{581491}{1307674368000} u^{3} v^{15} + \\frac{1}{355687428096000} u v^{17} + \\frac{167}{241920} u^{9} v^{11} + \\frac{706709}{10886400} u^{7} v^{13} + \\frac{246179}{958003200} u^{5} v^{15} + \\frac{7871}{523069747200} u^{3} v^{17} - \\frac{1}{121645100408832000} u v^{19} + O(u, v)^{21}\\)</html>"
      ],
      "text/latex": [
       "$\\displaystyle u v - \\frac{1}{6} u v^{3} - \\frac{1}{6} u^{3} v^{3} + \\frac{1}{120} u v^{5} - \\frac{5}{12} u^{3} v^{5} - \\frac{1}{5040} u v^{7} + \\frac{1}{120} u^{5} v^{5} + \\frac{47}{720} u^{3} v^{7} + \\frac{1}{362880} u v^{9} + \\frac{35}{144} u^{5} v^{7} - \\frac{173}{90720} u^{3} v^{9} - \\frac{1}{39916800} u v^{11} - \\frac{1}{5040} u^{7} v^{7} - \\frac{697}{8640} u^{5} v^{9} - \\frac{311}{3628800} u^{3} v^{11} + \\frac{1}{6227020800} u v^{13} - \\frac{89}{4320} u^{7} v^{9} + \\frac{7081}{362880} u^{5} v^{11} + \\frac{89}{9580032} u^{3} v^{13} - \\frac{1}{1307674368000} u v^{15} + \\frac{1}{362880} u^{9} v^{9} - \\frac{11111}{86400} u^{7} v^{11} - \\frac{128063}{43545600} u^{5} v^{13} - \\frac{581491}{1307674368000} u^{3} v^{15} + \\frac{1}{355687428096000} u v^{17} + \\frac{167}{241920} u^{9} v^{11} + \\frac{706709}{10886400} u^{7} v^{13} + \\frac{246179}{958003200} u^{5} v^{15} + \\frac{7871}{523069747200} u^{3} v^{17} - \\frac{1}{121645100408832000} u v^{19} + O(u, v)^{21}$"
      ],
      "text/plain": [
       "u*v - 1/6*u*v^3 - 1/6*u^3*v^3 + 1/120*u*v^5 - 5/12*u^3*v^5 - 1/5040*u*v^7 + 1/120*u^5*v^5 + 47/720*u^3*v^7 + 1/362880*u*v^9 + 35/144*u^5*v^7 - 173/90720*u^3*v^9 - 1/39916800*u*v^11 - 1/5040*u^7*v^7 - 697/8640*u^5*v^9 - 311/3628800*u^3*v^11 + 1/6227020800*u*v^13 - 89/4320*u^7*v^9 + 7081/362880*u^5*v^11 + 89/9580032*u^3*v^13 - 1/1307674368000*u*v^15 + 1/362880*u^9*v^9 - 11111/86400*u^7*v^11 - 128063/43545600*u^5*v^13 - 581491/1307674368000*u^3*v^15 + 1/355687428096000*u*v^17 + 167/241920*u^9*v^11 + 706709/10886400*u^7*v^13 + 246179/958003200*u^5*v^15 + 7871/523069747200*u^3*v^17 - 1/121645100408832000*u*v^19 + O(u, v)^21"
      ]
     },
     "execution_count": 87,
     "metadata": {},
     "output_type": "execute_result"
    }
   ],
   "source": [
    "sin(w1*w2)"
   ]
  },
  {
   "cell_type": "markdown",
   "metadata": {
    "tags": []
   },
   "source": [
    "# 4. Automatic differentation"
   ]
  },
  {
   "cell_type": "markdown",
   "metadata": {},
   "source": [
    "Install the autograd package if not installed already. "
   ]
  },
  {
   "cell_type": "code",
   "execution_count": 1,
   "metadata": {
    "vscode": {
     "languageId": "python"
    }
   },
   "outputs": [
    {
     "name": "stdout",
     "output_type": "stream",
     "text": [
      "Installing autograd.\n",
      "Collecting autograd\n",
      "  Downloading autograd-1.6.2-py3-none-any.whl (49 kB)\n",
      "\u001b[K     |████████████████████████████████| 49 kB 1.3 MB/s eta 0:00:01\n",
      "\u001b[?25hCollecting future>=0.15.2\n",
      "  Downloading future-0.18.3.tar.gz (840 kB)\n",
      "\u001b[K     |████████████████████████████████| 840 kB 2.1 MB/s eta 0:00:01\n",
      "\u001b[?25hRequirement already satisfied: numpy>=1.12 in /opt/sagemath-9.3/local/lib/python3.7/site-packages (from autograd) (1.19.5)\n",
      "Building wheels for collected packages: future\n",
      "  Building wheel for future (setup.py) ... \u001b[?25ldone\n",
      "\u001b[?25h  Created wheel for future: filename=future-0.18.3-py3-none-any.whl size=492026 sha256=55d9b8e47bcb42a822e76cf23eead051e1fefcdb6513c0a77d89ef1a88c006b6\n",
      "  Stored in directory: /home/sage/.cache/pip/wheels/fa/cd/1f/c6b7b50b564983bf3011e8fc75d06047ddc50c07f6e3660b00\n",
      "Successfully built future\n",
      "Installing collected packages: future, autograd\n",
      "Successfully installed autograd-1.6.2 future-0.18.3\n",
      "\u001b[33mWARNING: You are using pip version 21.0.1; however, version 24.0 is available.\n",
      "You should consider upgrading via the '/opt/sagemath-9.3/local/bin/python3 -m pip install --upgrade pip' command.\u001b[0m\n"
     ]
    }
   ],
   "source": [
    "try :\n",
    "    import autograd\n",
    "    print (\"Autograd is already installed!\")\n",
    "except :\n",
    "    print (\"Installing autograd.\")\n",
    "    !pip install autograd"
   ]
  },
  {
   "cell_type": "markdown",
   "metadata": {},
   "source": [
    "Import grad and numpy from autograd."
   ]
  },
  {
   "cell_type": "code",
   "execution_count": 2,
   "metadata": {
    "vscode": {
     "languageId": "python"
    }
   },
   "outputs": [],
   "source": [
    "import autograd.numpy as np\n",
    "from autograd import grad"
   ]
  },
  {
   "cell_type": "markdown",
   "metadata": {},
   "source": [
    " Define a python function for use with autograd using numpy definitions \n",
    " for elementary functions, that is np.sin(x) instead of sin(x), np.exp(x) instead exp(x) etc"
   ]
  },
  {
   "cell_type": "code",
   "execution_count": 3,
   "metadata": {
    "vscode": {
     "languageId": "python"
    }
   },
   "outputs": [],
   "source": [
    "def myf(w):\n",
    "    x,y = w\n",
    "    return np.sqrt(x^2+y^2)+np.cos(x^2-y^2)"
   ]
  },
  {
   "cell_type": "markdown",
   "metadata": {},
   "source": [
    "Autograd builds a function for computing derivatives"
   ]
  },
  {
   "cell_type": "code",
   "execution_count": 12,
   "metadata": {
    "vscode": {
     "languageId": "python"
    }
   },
   "outputs": [],
   "source": [
    "agrad_myf = grad(myf)"
   ]
  },
  {
   "cell_type": "markdown",
   "metadata": {},
   "source": [
    "Print the gradient of the function for the given values of (x,y)"
   ]
  },
  {
   "cell_type": "code",
   "execution_count": 8,
   "metadata": {
    "vscode": {
     "languageId": "python"
    }
   },
   "outputs": [
    {
     "data": {
      "text/plain": [
       "array([-4.81410966, -2.66842522])"
      ]
     },
     "execution_count": 8,
     "metadata": {},
     "output_type": "execute_result"
    }
   ],
   "source": [
    "agrad_myf(np.array([3.,-1.2]))"
   ]
  },
  {
   "cell_type": "markdown",
   "metadata": {},
   "source": [
    "Calculate the gradient using symbolic differentiation after defining a sagemath function"
   ]
  },
  {
   "cell_type": "code",
   "execution_count": 9,
   "metadata": {
    "vscode": {
     "languageId": "python"
    }
   },
   "outputs": [],
   "source": [
    "x, y = var('x,y')\n",
    "f(x,y) = sqrt(x^2+y^2) + cos(x^2-y^2)"
   ]
  },
  {
   "cell_type": "markdown",
   "metadata": {},
   "source": [
    "Print the gradient of the function for the given values of (x,y)"
   ]
  },
  {
   "cell_type": "code",
   "execution_count": 10,
   "metadata": {
    "vscode": {
     "languageId": "python"
    }
   },
   "outputs": [
    {
     "data": {
      "text/plain": [
       "(-4.81410966343724, -2.66842521808310)"
      ]
     },
     "execution_count": 10,
     "metadata": {},
     "output_type": "execute_result"
    }
   ],
   "source": [
    "gf=f.gradient([x,y])\n",
    "gf(3.,-1.2)"
   ]
  },
  {
   "cell_type": "markdown",
   "metadata": {},
   "source": [
    "We compute the autograd execution time"
   ]
  },
  {
   "cell_type": "code",
   "execution_count": 11,
   "metadata": {
    "vscode": {
     "languageId": "python"
    }
   },
   "outputs": [
    {
     "name": "stdout",
     "output_type": "stream",
     "text": [
      "806 µs ± 14 µs per loop (mean ± std. dev. of 7 runs, 1,000 loops each)\n"
     ]
    }
   ],
   "source": [
    "%timeit agrad_myf(np.array([3.,-1.2]))"
   ]
  },
  {
   "cell_type": "markdown",
   "metadata": {},
   "source": [
    "And the analytic derivative execution time"
   ]
  },
  {
   "cell_type": "code",
   "execution_count": 12,
   "metadata": {
    "vscode": {
     "languageId": "python"
    }
   },
   "outputs": [
    {
     "name": "stdout",
     "output_type": "stream",
     "text": [
      "639 µs ± 12.1 µs per loop (mean ± std. dev. of 7 runs, 1,000 loops each)\n"
     ]
    }
   ],
   "source": [
    "%timeit gf(3.,-1.2)"
   ]
  },
  {
   "cell_type": "markdown",
   "metadata": {},
   "source": [
    "The execution times of the two methods  are comparable. However, in the first case <br>\n",
    "(autograd) we do not need to know the derivative analytically."
   ]
  },
  {
   "cell_type": "markdown",
   "metadata": {},
   "source": [
    "# 5. Appendix A: Ploting vector fields using sagemath"
   ]
  },
  {
   "cell_type": "markdown",
   "metadata": {},
   "source": [
    "Here we plot the gradient of a scalar function\n",
    "$$\\vec{\\nabla} f(x,y)\\ \\,\\ \\text{where}\\ f(x,y)=\\sin(x y^2)$$"
   ]
  },
  {
   "cell_type": "code",
   "execution_count": 13,
   "metadata": {
    "vscode": {
     "languageId": "python"
    }
   },
   "outputs": [
    {
     "data": {
      "image/png": "[encoded data removed]",
      "text/plain": [
       "Graphics object consisting of 1 graphics primitive"
      ]
     },
     "execution_count": 13,
     "metadata": {},
     "output_type": "execute_result"
    }
   ],
   "source": [
    "f(x,y)=sin(x*y^2)\n",
    "plot_vector_field(f.gradient(),(x,-1,1),(y,-1,1),aspect_ratio=1,color='blue')"
   ]
  },
  {
   "cell_type": "markdown",
   "metadata": {},
   "source": [
    "Here we plot the vector field\n",
    "$$\n",
    "\\vec{f}(x,y)= \\left[y, \\cos(x-2) \\sin(x)\\right]$$"
   ]
  },
  {
   "cell_type": "code",
   "execution_count": 67,
   "metadata": {
    "vscode": {
     "languageId": "python"
    }
   },
   "outputs": [
    {
     "data": {
      "image/png": "[encoded data removed]",
      "text/plain": [
       "Graphics object consisting of 1 graphics primitive"
      ]
     },
     "execution_count": 67,
     "metadata": {},
     "output_type": "execute_result"
    }
   ],
   "source": [
    "plot_vector_field((y,(cos(x)-2) * sin(x)), (x,-pi,pi), (y,-pi,pi),\\\n",
    "                  aspect_ratio=1,color='blue')"
   ]
  },
  {
   "cell_type": "markdown",
   "metadata": {
    "tags": []
   },
   "source": [
    "# 6. Appendix B: Representation of Piecewise functions in sagemath"
   ]
  },
  {
   "cell_type": "markdown",
   "metadata": {},
   "source": [
    "$f(x)=\\begin{cases}\n",
    "-x  & ,\\ x<-1\\\\\n",
    "1 & ,\\ -1\\le x \\le 1\\\\\n",
    "+x & ,\\ x >1\n",
    "\\end{cases}$"
   ]
  },
  {
   "cell_type": "code",
   "execution_count": 14,
   "metadata": {
    "vscode": {
     "languageId": "python"
    }
   },
   "outputs": [
    {
     "data": {
      "image/png": "[encoded data removed]",
      "text/plain": [
       "Graphics object consisting of 1 graphics primitive"
      ]
     },
     "execution_count": 14,
     "metadata": {},
     "output_type": "execute_result"
    }
   ],
   "source": [
    "plot(unit_step(x),(x,-10,10))"
   ]
  },
  {
   "cell_type": "code",
   "execution_count": 15,
   "metadata": {
    "vscode": {
     "languageId": "python"
    }
   },
   "outputs": [],
   "source": [
    "f(x) = -x*unit_step(-1-x)+x*unit_step(x-1)+unit_step(1-x)*unit_step(1+x)"
   ]
  },
  {
   "cell_type": "code",
   "execution_count": 79,
   "metadata": {
    "vscode": {
     "languageId": "python"
    }
   },
   "outputs": [
    {
     "data": {
      "image/png": "[encoded data removed]",
      "text/plain": [
       "Graphics object consisting of 1 graphics primitive"
      ]
     },
     "execution_count": 79,
     "metadata": {},
     "output_type": "execute_result"
    }
   ],
   "source": [
    "g=plot(f(x),(x,-3,3));g"
   ]
  },
  {
   "cell_type": "code",
   "execution_count": 16,
   "metadata": {
    "vscode": {
     "languageId": "python"
    }
   },
   "outputs": [
    {
     "data": {
      "image/png": "[encoded data removed]",
      "text/plain": [
       "Graphics object consisting of 1 graphics primitive"
      ]
     },
     "execution_count": 16,
     "metadata": {},
     "output_type": "execute_result"
    }
   ],
   "source": [
    "dg=plot(diff(f(x),x),(x,-3,3),color='red');dg"
   ]
  },
  {
   "cell_type": "code",
   "execution_count": 82,
   "metadata": {
    "vscode": {
     "languageId": "python"
    }
   },
   "outputs": [
    {
     "data": {
      "image/png": "[encoded data removed]",
      "text/plain": [
       "Graphics object consisting of 2 graphics primitives"
      ]
     },
     "execution_count": 82,
     "metadata": {},
     "output_type": "execute_result"
    }
   ],
   "source": [
    "g+dg"
   ]
  }
 ],
 "metadata": {
  "kernelspec": {
   "display_name": "SageMath 9.3",
   "language": "sage",
   "name": "sagemath"
  },
  "language_info": {
   "codemirror_mode": {
    "name": "ipython",
    "version": 3
   },
   "file_extension": ".py",
   "mimetype": "text/x-python",
   "name": "python",
   "nbconvert_exporter": "python",
   "pygments_lexer": "ipython3",
   "version": "3.7.10"
  }
 },
 "nbformat": 4,
 "nbformat_minor": 5
}
