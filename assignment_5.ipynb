{
 "cells": [
  {
   "cell_type": "markdown",
   "metadata": {},
   "source": [
    "# DAMA50: Mathematics for machine learning\n",
    "\n",
    "## Written assignment 5\n",
    "\n",
    "### Georgios Zavlanis\n",
    "\n",
    "\n",
    "### Problem 7\n",
    "\n",
    "First, we create the Normal Distribution function, which will be our pmf f from scratch, based on our theory"
   ]
  },
  {
   "cell_type": "code",
   "execution_count": 2,
   "metadata": {},
   "outputs": [
    {
     "data": {
      "text/html": [
       "<html>\\(\\displaystyle \\frac{\\sqrt{2} \\sqrt{\\pi} e^{\\left(-\\frac{{\\left(x - μ\\right)}^{2}}{2 \\, σ^{2}}\\right)}}{σ}\\)</html>"
      ],
      "text/latex": [
       "$\\displaystyle \\frac{\\sqrt{2} \\sqrt{\\pi} e^{\\left(-\\frac{{\\left(x - μ\\right)}^{2}}{2 \\, σ^{2}}\\right)}}{σ}$"
      ],
      "text/plain": [
       "sqrt(2)*sqrt(pi)*e^(-1/2*(x - μ)^2/σ^2)/σ"
      ]
     },
     "execution_count": 2,
     "metadata": {},
     "output_type": "execute_result"
    }
   ],
   "source": [
    "%display latex\n",
    "\n",
    "x, μ, σ = var('x, μ, σ')\n",
    "\n",
    "pdf = 1/σ*sqrt(2*pi)*exp(-1/2*((x-μ)/σ)^2); pdf"
   ]
  }
 ],
 "metadata": {
  "kernelspec": {
   "display_name": "SageMath 10.0",
   "language": "sage",
   "name": "sagemath"
  },
  "language_info": {
   "codemirror_mode": {
    "name": "ipython",
    "version": 3
   },
   "file_extension": ".py",
   "mimetype": "text/x-python",
   "name": "python",
   "nbconvert_exporter": "python",
   "pygments_lexer": "ipython3",
   "version": "3.9.18"
  }
 },
 "nbformat": 4,
 "nbformat_minor": 2
}
