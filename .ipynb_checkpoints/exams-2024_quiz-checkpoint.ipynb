{
 "cells": [
  {
   "cell_type": "markdown",
   "metadata": {},
   "source": [
    "### Exams 2024 - Quiz\n",
    "\n",
    "p1"
   ]
  },
  {
   "cell_type": "code",
   "execution_count": 12,
   "metadata": {},
   "outputs": [
    {
     "data": {
      "text/html": [
       "<html><script type=\"math/tex; mode=display\">\\newcommand{\\Bold}[1]{\\mathbf{#1}}3 \\, x^{4} + 4 \\, x^{3} - 36 \\, x^{2}</script></html>"
      ],
      "text/latex": [
       "$$\\newcommand{\\Bold}[1]{\\mathbf{#1}}3 \\, x^{4} + 4 \\, x^{3} - 36 \\, x^{2}$$"
      ],
      "text/plain": [
       "3*x^4 + 4*x^3 - 36*x^2"
      ]
     },
     "execution_count": 12,
     "metadata": {},
     "output_type": "execute_result"
    }
   ],
   "source": [
    "%display latex\n",
    "f(x) = 3*x^4+4*x^3-36*x^2; f(x)"
   ]
  },
  {
   "cell_type": "code",
   "execution_count": 13,
   "metadata": {},
   "outputs": [
    {
     "data": {
      "text/html": [
       "<html><script type=\"math/tex; mode=display\">\\newcommand{\\Bold}[1]{\\mathbf{#1}}36 \\, x^{2} + 24 \\, x - 72</script></html>"
      ],
      "text/latex": [
       "$$\\newcommand{\\Bold}[1]{\\mathbf{#1}}36 \\, x^{2} + 24 \\, x - 72$$"
      ],
      "text/plain": [
       "36*x^2 + 24*x - 72"
      ]
     },
     "execution_count": 13,
     "metadata": {},
     "output_type": "execute_result"
    }
   ],
   "source": [
    "dif(x) = diff(f(x), 2); dif(x)"
   ]
  },
  {
   "cell_type": "code",
   "execution_count": 14,
   "metadata": {},
   "outputs": [
    {
     "data": {
      "text/html": [
       "<html><script type=\"math/tex; mode=display\">\\newcommand{\\Bold}[1]{\\mathbf{#1}}180</script></html>"
      ],
      "text/latex": [
       "$$\\newcommand{\\Bold}[1]{\\mathbf{#1}}180$$"
      ],
      "text/plain": [
       "180"
      ]
     },
     "execution_count": 14,
     "metadata": {},
     "output_type": "execute_result"
    }
   ],
   "source": [
    "dif(-3)"
   ]
  },
  {
   "cell_type": "code",
   "execution_count": 15,
   "metadata": {},
   "outputs": [
    {
     "data": {
      "text/html": [
       "<html><script type=\"math/tex; mode=display\">\\newcommand{\\Bold}[1]{\\mathbf{#1}}-72</script></html>"
      ],
      "text/latex": [
       "$$\\newcommand{\\Bold}[1]{\\mathbf{#1}}-72$$"
      ],
      "text/plain": [
       "-72"
      ]
     },
     "execution_count": 15,
     "metadata": {},
     "output_type": "execute_result"
    }
   ],
   "source": [
    "dif(0)"
   ]
  },
  {
   "cell_type": "code",
   "execution_count": 16,
   "metadata": {},
   "outputs": [
    {
     "data": {
      "text/html": [
       "<html><script type=\"math/tex; mode=display\">\\newcommand{\\Bold}[1]{\\mathbf{#1}}120</script></html>"
      ],
      "text/latex": [
       "$$\\newcommand{\\Bold}[1]{\\mathbf{#1}}120$$"
      ],
      "text/plain": [
       "120"
      ]
     },
     "execution_count": 16,
     "metadata": {},
     "output_type": "execute_result"
    }
   ],
   "source": [
    "dif(2)"
   ]
  },
  {
   "cell_type": "code",
   "execution_count": 19,
   "metadata": {},
   "outputs": [
    {
     "data": {
      "text/html": [
       "<html><script type=\"math/tex; mode=display\">\\newcommand{\\Bold}[1]{\\mathbf{#1}}\\left(\\begin{array}{rr}\n",
       "0 & 1 \\\\\n",
       "-2 & -3\n",
       "\\end{array}\\right)</script></html>"
      ],
      "text/latex": [
       "$$\\newcommand{\\Bold}[1]{\\mathbf{#1}}\\left(\\begin{array}{rr}\n",
       "0 & 1 \\\\\n",
       "-2 & -3\n",
       "\\end{array}\\right)$$"
      ],
      "text/plain": [
       "[ 0  1]\n",
       "[-2 -3]"
      ]
     },
     "execution_count": 19,
     "metadata": {},
     "output_type": "execute_result"
    }
   ],
   "source": [
    "A = matrix([[0, 1], [-2, -3]]); A\n"
   ]
  },
  {
   "cell_type": "code",
   "execution_count": 22,
   "metadata": {},
   "outputs": [
    {
     "data": {
      "text/html": [
       "<html><script type=\"math/tex; mode=display\">\\newcommand{\\Bold}[1]{\\mathbf{#1}}\\left[\\left(-1, \\left[\\left(1,\\,-1\\right)\\right], 1\\right), \\left(-2, \\left[\\left(1,\\,-2\\right)\\right], 1\\right)\\right]</script></html>"
      ],
      "text/latex": [
       "$$\\newcommand{\\Bold}[1]{\\mathbf{#1}}\\left[\\left(-1, \\left[\\left(1,\\,-1\\right)\\right], 1\\right), \\left(-2, \\left[\\left(1,\\,-2\\right)\\right], 1\\right)\\right]$$"
      ],
      "text/plain": [
       "[(-1,\n",
       "  [\n",
       "  (1, -1)\n",
       "  ],\n",
       "  1),\n",
       " (-2,\n",
       "  [\n",
       "  (1, -2)\n",
       "  ],\n",
       "  1)]"
      ]
     },
     "execution_count": 22,
     "metadata": {},
     "output_type": "execute_result"
    }
   ],
   "source": [
    "A.eigenvectors_right()"
   ]
  },
  {
   "cell_type": "code",
   "execution_count": 23,
   "metadata": {},
   "outputs": [
    {
     "data": {
      "text/html": [
       "<html><script type=\"math/tex; mode=display\">\\newcommand{\\Bold}[1]{\\mathbf{#1}}{(\\log\\left(2\\right))} + \\frac{1}{2} x + \\frac{1}{8} x^{2} + {(-\\frac{1}{192})} x^{4} + \\frac{1}{2880} x^{6} + {(-\\frac{17}{645120})} x^{8} + \\frac{31}{14515200} x^{10} + {(-\\frac{691}{3832012800})} x^{12} + \\frac{5461}{348713164800} x^{14} + {(-\\frac{929569}{669529276416000})} x^{16} + \\frac{3202291}{25609494822912000} x^{18} + \\mathcal{O}\\left(x^{20}\\right)</script></html>"
      ],
      "text/latex": [
       "$$\\newcommand{\\Bold}[1]{\\mathbf{#1}}{(\\log\\left(2\\right))} + \\frac{1}{2} x + \\frac{1}{8} x^{2} + {(-\\frac{1}{192})} x^{4} + \\frac{1}{2880} x^{6} + {(-\\frac{17}{645120})} x^{8} + \\frac{31}{14515200} x^{10} + {(-\\frac{691}{3832012800})} x^{12} + \\frac{5461}{348713164800} x^{14} + {(-\\frac{929569}{669529276416000})} x^{16} + \\frac{3202291}{25609494822912000} x^{18} + \\mathcal{O}\\left(x^{20}\\right)$$"
      ],
      "text/plain": [
       "(log(2)) + 1/2*x + 1/8*x^2 + (-1/192)*x^4 + 1/2880*x^6 + (-17/645120)*x^8 + 31/14515200*x^10 + (-691/3832012800)*x^12 + 5461/348713164800*x^14 + (-929569/669529276416000)*x^16 + 3202291/25609494822912000*x^18 + Order(x^20)"
      ]
     },
     "execution_count": 23,
     "metadata": {},
     "output_type": "execute_result"
    }
   ],
   "source": [
    "ln(1+exp(x)).series(x==0)"
   ]
  },
  {
   "cell_type": "code",
   "execution_count": 24,
   "metadata": {},
   "outputs": [
    {
     "data": {
      "text/html": [
       "<html><script type=\"math/tex; mode=display\">\\newcommand{\\Bold}[1]{\\mathbf{#1}}\\left(\\begin{array}{rrr}\n",
       "1 & 1 & 4 \\\\\n",
       "-3 & -3 & h \\\\\n",
       "1 & 8 & 0\n",
       "\\end{array}\\right)</script></html>"
      ],
      "text/latex": [
       "$$\\newcommand{\\Bold}[1]{\\mathbf{#1}}\\left(\\begin{array}{rrr}\n",
       "1 & 1 & 4 \\\\\n",
       "-3 & -3 & h \\\\\n",
       "1 & 8 & 0\n",
       "\\end{array}\\right)$$"
      ],
      "text/plain": [
       "[ 1  1  4]\n",
       "[-3 -3  h]\n",
       "[ 1  8  0]"
      ]
     },
     "execution_count": 24,
     "metadata": {},
     "output_type": "execute_result"
    }
   ],
   "source": [
    "h, k, x1, x2,x3 = var('h,k,x1,x2,x3')\n",
    "A = matrix([[1,1,4], [-3,-3, h], [1,8,0]]); A"
   ]
  },
  {
   "cell_type": "code",
   "execution_count": 26,
   "metadata": {},
   "outputs": [
    {
     "data": {
      "text/html": [
       "<html><script type=\"math/tex; mode=display\">\\newcommand{\\Bold}[1]{\\mathbf{#1}}\\left(\\begin{array}{r}\n",
       "x_{1} + x_{2} + 4 \\, x_{3} \\\\\n",
       "h x_{3} - 3 \\, x_{1} - 3 \\, x_{2} \\\\\n",
       "x_{1} + 8 \\, x_{2}\n",
       "\\end{array}\\right)</script></html>"
      ],
      "text/latex": [
       "$$\\newcommand{\\Bold}[1]{\\mathbf{#1}}\\left(\\begin{array}{r}\n",
       "x_{1} + x_{2} + 4 \\, x_{3} \\\\\n",
       "h x_{3} - 3 \\, x_{1} - 3 \\, x_{2} \\\\\n",
       "x_{1} + 8 \\, x_{2}\n",
       "\\end{array}\\right)$$"
      ],
      "text/plain": [
       "[    x1 + x2 + 4*x3]\n",
       "[h*x3 - 3*x1 - 3*x2]\n",
       "[         x1 + 8*x2]"
      ]
     },
     "execution_count": 26,
     "metadata": {},
     "output_type": "execute_result"
    }
   ],
   "source": [
    "b = matrix(3, 1,[-2, k,0])\n",
    "x = matrix(3, 1, [x1, x2,x3])\n",
    "\n",
    "A*x"
   ]
  },
  {
   "cell_type": "code",
   "execution_count": 30,
   "metadata": {},
   "outputs": [
    {
     "data": {
      "text/html": [
       "<html><script type=\"math/tex; mode=display\">\\newcommand{\\Bold}[1]{\\mathbf{#1}}\\left(\\begin{array}{r}\n",
       "-\\frac{16 \\, {\\left(h + 2 \\, k\\right)}}{7 \\, {\\left(h + 12\\right)}} \\\\\n",
       "\\frac{2 \\, {\\left(h + 2 \\, k\\right)}}{7 \\, {\\left(h + 12\\right)}} \\\\\n",
       "\\frac{k - 6}{h + 12}\n",
       "\\end{array}\\right)</script></html>"
      ],
      "text/latex": [
       "$$\\newcommand{\\Bold}[1]{\\mathbf{#1}}\\left(\\begin{array}{r}\n",
       "-\\frac{16 \\, {\\left(h + 2 \\, k\\right)}}{7 \\, {\\left(h + 12\\right)}} \\\\\n",
       "\\frac{2 \\, {\\left(h + 2 \\, k\\right)}}{7 \\, {\\left(h + 12\\right)}} \\\\\n",
       "\\frac{k - 6}{h + 12}\n",
       "\\end{array}\\right)$$"
      ],
      "text/plain": [
       "[-16/7*(h + 2*k)/(h + 12)]\n",
       "[  2/7*(h + 2*k)/(h + 12)]\n",
       "[        (k - 6)/(h + 12)]"
      ]
     },
     "execution_count": 30,
     "metadata": {},
     "output_type": "execute_result"
    }
   ],
   "source": [
    "eq=(A^(-1)*b).simplify_full(); eq"
   ]
  },
  {
   "cell_type": "code",
   "execution_count": 31,
   "metadata": {},
   "outputs": [
    {
     "data": {
      "text/html": [
       "<html><script type=\"math/tex; mode=display\">\\newcommand{\\Bold}[1]{\\mathbf{#1}}\\left[\\right]</script></html>"
      ],
      "text/latex": [
       "$$\\newcommand{\\Bold}[1]{\\mathbf{#1}}\\left[\\right]$$"
      ],
      "text/plain": [
       "[]"
      ]
     },
     "execution_count": 31,
     "metadata": {},
     "output_type": "execute_result"
    }
   ],
   "source": [
    "solve([eq[0] == 0, eq[1]==0, eq[2]==0], [h,k])"
   ]
  },
  {
   "cell_type": "code",
   "execution_count": 32,
   "metadata": {},
   "outputs": [
    {
     "data": {
      "text/html": [
       "<html><script type=\"math/tex; mode=display\">\\newcommand{\\Bold}[1]{\\mathbf{#1}}e^{\\left(-{\\left(x + 2 \\, y\\right)}^{2}\\right)}</script></html>"
      ],
      "text/latex": [
       "$$\\newcommand{\\Bold}[1]{\\mathbf{#1}}e^{\\left(-{\\left(x + 2 \\, y\\right)}^{2}\\right)}$$"
      ],
      "text/plain": [
       "e^(-(x + 2*y)^2)"
      ]
     },
     "execution_count": 32,
     "metadata": {},
     "output_type": "execute_result"
    }
   ],
   "source": [
    "f(x, y)=exp(-(x+2*y)^2); f(x, y)"
   ]
  },
  {
   "cell_type": "code",
   "execution_count": 35,
   "metadata": {},
   "outputs": [
    {
     "data": {
      "text/html": [
       "<html><script type=\"math/tex; mode=display\">\\newcommand{\\Bold}[1]{\\mathbf{#1}}\\left(-2 \\, {\\left(x + 2 \\, y\\right)} e^{\\left(-{\\left(x + 2 \\, y\\right)}^{2}\\right)},\\,-4 \\, {\\left(x + 2 \\, y\\right)} e^{\\left(-{\\left(x + 2 \\, y\\right)}^{2}\\right)}\\right)</script></html>"
      ],
      "text/latex": [
       "$$\\newcommand{\\Bold}[1]{\\mathbf{#1}}\\left(-2 \\, {\\left(x + 2 \\, y\\right)} e^{\\left(-{\\left(x + 2 \\, y\\right)}^{2}\\right)},\\,-4 \\, {\\left(x + 2 \\, y\\right)} e^{\\left(-{\\left(x + 2 \\, y\\right)}^{2}\\right)}\\right)$$"
      ],
      "text/plain": [
       "(-2*(x + 2*y)*e^(-(x + 2*y)^2), -4*(x + 2*y)*e^(-(x + 2*y)^2))"
      ]
     },
     "execution_count": 35,
     "metadata": {},
     "output_type": "execute_result"
    }
   ],
   "source": [
    "f(x, y).gradient()"
   ]
  },
  {
   "cell_type": "code",
   "execution_count": 37,
   "metadata": {},
   "outputs": [
    {
     "data": {
      "text/html": [
       "<html><script type=\"math/tex; mode=display\">\\newcommand{\\Bold}[1]{\\mathbf{#1}}2</script></html>"
      ],
      "text/latex": [
       "$$\\newcommand{\\Bold}[1]{\\mathbf{#1}}2$$"
      ],
      "text/plain": [
       "2"
      ]
     },
     "execution_count": 37,
     "metadata": {},
     "output_type": "execute_result"
    }
   ],
   "source": [
    "R = matrix(3, 4,[[1,0,2,3], [0,1,0,1], [0,0,0,0]])\n",
    "R.rank()"
   ]
  },
  {
   "cell_type": "code",
   "execution_count": 41,
   "metadata": {},
   "outputs": [
    {
     "data": {
      "text/html": [
       "<html><script type=\"math/tex; mode=display\">\\newcommand{\\Bold}[1]{\\mathbf{#1}}\\left(\\left(\\begin{array}{rr}\n",
       "-0.707 & -0.707 \\\\\n",
       "-0.707 & 0.707\n",
       "\\end{array}\\right), \\left(\\begin{array}{rrr}\n",
       "3.00 & 0.000 & 0.000 \\\\\n",
       "0.000 & 1.00 & 0.000\n",
       "\\end{array}\\right), \\left(\\begin{array}{rrr}\n",
       "-0.236 & 0.707 & -0.667 \\\\\n",
       "0.943 & -1.81 \\times 10^{-16} & -0.333 \\\\\n",
       "0.236 & 0.707 & 0.667\n",
       "\\end{array}\\right)\\right)</script></html>"
      ],
      "text/latex": [
       "$$\\newcommand{\\Bold}[1]{\\mathbf{#1}}\\left(\\left(\\begin{array}{rr}\n",
       "-0.707 & -0.707 \\\\\n",
       "-0.707 & 0.707\n",
       "\\end{array}\\right), \\left(\\begin{array}{rrr}\n",
       "3.00 & 0.000 & 0.000 \\\\\n",
       "0.000 & 1.00 & 0.000\n",
       "\\end{array}\\right), \\left(\\begin{array}{rrr}\n",
       "-0.236 & 0.707 & -0.667 \\\\\n",
       "0.943 & -1.81 \\times 10^{-16} & -0.333 \\\\\n",
       "0.236 & 0.707 & 0.667\n",
       "\\end{array}\\right)\\right)$$"
      ],
      "text/plain": [
       "(\n",
       "                                      [   -0.236     0.707    -0.667]\n",
       "[-0.707 -0.707]  [ 3.00 0.000 0.000]  [    0.943 -1.81e-16    -0.333]\n",
       "[-0.707  0.707], [0.000  1.00 0.000], [    0.236     0.707     0.667]\n",
       ")"
      ]
     },
     "execution_count": 41,
     "metadata": {},
     "output_type": "execute_result"
    }
   ],
   "source": [
    "A = matrix(RDF, 2,3,[[0, -2,-1],[1, -2,0]])\n",
    "u,s,v = A.SVD()\n",
    "u.n(digits=3),s.n(digits=3),v.n(digits=3)"
   ]
  },
  {
   "cell_type": "code",
   "execution_count": 45,
   "metadata": {},
   "outputs": [
    {
     "data": {
      "text/html": [
       "<html><script type=\"math/tex; mode=display\">\\newcommand{\\Bold}[1]{\\mathbf{#1}}\\left(\\begin{array}{rr}\n",
       "\\frac{1}{a} - \\frac{b c}{a^{2} {\\left(\\frac{b c}{a} - d\\right)}} & \\frac{b}{a {\\left(\\frac{b c}{a} - d\\right)}} \\\\\n",
       "\\frac{c}{a {\\left(\\frac{b c}{a} - d\\right)}} & -\\frac{1}{\\frac{b c}{a} - d}\n",
       "\\end{array}\\right)</script></html>"
      ],
      "text/latex": [
       "$$\\newcommand{\\Bold}[1]{\\mathbf{#1}}\\left(\\begin{array}{rr}\n",
       "\\frac{1}{a} - \\frac{b c}{a^{2} {\\left(\\frac{b c}{a} - d\\right)}} & \\frac{b}{a {\\left(\\frac{b c}{a} - d\\right)}} \\\\\n",
       "\\frac{c}{a {\\left(\\frac{b c}{a} - d\\right)}} & -\\frac{1}{\\frac{b c}{a} - d}\n",
       "\\end{array}\\right)$$"
      ],
      "text/plain": [
       "[1/a - b*c/(a^2*(b*c/a - d))           b/(a*(b*c/a - d))]\n",
       "[          c/(a*(b*c/a - d))              -1/(b*c/a - d)]"
      ]
     },
     "execution_count": 45,
     "metadata": {},
     "output_type": "execute_result"
    }
   ],
   "source": [
    "a, b, c, d = var('a, b, c, d')\n",
    "A = matrix([[a,b],[c, d]])\n",
    "\n",
    "A1 = A^(-1); A1"
   ]
  },
  {
   "cell_type": "code",
   "execution_count": 46,
   "metadata": {},
   "outputs": [
    {
     "data": {
      "text/html": [
       "<html><script type=\"math/tex; mode=display\">\\newcommand{\\Bold}[1]{\\mathbf{#1}}\\left(\\begin{array}{rr}\n",
       "a^{2} + b c & a b + b d \\\\\n",
       "a c + c d & b c + d^{2}\n",
       "\\end{array}\\right)</script></html>"
      ],
      "text/latex": [
       "$$\\newcommand{\\Bold}[1]{\\mathbf{#1}}\\left(\\begin{array}{rr}\n",
       "a^{2} + b c & a b + b d \\\\\n",
       "a c + c d & b c + d^{2}\n",
       "\\end{array}\\right)$$"
      ],
      "text/plain": [
       "[a^2 + b*c a*b + b*d]\n",
       "[a*c + c*d b*c + d^2]"
      ]
     },
     "execution_count": 46,
     "metadata": {},
     "output_type": "execute_result"
    }
   ],
   "source": [
    "A^2"
   ]
  },
  {
   "cell_type": "code",
   "execution_count": 49,
   "metadata": {},
   "outputs": [
    {
     "data": {
      "text/html": [
       "<html><script type=\"math/tex; mode=display\">\\newcommand{\\Bold}[1]{\\mathbf{#1}}\\left(\\begin{array}{rr}\n",
       "-\\frac{27 \\, d}{b c - a d} & \\frac{27 \\, b}{b c - a d} \\\\\n",
       "\\frac{27 \\, c}{b c - a d} & -\\frac{27 \\, a}{b c - a d}\n",
       "\\end{array}\\right)</script></html>"
      ],
      "text/latex": [
       "$$\\newcommand{\\Bold}[1]{\\mathbf{#1}}\\left(\\begin{array}{rr}\n",
       "-\\frac{27 \\, d}{b c - a d} & \\frac{27 \\, b}{b c - a d} \\\\\n",
       "\\frac{27 \\, c}{b c - a d} & -\\frac{27 \\, a}{b c - a d}\n",
       "\\end{array}\\right)$$"
      ],
      "text/plain": [
       "[-27*d/(b*c - a*d)  27*b/(b*c - a*d)]\n",
       "[ 27*c/(b*c - a*d) -27*a/(b*c - a*d)]"
      ]
     },
     "execution_count": 49,
     "metadata": {},
     "output_type": "execute_result"
    }
   ],
   "source": [
    "A2 = 27*A1;A2.simplify_full()"
   ]
  },
  {
   "cell_type": "code",
   "execution_count": 50,
   "metadata": {},
   "outputs": [
    {
     "ename": "TypeError",
     "evalue": "matrix must be square, not 3 x 2",
     "output_type": "error",
     "traceback": [
      "\u001b[0;31m---------------------------------------------------------------------------\u001b[0m",
      "\u001b[0;31mTypeError\u001b[0m                                 Traceback (most recent call last)",
      "\u001b[0;32m<ipython-input-50-e3bded85e10d>\u001b[0m in \u001b[0;36m<module>\u001b[0;34m\u001b[0m\n\u001b[1;32m      1\u001b[0m \u001b[0mA\u001b[0m \u001b[0;34m=\u001b[0m \u001b[0mmatrix\u001b[0m\u001b[0;34m(\u001b[0m\u001b[0mInteger\u001b[0m\u001b[0;34m(\u001b[0m\u001b[0;36m2\u001b[0m\u001b[0;34m)\u001b[0m\u001b[0;34m,\u001b[0m \u001b[0mInteger\u001b[0m\u001b[0;34m(\u001b[0m\u001b[0;36m3\u001b[0m\u001b[0;34m)\u001b[0m\u001b[0;34m,\u001b[0m \u001b[0;34m[\u001b[0m\u001b[0;34m[\u001b[0m\u001b[0mInteger\u001b[0m\u001b[0;34m(\u001b[0m\u001b[0;36m3\u001b[0m\u001b[0;34m)\u001b[0m\u001b[0;34m,\u001b[0m\u001b[0mInteger\u001b[0m\u001b[0;34m(\u001b[0m\u001b[0;36m1\u001b[0m\u001b[0;34m)\u001b[0m\u001b[0;34m,\u001b[0m\u001b[0mInteger\u001b[0m\u001b[0;34m(\u001b[0m\u001b[0;36m2\u001b[0m\u001b[0;34m)\u001b[0m\u001b[0;34m]\u001b[0m\u001b[0;34m,\u001b[0m \u001b[0;34m[\u001b[0m\u001b[0mInteger\u001b[0m\u001b[0;34m(\u001b[0m\u001b[0;36m0\u001b[0m\u001b[0;34m)\u001b[0m\u001b[0;34m,\u001b[0m \u001b[0mInteger\u001b[0m\u001b[0;34m(\u001b[0m\u001b[0;36m1\u001b[0m\u001b[0;34m)\u001b[0m\u001b[0;34m,\u001b[0m \u001b[0;34m-\u001b[0m\u001b[0mInteger\u001b[0m\u001b[0;34m(\u001b[0m\u001b[0;36m1\u001b[0m\u001b[0;34m)\u001b[0m\u001b[0;34m]\u001b[0m\u001b[0;34m]\u001b[0m\u001b[0;34m)\u001b[0m\u001b[0;34m\u001b[0m\u001b[0;34m\u001b[0m\u001b[0m\n\u001b[0;32m----> 2\u001b[0;31m \u001b[0mA\u001b[0m\u001b[0;34m.\u001b[0m\u001b[0meigenvectors_right\u001b[0m\u001b[0;34m(\u001b[0m\u001b[0;34m)\u001b[0m\u001b[0;34m\u001b[0m\u001b[0;34m\u001b[0m\u001b[0m\n\u001b[0m",
      "\u001b[0;32m/opt/sagemath-9.3/local/lib/python3.7/site-packages/sage/matrix/matrix2.pyx\u001b[0m in \u001b[0;36msage.matrix.matrix2.Matrix.eigenvectors_right (build/cythonized/sage/matrix/matrix2.c:47742)\u001b[0;34m()\u001b[0m\n\u001b[1;32m   6709\u001b[0m             \u001b[0mimplemented\u001b[0m \u001b[0;32mfor\u001b[0m \u001b[0mRDF\u001b[0m \u001b[0;32mand\u001b[0m \u001b[0mCDF\u001b[0m\u001b[0;34m,\u001b[0m \u001b[0mbut\u001b[0m \u001b[0;32mnot\u001b[0m \u001b[0;32mfor\u001b[0m \u001b[0mRational\u001b[0m \u001b[0mField\u001b[0m\u001b[0;34m\u001b[0m\u001b[0;34m\u001b[0m\u001b[0m\n\u001b[1;32m   6710\u001b[0m         \"\"\"\n\u001b[0;32m-> 6711\u001b[0;31m         \u001b[0;32mreturn\u001b[0m \u001b[0mself\u001b[0m\u001b[0;34m.\u001b[0m\u001b[0mtranspose\u001b[0m\u001b[0;34m(\u001b[0m\u001b[0;34m)\u001b[0m\u001b[0;34m.\u001b[0m\u001b[0meigenvectors_left\u001b[0m\u001b[0;34m(\u001b[0m\u001b[0mother\u001b[0m\u001b[0;34m=\u001b[0m\u001b[0mother\u001b[0m\u001b[0;34m,\u001b[0m \u001b[0mextend\u001b[0m\u001b[0;34m=\u001b[0m\u001b[0mextend\u001b[0m\u001b[0;34m)\u001b[0m\u001b[0;34m\u001b[0m\u001b[0;34m\u001b[0m\u001b[0m\n\u001b[0m\u001b[1;32m   6712\u001b[0m \u001b[0;34m\u001b[0m\u001b[0m\n\u001b[1;32m   6713\u001b[0m     \u001b[0mright_eigenvectors\u001b[0m \u001b[0;34m=\u001b[0m \u001b[0meigenvectors_right\u001b[0m\u001b[0;34m\u001b[0m\u001b[0;34m\u001b[0m\u001b[0m\n",
      "\u001b[0;32m/opt/sagemath-9.3/local/lib/python3.7/site-packages/sage/matrix/matrix2.pyx\u001b[0m in \u001b[0;36msage.matrix.matrix2.Matrix.eigenvectors_left (build/cythonized/sage/matrix/matrix2.c:46764)\u001b[0;34m()\u001b[0m\n\u001b[1;32m   6623\u001b[0m         \u001b[0;32mfrom\u001b[0m \u001b[0msage\u001b[0m\u001b[0;34m.\u001b[0m\u001b[0mrings\u001b[0m\u001b[0;34m.\u001b[0m\u001b[0mqqbar\u001b[0m \u001b[0;32mimport\u001b[0m \u001b[0mQQbar\u001b[0m\u001b[0;34m\u001b[0m\u001b[0;34m\u001b[0m\u001b[0m\n\u001b[1;32m   6624\u001b[0m         \u001b[0;32mfrom\u001b[0m \u001b[0msage\u001b[0m\u001b[0;34m.\u001b[0m\u001b[0mcategories\u001b[0m\u001b[0;34m.\u001b[0m\u001b[0mhomset\u001b[0m \u001b[0;32mimport\u001b[0m \u001b[0mhom\u001b[0m\u001b[0;34m\u001b[0m\u001b[0;34m\u001b[0m\u001b[0m\n\u001b[0;32m-> 6625\u001b[0;31m         \u001b[0meigenspaces\u001b[0m \u001b[0;34m=\u001b[0m \u001b[0mself\u001b[0m\u001b[0;34m.\u001b[0m\u001b[0meigenspaces_left\u001b[0m\u001b[0;34m(\u001b[0m\u001b[0mformat\u001b[0m\u001b[0;34m=\u001b[0m\u001b[0;34m'galois'\u001b[0m\u001b[0;34m,\u001b[0m \u001b[0malgebraic_multiplicity\u001b[0m\u001b[0;34m=\u001b[0m\u001b[0;32mTrue\u001b[0m\u001b[0;34m)\u001b[0m\u001b[0;34m\u001b[0m\u001b[0;34m\u001b[0m\u001b[0m\n\u001b[0m\u001b[1;32m   6626\u001b[0m         \u001b[0mevec_list\u001b[0m\u001b[0;34m=\u001b[0m\u001b[0;34m[\u001b[0m\u001b[0;34m]\u001b[0m\u001b[0;34m\u001b[0m\u001b[0;34m\u001b[0m\u001b[0m\n\u001b[1;32m   6627\u001b[0m         \u001b[0mn\u001b[0m \u001b[0;34m=\u001b[0m \u001b[0mself\u001b[0m\u001b[0;34m.\u001b[0m\u001b[0m_nrows\u001b[0m\u001b[0;34m\u001b[0m\u001b[0;34m\u001b[0m\u001b[0m\n",
      "\u001b[0;32m/opt/sagemath-9.3/local/lib/python3.7/site-packages/sage/matrix/matrix2.pyx\u001b[0m in \u001b[0;36msage.matrix.matrix2.Matrix.eigenspaces_left (build/cythonized/sage/matrix/matrix2.c:41929)\u001b[0;34m()\u001b[0m\n\u001b[1;32m   6123\u001b[0m         \u001b[0;32mif\u001b[0m \u001b[0;32mnot\u001b[0m \u001b[0mself\u001b[0m\u001b[0;34m.\u001b[0m\u001b[0mis_square\u001b[0m\u001b[0;34m(\u001b[0m\u001b[0;34m)\u001b[0m\u001b[0;34m:\u001b[0m\u001b[0;34m\u001b[0m\u001b[0;34m\u001b[0m\u001b[0m\n\u001b[1;32m   6124\u001b[0m             \u001b[0mmsg\u001b[0m \u001b[0;34m=\u001b[0m \u001b[0;34m'matrix must be square, not {0} x {1}'\u001b[0m\u001b[0;34m\u001b[0m\u001b[0;34m\u001b[0m\u001b[0m\n\u001b[0;32m-> 6125\u001b[0;31m             \u001b[0;32mraise\u001b[0m \u001b[0mTypeError\u001b[0m\u001b[0;34m(\u001b[0m\u001b[0mmsg\u001b[0m\u001b[0;34m.\u001b[0m\u001b[0mformat\u001b[0m\u001b[0;34m(\u001b[0m\u001b[0mself\u001b[0m\u001b[0;34m.\u001b[0m\u001b[0mnrows\u001b[0m\u001b[0;34m(\u001b[0m\u001b[0;34m)\u001b[0m\u001b[0;34m,\u001b[0m \u001b[0mself\u001b[0m\u001b[0;34m.\u001b[0m\u001b[0mncols\u001b[0m\u001b[0;34m(\u001b[0m\u001b[0;34m)\u001b[0m\u001b[0;34m)\u001b[0m\u001b[0;34m)\u001b[0m\u001b[0;34m\u001b[0m\u001b[0;34m\u001b[0m\u001b[0m\n\u001b[0m\u001b[1;32m   6126\u001b[0m         \u001b[0;32mif\u001b[0m \u001b[0;32mnot\u001b[0m \u001b[0mself\u001b[0m\u001b[0;34m.\u001b[0m\u001b[0mbase_ring\u001b[0m\u001b[0;34m(\u001b[0m\u001b[0;34m)\u001b[0m\u001b[0;34m.\u001b[0m\u001b[0mis_exact\u001b[0m\u001b[0;34m(\u001b[0m\u001b[0;34m)\u001b[0m\u001b[0;34m:\u001b[0m\u001b[0;34m\u001b[0m\u001b[0;34m\u001b[0m\u001b[0m\n\u001b[1;32m   6127\u001b[0m             msg = (\"eigenspaces cannot be computed reliably for inexact rings such as {0},\\n\",\n",
      "\u001b[0;31mTypeError\u001b[0m: matrix must be square, not 3 x 2"
     ]
    }
   ],
   "source": [
    "A = matrix(2, 3, [[3,1,2], [0, 1, -1]])\n",
    "A.eigenvectors_right()"
   ]
  },
  {
   "cell_type": "code",
   "execution_count": null,
   "metadata": {},
   "outputs": [],
   "source": []
  }
 ],
 "metadata": {
  "kernelspec": {
   "display_name": "SageMath 9.3",
   "language": "sage",
   "name": "sagemath"
  },
  "language_info": {
   "codemirror_mode": {
    "name": "ipython",
    "version": 3
   },
   "file_extension": ".py",
   "mimetype": "text/x-python",
   "name": "python",
   "nbconvert_exporter": "python",
   "pygments_lexer": "ipython3",
   "version": "3.7.10"
  }
 },
 "nbformat": 4,
 "nbformat_minor": 4
}
