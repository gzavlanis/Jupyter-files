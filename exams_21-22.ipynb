{
 "cells": [
  {
   "cell_type": "markdown",
   "metadata": {},
   "source": [
    "# Exams solutions 2021 - 2022 (Sagemath part)\n",
    "\n",
    "### Trying to solve Quiz problems using Sagemath\n",
    "\n",
    "**Problem 1**"
   ]
  },
  {
   "cell_type": "code",
   "execution_count": 1,
   "metadata": {},
   "outputs": [
    {
     "data": {
      "text/html": [
       "<html><script type=\"math/tex; mode=display\">\\newcommand{\\Bold}[1]{\\mathbf{#1}}\\left[\\left[a = 2, b = 1, c = 1\\right]\\right]</script></html>"
      ],
      "text/latex": [
       "$$\\newcommand{\\Bold}[1]{\\mathbf{#1}}\\left[\\left[a = 2, b = 1, c = 1\\right]\\right]$$"
      ],
      "text/plain": [
       "[[a == 2, b == 1, c == 1]]"
      ]
     },
     "execution_count": 1,
     "metadata": {},
     "output_type": "execute_result"
    }
   ],
   "source": [
    "%display latex\n",
    "\n",
    "a, b, c = var('a, b, c')\n",
    "f(x, y) = a + b*x + c*x^2 - y\n",
    "\n",
    "eq1 = f(1, 4) == 0\n",
    "eq2 = f(2, 8) == 0\n",
    "eq3 = f(3, 14) == 0\n",
    "solve([eq1, eq2, eq3], [a, b, c])"
   ]
  },
  {
   "cell_type": "code",
   "execution_count": 70,
   "metadata": {},
   "outputs": [
    {
     "data": {
      "text/html": [
       "<html><script type=\"math/tex; mode=display\">\\newcommand{\\Bold}[1]{\\mathbf{#1}}\\left(\\left(\\begin{array}{rrr}\n",
       "x_{1} & x_{2} & x_{3} \\\\\n",
       "x_{4} & x_{5} & x_{6} \\\\\n",
       "x_{7} & x_{8} & x_{9}\n",
       "\\end{array}\\right), \\left(\\begin{array}{r}\n",
       "2 \\\\\n",
       "1 \\\\\n",
       "1\n",
       "\\end{array}\\right), \\left(\\begin{array}{r}\n",
       "4 \\\\\n",
       "8 \\\\\n",
       "14\n",
       "\\end{array}\\right)\\right)</script></html>"
      ],
      "text/latex": [
       "$$\\newcommand{\\Bold}[1]{\\mathbf{#1}}\\left(\\left(\\begin{array}{rrr}\n",
       "x_{1} & x_{2} & x_{3} \\\\\n",
       "x_{4} & x_{5} & x_{6} \\\\\n",
       "x_{7} & x_{8} & x_{9}\n",
       "\\end{array}\\right), \\left(\\begin{array}{r}\n",
       "2 \\\\\n",
       "1 \\\\\n",
       "1\n",
       "\\end{array}\\right), \\left(\\begin{array}{r}\n",
       "4 \\\\\n",
       "8 \\\\\n",
       "14\n",
       "\\end{array}\\right)\\right)$$"
      ],
      "text/plain": [
       "(\n",
       "[x1 x2 x3]  [2]  [ 4]\n",
       "[x4 x5 x6]  [1]  [ 8]\n",
       "[x7 x8 x9], [1], [14]\n",
       ")"
      ]
     },
     "execution_count": 70,
     "metadata": {},
     "output_type": "execute_result"
    }
   ],
   "source": [
    "x1, x2, x3, x4, x5, x6, x7, x8, x9 = var('x1, x2, x3, x4, x5,x6, x7, x8, x9')\n",
    "A = matrix([[x1, x2, x3], [x4, x5, x6], [x7, x8,x9]])\n",
    "X = matrix(3, 1, [2, 1, 1])\n",
    "Y = matrix(3, 1, [4, 8, 14])\n",
    "A, X, Y"
   ]
  },
  {
   "cell_type": "code",
   "execution_count": 71,
   "metadata": {},
   "outputs": [
    {
     "data": {
      "text/html": [
       "<html><script type=\"math/tex; mode=display\">\\newcommand{\\Bold}[1]{\\mathbf{#1}}\\left(\\begin{array}{r}\n",
       "2 \\, x_{1} + x_{2} + x_{3} \\\\\n",
       "2 \\, x_{4} + x_{5} + x_{6} \\\\\n",
       "2 \\, x_{7} + x_{8} + x_{9}\n",
       "\\end{array}\\right)</script></html>"
      ],
      "text/latex": [
       "$$\\newcommand{\\Bold}[1]{\\mathbf{#1}}\\left(\\begin{array}{r}\n",
       "2 \\, x_{1} + x_{2} + x_{3} \\\\\n",
       "2 \\, x_{4} + x_{5} + x_{6} \\\\\n",
       "2 \\, x_{7} + x_{8} + x_{9}\n",
       "\\end{array}\\right)$$"
      ],
      "text/plain": [
       "[2*x1 + x2 + x3]\n",
       "[2*x4 + x5 + x6]\n",
       "[2*x7 + x8 + x9]"
      ]
     },
     "execution_count": 71,
     "metadata": {},
     "output_type": "execute_result"
    }
   ],
   "source": [
    "AX = A*X; AX"
   ]
  },
  {
   "cell_type": "code",
   "execution_count": 4,
   "metadata": {},
   "outputs": [
    {
     "data": {
      "text/html": [
       "<html><script type=\"math/tex; mode=display\">\\newcommand{\\Bold}[1]{\\mathbf{#1}}\\left(2 \\, x_{1} + x_{2} + x_{3} = 4, 2 \\, x_{4} + x_{5} + x_{6} = 8, 2 \\, x_{7} + x_{8} + x_{9} = 14\\right)</script></html>"
      ],
      "text/latex": [
       "$$\\newcommand{\\Bold}[1]{\\mathbf{#1}}\\left(2 \\, x_{1} + x_{2} + x_{3} = 4, 2 \\, x_{4} + x_{5} + x_{6} = 8, 2 \\, x_{7} + x_{8} + x_{9} = 14\\right)$$"
      ],
      "text/plain": [
       "(2*x1 + x2 + x3 == 4, 2*x4 + x5 + x6 == 8, 2*x7 + x8 + x9 == 14)"
      ]
     },
     "execution_count": 4,
     "metadata": {},
     "output_type": "execute_result"
    }
   ],
   "source": [
    "eq1 = AX[0][0] == Y[0][0]\n",
    "eq2 = AX[1][0] == Y[1][0]\n",
    "eq3 = AX[2][0] == Y[2][0]\n",
    "\n",
    "eq1, eq2, eq3"
   ]
  },
  {
   "cell_type": "code",
   "execution_count": 5,
   "metadata": {},
   "outputs": [
    {
     "data": {
      "text/html": [
       "<html><script type=\"math/tex; mode=display\">\\newcommand{\\Bold}[1]{\\mathbf{#1}}\\left[\\left[x_{1} = -\\frac{1}{2} \\, r_{3} - \\frac{1}{2} \\, r_{6} + 2, x_{2} = r_{6}, x_{3} = r_{3}, x_{4} = -\\frac{1}{2} \\, r_{4} - \\frac{1}{2} \\, r_{5} + 4, x_{5} = r_{5}, x_{6} = r_{4}, x_{7} = -\\frac{1}{2} \\, r_{1} - \\frac{1}{2} \\, r_{2} + 7, x_{8} = r_{2}, x_{9} = r_{1}\\right]\\right]</script></html>"
      ],
      "text/latex": [
       "$$\\newcommand{\\Bold}[1]{\\mathbf{#1}}\\left[\\left[x_{1} = -\\frac{1}{2} \\, r_{3} - \\frac{1}{2} \\, r_{6} + 2, x_{2} = r_{6}, x_{3} = r_{3}, x_{4} = -\\frac{1}{2} \\, r_{4} - \\frac{1}{2} \\, r_{5} + 4, x_{5} = r_{5}, x_{6} = r_{4}, x_{7} = -\\frac{1}{2} \\, r_{1} - \\frac{1}{2} \\, r_{2} + 7, x_{8} = r_{2}, x_{9} = r_{1}\\right]\\right]$$"
      ],
      "text/plain": [
       "[[x1 == -1/2*r3 - 1/2*r6 + 2, x2 == r6, x3 == r3, x4 == -1/2*r4 - 1/2*r5 + 4, x5 == r5, x6 == r4, x7 == -1/2*r1 - 1/2*r2 + 7, x8 == r2, x9 == r1]]"
      ]
     },
     "execution_count": 5,
     "metadata": {},
     "output_type": "execute_result"
    }
   ],
   "source": [
    "solve([eq1, eq2, eq3], [x1, x2, x3, x4, x5, x6, x7, x8, x9])"
   ]
  },
  {
   "cell_type": "markdown",
   "metadata": {},
   "source": [
    "**Problem 3**"
   ]
  },
  {
   "cell_type": "code",
   "execution_count": 72,
   "metadata": {},
   "outputs": [
    {
     "data": {
      "text/html": [
       "<html><script type=\"math/tex; mode=display\">\\newcommand{\\Bold}[1]{\\mathbf{#1}}36</script></html>"
      ],
      "text/latex": [
       "$$\\newcommand{\\Bold}[1]{\\mathbf{#1}}36$$"
      ],
      "text/plain": [
       "36"
      ]
     },
     "execution_count": 72,
     "metadata": {},
     "output_type": "execute_result"
    }
   ],
   "source": [
    "omega = [11,12, 3, 14,15, 16, 21, 22, 23, 24, 25,26, 31,32, 33, 34, 45, 36, 41,42, 43, 44, 45, 46, 51, 52, 53, 54, 55, 56, 61, 62, 63, 64, 65, 66]\n",
    "len(omega)"
   ]
  },
  {
   "cell_type": "code",
   "execution_count": 7,
   "metadata": {},
   "outputs": [
    {
     "data": {
      "text/html": [
       "<html><script type=\"math/tex; mode=display\">\\newcommand{\\Bold}[1]{\\mathbf{#1}}\\left(6.545454545454545, 6.545454545454545\\right)</script></html>"
      ],
      "text/latex": [
       "$$\\newcommand{\\Bold}[1]{\\mathbf{#1}}\\left(6.545454545454545, 6.545454545454545\\right)$$"
      ],
      "text/plain": [
       "(6.545454545454545, 6.545454545454545)"
      ]
     },
     "execution_count": 7,
     "metadata": {},
     "output_type": "execute_result"
    }
   ],
   "source": [
    "A = [12, 21]\n",
    "PA = len(A)/len(omega)\n",
    "\n",
    "B = [16, 25, 34, 43, 52, 61]\n",
    "PB = len(B)/len(omega)\n",
    "\n",
    "C = [11, 12, 13, 14, 15, 16, 61, 51, 41, 31, 21]\n",
    "PC = len(C)/len(omega)\n",
    "\n",
    "PAC = 2\n",
    "PBC = 2\n",
    "\n",
    "P1 = PAC/PC\n",
    "P2 = PBC/PC\n",
    "\n",
    "P1, P2"
   ]
  },
  {
   "cell_type": "markdown",
   "metadata": {},
   "source": [
    "**Problem 4**"
   ]
  },
  {
   "cell_type": "code",
   "execution_count": 8,
   "metadata": {},
   "outputs": [
    {
     "data": {
      "text/html": [
       "<html><script type=\"math/tex; mode=display\">\\newcommand{\\Bold}[1]{\\mathbf{#1}}\\left(\\begin{array}{rrr}\n",
       "l & 0 & m \\\\\n",
       "0 & l & m \\\\\n",
       "l & m & 0\n",
       "\\end{array}\\right)</script></html>"
      ],
      "text/latex": [
       "$$\\newcommand{\\Bold}[1]{\\mathbf{#1}}\\left(\\begin{array}{rrr}\n",
       "l & 0 & m \\\\\n",
       "0 & l & m \\\\\n",
       "l & m & 0\n",
       "\\end{array}\\right)$$"
      ],
      "text/plain": [
       "[l 0 m]\n",
       "[0 l m]\n",
       "[l m 0]"
      ]
     },
     "execution_count": 8,
     "metadata": {},
     "output_type": "execute_result"
    }
   ],
   "source": [
    "l, m, x = var('l, m, x')\n",
    "C = matrix([[l, 0, m], [0, l, m], [l, m, 0]]); C"
   ]
  },
  {
   "cell_type": "code",
   "execution_count": 9,
   "metadata": {},
   "outputs": [
    {
     "data": {
      "text/html": [
       "<html><script type=\"math/tex; mode=display\">\\newcommand{\\Bold}[1]{\\mathbf{#1}}\\left[l + m, -m, l\\right]</script></html>"
      ],
      "text/latex": [
       "$$\\newcommand{\\Bold}[1]{\\mathbf{#1}}\\left[l + m, -m, l\\right]$$"
      ],
      "text/plain": [
       "[l + m, -m, l]"
      ]
     },
     "execution_count": 9,
     "metadata": {},
     "output_type": "execute_result"
    }
   ],
   "source": [
    "eig = C.eigenvalues(); eig"
   ]
  },
  {
   "cell_type": "code",
   "execution_count": 10,
   "metadata": {},
   "outputs": [
    {
     "data": {
      "text/html": [
       "<html><script type=\"math/tex; mode=display\">\\newcommand{\\Bold}[1]{\\mathbf{#1}}\\left[\\left[l = 4, m = \\left(-3\\right)\\right]\\right]</script></html>"
      ],
      "text/latex": [
       "$$\\newcommand{\\Bold}[1]{\\mathbf{#1}}\\left[\\left[l = 4, m = \\left(-3\\right)\\right]\\right]$$"
      ],
      "text/plain": [
       "[[l == 4, m == -3]]"
      ]
     },
     "execution_count": 10,
     "metadata": {},
     "output_type": "execute_result"
    }
   ],
   "source": [
    "solve([eig[0] == 1, eig[1] == 3, eig[2] == 4], [l, m])"
   ]
  },
  {
   "cell_type": "markdown",
   "metadata": {},
   "source": [
    "**Second way (The best)**"
   ]
  },
  {
   "cell_type": "code",
   "execution_count": 11,
   "metadata": {},
   "outputs": [
    {
     "data": {
      "text/html": [
       "<html><script type=\"math/tex; mode=display\">\\newcommand{\\Bold}[1]{\\mathbf{#1}}\\left(\\begin{array}{rrr}\n",
       "x & 0 & 0 \\\\\n",
       "0 & x & 0 \\\\\n",
       "0 & 0 & x\n",
       "\\end{array}\\right)</script></html>"
      ],
      "text/latex": [
       "$$\\newcommand{\\Bold}[1]{\\mathbf{#1}}\\left(\\begin{array}{rrr}\n",
       "x & 0 & 0 \\\\\n",
       "0 & x & 0 \\\\\n",
       "0 & 0 & x\n",
       "\\end{array}\\right)$$"
      ],
      "text/plain": [
       "[x 0 0]\n",
       "[0 x 0]\n",
       "[0 0 x]"
      ]
     },
     "execution_count": 11,
     "metadata": {},
     "output_type": "execute_result"
    }
   ],
   "source": [
    "II = matrix([[x, 0, 0], [0, x, 0], [0, 0, x]]); II"
   ]
  },
  {
   "cell_type": "code",
   "execution_count": 12,
   "metadata": {},
   "outputs": [
    {
     "data": {
      "text/html": [
       "<html><script type=\"math/tex; mode=display\">\\newcommand{\\Bold}[1]{\\mathbf{#1}}-{\\left(l - x\\right)} l m - {\\left(m^{2} + {\\left(l - x\\right)} x\\right)} {\\left(l - x\\right)}</script></html>"
      ],
      "text/latex": [
       "$$\\newcommand{\\Bold}[1]{\\mathbf{#1}}-{\\left(l - x\\right)} l m - {\\left(m^{2} + {\\left(l - x\\right)} x\\right)} {\\left(l - x\\right)}$$"
      ],
      "text/plain": [
       "-(l - x)*l*m - (m^2 + (l - x)*x)*(l - x)"
      ]
     },
     "execution_count": 12,
     "metadata": {},
     "output_type": "execute_result"
    }
   ],
   "source": [
    "det(x) = (C-II).determinant(); det(x)"
   ]
  },
  {
   "cell_type": "code",
   "execution_count": 13,
   "metadata": {},
   "outputs": [
    {
     "data": {
      "text/html": [
       "<html><script type=\"math/tex; mode=display\">\\newcommand{\\Bold}[1]{\\mathbf{#1}}\\left[\\left[l = 4, m = \\left(-1\\right)\\right], \\left[l = 4, m = \\left(-3\\right)\\right]\\right]</script></html>"
      ],
      "text/latex": [
       "$$\\newcommand{\\Bold}[1]{\\mathbf{#1}}\\left[\\left[l = 4, m = \\left(-1\\right)\\right], \\left[l = 4, m = \\left(-3\\right)\\right]\\right]$$"
      ],
      "text/plain": [
       "[[l == 4, m == -1], [l == 4, m == -3]]"
      ]
     },
     "execution_count": 13,
     "metadata": {},
     "output_type": "execute_result"
    }
   ],
   "source": [
    "solve([det(1) == 0, det(3) == 0, det(4) == 0], [l, m])"
   ]
  },
  {
   "cell_type": "markdown",
   "metadata": {},
   "source": [
    "**Problem 5**"
   ]
  },
  {
   "cell_type": "code",
   "execution_count": 14,
   "metadata": {},
   "outputs": [
    {
     "data": {
      "text/html": [
       "<html><script type=\"math/tex; mode=display\">\\newcommand{\\Bold}[1]{\\mathbf{#1}}\\left(\\begin{array}{rr}\n",
       "2 & 3 \\\\\n",
       "1 & 1 \\\\\n",
       "3 & 2\n",
       "\\end{array}\\right)</script></html>"
      ],
      "text/latex": [
       "$$\\newcommand{\\Bold}[1]{\\mathbf{#1}}\\left(\\begin{array}{rr}\n",
       "2 & 3 \\\\\n",
       "1 & 1 \\\\\n",
       "3 & 2\n",
       "\\end{array}\\right)$$"
      ],
      "text/plain": [
       "[2 3]\n",
       "[1 1]\n",
       "[3 2]"
      ]
     },
     "execution_count": 14,
     "metadata": {},
     "output_type": "execute_result"
    }
   ],
   "source": [
    "A = matrix(3, 2, [[2,3], [1,1], [3,2]]); A"
   ]
  },
  {
   "cell_type": "code",
   "execution_count": 15,
   "metadata": {},
   "outputs": [
    {
     "data": {
      "text/html": [
       "<html><script type=\"math/tex; mode=display\">\\newcommand{\\Bold}[1]{\\mathbf{#1}}\\left(\\begin{array}{rr}\n",
       "\\frac{14}{27} & -\\frac{13}{27} \\\\\n",
       "-\\frac{13}{27} & \\frac{14}{27}\n",
       "\\end{array}\\right)</script></html>"
      ],
      "text/latex": [
       "$$\\newcommand{\\Bold}[1]{\\mathbf{#1}}\\left(\\begin{array}{rr}\n",
       "\\frac{14}{27} & -\\frac{13}{27} \\\\\n",
       "-\\frac{13}{27} & \\frac{14}{27}\n",
       "\\end{array}\\right)$$"
      ],
      "text/plain": [
       "[ 14/27 -13/27]\n",
       "[-13/27  14/27]"
      ]
     },
     "execution_count": 15,
     "metadata": {},
     "output_type": "execute_result"
    }
   ],
   "source": [
    "(A.T*A)^(-1)"
   ]
  },
  {
   "cell_type": "markdown",
   "metadata": {},
   "source": [
    "**Problem 6**"
   ]
  },
  {
   "cell_type": "code",
   "execution_count": 16,
   "metadata": {},
   "outputs": [
    {
     "data": {
      "text/html": [
       "<html><script type=\"math/tex; mode=display\">\\newcommand{\\Bold}[1]{\\mathbf{#1}}\\left(-1,\\,2,\\,3,\\,-2\\right)</script></html>"
      ],
      "text/latex": [
       "$$\\newcommand{\\Bold}[1]{\\mathbf{#1}}\\left(-1,\\,2,\\,3,\\,-2\\right)$$"
      ],
      "text/plain": [
       "(-1, 2, 3, -2)"
      ]
     },
     "execution_count": 16,
     "metadata": {},
     "output_type": "execute_result"
    }
   ],
   "source": [
    "x = vector([-1, 2, 3, -2]); x"
   ]
  },
  {
   "cell_type": "code",
   "execution_count": 17,
   "metadata": {},
   "outputs": [
    {
     "data": {
      "text/html": [
       "<html><script type=\"math/tex; mode=display\">\\newcommand{\\Bold}[1]{\\mathbf{#1}}\\left(a,\\,b,\\,c,\\,d\\right)</script></html>"
      ],
      "text/latex": [
       "$$\\newcommand{\\Bold}[1]{\\mathbf{#1}}\\left(a,\\,b,\\,c,\\,d\\right)$$"
      ],
      "text/plain": [
       "(a, b, c, d)"
      ]
     },
     "execution_count": 17,
     "metadata": {},
     "output_type": "execute_result"
    }
   ],
   "source": [
    "a, b, c, d = var('a, b, c, d')\n",
    "y = vector([a, b, c, d]); y"
   ]
  },
  {
   "cell_type": "code",
   "execution_count": 18,
   "metadata": {},
   "outputs": [
    {
     "data": {
      "text/html": [
       "<html><script type=\"math/tex; mode=display\">\\newcommand{\\Bold}[1]{\\mathbf{#1}}\\left( a, b, c, d \\right) \\ {\\mapsto} \\ -a + 2 \\, b + 3 \\, c - 2 \\, d</script></html>"
      ],
      "text/latex": [
       "$$\\newcommand{\\Bold}[1]{\\mathbf{#1}}\\left( a, b, c, d \\right) \\ {\\mapsto} \\ -a + 2 \\, b + 3 \\, c - 2 \\, d$$"
      ],
      "text/plain": [
       "(a, b, c, d) |--> -a + 2*b + 3*c - 2*d"
      ]
     },
     "execution_count": 18,
     "metadata": {},
     "output_type": "execute_result"
    }
   ],
   "source": [
    "eq(a, b, c, d) = x.dot_product(y); eq\n"
   ]
  },
  {
   "cell_type": "code",
   "execution_count": 19,
   "metadata": {},
   "outputs": [
    {
     "data": {
      "text/html": [
       "<html><script type=\"math/tex; mode=display\">\\newcommand{\\Bold}[1]{\\mathbf{#1}}0</script></html>"
      ],
      "text/latex": [
       "$$\\newcommand{\\Bold}[1]{\\mathbf{#1}}0$$"
      ],
      "text/plain": [
       "0"
      ]
     },
     "execution_count": 19,
     "metadata": {},
     "output_type": "execute_result"
    }
   ],
   "source": [
    "eq(1, -1, 3, 3)"
   ]
  },
  {
   "cell_type": "code",
   "execution_count": 20,
   "metadata": {},
   "outputs": [
    {
     "data": {
      "text/html": [
       "<html><script type=\"math/tex; mode=display\">\\newcommand{\\Bold}[1]{\\mathbf{#1}}4</script></html>"
      ],
      "text/latex": [
       "$$\\newcommand{\\Bold}[1]{\\mathbf{#1}}4$$"
      ],
      "text/plain": [
       "4"
      ]
     },
     "execution_count": 20,
     "metadata": {},
     "output_type": "execute_result"
    }
   ],
   "source": [
    "eq(1,1,3,3)"
   ]
  },
  {
   "cell_type": "code",
   "execution_count": 21,
   "metadata": {},
   "outputs": [
    {
     "data": {
      "text/html": [
       "<html><script type=\"math/tex; mode=display\">\\newcommand{\\Bold}[1]{\\mathbf{#1}}-2</script></html>"
      ],
      "text/latex": [
       "$$\\newcommand{\\Bold}[1]{\\mathbf{#1}}-2$$"
      ],
      "text/plain": [
       "-2"
      ]
     },
     "execution_count": 21,
     "metadata": {},
     "output_type": "execute_result"
    }
   ],
   "source": [
    "eq(1,1,-3,-3)"
   ]
  },
  {
   "cell_type": "code",
   "execution_count": 22,
   "metadata": {},
   "outputs": [
    {
     "data": {
      "text/html": [
       "<html><script type=\"math/tex; mode=display\">\\newcommand{\\Bold}[1]{\\mathbf{#1}}-18</script></html>"
      ],
      "text/latex": [
       "$$\\newcommand{\\Bold}[1]{\\mathbf{#1}}-18$$"
      ],
      "text/plain": [
       "-18"
      ]
     },
     "execution_count": 22,
     "metadata": {},
     "output_type": "execute_result"
    }
   ],
   "source": [
    "eq(1,-2,-3,2)"
   ]
  },
  {
   "cell_type": "markdown",
   "metadata": {},
   "source": [
    "**Problem 7**"
   ]
  },
  {
   "cell_type": "code",
   "execution_count": 23,
   "metadata": {},
   "outputs": [
    {
     "data": {
      "text/html": [
       "<html><script type=\"math/tex; mode=display\">\\newcommand{\\Bold}[1]{\\mathbf{#1}}\\left(\\begin{array}{rrr}\n",
       "1 & 3 & 2 \\\\\n",
       "2 & 1 & 3 \\\\\n",
       "3 & 2 & 1\n",
       "\\end{array}\\right)</script></html>"
      ],
      "text/latex": [
       "$$\\newcommand{\\Bold}[1]{\\mathbf{#1}}\\left(\\begin{array}{rrr}\n",
       "1 & 3 & 2 \\\\\n",
       "2 & 1 & 3 \\\\\n",
       "3 & 2 & 1\n",
       "\\end{array}\\right)$$"
      ],
      "text/plain": [
       "[1 3 2]\n",
       "[2 1 3]\n",
       "[3 2 1]"
      ]
     },
     "execution_count": 23,
     "metadata": {},
     "output_type": "execute_result"
    }
   ],
   "source": [
    "A = matrix([[1,3,2], [2,1,3], [3,2,1]]); A"
   ]
  },
  {
   "cell_type": "code",
   "execution_count": 24,
   "metadata": {},
   "outputs": [
    {
     "data": {
      "text/html": [
       "<html><script type=\"math/tex; mode=display\">\\newcommand{\\Bold}[1]{\\mathbf{#1}}18</script></html>"
      ],
      "text/latex": [
       "$$\\newcommand{\\Bold}[1]{\\mathbf{#1}}18$$"
      ],
      "text/plain": [
       "18"
      ]
     },
     "execution_count": 24,
     "metadata": {},
     "output_type": "execute_result"
    }
   ],
   "source": [
    "A.determinant()"
   ]
  },
  {
   "cell_type": "markdown",
   "metadata": {},
   "source": [
    "**Problem 8**"
   ]
  },
  {
   "cell_type": "code",
   "execution_count": 25,
   "metadata": {},
   "outputs": [
    {
     "data": {
      "text/html": [
       "<html><script type=\"math/tex; mode=display\">\\newcommand{\\Bold}[1]{\\mathbf{#1}}x^{2} y + y^{2} e^{x}</script></html>"
      ],
      "text/latex": [
       "$$\\newcommand{\\Bold}[1]{\\mathbf{#1}}x^{2} y + y^{2} e^{x}$$"
      ],
      "text/plain": [
       "x^2*y + y^2*e^x"
      ]
     },
     "execution_count": 25,
     "metadata": {},
     "output_type": "execute_result"
    }
   ],
   "source": [
    "f(x,y) = y^2*exp(x) + x^2*y; f(x, y)"
   ]
  },
  {
   "cell_type": "code",
   "execution_count": 26,
   "metadata": {},
   "outputs": [
    {
     "data": {
      "text/html": [
       "<html><script type=\"math/tex; mode=display\">\\newcommand{\\Bold}[1]{\\mathbf{#1}}\\left(y^{2} e^{x} + 2 \\, x y,\\,x^{2} + 2 \\, y e^{x}\\right)</script></html>"
      ],
      "text/latex": [
       "$$\\newcommand{\\Bold}[1]{\\mathbf{#1}}\\left(y^{2} e^{x} + 2 \\, x y,\\,x^{2} + 2 \\, y e^{x}\\right)$$"
      ],
      "text/plain": [
       "(y^2*e^x + 2*x*y, x^2 + 2*y*e^x)"
      ]
     },
     "execution_count": 26,
     "metadata": {},
     "output_type": "execute_result"
    }
   ],
   "source": [
    "f(x,y).gradient()"
   ]
  },
  {
   "cell_type": "markdown",
   "metadata": {},
   "source": [
    "**Problem 9**"
   ]
  },
  {
   "cell_type": "code",
   "execution_count": 27,
   "metadata": {},
   "outputs": [
    {
     "data": {
      "text/html": [
       "<html><script type=\"math/tex; mode=display\">\\newcommand{\\Bold}[1]{\\mathbf{#1}}-{\\left(y e^{\\left(-x\\right)} - 1\\right)} x</script></html>"
      ],
      "text/latex": [
       "$$\\newcommand{\\Bold}[1]{\\mathbf{#1}}-{\\left(y e^{\\left(-x\\right)} - 1\\right)} x$$"
      ],
      "text/plain": [
       "-(y*e^(-x) - 1)*x"
      ]
     },
     "execution_count": 27,
     "metadata": {},
     "output_type": "execute_result"
    }
   ],
   "source": [
    "f(x, y) = x*(1 - y*exp(-x)); f(x, y)"
   ]
  },
  {
   "cell_type": "code",
   "execution_count": 28,
   "metadata": {},
   "outputs": [
    {
     "data": {
      "text/html": [
       "<html><script type=\"math/tex; mode=display\">\\newcommand{\\Bold}[1]{\\mathbf{#1}}x y e^{\\left(-x\\right)} - y e^{\\left(-x\\right)} + 1</script></html>"
      ],
      "text/latex": [
       "$$\\newcommand{\\Bold}[1]{\\mathbf{#1}}x y e^{\\left(-x\\right)} - y e^{\\left(-x\\right)} + 1$$"
      ],
      "text/plain": [
       "x*y*e^(-x) - y*e^(-x) + 1"
      ]
     },
     "execution_count": 28,
     "metadata": {},
     "output_type": "execute_result"
    }
   ],
   "source": [
    "diff(f(x, y), x)"
   ]
  },
  {
   "cell_type": "markdown",
   "metadata": {},
   "source": [
    "**Problem 10**"
   ]
  },
  {
   "cell_type": "code",
   "execution_count": 29,
   "metadata": {},
   "outputs": [
    {
     "data": {
      "text/html": [
       "<html><script type=\"math/tex; mode=display\">\\newcommand{\\Bold}[1]{\\mathbf{#1}}0</script></html>"
      ],
      "text/latex": [
       "$$\\newcommand{\\Bold}[1]{\\mathbf{#1}}0$$"
      ],
      "text/plain": [
       "0"
      ]
     },
     "execution_count": 29,
     "metadata": {},
     "output_type": "execute_result"
    }
   ],
   "source": [
    "p10 = var('p10')\n",
    "p10 = 1 - (1/12) - (1/2) - (5/12); p10"
   ]
  },
  {
   "cell_type": "code",
   "execution_count": 30,
   "metadata": {},
   "outputs": [
    {
     "data": {
      "text/html": [
       "<html><script type=\"math/tex; mode=display\">\\newcommand{\\Bold}[1]{\\mathbf{#1}}\\frac{7}{12}</script></html>"
      ],
      "text/latex": [
       "$$\\newcommand{\\Bold}[1]{\\mathbf{#1}}\\frac{7}{12}$$"
      ],
      "text/plain": [
       "7/12"
      ]
     },
     "execution_count": 30,
     "metadata": {},
     "output_type": "execute_result"
    }
   ],
   "source": [
    "F16 = (1/12) + 0 + 1/2; F16"
   ]
  },
  {
   "cell_type": "markdown",
   "metadata": {},
   "source": [
    "**Problem 11**"
   ]
  },
  {
   "cell_type": "code",
   "execution_count": 31,
   "metadata": {},
   "outputs": [
    {
     "data": {
      "text/html": [
       "<html><script type=\"math/tex; mode=display\">\\newcommand{\\Bold}[1]{\\mathbf{#1}}-\\frac{1}{4} \\, x^{4} + x^{2} + 1</script></html>"
      ],
      "text/latex": [
       "$$\\newcommand{\\Bold}[1]{\\mathbf{#1}}-\\frac{1}{4} \\, x^{4} + x^{2} + 1$$"
      ],
      "text/plain": [
       "-1/4*x^4 + x^2 + 1"
      ]
     },
     "execution_count": 31,
     "metadata": {},
     "output_type": "execute_result"
    }
   ],
   "source": [
    "f(x) = 1 + x^2 - (x^4/4); f(x)"
   ]
  },
  {
   "cell_type": "code",
   "execution_count": 32,
   "metadata": {},
   "outputs": [
    {
     "data": {
      "text/html": [
       "<html><script type=\"math/tex; mode=display\">\\newcommand{\\Bold}[1]{\\mathbf{#1}}-3 \\, x^{2} + 2</script></html>"
      ],
      "text/latex": [
       "$$\\newcommand{\\Bold}[1]{\\mathbf{#1}}-3 \\, x^{2} + 2$$"
      ],
      "text/plain": [
       "-3*x^2 + 2"
      ]
     },
     "execution_count": 32,
     "metadata": {},
     "output_type": "execute_result"
    }
   ],
   "source": [
    "dfx(x) = diff(f(x), 2); dfx(x)"
   ]
  },
  {
   "cell_type": "code",
   "execution_count": 33,
   "metadata": {},
   "outputs": [
    {
     "data": {
      "text/html": [
       "<html><script type=\"math/tex; mode=display\">\\newcommand{\\Bold}[1]{\\mathbf{#1}}\\left(-4, 2, -4\\right)</script></html>"
      ],
      "text/latex": [
       "$$\\newcommand{\\Bold}[1]{\\mathbf{#1}}\\left(-4, 2, -4\\right)$$"
      ],
      "text/plain": [
       "(-4, 2, -4)"
      ]
     },
     "execution_count": 33,
     "metadata": {},
     "output_type": "execute_result"
    }
   ],
   "source": [
    "dfx(-sqrt(2)), dfx(0), dfx(sqrt(2))"
   ]
  },
  {
   "cell_type": "markdown",
   "metadata": {},
   "source": [
    "**Problem 12** (projection)"
   ]
  },
  {
   "cell_type": "code",
   "execution_count": 34,
   "metadata": {},
   "outputs": [
    {
     "data": {
      "text/html": [
       "<html><script type=\"math/tex; mode=display\">\\newcommand{\\Bold}[1]{\\mathbf{#1}}\\left(\\begin{array}{r}\n",
       "\\sqrt{2} \\\\\n",
       "-1 \\\\\n",
       "1\n",
       "\\end{array}\\right)</script></html>"
      ],
      "text/latex": [
       "$$\\newcommand{\\Bold}[1]{\\mathbf{#1}}\\left(\\begin{array}{r}\n",
       "\\sqrt{2} \\\\\n",
       "-1 \\\\\n",
       "1\n",
       "\\end{array}\\right)$$"
      ],
      "text/plain": [
       "[sqrt(2)]\n",
       "[     -1]\n",
       "[      1]"
      ]
     },
     "execution_count": 34,
     "metadata": {},
     "output_type": "execute_result"
    }
   ],
   "source": [
    "b = vector([sqrt(2), -1, 1]).column(); b"
   ]
  },
  {
   "cell_type": "code",
   "execution_count": 35,
   "metadata": {},
   "outputs": [
    {
     "data": {
      "text/html": [
       "<html><script type=\"math/tex; mode=display\">\\newcommand{\\Bold}[1]{\\mathbf{#1}}1.9999999999999998</script></html>"
      ],
      "text/latex": [
       "$$\\newcommand{\\Bold}[1]{\\mathbf{#1}}1.9999999999999998$$"
      ],
      "text/plain": [
       "1.9999999999999998"
      ]
     },
     "execution_count": 35,
     "metadata": {},
     "output_type": "execute_result"
    }
   ],
   "source": [
    "bNorm = norm(b); bNorm"
   ]
  },
  {
   "cell_type": "code",
   "execution_count": 36,
   "metadata": {},
   "outputs": [
    {
     "data": {
      "text/html": [
       "<html><script type=\"math/tex; mode=display\">\\newcommand{\\Bold}[1]{\\mathbf{#1}}\\left(\\begin{array}{r}\n",
       "4\n",
       "\\end{array}\\right)</script></html>"
      ],
      "text/latex": [
       "$$\\newcommand{\\Bold}[1]{\\mathbf{#1}}\\left(\\begin{array}{r}\n",
       "4\n",
       "\\end{array}\\right)$$"
      ],
      "text/plain": [
       "[4]"
      ]
     },
     "execution_count": 36,
     "metadata": {},
     "output_type": "execute_result"
    }
   ],
   "source": [
    "bTb = b.transpose()*b; bTb"
   ]
  },
  {
   "cell_type": "code",
   "execution_count": 37,
   "metadata": {},
   "outputs": [
    {
     "data": {
      "text/html": [
       "<html><script type=\"math/tex; mode=display\">\\newcommand{\\Bold}[1]{\\mathbf{#1}}\\left(\\begin{array}{rrr}\n",
       "\\frac{1}{2} & -\\frac{1}{4} \\, \\sqrt{2} & \\frac{1}{4} \\, \\sqrt{2} \\\\\n",
       "-\\frac{1}{4} \\, \\sqrt{2} & \\frac{1}{4} & -\\frac{1}{4} \\\\\n",
       "\\frac{1}{4} \\, \\sqrt{2} & -\\frac{1}{4} & \\frac{1}{4}\n",
       "\\end{array}\\right)</script></html>"
      ],
      "text/latex": [
       "$$\\newcommand{\\Bold}[1]{\\mathbf{#1}}\\left(\\begin{array}{rrr}\n",
       "\\frac{1}{2} & -\\frac{1}{4} \\, \\sqrt{2} & \\frac{1}{4} \\, \\sqrt{2} \\\\\n",
       "-\\frac{1}{4} \\, \\sqrt{2} & \\frac{1}{4} & -\\frac{1}{4} \\\\\n",
       "\\frac{1}{4} \\, \\sqrt{2} & -\\frac{1}{4} & \\frac{1}{4}\n",
       "\\end{array}\\right)$$"
      ],
      "text/plain": [
       "[         1/2 -1/4*sqrt(2)  1/4*sqrt(2)]\n",
       "[-1/4*sqrt(2)          1/4         -1/4]\n",
       "[ 1/4*sqrt(2)         -1/4          1/4]"
      ]
     },
     "execution_count": 37,
     "metadata": {},
     "output_type": "execute_result"
    }
   ],
   "source": [
    "Ppi = b*b.transpose()/bTb[0][0]; Ppi"
   ]
  },
  {
   "cell_type": "code",
   "execution_count": 38,
   "metadata": {},
   "outputs": [
    {
     "data": {
      "text/html": [
       "<html><script type=\"math/tex; mode=display\">\\newcommand{\\Bold}[1]{\\mathbf{#1}}\\left(\\begin{array}{r}\n",
       "1 \\\\\n",
       "1 \\\\\n",
       "1\n",
       "\\end{array}\\right)</script></html>"
      ],
      "text/latex": [
       "$$\\newcommand{\\Bold}[1]{\\mathbf{#1}}\\left(\\begin{array}{r}\n",
       "1 \\\\\n",
       "1 \\\\\n",
       "1\n",
       "\\end{array}\\right)$$"
      ],
      "text/plain": [
       "[1]\n",
       "[1]\n",
       "[1]"
      ]
     },
     "execution_count": 38,
     "metadata": {},
     "output_type": "execute_result"
    }
   ],
   "source": [
    "x = vector([1,1,1]).column(); x"
   ]
  },
  {
   "cell_type": "code",
   "execution_count": 39,
   "metadata": {},
   "outputs": [
    {
     "data": {
      "text/html": [
       "<html><script type=\"math/tex; mode=display\">\\newcommand{\\Bold}[1]{\\mathbf{#1}}\\left(\\begin{array}{r}\n",
       "\\frac{1}{2} \\\\\n",
       "-\\frac{1}{4} \\, \\sqrt{2} \\\\\n",
       "\\frac{1}{4} \\, \\sqrt{2}\n",
       "\\end{array}\\right)</script></html>"
      ],
      "text/latex": [
       "$$\\newcommand{\\Bold}[1]{\\mathbf{#1}}\\left(\\begin{array}{r}\n",
       "\\frac{1}{2} \\\\\n",
       "-\\frac{1}{4} \\, \\sqrt{2} \\\\\n",
       "\\frac{1}{4} \\, \\sqrt{2}\n",
       "\\end{array}\\right)$$"
      ],
      "text/plain": [
       "[         1/2]\n",
       "[-1/4*sqrt(2)]\n",
       "[ 1/4*sqrt(2)]"
      ]
     },
     "execution_count": 39,
     "metadata": {},
     "output_type": "execute_result"
    }
   ],
   "source": [
    "Ppi*x"
   ]
  },
  {
   "cell_type": "markdown",
   "metadata": {},
   "source": [
    "**Problem 13**"
   ]
  },
  {
   "cell_type": "code",
   "execution_count": 40,
   "metadata": {},
   "outputs": [
    {
     "data": {
      "text/html": [
       "<html><script type=\"math/tex; mode=display\">\\newcommand{\\Bold}[1]{\\mathbf{#1}}\\left(\\left(1,\\,-\\sqrt{2},\\,-\\sqrt{2}\\right), \\left(2 \\, \\sqrt{2},\\,1,\\,1\\right)\\right)</script></html>"
      ],
      "text/latex": [
       "$$\\newcommand{\\Bold}[1]{\\mathbf{#1}}\\left(\\left(1,\\,-\\sqrt{2},\\,-\\sqrt{2}\\right), \\left(2 \\, \\sqrt{2},\\,1,\\,1\\right)\\right)$$"
      ],
      "text/plain": [
       "((1, -sqrt(2), -sqrt(2)), (2*sqrt(2), 1, 1))"
      ]
     },
     "execution_count": 40,
     "metadata": {},
     "output_type": "execute_result"
    }
   ],
   "source": [
    "x = vector([1, -sqrt(2), -sqrt(2)])\n",
    "y = vector([2*sqrt(2), 1, 1])\n",
    "x, y"
   ]
  },
  {
   "cell_type": "code",
   "execution_count": 41,
   "metadata": {},
   "outputs": [
    {
     "data": {
      "text/html": [
       "<html><script type=\"math/tex; mode=display\">\\newcommand{\\Bold}[1]{\\mathbf{#1}}0</script></html>"
      ],
      "text/latex": [
       "$$\\newcommand{\\Bold}[1]{\\mathbf{#1}}0$$"
      ],
      "text/plain": [
       "0"
      ]
     },
     "execution_count": 41,
     "metadata": {},
     "output_type": "execute_result"
    }
   ],
   "source": [
    "cos = x.dot_product(y)/sqrt(x.dot_product(x)*y.dot_product(y)); cos"
   ]
  },
  {
   "cell_type": "code",
   "execution_count": 42,
   "metadata": {},
   "outputs": [
    {
     "data": {
      "text/html": [
       "<html><script type=\"math/tex; mode=display\">\\newcommand{\\Bold}[1]{\\mathbf{#1}}5 \\, \\sqrt{2}</script></html>"
      ],
      "text/latex": [
       "$$\\newcommand{\\Bold}[1]{\\mathbf{#1}}5 \\, \\sqrt{2}$$"
      ],
      "text/plain": [
       "5*sqrt(2)"
      ]
     },
     "execution_count": 42,
     "metadata": {},
     "output_type": "execute_result"
    }
   ],
   "source": [
    "sqrt(x.dot_product(x)*y.dot_product(y))"
   ]
  },
  {
   "cell_type": "markdown",
   "metadata": {},
   "source": [
    "**Problem 14**"
   ]
  },
  {
   "cell_type": "code",
   "execution_count": 43,
   "metadata": {},
   "outputs": [
    {
     "data": {
      "text/html": [
       "<html><script type=\"math/tex; mode=display\">\\newcommand{\\Bold}[1]{\\mathbf{#1}}\\left(\\begin{array}{rrr}\n",
       "2 & 1 & -1 \\\\\n",
       "2 & -1 & 2 \\\\\n",
       "1 & 2 & -1\n",
       "\\end{array}\\right)</script></html>"
      ],
      "text/latex": [
       "$$\\newcommand{\\Bold}[1]{\\mathbf{#1}}\\left(\\begin{array}{rrr}\n",
       "2 & 1 & -1 \\\\\n",
       "2 & -1 & 2 \\\\\n",
       "1 & 2 & -1\n",
       "\\end{array}\\right)$$"
      ],
      "text/plain": [
       "[ 2  1 -1]\n",
       "[ 2 -1  2]\n",
       "[ 1  2 -1]"
      ]
     },
     "execution_count": 43,
     "metadata": {},
     "output_type": "execute_result"
    }
   ],
   "source": [
    "A = matrix([[2,1,-1], [2,-1,2], [1,2,-1]]); A"
   ]
  },
  {
   "cell_type": "code",
   "execution_count": 44,
   "metadata": {},
   "outputs": [
    {
     "data": {
      "text/html": [
       "<html><script type=\"math/tex; mode=display\">\\newcommand{\\Bold}[1]{\\mathbf{#1}}\\left[\\left(1, \\left[\\left(0,\\,1,\\,1\\right)\\right], 1\\right), \\left(-3.192582403567252?, \\left[\\left(1,\\,-2.954065922853802?,\\,2.238516480713451?\\right)\\right], 1\\right), \\left(2.192582403567252?, \\left[\\left(1,\\,1.354065922853802?,\\,1.161483519286550?\\right)\\right], 1\\right)\\right]</script></html>"
      ],
      "text/latex": [
       "$$\\newcommand{\\Bold}[1]{\\mathbf{#1}}\\left[\\left(1, \\left[\\left(0,\\,1,\\,1\\right)\\right], 1\\right), \\left(-3.192582403567252?, \\left[\\left(1,\\,-2.954065922853802?,\\,2.238516480713451?\\right)\\right], 1\\right), \\left(2.192582403567252?, \\left[\\left(1,\\,1.354065922853802?,\\,1.161483519286550?\\right)\\right], 1\\right)\\right]$$"
      ],
      "text/plain": [
       "[(1,\n",
       "  [\n",
       "  (0, 1, 1)\n",
       "  ],\n",
       "  1),\n",
       " (-3.192582403567252?, [(1, -2.954065922853802?, 2.238516480713451?)], 1),\n",
       " (2.192582403567252?, [(1, 1.354065922853802?, 1.161483519286550?)], 1)]"
      ]
     },
     "execution_count": 44,
     "metadata": {},
     "output_type": "execute_result"
    }
   ],
   "source": [
    "A.eigenvectors_right()"
   ]
  },
  {
   "cell_type": "markdown",
   "metadata": {},
   "source": [
    "**Problem 15**"
   ]
  },
  {
   "cell_type": "code",
   "execution_count": 45,
   "metadata": {},
   "outputs": [
    {
     "data": {
      "text/html": [
       "<html><script type=\"math/tex; mode=display\">\\newcommand{\\Bold}[1]{\\mathbf{#1}}\\left(\\begin{array}{rr}\n",
       "1 & -1 \\\\\n",
       "-1 & 1\n",
       "\\end{array}\\right)</script></html>"
      ],
      "text/latex": [
       "$$\\newcommand{\\Bold}[1]{\\mathbf{#1}}\\left(\\begin{array}{rr}\n",
       "1 & -1 \\\\\n",
       "-1 & 1\n",
       "\\end{array}\\right)$$"
      ],
      "text/plain": [
       "[ 1 -1]\n",
       "[-1  1]"
      ]
     },
     "execution_count": 45,
     "metadata": {},
     "output_type": "execute_result"
    }
   ],
   "source": [
    "A = matrix([[1,-1], [-1, 1]]); A"
   ]
  },
  {
   "cell_type": "code",
   "execution_count": 46,
   "metadata": {},
   "outputs": [
    {
     "data": {
      "text/html": [
       "<html><script type=\"math/tex; mode=display\">\\newcommand{\\Bold}[1]{\\mathbf{#1}}\\mathrm{False}</script></html>"
      ],
      "text/latex": [
       "$$\\newcommand{\\Bold}[1]{\\mathbf{#1}}\\mathrm{False}$$"
      ],
      "text/plain": [
       "False"
      ]
     },
     "execution_count": 46,
     "metadata": {},
     "output_type": "execute_result"
    }
   ],
   "source": [
    "A.is_invertible()"
   ]
  },
  {
   "cell_type": "markdown",
   "metadata": {},
   "source": [
    "### Part 3 - Sagemath excercises\n",
    "\n",
    "**Problem 1**\n",
    "\n",
    "(a)"
   ]
  },
  {
   "cell_type": "code",
   "execution_count": 2,
   "metadata": {},
   "outputs": [
    {
     "data": {
      "text/plain": [
       "[0 2 l 1]\n",
       "[2 2 0 3]\n",
       "[1 2 0 1]\n",
       "[3 0 5 1]"
      ]
     },
     "execution_count": 2,
     "metadata": {},
     "output_type": "execute_result"
    }
   ],
   "source": [
    "l = var('l')\n",
    "A = matrix(SR, [[0,2,l,1], [2,2,0,3], [1,2,0,1], [3,0,5,1]]); A"
   ]
  },
  {
   "cell_type": "code",
   "execution_count": 3,
   "metadata": {},
   "outputs": [
    {
     "data": {
      "text/plain": [
       "(1, -1, 0, 2)"
      ]
     },
     "execution_count": 3,
     "metadata": {},
     "output_type": "execute_result"
    }
   ],
   "source": [
    "Y = vector(SR, [1,-1,0,2]); Y"
   ]
  },
  {
   "cell_type": "code",
   "execution_count": 4,
   "metadata": {},
   "outputs": [
    {
     "data": {
      "text/plain": [
       "[l == -2]"
      ]
     },
     "execution_count": 4,
     "metadata": {},
     "output_type": "execute_result"
    }
   ],
   "source": [
    "solve(A.determinant() == 0, l)"
   ]
  },
  {
   "cell_type": "markdown",
   "metadata": {},
   "source": [
    "(b)"
   ]
  },
  {
   "cell_type": "code",
   "execution_count": 5,
   "metadata": {},
   "outputs": [
    {
     "data": {
      "text/plain": [
       "((l - 2)/(l + 2), 1/(l + 2), 2/(l + 2), -l/(l + 2))"
      ]
     },
     "execution_count": 5,
     "metadata": {},
     "output_type": "execute_result"
    }
   ],
   "source": [
    "(A^(-1)*Y).simplify_full()"
   ]
  },
  {
   "cell_type": "markdown",
   "metadata": {},
   "source": [
    "**Problem 2**\n",
    "\n",
    "(a)"
   ]
  },
  {
   "cell_type": "code",
   "execution_count": 51,
   "metadata": {},
   "outputs": [
    {
     "data": {
      "text/html": [
       "<html><script type=\"math/tex; mode=display\">\\newcommand{\\Bold}[1]{\\mathbf{#1}}\\left(\\begin{array}{rrrr}\n",
       "1 & 1 & 0 & 1 \\\\\n",
       "0 & 0 & 0 & 1 \\\\\n",
       "1 & 1 & 0 & 0\n",
       "\\end{array}\\right)</script></html>"
      ],
      "text/latex": [
       "$$\\newcommand{\\Bold}[1]{\\mathbf{#1}}\\left(\\begin{array}{rrrr}\n",
       "1 & 1 & 0 & 1 \\\\\n",
       "0 & 0 & 0 & 1 \\\\\n",
       "1 & 1 & 0 & 0\n",
       "\\end{array}\\right)$$"
      ],
      "text/plain": [
       "[1 1 0 1]\n",
       "[0 0 0 1]\n",
       "[1 1 0 0]"
      ]
     },
     "execution_count": 51,
     "metadata": {},
     "output_type": "execute_result"
    }
   ],
   "source": [
    "A = matrix(SR, [[1,1,0,1],[0,0,0,1],[1,1,0,0]]); A"
   ]
  },
  {
   "cell_type": "code",
   "execution_count": 52,
   "metadata": {},
   "outputs": [
    {
     "data": {
      "text/html": [
       "<html><script type=\"math/tex; mode=display\">\\newcommand{\\Bold}[1]{\\mathbf{#1}}\\left(\\begin{array}{rrr}\n",
       "0.788675134594813 & 0.21132486540518722 & 0.5773502691896258 \\\\\n",
       "0.21132486540518702 & 0.7886751345948131 & -0.5773502691896258 \\\\\n",
       "0.577350269189626 & -0.5773502691896258 & -0.5773502691896258\n",
       "\\end{array}\\right)</script></html>"
      ],
      "text/latex": [
       "$$\\newcommand{\\Bold}[1]{\\mathbf{#1}}\\left(\\begin{array}{rrr}\n",
       "0.788675134594813 & 0.21132486540518722 & 0.5773502691896258 \\\\\n",
       "0.21132486540518702 & 0.7886751345948131 & -0.5773502691896258 \\\\\n",
       "0.577350269189626 & -0.5773502691896258 & -0.5773502691896258\n",
       "\\end{array}\\right)$$"
      ],
      "text/plain": [
       "[  0.788675134594813 0.21132486540518722  0.5773502691896258]\n",
       "[0.21132486540518702  0.7886751345948131 -0.5773502691896258]\n",
       "[  0.577350269189626 -0.5773502691896258 -0.5773502691896258]"
      ]
     },
     "execution_count": 52,
     "metadata": {},
     "output_type": "execute_result"
    }
   ],
   "source": [
    "U, S, V = (A.change_ring(RDF)).SVD()\n",
    "U"
   ]
  },
  {
   "cell_type": "code",
   "execution_count": 53,
   "metadata": {},
   "outputs": [
    {
     "data": {
      "text/html": [
       "<html><script type=\"math/tex; mode=display\">\\newcommand{\\Bold}[1]{\\mathbf{#1}}\\left(\\begin{array}{rrrr}\n",
       "2.1753277471610746 & 0.0 & 0.0 & 0.0 \\\\\n",
       "0.0 & 1.126032500610494 & 0.0 & 0.0 \\\\\n",
       "0.0 & 0.0 & 1.0798418820995425 \\times 10^{-16} & 0.0\n",
       "\\end{array}\\right)</script></html>"
      ],
      "text/latex": [
       "$$\\newcommand{\\Bold}[1]{\\mathbf{#1}}\\left(\\begin{array}{rrrr}\n",
       "2.1753277471610746 & 0.0 & 0.0 & 0.0 \\\\\n",
       "0.0 & 1.126032500610494 & 0.0 & 0.0 \\\\\n",
       "0.0 & 0.0 & 1.0798418820995425 \\times 10^{-16} & 0.0\n",
       "\\end{array}\\right)$$"
      ],
      "text/plain": [
       "[    2.1753277471610746                    0.0                    0.0                    0.0]\n",
       "[                   0.0      1.126032500610494                    0.0                    0.0]\n",
       "[                   0.0                    0.0 1.0798418820995425e-16                    0.0]"
      ]
     },
     "execution_count": 53,
     "metadata": {},
     "output_type": "execute_result"
    }
   ],
   "source": [
    "S"
   ]
  },
  {
   "cell_type": "code",
   "execution_count": 54,
   "metadata": {},
   "outputs": [
    {
     "data": {
      "text/html": [
       "<html><script type=\"math/tex; mode=display\">\\newcommand{\\Bold}[1]{\\mathbf{#1}}\\left(\\begin{array}{rrrr}\n",
       "0.6279630301995545 & -0.32505758367186793 & 0.7071067811865476 & 0.0 \\\\\n",
       "0.6279630301995545 & -0.32505758367186827 & -0.7071067811865474 & 0.0 \\\\\n",
       "0.0 & 0.0 & 0.0 & 1.0 \\\\\n",
       "0.4597008433809831 & 0.8880738339771153 & -3.9509955233669315 \\times 10^{-16} & 0.0\n",
       "\\end{array}\\right)</script></html>"
      ],
      "text/latex": [
       "$$\\newcommand{\\Bold}[1]{\\mathbf{#1}}\\left(\\begin{array}{rrrr}\n",
       "0.6279630301995545 & -0.32505758367186793 & 0.7071067811865476 & 0.0 \\\\\n",
       "0.6279630301995545 & -0.32505758367186827 & -0.7071067811865474 & 0.0 \\\\\n",
       "0.0 & 0.0 & 0.0 & 1.0 \\\\\n",
       "0.4597008433809831 & 0.8880738339771153 & -3.9509955233669315 \\times 10^{-16} & 0.0\n",
       "\\end{array}\\right)$$"
      ],
      "text/plain": [
       "[     0.6279630301995545    -0.32505758367186793      0.7071067811865476                     0.0]\n",
       "[     0.6279630301995545    -0.32505758367186827     -0.7071067811865474                     0.0]\n",
       "[                    0.0                     0.0                     0.0                     1.0]\n",
       "[     0.4597008433809831      0.8880738339771153 -3.9509955233669315e-16                     0.0]"
      ]
     },
     "execution_count": 54,
     "metadata": {},
     "output_type": "execute_result"
    }
   ],
   "source": [
    "V"
   ]
  },
  {
   "cell_type": "markdown",
   "metadata": {},
   "source": [
    "(b)"
   ]
  },
  {
   "cell_type": "code",
   "execution_count": 55,
   "metadata": {},
   "outputs": [
    {
     "data": {
      "text/html": [
       "<html><script type=\"math/tex; mode=display\">\\newcommand{\\Bold}[1]{\\mathbf{#1}}\\left(\\begin{array}{rrr}\n",
       "3 & 1 & 2 \\\\\n",
       "1 & 1 & 0 \\\\\n",
       "2 & 0 & 2\n",
       "\\end{array}\\right)</script></html>"
      ],
      "text/latex": [
       "$$\\newcommand{\\Bold}[1]{\\mathbf{#1}}\\left(\\begin{array}{rrr}\n",
       "3 & 1 & 2 \\\\\n",
       "1 & 1 & 0 \\\\\n",
       "2 & 0 & 2\n",
       "\\end{array}\\right)$$"
      ],
      "text/plain": [
       "[3 1 2]\n",
       "[1 1 0]\n",
       "[2 0 2]"
      ]
     },
     "execution_count": 55,
     "metadata": {},
     "output_type": "execute_result"
    }
   ],
   "source": [
    "AA = A*A.T; AA"
   ]
  },
  {
   "cell_type": "code",
   "execution_count": 56,
   "metadata": {},
   "outputs": [
    {
     "data": {
      "text/html": [
       "<html><script type=\"math/tex; mode=display\">\\newcommand{\\Bold}[1]{\\mathbf{#1}}\\left(-\\sqrt{3} + 3, \\sqrt{3} + 3, 0\\right)</script></html>"
      ],
      "text/latex": [
       "$$\\newcommand{\\Bold}[1]{\\mathbf{#1}}\\left(-\\sqrt{3} + 3, \\sqrt{3} + 3, 0\\right)$$"
      ],
      "text/plain": [
       "(-sqrt(3) + 3, sqrt(3) + 3, 0)"
      ]
     },
     "execution_count": 56,
     "metadata": {},
     "output_type": "execute_result"
    }
   ],
   "source": [
    "ee = AA.eigenvalues(); ee[0], ee[1], ee[2]"
   ]
  },
  {
   "cell_type": "code",
   "execution_count": 57,
   "metadata": {},
   "outputs": [
    {
     "data": {
      "text/html": [
       "<html><script type=\"math/tex; mode=display\">\\newcommand{\\Bold}[1]{\\mathbf{#1}}\\left[\\left(-\\sqrt{3} + 3, \\left[\\left(1,\\,\\sqrt{3} + 2,\\,-\\sqrt{3} - 1\\right)\\right], 1\\right), \\left(\\sqrt{3} + 3, \\left[\\left(1,\\,-\\sqrt{3} + 2,\\,\\sqrt{3} - 1\\right)\\right], 1\\right), \\left(0, \\left[\\left(1,\\,-1,\\,-1\\right)\\right], 1\\right)\\right]</script></html>"
      ],
      "text/latex": [
       "$$\\newcommand{\\Bold}[1]{\\mathbf{#1}}\\left[\\left(-\\sqrt{3} + 3, \\left[\\left(1,\\,\\sqrt{3} + 2,\\,-\\sqrt{3} - 1\\right)\\right], 1\\right), \\left(\\sqrt{3} + 3, \\left[\\left(1,\\,-\\sqrt{3} + 2,\\,\\sqrt{3} - 1\\right)\\right], 1\\right), \\left(0, \\left[\\left(1,\\,-1,\\,-1\\right)\\right], 1\\right)\\right]$$"
      ],
      "text/plain": [
       "[(-sqrt(3) + 3, [(1, sqrt(3) + 2, -sqrt(3) - 1)], 1),\n",
       " (sqrt(3) + 3, [(1, -sqrt(3) + 2, sqrt(3) - 1)], 1),\n",
       " (0, [(1, -1, -1)], 1)]"
      ]
     },
     "execution_count": 57,
     "metadata": {},
     "output_type": "execute_result"
    }
   ],
   "source": [
    "ev = AA.eigenvectors_right(); ev"
   ]
  },
  {
   "cell_type": "markdown",
   "metadata": {},
   "source": [
    "(c) find relation"
   ]
  },
  {
   "cell_type": "code",
   "execution_count": 58,
   "metadata": {},
   "outputs": [
    {
     "data": {
      "text/html": [
       "<html><script type=\"math/tex; mode=display\">\\newcommand{\\Bold}[1]{\\mathbf{#1}}\\left[2.17532774716107, 1.12603250061049, 1.07984188209954 \\times 10^{-16}\\right]</script></html>"
      ],
      "text/latex": [
       "$$\\newcommand{\\Bold}[1]{\\mathbf{#1}}\\left[2.17532774716107, 1.12603250061049, 1.07984188209954 \\times 10^{-16}\\right]$$"
      ],
      "text/plain": [
       "[2.17532774716107, 1.12603250061049, 1.07984188209954e-16]"
      ]
     },
     "execution_count": 58,
     "metadata": {},
     "output_type": "execute_result"
    }
   ],
   "source": [
    "num = [n(S[i][i]) for i in range(3)]; num"
   ]
  },
  {
   "cell_type": "code",
   "execution_count": 59,
   "metadata": {},
   "outputs": [
    {
     "data": {
      "text/html": [
       "<html><script type=\"math/tex; mode=display\">\\newcommand{\\Bold}[1]{\\mathbf{#1}}\\left[2.17532774716107, 1.12603250061049, 0.000000000000000\\right]</script></html>"
      ],
      "text/latex": [
       "$$\\newcommand{\\Bold}[1]{\\mathbf{#1}}\\left[2.17532774716107, 1.12603250061049, 0.000000000000000\\right]$$"
      ],
      "text/plain": [
       "[2.17532774716107, 1.12603250061049, 0.000000000000000]"
      ]
     },
     "execution_count": 59,
     "metadata": {},
     "output_type": "execute_result"
    }
   ],
   "source": [
    "an = [sqrt(ee[1]).n(), sqrt(ee[0]).n(), sqrt(ee[2]).n()]; an"
   ]
  },
  {
   "cell_type": "code",
   "execution_count": 60,
   "metadata": {},
   "outputs": [
    {
     "data": {
      "text/html": [
       "<html><script type=\"math/tex; mode=display\">\\newcommand{\\Bold}[1]{\\mathbf{#1}}6.09643914796761 \\times 10^{-32}</script></html>"
      ],
      "text/latex": [
       "$$\\newcommand{\\Bold}[1]{\\mathbf{#1}}6.09643914796761 \\times 10^{-32}$$"
      ],
      "text/plain": [
       "6.09643914796761e-32"
      ]
     },
     "execution_count": 60,
     "metadata": {},
     "output_type": "execute_result"
    }
   ],
   "source": [
    "(num[0]-an[0])^2 + (num[1]-an[1])^2 + (num[2]-an[2])^2"
   ]
  },
  {
   "cell_type": "markdown",
   "metadata": {},
   "source": [
    "(d)"
   ]
  },
  {
   "cell_type": "code",
   "execution_count": 61,
   "metadata": {},
   "outputs": [
    {
     "data": {
      "text/html": [
       "<html><script type=\"math/tex; mode=display\">\\newcommand{\\Bold}[1]{\\mathbf{#1}}\\left(2, 2, 3, 4\\right)</script></html>"
      ],
      "text/latex": [
       "$$\\newcommand{\\Bold}[1]{\\mathbf{#1}}\\left(2, 2, 3, 4\\right)$$"
      ],
      "text/plain": [
       "(2, 2, 3, 4)"
      ]
     },
     "execution_count": 61,
     "metadata": {},
     "output_type": "execute_result"
    }
   ],
   "source": [
    "A.rank(), (A.T*A).rank(), U.rank(), V.rank()"
   ]
  },
  {
   "cell_type": "markdown",
   "metadata": {},
   "source": [
    "**Problem 3**"
   ]
  },
  {
   "cell_type": "code",
   "execution_count": 62,
   "metadata": {},
   "outputs": [
    {
     "data": {
      "text/html": [
       "<html><script type=\"math/tex; mode=display\">\\newcommand{\\Bold}[1]{\\mathbf{#1}}{\\left(y^{2} - 2 \\, x\\right)}^{2} + {\\left(x - y\\right)}^{2}</script></html>"
      ],
      "text/latex": [
       "$$\\newcommand{\\Bold}[1]{\\mathbf{#1}}{\\left(y^{2} - 2 \\, x\\right)}^{2} + {\\left(x - y\\right)}^{2}$$"
      ],
      "text/plain": [
       "(y^2 - 2*x)^2 + (x - y)^2"
      ]
     },
     "execution_count": 62,
     "metadata": {},
     "output_type": "execute_result"
    }
   ],
   "source": [
    "f(x, y) = (x-y)^2 + (2*x - y^2)^2; f(x,y)"
   ]
  },
  {
   "cell_type": "code",
   "execution_count": 63,
   "metadata": {},
   "outputs": [
    {
     "data": {
      "text/html": [
       "<html><script type=\"math/tex; mode=display\">\\newcommand{\\Bold}[1]{\\mathbf{#1}}\\left(-4 \\, y^{2} + 10 \\, x - 2 \\, y,\\,4 \\, {\\left(y^{2} - 2 \\, x\\right)} y - 2 \\, x + 2 \\, y\\right)</script></html>"
      ],
      "text/latex": [
       "$$\\newcommand{\\Bold}[1]{\\mathbf{#1}}\\left(-4 \\, y^{2} + 10 \\, x - 2 \\, y,\\,4 \\, {\\left(y^{2} - 2 \\, x\\right)} y - 2 \\, x + 2 \\, y\\right)$$"
      ],
      "text/plain": [
       "(-4*y^2 + 10*x - 2*y, 4*(y^2 - 2*x)*y - 2*x + 2*y)"
      ]
     },
     "execution_count": 63,
     "metadata": {},
     "output_type": "execute_result"
    }
   ],
   "source": [
    "gradf = f(x, y).gradient(); gradf"
   ]
  },
  {
   "cell_type": "code",
   "execution_count": 64,
   "metadata": {},
   "outputs": [
    {
     "data": {
      "text/html": [
       "<html><script type=\"math/tex; mode=display\">\\newcommand{\\Bold}[1]{\\mathbf{#1}}\\left[-4 \\, y^{2} + 10 \\, x - 2 \\, y = 0, 4 \\, {\\left(y^{2} - 2 \\, x\\right)} y - 2 \\, x + 2 \\, y = 0\\right]</script></html>"
      ],
      "text/latex": [
       "$$\\newcommand{\\Bold}[1]{\\mathbf{#1}}\\left[-4 \\, y^{2} + 10 \\, x - 2 \\, y = 0, 4 \\, {\\left(y^{2} - 2 \\, x\\right)} y - 2 \\, x + 2 \\, y = 0\\right]$$"
      ],
      "text/plain": [
       "[-4*y^2 + 10*x - 2*y == 0, 4*(y^2 - 2*x)*y - 2*x + 2*y == 0]"
      ]
     },
     "execution_count": 64,
     "metadata": {},
     "output_type": "execute_result"
    }
   ],
   "source": [
    "eqs = [ee == 0 for ee in gradf]; eqs"
   ]
  },
  {
   "cell_type": "code",
   "execution_count": 65,
   "metadata": {},
   "outputs": [
    {
     "data": {
      "text/html": [
       "<html><script type=\"math/tex; mode=display\">\\newcommand{\\Bold}[1]{\\mathbf{#1}}\\left[\\left[x = 2, y = 2\\right], \\left[x = \\left(\\frac{3}{5}\\right), y = 1\\right], \\left[x = 0, y = 0\\right]\\right]</script></html>"
      ],
      "text/latex": [
       "$$\\newcommand{\\Bold}[1]{\\mathbf{#1}}\\left[\\left[x = 2, y = 2\\right], \\left[x = \\left(\\frac{3}{5}\\right), y = 1\\right], \\left[x = 0, y = 0\\right]\\right]$$"
      ],
      "text/plain": [
       "[[x == 2, y == 2], [x == (3/5), y == 1], [x == 0, y == 0]]"
      ]
     },
     "execution_count": 65,
     "metadata": {},
     "output_type": "execute_result"
    }
   ],
   "source": [
    "sols = solve(eqs, [x, y]); sols"
   ]
  },
  {
   "cell_type": "code",
   "execution_count": 66,
   "metadata": {},
   "outputs": [
    {
     "data": {
      "text/html": [
       "<html><script type=\"math/tex; mode=display\">\\newcommand{\\Bold}[1]{\\mathbf{#1}}\\left(\\begin{array}{rr}\n",
       "\\left( x, y \\right) \\ {\\mapsto} \\ 10 & \\left( x, y \\right) \\ {\\mapsto} \\ -8 \\, y - 2 \\\\\n",
       "\\left( x, y \\right) \\ {\\mapsto} \\ -8 \\, y - 2 & \\left( x, y \\right) \\ {\\mapsto} \\ 12 \\, y^{2} - 8 \\, x + 2\n",
       "\\end{array}\\right)</script></html>"
      ],
      "text/latex": [
       "$$\\newcommand{\\Bold}[1]{\\mathbf{#1}}\\left(\\begin{array}{rr}\n",
       "\\left( x, y \\right) \\ {\\mapsto} \\ 10 & \\left( x, y \\right) \\ {\\mapsto} \\ -8 \\, y - 2 \\\\\n",
       "\\left( x, y \\right) \\ {\\mapsto} \\ -8 \\, y - 2 & \\left( x, y \\right) \\ {\\mapsto} \\ 12 \\, y^{2} - 8 \\, x + 2\n",
       "\\end{array}\\right)$$"
      ],
      "text/plain": [
       "[              (x, y) |--> 10         (x, y) |--> -8*y - 2]\n",
       "[        (x, y) |--> -8*y - 2 (x, y) |--> 12*y^2 - 8*x + 2]"
      ]
     },
     "execution_count": 66,
     "metadata": {},
     "output_type": "execute_result"
    }
   ],
   "source": [
    "H = f.hessian(); H"
   ]
  },
  {
   "cell_type": "code",
   "execution_count": 67,
   "metadata": {},
   "outputs": [
    {
     "data": {
      "text/html": [
       "<html><script type=\"math/tex; mode=display\">\\newcommand{\\Bold}[1]{\\mathbf{#1}}\\left[\\left[-6 \\, \\sqrt{13} + 22, 6 \\, \\sqrt{13} + 22\\right], \\left[-\\frac{2}{5} \\, \\sqrt{626} + \\frac{48}{5}, \\frac{2}{5} \\, \\sqrt{626} + \\frac{48}{5}\\right], \\left[-2 \\, \\sqrt{5} + 6, 2 \\, \\sqrt{5} + 6\\right]\\right]</script></html>"
      ],
      "text/latex": [
       "$$\\newcommand{\\Bold}[1]{\\mathbf{#1}}\\left[\\left[-6 \\, \\sqrt{13} + 22, 6 \\, \\sqrt{13} + 22\\right], \\left[-\\frac{2}{5} \\, \\sqrt{626} + \\frac{48}{5}, \\frac{2}{5} \\, \\sqrt{626} + \\frac{48}{5}\\right], \\left[-2 \\, \\sqrt{5} + 6, 2 \\, \\sqrt{5} + 6\\right]\\right]$$"
      ],
      "text/plain": [
       "[[-6*sqrt(13) + 22, 6*sqrt(13) + 22],\n",
       " [-2/5*sqrt(626) + 48/5, 2/5*sqrt(626) + 48/5],\n",
       " [-2*sqrt(5) + 6, 2*sqrt(5) + 6]]"
      ]
     },
     "execution_count": 67,
     "metadata": {},
     "output_type": "execute_result"
    }
   ],
   "source": [
    "stapoints = [list(H(x, y).substitute(xx).eigenvalues()) for xx in sols]; stapoints"
   ]
  },
  {
   "cell_type": "code",
   "execution_count": 68,
   "metadata": {},
   "outputs": [
    {
     "data": {
      "text/html": [
       "<html><script type=\"math/tex; mode=display\">\\newcommand{\\Bold}[1]{\\mathbf{#1}}\\left[\\left[0.366692347216066, 43.6333076527839\\right], \\left[-0.407996802557443, 19.6079968025574\\right], \\left[1.52786404500042, 10.4721359549996\\right]\\right]</script></html>"
      ],
      "text/latex": [
       "$$\\newcommand{\\Bold}[1]{\\mathbf{#1}}\\left[\\left[0.366692347216066, 43.6333076527839\\right], \\left[-0.407996802557443, 19.6079968025574\\right], \\left[1.52786404500042, 10.4721359549996\\right]\\right]$$"
      ],
      "text/plain": [
       "[[0.366692347216066, 43.6333076527839],\n",
       " [-0.407996802557443, 19.6079968025574],\n",
       " [1.52786404500042, 10.4721359549996]]"
      ]
     },
     "execution_count": 68,
     "metadata": {},
     "output_type": "execute_result"
    }
   ],
   "source": [
    "[[n(xi[0]), n(xi[1])] for xi in stapoints]"
   ]
  },
  {
   "cell_type": "markdown",
   "metadata": {},
   "source": [
    "Thus, we have a minimum, a saddle point and another minimum.\n",
    "\n",
    "(c)"
   ]
  },
  {
   "cell_type": "code",
   "execution_count": 69,
   "metadata": {},
   "outputs": [
    {
     "data": {
      "text/html": [
       "<html><script type=\"math/tex; mode=display\">\\newcommand{\\Bold}[1]{\\mathbf{#1}}\\left[\\left[\\left[x = 2, y = 2\\right], 0\\right], \\left[\\left[x = \\left(\\frac{3}{5}\\right), y = 1\\right], \\frac{1}{5}\\right], \\left[\\left[x = 0, y = 0\\right], 0\\right]\\right]</script></html>"
      ],
      "text/latex": [
       "$$\\newcommand{\\Bold}[1]{\\mathbf{#1}}\\left[\\left[\\left[x = 2, y = 2\\right], 0\\right], \\left[\\left[x = \\left(\\frac{3}{5}\\right), y = 1\\right], \\frac{1}{5}\\right], \\left[\\left[x = 0, y = 0\\right], 0\\right]\\right]$$"
      ],
      "text/plain": [
       "[[[x == 2, y == 2], 0], [[x == (3/5), y == 1], 1/5], [[x == 0, y == 0], 0]]"
      ]
     },
     "execution_count": 69,
     "metadata": {},
     "output_type": "execute_result"
    }
   ],
   "source": [
    "[[sols[i], f(x, y).subs(sols[i])] for i in range(len(sols))]"
   ]
  },
  {
   "cell_type": "code",
   "execution_count": null,
   "metadata": {},
   "outputs": [],
   "source": []
  }
 ],
 "metadata": {
  "kernelspec": {
   "display_name": "SageMath 9.3",
   "language": "sage",
   "name": "sagemath"
  },
  "language_info": {
   "codemirror_mode": {
    "name": "ipython",
    "version": 3
   },
   "file_extension": ".py",
   "mimetype": "text/x-python",
   "name": "python",
   "nbconvert_exporter": "python",
   "pygments_lexer": "ipython3",
   "version": "3.7.10"
  }
 },
 "nbformat": 4,
 "nbformat_minor": 2
}
