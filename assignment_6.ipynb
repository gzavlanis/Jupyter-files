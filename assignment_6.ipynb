{
 "cells": [
  {
   "cell_type": "markdown",
   "metadata": {},
   "source": [
    "# DAMA50: Mathematics for machine learning\n",
    "\n",
    "## Written assignment 5\n",
    "\n",
    "### Georgios Zavlanis\n",
    "\n",
    "\n",
    "### Problem 7\n",
    "\n",
    "a. First, we have to \"translate\" the problem into a linear programming problem. The process can be seen below:"
   ]
  },
  {
   "cell_type": "markdown",
   "metadata": {},
   "source": [
    "We have 42 million dollars in total, for three types of investments.\n",
    "- Let be $x_1$ for treasury notes, $x_2$ for bonds and $x_3$ for stocks.\n",
    "- We have a minimum investment of 3 million dollars in each category, which means that $ x_1, x_2, x_3 \\ge 3000000 $.\n",
    "- Also, at least half of the total funds allocated to treasury notes and bonds, which means that $ x_1+x_2 \\ge 21000000 $.\n",
    "- Finally, the investment in bonds must not exceed twice the investment in treasury notes, which means that $ x_2 \\le 2x_1 $ or $ x_2 - 2x_1 \\le 0 $.\n",
    "\n",
    "We need to maximize the returns, so we need max $ 0.07x_1 + 0.09x_2 + 0.1x_3 $."
   ]
  },
  {
   "cell_type": "markdown",
   "metadata": {},
   "source": [
    "b. So now, we are ready to solve the linear problem:"
   ]
  },
  {
   "cell_type": "code",
   "execution_count": null,
   "metadata": {
    "vscode": {
     "languageId": "plaintext"
    }
   },
   "outputs": [],
   "source": []
  }
 ],
 "metadata": {
  "kernelspec": {
   "display_name": "SageMath 10.0",
   "language": "sage",
   "name": "sagemath"
  },
  "language_info": {
   "name": "sage"
  }
 },
 "nbformat": 4,
 "nbformat_minor": 2
}
