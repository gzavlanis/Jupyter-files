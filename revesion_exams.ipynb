{
 "cells": [
  {
   "cell_type": "markdown",
   "metadata": {},
   "source": [
    "# Revision for exams\n",
    "\n",
    "## Solutions of previous years assignments 2022-2023\n",
    "\n",
    "### Unit 1\n",
    "\n",
    "**Problem 7**\n",
    "\n",
    "Using Sagemath find the reduced row echelon form and the rank of the matrices\n",
    "(a) The 3 by 4 matrix with all entries equal to 4.\n",
    "(b) The 3 by 4 matrix A with entries Aij = i + j − 1.\n",
    "(c) The 3 by 4 matrix A with entries Aij = (−1)j"
   ]
  },
  {
   "cell_type": "markdown",
   "metadata": {},
   "source": [
    "(a)"
   ]
  },
  {
   "cell_type": "code",
   "execution_count": 11,
   "metadata": {},
   "outputs": [
    {
     "data": {
      "text/html": [
       "<html><script type=\"math/tex; mode=display\">\\newcommand{\\Bold}[1]{\\mathbf{#1}}\\left(\\begin{array}{rrrr}\n",
       "4 & 4 & 4 & 4 \\\\\n",
       "4 & 4 & 4 & 4 \\\\\n",
       "4 & 4 & 4 & 4\n",
       "\\end{array}\\right)</script></html>"
      ],
      "text/latex": [
       "$$\\newcommand{\\Bold}[1]{\\mathbf{#1}}\\left(\\begin{array}{rrrr}\n",
       "4 & 4 & 4 & 4 \\\\\n",
       "4 & 4 & 4 & 4 \\\\\n",
       "4 & 4 & 4 & 4\n",
       "\\end{array}\\right)$$"
      ],
      "text/plain": [
       "[4 4 4 4]\n",
       "[4 4 4 4]\n",
       "[4 4 4 4]"
      ]
     },
     "execution_count": 11,
     "metadata": {},
     "output_type": "execute_result"
    }
   ],
   "source": [
    "%display latex\n",
    "\n",
    "A = matrix(QQ, [[4,4,4,4], [4,4,4,4], [4,4,4,4]]); A"
   ]
  },
  {
   "cell_type": "code",
   "execution_count": 12,
   "metadata": {},
   "outputs": [
    {
     "data": {
      "text/html": [
       "<html><script type=\"math/tex; mode=display\">\\newcommand{\\Bold}[1]{\\mathbf{#1}}\\left(\\begin{array}{rrrr}\n",
       "1 & 1 & 1 & 1 \\\\\n",
       "0 & 0 & 0 & 0 \\\\\n",
       "0 & 0 & 0 & 0\n",
       "\\end{array}\\right)</script></html>"
      ],
      "text/latex": [
       "$$\\newcommand{\\Bold}[1]{\\mathbf{#1}}\\left(\\begin{array}{rrrr}\n",
       "1 & 1 & 1 & 1 \\\\\n",
       "0 & 0 & 0 & 0 \\\\\n",
       "0 & 0 & 0 & 0\n",
       "\\end{array}\\right)$$"
      ],
      "text/plain": [
       "[1 1 1 1]\n",
       "[0 0 0 0]\n",
       "[0 0 0 0]"
      ]
     },
     "execution_count": 12,
     "metadata": {},
     "output_type": "execute_result"
    }
   ],
   "source": [
    "A.rref()"
   ]
  },
  {
   "cell_type": "code",
   "execution_count": 13,
   "metadata": {},
   "outputs": [
    {
     "data": {
      "text/html": [
       "<html><script type=\"math/tex; mode=display\">\\newcommand{\\Bold}[1]{\\mathbf{#1}}1</script></html>"
      ],
      "text/latex": [
       "$$\\newcommand{\\Bold}[1]{\\mathbf{#1}}1$$"
      ],
      "text/plain": [
       "1"
      ]
     },
     "execution_count": 13,
     "metadata": {},
     "output_type": "execute_result"
    }
   ],
   "source": [
    "rank(A)"
   ]
  },
  {
   "cell_type": "markdown",
   "metadata": {},
   "source": [
    "(b)"
   ]
  },
  {
   "cell_type": "code",
   "execution_count": 14,
   "metadata": {},
   "outputs": [
    {
     "data": {
      "text/html": [
       "<html><script type=\"math/tex; mode=display\">\\newcommand{\\Bold}[1]{\\mathbf{#1}}\\left(\\begin{array}{rrrr}\n",
       "1 & 2 & 3 & 4 \\\\\n",
       "2 & 3 & 4 & 5 \\\\\n",
       "3 & 4 & 5 & 6\n",
       "\\end{array}\\right)</script></html>"
      ],
      "text/latex": [
       "$$\\newcommand{\\Bold}[1]{\\mathbf{#1}}\\left(\\begin{array}{rrrr}\n",
       "1 & 2 & 3 & 4 \\\\\n",
       "2 & 3 & 4 & 5 \\\\\n",
       "3 & 4 & 5 & 6\n",
       "\\end{array}\\right)$$"
      ],
      "text/plain": [
       "[1 2 3 4]\n",
       "[2 3 4 5]\n",
       "[3 4 5 6]"
      ]
     },
     "execution_count": 14,
     "metadata": {},
     "output_type": "execute_result"
    }
   ],
   "source": [
    "A = matrix(QQ, 3, 4, lambda i, j: ((i + 1) + (j + 1) - 1)); A"
   ]
  },
  {
   "cell_type": "code",
   "execution_count": 15,
   "metadata": {},
   "outputs": [
    {
     "data": {
      "text/html": [
       "<html><script type=\"math/tex; mode=display\">\\newcommand{\\Bold}[1]{\\mathbf{#1}}\\left(\\begin{array}{rrrr}\n",
       "1 & 0 & -1 & -2 \\\\\n",
       "0 & 1 & 2 & 3 \\\\\n",
       "0 & 0 & 0 & 0\n",
       "\\end{array}\\right)</script></html>"
      ],
      "text/latex": [
       "$$\\newcommand{\\Bold}[1]{\\mathbf{#1}}\\left(\\begin{array}{rrrr}\n",
       "1 & 0 & -1 & -2 \\\\\n",
       "0 & 1 & 2 & 3 \\\\\n",
       "0 & 0 & 0 & 0\n",
       "\\end{array}\\right)$$"
      ],
      "text/plain": [
       "[ 1  0 -1 -2]\n",
       "[ 0  1  2  3]\n",
       "[ 0  0  0  0]"
      ]
     },
     "execution_count": 15,
     "metadata": {},
     "output_type": "execute_result"
    }
   ],
   "source": [
    "A.rref()"
   ]
  },
  {
   "cell_type": "code",
   "execution_count": 16,
   "metadata": {},
   "outputs": [
    {
     "data": {
      "text/html": [
       "<html><script type=\"math/tex; mode=display\">\\newcommand{\\Bold}[1]{\\mathbf{#1}}2</script></html>"
      ],
      "text/latex": [
       "$$\\newcommand{\\Bold}[1]{\\mathbf{#1}}2$$"
      ],
      "text/plain": [
       "2"
      ]
     },
     "execution_count": 16,
     "metadata": {},
     "output_type": "execute_result"
    }
   ],
   "source": [
    "rank(A)"
   ]
  },
  {
   "cell_type": "markdown",
   "metadata": {},
   "source": [
    "(c)"
   ]
  },
  {
   "cell_type": "code",
   "execution_count": 17,
   "metadata": {},
   "outputs": [
    {
     "data": {
      "text/html": [
       "<html><script type=\"math/tex; mode=display\">\\newcommand{\\Bold}[1]{\\mathbf{#1}}\\left(\\begin{array}{rrrr}\n",
       "-1 & 1 & -1 & 1 \\\\\n",
       "-1 & 1 & -1 & 1 \\\\\n",
       "-1 & 1 & -1 & 1\n",
       "\\end{array}\\right)</script></html>"
      ],
      "text/latex": [
       "$$\\newcommand{\\Bold}[1]{\\mathbf{#1}}\\left(\\begin{array}{rrrr}\n",
       "-1 & 1 & -1 & 1 \\\\\n",
       "-1 & 1 & -1 & 1 \\\\\n",
       "-1 & 1 & -1 & 1\n",
       "\\end{array}\\right)$$"
      ],
      "text/plain": [
       "[-1  1 -1  1]\n",
       "[-1  1 -1  1]\n",
       "[-1  1 -1  1]"
      ]
     },
     "execution_count": 17,
     "metadata": {},
     "output_type": "execute_result"
    }
   ],
   "source": [
    "A = matrix(QQ, 3, 4, lambda i, j: (-1)^(j+1)); A"
   ]
  },
  {
   "cell_type": "code",
   "execution_count": 18,
   "metadata": {},
   "outputs": [
    {
     "data": {
      "text/html": [
       "<html><script type=\"math/tex; mode=display\">\\newcommand{\\Bold}[1]{\\mathbf{#1}}\\left(\\begin{array}{rrrr}\n",
       "1 & -1 & 1 & -1 \\\\\n",
       "0 & 0 & 0 & 0 \\\\\n",
       "0 & 0 & 0 & 0\n",
       "\\end{array}\\right)</script></html>"
      ],
      "text/latex": [
       "$$\\newcommand{\\Bold}[1]{\\mathbf{#1}}\\left(\\begin{array}{rrrr}\n",
       "1 & -1 & 1 & -1 \\\\\n",
       "0 & 0 & 0 & 0 \\\\\n",
       "0 & 0 & 0 & 0\n",
       "\\end{array}\\right)$$"
      ],
      "text/plain": [
       "[ 1 -1  1 -1]\n",
       "[ 0  0  0  0]\n",
       "[ 0  0  0  0]"
      ]
     },
     "execution_count": 18,
     "metadata": {},
     "output_type": "execute_result"
    }
   ],
   "source": [
    "A.rref()"
   ]
  },
  {
   "cell_type": "code",
   "execution_count": 19,
   "metadata": {},
   "outputs": [
    {
     "data": {
      "text/html": [
       "<html><script type=\"math/tex; mode=display\">\\newcommand{\\Bold}[1]{\\mathbf{#1}}1</script></html>"
      ],
      "text/latex": [
       "$$\\newcommand{\\Bold}[1]{\\mathbf{#1}}1$$"
      ],
      "text/plain": [
       "1"
      ]
     },
     "execution_count": 19,
     "metadata": {},
     "output_type": "execute_result"
    }
   ],
   "source": [
    "rank(A)"
   ]
  },
  {
   "cell_type": "markdown",
   "metadata": {},
   "source": [
    "**Problem 8**\n",
    "\n",
    "Solve the following system using Sagemath\\\n",
    "    p + 2q + 3r + s = 1\\\n",
    "    2p + q + 8r + 2s = 2\\\n",
    "    p + 6q − 3r + 5s = −2\\\n",
    "    2p − q + r − s = λ\\\n",
    "in the case λ = 0\\\n",
    "(a) directly solving the system;\\\n",
    "(b) utilising the inverse of a matrix;\\\n",
    "(c) using Gauss elimination;\\\n",
    "and (d) for general λ, using one of methods mentioned above."
   ]
  },
  {
   "cell_type": "code",
   "execution_count": 22,
   "metadata": {},
   "outputs": [],
   "source": [
    "p, q, r, s, λ = var('p, q, r, s, λ')"
   ]
  },
  {
   "cell_type": "markdown",
   "metadata": {},
   "source": [
    "(a)"
   ]
  },
  {
   "cell_type": "code",
   "execution_count": 23,
   "metadata": {},
   "outputs": [
    {
     "data": {
      "text/html": [
       "<html><script type=\"math/tex; mode=display\">\\newcommand{\\Bold}[1]{\\mathbf{#1}}\\left[\\left[p = \\left(-\\frac{18}{65}\\right), q = \\left(\\frac{17}{65}\\right), r = \\left(\\frac{51}{130}\\right), s = \\left(-\\frac{11}{26}\\right)\\right]\\right]</script></html>"
      ],
      "text/latex": [
       "$$\\newcommand{\\Bold}[1]{\\mathbf{#1}}\\left[\\left[p = \\left(-\\frac{18}{65}\\right), q = \\left(\\frac{17}{65}\\right), r = \\left(\\frac{51}{130}\\right), s = \\left(-\\frac{11}{26}\\right)\\right]\\right]$$"
      ],
      "text/plain": [
       "[[p == (-18/65), q == (17/65), r == (51/130), s == (-11/26)]]"
      ]
     },
     "execution_count": 23,
     "metadata": {},
     "output_type": "execute_result"
    }
   ],
   "source": [
    "eqs0 = [p+2*q+3*r+s == 1, \n",
    "        2*p+q+8*r+2*s == 2,\n",
    "        p+6*q-3*r+5*s == -2,\n",
    "        2*p-q+r-s == 0]\n",
    "\n",
    "solve(eqs0, [p, q, r, s])"
   ]
  },
  {
   "cell_type": "markdown",
   "metadata": {},
   "source": [
    "(b)"
   ]
  },
  {
   "cell_type": "code",
   "execution_count": 24,
   "metadata": {},
   "outputs": [
    {
     "data": {
      "text/html": [
       "<html><script type=\"math/tex; mode=display\">\\newcommand{\\Bold}[1]{\\mathbf{#1}}\\left(\\left(\\begin{array}{rrrr}\n",
       "1 & 2 & 3 & 1 \\\\\n",
       "2 & 1 & 8 & 2 \\\\\n",
       "1 & 6 & -3 & 5 \\\\\n",
       "2 & -1 & 1 & -1\n",
       "\\end{array}\\right), \\left(\\begin{array}{r}\n",
       "1 \\\\\n",
       "2 \\\\\n",
       "-2 \\\\\n",
       "0\n",
       "\\end{array}\\right)\\right)</script></html>"
      ],
      "text/latex": [
       "$$\\newcommand{\\Bold}[1]{\\mathbf{#1}}\\left(\\left(\\begin{array}{rrrr}\n",
       "1 & 2 & 3 & 1 \\\\\n",
       "2 & 1 & 8 & 2 \\\\\n",
       "1 & 6 & -3 & 5 \\\\\n",
       "2 & -1 & 1 & -1\n",
       "\\end{array}\\right), \\left(\\begin{array}{r}\n",
       "1 \\\\\n",
       "2 \\\\\n",
       "-2 \\\\\n",
       "0\n",
       "\\end{array}\\right)\\right)$$"
      ],
      "text/plain": [
       "(\n",
       "[ 1  2  3  1]  [ 1]\n",
       "[ 2  1  8  2]  [ 2]\n",
       "[ 1  6 -3  5]  [-2]\n",
       "[ 2 -1  1 -1], [ 0]\n",
       ")"
      ]
     },
     "execution_count": 24,
     "metadata": {},
     "output_type": "execute_result"
    }
   ],
   "source": [
    "A = matrix(QQ,[[1, 2, 3, 1], [2, 1, 8, 2], [1, 6, -3, 5], [2, -1, 1, -1]])\n",
    "Y = matrix(QQ, 4, 1, [1, 2, -2, 0])\n",
    "\n",
    "A, Y"
   ]
  },
  {
   "cell_type": "code",
   "execution_count": 25,
   "metadata": {},
   "outputs": [
    {
     "data": {
      "text/html": [
       "<html><script type=\"math/tex; mode=display\">\\newcommand{\\Bold}[1]{\\mathbf{#1}}\\left(\\begin{array}{r}\n",
       "-\\frac{18}{65} \\\\\n",
       "\\frac{17}{65} \\\\\n",
       "\\frac{51}{130} \\\\\n",
       "-\\frac{11}{26}\n",
       "\\end{array}\\right)</script></html>"
      ],
      "text/latex": [
       "$$\\newcommand{\\Bold}[1]{\\mathbf{#1}}\\left(\\begin{array}{r}\n",
       "-\\frac{18}{65} \\\\\n",
       "\\frac{17}{65} \\\\\n",
       "\\frac{51}{130} \\\\\n",
       "-\\frac{11}{26}\n",
       "\\end{array}\\right)$$"
      ],
      "text/plain": [
       "[-18/65]\n",
       "[ 17/65]\n",
       "[51/130]\n",
       "[-11/26]"
      ]
     },
     "execution_count": 25,
     "metadata": {},
     "output_type": "execute_result"
    }
   ],
   "source": [
    "A^(-1)*Y"
   ]
  },
  {
   "cell_type": "markdown",
   "metadata": {},
   "source": [
    "(c)"
   ]
  },
  {
   "cell_type": "code",
   "execution_count": 26,
   "metadata": {},
   "outputs": [
    {
     "data": {
      "text/html": [
       "<html><script type=\"math/tex; mode=display\">\\newcommand{\\Bold}[1]{\\mathbf{#1}}\\left(\\begin{array}{rrrr|r}\n",
       "1 & 2 & 3 & 1 & 1 \\\\\n",
       "2 & 1 & 8 & 2 & 2 \\\\\n",
       "1 & 6 & -3 & 5 & -2 \\\\\n",
       "2 & -1 & 1 & -1 & 0\n",
       "\\end{array}\\right)</script></html>"
      ],
      "text/latex": [
       "$$\\newcommand{\\Bold}[1]{\\mathbf{#1}}\\left(\\begin{array}{rrrr|r}\n",
       "1 & 2 & 3 & 1 & 1 \\\\\n",
       "2 & 1 & 8 & 2 & 2 \\\\\n",
       "1 & 6 & -3 & 5 & -2 \\\\\n",
       "2 & -1 & 1 & -1 & 0\n",
       "\\end{array}\\right)$$"
      ],
      "text/plain": [
       "[ 1  2  3  1| 1]\n",
       "[ 2  1  8  2| 2]\n",
       "[ 1  6 -3  5|-2]\n",
       "[ 2 -1  1 -1| 0]"
      ]
     },
     "execution_count": 26,
     "metadata": {},
     "output_type": "execute_result"
    }
   ],
   "source": [
    "AA = A.augment(Y, subdivide = true); AA"
   ]
  },
  {
   "cell_type": "code",
   "execution_count": 27,
   "metadata": {},
   "outputs": [
    {
     "data": {
      "text/html": [
       "<html><script type=\"math/tex; mode=display\">\\newcommand{\\Bold}[1]{\\mathbf{#1}}\\left(\\begin{array}{rrrr|r}\n",
       "1 & 0 & 0 & 0 & -\\frac{18}{65} \\\\\n",
       "0 & 1 & 0 & 0 & \\frac{17}{65} \\\\\n",
       "0 & 0 & 1 & 0 & \\frac{51}{130} \\\\\n",
       "0 & 0 & 0 & 1 & -\\frac{11}{26}\n",
       "\\end{array}\\right)</script></html>"
      ],
      "text/latex": [
       "$$\\newcommand{\\Bold}[1]{\\mathbf{#1}}\\left(\\begin{array}{rrrr|r}\n",
       "1 & 0 & 0 & 0 & -\\frac{18}{65} \\\\\n",
       "0 & 1 & 0 & 0 & \\frac{17}{65} \\\\\n",
       "0 & 0 & 1 & 0 & \\frac{51}{130} \\\\\n",
       "0 & 0 & 0 & 1 & -\\frac{11}{26}\n",
       "\\end{array}\\right)$$"
      ],
      "text/plain": [
       "[     1      0      0      0|-18/65]\n",
       "[     0      1      0      0| 17/65]\n",
       "[     0      0      1      0|51/130]\n",
       "[     0      0      0      1|-11/26]"
      ]
     },
     "execution_count": 27,
     "metadata": {},
     "output_type": "execute_result"
    }
   ],
   "source": [
    "AA.echelon_form()"
   ]
  },
  {
   "cell_type": "markdown",
   "metadata": {},
   "source": [
    "(d)"
   ]
  },
  {
   "cell_type": "code",
   "execution_count": 28,
   "metadata": {},
   "outputs": [
    {
     "data": {
      "text/html": [
       "<html><script type=\"math/tex; mode=display\">\\newcommand{\\Bold}[1]{\\mathbf{#1}}\\left[\\left[p = \\frac{31}{65} \\, λ - \\frac{18}{65}, q = -\\frac{4}{65} \\, λ + \\frac{17}{65}, r = -\\frac{6}{65} \\, λ + \\frac{51}{130}, s = -\\frac{1}{13} \\, λ - \\frac{11}{26}\\right]\\right]</script></html>"
      ],
      "text/latex": [
       "$$\\newcommand{\\Bold}[1]{\\mathbf{#1}}\\left[\\left[p = \\frac{31}{65} \\, λ - \\frac{18}{65}, q = -\\frac{4}{65} \\, λ + \\frac{17}{65}, r = -\\frac{6}{65} \\, λ + \\frac{51}{130}, s = -\\frac{1}{13} \\, λ - \\frac{11}{26}\\right]\\right]$$"
      ],
      "text/plain": [
       "[[p == 31/65*λ - 18/65, q == -4/65*λ + 17/65, r == -6/65*λ + 51/130, s == -1/13*λ - 11/26]]"
      ]
     },
     "execution_count": 28,
     "metadata": {},
     "output_type": "execute_result"
    }
   ],
   "source": [
    "eqs = [p+2*q+3*r+s == 1,\n",
    "       2*p+q+8*r+2*s == 2,\n",
    "       p+6*q-3*r+5*s == -2,\n",
    "       2*p-q+r-s == λ]\n",
    "\n",
    "solve(eqs, [p,q,r,s])"
   ]
  },
  {
   "cell_type": "markdown",
   "metadata": {},
   "source": [
    "### Unit 2\n",
    "\n",
    "**Problem 7**\n",
    "\n",
    "Solution:\n",
    "\n",
    "(a)"
   ]
  },
  {
   "cell_type": "code",
   "execution_count": 30,
   "metadata": {},
   "outputs": [
    {
     "data": {
      "text/html": [
       "<html><script type=\"math/tex; mode=display\">\\newcommand{\\Bold}[1]{\\mathbf{#1}}\\left(\\left(1,\\,1,\\,2\\right), \\left(1,\\,-1,\\,0\\right), \\left(-1,\\,-1,\\,1\\right)\\right)</script></html>"
      ],
      "text/latex": [
       "$$\\newcommand{\\Bold}[1]{\\mathbf{#1}}\\left(\\left(1,\\,1,\\,2\\right), \\left(1,\\,-1,\\,0\\right), \\left(-1,\\,-1,\\,1\\right)\\right)$$"
      ],
      "text/plain": [
       "((1, 1, 2), (1, -1, 0), (-1, -1, 1))"
      ]
     },
     "execution_count": 30,
     "metadata": {},
     "output_type": "execute_result"
    }
   ],
   "source": [
    "%display latex\n",
    "\n",
    "m = matrix(QQ, [[1,1,2], [1,-1,0], [1,0,4]])\n",
    "g, s = m.gram_schmidt();\n",
    "A, B, C = g; A, B, C"
   ]
  },
  {
   "cell_type": "markdown",
   "metadata": {},
   "source": [
    "(b)"
   ]
  },
  {
   "cell_type": "code",
   "execution_count": 31,
   "metadata": {},
   "outputs": [
    {
     "data": {
      "text/html": [
       "<html><script type=\"math/tex; mode=display\">\\newcommand{\\Bold}[1]{\\mathbf{#1}}\\left(\\left(\\frac{1}{6} \\, \\sqrt{6},\\,\\frac{1}{6} \\, \\sqrt{6},\\,\\frac{1}{3} \\, \\sqrt{6}\\right), \\left(\\frac{1}{2} \\, \\sqrt{2},\\,-\\frac{1}{2} \\, \\sqrt{2},\\,0\\right), \\left(-\\frac{1}{3} \\, \\sqrt{3},\\,-\\frac{1}{3} \\, \\sqrt{3},\\,\\frac{1}{3} \\, \\sqrt{3}\\right)\\right)</script></html>"
      ],
      "text/latex": [
       "$$\\newcommand{\\Bold}[1]{\\mathbf{#1}}\\left(\\left(\\frac{1}{6} \\, \\sqrt{6},\\,\\frac{1}{6} \\, \\sqrt{6},\\,\\frac{1}{3} \\, \\sqrt{6}\\right), \\left(\\frac{1}{2} \\, \\sqrt{2},\\,-\\frac{1}{2} \\, \\sqrt{2},\\,0\\right), \\left(-\\frac{1}{3} \\, \\sqrt{3},\\,-\\frac{1}{3} \\, \\sqrt{3},\\,\\frac{1}{3} \\, \\sqrt{3}\\right)\\right)$$"
      ],
      "text/plain": [
       "((1/6*sqrt(6), 1/6*sqrt(6), 1/3*sqrt(6)),\n",
       " (1/2*sqrt(2), -1/2*sqrt(2), 0),\n",
       " (-1/3*sqrt(3), -1/3*sqrt(3), 1/3*sqrt(3)))"
      ]
     },
     "execution_count": 31,
     "metadata": {},
     "output_type": "execute_result"
    }
   ],
   "source": [
    "aa = A/norm(A); bb = B/norm(B); cc = C/norm(C);\n",
    "aa, bb, cc"
   ]
  },
  {
   "cell_type": "markdown",
   "metadata": {},
   "source": [
    "(c)"
   ]
  },
  {
   "cell_type": "code",
   "execution_count": 32,
   "metadata": {},
   "outputs": [
    {
     "data": {
      "text/html": [
       "<html><script type=\"math/tex; mode=display\">\\newcommand{\\Bold}[1]{\\mathbf{#1}}\\left(\\frac{2}{3} \\, \\sqrt{6}, 0, -\\frac{1}{3} \\, \\sqrt{3}\\right)</script></html>"
      ],
      "text/latex": [
       "$$\\newcommand{\\Bold}[1]{\\mathbf{#1}}\\left(\\frac{2}{3} \\, \\sqrt{6}, 0, -\\frac{1}{3} \\, \\sqrt{3}\\right)$$"
      ],
      "text/plain": [
       "(2/3*sqrt(6), 0, -1/3*sqrt(3))"
      ]
     },
     "execution_count": 32,
     "metadata": {},
     "output_type": "execute_result"
    }
   ],
   "source": [
    "d = vector(QQ, [1,1,1])\n",
    "(d.dot_product(aa), d.dot_product(bb), d.dot_product(cc))"
   ]
  },
  {
   "cell_type": "markdown",
   "metadata": {},
   "source": [
    "**Problem 8**\n",
    "\n",
    "Using Sagemath\\\n",
    "(a) define a function that rotates a two dimensional vector by an angle θ given in degrees;\\\n",
    "(b) use this function to successively rotate the vector ⃗a = (1, 1) by 30◦ and then by 45◦ and define vectors\\\n",
    "⃗a1 and ⃗a2 respectively;\\\n",
    "(c) plot the vectors ⃗a, ⃗a1, ⃗a2 using different colors;\\\n",
    "(d) compute the angle (in degrees) between ⃗a and ⃗a2\n",
    "\n",
    "(a)"
   ]
  },
  {
   "cell_type": "code",
   "execution_count": 35,
   "metadata": {},
   "outputs": [
    {
     "data": {
      "text/html": [
       "<html><script type=\"math/tex; mode=display\">\\newcommand{\\Bold}[1]{\\mathbf{#1}}\\left(\\left(\\left(\\begin{array}{rr}\n",
       "1.00000000000000 \\, \\cos\\left(0.0174532925199433 \\, \\mathit{th}\\right) & -1.00000000000000 \\, \\sin\\left(0.0174532925199433 \\, \\mathit{th}\\right) \\\\\n",
       "1.00000000000000 \\, \\sin\\left(0.0174532925199433 \\, \\mathit{th}\\right) & 1.00000000000000 \\, \\cos\\left(0.0174532925199433 \\, \\mathit{th}\\right)\n",
       "\\end{array}\\right),\\,\\left(\\begin{array}{rr}\n",
       "1.00000000000000 \\, \\cos\\left(0.0174532925199433 \\, \\mathit{th}\\right) & -1.00000000000000 \\, \\sin\\left(0.0174532925199433 \\, \\mathit{th}\\right) \\\\\n",
       "1.00000000000000 \\, \\sin\\left(0.0174532925199433 \\, \\mathit{th}\\right) & 1.00000000000000 \\, \\cos\\left(0.0174532925199433 \\, \\mathit{th}\\right)\n",
       "\\end{array}\\right)\\right), \\left(\\left(\\begin{array}{rr}\n",
       "1.00000000000000 \\, \\cos\\left(0.0174532925199433 \\, \\mathit{th}\\right)^{2} - 1.00000000000000 \\, \\sin\\left(0.0174532925199433 \\, \\mathit{th}\\right)^{2} & -2.00000000000000 \\, \\cos\\left(0.0174532925199433 \\, \\mathit{th}\\right) \\sin\\left(0.0174532925199433 \\, \\mathit{th}\\right) \\\\\n",
       "2.00000000000000 \\, \\cos\\left(0.0174532925199433 \\, \\mathit{th}\\right) \\sin\\left(0.0174532925199433 \\, \\mathit{th}\\right) & 1.00000000000000 \\, \\cos\\left(0.0174532925199433 \\, \\mathit{th}\\right)^{2} - 1.00000000000000 \\, \\sin\\left(0.0174532925199433 \\, \\mathit{th}\\right)^{2}\n",
       "\\end{array}\\right),\\,\\left(\\begin{array}{rr}\n",
       "1.00000000000000 \\, \\cos\\left(0.0174532925199433 \\, \\mathit{th}\\right)^{2} - 1.00000000000000 \\, \\sin\\left(0.0174532925199433 \\, \\mathit{th}\\right)^{2} & -2.00000000000000 \\, \\cos\\left(0.0174532925199433 \\, \\mathit{th}\\right) \\sin\\left(0.0174532925199433 \\, \\mathit{th}\\right) \\\\\n",
       "2.00000000000000 \\, \\cos\\left(0.0174532925199433 \\, \\mathit{th}\\right) \\sin\\left(0.0174532925199433 \\, \\mathit{th}\\right) & 1.00000000000000 \\, \\cos\\left(0.0174532925199433 \\, \\mathit{th}\\right)^{2} - 1.00000000000000 \\, \\sin\\left(0.0174532925199433 \\, \\mathit{th}\\right)^{2}\n",
       "\\end{array}\\right)\\right)\\right)</script></html>"
      ],
      "text/latex": [
       "$$\\newcommand{\\Bold}[1]{\\mathbf{#1}}\\left(\\left(\\left(\\begin{array}{rr}\n",
       "1.00000000000000 \\, \\cos\\left(0.0174532925199433 \\, \\mathit{th}\\right) & -1.00000000000000 \\, \\sin\\left(0.0174532925199433 \\, \\mathit{th}\\right) \\\\\n",
       "1.00000000000000 \\, \\sin\\left(0.0174532925199433 \\, \\mathit{th}\\right) & 1.00000000000000 \\, \\cos\\left(0.0174532925199433 \\, \\mathit{th}\\right)\n",
       "\\end{array}\\right),\\,\\left(\\begin{array}{rr}\n",
       "1.00000000000000 \\, \\cos\\left(0.0174532925199433 \\, \\mathit{th}\\right) & -1.00000000000000 \\, \\sin\\left(0.0174532925199433 \\, \\mathit{th}\\right) \\\\\n",
       "1.00000000000000 \\, \\sin\\left(0.0174532925199433 \\, \\mathit{th}\\right) & 1.00000000000000 \\, \\cos\\left(0.0174532925199433 \\, \\mathit{th}\\right)\n",
       "\\end{array}\\right)\\right), \\left(\\left(\\begin{array}{rr}\n",
       "1.00000000000000 \\, \\cos\\left(0.0174532925199433 \\, \\mathit{th}\\right)^{2} - 1.00000000000000 \\, \\sin\\left(0.0174532925199433 \\, \\mathit{th}\\right)^{2} & -2.00000000000000 \\, \\cos\\left(0.0174532925199433 \\, \\mathit{th}\\right) \\sin\\left(0.0174532925199433 \\, \\mathit{th}\\right) \\\\\n",
       "2.00000000000000 \\, \\cos\\left(0.0174532925199433 \\, \\mathit{th}\\right) \\sin\\left(0.0174532925199433 \\, \\mathit{th}\\right) & 1.00000000000000 \\, \\cos\\left(0.0174532925199433 \\, \\mathit{th}\\right)^{2} - 1.00000000000000 \\, \\sin\\left(0.0174532925199433 \\, \\mathit{th}\\right)^{2}\n",
       "\\end{array}\\right),\\,\\left(\\begin{array}{rr}\n",
       "1.00000000000000 \\, \\cos\\left(0.0174532925199433 \\, \\mathit{th}\\right)^{2} - 1.00000000000000 \\, \\sin\\left(0.0174532925199433 \\, \\mathit{th}\\right)^{2} & -2.00000000000000 \\, \\cos\\left(0.0174532925199433 \\, \\mathit{th}\\right) \\sin\\left(0.0174532925199433 \\, \\mathit{th}\\right) \\\\\n",
       "2.00000000000000 \\, \\cos\\left(0.0174532925199433 \\, \\mathit{th}\\right) \\sin\\left(0.0174532925199433 \\, \\mathit{th}\\right) & 1.00000000000000 \\, \\cos\\left(0.0174532925199433 \\, \\mathit{th}\\right)^{2} - 1.00000000000000 \\, \\sin\\left(0.0174532925199433 \\, \\mathit{th}\\right)^{2}\n",
       "\\end{array}\\right)\\right)\\right)$$"
      ],
      "text/plain": [
       "(([ 1.00000000000000*cos(0.0174532925199433*th) -1.00000000000000*sin(0.0174532925199433*th)]\n",
       " [ 1.00000000000000*sin(0.0174532925199433*th)  1.00000000000000*cos(0.0174532925199433*th)], [ 1.00000000000000*cos(0.0174532925199433*th) -1.00000000000000*sin(0.0174532925199433*th)]\n",
       " [ 1.00000000000000*sin(0.0174532925199433*th)  1.00000000000000*cos(0.0174532925199433*th)]),\n",
       " ([1.00000000000000*cos(0.0174532925199433*th)^2 - 1.00000000000000*sin(0.0174532925199433*th)^2                       -2.00000000000000*cos(0.0174532925199433*th)*sin(0.0174532925199433*th)]\n",
       " [                       2.00000000000000*cos(0.0174532925199433*th)*sin(0.0174532925199433*th) 1.00000000000000*cos(0.0174532925199433*th)^2 - 1.00000000000000*sin(0.0174532925199433*th)^2], [1.00000000000000*cos(0.0174532925199433*th)^2 - 1.00000000000000*sin(0.0174532925199433*th)^2                       -2.00000000000000*cos(0.0174532925199433*th)*sin(0.0174532925199433*th)]\n",
       " [                       2.00000000000000*cos(0.0174532925199433*th)*sin(0.0174532925199433*th) 1.00000000000000*cos(0.0174532925199433*th)^2 - 1.00000000000000*sin(0.0174532925199433*th)^2]))"
      ]
     },
     "execution_count": 35,
     "metadata": {},
     "output_type": "execute_result"
    }
   ],
   "source": [
    "th = var('th')\n",
    "ppi = n(pi)/180.\n",
    "rot(th) = matrix(SR, [[cos(th*ppi), -sin(th*ppi)], [sin(th*ppi), cos(th*ppi)]])\n",
    "a = vector(RR, [1., 1.])\n",
    "\n",
    "a1 = rot(30)*a\n",
    "a2 = rot(45)*a1\n",
    "\n",
    "a1, a2"
   ]
  },
  {
   "cell_type": "markdown",
   "metadata": {},
   "source": [
    "(c)"
   ]
  },
  {
   "cell_type": "code",
   "execution_count": 36,
   "metadata": {},
   "outputs": [
    {
     "ename": "TypeError",
     "evalue": "unable to simplify to float approximation",
     "output_type": "error",
     "traceback": [
      "\u001b[0;31m---------------------------------------------------------------------------\u001b[0m",
      "\u001b[0;31mTypeError\u001b[0m                                 Traceback (most recent call last)",
      "\u001b[0;32m/opt/sagemath-9.3/local/lib/python3.7/site-packages/sage/libs/pynac/pynac.pyx\u001b[0m in \u001b[0;36msage.libs.pynac.pynac.py_float (build/cythonized/sage/libs/pynac/pynac.cpp:15550)\u001b[0;34m()\u001b[0m\n\u001b[1;32m   1345\u001b[0m             \u001b[0;32mtry\u001b[0m\u001b[0;34m:\u001b[0m\u001b[0;34m\u001b[0m\u001b[0;34m\u001b[0m\u001b[0m\n\u001b[0;32m-> 1346\u001b[0;31m                 \u001b[0;32mreturn\u001b[0m \u001b[0mfloat\u001b[0m\u001b[0;34m(\u001b[0m\u001b[0mn\u001b[0m\u001b[0;34m)\u001b[0m\u001b[0;34m\u001b[0m\u001b[0;34m\u001b[0m\u001b[0m\n\u001b[0m\u001b[1;32m   1347\u001b[0m             \u001b[0;32mexcept\u001b[0m \u001b[0mTypeError\u001b[0m\u001b[0;34m:\u001b[0m\u001b[0;34m\u001b[0m\u001b[0;34m\u001b[0m\u001b[0m\n",
      "\u001b[0;31mTypeError\u001b[0m: float() argument must be a string or a number, not 'sage.matrix.matrix_symbolic_dense.Matrix_symbolic_dense'",
      "\nDuring handling of the above exception, another exception occurred:\n",
      "\u001b[0;31mTypeError\u001b[0m                                 Traceback (most recent call last)",
      "\u001b[0;32m/opt/sagemath-9.3/local/lib/python3.7/site-packages/sage/symbolic/expression.pyx\u001b[0m in \u001b[0;36msage.symbolic.expression.Expression._eval_self (build/cythonized/sage/symbolic/expression.cpp:9732)\u001b[0;34m()\u001b[0m\n\u001b[1;32m   1409\u001b[0m         \u001b[0;32mtry\u001b[0m\u001b[0;34m:\u001b[0m\u001b[0;34m\u001b[0m\u001b[0;34m\u001b[0m\u001b[0m\n\u001b[0;32m-> 1410\u001b[0;31m             \u001b[0mres\u001b[0m \u001b[0;34m=\u001b[0m \u001b[0mself\u001b[0m\u001b[0;34m.\u001b[0m\u001b[0m_convert\u001b[0m\u001b[0;34m(\u001b[0m\u001b[0;34m{\u001b[0m\u001b[0;34m'parent'\u001b[0m\u001b[0;34m:\u001b[0m\u001b[0mR\u001b[0m\u001b[0;34m}\u001b[0m\u001b[0;34m)\u001b[0m\u001b[0;34m\u001b[0m\u001b[0;34m\u001b[0m\u001b[0m\n\u001b[0m\u001b[1;32m   1411\u001b[0m         \u001b[0;32mexcept\u001b[0m \u001b[0mTypeError\u001b[0m \u001b[0;32mas\u001b[0m \u001b[0merr\u001b[0m\u001b[0;34m:\u001b[0m\u001b[0;34m\u001b[0m\u001b[0;34m\u001b[0m\u001b[0m\n",
      "\u001b[0;32m/opt/sagemath-9.3/local/lib/python3.7/site-packages/sage/symbolic/expression.pyx\u001b[0m in \u001b[0;36msage.symbolic.expression.Expression._convert (build/cythonized/sage/symbolic/expression.cpp:10327)\u001b[0;34m()\u001b[0m\n\u001b[1;32m   1494\u001b[0m         \"\"\"\n\u001b[0;32m-> 1495\u001b[0;31m         \u001b[0mcdef\u001b[0m \u001b[0mGEx\u001b[0m \u001b[0mres\u001b[0m \u001b[0;34m=\u001b[0m \u001b[0mself\u001b[0m\u001b[0;34m.\u001b[0m\u001b[0m_gobj\u001b[0m\u001b[0;34m.\u001b[0m\u001b[0mevalf\u001b[0m\u001b[0;34m(\u001b[0m\u001b[0;36m0\u001b[0m\u001b[0;34m,\u001b[0m \u001b[0mkwds\u001b[0m\u001b[0;34m)\u001b[0m\u001b[0;34m\u001b[0m\u001b[0;34m\u001b[0m\u001b[0m\n\u001b[0m\u001b[1;32m   1496\u001b[0m         \u001b[0;32mreturn\u001b[0m \u001b[0mnew_Expression_from_GEx\u001b[0m\u001b[0;34m(\u001b[0m\u001b[0mself\u001b[0m\u001b[0;34m.\u001b[0m\u001b[0m_parent\u001b[0m\u001b[0;34m,\u001b[0m \u001b[0mres\u001b[0m\u001b[0;34m)\u001b[0m\u001b[0;34m\u001b[0m\u001b[0;34m\u001b[0m\u001b[0m\n",
      "\u001b[0;32m/opt/sagemath-9.3/local/lib/python3.7/site-packages/sage/libs/pynac/pynac.pyx\u001b[0m in \u001b[0;36msage.libs.pynac.pynac.py_float (build/cythonized/sage/libs/pynac/pynac.cpp:15590)\u001b[0;34m()\u001b[0m\n\u001b[1;32m   1347\u001b[0m             \u001b[0;32mexcept\u001b[0m \u001b[0mTypeError\u001b[0m\u001b[0;34m:\u001b[0m\u001b[0;34m\u001b[0m\u001b[0;34m\u001b[0m\u001b[0m\n\u001b[0;32m-> 1348\u001b[0;31m                 \u001b[0;32mreturn\u001b[0m \u001b[0mcomplex\u001b[0m\u001b[0;34m(\u001b[0m\u001b[0mn\u001b[0m\u001b[0;34m)\u001b[0m\u001b[0;34m\u001b[0m\u001b[0;34m\u001b[0m\u001b[0m\n\u001b[0m\u001b[1;32m   1349\u001b[0m         \u001b[0;32melif\u001b[0m \u001b[0mp\u001b[0m \u001b[0;32mis\u001b[0m \u001b[0mcomplex\u001b[0m\u001b[0;34m:\u001b[0m\u001b[0;34m\u001b[0m\u001b[0;34m\u001b[0m\u001b[0m\n",
      "\u001b[0;31mTypeError\u001b[0m: complex() first argument must be a string or a number, not 'sage.matrix.matrix_symbolic_dense.Matrix_symbolic_dense'",
      "\nDuring handling of the above exception, another exception occurred:\n",
      "\u001b[0;31mTypeError\u001b[0m                                 Traceback (most recent call last)",
      "\u001b[0;32m/opt/sagemath-9.3/local/lib/python3.7/site-packages/sage/symbolic/expression.pyx\u001b[0m in \u001b[0;36msage.symbolic.expression.Expression.__float__ (build/cythonized/sage/symbolic/expression.cpp:11962)\u001b[0;34m()\u001b[0m\n\u001b[1;32m   1697\u001b[0m         \u001b[0;32mtry\u001b[0m\u001b[0;34m:\u001b[0m\u001b[0;34m\u001b[0m\u001b[0;34m\u001b[0m\u001b[0m\n\u001b[0;32m-> 1698\u001b[0;31m             \u001b[0mret\u001b[0m \u001b[0;34m=\u001b[0m \u001b[0mfloat\u001b[0m\u001b[0;34m(\u001b[0m\u001b[0mself\u001b[0m\u001b[0;34m.\u001b[0m\u001b[0m_eval_self\u001b[0m\u001b[0;34m(\u001b[0m\u001b[0mfloat\u001b[0m\u001b[0;34m)\u001b[0m\u001b[0;34m)\u001b[0m\u001b[0;34m\u001b[0m\u001b[0;34m\u001b[0m\u001b[0m\n\u001b[0m\u001b[1;32m   1699\u001b[0m         \u001b[0;32mexcept\u001b[0m \u001b[0mTypeError\u001b[0m\u001b[0;34m:\u001b[0m\u001b[0;34m\u001b[0m\u001b[0;34m\u001b[0m\u001b[0m\n",
      "\u001b[0;32m/opt/sagemath-9.3/local/lib/python3.7/site-packages/sage/symbolic/expression.pyx\u001b[0m in \u001b[0;36msage.symbolic.expression.Expression._eval_self (build/cythonized/sage/symbolic/expression.cpp:9936)\u001b[0;34m()\u001b[0m\n\u001b[1;32m   1420\u001b[0m                     \u001b[0;32mraise\u001b[0m \u001b[0merr\u001b[0m\u001b[0;34m\u001b[0m\u001b[0;34m\u001b[0m\u001b[0m\n\u001b[0;32m-> 1421\u001b[0;31m             \u001b[0mres\u001b[0m \u001b[0;34m=\u001b[0m \u001b[0mself\u001b[0m\u001b[0;34m.\u001b[0m\u001b[0m_convert\u001b[0m\u001b[0;34m(\u001b[0m\u001b[0;34m{\u001b[0m\u001b[0;34m'parent'\u001b[0m\u001b[0;34m:\u001b[0m\u001b[0mR_complex\u001b[0m\u001b[0;34m}\u001b[0m\u001b[0;34m)\u001b[0m\u001b[0;34m\u001b[0m\u001b[0;34m\u001b[0m\u001b[0m\n\u001b[0m\u001b[1;32m   1422\u001b[0m \u001b[0;34m\u001b[0m\u001b[0m\n",
      "\u001b[0;32m/opt/sagemath-9.3/local/lib/python3.7/site-packages/sage/symbolic/expression.pyx\u001b[0m in \u001b[0;36msage.symbolic.expression.Expression._convert (build/cythonized/sage/symbolic/expression.cpp:10327)\u001b[0;34m()\u001b[0m\n\u001b[1;32m   1494\u001b[0m         \"\"\"\n\u001b[0;32m-> 1495\u001b[0;31m         \u001b[0mcdef\u001b[0m \u001b[0mGEx\u001b[0m \u001b[0mres\u001b[0m \u001b[0;34m=\u001b[0m \u001b[0mself\u001b[0m\u001b[0;34m.\u001b[0m\u001b[0m_gobj\u001b[0m\u001b[0;34m.\u001b[0m\u001b[0mevalf\u001b[0m\u001b[0;34m(\u001b[0m\u001b[0;36m0\u001b[0m\u001b[0;34m,\u001b[0m \u001b[0mkwds\u001b[0m\u001b[0;34m)\u001b[0m\u001b[0;34m\u001b[0m\u001b[0;34m\u001b[0m\u001b[0m\n\u001b[0m\u001b[1;32m   1496\u001b[0m         \u001b[0;32mreturn\u001b[0m \u001b[0mnew_Expression_from_GEx\u001b[0m\u001b[0;34m(\u001b[0m\u001b[0mself\u001b[0m\u001b[0;34m.\u001b[0m\u001b[0m_parent\u001b[0m\u001b[0;34m,\u001b[0m \u001b[0mres\u001b[0m\u001b[0;34m)\u001b[0m\u001b[0;34m\u001b[0m\u001b[0;34m\u001b[0m\u001b[0m\n",
      "\u001b[0;32m/opt/sagemath-9.3/local/lib/python3.7/site-packages/sage/libs/pynac/pynac.pyx\u001b[0m in \u001b[0;36msage.libs.pynac.pynac.py_float (build/cythonized/sage/libs/pynac/pynac.cpp:15669)\u001b[0;34m()\u001b[0m\n\u001b[1;32m   1349\u001b[0m         \u001b[0;32melif\u001b[0m \u001b[0mp\u001b[0m \u001b[0;32mis\u001b[0m \u001b[0mcomplex\u001b[0m\u001b[0;34m:\u001b[0m\u001b[0;34m\u001b[0m\u001b[0;34m\u001b[0m\u001b[0m\n\u001b[0;32m-> 1350\u001b[0;31m             \u001b[0;32mreturn\u001b[0m \u001b[0mp\u001b[0m\u001b[0;34m(\u001b[0m\u001b[0mn\u001b[0m\u001b[0;34m)\u001b[0m\u001b[0;34m\u001b[0m\u001b[0;34m\u001b[0m\u001b[0m\n\u001b[0m\u001b[1;32m   1351\u001b[0m         \u001b[0;32melse\u001b[0m\u001b[0;34m:\u001b[0m\u001b[0;34m\u001b[0m\u001b[0;34m\u001b[0m\u001b[0m\n",
      "\u001b[0;31mTypeError\u001b[0m: complex() first argument must be a string or a number, not 'sage.matrix.matrix_symbolic_dense.Matrix_symbolic_dense'",
      "\nDuring handling of the above exception, another exception occurred:\n",
      "\u001b[0;31mTypeError\u001b[0m                                 Traceback (most recent call last)",
      "\u001b[0;32m/opt/sagemath-9.3/local/lib/python3.7/site-packages/sage/symbolic/expression.pyx\u001b[0m in \u001b[0;36msage.symbolic.expression.Expression._eval_self (build/cythonized/sage/symbolic/expression.cpp:9732)\u001b[0;34m()\u001b[0m\n\u001b[1;32m   1409\u001b[0m         \u001b[0;32mtry\u001b[0m\u001b[0;34m:\u001b[0m\u001b[0;34m\u001b[0m\u001b[0;34m\u001b[0m\u001b[0m\n\u001b[0;32m-> 1410\u001b[0;31m             \u001b[0mres\u001b[0m \u001b[0;34m=\u001b[0m \u001b[0mself\u001b[0m\u001b[0;34m.\u001b[0m\u001b[0m_convert\u001b[0m\u001b[0;34m(\u001b[0m\u001b[0;34m{\u001b[0m\u001b[0;34m'parent'\u001b[0m\u001b[0;34m:\u001b[0m\u001b[0mR\u001b[0m\u001b[0;34m}\u001b[0m\u001b[0;34m)\u001b[0m\u001b[0;34m\u001b[0m\u001b[0;34m\u001b[0m\u001b[0m\n\u001b[0m\u001b[1;32m   1411\u001b[0m         \u001b[0;32mexcept\u001b[0m \u001b[0mTypeError\u001b[0m \u001b[0;32mas\u001b[0m \u001b[0merr\u001b[0m\u001b[0;34m:\u001b[0m\u001b[0;34m\u001b[0m\u001b[0;34m\u001b[0m\u001b[0m\n",
      "\u001b[0;32m/opt/sagemath-9.3/local/lib/python3.7/site-packages/sage/symbolic/expression.pyx\u001b[0m in \u001b[0;36msage.symbolic.expression.Expression._convert (build/cythonized/sage/symbolic/expression.cpp:10327)\u001b[0;34m()\u001b[0m\n\u001b[1;32m   1494\u001b[0m         \"\"\"\n\u001b[0;32m-> 1495\u001b[0;31m         \u001b[0mcdef\u001b[0m \u001b[0mGEx\u001b[0m \u001b[0mres\u001b[0m \u001b[0;34m=\u001b[0m \u001b[0mself\u001b[0m\u001b[0;34m.\u001b[0m\u001b[0m_gobj\u001b[0m\u001b[0;34m.\u001b[0m\u001b[0mevalf\u001b[0m\u001b[0;34m(\u001b[0m\u001b[0;36m0\u001b[0m\u001b[0;34m,\u001b[0m \u001b[0mkwds\u001b[0m\u001b[0;34m)\u001b[0m\u001b[0;34m\u001b[0m\u001b[0;34m\u001b[0m\u001b[0m\n\u001b[0m\u001b[1;32m   1496\u001b[0m         \u001b[0;32mreturn\u001b[0m \u001b[0mnew_Expression_from_GEx\u001b[0m\u001b[0;34m(\u001b[0m\u001b[0mself\u001b[0m\u001b[0;34m.\u001b[0m\u001b[0m_parent\u001b[0m\u001b[0;34m,\u001b[0m \u001b[0mres\u001b[0m\u001b[0;34m)\u001b[0m\u001b[0;34m\u001b[0m\u001b[0;34m\u001b[0m\u001b[0m\n",
      "\u001b[0;32m/opt/sagemath-9.3/local/lib/python3.7/site-packages/sage/libs/pynac/pynac.pyx\u001b[0m in \u001b[0;36msage.libs.pynac.pynac.py_float (build/cythonized/sage/libs/pynac/pynac.cpp:15669)\u001b[0;34m()\u001b[0m\n\u001b[1;32m   1349\u001b[0m         \u001b[0;32melif\u001b[0m \u001b[0mp\u001b[0m \u001b[0;32mis\u001b[0m \u001b[0mcomplex\u001b[0m\u001b[0;34m:\u001b[0m\u001b[0;34m\u001b[0m\u001b[0;34m\u001b[0m\u001b[0m\n\u001b[0;32m-> 1350\u001b[0;31m             \u001b[0;32mreturn\u001b[0m \u001b[0mp\u001b[0m\u001b[0;34m(\u001b[0m\u001b[0mn\u001b[0m\u001b[0;34m)\u001b[0m\u001b[0;34m\u001b[0m\u001b[0;34m\u001b[0m\u001b[0m\n\u001b[0m\u001b[1;32m   1351\u001b[0m         \u001b[0;32melse\u001b[0m\u001b[0;34m:\u001b[0m\u001b[0;34m\u001b[0m\u001b[0;34m\u001b[0m\u001b[0m\n",
      "\u001b[0;31mTypeError\u001b[0m: complex() first argument must be a string or a number, not 'sage.matrix.matrix_symbolic_dense.Matrix_symbolic_dense'",
      "\nDuring handling of the above exception, another exception occurred:\n",
      "\u001b[0;31mTypeError\u001b[0m                                 Traceback (most recent call last)",
      "\u001b[0;32m/opt/sagemath-9.3/local/lib/python3.7/site-packages/sage/symbolic/expression.pyx\u001b[0m in \u001b[0;36msage.symbolic.expression.Expression.__float__ (build/cythonized/sage/symbolic/expression.cpp:12024)\u001b[0;34m()\u001b[0m\n\u001b[1;32m   1700\u001b[0m             \u001b[0;32mtry\u001b[0m\u001b[0;34m:\u001b[0m\u001b[0;34m\u001b[0m\u001b[0;34m\u001b[0m\u001b[0m\n\u001b[0;32m-> 1701\u001b[0;31m                 \u001b[0mc\u001b[0m \u001b[0;34m=\u001b[0m \u001b[0;34m(\u001b[0m\u001b[0mself\u001b[0m\u001b[0;34m.\u001b[0m\u001b[0m_eval_self\u001b[0m\u001b[0;34m(\u001b[0m\u001b[0mcomplex\u001b[0m\u001b[0;34m)\u001b[0m\u001b[0;34m)\u001b[0m\u001b[0;34m\u001b[0m\u001b[0;34m\u001b[0m\u001b[0m\n\u001b[0m\u001b[1;32m   1702\u001b[0m                 \u001b[0;32mif\u001b[0m \u001b[0mimag\u001b[0m\u001b[0;34m(\u001b[0m\u001b[0mc\u001b[0m\u001b[0;34m)\u001b[0m \u001b[0;34m==\u001b[0m \u001b[0;36m0\u001b[0m\u001b[0;34m:\u001b[0m\u001b[0;34m\u001b[0m\u001b[0;34m\u001b[0m\u001b[0m\n",
      "\u001b[0;32m/opt/sagemath-9.3/local/lib/python3.7/site-packages/sage/symbolic/expression.pyx\u001b[0m in \u001b[0;36msage.symbolic.expression.Expression._eval_self (build/cythonized/sage/symbolic/expression.cpp:9936)\u001b[0;34m()\u001b[0m\n\u001b[1;32m   1420\u001b[0m                     \u001b[0;32mraise\u001b[0m \u001b[0merr\u001b[0m\u001b[0;34m\u001b[0m\u001b[0;34m\u001b[0m\u001b[0m\n\u001b[0;32m-> 1421\u001b[0;31m             \u001b[0mres\u001b[0m \u001b[0;34m=\u001b[0m \u001b[0mself\u001b[0m\u001b[0;34m.\u001b[0m\u001b[0m_convert\u001b[0m\u001b[0;34m(\u001b[0m\u001b[0;34m{\u001b[0m\u001b[0;34m'parent'\u001b[0m\u001b[0;34m:\u001b[0m\u001b[0mR_complex\u001b[0m\u001b[0;34m}\u001b[0m\u001b[0;34m)\u001b[0m\u001b[0;34m\u001b[0m\u001b[0;34m\u001b[0m\u001b[0m\n\u001b[0m\u001b[1;32m   1422\u001b[0m \u001b[0;34m\u001b[0m\u001b[0m\n",
      "\u001b[0;32m/opt/sagemath-9.3/local/lib/python3.7/site-packages/sage/symbolic/expression.pyx\u001b[0m in \u001b[0;36msage.symbolic.expression.Expression._convert (build/cythonized/sage/symbolic/expression.cpp:10327)\u001b[0;34m()\u001b[0m\n\u001b[1;32m   1494\u001b[0m         \"\"\"\n\u001b[0;32m-> 1495\u001b[0;31m         \u001b[0mcdef\u001b[0m \u001b[0mGEx\u001b[0m \u001b[0mres\u001b[0m \u001b[0;34m=\u001b[0m \u001b[0mself\u001b[0m\u001b[0;34m.\u001b[0m\u001b[0m_gobj\u001b[0m\u001b[0;34m.\u001b[0m\u001b[0mevalf\u001b[0m\u001b[0;34m(\u001b[0m\u001b[0;36m0\u001b[0m\u001b[0;34m,\u001b[0m \u001b[0mkwds\u001b[0m\u001b[0;34m)\u001b[0m\u001b[0;34m\u001b[0m\u001b[0;34m\u001b[0m\u001b[0m\n\u001b[0m\u001b[1;32m   1496\u001b[0m         \u001b[0;32mreturn\u001b[0m \u001b[0mnew_Expression_from_GEx\u001b[0m\u001b[0;34m(\u001b[0m\u001b[0mself\u001b[0m\u001b[0;34m.\u001b[0m\u001b[0m_parent\u001b[0m\u001b[0;34m,\u001b[0m \u001b[0mres\u001b[0m\u001b[0;34m)\u001b[0m\u001b[0;34m\u001b[0m\u001b[0;34m\u001b[0m\u001b[0m\n",
      "\u001b[0;32m/opt/sagemath-9.3/local/lib/python3.7/site-packages/sage/libs/pynac/pynac.pyx\u001b[0m in \u001b[0;36msage.libs.pynac.pynac.py_float (build/cythonized/sage/libs/pynac/pynac.cpp:15669)\u001b[0;34m()\u001b[0m\n\u001b[1;32m   1349\u001b[0m         \u001b[0;32melif\u001b[0m \u001b[0mp\u001b[0m \u001b[0;32mis\u001b[0m \u001b[0mcomplex\u001b[0m\u001b[0;34m:\u001b[0m\u001b[0;34m\u001b[0m\u001b[0;34m\u001b[0m\u001b[0m\n\u001b[0;32m-> 1350\u001b[0;31m             \u001b[0;32mreturn\u001b[0m \u001b[0mp\u001b[0m\u001b[0;34m(\u001b[0m\u001b[0mn\u001b[0m\u001b[0;34m)\u001b[0m\u001b[0;34m\u001b[0m\u001b[0;34m\u001b[0m\u001b[0m\n\u001b[0m\u001b[1;32m   1351\u001b[0m         \u001b[0;32melse\u001b[0m\u001b[0;34m:\u001b[0m\u001b[0;34m\u001b[0m\u001b[0;34m\u001b[0m\u001b[0m\n",
      "\u001b[0;31mTypeError\u001b[0m: complex() first argument must be a string or a number, not 'sage.matrix.matrix_symbolic_dense.Matrix_symbolic_dense'",
      "\nDuring handling of the above exception, another exception occurred:\n",
      "\u001b[0;31mTypeError\u001b[0m                                 Traceback (most recent call last)",
      "\u001b[0;32m<ipython-input-36-114c2c6ba043>\u001b[0m in \u001b[0;36m<module>\u001b[0;34m\u001b[0m\n\u001b[0;32m----> 1\u001b[0;31m \u001b[0marrow2d\u001b[0m\u001b[0;34m(\u001b[0m\u001b[0;34m(\u001b[0m\u001b[0mInteger\u001b[0m\u001b[0;34m(\u001b[0m\u001b[0;36m0\u001b[0m\u001b[0;34m)\u001b[0m\u001b[0;34m,\u001b[0m \u001b[0mInteger\u001b[0m\u001b[0;34m(\u001b[0m\u001b[0;36m0\u001b[0m\u001b[0;34m)\u001b[0m\u001b[0;34m)\u001b[0m\u001b[0;34m,\u001b[0m \u001b[0ma\u001b[0m\u001b[0;34m,\u001b[0m \u001b[0mlegend_label\u001b[0m \u001b[0;34m=\u001b[0m \u001b[0;34m'$\\\\vec{a}$'\u001b[0m\u001b[0;34m,\u001b[0m \u001b[0mlegend_color\u001b[0m \u001b[0;34m=\u001b[0m \u001b[0;34m'black'\u001b[0m\u001b[0;34m)\u001b[0m \u001b[0;34m+\u001b[0m     \u001b[0marrow2d\u001b[0m\u001b[0;34m(\u001b[0m\u001b[0;34m(\u001b[0m\u001b[0mInteger\u001b[0m\u001b[0;34m(\u001b[0m\u001b[0;36m0\u001b[0m\u001b[0;34m)\u001b[0m\u001b[0;34m,\u001b[0m \u001b[0mInteger\u001b[0m\u001b[0;34m(\u001b[0m\u001b[0;36m0\u001b[0m\u001b[0;34m)\u001b[0m\u001b[0;34m)\u001b[0m\u001b[0;34m,\u001b[0m \u001b[0ma1\u001b[0m\u001b[0;34m,\u001b[0m \u001b[0mlegend_label\u001b[0m \u001b[0;34m=\u001b[0m \u001b[0;34m'$\\\\vec{a}_1$'\u001b[0m\u001b[0;34m,\u001b[0m \u001b[0mlegend_color\u001b[0m \u001b[0;34m=\u001b[0m \u001b[0;34m'black'\u001b[0m\u001b[0;34m,\u001b[0m \u001b[0mcolor\u001b[0m \u001b[0;34m=\u001b[0m \u001b[0;34m'red'\u001b[0m\u001b[0;34m)\u001b[0m \u001b[0;34m+\u001b[0m         \u001b[0marrow2d\u001b[0m\u001b[0;34m(\u001b[0m\u001b[0;34m(\u001b[0m\u001b[0mInteger\u001b[0m\u001b[0;34m(\u001b[0m\u001b[0;36m0\u001b[0m\u001b[0;34m)\u001b[0m\u001b[0;34m,\u001b[0m \u001b[0mInteger\u001b[0m\u001b[0;34m(\u001b[0m\u001b[0;36m0\u001b[0m\u001b[0;34m)\u001b[0m\u001b[0;34m)\u001b[0m\u001b[0;34m,\u001b[0m \u001b[0ma2\u001b[0m\u001b[0;34m,\u001b[0m \u001b[0mlegend_label\u001b[0m \u001b[0;34m=\u001b[0m \u001b[0;34m'$\\\\vec{a}_2$'\u001b[0m\u001b[0;34m,\u001b[0m \u001b[0mlegend_color\u001b[0m \u001b[0;34m=\u001b[0m \u001b[0;34m'black'\u001b[0m\u001b[0;34m,\u001b[0m \u001b[0mcolor\u001b[0m \u001b[0;34m=\u001b[0m \u001b[0;34m'black'\u001b[0m\u001b[0;34m)\u001b[0m\u001b[0;34m\u001b[0m\u001b[0;34m\u001b[0m\u001b[0m\n\u001b[0m",
      "\u001b[0;32m/opt/sagemath-9.3/local/lib/python3.7/site-packages/sage/misc/decorators.py\u001b[0m in \u001b[0;36mwrapper\u001b[0;34m(*args, **kwds)\u001b[0m\n\u001b[1;32m    649\u001b[0m                     \u001b[0mkwds\u001b[0m\u001b[0;34m[\u001b[0m\u001b[0mnew_name\u001b[0m\u001b[0;34m]\u001b[0m \u001b[0;34m=\u001b[0m \u001b[0mkwds\u001b[0m\u001b[0;34m[\u001b[0m\u001b[0mold_name\u001b[0m\u001b[0;34m]\u001b[0m\u001b[0;34m\u001b[0m\u001b[0;34m\u001b[0m\u001b[0m\n\u001b[1;32m    650\u001b[0m                     \u001b[0;32mdel\u001b[0m \u001b[0mkwds\u001b[0m\u001b[0;34m[\u001b[0m\u001b[0mold_name\u001b[0m\u001b[0;34m]\u001b[0m\u001b[0;34m\u001b[0m\u001b[0;34m\u001b[0m\u001b[0m\n\u001b[0;32m--> 651\u001b[0;31m             \u001b[0;32mreturn\u001b[0m \u001b[0mfunc\u001b[0m\u001b[0;34m(\u001b[0m\u001b[0;34m*\u001b[0m\u001b[0margs\u001b[0m\u001b[0;34m,\u001b[0m \u001b[0;34m**\u001b[0m\u001b[0mkwds\u001b[0m\u001b[0;34m)\u001b[0m\u001b[0;34m\u001b[0m\u001b[0;34m\u001b[0m\u001b[0m\n\u001b[0m\u001b[1;32m    652\u001b[0m \u001b[0;34m\u001b[0m\u001b[0m\n\u001b[1;32m    653\u001b[0m         \u001b[0;32mreturn\u001b[0m \u001b[0mwrapper\u001b[0m\u001b[0;34m\u001b[0m\u001b[0;34m\u001b[0m\u001b[0m\n",
      "\u001b[0;32m/opt/sagemath-9.3/local/lib/python3.7/site-packages/sage/misc/decorators.py\u001b[0m in \u001b[0;36mwrapper\u001b[0;34m(*args, **kwds)\u001b[0m\n\u001b[1;32m    489\u001b[0m                 \u001b[0moptions\u001b[0m\u001b[0;34m[\u001b[0m\u001b[0;34m'__original_opts'\u001b[0m\u001b[0;34m]\u001b[0m \u001b[0;34m=\u001b[0m \u001b[0mkwds\u001b[0m\u001b[0;34m\u001b[0m\u001b[0;34m\u001b[0m\u001b[0m\n\u001b[1;32m    490\u001b[0m             \u001b[0moptions\u001b[0m\u001b[0;34m.\u001b[0m\u001b[0mupdate\u001b[0m\u001b[0;34m(\u001b[0m\u001b[0mkwds\u001b[0m\u001b[0;34m)\u001b[0m\u001b[0;34m\u001b[0m\u001b[0;34m\u001b[0m\u001b[0m\n\u001b[0;32m--> 491\u001b[0;31m             \u001b[0;32mreturn\u001b[0m \u001b[0mfunc\u001b[0m\u001b[0;34m(\u001b[0m\u001b[0;34m*\u001b[0m\u001b[0margs\u001b[0m\u001b[0;34m,\u001b[0m \u001b[0;34m**\u001b[0m\u001b[0moptions\u001b[0m\u001b[0;34m)\u001b[0m\u001b[0;34m\u001b[0m\u001b[0;34m\u001b[0m\u001b[0m\n\u001b[0m\u001b[1;32m    492\u001b[0m \u001b[0;34m\u001b[0m\u001b[0m\n\u001b[1;32m    493\u001b[0m         \u001b[0;31m#Add the options specified by @options to the signature of the wrapped\u001b[0m\u001b[0;34m\u001b[0m\u001b[0;34m\u001b[0m\u001b[0;34m\u001b[0m\u001b[0m\n",
      "\u001b[0;32m/opt/sagemath-9.3/local/lib/python3.7/site-packages/sage/plot/arrow.py\u001b[0m in \u001b[0;36marrow2d\u001b[0;34m(tailpoint, headpoint, path, **options)\u001b[0m\n\u001b[1;32m    627\u001b[0m         \u001b[0mxtail\u001b[0m\u001b[0;34m,\u001b[0m \u001b[0mytail\u001b[0m \u001b[0;34m=\u001b[0m \u001b[0mtailpoint\u001b[0m\u001b[0;34m\u001b[0m\u001b[0;34m\u001b[0m\u001b[0m\n\u001b[1;32m    628\u001b[0m         \u001b[0mxhead\u001b[0m\u001b[0;34m,\u001b[0m \u001b[0myhead\u001b[0m \u001b[0;34m=\u001b[0m \u001b[0mheadpoint\u001b[0m\u001b[0;34m\u001b[0m\u001b[0;34m\u001b[0m\u001b[0m\n\u001b[0;32m--> 629\u001b[0;31m         \u001b[0mg\u001b[0m\u001b[0;34m.\u001b[0m\u001b[0madd_primitive\u001b[0m\u001b[0;34m(\u001b[0m\u001b[0mArrow\u001b[0m\u001b[0;34m(\u001b[0m\u001b[0mxtail\u001b[0m\u001b[0;34m,\u001b[0m \u001b[0mytail\u001b[0m\u001b[0;34m,\u001b[0m \u001b[0mxhead\u001b[0m\u001b[0;34m,\u001b[0m \u001b[0myhead\u001b[0m\u001b[0;34m,\u001b[0m \u001b[0moptions\u001b[0m\u001b[0;34m=\u001b[0m\u001b[0moptions\u001b[0m\u001b[0;34m)\u001b[0m\u001b[0;34m)\u001b[0m\u001b[0;34m\u001b[0m\u001b[0;34m\u001b[0m\u001b[0m\n\u001b[0m\u001b[1;32m    630\u001b[0m     \u001b[0;32melif\u001b[0m \u001b[0mpath\u001b[0m \u001b[0;32mis\u001b[0m \u001b[0;32mnot\u001b[0m \u001b[0;32mNone\u001b[0m\u001b[0;34m:\u001b[0m\u001b[0;34m\u001b[0m\u001b[0;34m\u001b[0m\u001b[0m\n\u001b[1;32m    631\u001b[0m         \u001b[0mg\u001b[0m\u001b[0;34m.\u001b[0m\u001b[0madd_primitive\u001b[0m\u001b[0;34m(\u001b[0m\u001b[0mCurveArrow\u001b[0m\u001b[0;34m(\u001b[0m\u001b[0mpath\u001b[0m\u001b[0;34m,\u001b[0m \u001b[0moptions\u001b[0m\u001b[0;34m=\u001b[0m\u001b[0moptions\u001b[0m\u001b[0;34m)\u001b[0m\u001b[0;34m)\u001b[0m\u001b[0;34m\u001b[0m\u001b[0;34m\u001b[0m\u001b[0m\n",
      "\u001b[0;32m/opt/sagemath-9.3/local/lib/python3.7/site-packages/sage/plot/arrow.py\u001b[0m in \u001b[0;36m__init__\u001b[0;34m(self, xtail, ytail, xhead, yhead, options)\u001b[0m\n\u001b[1;32m    184\u001b[0m         \"\"\"\n\u001b[1;32m    185\u001b[0m         \u001b[0mself\u001b[0m\u001b[0;34m.\u001b[0m\u001b[0mxtail\u001b[0m \u001b[0;34m=\u001b[0m \u001b[0mfloat\u001b[0m\u001b[0;34m(\u001b[0m\u001b[0mxtail\u001b[0m\u001b[0;34m)\u001b[0m\u001b[0;34m\u001b[0m\u001b[0;34m\u001b[0m\u001b[0m\n\u001b[0;32m--> 186\u001b[0;31m         \u001b[0mself\u001b[0m\u001b[0;34m.\u001b[0m\u001b[0mxhead\u001b[0m \u001b[0;34m=\u001b[0m \u001b[0mfloat\u001b[0m\u001b[0;34m(\u001b[0m\u001b[0mxhead\u001b[0m\u001b[0;34m)\u001b[0m\u001b[0;34m\u001b[0m\u001b[0;34m\u001b[0m\u001b[0m\n\u001b[0m\u001b[1;32m    187\u001b[0m         \u001b[0mself\u001b[0m\u001b[0;34m.\u001b[0m\u001b[0mytail\u001b[0m \u001b[0;34m=\u001b[0m \u001b[0mfloat\u001b[0m\u001b[0;34m(\u001b[0m\u001b[0mytail\u001b[0m\u001b[0;34m)\u001b[0m\u001b[0;34m\u001b[0m\u001b[0;34m\u001b[0m\u001b[0m\n\u001b[1;32m    188\u001b[0m         \u001b[0mself\u001b[0m\u001b[0;34m.\u001b[0m\u001b[0myhead\u001b[0m \u001b[0;34m=\u001b[0m \u001b[0mfloat\u001b[0m\u001b[0;34m(\u001b[0m\u001b[0myhead\u001b[0m\u001b[0;34m)\u001b[0m\u001b[0;34m\u001b[0m\u001b[0;34m\u001b[0m\u001b[0m\n",
      "\u001b[0;32m/opt/sagemath-9.3/local/lib/python3.7/site-packages/sage/symbolic/expression.pyx\u001b[0m in \u001b[0;36msage.symbolic.expression.Expression.__float__ (build/cythonized/sage/symbolic/expression.cpp:12155)\u001b[0;34m()\u001b[0m\n\u001b[1;32m   1705\u001b[0m                     \u001b[0;32mraise\u001b[0m\u001b[0;34m\u001b[0m\u001b[0;34m\u001b[0m\u001b[0m\n\u001b[1;32m   1706\u001b[0m             \u001b[0;32mexcept\u001b[0m \u001b[0mTypeError\u001b[0m\u001b[0;34m:\u001b[0m\u001b[0;34m\u001b[0m\u001b[0;34m\u001b[0m\u001b[0m\n\u001b[0;32m-> 1707\u001b[0;31m                 \u001b[0;32mraise\u001b[0m \u001b[0mTypeError\u001b[0m\u001b[0;34m(\u001b[0m\u001b[0;34m\"unable to simplify to float approximation\"\u001b[0m\u001b[0;34m)\u001b[0m\u001b[0;34m\u001b[0m\u001b[0;34m\u001b[0m\u001b[0m\n\u001b[0m\u001b[1;32m   1708\u001b[0m         \u001b[0;32mreturn\u001b[0m \u001b[0mret\u001b[0m\u001b[0;34m\u001b[0m\u001b[0;34m\u001b[0m\u001b[0m\n\u001b[1;32m   1709\u001b[0m \u001b[0;34m\u001b[0m\u001b[0m\n",
      "\u001b[0;31mTypeError\u001b[0m: unable to simplify to float approximation"
     ]
    }
   ],
   "source": [
    "arrow2d((0, 0), a, legend_label = '$\\\\vec{a}$', legend_color = 'black') + \\\n",
    "    arrow2d((0, 0), a1, legend_label = '$\\\\vec{a}_1$', legend_color = 'black', color = 'red') + \\\n",
    "        arrow2d((0, 0), a2, legend_label = '$\\\\vec{a}_2$', legend_color = 'black', color = 'black')"
   ]
  },
  {
   "cell_type": "code",
   "execution_count": 37,
   "metadata": {},
   "outputs": [
    {
     "name": "stderr",
     "output_type": "stream",
     "text": [
      "/opt/sagemath-9.3/local/lib/python3.7/site-packages/sage/repl/ipython_kernel/__main__.py:1: DeprecationWarning: automatic conversions from floating-point numbers to intervals are deprecated\n",
      "See http://trac.sagemath.org/15114 for details.\n",
      "  from ipykernel.kernelapp import IPKernelApp\n",
      "/opt/sagemath-9.3/local/lib/python3.7/site-packages/sage/repl/display/pretty_print.py:144: DeprecationWarning: automatic conversions from floating-point numbers to intervals are deprecated\n",
      "See http://trac.sagemath.org/15114 for details.\n",
      "  ok = representation(obj, self, cycle)\n",
      "/opt/sagemath-9.3/local/lib/python3.7/site-packages/sage/misc/html.py:324: DeprecationWarning: automatic conversions from floating-point numbers to intervals are deprecated\n",
      "See http://trac.sagemath.org/15114 for details.\n",
      "  x = latex(x, combine_all=combine_all)\n"
     ]
    },
    {
     "data": {
      "text/html": [
       "<html><script type=\"math/tex; mode=display\">\\newcommand{\\Bold}[1]{\\mathbf{#1}}57.2957795130823 \\, \\arccos\\left(\\frac{\\left(\\begin{array}{rr}\n",
       "1.41421356237309 \\, \\cos\\left(0.0174532925199433 \\, \\mathit{th}\\right)^{2} - 1.41421356237309 \\, \\sin\\left(0.0174532925199433 \\, \\mathit{th}\\right)^{2} & -2.82842712474619 \\, \\cos\\left(0.0174532925199433 \\, \\mathit{th}\\right) \\sin\\left(0.0174532925199433 \\, \\mathit{th}\\right) \\\\\n",
       "2.82842712474619 \\, \\cos\\left(0.0174532925199433 \\, \\mathit{th}\\right) \\sin\\left(0.0174532925199433 \\, \\mathit{th}\\right) & 1.41421356237309 \\, \\cos\\left(0.0174532925199433 \\, \\mathit{th}\\right)^{2} - 1.41421356237309 \\, \\sin\\left(0.0174532925199433 \\, \\mathit{th}\\right)^{2}\n",
       "\\end{array}\\right)}{\\sqrt{\\left(\\begin{array}{rr}\n",
       "-8.00000000000000 \\, \\cos\\left(0.0174532925199433 \\, \\mathit{th}\\right)^{2} \\sin\\left(0.0174532925199433 \\, \\mathit{th}\\right)^{2} + 2 \\, {\\left(1.00000000000000 \\, \\cos\\left(0.0174532925199433 \\, \\mathit{th}\\right)^{2} - 1.00000000000000 \\, \\sin\\left(0.0174532925199433 \\, \\mathit{th}\\right)^{2}\\right)}^{2} & -8.00000000000000 \\, {\\left(1.00000000000000 \\, \\cos\\left(0.0174532925199433 \\, \\mathit{th}\\right)^{2} - 1.00000000000000 \\, \\sin\\left(0.0174532925199433 \\, \\mathit{th}\\right)^{2}\\right)} \\cos\\left(0.0174532925199433 \\, \\mathit{th}\\right) \\sin\\left(0.0174532925199433 \\, \\mathit{th}\\right) \\\\\n",
       "8.00000000000000 \\, {\\left(1.00000000000000 \\, \\cos\\left(0.0174532925199433 \\, \\mathit{th}\\right)^{2} - 1.00000000000000 \\, \\sin\\left(0.0174532925199433 \\, \\mathit{th}\\right)^{2}\\right)} \\cos\\left(0.0174532925199433 \\, \\mathit{th}\\right) \\sin\\left(0.0174532925199433 \\, \\mathit{th}\\right) & -8.00000000000000 \\, \\cos\\left(0.0174532925199433 \\, \\mathit{th}\\right)^{2} \\sin\\left(0.0174532925199433 \\, \\mathit{th}\\right)^{2} + 2 \\, {\\left(1.00000000000000 \\, \\cos\\left(0.0174532925199433 \\, \\mathit{th}\\right)^{2} - 1.00000000000000 \\, \\sin\\left(0.0174532925199433 \\, \\mathit{th}\\right)^{2}\\right)}^{2}\n",
       "\\end{array}\\right)}}\\right)</script></html>"
      ],
      "text/latex": [
       "$$\\newcommand{\\Bold}[1]{\\mathbf{#1}}57.2957795130823 \\, \\arccos\\left(\\frac{\\left(\\begin{array}{rr}\n",
       "1.41421356237309 \\, \\cos\\left(0.0174532925199433 \\, \\mathit{th}\\right)^{2} - 1.41421356237309 \\, \\sin\\left(0.0174532925199433 \\, \\mathit{th}\\right)^{2} & -2.82842712474619 \\, \\cos\\left(0.0174532925199433 \\, \\mathit{th}\\right) \\sin\\left(0.0174532925199433 \\, \\mathit{th}\\right) \\\\\n",
       "2.82842712474619 \\, \\cos\\left(0.0174532925199433 \\, \\mathit{th}\\right) \\sin\\left(0.0174532925199433 \\, \\mathit{th}\\right) & 1.41421356237309 \\, \\cos\\left(0.0174532925199433 \\, \\mathit{th}\\right)^{2} - 1.41421356237309 \\, \\sin\\left(0.0174532925199433 \\, \\mathit{th}\\right)^{2}\n",
       "\\end{array}\\right)}{\\sqrt{\\left(\\begin{array}{rr}\n",
       "-8.00000000000000 \\, \\cos\\left(0.0174532925199433 \\, \\mathit{th}\\right)^{2} \\sin\\left(0.0174532925199433 \\, \\mathit{th}\\right)^{2} + 2 \\, {\\left(1.00000000000000 \\, \\cos\\left(0.0174532925199433 \\, \\mathit{th}\\right)^{2} - 1.00000000000000 \\, \\sin\\left(0.0174532925199433 \\, \\mathit{th}\\right)^{2}\\right)}^{2} & -8.00000000000000 \\, {\\left(1.00000000000000 \\, \\cos\\left(0.0174532925199433 \\, \\mathit{th}\\right)^{2} - 1.00000000000000 \\, \\sin\\left(0.0174532925199433 \\, \\mathit{th}\\right)^{2}\\right)} \\cos\\left(0.0174532925199433 \\, \\mathit{th}\\right) \\sin\\left(0.0174532925199433 \\, \\mathit{th}\\right) \\\\\n",
       "8.00000000000000 \\, {\\left(1.00000000000000 \\, \\cos\\left(0.0174532925199433 \\, \\mathit{th}\\right)^{2} - 1.00000000000000 \\, \\sin\\left(0.0174532925199433 \\, \\mathit{th}\\right)^{2}\\right)} \\cos\\left(0.0174532925199433 \\, \\mathit{th}\\right) \\sin\\left(0.0174532925199433 \\, \\mathit{th}\\right) & -8.00000000000000 \\, \\cos\\left(0.0174532925199433 \\, \\mathit{th}\\right)^{2} \\sin\\left(0.0174532925199433 \\, \\mathit{th}\\right)^{2} + 2 \\, {\\left(1.00000000000000 \\, \\cos\\left(0.0174532925199433 \\, \\mathit{th}\\right)^{2} - 1.00000000000000 \\, \\sin\\left(0.0174532925199433 \\, \\mathit{th}\\right)^{2}\\right)}^{2}\n",
       "\\end{array}\\right)}}\\right)$$"
      ],
      "text/plain": [
       "57.2957795130823*arccos(([1.41421356237309*cos(0.0174532925199433*th)^2 - 1.41421356237309*sin(0.0174532925199433*th)^2                       -2.82842712474619*cos(0.0174532925199433*th)*sin(0.0174532925199433*th)]\n",
       "[                       2.82842712474619*cos(0.0174532925199433*th)*sin(0.0174532925199433*th) 1.41421356237309*cos(0.0174532925199433*th)^2 - 1.41421356237309*sin(0.0174532925199433*th)^2])/sqrt([-8.00000000000000*cos(0.0174532925199433*th)^2*sin(0.0174532925199433*th)^2 + 2*(1.00000000000000*cos(0.0174532925199433*th)^2 - 1.00000000000000*sin(0.0174532925199433*th)^2)^2           -8.00000000000000*(1.00000000000000*cos(0.0174532925199433*th)^2 - 1.00000000000000*sin(0.0174532925199433*th)^2)*cos(0.0174532925199433*th)*sin(0.0174532925199433*th)]\n",
       "[           8.00000000000000*(1.00000000000000*cos(0.0174532925199433*th)^2 - 1.00000000000000*sin(0.0174532925199433*th)^2)*cos(0.0174532925199433*th)*sin(0.0174532925199433*th) -8.00000000000000*cos(0.0174532925199433*th)^2*sin(0.0174532925199433*th)^2 + 2*(1.00000000000000*cos(0.0174532925199433*th)^2 - 1.00000000000000*sin(0.0174532925199433*th)^2)^2]))"
      ]
     },
     "execution_count": 37,
     "metadata": {},
     "output_type": "execute_result"
    }
   ],
   "source": [
    "arccos(a.dot_product(a2)/norm(a)/norm(a2))/ppi"
   ]
  }
 ],
 "metadata": {
  "kernelspec": {
   "display_name": "SageMath 9.3",
   "language": "sage",
   "name": "sagemath"
  },
  "language_info": {
   "codemirror_mode": {
    "name": "ipython",
    "version": 3
   },
   "file_extension": ".py",
   "mimetype": "text/x-python",
   "name": "python",
   "nbconvert_exporter": "python",
   "pygments_lexer": "ipython3",
   "version": "3.7.10"
  }
 },
 "nbformat": 4,
 "nbformat_minor": 2
}
