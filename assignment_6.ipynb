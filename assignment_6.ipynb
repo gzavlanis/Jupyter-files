{
 "cells": [
  {
   "cell_type": "markdown",
   "metadata": {},
   "source": [
    "# DAMA50: Mathematics for machine learning\n",
    "\n",
    "## Written assignment 5\n",
    "\n",
    "### Georgios Zavlanis\n",
    "\n",
    "\n",
    "### Problem 7\n",
    "\n",
    "a. First, we have to \"translate\" the problem into a linear programming problem. The process can be seen below:"
   ]
  },
  {
   "cell_type": "markdown",
   "metadata": {},
   "source": [
    "We have 42 million dollars in total, for three types of investments.\n",
    "- Let be $x_1$ for treasury notes, $x_2$ for bonds and $x_3$ for stocks.\n",
    "- We have a minimum investment of 3 million dollars in each category, which means that $ x_1, x_2, x_3 \\ge 3000000 $.\n",
    "- Also, at least half of the total funds allocated to treasury notes and bonds, which means that $ x_1+x_2 \\ge 21000000 $.\n",
    "- Finally, the investment in bonds must not exceed twice the investment in treasury notes, which means that $ x_2 \\le 2x_1 $ or $ x_2 - 2x_1 \\le 0 $.\n",
    "\n",
    "We need to maximize the returns, so we need max $ 0.07x_1 + 0.09x_2 + 0.1x_3 $."
   ]
  },
  {
   "cell_type": "markdown",
   "metadata": {},
   "source": [
    "b. So now, we are ready to solve the linear problem:"
   ]
  },
  {
   "cell_type": "code",
   "execution_count": 52,
   "metadata": {},
   "outputs": [
    {
     "data": {
      "text/html": [
       "<html><script type=\"math/tex; mode=display\">\\newcommand{\\Bold}[1]{\\mathbf{#1}}3850000.0</script></html>"
      ],
      "text/latex": [
       "$$\\newcommand{\\Bold}[1]{\\mathbf{#1}}3850000.0$$"
      ],
      "text/plain": [
       "3850000.0"
      ]
     },
     "execution_count": 52,
     "metadata": {},
     "output_type": "execute_result"
    }
   ],
   "source": [
    "# Define the Linear Programming Problem (LP)\n",
    "p=MixedIntegerLinearProgram(maximization = True)\n",
    "v = p.new_variable(real=True, nonnegative = True)\n",
    "x, y, z = v['x'], v['y'], v['z']\n",
    "\n",
    "# Set the cost function\n",
    "p.set_objective(0.07*x + 0.09*y + 0.1*z)\n",
    "\n",
    "# and the constraints\n",
    "p.add_constraint(x + y + z == 42000000)\n",
    "p.add_constraint(x + y >= 21000000)\n",
    "p.add_constraint(2*x >= y)\n",
    "p.add_constraint(x >= 3000000)\n",
    "p.add_constraint(y >= 3000000)\n",
    "p.add_constraint(z >= 3000000)\n",
    "\n",
    "# Solve the LP problem\n",
    "p.solve()"
   ]
  },
  {
   "cell_type": "code",
   "execution_count": 57,
   "metadata": {},
   "outputs": [
    {
     "data": {
      "text/html": [
       "<html><script type=\"math/tex; mode=display\">\\newcommand{\\Bold}[1]{\\mathbf{#1}}\\left(7000000.0, 14000000.0, 21000000.0\\right)</script></html>"
      ],
      "text/latex": [
       "$$\\newcommand{\\Bold}[1]{\\mathbf{#1}}\\left(7000000.0, 14000000.0, 21000000.0\\right)$$"
      ],
      "text/plain": [
       "(7000000.0, 14000000.0, 21000000.0)"
      ]
     },
     "execution_count": 57,
     "metadata": {},
     "output_type": "execute_result"
    }
   ],
   "source": [
    "p.get_values(x),p.get_values(y),p.get_values(z)"
   ]
  },
  {
   "cell_type": "markdown",
   "metadata": {},
   "source": [
    "### Problem 8\n",
    "\n",
    "First, let's create our function:"
   ]
  },
  {
   "cell_type": "code",
   "execution_count": 75,
   "metadata": {},
   "outputs": [
    {
     "data": {
      "text/html": [
       "<html><script type=\"math/tex; mode=display\">\\newcommand{\\Bold}[1]{\\mathbf{#1}}{\\left(4 \\, x_{1}^{2} + 4 \\, x_{1} x_{2} + 2 \\, x_{2}^{2} + 2 \\, x_{2} + 1\\right)} e^{x_{1}}</script></html>"
      ],
      "text/latex": [
       "$$\\newcommand{\\Bold}[1]{\\mathbf{#1}}{\\left(4 \\, x_{1}^{2} + 4 \\, x_{1} x_{2} + 2 \\, x_{2}^{2} + 2 \\, x_{2} + 1\\right)} e^{x_{1}}$$"
      ],
      "text/plain": [
       "(4*x1^2 + 4*x1*x2 + 2*x2^2 + 2*x2 + 1)*e^x1"
      ]
     },
     "execution_count": 75,
     "metadata": {},
     "output_type": "execute_result"
    }
   ],
   "source": [
    "%display latex\n",
    "x1, x2 = var('x1, x2')\n",
    "f(x1, x1) = exp(x1)*(4*x1^2 + 2*x2^2 + 4*x1*x2 + 2*x2 + 1); f(x1, x1)"
   ]
  },
  {
   "cell_type": "markdown",
   "metadata": {},
   "source": [
    "a. To find the stationary points using the analytically method, we follow the process below:"
   ]
  },
  {
   "cell_type": "code",
   "execution_count": 76,
   "metadata": {},
   "outputs": [
    {
     "data": {
      "text/html": [
       "<html><script type=\"math/tex; mode=display\">\\newcommand{\\Bold}[1]{\\mathbf{#1}}\\left({\\left(10 \\, x_{2}^{2} + 2 \\, x_{2} + 1\\right)} e^{x_{2}} + 2 \\, {\\left(10 \\, x_{2} + 1\\right)} e^{x_{2}}\\right)</script></html>"
      ],
      "text/latex": [
       "$$\\newcommand{\\Bold}[1]{\\mathbf{#1}}\\left({\\left(10 \\, x_{2}^{2} + 2 \\, x_{2} + 1\\right)} e^{x_{2}} + 2 \\, {\\left(10 \\, x_{2} + 1\\right)} e^{x_{2}}\\right)$$"
      ],
      "text/plain": [
       "((10*x2^2 + 2*x2 + 1)*e^x2 + 2*(10*x2 + 1)*e^x2)"
      ]
     },
     "execution_count": 76,
     "metadata": {},
     "output_type": "execute_result"
    }
   ],
   "source": [
    "# Find the gradient\n",
    "gradient = f(x1, x2).gradient();gradient"
   ]
  },
  {
   "cell_type": "code",
   "execution_count": 77,
   "metadata": {},
   "outputs": [
    {
     "data": {
      "text/html": [
       "<html><script type=\"math/tex; mode=display\">\\newcommand{\\Bold}[1]{\\mathbf{#1}}\\left[\\right]</script></html>"
      ],
      "text/latex": [
       "$$\\newcommand{\\Bold}[1]{\\mathbf{#1}}\\left[\\right]$$"
      ],
      "text/plain": [
       "[]"
      ]
     },
     "execution_count": 77,
     "metadata": {},
     "output_type": "execute_result"
    }
   ],
   "source": [
    "# Set gradient equals with zero\n",
    "s = solve([gradient[0] == 0], [x1, x1]);s"
   ]
  },
  {
   "cell_type": "code",
   "execution_count": 78,
   "metadata": {},
   "outputs": [
    {
     "data": {
      "text/html": [
       "<html><script type=\"math/tex; mode=display\">\\newcommand{\\Bold}[1]{\\mathbf{#1}}\\left(\\begin{array}{r}\n",
       "{\\left(10 \\, x_{2}^{2} + 2 \\, x_{2} + 1\\right)} e^{x_{2}} + 4 \\, {\\left(10 \\, x_{2} + 1\\right)} e^{x_{2}} + 20 \\, e^{x_{2}}\n",
       "\\end{array}\\right)</script></html>"
      ],
      "text/latex": [
       "$$\\newcommand{\\Bold}[1]{\\mathbf{#1}}\\left(\\begin{array}{r}\n",
       "{\\left(10 \\, x_{2}^{2} + 2 \\, x_{2} + 1\\right)} e^{x_{2}} + 4 \\, {\\left(10 \\, x_{2} + 1\\right)} e^{x_{2}} + 20 \\, e^{x_{2}}\n",
       "\\end{array}\\right)$$"
      ],
      "text/plain": [
       "[(10*x2^2 + 2*x2 + 1)*e^x2 + 4*(10*x2 + 1)*e^x2 + 20*e^x2]"
      ]
     },
     "execution_count": 78,
     "metadata": {},
     "output_type": "execute_result"
    }
   ],
   "source": [
    "# Fid the Hessian matrix:\n",
    "hessian = f(x1, x2).hessian();hessian"
   ]
  },
  {
   "cell_type": "code",
   "execution_count": 83,
   "metadata": {},
   "outputs": [
    {
     "ename": "TypeError",
     "evalue": "cannot evaluate symbolic expression numerically",
     "output_type": "error",
     "traceback": [
      "\u001b[0;31m---------------------------------------------------------------------------\u001b[0m",
      "\u001b[0;31mTypeError\u001b[0m                                 Traceback (most recent call last)",
      "\u001b[0;32m<ipython-input-83-6dc765ea0bbb>\u001b[0m in \u001b[0;36m<module>\u001b[0;34m\u001b[0m\n\u001b[1;32m      1\u001b[0m \u001b[0mee\u001b[0m\u001b[0;34m=\u001b[0m\u001b[0mhessian\u001b[0m\u001b[0;34m.\u001b[0m\u001b[0meigenvalues\u001b[0m\u001b[0;34m(\u001b[0m\u001b[0;34m)\u001b[0m\u001b[0;34m\u001b[0m\u001b[0;34m\u001b[0m\u001b[0m\n\u001b[0;32m----> 2\u001b[0;31m \u001b[0mn\u001b[0m\u001b[0;34m(\u001b[0m\u001b[0mee\u001b[0m\u001b[0;34m[\u001b[0m\u001b[0mInteger\u001b[0m\u001b[0;34m(\u001b[0m\u001b[0;36m0\u001b[0m\u001b[0;34m)\u001b[0m\u001b[0;34m]\u001b[0m\u001b[0;34m)\u001b[0m\u001b[0;34m\u001b[0m\u001b[0;34m\u001b[0m\u001b[0m\n\u001b[0m",
      "\u001b[0;32m/opt/sagemath-9.3/local/lib/python3.7/site-packages/sage/misc/functional.py\u001b[0m in \u001b[0;36mnumerical_approx\u001b[0;34m(x, prec, digits, algorithm)\u001b[0m\n\u001b[1;32m   1423\u001b[0m         \u001b[0;32mreturn\u001b[0m \u001b[0mnumerical_approx_generic\u001b[0m\u001b[0;34m(\u001b[0m\u001b[0mx\u001b[0m\u001b[0;34m,\u001b[0m \u001b[0mprec\u001b[0m\u001b[0;34m)\u001b[0m\u001b[0;34m\u001b[0m\u001b[0;34m\u001b[0m\u001b[0m\n\u001b[1;32m   1424\u001b[0m     \u001b[0;32melse\u001b[0m\u001b[0;34m:\u001b[0m\u001b[0;34m\u001b[0m\u001b[0;34m\u001b[0m\u001b[0m\n\u001b[0;32m-> 1425\u001b[0;31m         \u001b[0;32mreturn\u001b[0m \u001b[0mn\u001b[0m\u001b[0;34m(\u001b[0m\u001b[0mprec\u001b[0m\u001b[0;34m,\u001b[0m \u001b[0malgorithm\u001b[0m\u001b[0;34m=\u001b[0m\u001b[0malgorithm\u001b[0m\u001b[0;34m)\u001b[0m\u001b[0;34m\u001b[0m\u001b[0;34m\u001b[0m\u001b[0m\n\u001b[0m\u001b[1;32m   1426\u001b[0m \u001b[0;34m\u001b[0m\u001b[0m\n\u001b[1;32m   1427\u001b[0m \u001b[0mn\u001b[0m \u001b[0;34m=\u001b[0m \u001b[0mnumerical_approx\u001b[0m\u001b[0;34m\u001b[0m\u001b[0;34m\u001b[0m\u001b[0m\n",
      "\u001b[0;32m/opt/sagemath-9.3/local/lib/python3.7/site-packages/sage/symbolic/expression.pyx\u001b[0m in \u001b[0;36msage.symbolic.expression.Expression.numerical_approx (build/cythonized/sage/symbolic/expression.cpp:36001)\u001b[0;34m()\u001b[0m\n\u001b[1;32m   6203\u001b[0m             \u001b[0mres\u001b[0m \u001b[0;34m=\u001b[0m \u001b[0mx\u001b[0m\u001b[0;34m.\u001b[0m\u001b[0mpyobject\u001b[0m\u001b[0;34m(\u001b[0m\u001b[0;34m)\u001b[0m\u001b[0;34m\u001b[0m\u001b[0;34m\u001b[0m\u001b[0m\n\u001b[1;32m   6204\u001b[0m         \u001b[0;32melse\u001b[0m\u001b[0;34m:\u001b[0m\u001b[0;34m\u001b[0m\u001b[0;34m\u001b[0m\u001b[0m\n\u001b[0;32m-> 6205\u001b[0;31m             \u001b[0;32mraise\u001b[0m \u001b[0mTypeError\u001b[0m\u001b[0;34m(\u001b[0m\u001b[0;34m\"cannot evaluate symbolic expression numerically\"\u001b[0m\u001b[0;34m)\u001b[0m\u001b[0;34m\u001b[0m\u001b[0;34m\u001b[0m\u001b[0m\n\u001b[0m\u001b[1;32m   6206\u001b[0m \u001b[0;34m\u001b[0m\u001b[0m\n\u001b[1;32m   6207\u001b[0m         \u001b[0;31m# Important -- the  we get might not be a valid output for numerical_approx in\u001b[0m\u001b[0;34m\u001b[0m\u001b[0;34m\u001b[0m\u001b[0;34m\u001b[0m\u001b[0m\n",
      "\u001b[0;31mTypeError\u001b[0m: cannot evaluate symbolic expression numerically"
     ]
    }
   ],
   "source": []
  }
 ],
 "metadata": {
  "kernelspec": {
   "display_name": "SageMath 9.3",
   "language": "sage",
   "name": "sagemath"
  },
  "language_info": {
   "codemirror_mode": {
    "name": "ipython",
    "version": 3
   },
   "file_extension": ".py",
   "mimetype": "text/x-python",
   "name": "python",
   "nbconvert_exporter": "python",
   "pygments_lexer": "ipython3",
   "version": "3.7.10"
  }
 },
 "nbformat": 4,
 "nbformat_minor": 2
}
