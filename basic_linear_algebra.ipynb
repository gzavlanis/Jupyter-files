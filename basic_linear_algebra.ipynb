{
 "cells": [
  {
   "cell_type": "markdown",
   "metadata": {},
   "source": [
    "# Basic linear algebra\n",
    "\n",
    "## Code examples from the book\n",
    "\n",
    "### Matrix Computations"
   ]
  },
  {
   "cell_type": "code",
   "execution_count": 9,
   "metadata": {
    "vscode": {
     "languageId": "python"
    }
   },
   "outputs": [
    {
     "name": "stdout",
     "output_type": "stream",
     "text": [
      "[1 2]\n",
      "[3 4]\n"
     ]
    }
   ],
   "source": [
    "B = matrix(QQ, [[1, 2], [3, 4]]); B\n",
    "print(B)"
   ]
  },
  {
   "cell_type": "code",
   "execution_count": 14,
   "metadata": {
    "vscode": {
     "languageId": "python"
    }
   },
   "outputs": [
    {
     "name": "stdout",
     "output_type": "stream",
     "text": [
      "[ 2  4  3]\n",
      "[-4 -6 -3]\n",
      "[ 3  3  1]\n",
      "x^3 + 3*x^2 - 4\n",
      "[1, -2, -2]\n",
      "(x - 1) * (x + 2)^2\n",
      "([ 1  0  0]\n",
      "[ 0 -2  0]\n",
      "[ 0  0 -2], [ 1  1  0]\n",
      "[-1 -1  0]\n",
      "[ 1  0  0])\n",
      "([ 1| 0  0]\n",
      "[--+-----]\n",
      "[ 0|-2  1]\n",
      "[ 0| 0 -2], [ 1  1  1]\n",
      "[-1 -1  0]\n",
      "[ 1  0 -1])\n"
     ]
    }
   ],
   "source": [
    "A = matrix(QQ, [[2, 4, 3], [-4, -6, -3], [3, 3, 1]])\n",
    "print(A)\n",
    "print(A.characteristic_polynomial())\n",
    "print(A.eigenvalues())\n",
    "print(A.minimal_polynomial().factor())\n",
    "print(A.eigenmatrix_right())\n",
    "print(A.jordan_form(transformation = True))"
   ]
  },
  {
   "cell_type": "code",
   "execution_count": 16,
   "metadata": {
    "vscode": {
     "languageId": "python"
    }
   },
   "outputs": [
    {
     "name": "stdout",
     "output_type": "stream",
     "text": [
      "x^2 - 5/4\n",
      "([ 1/2*sqrt5          0]\n",
      "[         0 -1/2*sqrt5], [         1          1]\n",
      "[-sqrt5 + 2  sqrt5 + 2])\n"
     ]
    }
   ],
   "source": [
    "C = matrix(QQ, [[1, -1/2], [-1/2, -1]])\n",
    "print(C.minimal_polynomial())\n",
    "\n",
    "R = QQ[sqrt(5)]\n",
    "C = C.change_ring(R)\n",
    "print(C.jordan_form(transformation = True, subdivide = False))"
   ]
  },
  {
   "cell_type": "code",
   "execution_count": 18,
   "metadata": {
    "vscode": {
     "languageId": "python"
    }
   },
   "outputs": [
    {
     "name": "stdout",
     "output_type": "stream",
     "text": [
      "([6|0|0]\n",
      "[-+-+-]\n",
      "[0|0|0]\n",
      "[-+-+-]\n",
      "[0|0|0], [              1               1               0]\n",
      "[1/2*sqrt2*sqrt3               0               1]\n",
      "[      1/2*sqrt2          -sqrt2          -sqrt3])\n"
     ]
    }
   ],
   "source": [
    "K.<sqrt2> = NumberField(x^2 - 2)\n",
    "L.<sqrt3> = K.extension(x^2 - 3)\n",
    "D = matrix(L, [[2, sqrt2 * sqrt3, sqrt2], [sqrt2 * sqrt3, 3, sqrt3], [sqrt2, sqrt3, 1]])\n",
    "print(D.jordan_form(transformation = True))"
   ]
  }
 ],
 "metadata": {
  "kernelspec": {
   "display_name": "SageMath 9.5",
   "language": "sage",
   "name": "sagemath"
  },
  "language_info": {
   "codemirror_mode": {
    "name": "ipython",
    "version": 3
   },
   "file_extension": ".py",
   "mimetype": "text/x-python",
   "name": "sage",
   "nbconvert_exporter": "python",
   "pygments_lexer": "ipython3",
   "version": "3.11.4"
  }
 },
 "nbformat": 4,
 "nbformat_minor": 2
}
