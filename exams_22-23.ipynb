{
 "cells": [
  {
   "cell_type": "markdown",
   "metadata": {},
   "source": [
    "# Exams solutions 2023 - 2024 (Sagemath part)\n",
    "\n",
    "### Trying to solve Quiz problems using Sagemath\n",
    "\n",
    "**Problem 1**"
   ]
  },
  {
   "cell_type": "code",
   "execution_count": 1,
   "metadata": {},
   "outputs": [
    {
     "data": {
      "text/html": [
       "<html>\\(\\displaystyle \\left(\\begin{array}{rrr}\n",
       "2 & 2 & 2 \\\\\n",
       "2 & 2 & 2 \\\\\n",
       "2 & 2 & 0\n",
       "\\end{array}\\right)\\)</html>"
      ],
      "text/latex": [
       "$\\displaystyle \\left(\\begin{array}{rrr}\n",
       "2 & 2 & 2 \\\\\n",
       "2 & 2 & 2 \\\\\n",
       "2 & 2 & 0\n",
       "\\end{array}\\right)$"
      ],
      "text/plain": [
       "[2 2 2]\n",
       "[2 2 2]\n",
       "[2 2 0]"
      ]
     },
     "execution_count": 1,
     "metadata": {},
     "output_type": "execute_result"
    }
   ],
   "source": [
    "%display latex\n",
    "A = matrix(QQ, [[2, 2, 2], [2, 2, 2], [2, 2, 0]]); A"
   ]
  },
  {
   "cell_type": "code",
   "execution_count": 2,
   "metadata": {},
   "outputs": [
    {
     "data": {
      "text/html": [
       "<html>\\(\\displaystyle \\mathrm{False}\\)</html>"
      ],
      "text/latex": [
       "$\\displaystyle \\mathrm{False}$"
      ],
      "text/plain": [
       "False"
      ]
     },
     "execution_count": 2,
     "metadata": {},
     "output_type": "execute_result"
    }
   ],
   "source": [
    "A.is_positive_definite()"
   ]
  },
  {
   "cell_type": "code",
   "execution_count": 3,
   "metadata": {},
   "outputs": [
    {
     "data": {
      "text/html": [
       "<html>\\(\\displaystyle \\mathrm{False}\\)</html>"
      ],
      "text/latex": [
       "$\\displaystyle \\mathrm{False}$"
      ],
      "text/plain": [
       "False"
      ]
     },
     "execution_count": 3,
     "metadata": {},
     "output_type": "execute_result"
    }
   ],
   "source": [
    "A.is_positive_semidefinite()"
   ]
  },
  {
   "cell_type": "code",
   "execution_count": 4,
   "metadata": {},
   "outputs": [
    {
     "data": {
      "text/html": [
       "<html>\\(\\displaystyle \\mathrm{True}\\)</html>"
      ],
      "text/latex": [
       "$\\displaystyle \\mathrm{True}$"
      ],
      "text/plain": [
       "True"
      ]
     },
     "execution_count": 4,
     "metadata": {},
     "output_type": "execute_result"
    }
   ],
   "source": [
    "A.is_symmetric()"
   ]
  },
  {
   "cell_type": "code",
   "execution_count": 5,
   "metadata": {},
   "outputs": [
    {
     "data": {
      "text/html": [
       "<html>\\(\\displaystyle \\mathrm{True}\\)</html>"
      ],
      "text/latex": [
       "$\\displaystyle \\mathrm{True}$"
      ],
      "text/plain": [
       "True"
      ]
     },
     "execution_count": 5,
     "metadata": {},
     "output_type": "execute_result"
    }
   ],
   "source": [
    "A.is_square()"
   ]
  },
  {
   "cell_type": "markdown",
   "metadata": {},
   "source": [
    "**Problem 2**"
   ]
  },
  {
   "cell_type": "code",
   "execution_count": 6,
   "metadata": {},
   "outputs": [
    {
     "data": {
      "text/html": [
       "<html>\\(\\displaystyle \\left(\\begin{array}{rrr}\n",
       "1 & λ & -1 \\\\\n",
       "λ & 1 & 2 \\\\\n",
       "-1 & 2 & 5\n",
       "\\end{array}\\right)\\)</html>"
      ],
      "text/latex": [
       "$\\displaystyle \\left(\\begin{array}{rrr}\n",
       "1 & λ & -1 \\\\\n",
       "λ & 1 & 2 \\\\\n",
       "-1 & 2 & 5\n",
       "\\end{array}\\right)$"
      ],
      "text/plain": [
       "[ 1  λ -1]\n",
       "[ λ  1  2]\n",
       "[-1  2  5]"
      ]
     },
     "execution_count": 6,
     "metadata": {},
     "output_type": "execute_result"
    }
   ],
   "source": [
    "λ = var('λ')\n",
    "\n",
    "M = matrix([[1, λ, -1], [λ, 1, 2], [-1, 2, 5]]); M"
   ]
  },
  {
   "cell_type": "code",
   "execution_count": 7,
   "metadata": {},
   "outputs": [
    {
     "data": {
      "text/html": [
       "<html>\\(\\displaystyle \\left[λ = \\left(-\\frac{4}{5}\\right), λ = 0\\right]\\)</html>"
      ],
      "text/latex": [
       "$\\displaystyle \\left[λ = \\left(-\\frac{4}{5}\\right), λ = 0\\right]$"
      ],
      "text/plain": [
       "[λ == (-4/5), λ == 0]"
      ]
     },
     "execution_count": 7,
     "metadata": {},
     "output_type": "execute_result"
    }
   ],
   "source": [
    "eq = M.determinant() == 0\n",
    "solve(eq, λ)\n"
   ]
  },
  {
   "cell_type": "markdown",
   "metadata": {},
   "source": [
    "**Problem 3**"
   ]
  },
  {
   "cell_type": "code",
   "execution_count": 8,
   "metadata": {},
   "outputs": [
    {
     "data": {
      "text/html": [
       "<html>\\(\\displaystyle \\left(\\left(\\begin{array}{r}\n",
       "1 \\\\\n",
       "2\n",
       "\\end{array}\\right), \\left(\\begin{array}{rr}\n",
       "0 & 1 \\\\\n",
       "1 & 0 \\\\\n",
       "3 & 1\n",
       "\\end{array}\\right), \\left(\\begin{array}{rr}\n",
       "1 & -1\n",
       "\\end{array}\\right)\\right)\\)</html>"
      ],
      "text/latex": [
       "$\\displaystyle \\left(\\left(\\begin{array}{r}\n",
       "1 \\\\\n",
       "2\n",
       "\\end{array}\\right), \\left(\\begin{array}{rr}\n",
       "0 & 1 \\\\\n",
       "1 & 0 \\\\\n",
       "3 & 1\n",
       "\\end{array}\\right), \\left(\\begin{array}{rr}\n",
       "1 & -1\n",
       "\\end{array}\\right)\\right)$"
      ],
      "text/plain": [
       "(\n",
       "     [0 1]         \n",
       "[1]  [1 0]         \n",
       "[2], [3 1], [ 1 -1]\n",
       ")"
      ]
     },
     "execution_count": 8,
     "metadata": {},
     "output_type": "execute_result"
    }
   ],
   "source": [
    "A = matrix(QQ, 2, 1, [1, 2])\n",
    "B = matrix(QQ, 3, 2, [[0, 1], [1, 0], [3, 1]])\n",
    "C = matrix(QQ, [1, -1])\n",
    "\n",
    "A, B, C"
   ]
  },
  {
   "cell_type": "code",
   "execution_count": 9,
   "metadata": {},
   "outputs": [
    {
     "data": {
      "text/html": [
       "<html>\\(\\displaystyle \\left(\\begin{array}{rr}\n",
       "1 & -1 \\\\\n",
       "2 & -2\n",
       "\\end{array}\\right)\\)</html>"
      ],
      "text/latex": [
       "$\\displaystyle \\left(\\begin{array}{rr}\n",
       "1 & -1 \\\\\n",
       "2 & -2\n",
       "\\end{array}\\right)$"
      ],
      "text/plain": [
       "[ 1 -1]\n",
       "[ 2 -2]"
      ]
     },
     "execution_count": 9,
     "metadata": {},
     "output_type": "execute_result"
    }
   ],
   "source": [
    "A*C"
   ]
  },
  {
   "cell_type": "code",
   "execution_count": 10,
   "metadata": {},
   "outputs": [
    {
     "data": {
      "text/html": [
       "<html>\\(\\displaystyle \\left(\\begin{array}{r}\n",
       "-1\n",
       "\\end{array}\\right)\\)</html>"
      ],
      "text/latex": [
       "$\\displaystyle \\left(\\begin{array}{r}\n",
       "-1\n",
       "\\end{array}\\right)$"
      ],
      "text/plain": [
       "[-1]"
      ]
     },
     "execution_count": 10,
     "metadata": {},
     "output_type": "execute_result"
    }
   ],
   "source": [
    "C*A"
   ]
  },
  {
   "cell_type": "code",
   "execution_count": 11,
   "metadata": {},
   "outputs": [
    {
     "data": {
      "text/html": [
       "<html>\\(\\displaystyle \\left(\\begin{array}{r}\n",
       "2 \\\\\n",
       "1 \\\\\n",
       "5\n",
       "\\end{array}\\right)\\)</html>"
      ],
      "text/latex": [
       "$\\displaystyle \\left(\\begin{array}{r}\n",
       "2 \\\\\n",
       "1 \\\\\n",
       "5\n",
       "\\end{array}\\right)$"
      ],
      "text/plain": [
       "[2]\n",
       "[1]\n",
       "[5]"
      ]
     },
     "execution_count": 11,
     "metadata": {},
     "output_type": "execute_result"
    }
   ],
   "source": [
    "B*A"
   ]
  },
  {
   "cell_type": "markdown",
   "metadata": {},
   "source": [
    "**Problem 4**"
   ]
  },
  {
   "cell_type": "code",
   "execution_count": 12,
   "metadata": {},
   "outputs": [
    {
     "data": {
      "text/html": [
       "<html>\\(\\displaystyle \\left(x^{2}, 3 \\, x + 2, e^{\\left(-x - y\\right)}\\right)\\)</html>"
      ],
      "text/latex": [
       "$\\displaystyle \\left(x^{2}, 3 \\, x + 2, e^{\\left(-x - y\\right)}\\right)$"
      ],
      "text/plain": [
       "(x^2, 3*x + 2, e^(-x - y))"
      ]
     },
     "execution_count": 12,
     "metadata": {},
     "output_type": "execute_result"
    }
   ],
   "source": [
    "f1(x) = x^2\n",
    "f2(x) = 3*x + 2\n",
    "f3(x, y) = exp(-x-y)\n",
    "\n",
    "f1(x), f2(x), f3(x, y)"
   ]
  },
  {
   "cell_type": "code",
   "execution_count": 13,
   "metadata": {},
   "outputs": [
    {
     "data": {
      "text/html": [
       "<html>\\(\\displaystyle 2\\)</html>"
      ],
      "text/latex": [
       "$\\displaystyle 2$"
      ],
      "text/plain": [
       "2"
      ]
     },
     "execution_count": 13,
     "metadata": {},
     "output_type": "execute_result"
    }
   ],
   "source": [
    "diff_f1 = diff(f1(x), x, 2); diff_f1"
   ]
  },
  {
   "cell_type": "code",
   "execution_count": 14,
   "metadata": {},
   "outputs": [
    {
     "data": {
      "text/html": [
       "<html>\\(\\displaystyle 0\\)</html>"
      ],
      "text/latex": [
       "$\\displaystyle 0$"
      ],
      "text/plain": [
       "0"
      ]
     },
     "execution_count": 14,
     "metadata": {},
     "output_type": "execute_result"
    }
   ],
   "source": [
    "diff_f2 = diff(f2(x), 2); diff_f2"
   ]
  },
  {
   "cell_type": "code",
   "execution_count": 15,
   "metadata": {},
   "outputs": [
    {
     "data": {
      "text/html": [
       "<html>\\(\\displaystyle \\left(\\begin{array}{rr}\n",
       "e^{\\left(-x - y\\right)} & e^{\\left(-x - y\\right)} \\\\\n",
       "e^{\\left(-x - y\\right)} & e^{\\left(-x - y\\right)}\n",
       "\\end{array}\\right)\\)</html>"
      ],
      "text/latex": [
       "$\\displaystyle \\left(\\begin{array}{rr}\n",
       "e^{\\left(-x - y\\right)} & e^{\\left(-x - y\\right)} \\\\\n",
       "e^{\\left(-x - y\\right)} & e^{\\left(-x - y\\right)}\n",
       "\\end{array}\\right)$"
      ],
      "text/plain": [
       "[e^(-x - y) e^(-x - y)]\n",
       "[e^(-x - y) e^(-x - y)]"
      ]
     },
     "execution_count": 15,
     "metadata": {},
     "output_type": "execute_result"
    }
   ],
   "source": [
    "H = f3(x, y).hessian(); H"
   ]
  },
  {
   "cell_type": "code",
   "execution_count": 20,
   "metadata": {},
   "outputs": [
    {
     "data": {
      "text/html": [
       "<html>\\(\\displaystyle {\\left(x e^{\\left(-x - y\\right)} + y e^{\\left(-x - y\\right)}\\right)} x + {\\left(x e^{\\left(-x - y\\right)} + y e^{\\left(-x - y\\right)}\\right)} y\\)</html>"
      ],
      "text/latex": [
       "$\\displaystyle {\\left(x e^{\\left(-x - y\\right)} + y e^{\\left(-x - y\\right)}\\right)} x + {\\left(x e^{\\left(-x - y\\right)} + y e^{\\left(-x - y\\right)}\\right)} y$"
      ],
      "text/plain": [
       "(x*e^(-x - y) + y*e^(-x - y))*x + (x*e^(-x - y) + y*e^(-x - y))*y"
      ]
     },
     "execution_count": 20,
     "metadata": {},
     "output_type": "execute_result"
    }
   ],
   "source": [
    "x, y = var('x, y')\n",
    "X = matrix(2, 1, [x, y])\n",
    "\n",
    "sol = X.T*H*X; sol[0][0]"
   ]
  },
  {
   "cell_type": "code",
   "execution_count": 27,
   "metadata": {},
   "outputs": [
    {
     "data": {
      "text/html": [
       "<html>\\(\\displaystyle \\mathrm{False}\\)</html>"
      ],
      "text/latex": [
       "$\\displaystyle \\mathrm{False}$"
      ],
      "text/plain": [
       "False"
      ]
     },
     "execution_count": 27,
     "metadata": {},
     "output_type": "execute_result"
    }
   ],
   "source": [
    "p = sol[0][0]\n",
    "all([coef >= 0 for coef, degree in p.coefficients(x)])"
   ]
  },
  {
   "cell_type": "markdown",
   "metadata": {},
   "source": [
    "**Problem 6**"
   ]
  },
  {
   "cell_type": "code",
   "execution_count": 28,
   "metadata": {},
   "outputs": [
    {
     "data": {
      "text/html": [
       "<html>\\(\\displaystyle \\left(\\left(1,\\,-1,\\,1\\right), \\left(1,\\,-1,\\,-1\\right)\\right)\\)</html>"
      ],
      "text/latex": [
       "$\\displaystyle \\left(\\left(1,\\,-1,\\,1\\right), \\left(1,\\,-1,\\,-1\\right)\\right)$"
      ],
      "text/plain": [
       "((1, -1, 1), (1, -1, -1))"
      ]
     },
     "execution_count": 28,
     "metadata": {},
     "output_type": "execute_result"
    }
   ],
   "source": [
    "a = vector(QQ, [1, -1, 1])\n",
    "b = vector(QQ, [1, -1, -1])\n",
    "\n",
    "a, b"
   ]
  },
  {
   "cell_type": "code",
   "execution_count": 29,
   "metadata": {},
   "outputs": [
    {
     "data": {
      "text/html": [
       "<html>\\(\\displaystyle \\frac{1}{3}\\)</html>"
      ],
      "text/latex": [
       "$\\displaystyle \\frac{1}{3}$"
      ],
      "text/plain": [
       "1/3"
      ]
     },
     "execution_count": 29,
     "metadata": {},
     "output_type": "execute_result"
    }
   ],
   "source": [
    "cw = a.dot_product(b) / (norm(a)*norm(b)); cw"
   ]
  },
  {
   "cell_type": "markdown",
   "metadata": {},
   "source": [
    "**problem 7**"
   ]
  },
  {
   "cell_type": "code",
   "execution_count": 30,
   "metadata": {},
   "outputs": [
    {
     "data": {
      "text/html": [
       "<html>\\(\\displaystyle x e^{\\left(x + y\\right)}\\)</html>"
      ],
      "text/latex": [
       "$\\displaystyle x e^{\\left(x + y\\right)}$"
      ],
      "text/plain": [
       "x*e^(x + y)"
      ]
     },
     "execution_count": 30,
     "metadata": {},
     "output_type": "execute_result"
    }
   ],
   "source": [
    "f(x, y) = x*exp(x+y); f(x, y)"
   ]
  },
  {
   "cell_type": "code",
   "execution_count": 31,
   "metadata": {},
   "outputs": [
    {
     "data": {
      "text/html": [
       "<html>\\(\\displaystyle x e^{\\left(x + y\\right)} + e^{\\left(x + y\\right)}\\)</html>"
      ],
      "text/latex": [
       "$\\displaystyle x e^{\\left(x + y\\right)} + e^{\\left(x + y\\right)}$"
      ],
      "text/plain": [
       "x*e^(x + y) + e^(x + y)"
      ]
     },
     "execution_count": 31,
     "metadata": {},
     "output_type": "execute_result"
    }
   ],
   "source": [
    "diff(diff(f(x, y), y), x)"
   ]
  },
  {
   "cell_type": "markdown",
   "metadata": {},
   "source": [
    "**Problem 8**"
   ]
  },
  {
   "cell_type": "code",
   "execution_count": 32,
   "metadata": {},
   "outputs": [
    {
     "data": {
      "text/html": [
       "<html>\\(\\displaystyle x \\log\\left(y\\right)\\)</html>"
      ],
      "text/latex": [
       "$\\displaystyle x \\log\\left(y\\right)$"
      ],
      "text/plain": [
       "x*log(y)"
      ]
     },
     "execution_count": 32,
     "metadata": {},
     "output_type": "execute_result"
    }
   ],
   "source": [
    "f(x, y) = x*ln(y); f(x, y)"
   ]
  },
  {
   "cell_type": "code",
   "execution_count": 35,
   "metadata": {},
   "outputs": [
    {
     "data": {
      "text/html": [
       "<html>\\(\\displaystyle \\left( x, y \\right) \\ {\\mapsto} \\ \\left(\\log\\left(y\\right),\\,\\frac{x}{y}\\right)\\)</html>"
      ],
      "text/latex": [
       "$\\displaystyle \\left( x, y \\right) \\ {\\mapsto} \\ \\left(\\log\\left(y\\right),\\,\\frac{x}{y}\\right)$"
      ],
      "text/plain": [
       "(x, y) |--> (log(y), x/y)"
      ]
     },
     "execution_count": 35,
     "metadata": {},
     "output_type": "execute_result"
    }
   ],
   "source": [
    "grd(x, y) = f(x, y).gradient(); grd"
   ]
  },
  {
   "cell_type": "code",
   "execution_count": 36,
   "metadata": {},
   "outputs": [
    {
     "data": {
      "text/html": [
       "<html>\\(\\displaystyle \\left(0,\\,1\\right)\\)</html>"
      ],
      "text/latex": [
       "$\\displaystyle \\left(0,\\,1\\right)$"
      ],
      "text/plain": [
       "(0, 1)"
      ]
     },
     "execution_count": 36,
     "metadata": {},
     "output_type": "execute_result"
    }
   ],
   "source": [
    "grd(1, 1)"
   ]
  }
 ],
 "metadata": {
  "kernelspec": {
   "display_name": "SageMath 10.3",
   "language": "sage",
   "name": "sagemath"
  },
  "language_info": {
   "codemirror_mode": {
    "name": "ipython",
    "version": 3
   },
   "file_extension": ".py",
   "mimetype": "text/x-python",
   "name": "python",
   "nbconvert_exporter": "python",
   "pygments_lexer": "ipython3",
   "version": "3.11.9"
  }
 },
 "nbformat": 4,
 "nbformat_minor": 2
}
