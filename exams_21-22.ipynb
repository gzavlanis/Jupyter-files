{
 "cells": [
  {
   "cell_type": "code",
   "execution_count": null,
   "metadata": {},
   "outputs": [],
   "source": [
    "# Exams solutions 2021 - 2022 (Sagemath part)\n",
    "\n",
    "### Trying to solve Quiz problems using Sagemath\n",
    "\n",
    "**Problem 1**"
   ]
  }
 ],
 "metadata": {
  "language_info": {
   "name": "python"
  }
 },
 "nbformat": 4,
 "nbformat_minor": 2
}
