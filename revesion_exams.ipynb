{
 "cells": [
  {
   "cell_type": "markdown",
   "metadata": {},
   "source": [
    "# Revision for exams\n",
    "\n",
    "## Solutions of previous years assignments 2022-2023\n",
    "\n",
    "### Unit 1\n",
    "\n",
    "**Problem 7**\n",
    "\n",
    "Using Sagemath find the reduced row echelon form and the rank of the matrices\n",
    "(a) The 3 by 4 matrix with all entries equal to 4.\n",
    "(b) The 3 by 4 matrix A with entries Aij = i + j − 1.\n",
    "(c) The 3 by 4 matrix A with entries Aij = (−1)j"
   ]
  },
  {
   "cell_type": "markdown",
   "metadata": {},
   "source": [
    "(a)"
   ]
  },
  {
   "cell_type": "code",
   "execution_count": 172,
   "metadata": {},
   "outputs": [
    {
     "data": {
      "text/html": [
       "<html>\\(\\displaystyle \\left(\\begin{array}{rrrr}\n",
       "4 & 4 & 4 & 4 \\\\\n",
       "4 & 4 & 4 & 4 \\\\\n",
       "4 & 4 & 4 & 4\n",
       "\\end{array}\\right)\\)</html>"
      ],
      "text/latex": [
       "$\\displaystyle \\left(\\begin{array}{rrrr}\n",
       "4 & 4 & 4 & 4 \\\\\n",
       "4 & 4 & 4 & 4 \\\\\n",
       "4 & 4 & 4 & 4\n",
       "\\end{array}\\right)$"
      ],
      "text/plain": [
       "[4 4 4 4]\n",
       "[4 4 4 4]\n",
       "[4 4 4 4]"
      ]
     },
     "execution_count": 172,
     "metadata": {},
     "output_type": "execute_result"
    }
   ],
   "source": [
    "%display latex\n",
    "\n",
    "A = matrix(QQ, [[4,4,4,4], [4,4,4,4], [4,4,4,4]]); A"
   ]
  },
  {
   "cell_type": "code",
   "execution_count": 173,
   "metadata": {},
   "outputs": [
    {
     "data": {
      "text/html": [
       "<html>\\(\\displaystyle \\left(\\begin{array}{rrrr}\n",
       "1 & 1 & 1 & 1 \\\\\n",
       "0 & 0 & 0 & 0 \\\\\n",
       "0 & 0 & 0 & 0\n",
       "\\end{array}\\right)\\)</html>"
      ],
      "text/latex": [
       "$\\displaystyle \\left(\\begin{array}{rrrr}\n",
       "1 & 1 & 1 & 1 \\\\\n",
       "0 & 0 & 0 & 0 \\\\\n",
       "0 & 0 & 0 & 0\n",
       "\\end{array}\\right)$"
      ],
      "text/plain": [
       "[1 1 1 1]\n",
       "[0 0 0 0]\n",
       "[0 0 0 0]"
      ]
     },
     "execution_count": 173,
     "metadata": {},
     "output_type": "execute_result"
    }
   ],
   "source": [
    "A.rref()"
   ]
  },
  {
   "cell_type": "code",
   "execution_count": 174,
   "metadata": {},
   "outputs": [
    {
     "data": {
      "text/html": [
       "<html>\\(\\displaystyle 1\\)</html>"
      ],
      "text/latex": [
       "$\\displaystyle 1$"
      ],
      "text/plain": [
       "1"
      ]
     },
     "execution_count": 174,
     "metadata": {},
     "output_type": "execute_result"
    }
   ],
   "source": [
    "rank(A)"
   ]
  },
  {
   "cell_type": "markdown",
   "metadata": {},
   "source": [
    "(b)"
   ]
  },
  {
   "cell_type": "code",
   "execution_count": 175,
   "metadata": {},
   "outputs": [
    {
     "data": {
      "text/html": [
       "<html>\\(\\displaystyle \\left(\\begin{array}{rrrr}\n",
       "1 & 2 & 3 & 4 \\\\\n",
       "2 & 3 & 4 & 5 \\\\\n",
       "3 & 4 & 5 & 6\n",
       "\\end{array}\\right)\\)</html>"
      ],
      "text/latex": [
       "$\\displaystyle \\left(\\begin{array}{rrrr}\n",
       "1 & 2 & 3 & 4 \\\\\n",
       "2 & 3 & 4 & 5 \\\\\n",
       "3 & 4 & 5 & 6\n",
       "\\end{array}\\right)$"
      ],
      "text/plain": [
       "[1 2 3 4]\n",
       "[2 3 4 5]\n",
       "[3 4 5 6]"
      ]
     },
     "execution_count": 175,
     "metadata": {},
     "output_type": "execute_result"
    }
   ],
   "source": [
    "A = matrix(QQ, 3, 4, lambda i, j: ((i + 1) + (j + 1) - 1)); A"
   ]
  },
  {
   "cell_type": "code",
   "execution_count": 176,
   "metadata": {},
   "outputs": [
    {
     "data": {
      "text/html": [
       "<html>\\(\\displaystyle \\left(\\begin{array}{rrrr}\n",
       "1 & 0 & -1 & -2 \\\\\n",
       "0 & 1 & 2 & 3 \\\\\n",
       "0 & 0 & 0 & 0\n",
       "\\end{array}\\right)\\)</html>"
      ],
      "text/latex": [
       "$\\displaystyle \\left(\\begin{array}{rrrr}\n",
       "1 & 0 & -1 & -2 \\\\\n",
       "0 & 1 & 2 & 3 \\\\\n",
       "0 & 0 & 0 & 0\n",
       "\\end{array}\\right)$"
      ],
      "text/plain": [
       "[ 1  0 -1 -2]\n",
       "[ 0  1  2  3]\n",
       "[ 0  0  0  0]"
      ]
     },
     "execution_count": 176,
     "metadata": {},
     "output_type": "execute_result"
    }
   ],
   "source": [
    "A.rref()"
   ]
  },
  {
   "cell_type": "code",
   "execution_count": 177,
   "metadata": {},
   "outputs": [
    {
     "data": {
      "text/html": [
       "<html>\\(\\displaystyle 2\\)</html>"
      ],
      "text/latex": [
       "$\\displaystyle 2$"
      ],
      "text/plain": [
       "2"
      ]
     },
     "execution_count": 177,
     "metadata": {},
     "output_type": "execute_result"
    }
   ],
   "source": [
    "rank(A)"
   ]
  },
  {
   "cell_type": "markdown",
   "metadata": {},
   "source": [
    "(c)"
   ]
  },
  {
   "cell_type": "code",
   "execution_count": 178,
   "metadata": {},
   "outputs": [
    {
     "data": {
      "text/html": [
       "<html>\\(\\displaystyle \\left(\\begin{array}{rrrr}\n",
       "-1 & 1 & -1 & 1 \\\\\n",
       "-1 & 1 & -1 & 1 \\\\\n",
       "-1 & 1 & -1 & 1\n",
       "\\end{array}\\right)\\)</html>"
      ],
      "text/latex": [
       "$\\displaystyle \\left(\\begin{array}{rrrr}\n",
       "-1 & 1 & -1 & 1 \\\\\n",
       "-1 & 1 & -1 & 1 \\\\\n",
       "-1 & 1 & -1 & 1\n",
       "\\end{array}\\right)$"
      ],
      "text/plain": [
       "[-1  1 -1  1]\n",
       "[-1  1 -1  1]\n",
       "[-1  1 -1  1]"
      ]
     },
     "execution_count": 178,
     "metadata": {},
     "output_type": "execute_result"
    }
   ],
   "source": [
    "A = matrix(QQ, 3, 4, lambda i, j: (-1)^(j+1)); A"
   ]
  },
  {
   "cell_type": "code",
   "execution_count": 179,
   "metadata": {},
   "outputs": [
    {
     "data": {
      "text/html": [
       "<html>\\(\\displaystyle \\left(\\begin{array}{rrrr}\n",
       "1 & -1 & 1 & -1 \\\\\n",
       "0 & 0 & 0 & 0 \\\\\n",
       "0 & 0 & 0 & 0\n",
       "\\end{array}\\right)\\)</html>"
      ],
      "text/latex": [
       "$\\displaystyle \\left(\\begin{array}{rrrr}\n",
       "1 & -1 & 1 & -1 \\\\\n",
       "0 & 0 & 0 & 0 \\\\\n",
       "0 & 0 & 0 & 0\n",
       "\\end{array}\\right)$"
      ],
      "text/plain": [
       "[ 1 -1  1 -1]\n",
       "[ 0  0  0  0]\n",
       "[ 0  0  0  0]"
      ]
     },
     "execution_count": 179,
     "metadata": {},
     "output_type": "execute_result"
    }
   ],
   "source": [
    "A.rref()"
   ]
  },
  {
   "cell_type": "code",
   "execution_count": 180,
   "metadata": {},
   "outputs": [
    {
     "data": {
      "text/html": [
       "<html>\\(\\displaystyle 1\\)</html>"
      ],
      "text/latex": [
       "$\\displaystyle 1$"
      ],
      "text/plain": [
       "1"
      ]
     },
     "execution_count": 180,
     "metadata": {},
     "output_type": "execute_result"
    }
   ],
   "source": [
    "rank(A)"
   ]
  },
  {
   "cell_type": "markdown",
   "metadata": {},
   "source": [
    "**Problem 8**\n",
    "\n",
    "Solve the following system using Sagemath\\\n",
    "    p + 2q + 3r + s = 1\\\n",
    "    2p + q + 8r + 2s = 2\\\n",
    "    p + 6q − 3r + 5s = −2\\\n",
    "    2p − q + r − s = λ\\\n",
    "in the case λ = 0\\\n",
    "(a) directly solving the system;\\\n",
    "(b) utilising the inverse of a matrix;\\\n",
    "(c) using Gauss elimination;\\\n",
    "and (d) for general λ, using one of methods mentioned above."
   ]
  },
  {
   "cell_type": "code",
   "execution_count": 181,
   "metadata": {},
   "outputs": [],
   "source": [
    "p, q, r, s, λ = var('p, q, r, s, λ')"
   ]
  },
  {
   "cell_type": "markdown",
   "metadata": {},
   "source": [
    "(a)"
   ]
  },
  {
   "cell_type": "code",
   "execution_count": 182,
   "metadata": {},
   "outputs": [
    {
     "data": {
      "text/html": [
       "<html>\\(\\displaystyle \\left[\\left[p = \\left(-\\frac{18}{65}\\right), q = \\left(\\frac{17}{65}\\right), r = \\left(\\frac{51}{130}\\right), s = \\left(-\\frac{11}{26}\\right)\\right]\\right]\\)</html>"
      ],
      "text/latex": [
       "$\\displaystyle \\left[\\left[p = \\left(-\\frac{18}{65}\\right), q = \\left(\\frac{17}{65}\\right), r = \\left(\\frac{51}{130}\\right), s = \\left(-\\frac{11}{26}\\right)\\right]\\right]$"
      ],
      "text/plain": [
       "[[p == (-18/65), q == (17/65), r == (51/130), s == (-11/26)]]"
      ]
     },
     "execution_count": 182,
     "metadata": {},
     "output_type": "execute_result"
    }
   ],
   "source": [
    "eqs0 = [p+2*q+3*r+s == 1, \n",
    "        2*p+q+8*r+2*s == 2,\n",
    "        p+6*q-3*r+5*s == -2,\n",
    "        2*p-q+r-s == 0]\n",
    "\n",
    "solve(eqs0, [p, q, r, s])"
   ]
  },
  {
   "cell_type": "markdown",
   "metadata": {},
   "source": [
    "(b)"
   ]
  },
  {
   "cell_type": "code",
   "execution_count": 183,
   "metadata": {},
   "outputs": [
    {
     "data": {
      "text/html": [
       "<html>\\(\\displaystyle \\left(\\left(\\begin{array}{rrrr}\n",
       "1 & 2 & 3 & 1 \\\\\n",
       "2 & 1 & 8 & 2 \\\\\n",
       "1 & 6 & -3 & 5 \\\\\n",
       "2 & -1 & 1 & -1\n",
       "\\end{array}\\right), \\left(\\begin{array}{r}\n",
       "1 \\\\\n",
       "2 \\\\\n",
       "-2 \\\\\n",
       "0\n",
       "\\end{array}\\right)\\right)\\)</html>"
      ],
      "text/latex": [
       "$\\displaystyle \\left(\\left(\\begin{array}{rrrr}\n",
       "1 & 2 & 3 & 1 \\\\\n",
       "2 & 1 & 8 & 2 \\\\\n",
       "1 & 6 & -3 & 5 \\\\\n",
       "2 & -1 & 1 & -1\n",
       "\\end{array}\\right), \\left(\\begin{array}{r}\n",
       "1 \\\\\n",
       "2 \\\\\n",
       "-2 \\\\\n",
       "0\n",
       "\\end{array}\\right)\\right)$"
      ],
      "text/plain": [
       "(\n",
       "[ 1  2  3  1]  [ 1]\n",
       "[ 2  1  8  2]  [ 2]\n",
       "[ 1  6 -3  5]  [-2]\n",
       "[ 2 -1  1 -1], [ 0]\n",
       ")"
      ]
     },
     "execution_count": 183,
     "metadata": {},
     "output_type": "execute_result"
    }
   ],
   "source": [
    "A = matrix(QQ,[[1, 2, 3, 1], [2, 1, 8, 2], [1, 6, -3, 5], [2, -1, 1, -1]])\n",
    "Y = matrix(QQ, 4, 1, [1, 2, -2, 0])\n",
    "\n",
    "A, Y"
   ]
  },
  {
   "cell_type": "code",
   "execution_count": 184,
   "metadata": {},
   "outputs": [
    {
     "data": {
      "text/html": [
       "<html>\\(\\displaystyle \\left(\\begin{array}{r}\n",
       "-\\frac{18}{65} \\\\\n",
       "\\frac{17}{65} \\\\\n",
       "\\frac{51}{130} \\\\\n",
       "-\\frac{11}{26}\n",
       "\\end{array}\\right)\\)</html>"
      ],
      "text/latex": [
       "$\\displaystyle \\left(\\begin{array}{r}\n",
       "-\\frac{18}{65} \\\\\n",
       "\\frac{17}{65} \\\\\n",
       "\\frac{51}{130} \\\\\n",
       "-\\frac{11}{26}\n",
       "\\end{array}\\right)$"
      ],
      "text/plain": [
       "[-18/65]\n",
       "[ 17/65]\n",
       "[51/130]\n",
       "[-11/26]"
      ]
     },
     "execution_count": 184,
     "metadata": {},
     "output_type": "execute_result"
    }
   ],
   "source": [
    "A^(-1)*Y"
   ]
  },
  {
   "cell_type": "markdown",
   "metadata": {},
   "source": [
    "(c)"
   ]
  },
  {
   "cell_type": "code",
   "execution_count": 185,
   "metadata": {},
   "outputs": [
    {
     "data": {
      "text/html": [
       "<html>\\(\\displaystyle \\left(\\begin{array}{rrrr|r}\n",
       "1 & 2 & 3 & 1 & 1 \\\\\n",
       "2 & 1 & 8 & 2 & 2 \\\\\n",
       "1 & 6 & -3 & 5 & -2 \\\\\n",
       "2 & -1 & 1 & -1 & 0\n",
       "\\end{array}\\right)\\)</html>"
      ],
      "text/latex": [
       "$\\displaystyle \\left(\\begin{array}{rrrr|r}\n",
       "1 & 2 & 3 & 1 & 1 \\\\\n",
       "2 & 1 & 8 & 2 & 2 \\\\\n",
       "1 & 6 & -3 & 5 & -2 \\\\\n",
       "2 & -1 & 1 & -1 & 0\n",
       "\\end{array}\\right)$"
      ],
      "text/plain": [
       "[ 1  2  3  1| 1]\n",
       "[ 2  1  8  2| 2]\n",
       "[ 1  6 -3  5|-2]\n",
       "[ 2 -1  1 -1| 0]"
      ]
     },
     "execution_count": 185,
     "metadata": {},
     "output_type": "execute_result"
    }
   ],
   "source": [
    "AA = A.augment(Y, subdivide = true); AA"
   ]
  },
  {
   "cell_type": "code",
   "execution_count": 186,
   "metadata": {},
   "outputs": [
    {
     "data": {
      "text/html": [
       "<html>\\(\\displaystyle \\left(\\begin{array}{rrrr|r}\n",
       "1 & 0 & 0 & 0 & -\\frac{18}{65} \\\\\n",
       "0 & 1 & 0 & 0 & \\frac{17}{65} \\\\\n",
       "0 & 0 & 1 & 0 & \\frac{51}{130} \\\\\n",
       "0 & 0 & 0 & 1 & -\\frac{11}{26}\n",
       "\\end{array}\\right)\\)</html>"
      ],
      "text/latex": [
       "$\\displaystyle \\left(\\begin{array}{rrrr|r}\n",
       "1 & 0 & 0 & 0 & -\\frac{18}{65} \\\\\n",
       "0 & 1 & 0 & 0 & \\frac{17}{65} \\\\\n",
       "0 & 0 & 1 & 0 & \\frac{51}{130} \\\\\n",
       "0 & 0 & 0 & 1 & -\\frac{11}{26}\n",
       "\\end{array}\\right)$"
      ],
      "text/plain": [
       "[     1      0      0      0|-18/65]\n",
       "[     0      1      0      0| 17/65]\n",
       "[     0      0      1      0|51/130]\n",
       "[     0      0      0      1|-11/26]"
      ]
     },
     "execution_count": 186,
     "metadata": {},
     "output_type": "execute_result"
    }
   ],
   "source": [
    "AA.echelon_form()"
   ]
  },
  {
   "cell_type": "markdown",
   "metadata": {},
   "source": [
    "(d)"
   ]
  },
  {
   "cell_type": "code",
   "execution_count": 187,
   "metadata": {},
   "outputs": [
    {
     "data": {
      "text/html": [
       "<html>\\(\\displaystyle \\left[\\left[p = \\frac{31}{65} \\, λ - \\frac{18}{65}, q = -\\frac{4}{65} \\, λ + \\frac{17}{65}, r = -\\frac{6}{65} \\, λ + \\frac{51}{130}, s = -\\frac{1}{13} \\, λ - \\frac{11}{26}\\right]\\right]\\)</html>"
      ],
      "text/latex": [
       "$\\displaystyle \\left[\\left[p = \\frac{31}{65} \\, λ - \\frac{18}{65}, q = -\\frac{4}{65} \\, λ + \\frac{17}{65}, r = -\\frac{6}{65} \\, λ + \\frac{51}{130}, s = -\\frac{1}{13} \\, λ - \\frac{11}{26}\\right]\\right]$"
      ],
      "text/plain": [
       "[[p == 31/65*λ - 18/65, q == -4/65*λ + 17/65, r == -6/65*λ + 51/130, s == -1/13*λ - 11/26]]"
      ]
     },
     "execution_count": 187,
     "metadata": {},
     "output_type": "execute_result"
    }
   ],
   "source": [
    "eqs = [p+2*q+3*r+s == 1,\n",
    "       2*p+q+8*r+2*s == 2,\n",
    "       p+6*q-3*r+5*s == -2,\n",
    "       2*p-q+r-s == λ]\n",
    "\n",
    "solve(eqs, [p,q,r,s])"
   ]
  },
  {
   "cell_type": "markdown",
   "metadata": {},
   "source": [
    "### Unit 2\n",
    "\n",
    "**Problem 7**\n",
    "\n",
    "Solution:\n",
    "\n",
    "(a)"
   ]
  },
  {
   "cell_type": "code",
   "execution_count": 188,
   "metadata": {},
   "outputs": [
    {
     "data": {
      "text/html": [
       "<html>\\(\\displaystyle \\left(\\left(1,\\,1,\\,2\\right), \\left(1,\\,-1,\\,0\\right), \\left(-1,\\,-1,\\,1\\right)\\right)\\)</html>"
      ],
      "text/latex": [
       "$\\displaystyle \\left(\\left(1,\\,1,\\,2\\right), \\left(1,\\,-1,\\,0\\right), \\left(-1,\\,-1,\\,1\\right)\\right)$"
      ],
      "text/plain": [
       "((1, 1, 2), (1, -1, 0), (-1, -1, 1))"
      ]
     },
     "execution_count": 188,
     "metadata": {},
     "output_type": "execute_result"
    }
   ],
   "source": [
    "%display latex\n",
    "\n",
    "m = matrix(QQ, [[1,1,2], [1,-1,0], [1,0,4]])\n",
    "g, s = m.gram_schmidt();\n",
    "A, B, C = g; A, B, C"
   ]
  },
  {
   "cell_type": "markdown",
   "metadata": {},
   "source": [
    "(b)"
   ]
  },
  {
   "cell_type": "code",
   "execution_count": 189,
   "metadata": {},
   "outputs": [
    {
     "data": {
      "text/html": [
       "<html>\\(\\displaystyle \\left(\\left(\\frac{1}{6} \\, \\sqrt{6},\\,\\frac{1}{6} \\, \\sqrt{6},\\,\\frac{1}{3} \\, \\sqrt{6}\\right), \\left(\\frac{1}{2} \\, \\sqrt{2},\\,-\\frac{1}{2} \\, \\sqrt{2},\\,0\\right), \\left(-\\frac{1}{3} \\, \\sqrt{3},\\,-\\frac{1}{3} \\, \\sqrt{3},\\,\\frac{1}{3} \\, \\sqrt{3}\\right)\\right)\\)</html>"
      ],
      "text/latex": [
       "$\\displaystyle \\left(\\left(\\frac{1}{6} \\, \\sqrt{6},\\,\\frac{1}{6} \\, \\sqrt{6},\\,\\frac{1}{3} \\, \\sqrt{6}\\right), \\left(\\frac{1}{2} \\, \\sqrt{2},\\,-\\frac{1}{2} \\, \\sqrt{2},\\,0\\right), \\left(-\\frac{1}{3} \\, \\sqrt{3},\\,-\\frac{1}{3} \\, \\sqrt{3},\\,\\frac{1}{3} \\, \\sqrt{3}\\right)\\right)$"
      ],
      "text/plain": [
       "((1/6*sqrt(6), 1/6*sqrt(6), 1/3*sqrt(6)),\n",
       " (1/2*sqrt(2), -1/2*sqrt(2), 0),\n",
       " (-1/3*sqrt(3), -1/3*sqrt(3), 1/3*sqrt(3)))"
      ]
     },
     "execution_count": 189,
     "metadata": {},
     "output_type": "execute_result"
    }
   ],
   "source": [
    "aa = A/norm(A); bb = B/norm(B); cc = C/norm(C);\n",
    "aa, bb, cc"
   ]
  },
  {
   "cell_type": "markdown",
   "metadata": {},
   "source": [
    "(c)"
   ]
  },
  {
   "cell_type": "code",
   "execution_count": 190,
   "metadata": {},
   "outputs": [
    {
     "data": {
      "text/html": [
       "<html>\\(\\displaystyle \\left(\\frac{2}{3} \\, \\sqrt{6}, 0, -\\frac{1}{3} \\, \\sqrt{3}\\right)\\)</html>"
      ],
      "text/latex": [
       "$\\displaystyle \\left(\\frac{2}{3} \\, \\sqrt{6}, 0, -\\frac{1}{3} \\, \\sqrt{3}\\right)$"
      ],
      "text/plain": [
       "(2/3*sqrt(6), 0, -1/3*sqrt(3))"
      ]
     },
     "execution_count": 190,
     "metadata": {},
     "output_type": "execute_result"
    }
   ],
   "source": [
    "d = vector(QQ, [1,1,1])\n",
    "(d.dot_product(aa), d.dot_product(bb), d.dot_product(cc))"
   ]
  },
  {
   "cell_type": "markdown",
   "metadata": {},
   "source": [
    "**Problem 8**\n",
    "\n",
    "Using Sagemath\\\n",
    "(a) define a function that rotates a two dimensional vector by an angle θ given in degrees;\\\n",
    "(b) use this function to successively rotate the vector ⃗a = (1, 1) by 30◦ and then by 45◦ and define vectors\\\n",
    "⃗a1 and ⃗a2 respectively;\\\n",
    "(c) plot the vectors ⃗a, ⃗a1, ⃗a2 using different colors;\\\n",
    "(d) compute the angle (in degrees) between ⃗a and ⃗a2\n",
    "\n",
    "(a)"
   ]
  },
  {
   "cell_type": "code",
   "execution_count": 191,
   "metadata": {},
   "outputs": [
    {
     "data": {
      "text/html": [
       "<html>\\(\\displaystyle \\left(\\left(0.366025403784439,\\,1.36602540378444\\right), \\left(-0.707106781186547,\\,1.22474487139159\\right)\\right)\\)</html>"
      ],
      "text/latex": [
       "$\\displaystyle \\left(\\left(0.366025403784439,\\,1.36602540378444\\right), \\left(-0.707106781186547,\\,1.22474487139159\\right)\\right)$"
      ],
      "text/plain": [
       "((0.366025403784439, 1.36602540378444), (-0.707106781186547, 1.22474487139159))"
      ]
     },
     "execution_count": 191,
     "metadata": {},
     "output_type": "execute_result"
    }
   ],
   "source": [
    "th = var('th')\n",
    "ppi = n(pi)/180.\n",
    "rot(th) = matrix(SR, [[cos(th*ppi), -sin(th*ppi)], [sin(th*ppi), cos(th*ppi)]])\n",
    "a = vector(RR, [1., 1.])\n",
    "\n",
    "a1 = rot(30)*a\n",
    "a2 = rot(45)*a1\n",
    "\n",
    "a1, a2"
   ]
  },
  {
   "cell_type": "markdown",
   "metadata": {},
   "source": [
    "(c)"
   ]
  },
  {
   "cell_type": "code",
   "execution_count": 192,
   "metadata": {},
   "outputs": [
    {
     "data": {
      "image/png": "[encoded data removed]",
      "text/plain": [
       "Graphics object consisting of 3 graphics primitives"
      ]
     },
     "execution_count": 192,
     "metadata": {},
     "output_type": "execute_result"
    }
   ],
   "source": [
    "arrow2d((0, 0), a, legend_label = '$\\\\vec{a}$', legend_color = 'black') + \\\n",
    "    arrow2d((0, 0), a1, legend_label = '$\\\\vec{a}_1$', legend_color = 'black', color = 'red') + \\\n",
    "        arrow2d((0, 0), a2, legend_label = '$\\\\vec{a}_2$', legend_color = 'black', color = 'black')"
   ]
  },
  {
   "cell_type": "code",
   "execution_count": 193,
   "metadata": {},
   "outputs": [
    {
     "data": {
      "text/html": [
       "<html>\\(\\displaystyle 75.0000000000000\\)</html>"
      ],
      "text/latex": [
       "$\\displaystyle 75.0000000000000$"
      ],
      "text/plain": [
       "75.0000000000000"
      ]
     },
     "execution_count": 193,
     "metadata": {},
     "output_type": "execute_result"
    }
   ],
   "source": [
    "arccos(a.dot_product(a2)/norm(a)/norm(a2))/ppi"
   ]
  },
  {
   "cell_type": "markdown",
   "metadata": {},
   "source": [
    "### Unit 3\n",
    "\n",
    "**Problem 7**\n",
    "\n",
    "Using Sagemath\n",
    "(a) (i) create a random 5 × 5 symmetric positive definite matrix A, (ii) set A11 = p, A22 = q where p, q\n",
    "the last two digits of your ID number∗ (your e-mail is of the form std????pq@ac.eap.gr) , (iii) check if\n",
    "the resulting matrix is positive definite and if not repeat steps (i)-(iii) until you get a symmetric positive\n",
    "definite matrix A;\n",
    "(b) compute the Cholesky decomposition of A and find a matrix C such as A = CC T ;\n",
    "(c) compute the singular value decomposition of C, C = U ΣV T ;\n",
    "(d) define X = U ΣU T and check the relation A = X 2 .\n",
    "∗\n",
    "In case some of these digits equals zero, please replace it with the digit 1.\n",
    "\n",
    "(a)"
   ]
  },
  {
   "cell_type": "code",
   "execution_count": 194,
   "metadata": {},
   "outputs": [
    {
     "data": {
      "text/html": [
       "<html>\\(\\displaystyle \\left(\\begin{array}{rrrrr}\n",
       "0.021556762277350483 & -0.3709722234777306 & -0.07644572107329761 & 0.1735889177297194 & 0.02488606245910252 \\\\\n",
       "0.10202987431794552 & -0.8922882747917011 & 0.4065089081158886 & -0.8445870191472165 & -0.5947147263928563 \\\\\n",
       "0.008006822055163898 & -0.4126256139970472 & 0.20269353368315124 & -0.7093105749801862 & -0.8523172024141243 \\\\\n",
       "-0.044519422442044654 & -0.3596598708562677 & 0.05080200667432644 & -0.7643229254489179 & 0.9545246157284981 \\\\\n",
       "0.9309537213233607 & -0.9547961264840332 & 0.37681607499703684 & -0.4013746606871085 & -0.38206266192557625\n",
       "\\end{array}\\right)\\)</html>"
      ],
      "text/latex": [
       "$\\displaystyle \\left(\\begin{array}{rrrrr}\n",
       "0.021556762277350483 & -0.3709722234777306 & -0.07644572107329761 & 0.1735889177297194 & 0.02488606245910252 \\\\\n",
       "0.10202987431794552 & -0.8922882747917011 & 0.4065089081158886 & -0.8445870191472165 & -0.5947147263928563 \\\\\n",
       "0.008006822055163898 & -0.4126256139970472 & 0.20269353368315124 & -0.7093105749801862 & -0.8523172024141243 \\\\\n",
       "-0.044519422442044654 & -0.3596598708562677 & 0.05080200667432644 & -0.7643229254489179 & 0.9545246157284981 \\\\\n",
       "0.9309537213233607 & -0.9547961264840332 & 0.37681607499703684 & -0.4013746606871085 & -0.38206266192557625\n",
       "\\end{array}\\right)$"
      ],
      "text/plain": [
       "[ 0.021556762277350483   -0.3709722234777306  -0.07644572107329761    0.1735889177297194   0.02488606245910252]\n",
       "[  0.10202987431794552   -0.8922882747917011    0.4065089081158886   -0.8445870191472165   -0.5947147263928563]\n",
       "[ 0.008006822055163898   -0.4126256139970472   0.20269353368315124   -0.7093105749801862   -0.8523172024141243]\n",
       "[-0.044519422442044654   -0.3596598708562677   0.05080200667432644   -0.7643229254489179    0.9545246157284981]\n",
       "[   0.9309537213233607   -0.9547961264840332   0.37681607499703684   -0.4013746606871085  -0.38206266192557625]"
      ]
     },
     "execution_count": 194,
     "metadata": {},
     "output_type": "execute_result"
    }
   ],
   "source": [
    "m = random_matrix(RDF, 5); m"
   ]
  },
  {
   "cell_type": "code",
   "execution_count": 195,
   "metadata": {},
   "outputs": [
    {
     "data": {
      "text/html": [
       "<html>\\(\\displaystyle \\left(\\begin{array}{rrrrr}\n",
       "0.8796 & -0.9752 & 0.3900 & -0.4277 & -0.4651 \\\\\n",
       "-0.9752 & 2.145 & -0.7961 & 1.640 & 0.8946 \\\\\n",
       "0.3900 & -0.7961 & 0.3568 & -0.6904 & -0.5119 \\\\\n",
       "-0.4277 & 1.640 & -0.6904 & 1.992 & 0.5350 \\\\\n",
       "-0.4651 & 0.8946 & -0.5119 & 0.5350 & 2.138\n",
       "\\end{array}\\right)\\)</html>"
      ],
      "text/latex": [
       "$\\displaystyle \\left(\\begin{array}{rrrrr}\n",
       "0.8796 & -0.9752 & 0.3900 & -0.4277 & -0.4651 \\\\\n",
       "-0.9752 & 2.145 & -0.7961 & 1.640 & 0.8946 \\\\\n",
       "0.3900 & -0.7961 & 0.3568 & -0.6904 & -0.5119 \\\\\n",
       "-0.4277 & 1.640 & -0.6904 & 1.992 & 0.5350 \\\\\n",
       "-0.4651 & 0.8946 & -0.5119 & 0.5350 & 2.138\n",
       "\\end{array}\\right)$"
      ],
      "text/plain": [
       "[ 0.8796 -0.9752  0.3900 -0.4277 -0.4651]\n",
       "[-0.9752   2.145 -0.7961   1.640  0.8946]\n",
       "[ 0.3900 -0.7961  0.3568 -0.6904 -0.5119]\n",
       "[-0.4277   1.640 -0.6904   1.992  0.5350]\n",
       "[-0.4651  0.8946 -0.5119  0.5350   2.138]"
      ]
     },
     "execution_count": 195,
     "metadata": {},
     "output_type": "execute_result"
    }
   ],
   "source": [
    "A = transpose(m) * m; A.n(digits = 4)"
   ]
  },
  {
   "cell_type": "code",
   "execution_count": 196,
   "metadata": {},
   "outputs": [
    {
     "data": {
      "text/html": [
       "<html>\\(\\displaystyle \\left(\\begin{array}{rrrrr}\n",
       "1.000 & -0.9752 & 0.3900 & -0.4277 & -0.4651 \\\\\n",
       "-0.9752 & 2.000 & -0.7961 & 1.640 & 0.8946 \\\\\n",
       "0.3900 & -0.7961 & 0.3568 & -0.6904 & -0.5119 \\\\\n",
       "-0.4277 & 1.640 & -0.6904 & 1.992 & 0.5350 \\\\\n",
       "-0.4651 & 0.8946 & -0.5119 & 0.5350 & 2.138\n",
       "\\end{array}\\right)\\)</html>"
      ],
      "text/latex": [
       "$\\displaystyle \\left(\\begin{array}{rrrrr}\n",
       "1.000 & -0.9752 & 0.3900 & -0.4277 & -0.4651 \\\\\n",
       "-0.9752 & 2.000 & -0.7961 & 1.640 & 0.8946 \\\\\n",
       "0.3900 & -0.7961 & 0.3568 & -0.6904 & -0.5119 \\\\\n",
       "-0.4277 & 1.640 & -0.6904 & 1.992 & 0.5350 \\\\\n",
       "-0.4651 & 0.8946 & -0.5119 & 0.5350 & 2.138\n",
       "\\end{array}\\right)$"
      ],
      "text/plain": [
       "[  1.000 -0.9752  0.3900 -0.4277 -0.4651]\n",
       "[-0.9752   2.000 -0.7961   1.640  0.8946]\n",
       "[ 0.3900 -0.7961  0.3568 -0.6904 -0.5119]\n",
       "[-0.4277   1.640 -0.6904   1.992  0.5350]\n",
       "[-0.4651  0.8946 -0.5119  0.5350   2.138]"
      ]
     },
     "execution_count": 196,
     "metadata": {},
     "output_type": "execute_result"
    }
   ],
   "source": [
    "A[0,0] = 1; A[1,1] = 2; A.n(digits = 4)"
   ]
  },
  {
   "cell_type": "code",
   "execution_count": 197,
   "metadata": {},
   "outputs": [
    {
     "data": {
      "text/html": [
       "<html>\\(\\displaystyle \\mathrm{True}\\)</html>"
      ],
      "text/latex": [
       "$\\displaystyle \\mathrm{True}$"
      ],
      "text/plain": [
       "True"
      ]
     },
     "execution_count": 197,
     "metadata": {},
     "output_type": "execute_result"
    }
   ],
   "source": [
    "A.is_positive_definite()"
   ]
  },
  {
   "cell_type": "markdown",
   "metadata": {},
   "source": [
    "(b)"
   ]
  },
  {
   "cell_type": "code",
   "execution_count": 198,
   "metadata": {},
   "outputs": [
    {
     "data": {
      "text/html": [
       "<html>\\(\\displaystyle \\left(\\begin{array}{rrrrr}\n",
       "1.000 & 0.0000 & 0.0000 & 0.0000 & 0.0000 \\\\\n",
       "-0.9752 & 1.024 & 0.0000 & 0.0000 & 0.0000 \\\\\n",
       "0.3900 & -0.4059 & 0.1997 & 0.0000 & 0.0000 \\\\\n",
       "-0.4277 & 1.194 & -0.1951 & 0.5875 & 0.0000 \\\\\n",
       "-0.4651 & 0.4306 & -0.7796 & -0.5621 & 0.9013\n",
       "\\end{array}\\right)\\)</html>"
      ],
      "text/latex": [
       "$\\displaystyle \\left(\\begin{array}{rrrrr}\n",
       "1.000 & 0.0000 & 0.0000 & 0.0000 & 0.0000 \\\\\n",
       "-0.9752 & 1.024 & 0.0000 & 0.0000 & 0.0000 \\\\\n",
       "0.3900 & -0.4059 & 0.1997 & 0.0000 & 0.0000 \\\\\n",
       "-0.4277 & 1.194 & -0.1951 & 0.5875 & 0.0000 \\\\\n",
       "-0.4651 & 0.4306 & -0.7796 & -0.5621 & 0.9013\n",
       "\\end{array}\\right)$"
      ],
      "text/plain": [
       "[  1.000  0.0000  0.0000  0.0000  0.0000]\n",
       "[-0.9752   1.024  0.0000  0.0000  0.0000]\n",
       "[ 0.3900 -0.4059  0.1997  0.0000  0.0000]\n",
       "[-0.4277   1.194 -0.1951  0.5875  0.0000]\n",
       "[-0.4651  0.4306 -0.7796 -0.5621  0.9013]"
      ]
     },
     "execution_count": 198,
     "metadata": {},
     "output_type": "execute_result"
    }
   ],
   "source": [
    "C = A.cholesky(); C.n(digits = 4)"
   ]
  },
  {
   "cell_type": "markdown",
   "metadata": {},
   "source": [
    "(c)"
   ]
  },
  {
   "cell_type": "code",
   "execution_count": 199,
   "metadata": {},
   "outputs": [
    {
     "data": {
      "text/html": [
       "<html>\\(\\displaystyle \\left(\\begin{array}{rrrrr}\n",
       "-0.2937 & -0.02537 & -0.8043 & 0.5057 & 0.1020 \\\\\n",
       "0.6171 & -0.1995 & 0.2073 & 0.7124 & -0.1700 \\\\\n",
       "-0.2654 & 0.008187 & -0.02041 & 0.008129 & -0.9639 \\\\\n",
       "0.5410 & -0.4464 & -0.5048 & -0.4816 & -0.1461 \\\\\n",
       "0.4120 & 0.8719 & -0.2342 & -0.06895 & -0.1017\n",
       "\\end{array}\\right)\\)</html>"
      ],
      "text/latex": [
       "$\\displaystyle \\left(\\begin{array}{rrrrr}\n",
       "-0.2937 & -0.02537 & -0.8043 & 0.5057 & 0.1020 \\\\\n",
       "0.6171 & -0.1995 & 0.2073 & 0.7124 & -0.1700 \\\\\n",
       "-0.2654 & 0.008187 & -0.02041 & 0.008129 & -0.9639 \\\\\n",
       "0.5410 & -0.4464 & -0.5048 & -0.4816 & -0.1461 \\\\\n",
       "0.4120 & 0.8719 & -0.2342 & -0.06895 & -0.1017\n",
       "\\end{array}\\right)$"
      ],
      "text/plain": [
       "[ -0.2937 -0.02537  -0.8043   0.5057   0.1020]\n",
       "[  0.6171  -0.1995   0.2073   0.7124  -0.1700]\n",
       "[ -0.2654 0.008187 -0.02041 0.008129  -0.9639]\n",
       "[  0.5410  -0.4464  -0.5048  -0.4816  -0.1461]\n",
       "[  0.4120   0.8719  -0.2342 -0.06895  -0.1017]"
      ]
     },
     "execution_count": 199,
     "metadata": {},
     "output_type": "execute_result"
    }
   ],
   "source": [
    "U, Σ, V = C.SVD()\n",
    "U.n(digits = 4)"
   ]
  },
  {
   "cell_type": "code",
   "execution_count": 200,
   "metadata": {},
   "outputs": [
    {
     "data": {
      "text/html": [
       "<html>\\(\\displaystyle \\left(\\begin{array}{rrrrr}\n",
       "2.200 & 0.0000 & 0.0000 & 0.0000 & 0.0000 \\\\\n",
       "0.0000 & 1.292 & 0.0000 & 0.0000 & 0.0000 \\\\\n",
       "0.0000 & 0.0000 & 0.9259 & 0.0000 & 0.0000 \\\\\n",
       "0.0000 & 0.0000 & 0.0000 & 0.3214 & 0.0000 \\\\\n",
       "0.0000 & 0.0000 & 0.0000 & 0.0000 & 0.1281\n",
       "\\end{array}\\right)\\)</html>"
      ],
      "text/latex": [
       "$\\displaystyle \\left(\\begin{array}{rrrrr}\n",
       "2.200 & 0.0000 & 0.0000 & 0.0000 & 0.0000 \\\\\n",
       "0.0000 & 1.292 & 0.0000 & 0.0000 & 0.0000 \\\\\n",
       "0.0000 & 0.0000 & 0.9259 & 0.0000 & 0.0000 \\\\\n",
       "0.0000 & 0.0000 & 0.0000 & 0.3214 & 0.0000 \\\\\n",
       "0.0000 & 0.0000 & 0.0000 & 0.0000 & 0.1281\n",
       "\\end{array}\\right)$"
      ],
      "text/plain": [
       "[ 2.200 0.0000 0.0000 0.0000 0.0000]\n",
       "[0.0000  1.292 0.0000 0.0000 0.0000]\n",
       "[0.0000 0.0000 0.9259 0.0000 0.0000]\n",
       "[0.0000 0.0000 0.0000 0.3214 0.0000]\n",
       "[0.0000 0.0000 0.0000 0.0000 0.1281]"
      ]
     },
     "execution_count": 200,
     "metadata": {},
     "output_type": "execute_result"
    }
   ],
   "source": [
    "Σ.n(digits = 4)"
   ]
  },
  {
   "cell_type": "code",
   "execution_count": 201,
   "metadata": {},
   "outputs": [
    {
     "data": {
      "text/html": [
       "<html>\\(\\displaystyle \\left(\\begin{array}{rrrrr}\n",
       "-0.6463 & -0.03276 & -0.7447 & 0.1626 & 0.01306 \\\\\n",
       "0.7104 & -0.2827 & -0.5217 & 0.3784 & -0.008825 \\\\\n",
       "-0.2181 & -0.4576 & 0.2992 & 0.4646 & -0.6615 \\\\\n",
       "0.03919 & -0.5825 & -0.1782 & -0.7597 & -0.2241 \\\\\n",
       "0.1688 & 0.6085 & -0.2280 & -0.1933 & -0.7155\n",
       "\\end{array}\\right)\\)</html>"
      ],
      "text/latex": [
       "$\\displaystyle \\left(\\begin{array}{rrrrr}\n",
       "-0.6463 & -0.03276 & -0.7447 & 0.1626 & 0.01306 \\\\\n",
       "0.7104 & -0.2827 & -0.5217 & 0.3784 & -0.008825 \\\\\n",
       "-0.2181 & -0.4576 & 0.2992 & 0.4646 & -0.6615 \\\\\n",
       "0.03919 & -0.5825 & -0.1782 & -0.7597 & -0.2241 \\\\\n",
       "0.1688 & 0.6085 & -0.2280 & -0.1933 & -0.7155\n",
       "\\end{array}\\right)$"
      ],
      "text/plain": [
       "[  -0.6463  -0.03276   -0.7447    0.1626   0.01306]\n",
       "[   0.7104   -0.2827   -0.5217    0.3784 -0.008825]\n",
       "[  -0.2181   -0.4576    0.2992    0.4646   -0.6615]\n",
       "[  0.03919   -0.5825   -0.1782   -0.7597   -0.2241]\n",
       "[   0.1688    0.6085   -0.2280   -0.1933   -0.7155]"
      ]
     },
     "execution_count": 201,
     "metadata": {},
     "output_type": "execute_result"
    }
   ],
   "source": [
    "V.n(digits = 4)"
   ]
  },
  {
   "cell_type": "markdown",
   "metadata": {},
   "source": [
    "(d)"
   ]
  },
  {
   "cell_type": "code",
   "execution_count": 202,
   "metadata": {},
   "outputs": [
    {
     "data": {
      "text/html": [
       "<html>\\(\\displaystyle \\left(\\begin{array}{rrrrr}\n",
       "0.8732023112131686 & -0.4331186645623961 & 0.17520886937044824 & -0.03926293872281375 & -0.13298954784661182 \\\\\n",
       "-0.4331186645623961 & 1.0960048267668807 & -0.3435758482250316 & 0.6455637537907515 & 0.27637785443019086 \\\\\n",
       "0.17520886937044824 & -0.3435758482250316 & 0.2744728793242091 & -0.29430492185200197 & -0.214606727766879 \\\\\n",
       "-0.039262938722813806 & 0.6455637537907515 & -0.29430492185200197 & 1.214454891141321 & 0.10983069447480723 \\\\\n",
       "-0.13298954784661182 & 0.27637785443019086 & -0.214606727766879 & 0.10983069447480706 & 1.4091305432024666\n",
       "\\end{array}\\right)\\)</html>"
      ],
      "text/latex": [
       "$\\displaystyle \\left(\\begin{array}{rrrrr}\n",
       "0.8732023112131686 & -0.4331186645623961 & 0.17520886937044824 & -0.03926293872281375 & -0.13298954784661182 \\\\\n",
       "-0.4331186645623961 & 1.0960048267668807 & -0.3435758482250316 & 0.6455637537907515 & 0.27637785443019086 \\\\\n",
       "0.17520886937044824 & -0.3435758482250316 & 0.2744728793242091 & -0.29430492185200197 & -0.214606727766879 \\\\\n",
       "-0.039262938722813806 & 0.6455637537907515 & -0.29430492185200197 & 1.214454891141321 & 0.10983069447480723 \\\\\n",
       "-0.13298954784661182 & 0.27637785443019086 & -0.214606727766879 & 0.10983069447480706 & 1.4091305432024666\n",
       "\\end{array}\\right)$"
      ],
      "text/plain": [
       "[   0.8732023112131686   -0.4331186645623961   0.17520886937044824  -0.03926293872281375  -0.13298954784661182]\n",
       "[  -0.4331186645623961    1.0960048267668807   -0.3435758482250316    0.6455637537907515   0.27637785443019086]\n",
       "[  0.17520886937044824   -0.3435758482250316    0.2744728793242091  -0.29430492185200197    -0.214606727766879]\n",
       "[-0.039262938722813806    0.6455637537907515  -0.29430492185200197     1.214454891141321   0.10983069447480723]\n",
       "[ -0.13298954784661182   0.27637785443019086    -0.214606727766879   0.10983069447480706    1.4091305432024666]"
      ]
     },
     "execution_count": 202,
     "metadata": {},
     "output_type": "execute_result"
    }
   ],
   "source": [
    "X = U * Σ * transpose(U); X"
   ]
  },
  {
   "cell_type": "code",
   "execution_count": 203,
   "metadata": {},
   "outputs": [
    {
     "data": {
      "text/html": [
       "<html>\\(\\displaystyle \\left(\\begin{array}{rrrrr}\n",
       "-1.332 \\times 10^{-15} & 1.332 \\times 10^{-15} & -4.996 \\times 10^{-16} & 1.110 \\times 10^{-16} & 7.772 \\times 10^{-16} \\\\\n",
       "1.332 \\times 10^{-15} & -5.773 \\times 10^{-15} & 2.442 \\times 10^{-15} & -4.885 \\times 10^{-15} & -3.775 \\times 10^{-15} \\\\\n",
       "-5.551 \\times 10^{-16} & 2.442 \\times 10^{-15} & -9.437 \\times 10^{-16} & 1.998 \\times 10^{-15} & 1.776 \\times 10^{-15} \\\\\n",
       "2.776 \\times 10^{-16} & -4.885 \\times 10^{-15} & 2.109 \\times 10^{-15} & -4.885 \\times 10^{-15} & -3.442 \\times 10^{-15} \\\\\n",
       "7.772 \\times 10^{-16} & -3.553 \\times 10^{-15} & 1.776 \\times 10^{-15} & -2.998 \\times 10^{-15} & -4.885 \\times 10^{-15}\n",
       "\\end{array}\\right)\\)</html>"
      ],
      "text/latex": [
       "$\\displaystyle \\left(\\begin{array}{rrrrr}\n",
       "-1.332 \\times 10^{-15} & 1.332 \\times 10^{-15} & -4.996 \\times 10^{-16} & 1.110 \\times 10^{-16} & 7.772 \\times 10^{-16} \\\\\n",
       "1.332 \\times 10^{-15} & -5.773 \\times 10^{-15} & 2.442 \\times 10^{-15} & -4.885 \\times 10^{-15} & -3.775 \\times 10^{-15} \\\\\n",
       "-5.551 \\times 10^{-16} & 2.442 \\times 10^{-15} & -9.437 \\times 10^{-16} & 1.998 \\times 10^{-15} & 1.776 \\times 10^{-15} \\\\\n",
       "2.776 \\times 10^{-16} & -4.885 \\times 10^{-15} & 2.109 \\times 10^{-15} & -4.885 \\times 10^{-15} & -3.442 \\times 10^{-15} \\\\\n",
       "7.772 \\times 10^{-16} & -3.553 \\times 10^{-15} & 1.776 \\times 10^{-15} & -2.998 \\times 10^{-15} & -4.885 \\times 10^{-15}\n",
       "\\end{array}\\right)$"
      ],
      "text/plain": [
       "[-1.332e-15  1.332e-15 -4.996e-16  1.110e-16  7.772e-16]\n",
       "[ 1.332e-15 -5.773e-15  2.442e-15 -4.885e-15 -3.775e-15]\n",
       "[-5.551e-16  2.442e-15 -9.437e-16  1.998e-15  1.776e-15]\n",
       "[ 2.776e-16 -4.885e-15  2.109e-15 -4.885e-15 -3.442e-15]\n",
       "[ 7.772e-16 -3.553e-15  1.776e-15 -2.998e-15 -4.885e-15]"
      ]
     },
     "execution_count": 203,
     "metadata": {},
     "output_type": "execute_result"
    }
   ],
   "source": [
    "(A - X^2).n(digits = 4)"
   ]
  },
  {
   "cell_type": "markdown",
   "metadata": {},
   "source": [
    "We have $A=X^2$ modulo rounding errors.\n",
    "\n",
    "This is to be expected as\n",
    "$A=CC^T=UΣV^T(UΣV^T)^T=UΣV^TVΣU^T=UΣ^2U^T=UΣ(U^TU)ΣU^T=(UΣU^T)(UΣU^T)=X^2$, where we have used $VV^T=UU^T=1$.\n",
    "\n",
    "**Problem 8**\n",
    "\n",
    "Using Sagemath\n",
    "(a) compute the SVD of the 5 × 5 matrix A with elements Aij = (i j)/(i + 2j + 2);\n",
    "(b) compute the rank 2 approximation A2 of the matrix A;\n",
    "(c) compute the SVD of A2 and comment on any discrepancies between the singular value matrices in\n",
    "cases (a) and (b).\n",
    "\n",
    "(a)"
   ]
  },
  {
   "cell_type": "code",
   "execution_count": 204,
   "metadata": {},
   "outputs": [
    {
     "data": {
      "text/html": [
       "<html>\\(\\displaystyle \\left(\\begin{array}{rrrrr}\n",
       "\\frac{1}{5} & \\frac{2}{7} & \\frac{1}{3} & \\frac{4}{11} & \\frac{5}{13} \\\\\n",
       "\\frac{1}{3} & \\frac{1}{2} & \\frac{3}{5} & \\frac{2}{3} & \\frac{5}{7} \\\\\n",
       "\\frac{3}{7} & \\frac{2}{3} & \\frac{9}{11} & \\frac{12}{13} & 1 \\\\\n",
       "\\frac{1}{2} & \\frac{4}{5} & 1 & \\frac{8}{7} & \\frac{5}{4} \\\\\n",
       "\\frac{5}{9} & \\frac{10}{11} & \\frac{15}{13} & \\frac{4}{3} & \\frac{25}{17}\n",
       "\\end{array}\\right)\\)</html>"
      ],
      "text/latex": [
       "$\\displaystyle \\left(\\begin{array}{rrrrr}\n",
       "\\frac{1}{5} & \\frac{2}{7} & \\frac{1}{3} & \\frac{4}{11} & \\frac{5}{13} \\\\\n",
       "\\frac{1}{3} & \\frac{1}{2} & \\frac{3}{5} & \\frac{2}{3} & \\frac{5}{7} \\\\\n",
       "\\frac{3}{7} & \\frac{2}{3} & \\frac{9}{11} & \\frac{12}{13} & 1 \\\\\n",
       "\\frac{1}{2} & \\frac{4}{5} & 1 & \\frac{8}{7} & \\frac{5}{4} \\\\\n",
       "\\frac{5}{9} & \\frac{10}{11} & \\frac{15}{13} & \\frac{4}{3} & \\frac{25}{17}\n",
       "\\end{array}\\right)$"
      ],
      "text/plain": [
       "[  1/5   2/7   1/3  4/11  5/13]\n",
       "[  1/3   1/2   3/5   2/3   5/7]\n",
       "[  3/7   2/3  9/11 12/13     1]\n",
       "[  1/2   4/5     1   8/7   5/4]\n",
       "[  5/9 10/11 15/13   4/3 25/17]"
      ]
     },
     "execution_count": 204,
     "metadata": {},
     "output_type": "execute_result"
    }
   ],
   "source": [
    "A = matrix(QQ, 5, 5, lambda ii, jj: (ii+1)*(jj+1)/(ii+2*jj+5)); A"
   ]
  },
  {
   "cell_type": "code",
   "execution_count": 205,
   "metadata": {},
   "outputs": [
    {
     "data": {
      "text/html": [
       "<html>\\(\\displaystyle \\left(\\begin{array}{rrrrr}\n",
       "0.2 & 0.2857142857142857 & 0.3333333333333333 & 0.36363636363636365 & 0.38461538461538464 \\\\\n",
       "0.3333333333333333 & 0.5 & 0.6 & 0.6666666666666666 & 0.7142857142857143 \\\\\n",
       "0.42857142857142855 & 0.6666666666666666 & 0.8181818181818182 & 0.9230769230769231 & 1.0 \\\\\n",
       "0.5 & 0.8 & 1.0 & 1.1428571428571428 & 1.25 \\\\\n",
       "0.5555555555555556 & 0.9090909090909091 & 1.1538461538461537 & 1.3333333333333333 & 1.4705882352941178\n",
       "\\end{array}\\right)\\)</html>"
      ],
      "text/latex": [
       "$\\displaystyle \\left(\\begin{array}{rrrrr}\n",
       "0.2 & 0.2857142857142857 & 0.3333333333333333 & 0.36363636363636365 & 0.38461538461538464 \\\\\n",
       "0.3333333333333333 & 0.5 & 0.6 & 0.6666666666666666 & 0.7142857142857143 \\\\\n",
       "0.42857142857142855 & 0.6666666666666666 & 0.8181818181818182 & 0.9230769230769231 & 1.0 \\\\\n",
       "0.5 & 0.8 & 1.0 & 1.1428571428571428 & 1.25 \\\\\n",
       "0.5555555555555556 & 0.9090909090909091 & 1.1538461538461537 & 1.3333333333333333 & 1.4705882352941178\n",
       "\\end{array}\\right)$"
      ],
      "text/plain": [
       "[                0.2  0.2857142857142857  0.3333333333333333 0.36363636363636365 0.38461538461538464]\n",
       "[ 0.3333333333333333                 0.5                 0.6  0.6666666666666666  0.7142857142857143]\n",
       "[0.42857142857142855  0.6666666666666666  0.8181818181818182  0.9230769230769231                 1.0]\n",
       "[                0.5                 0.8                 1.0  1.1428571428571428                1.25]\n",
       "[ 0.5555555555555556  0.9090909090909091  1.1538461538461537  1.3333333333333333  1.4705882352941178]"
      ]
     },
     "execution_count": 205,
     "metadata": {},
     "output_type": "execute_result"
    }
   ],
   "source": [
    "AA = A.change_ring(RDF); AA"
   ]
  },
  {
   "cell_type": "code",
   "execution_count": 206,
   "metadata": {},
   "outputs": [
    {
     "data": {
      "text/html": [
       "<html>\\(\\displaystyle \\left(\\begin{array}{rrrrr}\n",
       "-0.1759 & -0.5473 & 0.6814 & -0.4306 & -0.1406 \\\\\n",
       "-0.3185 & -0.5503 & -0.03729 & 0.6215 & 0.4562 \\\\\n",
       "-0.4369 & -0.2891 & -0.4868 & 0.003925 & -0.6990 \\\\\n",
       "-0.5371 & 0.1013 & -0.3185 & -0.5807 & 0.5124 \\\\\n",
       "-0.6231 & 0.5512 & 0.4426 & 0.3017 & -0.1450\n",
       "\\end{array}\\right)\\)</html>"
      ],
      "text/latex": [
       "$\\displaystyle \\left(\\begin{array}{rrrrr}\n",
       "-0.1759 & -0.5473 & 0.6814 & -0.4306 & -0.1406 \\\\\n",
       "-0.3185 & -0.5503 & -0.03729 & 0.6215 & 0.4562 \\\\\n",
       "-0.4369 & -0.2891 & -0.4868 & 0.003925 & -0.6990 \\\\\n",
       "-0.5371 & 0.1013 & -0.3185 & -0.5807 & 0.5124 \\\\\n",
       "-0.6231 & 0.5512 & 0.4426 & 0.3017 & -0.1450\n",
       "\\end{array}\\right)$"
      ],
      "text/plain": [
       "[ -0.1759  -0.5473   0.6814  -0.4306  -0.1406]\n",
       "[ -0.3185  -0.5503 -0.03729   0.6215   0.4562]\n",
       "[ -0.4369  -0.2891  -0.4868 0.003925  -0.6990]\n",
       "[ -0.5371   0.1013  -0.3185  -0.5807   0.5124]\n",
       "[ -0.6231   0.5512   0.4426   0.3017  -0.1450]"
      ]
     },
     "execution_count": 206,
     "metadata": {},
     "output_type": "execute_result"
    }
   ],
   "source": [
    "U, Σ, V = AA.SVD()\n",
    "U.n(digits = 4)"
   ]
  },
  {
   "cell_type": "code",
   "execution_count": 207,
   "metadata": {},
   "outputs": [
    {
     "data": {
      "text/html": [
       "<html>\\(\\displaystyle \\left(\\begin{array}{rrrrr}\n",
       "4.062 & 0.0000 & 0.0000 & 0.0000 & 0.0000 \\\\\n",
       "0.0000 & 0.08838 & 0.0000 & 0.0000 & 0.0000 \\\\\n",
       "0.0000 & 0.0000 & 0.002855 & 0.0000 & 0.0000 \\\\\n",
       "0.0000 & 0.0000 & 0.0000 & 0.00006152 & 0.0000 \\\\\n",
       "0.0000 & 0.0000 & 0.0000 & 0.0000 & 5.600 \\times 10^{-7}\n",
       "\\end{array}\\right)\\)</html>"
      ],
      "text/latex": [
       "$\\displaystyle \\left(\\begin{array}{rrrrr}\n",
       "4.062 & 0.0000 & 0.0000 & 0.0000 & 0.0000 \\\\\n",
       "0.0000 & 0.08838 & 0.0000 & 0.0000 & 0.0000 \\\\\n",
       "0.0000 & 0.0000 & 0.002855 & 0.0000 & 0.0000 \\\\\n",
       "0.0000 & 0.0000 & 0.0000 & 0.00006152 & 0.0000 \\\\\n",
       "0.0000 & 0.0000 & 0.0000 & 0.0000 & 5.600 \\times 10^{-7}\n",
       "\\end{array}\\right)$"
      ],
      "text/plain": [
       "[     4.062     0.0000     0.0000     0.0000     0.0000]\n",
       "[    0.0000    0.08838     0.0000     0.0000     0.0000]\n",
       "[    0.0000     0.0000   0.002855     0.0000     0.0000]\n",
       "[    0.0000     0.0000     0.0000 0.00006152     0.0000]\n",
       "[    0.0000     0.0000     0.0000     0.0000   5.600e-7]"
      ]
     },
     "execution_count": 207,
     "metadata": {},
     "output_type": "execute_result"
    }
   ],
   "source": [
    "Σ.n(digits = 4)"
   ]
  },
  {
   "cell_type": "code",
   "execution_count": 208,
   "metadata": {},
   "outputs": [
    {
     "data": {
      "text/html": [
       "<html>\\(\\displaystyle \\left(\\begin{array}{rrrrr}\n",
       "-0.2323 & -0.6778 & 0.6434 & -0.2648 & -0.05085 \\\\\n",
       "-0.3686 & -0.4764 & -0.3398 & 0.6618 & 0.2896 \\\\\n",
       "-0.4588 & -0.1338 & -0.4879 & -0.3137 & -0.6597 \\\\\n",
       "-0.5230 & 0.2035 & -0.1266 & -0.4948 & 0.6513 \\\\\n",
       "-0.5712 & 0.5042 & 0.4654 & 0.3857 & -0.2327\n",
       "\\end{array}\\right)\\)</html>"
      ],
      "text/latex": [
       "$\\displaystyle \\left(\\begin{array}{rrrrr}\n",
       "-0.2323 & -0.6778 & 0.6434 & -0.2648 & -0.05085 \\\\\n",
       "-0.3686 & -0.4764 & -0.3398 & 0.6618 & 0.2896 \\\\\n",
       "-0.4588 & -0.1338 & -0.4879 & -0.3137 & -0.6597 \\\\\n",
       "-0.5230 & 0.2035 & -0.1266 & -0.4948 & 0.6513 \\\\\n",
       "-0.5712 & 0.5042 & 0.4654 & 0.3857 & -0.2327\n",
       "\\end{array}\\right)$"
      ],
      "text/plain": [
       "[ -0.2323  -0.6778   0.6434  -0.2648 -0.05085]\n",
       "[ -0.3686  -0.4764  -0.3398   0.6618   0.2896]\n",
       "[ -0.4588  -0.1338  -0.4879  -0.3137  -0.6597]\n",
       "[ -0.5230   0.2035  -0.1266  -0.4948   0.6513]\n",
       "[ -0.5712   0.5042   0.4654   0.3857  -0.2327]"
      ]
     },
     "execution_count": 208,
     "metadata": {},
     "output_type": "execute_result"
    }
   ],
   "source": [
    "V.n(digits = 4)"
   ]
  },
  {
   "cell_type": "markdown",
   "metadata": {},
   "source": [
    "(b)"
   ]
  },
  {
   "cell_type": "code",
   "execution_count": 209,
   "metadata": {},
   "outputs": [
    {
     "data": {
      "text/html": [
       "<html>\\(\\displaystyle \\left(\\begin{array}{rrrrr}\n",
       "0.1987 & 0.2864 & 0.3343 & 0.3639 & 0.3837 \\\\\n",
       "0.3334 & 0.4999 & 0.6000 & 0.6667 & 0.7143 \\\\\n",
       "0.4295 & 0.6662 & 0.8175 & 0.9229 & 1.001 \\\\\n",
       "0.5006 & 0.7997 & 0.9995 & 1.143 & 1.250 \\\\\n",
       "0.5547 & 0.9095 & 1.154 & 1.333 & 1.470\n",
       "\\end{array}\\right)\\)</html>"
      ],
      "text/latex": [
       "$\\displaystyle \\left(\\begin{array}{rrrrr}\n",
       "0.1987 & 0.2864 & 0.3343 & 0.3639 & 0.3837 \\\\\n",
       "0.3334 & 0.4999 & 0.6000 & 0.6667 & 0.7143 \\\\\n",
       "0.4295 & 0.6662 & 0.8175 & 0.9229 & 1.001 \\\\\n",
       "0.5006 & 0.7997 & 0.9995 & 1.143 & 1.250 \\\\\n",
       "0.5547 & 0.9095 & 1.154 & 1.333 & 1.470\n",
       "\\end{array}\\right)$"
      ],
      "text/plain": [
       "[0.1987 0.2864 0.3343 0.3639 0.3837]\n",
       "[0.3334 0.4999 0.6000 0.6667 0.7143]\n",
       "[0.4295 0.6662 0.8175 0.9229  1.001]\n",
       "[0.5006 0.7997 0.9995  1.143  1.250]\n",
       "[0.5547 0.9095  1.154  1.333  1.470]"
      ]
     },
     "execution_count": 209,
     "metadata": {},
     "output_type": "execute_result"
    }
   ],
   "source": [
    "u1, u2 = U.column(0), U.column(1)\n",
    "v1, v2 = V.column(0), V.column(1)\n",
    "s1, s2 = Σ[0,0], Σ[1,1]\n",
    "A2 = s1*(u1.outer_product(v1)) + s2*(u2.outer_product(v2)); A2.n(digits = 4)"
   ]
  },
  {
   "cell_type": "code",
   "execution_count": 210,
   "metadata": {},
   "outputs": [
    {
     "data": {
      "text/html": [
       "<html>\\(\\displaystyle \\left(\\begin{array}{rrrrr}\n",
       "-0.1759 & -0.5473 & 0.7656 & 0.1153 & -0.2649 \\\\\n",
       "-0.3185 & -0.5503 & -0.4630 & 0.5624 & 0.2551 \\\\\n",
       "-0.4369 & -0.2891 & -0.3649 & -0.6305 & -0.4414 \\\\\n",
       "-0.5371 & 0.1013 & 0.2505 & -0.3291 & 0.7282 \\\\\n",
       "-0.6231 & 0.5512 & 0.06045 & 0.4057 & -0.3737\n",
       "\\end{array}\\right)\\)</html>"
      ],
      "text/latex": [
       "$\\displaystyle \\left(\\begin{array}{rrrrr}\n",
       "-0.1759 & -0.5473 & 0.7656 & 0.1153 & -0.2649 \\\\\n",
       "-0.3185 & -0.5503 & -0.4630 & 0.5624 & 0.2551 \\\\\n",
       "-0.4369 & -0.2891 & -0.3649 & -0.6305 & -0.4414 \\\\\n",
       "-0.5371 & 0.1013 & 0.2505 & -0.3291 & 0.7282 \\\\\n",
       "-0.6231 & 0.5512 & 0.06045 & 0.4057 & -0.3737\n",
       "\\end{array}\\right)$"
      ],
      "text/plain": [
       "[-0.1759 -0.5473  0.7656  0.1153 -0.2649]\n",
       "[-0.3185 -0.5503 -0.4630  0.5624  0.2551]\n",
       "[-0.4369 -0.2891 -0.3649 -0.6305 -0.4414]\n",
       "[-0.5371  0.1013  0.2505 -0.3291  0.7282]\n",
       "[-0.6231  0.5512 0.06045  0.4057 -0.3737]"
      ]
     },
     "execution_count": 210,
     "metadata": {},
     "output_type": "execute_result"
    }
   ],
   "source": [
    "U2, Σ2, V2 = A2.SVD()\n",
    "U2.n(digits = 4)"
   ]
  },
  {
   "cell_type": "code",
   "execution_count": 211,
   "metadata": {},
   "outputs": [
    {
     "data": {
      "text/html": [
       "<html>\\(\\displaystyle \\left(\\begin{array}{rrrrr}\n",
       "4.062 & 0.0000 & 0.0000 & 0.0000 & 0.0000 \\\\\n",
       "0.0000 & 0.08838 & 0.0000 & 0.0000 & 0.0000 \\\\\n",
       "0.0000 & 0.0000 & 2.993 \\times 10^{-16} & 0.0000 & 0.0000 \\\\\n",
       "0.0000 & 0.0000 & 0.0000 & 8.001 \\times 10^{-17} & 0.0000 \\\\\n",
       "0.0000 & 0.0000 & 0.0000 & 0.0000 & 3.802 \\times 10^{-17}\n",
       "\\end{array}\\right)\\)</html>"
      ],
      "text/latex": [
       "$\\displaystyle \\left(\\begin{array}{rrrrr}\n",
       "4.062 & 0.0000 & 0.0000 & 0.0000 & 0.0000 \\\\\n",
       "0.0000 & 0.08838 & 0.0000 & 0.0000 & 0.0000 \\\\\n",
       "0.0000 & 0.0000 & 2.993 \\times 10^{-16} & 0.0000 & 0.0000 \\\\\n",
       "0.0000 & 0.0000 & 0.0000 & 8.001 \\times 10^{-17} & 0.0000 \\\\\n",
       "0.0000 & 0.0000 & 0.0000 & 0.0000 & 3.802 \\times 10^{-17}\n",
       "\\end{array}\\right)$"
      ],
      "text/plain": [
       "[    4.062    0.0000    0.0000    0.0000    0.0000]\n",
       "[   0.0000   0.08838    0.0000    0.0000    0.0000]\n",
       "[   0.0000    0.0000 2.993e-16    0.0000    0.0000]\n",
       "[   0.0000    0.0000    0.0000 8.001e-17    0.0000]\n",
       "[   0.0000    0.0000    0.0000    0.0000 3.802e-17]"
      ]
     },
     "execution_count": 211,
     "metadata": {},
     "output_type": "execute_result"
    }
   ],
   "source": [
    "Σ2.n(digits = 4)"
   ]
  },
  {
   "cell_type": "code",
   "execution_count": 212,
   "metadata": {},
   "outputs": [
    {
     "data": {
      "text/html": [
       "<html>\\(\\displaystyle \\left(\\begin{array}{rrrrr}\n",
       "-0.2323 & -0.6778 & -0.2587 & -0.05621 & 0.6454 \\\\\n",
       "-0.3686 & -0.4764 & 0.4480 & 0.5195 & -0.4082 \\\\\n",
       "-0.4588 & -0.1338 & 0.1141 & -0.8060 & -0.3301 \\\\\n",
       "-0.5230 & 0.2035 & -0.7445 & 0.2610 & -0.2503 \\\\\n",
       "-0.5712 & 0.5042 & 0.4062 & 0.09605 & 0.4953\n",
       "\\end{array}\\right)\\)</html>"
      ],
      "text/latex": [
       "$\\displaystyle \\left(\\begin{array}{rrrrr}\n",
       "-0.2323 & -0.6778 & -0.2587 & -0.05621 & 0.6454 \\\\\n",
       "-0.3686 & -0.4764 & 0.4480 & 0.5195 & -0.4082 \\\\\n",
       "-0.4588 & -0.1338 & 0.1141 & -0.8060 & -0.3301 \\\\\n",
       "-0.5230 & 0.2035 & -0.7445 & 0.2610 & -0.2503 \\\\\n",
       "-0.5712 & 0.5042 & 0.4062 & 0.09605 & 0.4953\n",
       "\\end{array}\\right)$"
      ],
      "text/plain": [
       "[ -0.2323  -0.6778  -0.2587 -0.05621   0.6454]\n",
       "[ -0.3686  -0.4764   0.4480   0.5195  -0.4082]\n",
       "[ -0.4588  -0.1338   0.1141  -0.8060  -0.3301]\n",
       "[ -0.5230   0.2035  -0.7445   0.2610  -0.2503]\n",
       "[ -0.5712   0.5042   0.4062  0.09605   0.4953]"
      ]
     },
     "execution_count": 212,
     "metadata": {},
     "output_type": "execute_result"
    }
   ],
   "source": [
    "V2.n(digits = 4)"
   ]
  },
  {
   "cell_type": "markdown",
   "metadata": {},
   "source": [
    "(c) Both Σ and Σ_2 matrices are diagonal. As far as the diagonal elements are concerned:\n"
   ]
  },
  {
   "cell_type": "code",
   "execution_count": 213,
   "metadata": {},
   "outputs": [
    {
     "data": {
      "text/html": [
       "<html>\\(\\displaystyle \\left(0.0000,\\,2.776 \\times 10^{-17},\\,0.002855,\\,0.00006152,\\,5.600 \\times 10^{-7}\\right)\\)</html>"
      ],
      "text/latex": [
       "$\\displaystyle \\left(0.0000,\\,2.776 \\times 10^{-17},\\,0.002855,\\,0.00006152,\\,5.600 \\times 10^{-7}\\right)$"
      ],
      "text/plain": [
       "(0.0000, 2.776e-17, 0.002855, 0.00006152, 5.600e-7)"
      ]
     },
     "execution_count": 213,
     "metadata": {},
     "output_type": "execute_result"
    }
   ],
   "source": [
    "D = vector(RDF, [Σ[0,0] - Σ2[0,0], Σ[1,1]-Σ2[1,1], Σ[2,2]-Σ2[2,2], Σ[3,3]-Σ2[3,3], Σ[4,4]-Σ2[4,4]])\n",
    "D.n(digits = 4)"
   ]
  },
  {
   "cell_type": "markdown",
   "metadata": {},
   "source": [
    "That is, therer are small discrepancies due to round off errors for the forst two elements and relatively large differences in the other two, as they were not\\\n",
    "included in the rank-2 approximation.\n",
    "\n",
    "\n",
    "### Unit 4\n",
    "\n",
    "**Problem 7**"
   ]
  }
 ],
 "metadata": {
  "kernelspec": {
   "display_name": "SageMath 10.3",
   "language": "sage",
   "name": "sagemath"
  },
  "language_info": {
   "codemirror_mode": {
    "name": "ipython",
    "version": 3
   },
   "file_extension": ".py",
   "mimetype": "text/x-python",
   "name": "python",
   "nbconvert_exporter": "python",
   "pygments_lexer": "ipython3",
   "version": "3.11.9"
  }
 },
 "nbformat": 4,
 "nbformat_minor": 4
}
