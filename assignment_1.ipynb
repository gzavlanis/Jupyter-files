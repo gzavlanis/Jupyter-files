{
 "cells": [
  {
   "cell_type": "markdown",
   "metadata": {},
   "source": [
    "# DAMA50: Mathematics for machine learning\n",
    "\n",
    "## Written assignment 1\n",
    "\n",
    "### Question 7\n",
    "\n",
    "a. We compute the matrix as follows:"
   ]
  },
  {
   "cell_type": "code",
   "execution_count": 1,
   "metadata": {
    "vscode": {
     "languageId": "python"
    }
   },
   "outputs": [],
   "source": [
    "%display latex"
   ]
  },
  {
   "cell_type": "code",
   "execution_count": 2,
   "metadata": {
    "vscode": {
     "languageId": "python"
    }
   },
   "outputs": [
    {
     "data": {
      "text/html": [
       "<html><script type=\"math/tex; mode=display\">\\newcommand{\\Bold}[1]{\\mathbf{#1}}\\left(\\begin{array}{rrrrrrrr}\n",
       "2 & 3 & 0 & 1 & -2 & -1 & -4 & -3 \\\\\n",
       "3 & 8 & 5 & 10 & 7 & 12 & 9 & 14 \\\\\n",
       "0 & 5 & -2 & 3 & -4 & 1 & -6 & -1 \\\\\n",
       "1 & 10 & 3 & 12 & 5 & 14 & 7 & 16 \\\\\n",
       "-2 & 7 & -4 & 5 & -6 & 3 & -8 & 1 \\\\\n",
       "-1 & 12 & 1 & 14 & 3 & 16 & 5 & 18 \\\\\n",
       "-4 & 9 & -6 & 7 & -8 & 5 & -10 & 3 \\\\\n",
       "-3 & 14 & -1 & 16 & 1 & 18 & 3 & 20\n",
       "\\end{array}\\right)</script></html>"
      ],
      "text/latex": [
       "$$\\newcommand{\\Bold}[1]{\\mathbf{#1}}\\left(\\begin{array}{rrrrrrrr}\n",
       "2 & 3 & 0 & 1 & -2 & -1 & -4 & -3 \\\\\n",
       "3 & 8 & 5 & 10 & 7 & 12 & 9 & 14 \\\\\n",
       "0 & 5 & -2 & 3 & -4 & 1 & -6 & -1 \\\\\n",
       "1 & 10 & 3 & 12 & 5 & 14 & 7 & 16 \\\\\n",
       "-2 & 7 & -4 & 5 & -6 & 3 & -8 & 1 \\\\\n",
       "-1 & 12 & 1 & 14 & 3 & 16 & 5 & 18 \\\\\n",
       "-4 & 9 & -6 & 7 & -8 & 5 & -10 & 3 \\\\\n",
       "-3 & 14 & -1 & 16 & 1 & 18 & 3 & 20\n",
       "\\end{array}\\right)$$"
      ],
      "text/plain": [
       "[  2   3   0   1  -2  -1  -4  -3]\n",
       "[  3   8   5  10   7  12   9  14]\n",
       "[  0   5  -2   3  -4   1  -6  -1]\n",
       "[  1  10   3  12   5  14   7  16]\n",
       "[ -2   7  -4   5  -6   3  -8   1]\n",
       "[ -1  12   1  14   3  16   5  18]\n",
       "[ -4   9  -6   7  -8   5 -10   3]\n",
       "[ -3  14  -1  16   1  18   3  20]"
      ]
     },
     "execution_count": 2,
     "metadata": {},
     "output_type": "execute_result"
    }
   ],
   "source": [
    "k = 4\n",
    "\n",
    "numbers = []\n",
    "for i in range(1, 9):\n",
    "    for j in range(1, 9):\n",
    "        numbers.append(j * (-1)^i + i * (-1)^ j + k)\n",
    "        \n",
    "A = matrix(8, 8, numbers)\n",
    "\n",
    "A"
   ]
  },
  {
   "cell_type": "markdown",
   "metadata": {},
   "source": [
    "b. We must compute the $ A^T $ first:"
   ]
  },
  {
   "cell_type": "code",
   "execution_count": 3,
   "metadata": {
    "vscode": {
     "languageId": "python"
    }
   },
   "outputs": [
    {
     "data": {
      "text/html": [
       "<html><script type=\"math/tex; mode=display\">\\newcommand{\\Bold}[1]{\\mathbf{#1}}\\left(\\begin{array}{rrrrrrrr}\n",
       "2 & 3 & 0 & 1 & -2 & -1 & -4 & -3 \\\\\n",
       "3 & 8 & 5 & 10 & 7 & 12 & 9 & 14 \\\\\n",
       "0 & 5 & -2 & 3 & -4 & 1 & -6 & -1 \\\\\n",
       "1 & 10 & 3 & 12 & 5 & 14 & 7 & 16 \\\\\n",
       "-2 & 7 & -4 & 5 & -6 & 3 & -8 & 1 \\\\\n",
       "-1 & 12 & 1 & 14 & 3 & 16 & 5 & 18 \\\\\n",
       "-4 & 9 & -6 & 7 & -8 & 5 & -10 & 3 \\\\\n",
       "-3 & 14 & -1 & 16 & 1 & 18 & 3 & 20\n",
       "\\end{array}\\right)</script></html>"
      ],
      "text/latex": [
       "$$\\newcommand{\\Bold}[1]{\\mathbf{#1}}\\left(\\begin{array}{rrrrrrrr}\n",
       "2 & 3 & 0 & 1 & -2 & -1 & -4 & -3 \\\\\n",
       "3 & 8 & 5 & 10 & 7 & 12 & 9 & 14 \\\\\n",
       "0 & 5 & -2 & 3 & -4 & 1 & -6 & -1 \\\\\n",
       "1 & 10 & 3 & 12 & 5 & 14 & 7 & 16 \\\\\n",
       "-2 & 7 & -4 & 5 & -6 & 3 & -8 & 1 \\\\\n",
       "-1 & 12 & 1 & 14 & 3 & 16 & 5 & 18 \\\\\n",
       "-4 & 9 & -6 & 7 & -8 & 5 & -10 & 3 \\\\\n",
       "-3 & 14 & -1 & 16 & 1 & 18 & 3 & 20\n",
       "\\end{array}\\right)$$"
      ],
      "text/plain": [
       "[  2   3   0   1  -2  -1  -4  -3]\n",
       "[  3   8   5  10   7  12   9  14]\n",
       "[  0   5  -2   3  -4   1  -6  -1]\n",
       "[  1  10   3  12   5  14   7  16]\n",
       "[ -2   7  -4   5  -6   3  -8   1]\n",
       "[ -1  12   1  14   3  16   5  18]\n",
       "[ -4   9  -6   7  -8   5 -10   3]\n",
       "[ -3  14  -1  16   1  18   3  20]"
      ]
     },
     "execution_count": 3,
     "metadata": {},
     "output_type": "execute_result"
    }
   ],
   "source": [
    "A.T"
   ]
  },
  {
   "cell_type": "markdown",
   "metadata": {},
   "source": [
    "We notice that, $ A = A^T $ therefore the A is called **\"Symmetric\"**."
   ]
  },
  {
   "cell_type": "code",
   "execution_count": 4,
   "metadata": {
    "vscode": {
     "languageId": "python"
    }
   },
   "outputs": [
    {
     "data": {
      "text/html": [
       "<html><script type=\"math/tex; mode=display\">\\newcommand{\\Bold}[1]{\\mathbf{#1}}\\left(\\begin{array}{rrrrrrrr}\n",
       "44 & -64 & 52 & -56 & 60 & -48 & 68 & -40 \\\\\n",
       "-64 & 668 & -24 & 708 & 16 & 748 & 56 & 788 \\\\\n",
       "52 & -24 & 92 & 16 & 132 & 56 & 172 & 96 \\\\\n",
       "-56 & 708 & 16 & 780 & 88 & 852 & 160 & 924 \\\\\n",
       "60 & 16 & 132 & 88 & 204 & 160 & 276 & 232 \\\\\n",
       "-48 & 748 & 56 & 852 & 160 & 956 & 264 & 1060 \\\\\n",
       "68 & 56 & 172 & 160 & 276 & 264 & 380 & 368 \\\\\n",
       "-40 & 788 & 96 & 924 & 232 & 1060 & 368 & 1196\n",
       "\\end{array}\\right)</script></html>"
      ],
      "text/latex": [
       "$$\\newcommand{\\Bold}[1]{\\mathbf{#1}}\\left(\\begin{array}{rrrrrrrr}\n",
       "44 & -64 & 52 & -56 & 60 & -48 & 68 & -40 \\\\\n",
       "-64 & 668 & -24 & 708 & 16 & 748 & 56 & 788 \\\\\n",
       "52 & -24 & 92 & 16 & 132 & 56 & 172 & 96 \\\\\n",
       "-56 & 708 & 16 & 780 & 88 & 852 & 160 & 924 \\\\\n",
       "60 & 16 & 132 & 88 & 204 & 160 & 276 & 232 \\\\\n",
       "-48 & 748 & 56 & 852 & 160 & 956 & 264 & 1060 \\\\\n",
       "68 & 56 & 172 & 160 & 276 & 264 & 380 & 368 \\\\\n",
       "-40 & 788 & 96 & 924 & 232 & 1060 & 368 & 1196\n",
       "\\end{array}\\right)$$"
      ],
      "text/plain": [
       "[  44  -64   52  -56   60  -48   68  -40]\n",
       "[ -64  668  -24  708   16  748   56  788]\n",
       "[  52  -24   92   16  132   56  172   96]\n",
       "[ -56  708   16  780   88  852  160  924]\n",
       "[  60   16  132   88  204  160  276  232]\n",
       "[ -48  748   56  852  160  956  264 1060]\n",
       "[  68   56  172  160  276  264  380  368]\n",
       "[ -40  788   96  924  232 1060  368 1196]"
      ]
     },
     "execution_count": 4,
     "metadata": {},
     "output_type": "execute_result"
    }
   ],
   "source": [
    "D = A * A.T\n",
    "D"
   ]
  },
  {
   "cell_type": "code",
   "execution_count": 5,
   "metadata": {
    "vscode": {
     "languageId": "python"
    }
   },
   "outputs": [
    {
     "data": {
      "text/html": [
       "<html><script type=\"math/tex; mode=display\">\\newcommand{\\Bold}[1]{\\mathbf{#1}}\\left(\\begin{array}{rrrrrrrr}\n",
       "1 & 0 & 0 & -1 & -1 & -2 & -2 & -3 \\\\\n",
       "0 & 1 & 0 & 1 & 0 & 1 & 0 & 1 \\\\\n",
       "0 & 0 & 1 & 1 & 2 & 2 & 3 & 3 \\\\\n",
       "0 & 0 & 0 & 0 & 0 & 0 & 0 & 0 \\\\\n",
       "0 & 0 & 0 & 0 & 0 & 0 & 0 & 0 \\\\\n",
       "0 & 0 & 0 & 0 & 0 & 0 & 0 & 0 \\\\\n",
       "0 & 0 & 0 & 0 & 0 & 0 & 0 & 0 \\\\\n",
       "0 & 0 & 0 & 0 & 0 & 0 & 0 & 0\n",
       "\\end{array}\\right)</script></html>"
      ],
      "text/latex": [
       "$$\\newcommand{\\Bold}[1]{\\mathbf{#1}}\\left(\\begin{array}{rrrrrrrr}\n",
       "1 & 0 & 0 & -1 & -1 & -2 & -2 & -3 \\\\\n",
       "0 & 1 & 0 & 1 & 0 & 1 & 0 & 1 \\\\\n",
       "0 & 0 & 1 & 1 & 2 & 2 & 3 & 3 \\\\\n",
       "0 & 0 & 0 & 0 & 0 & 0 & 0 & 0 \\\\\n",
       "0 & 0 & 0 & 0 & 0 & 0 & 0 & 0 \\\\\n",
       "0 & 0 & 0 & 0 & 0 & 0 & 0 & 0 \\\\\n",
       "0 & 0 & 0 & 0 & 0 & 0 & 0 & 0 \\\\\n",
       "0 & 0 & 0 & 0 & 0 & 0 & 0 & 0\n",
       "\\end{array}\\right)$$"
      ],
      "text/plain": [
       "[ 1  0  0 -1 -1 -2 -2 -3]\n",
       "[ 0  1  0  1  0  1  0  1]\n",
       "[ 0  0  1  1  2  2  3  3]\n",
       "[ 0  0  0  0  0  0  0  0]\n",
       "[ 0  0  0  0  0  0  0  0]\n",
       "[ 0  0  0  0  0  0  0  0]\n",
       "[ 0  0  0  0  0  0  0  0]\n",
       "[ 0  0  0  0  0  0  0  0]"
      ]
     },
     "execution_count": 5,
     "metadata": {},
     "output_type": "execute_result"
    }
   ],
   "source": [
    "D.rref()"
   ]
  },
  {
   "cell_type": "markdown",
   "metadata": {},
   "source": [
    "c. To compute the rank of A we do the following:"
   ]
  },
  {
   "cell_type": "code",
   "execution_count": 6,
   "metadata": {
    "vscode": {
     "languageId": "python"
    }
   },
   "outputs": [
    {
     "data": {
      "text/html": [
       "<html><script type=\"math/tex; mode=display\">\\newcommand{\\Bold}[1]{\\mathbf{#1}}3</script></html>"
      ],
      "text/latex": [
       "$$\\newcommand{\\Bold}[1]{\\mathbf{#1}}3$$"
      ],
      "text/plain": [
       "3"
      ]
     },
     "execution_count": 6,
     "metadata": {},
     "output_type": "execute_result"
    }
   ],
   "source": [
    "A.rank()"
   ]
  },
  {
   "cell_type": "markdown",
   "metadata": {},
   "source": [
    "d. For the solution of the next question, first we need to calculate the expression: $ A^2 - A + 1 $, where 1 is the 8 x 8 identity matrix:"
   ]
  },
  {
   "cell_type": "code",
   "execution_count": 7,
   "metadata": {
    "vscode": {
     "languageId": "python"
    }
   },
   "outputs": [
    {
     "name": "stdout",
     "output_type": "stream",
     "text": [
      "[1 0 0 0 0 0 0 0]\n",
      "[0 1 0 0 0 0 0 0]\n",
      "[0 0 1 0 0 0 0 0]\n",
      "[0 0 0 1 0 0 0 0]\n",
      "[0 0 0 0 1 0 0 0]\n",
      "[0 0 0 0 0 1 0 0]\n",
      "[0 0 0 0 0 0 1 0]\n",
      "[0 0 0 0 0 0 0 1]\n",
      " \n",
      "[  44  -64   52  -56   60  -48   68  -40]\n",
      "[ -64  668  -24  708   16  748   56  788]\n",
      "[  52  -24   92   16  132   56  172   96]\n",
      "[ -56  708   16  780   88  852  160  924]\n",
      "[  60   16  132   88  204  160  276  232]\n",
      "[ -48  748   56  852  160  956  264 1060]\n",
      "[  68   56  172  160  276  264  380  368]\n",
      "[ -40  788   96  924  232 1060  368 1196]\n",
      " \n",
      "[  43  -67   52  -57   62  -47   72  -37]\n",
      "[ -67  661  -29  698    9  736   47  774]\n",
      "[  52  -29   95   13  136   55  178   97]\n",
      "[ -57  698   13  769   83  838  153  908]\n",
      "[  62    9  136   83  211  157  284  231]\n",
      "[ -47  736   55  838  157  941  259 1042]\n",
      "[  72   47  178  153  284  259  391  365]\n",
      "[ -37  774   97  908  231 1042  365 1177]\n",
      " \n",
      "93227241\n"
     ]
    }
   ],
   "source": [
    "I = identity_matrix(8, 8)\n",
    "print(I)\n",
    "\n",
    "B = A * A\n",
    "print(' ')\n",
    "print(B)\n",
    "\n",
    "C = (B - A) + I\n",
    "print(' ')\n",
    "print(C)\n",
    "\n",
    "print(' ')\n",
    "print(C.determinant())"
   ]
  },
  {
   "cell_type": "markdown",
   "metadata": {},
   "source": [
    "### Question 8\n",
    "\n",
    "a."
   ]
  },
  {
   "cell_type": "code",
   "execution_count": 8,
   "metadata": {
    "vscode": {
     "languageId": "python"
    }
   },
   "outputs": [
    {
     "data": {
      "text/html": [
       "<html><script type=\"math/tex; mode=display\">\\newcommand{\\Bold}[1]{\\mathbf{#1}}\\left[\\left[x = -\\frac{b^{3} + b^{2} - a + b - 2}{a^{2} + 2 \\, a - 3}, y = -\\frac{b^{3} - a b + b^{2} - 2 \\, b + 1}{a^{2} + 2 \\, a - 3}, z = \\frac{a b^{2} - b^{3} + 2 \\, b^{2} - b - 1}{a^{2} + 2 \\, a - 3}, t = \\frac{a b^{3} + 2 \\, b^{3} - b^{2} - b - 1}{a^{2} + 2 \\, a - 3}\\right]\\right]</script></html>"
      ],
      "text/latex": [
       "$$\\newcommand{\\Bold}[1]{\\mathbf{#1}}\\left[\\left[x = -\\frac{b^{3} + b^{2} - a + b - 2}{a^{2} + 2 \\, a - 3}, y = -\\frac{b^{3} - a b + b^{2} - 2 \\, b + 1}{a^{2} + 2 \\, a - 3}, z = \\frac{a b^{2} - b^{3} + 2 \\, b^{2} - b - 1}{a^{2} + 2 \\, a - 3}, t = \\frac{a b^{3} + 2 \\, b^{3} - b^{2} - b - 1}{a^{2} + 2 \\, a - 3}\\right]\\right]$$"
      ],
      "text/plain": [
       "[[x == -(b^3 + b^2 - a + b - 2)/(a^2 + 2*a - 3), y == -(b^3 - a*b + b^2 - 2*b + 1)/(a^2 + 2*a - 3), z == (a*b^2 - b^3 + 2*b^2 - b - 1)/(a^2 + 2*a - 3), t == (a*b^3 + 2*b^3 - b^2 - b - 1)/(a^2 + 2*a - 3)]]"
      ]
     },
     "execution_count": 8,
     "metadata": {},
     "output_type": "execute_result"
    }
   ],
   "source": [
    "x, y, z, t, a, b = var('x y z t a b')\n",
    "solve([a*x + y + z + t ==1, x + a*y + z + t == b, x + y + a*z + t == b^2, x + y + z + a*t == b^3], x, y, z, t)"
   ]
  },
  {
   "cell_type": "markdown",
   "metadata": {},
   "source": [
    "b. We write the system as a Matrix:"
   ]
  },
  {
   "cell_type": "code",
   "execution_count": 9,
   "metadata": {
    "vscode": {
     "languageId": "python"
    }
   },
   "outputs": [
    {
     "data": {
      "text/html": [
       "<html><script type=\"math/tex; mode=display\">\\newcommand{\\Bold}[1]{\\mathbf{#1}}\\left(\\begin{array}{rrrr|r}\n",
       "a & 1 & 1 & 1 & 1 \\\\\n",
       "1 & a & 1 & 1 & b \\\\\n",
       "1 & 1 & a & 1 & b^{2} \\\\\n",
       "1 & 1 & 1 & a & b^{3}\n",
       "\\end{array}\\right)</script></html>"
      ],
      "text/latex": [
       "$$\\newcommand{\\Bold}[1]{\\mathbf{#1}}\\left(\\begin{array}{rrrr|r}\n",
       "a & 1 & 1 & 1 & 1 \\\\\n",
       "1 & a & 1 & 1 & b \\\\\n",
       "1 & 1 & a & 1 & b^{2} \\\\\n",
       "1 & 1 & 1 & a & b^{3}\n",
       "\\end{array}\\right)$$"
      ],
      "text/plain": [
       "[  a   1   1   1|  1]\n",
       "[  1   a   1   1|  b]\n",
       "[  1   1   a   1|b^2]\n",
       "[  1   1   1   a|b^3]"
      ]
     },
     "execution_count": 9,
     "metadata": {},
     "output_type": "execute_result"
    }
   ],
   "source": [
    "k = matrix([[a, 1, 1, 1], [1, a, 1, 1], [1, 1, a, 1], [1, 1, 1, a]])\n",
    "x = vector([1, b, b^2, b^3])\n",
    "M = k.augment(x, subdivide = True)\n",
    "M"
   ]
  },
  {
   "cell_type": "markdown",
   "metadata": {},
   "source": [
    "Then, we transform the matrix in Row Echelon form, The rows of the matrix will be:"
   ]
  },
  {
   "cell_type": "code",
   "execution_count": 10,
   "metadata": {
    "vscode": {
     "languageId": "python"
    }
   },
   "outputs": [
    {
     "data": {
      "text/html": [
       "<html><script type=\"math/tex; mode=display\">\\newcommand{\\Bold}[1]{\\mathbf{#1}}\\left(\\begin{array}{rrrrr}\n",
       "1 & 0 & 0 & 0 & -\\frac{{\\left(b^{3} + \\frac{{\\left(b^{2} + \\frac{{\\left(b - \\frac{1}{a}\\right)} {\\left(\\frac{1}{a} - 1\\right)}}{a - \\frac{1}{a}} - \\frac{1}{a}\\right)} {\\left(\\frac{{\\left(\\frac{1}{a} - 1\\right)}^{2}}{a - \\frac{1}{a}} + \\frac{1}{a} - 1\\right)}}{a - \\frac{{\\left(\\frac{1}{a} - 1\\right)}^{2}}{a - \\frac{1}{a}} - \\frac{1}{a}} + \\frac{{\\left(b - \\frac{1}{a}\\right)} {\\left(\\frac{1}{a} - 1\\right)}}{a - \\frac{1}{a}} - \\frac{1}{a}\\right)} {\\left(\\frac{{\\left(\\frac{{\\left(\\frac{1}{a} - 1\\right)}^{2}}{a - \\frac{1}{a}} + \\frac{1}{a} - 1\\right)} {\\left(\\frac{1}{a} + \\frac{\\frac{1}{a} - 1}{{\\left(a - \\frac{1}{a}\\right)} a}\\right)}}{a - \\frac{{\\left(\\frac{1}{a} - 1\\right)}^{2}}{a - \\frac{1}{a}} - \\frac{1}{a}} + \\frac{1}{a} + \\frac{\\frac{1}{a} - 1}{{\\left(a - \\frac{1}{a}\\right)} a}\\right)}}{a - \\frac{{\\left(\\frac{{\\left(\\frac{1}{a} - 1\\right)}^{2}}{a - \\frac{1}{a}} + \\frac{1}{a} - 1\\right)}^{2}}{a - \\frac{{\\left(\\frac{1}{a} - 1\\right)}^{2}}{a - \\frac{1}{a}} - \\frac{1}{a}} - \\frac{{\\left(\\frac{1}{a} - 1\\right)}^{2}}{a - \\frac{1}{a}} - \\frac{1}{a}} - \\frac{{\\left(b^{2} + \\frac{{\\left(b - \\frac{1}{a}\\right)} {\\left(\\frac{1}{a} - 1\\right)}}{a - \\frac{1}{a}} - \\frac{1}{a}\\right)} {\\left(\\frac{1}{a} + \\frac{\\frac{1}{a} - 1}{{\\left(a - \\frac{1}{a}\\right)} a}\\right)}}{a - \\frac{{\\left(\\frac{1}{a} - 1\\right)}^{2}}{a - \\frac{1}{a}} - \\frac{1}{a}} + \\frac{1}{a} - \\frac{b - \\frac{1}{a}}{{\\left(a - \\frac{1}{a}\\right)} a}\n",
       "\\end{array}\\right)</script></html>"
      ],
      "text/latex": [
       "$$\\newcommand{\\Bold}[1]{\\mathbf{#1}}\\left(\\begin{array}{rrrrr}\n",
       "1 & 0 & 0 & 0 & -\\frac{{\\left(b^{3} + \\frac{{\\left(b^{2} + \\frac{{\\left(b - \\frac{1}{a}\\right)} {\\left(\\frac{1}{a} - 1\\right)}}{a - \\frac{1}{a}} - \\frac{1}{a}\\right)} {\\left(\\frac{{\\left(\\frac{1}{a} - 1\\right)}^{2}}{a - \\frac{1}{a}} + \\frac{1}{a} - 1\\right)}}{a - \\frac{{\\left(\\frac{1}{a} - 1\\right)}^{2}}{a - \\frac{1}{a}} - \\frac{1}{a}} + \\frac{{\\left(b - \\frac{1}{a}\\right)} {\\left(\\frac{1}{a} - 1\\right)}}{a - \\frac{1}{a}} - \\frac{1}{a}\\right)} {\\left(\\frac{{\\left(\\frac{{\\left(\\frac{1}{a} - 1\\right)}^{2}}{a - \\frac{1}{a}} + \\frac{1}{a} - 1\\right)} {\\left(\\frac{1}{a} + \\frac{\\frac{1}{a} - 1}{{\\left(a - \\frac{1}{a}\\right)} a}\\right)}}{a - \\frac{{\\left(\\frac{1}{a} - 1\\right)}^{2}}{a - \\frac{1}{a}} - \\frac{1}{a}} + \\frac{1}{a} + \\frac{\\frac{1}{a} - 1}{{\\left(a - \\frac{1}{a}\\right)} a}\\right)}}{a - \\frac{{\\left(\\frac{{\\left(\\frac{1}{a} - 1\\right)}^{2}}{a - \\frac{1}{a}} + \\frac{1}{a} - 1\\right)}^{2}}{a - \\frac{{\\left(\\frac{1}{a} - 1\\right)}^{2}}{a - \\frac{1}{a}} - \\frac{1}{a}} - \\frac{{\\left(\\frac{1}{a} - 1\\right)}^{2}}{a - \\frac{1}{a}} - \\frac{1}{a}} - \\frac{{\\left(b^{2} + \\frac{{\\left(b - \\frac{1}{a}\\right)} {\\left(\\frac{1}{a} - 1\\right)}}{a - \\frac{1}{a}} - \\frac{1}{a}\\right)} {\\left(\\frac{1}{a} + \\frac{\\frac{1}{a} - 1}{{\\left(a - \\frac{1}{a}\\right)} a}\\right)}}{a - \\frac{{\\left(\\frac{1}{a} - 1\\right)}^{2}}{a - \\frac{1}{a}} - \\frac{1}{a}} + \\frac{1}{a} - \\frac{b - \\frac{1}{a}}{{\\left(a - \\frac{1}{a}\\right)} a}\n",
       "\\end{array}\\right)$$"
      ],
      "text/plain": [
       "[                                                                                                                                                                                                                                                                                                                                                                                                                                                                                                                                                             1                                                                                                                                                                                                                                                                                                                                                                                                                                                                                                                                                              0                                                                                                                                                                                                                                                                                                                                                                                                                                                                                                                                                              0                                                                                                                                                                                                                                                                                                                                                                                                                                                                                                                                                              0 -(b^3 + (b^2 + (b - 1/a)*(1/a - 1)/(a - 1/a) - 1/a)*((1/a - 1)^2/(a - 1/a) + 1/a - 1)/(a - (1/a - 1)^2/(a - 1/a) - 1/a) + (b - 1/a)*(1/a - 1)/(a - 1/a) - 1/a)*(((1/a - 1)^2/(a - 1/a) + 1/a - 1)*(1/a + (1/a - 1)/((a - 1/a)*a))/(a - (1/a - 1)^2/(a - 1/a) - 1/a) + 1/a + (1/a - 1)/((a - 1/a)*a))/(a - ((1/a - 1)^2/(a - 1/a) + 1/a - 1)^2/(a - (1/a - 1)^2/(a - 1/a) - 1/a) - (1/a - 1)^2/(a - 1/a) - 1/a) - (b^2 + (b - 1/a)*(1/a - 1)/(a - 1/a) - 1/a)*(1/a + (1/a - 1)/((a - 1/a)*a))/(a - (1/a - 1)^2/(a - 1/a) - 1/a) + 1/a - (b - 1/a)/((a - 1/a)*a)]"
      ]
     },
     "execution_count": 10,
     "metadata": {},
     "output_type": "execute_result"
    }
   ],
   "source": [
    "N = M.echelon_form()\n",
    "N[0, :]"
   ]
  },
  {
   "cell_type": "code",
   "execution_count": 11,
   "metadata": {
    "vscode": {
     "languageId": "python"
    }
   },
   "outputs": [
    {
     "data": {
      "text/html": [
       "<html><script type=\"math/tex; mode=display\">\\newcommand{\\Bold}[1]{\\mathbf{#1}}\\left(\\begin{array}{rrrrr}\n",
       "0 & 1 & 0 & 0 & \\frac{{\\left(b^{3} + \\frac{{\\left(b^{2} + \\frac{{\\left(b - \\frac{1}{a}\\right)} {\\left(\\frac{1}{a} - 1\\right)}}{a - \\frac{1}{a}} - \\frac{1}{a}\\right)} {\\left(\\frac{{\\left(\\frac{1}{a} - 1\\right)}^{2}}{a - \\frac{1}{a}} + \\frac{1}{a} - 1\\right)}}{a - \\frac{{\\left(\\frac{1}{a} - 1\\right)}^{2}}{a - \\frac{1}{a}} - \\frac{1}{a}} + \\frac{{\\left(b - \\frac{1}{a}\\right)} {\\left(\\frac{1}{a} - 1\\right)}}{a - \\frac{1}{a}} - \\frac{1}{a}\\right)} {\\left(\\frac{\\frac{1}{a} - 1}{a - \\frac{1}{a}} + \\frac{{\\left(\\frac{{\\left(\\frac{1}{a} - 1\\right)}^{2}}{a - \\frac{1}{a}} + \\frac{1}{a} - 1\\right)} {\\left(\\frac{1}{a} - 1\\right)}}{{\\left(a - \\frac{{\\left(\\frac{1}{a} - 1\\right)}^{2}}{a - \\frac{1}{a}} - \\frac{1}{a}\\right)} {\\left(a - \\frac{1}{a}\\right)}}\\right)}}{a - \\frac{{\\left(\\frac{{\\left(\\frac{1}{a} - 1\\right)}^{2}}{a - \\frac{1}{a}} + \\frac{1}{a} - 1\\right)}^{2}}{a - \\frac{{\\left(\\frac{1}{a} - 1\\right)}^{2}}{a - \\frac{1}{a}} - \\frac{1}{a}} - \\frac{{\\left(\\frac{1}{a} - 1\\right)}^{2}}{a - \\frac{1}{a}} - \\frac{1}{a}} + \\frac{b - \\frac{1}{a}}{a - \\frac{1}{a}} + \\frac{{\\left(b^{2} + \\frac{{\\left(b - \\frac{1}{a}\\right)} {\\left(\\frac{1}{a} - 1\\right)}}{a - \\frac{1}{a}} - \\frac{1}{a}\\right)} {\\left(\\frac{1}{a} - 1\\right)}}{{\\left(a - \\frac{{\\left(\\frac{1}{a} - 1\\right)}^{2}}{a - \\frac{1}{a}} - \\frac{1}{a}\\right)} {\\left(a - \\frac{1}{a}\\right)}}\n",
       "\\end{array}\\right)</script></html>"
      ],
      "text/latex": [
       "$$\\newcommand{\\Bold}[1]{\\mathbf{#1}}\\left(\\begin{array}{rrrrr}\n",
       "0 & 1 & 0 & 0 & \\frac{{\\left(b^{3} + \\frac{{\\left(b^{2} + \\frac{{\\left(b - \\frac{1}{a}\\right)} {\\left(\\frac{1}{a} - 1\\right)}}{a - \\frac{1}{a}} - \\frac{1}{a}\\right)} {\\left(\\frac{{\\left(\\frac{1}{a} - 1\\right)}^{2}}{a - \\frac{1}{a}} + \\frac{1}{a} - 1\\right)}}{a - \\frac{{\\left(\\frac{1}{a} - 1\\right)}^{2}}{a - \\frac{1}{a}} - \\frac{1}{a}} + \\frac{{\\left(b - \\frac{1}{a}\\right)} {\\left(\\frac{1}{a} - 1\\right)}}{a - \\frac{1}{a}} - \\frac{1}{a}\\right)} {\\left(\\frac{\\frac{1}{a} - 1}{a - \\frac{1}{a}} + \\frac{{\\left(\\frac{{\\left(\\frac{1}{a} - 1\\right)}^{2}}{a - \\frac{1}{a}} + \\frac{1}{a} - 1\\right)} {\\left(\\frac{1}{a} - 1\\right)}}{{\\left(a - \\frac{{\\left(\\frac{1}{a} - 1\\right)}^{2}}{a - \\frac{1}{a}} - \\frac{1}{a}\\right)} {\\left(a - \\frac{1}{a}\\right)}}\\right)}}{a - \\frac{{\\left(\\frac{{\\left(\\frac{1}{a} - 1\\right)}^{2}}{a - \\frac{1}{a}} + \\frac{1}{a} - 1\\right)}^{2}}{a - \\frac{{\\left(\\frac{1}{a} - 1\\right)}^{2}}{a - \\frac{1}{a}} - \\frac{1}{a}} - \\frac{{\\left(\\frac{1}{a} - 1\\right)}^{2}}{a - \\frac{1}{a}} - \\frac{1}{a}} + \\frac{b - \\frac{1}{a}}{a - \\frac{1}{a}} + \\frac{{\\left(b^{2} + \\frac{{\\left(b - \\frac{1}{a}\\right)} {\\left(\\frac{1}{a} - 1\\right)}}{a - \\frac{1}{a}} - \\frac{1}{a}\\right)} {\\left(\\frac{1}{a} - 1\\right)}}{{\\left(a - \\frac{{\\left(\\frac{1}{a} - 1\\right)}^{2}}{a - \\frac{1}{a}} - \\frac{1}{a}\\right)} {\\left(a - \\frac{1}{a}\\right)}}\n",
       "\\end{array}\\right)$$"
      ],
      "text/plain": [
       "[                                                                                                                                                                                                                                                                                                                                                                                                                                                                                                                    0                                                                                                                                                                                                                                                                                                                                                                                                                                                                                                                     1                                                                                                                                                                                                                                                                                                                                                                                                                                                                                                                     0                                                                                                                                                                                                                                                                                                                                                                                                                                                                                                                     0 (b^3 + (b^2 + (b - 1/a)*(1/a - 1)/(a - 1/a) - 1/a)*((1/a - 1)^2/(a - 1/a) + 1/a - 1)/(a - (1/a - 1)^2/(a - 1/a) - 1/a) + (b - 1/a)*(1/a - 1)/(a - 1/a) - 1/a)*((1/a - 1)/(a - 1/a) + ((1/a - 1)^2/(a - 1/a) + 1/a - 1)*(1/a - 1)/((a - (1/a - 1)^2/(a - 1/a) - 1/a)*(a - 1/a)))/(a - ((1/a - 1)^2/(a - 1/a) + 1/a - 1)^2/(a - (1/a - 1)^2/(a - 1/a) - 1/a) - (1/a - 1)^2/(a - 1/a) - 1/a) + (b - 1/a)/(a - 1/a) + (b^2 + (b - 1/a)*(1/a - 1)/(a - 1/a) - 1/a)*(1/a - 1)/((a - (1/a - 1)^2/(a - 1/a) - 1/a)*(a - 1/a))]"
      ]
     },
     "execution_count": 11,
     "metadata": {},
     "output_type": "execute_result"
    }
   ],
   "source": [
    "N[1, :]"
   ]
  },
  {
   "cell_type": "code",
   "execution_count": 12,
   "metadata": {
    "vscode": {
     "languageId": "python"
    }
   },
   "outputs": [
    {
     "data": {
      "text/html": [
       "<html><script type=\"math/tex; mode=display\">\\newcommand{\\Bold}[1]{\\mathbf{#1}}\\left(\\begin{array}{rrrrr}\n",
       "0 & 0 & 1 & 0 & \\frac{b^{2} + \\frac{{\\left(b - \\frac{1}{a}\\right)} {\\left(\\frac{1}{a} - 1\\right)}}{a - \\frac{1}{a}} - \\frac{1}{a}}{a - \\frac{{\\left(\\frac{1}{a} - 1\\right)}^{2}}{a - \\frac{1}{a}} - \\frac{1}{a}} + \\frac{{\\left(b^{3} + \\frac{{\\left(b^{2} + \\frac{{\\left(b - \\frac{1}{a}\\right)} {\\left(\\frac{1}{a} - 1\\right)}}{a - \\frac{1}{a}} - \\frac{1}{a}\\right)} {\\left(\\frac{{\\left(\\frac{1}{a} - 1\\right)}^{2}}{a - \\frac{1}{a}} + \\frac{1}{a} - 1\\right)}}{a - \\frac{{\\left(\\frac{1}{a} - 1\\right)}^{2}}{a - \\frac{1}{a}} - \\frac{1}{a}} + \\frac{{\\left(b - \\frac{1}{a}\\right)} {\\left(\\frac{1}{a} - 1\\right)}}{a - \\frac{1}{a}} - \\frac{1}{a}\\right)} {\\left(\\frac{{\\left(\\frac{1}{a} - 1\\right)}^{2}}{a - \\frac{1}{a}} + \\frac{1}{a} - 1\\right)}}{{\\left(a - \\frac{{\\left(\\frac{{\\left(\\frac{1}{a} - 1\\right)}^{2}}{a - \\frac{1}{a}} + \\frac{1}{a} - 1\\right)}^{2}}{a - \\frac{{\\left(\\frac{1}{a} - 1\\right)}^{2}}{a - \\frac{1}{a}} - \\frac{1}{a}} - \\frac{{\\left(\\frac{1}{a} - 1\\right)}^{2}}{a - \\frac{1}{a}} - \\frac{1}{a}\\right)} {\\left(a - \\frac{{\\left(\\frac{1}{a} - 1\\right)}^{2}}{a - \\frac{1}{a}} - \\frac{1}{a}\\right)}}\n",
       "\\end{array}\\right)</script></html>"
      ],
      "text/latex": [
       "$$\\newcommand{\\Bold}[1]{\\mathbf{#1}}\\left(\\begin{array}{rrrrr}\n",
       "0 & 0 & 1 & 0 & \\frac{b^{2} + \\frac{{\\left(b - \\frac{1}{a}\\right)} {\\left(\\frac{1}{a} - 1\\right)}}{a - \\frac{1}{a}} - \\frac{1}{a}}{a - \\frac{{\\left(\\frac{1}{a} - 1\\right)}^{2}}{a - \\frac{1}{a}} - \\frac{1}{a}} + \\frac{{\\left(b^{3} + \\frac{{\\left(b^{2} + \\frac{{\\left(b - \\frac{1}{a}\\right)} {\\left(\\frac{1}{a} - 1\\right)}}{a - \\frac{1}{a}} - \\frac{1}{a}\\right)} {\\left(\\frac{{\\left(\\frac{1}{a} - 1\\right)}^{2}}{a - \\frac{1}{a}} + \\frac{1}{a} - 1\\right)}}{a - \\frac{{\\left(\\frac{1}{a} - 1\\right)}^{2}}{a - \\frac{1}{a}} - \\frac{1}{a}} + \\frac{{\\left(b - \\frac{1}{a}\\right)} {\\left(\\frac{1}{a} - 1\\right)}}{a - \\frac{1}{a}} - \\frac{1}{a}\\right)} {\\left(\\frac{{\\left(\\frac{1}{a} - 1\\right)}^{2}}{a - \\frac{1}{a}} + \\frac{1}{a} - 1\\right)}}{{\\left(a - \\frac{{\\left(\\frac{{\\left(\\frac{1}{a} - 1\\right)}^{2}}{a - \\frac{1}{a}} + \\frac{1}{a} - 1\\right)}^{2}}{a - \\frac{{\\left(\\frac{1}{a} - 1\\right)}^{2}}{a - \\frac{1}{a}} - \\frac{1}{a}} - \\frac{{\\left(\\frac{1}{a} - 1\\right)}^{2}}{a - \\frac{1}{a}} - \\frac{1}{a}\\right)} {\\left(a - \\frac{{\\left(\\frac{1}{a} - 1\\right)}^{2}}{a - \\frac{1}{a}} - \\frac{1}{a}\\right)}}\n",
       "\\end{array}\\right)$$"
      ],
      "text/plain": [
       "[                                                                                                                                                                                                                                                                                                                                                                                                                            0                                                                                                                                                                                                                                                                                                                                                                                                                             0                                                                                                                                                                                                                                                                                                                                                                                                                             1                                                                                                                                                                                                                                                                                                                                                                                                                             0 (b^2 + (b - 1/a)*(1/a - 1)/(a - 1/a) - 1/a)/(a - (1/a - 1)^2/(a - 1/a) - 1/a) + (b^3 + (b^2 + (b - 1/a)*(1/a - 1)/(a - 1/a) - 1/a)*((1/a - 1)^2/(a - 1/a) + 1/a - 1)/(a - (1/a - 1)^2/(a - 1/a) - 1/a) + (b - 1/a)*(1/a - 1)/(a - 1/a) - 1/a)*((1/a - 1)^2/(a - 1/a) + 1/a - 1)/((a - ((1/a - 1)^2/(a - 1/a) + 1/a - 1)^2/(a - (1/a - 1)^2/(a - 1/a) - 1/a) - (1/a - 1)^2/(a - 1/a) - 1/a)*(a - (1/a - 1)^2/(a - 1/a) - 1/a))]"
      ]
     },
     "execution_count": 12,
     "metadata": {},
     "output_type": "execute_result"
    }
   ],
   "source": [
    "N[2, :]"
   ]
  },
  {
   "cell_type": "code",
   "execution_count": 13,
   "metadata": {
    "vscode": {
     "languageId": "python"
    }
   },
   "outputs": [
    {
     "data": {
      "text/html": [
       "<html><script type=\"math/tex; mode=display\">\\newcommand{\\Bold}[1]{\\mathbf{#1}}\\left(\\begin{array}{rrrrr}\n",
       "0 & 0 & 0 & 1 & \\frac{b^{3} + \\frac{{\\left(b^{2} + \\frac{{\\left(b - \\frac{1}{a}\\right)} {\\left(\\frac{1}{a} - 1\\right)}}{a - \\frac{1}{a}} - \\frac{1}{a}\\right)} {\\left(\\frac{{\\left(\\frac{1}{a} - 1\\right)}^{2}}{a - \\frac{1}{a}} + \\frac{1}{a} - 1\\right)}}{a - \\frac{{\\left(\\frac{1}{a} - 1\\right)}^{2}}{a - \\frac{1}{a}} - \\frac{1}{a}} + \\frac{{\\left(b - \\frac{1}{a}\\right)} {\\left(\\frac{1}{a} - 1\\right)}}{a - \\frac{1}{a}} - \\frac{1}{a}}{a - \\frac{{\\left(\\frac{{\\left(\\frac{1}{a} - 1\\right)}^{2}}{a - \\frac{1}{a}} + \\frac{1}{a} - 1\\right)}^{2}}{a - \\frac{{\\left(\\frac{1}{a} - 1\\right)}^{2}}{a - \\frac{1}{a}} - \\frac{1}{a}} - \\frac{{\\left(\\frac{1}{a} - 1\\right)}^{2}}{a - \\frac{1}{a}} - \\frac{1}{a}}\n",
       "\\end{array}\\right)</script></html>"
      ],
      "text/latex": [
       "$$\\newcommand{\\Bold}[1]{\\mathbf{#1}}\\left(\\begin{array}{rrrrr}\n",
       "0 & 0 & 0 & 1 & \\frac{b^{3} + \\frac{{\\left(b^{2} + \\frac{{\\left(b - \\frac{1}{a}\\right)} {\\left(\\frac{1}{a} - 1\\right)}}{a - \\frac{1}{a}} - \\frac{1}{a}\\right)} {\\left(\\frac{{\\left(\\frac{1}{a} - 1\\right)}^{2}}{a - \\frac{1}{a}} + \\frac{1}{a} - 1\\right)}}{a - \\frac{{\\left(\\frac{1}{a} - 1\\right)}^{2}}{a - \\frac{1}{a}} - \\frac{1}{a}} + \\frac{{\\left(b - \\frac{1}{a}\\right)} {\\left(\\frac{1}{a} - 1\\right)}}{a - \\frac{1}{a}} - \\frac{1}{a}}{a - \\frac{{\\left(\\frac{{\\left(\\frac{1}{a} - 1\\right)}^{2}}{a - \\frac{1}{a}} + \\frac{1}{a} - 1\\right)}^{2}}{a - \\frac{{\\left(\\frac{1}{a} - 1\\right)}^{2}}{a - \\frac{1}{a}} - \\frac{1}{a}} - \\frac{{\\left(\\frac{1}{a} - 1\\right)}^{2}}{a - \\frac{1}{a}} - \\frac{1}{a}}\n",
       "\\end{array}\\right)$$"
      ],
      "text/plain": [
       "[                                                                                                                                                                                                                                                                      0                                                                                                                                                                                                                                                                       0                                                                                                                                                                                                                                                                       0                                                                                                                                                                                                                                                                       1 (b^3 + (b^2 + (b - 1/a)*(1/a - 1)/(a - 1/a) - 1/a)*((1/a - 1)^2/(a - 1/a) + 1/a - 1)/(a - (1/a - 1)^2/(a - 1/a) - 1/a) + (b - 1/a)*(1/a - 1)/(a - 1/a) - 1/a)/(a - ((1/a - 1)^2/(a - 1/a) + 1/a - 1)^2/(a - (1/a - 1)^2/(a - 1/a) - 1/a) - (1/a - 1)^2/(a - 1/a) - 1/a)]"
      ]
     },
     "execution_count": 13,
     "metadata": {},
     "output_type": "execute_result"
    }
   ],
   "source": [
    "N[3, :]"
   ]
  },
  {
   "cell_type": "markdown",
   "metadata": {},
   "source": [
    "Then, we solve the equations that we created:"
   ]
  },
  {
   "cell_type": "code",
   "execution_count": 14,
   "metadata": {
    "vscode": {
     "languageId": "python"
    }
   },
   "outputs": [
    {
     "data": {
      "text/html": [
       "<html><script type=\"math/tex; mode=display\">\\newcommand{\\Bold}[1]{\\mathbf{#1}}\\left[\\left[a = \\left(-2\\right), b = 1\\right], \\left[a = 1, b = 1\\right], \\left[a = \\left(-3\\right), b = \\left(-1\\right)\\right], \\left[a = \\left(-3\\right), b = \\left(-i\\right)\\right], \\left[a = \\left(-3\\right), b = i\\right]\\right]</script></html>"
      ],
      "text/latex": [
       "$$\\newcommand{\\Bold}[1]{\\mathbf{#1}}\\left[\\left[a = \\left(-2\\right), b = 1\\right], \\left[a = 1, b = 1\\right], \\left[a = \\left(-3\\right), b = \\left(-1\\right)\\right], \\left[a = \\left(-3\\right), b = \\left(-i\\right)\\right], \\left[a = \\left(-3\\right), b = i\\right]\\right]$$"
      ],
      "text/plain": [
       "[[a == -2, b == 1], [a == 1, b == 1], [a == -3, b == -1], [a == -3, b == -I], [a == -3, b == I]]"
      ]
     },
     "execution_count": 14,
     "metadata": {},
     "output_type": "execute_result"
    }
   ],
   "source": [
    "eq1 = -(b^3 + (b^2 + (b - 1/a)*(1/a - 1)/(a - 1/a) - 1/a)*((1/a - 1)^2/(a - 1/a) + 1/a - 1)/(a - (1/a - 1)^2/(a - 1/a) - 1/a) + (b - 1/a)*(1/a - 1)/(a - 1/a) - 1/a)*(((1/a - 1)^2/(a - 1/a) + 1/a - 1)*(1/a + (1/a - 1)/((a - 1/a)*a))/(a - (1/a - 1)^2/(a - 1/a) - 1/a) + 1/a + (1/a - 1)/((a - 1/a)*a))/(a - ((1/a - 1)^2/(a - 1/a) + 1/a - 1)^2/(a - (1/a - 1)^2/(a - 1/a) - 1/a) - (1/a - 1)^2/(a - 1/a) - 1/a) - (b^2 + (b - 1/a)*(1/a - 1)/(a - 1/a) - 1/a)*(1/a + (1/a - 1)/((a - 1/a)*a))/(a - (1/a - 1)^2/(a - 1/a) - 1/a) + 1/a - (b - 1/a)/((a - 1/a)*a) == 1\n",
    "eq2 = (b^3 + (b^2 + (b - 1/a)*(1/a - 1)/(a - 1/a) - 1/a)*((1/a - 1)^2/(a - 1/a) + 1/a - 1)/(a - (1/a - 1)^2/(a - 1/a) - 1/a) + (b - 1/a)*(1/a - 1)/(a - 1/a) - 1/a)*((1/a - 1)/(a - 1/a) + ((1/a - 1)^2/(a - 1/a) + 1/a - 1)*(1/a - 1)/((a - (1/a - 1)^2/(a - 1/a) - 1/a)*(a - 1/a)))/(a - ((1/a - 1)^2/(a - 1/a) + 1/a - 1)^2/(a - (1/a - 1)^2/(a - 1/a) - 1/a) - (1/a - 1)^2/(a - 1/a) - 1/a) + (b - 1/a)/(a - 1/a) + (b^2 + (b - 1/a)*(1/a - 1)/(a - 1/a) - 1/a)*(1/a - 1)/((a - (1/a - 1)^2/(a - 1/a) - 1/a)*(a - 1/a)) == 1\n",
    "eq3 = (b^2 + (b - 1/a)*(1/a - 1)/(a - 1/a) - 1/a)/(a - (1/a - 1)^2/(a - 1/a) - 1/a) + (b^3 + (b^2 + (b - 1/a)*(1/a - 1)/(a - 1/a) - 1/a)*((1/a - 1)^2/(a - 1/a) + 1/a - 1)/(a - (1/a - 1)^2/(a - 1/a) - 1/a) + (b - 1/a)*(1/a - 1)/(a - 1/a) - 1/a)*((1/a - 1)^2/(a - 1/a) + 1/a - 1)/((a - ((1/a - 1)^2/(a - 1/a) + 1/a - 1)^2/(a - (1/a - 1)^2/(a - 1/a) - 1/a) - (1/a - 1)^2/(a - 1/a) - 1/a)*(a - (1/a - 1)^2/(a - 1/a) - 1/a)) == 1\n",
    "eq4 = (b^3 + (b^2 + (b - 1/a)*(1/a - 1)/(a - 1/a) - 1/a)*((1/a - 1)^2/(a - 1/a) + 1/a - 1)/(a - (1/a - 1)^2/(a - 1/a) - 1/a) + (b - 1/a)*(1/a - 1)/(a - 1/a) - 1/a)/(a - ((1/a - 1)^2/(a - 1/a) + 1/a - 1)^2/(a - (1/a - 1)^2/(a - 1/a) - 1/a) - (1/a - 1)^2/(a - 1/a) - 1/a) == 1\n",
    "\n",
    "solve([eq1, eq2, eq3, eq4], a, b)"
   ]
  },
  {
   "cell_type": "markdown",
   "metadata": {},
   "source": [
    "This response show us that:\n",
    "\n",
    "- for a = -3 and b = -1 the system has one solution\n",
    "- for a = 1 and b = 1 the system has also one solution\n",
    "- for a = -2 and b = 1 the system has also one solution\n",
    "- for a = -3 and b equals with any other number except 1 and -1, the system has infinitely many solutions\n",
    "- for any other pair of values, the system is impossible"
   ]
  },
  {
   "cell_type": "markdown",
   "metadata": {},
   "source": [
    "c."
   ]
  },
  {
   "cell_type": "code",
   "execution_count": 15,
   "metadata": {
    "vscode": {
     "languageId": "python"
    }
   },
   "outputs": [
    {
     "data": {
      "text/html": [
       "<html><script type=\"math/tex; mode=display\">\\newcommand{\\Bold}[1]{\\mathbf{#1}}\\left[\\right]</script></html>"
      ],
      "text/latex": [
       "$$\\newcommand{\\Bold}[1]{\\mathbf{#1}}\\left[\\right]$$"
      ],
      "text/plain": [
       "[]"
      ]
     },
     "execution_count": 15,
     "metadata": {},
     "output_type": "execute_result"
    }
   ],
   "source": [
    "a = 1 \n",
    "b = 4\n",
    "\n",
    "x, y, z, t = var('x y z t')\n",
    "\n",
    "solve([a*x + y + z + t == 1, x + a*y + z + t == b, x + y + a*z + t == b^2, x + y + z + a*t == b^3], x, y, z, t)"
   ]
  },
  {
   "cell_type": "markdown",
   "metadata": {},
   "source": [
    "Empty array means that the system is **impossible** for a = 1 and b = 4. Τhis is logical based on the answer to the previous question."
   ]
  }
 ],
 "metadata": {
  "kernelspec": {
   "display_name": "SageMath 9.5",
   "language": "sage",
   "name": "sagemath"
  },
  "language_info": {
   "codemirror_mode": {
    "name": "ipython",
    "version": 3
   },
   "file_extension": ".py",
   "mimetype": "text/x-python",
   "name": "sage",
   "nbconvert_exporter": "python",
   "pygments_lexer": "ipython3",
   "version": "3.11.4"
  }
 },
 "nbformat": 4,
 "nbformat_minor": 2
}
