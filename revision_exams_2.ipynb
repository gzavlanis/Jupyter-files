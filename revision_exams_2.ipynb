{
 "cells": [
  {
   "cell_type": "markdown",
   "metadata": {},
   "source": [
    "# Revision for exams\n",
    "\n",
    "## Solutions of previous years assignments 2021-2022\n",
    "\n",
    "### Unit 1\n",
    "\n",
    "**Problem 7**\n",
    "\n"
   ]
  },
  {
   "cell_type": "markdown",
   "metadata": {},
   "source": [
    "The vectors are linearly dependent when the system $λ_1α+λ_2β+λ_3γ=0$ has solutions with $λi\\neq0, i=1,2,3$\\\n",
    "This is equivalen to having non trivial solutions to the system $M.λ=0$ where $M=[α,β,γ]$ and $λ=[λ_1,λ_2,λ_3]$,\\\n",
    "which is true only when $det(M)=0$."
   ]
  },
  {
   "cell_type": "code",
   "execution_count": 1,
   "metadata": {},
   "outputs": [
    {
     "data": {
      "text/html": [
       "<html><script type=\"math/tex; mode=display\">\\newcommand{\\Bold}[1]{\\mathbf{#1}}\\left(\\left(1,\\,k,\\,3\\right), \\left(-1,\\,1,\\,1\\right), \\left(7,\\,3,\\,k\\right)\\right)</script></html>"
      ],
      "text/latex": [
       "$$\\newcommand{\\Bold}[1]{\\mathbf{#1}}\\left(\\left(1,\\,k,\\,3\\right), \\left(-1,\\,1,\\,1\\right), \\left(7,\\,3,\\,k\\right)\\right)$$"
      ],
      "text/plain": [
       "((1, k, 3), (-1, 1, 1), (7, 3, k))"
      ]
     },
     "execution_count": 1,
     "metadata": {},
     "output_type": "execute_result"
    }
   ],
   "source": [
    "%display latex\n",
    "\n",
    "k = var('k')\n",
    "a = vector([1, k, 3])\n",
    "b = vector([-1, 1, 1])\n",
    "c = vector([7, 3, k])\n",
    "\n",
    "a, b, c"
   ]
  },
  {
   "cell_type": "code",
   "execution_count": 2,
   "metadata": {},
   "outputs": [
    {
     "data": {
      "text/html": [
       "<html><script type=\"math/tex; mode=display\">\\newcommand{\\Bold}[1]{\\mathbf{#1}}\\left(\\begin{array}{rrr}\n",
       "1 & k & 3 \\\\\n",
       "-1 & 1 & 1 \\\\\n",
       "7 & 3 & k\n",
       "\\end{array}\\right)</script></html>"
      ],
      "text/latex": [
       "$$\\newcommand{\\Bold}[1]{\\mathbf{#1}}\\left(\\begin{array}{rrr}\n",
       "1 & k & 3 \\\\\n",
       "-1 & 1 & 1 \\\\\n",
       "7 & 3 & k\n",
       "\\end{array}\\right)$$"
      ],
      "text/plain": [
       "[ 1  k  3]\n",
       "[-1  1  1]\n",
       "[ 7  3  k]"
      ]
     },
     "execution_count": 2,
     "metadata": {},
     "output_type": "execute_result"
    }
   ],
   "source": [
    "m = matrix([a, b, c]); m"
   ]
  },
  {
   "cell_type": "code",
   "execution_count": 3,
   "metadata": {},
   "outputs": [
    {
     "data": {
      "text/html": [
       "<html><script type=\"math/tex; mode=display\">\\newcommand{\\Bold}[1]{\\mathbf{#1}}\\left[k = 3, k = \\left(-11\\right)\\right]</script></html>"
      ],
      "text/latex": [
       "$$\\newcommand{\\Bold}[1]{\\mathbf{#1}}\\left[k = 3, k = \\left(-11\\right)\\right]$$"
      ],
      "text/plain": [
       "[k == 3, k == -11]"
      ]
     },
     "execution_count": 3,
     "metadata": {},
     "output_type": "execute_result"
    }
   ],
   "source": [
    "solve(det(m) == 0, k)"
   ]
  },
  {
   "cell_type": "markdown",
   "metadata": {},
   "source": [
    "**Problem 8**"
   ]
  },
  {
   "cell_type": "code",
   "execution_count": 4,
   "metadata": {},
   "outputs": [
    {
     "data": {
      "text/html": [
       "<html><script type=\"math/tex; mode=display\">\\newcommand{\\Bold}[1]{\\mathbf{#1}}7</script></html>"
      ],
      "text/latex": [
       "$$\\newcommand{\\Bold}[1]{\\mathbf{#1}}7$$"
      ],
      "text/plain": [
       "7"
      ]
     },
     "execution_count": 4,
     "metadata": {},
     "output_type": "execute_result"
    }
   ],
   "source": [
    "k = 3744\n",
    "l = 1 + (k % 7); l"
   ]
  },
  {
   "cell_type": "markdown",
   "metadata": {},
   "source": [
    "(a)"
   ]
  },
  {
   "cell_type": "code",
   "execution_count": 5,
   "metadata": {},
   "outputs": [
    {
     "data": {
      "text/html": [
       "<html><script type=\"math/tex; mode=display\">\\newcommand{\\Bold}[1]{\\mathbf{#1}}\\left[\\left[x = \\left(\\frac{96}{137}\\right), y = \\left(\\frac{66}{137}\\right), z = \\left(-\\frac{13}{137}\\right)\\right]\\right]</script></html>"
      ],
      "text/latex": [
       "$$\\newcommand{\\Bold}[1]{\\mathbf{#1}}\\left[\\left[x = \\left(\\frac{96}{137}\\right), y = \\left(\\frac{66}{137}\\right), z = \\left(-\\frac{13}{137}\\right)\\right]\\right]$$"
      ],
      "text/plain": [
       "[[x == (96/137), y == (66/137), z == (-13/137)]]"
      ]
     },
     "execution_count": 5,
     "metadata": {},
     "output_type": "execute_result"
    }
   ],
   "source": [
    "x, y, z = var('x, y, z')\n",
    "solve([x+2*y+7*z == 1, 3*x+l*y+5*z == 5, -x+6*y+2*z == 2], [x, y, z])"
   ]
  },
  {
   "cell_type": "markdown",
   "metadata": {},
   "source": [
    "(b)"
   ]
  },
  {
   "cell_type": "code",
   "execution_count": 6,
   "metadata": {},
   "outputs": [
    {
     "data": {
      "text/html": [
       "<html><script type=\"math/tex; mode=display\">\\newcommand{\\Bold}[1]{\\mathbf{#1}}\\left(\\begin{array}{rrr}\n",
       "1 & 2 & 7 \\\\\n",
       "3 & 7 & 5 \\\\\n",
       "-1 & 6 & 2\n",
       "\\end{array}\\right)</script></html>"
      ],
      "text/latex": [
       "$$\\newcommand{\\Bold}[1]{\\mathbf{#1}}\\left(\\begin{array}{rrr}\n",
       "1 & 2 & 7 \\\\\n",
       "3 & 7 & 5 \\\\\n",
       "-1 & 6 & 2\n",
       "\\end{array}\\right)$$"
      ],
      "text/plain": [
       "[ 1  2  7]\n",
       "[ 3  7  5]\n",
       "[-1  6  2]"
      ]
     },
     "execution_count": 6,
     "metadata": {},
     "output_type": "execute_result"
    }
   ],
   "source": [
    "m = matrix(QQ, [[1, 2, 7], [3, l, 5], [-1, 6, 2]]); m"
   ]
  },
  {
   "cell_type": "code",
   "execution_count": 7,
   "metadata": {},
   "outputs": [
    {
     "data": {
      "text/html": [
       "<html><script type=\"math/tex; mode=display\">\\newcommand{\\Bold}[1]{\\mathbf{#1}}\\left(\\frac{96}{137},\\,\\frac{66}{137},\\,-\\frac{13}{137}\\right)</script></html>"
      ],
      "text/latex": [
       "$$\\newcommand{\\Bold}[1]{\\mathbf{#1}}\\left(\\frac{96}{137},\\,\\frac{66}{137},\\,-\\frac{13}{137}\\right)$$"
      ],
      "text/plain": [
       "(96/137, 66/137, -13/137)"
      ]
     },
     "execution_count": 7,
     "metadata": {},
     "output_type": "execute_result"
    }
   ],
   "source": [
    "u = vector(QQ, [1, 5, 2])\n",
    "m^(-1)*u"
   ]
  },
  {
   "cell_type": "markdown",
   "metadata": {},
   "source": [
    "(c)"
   ]
  },
  {
   "cell_type": "code",
   "execution_count": 8,
   "metadata": {},
   "outputs": [
    {
     "data": {
      "text/html": [
       "<html><script type=\"math/tex; mode=display\">\\newcommand{\\Bold}[1]{\\mathbf{#1}}\\left(\\begin{array}{rrr|r}\n",
       "1 & 2 & 7 & 1 \\\\\n",
       "3 & 7 & 5 & 5 \\\\\n",
       "-1 & 6 & 2 & 2\n",
       "\\end{array}\\right)</script></html>"
      ],
      "text/latex": [
       "$$\\newcommand{\\Bold}[1]{\\mathbf{#1}}\\left(\\begin{array}{rrr|r}\n",
       "1 & 2 & 7 & 1 \\\\\n",
       "3 & 7 & 5 & 5 \\\\\n",
       "-1 & 6 & 2 & 2\n",
       "\\end{array}\\right)$$"
      ],
      "text/plain": [
       "[ 1  2  7| 1]\n",
       "[ 3  7  5| 5]\n",
       "[-1  6  2| 2]"
      ]
     },
     "execution_count": 8,
     "metadata": {},
     "output_type": "execute_result"
    }
   ],
   "source": [
    "mu = m.augment(u, subdivide = True); mu"
   ]
  },
  {
   "cell_type": "code",
   "execution_count": 9,
   "metadata": {},
   "outputs": [
    {
     "data": {
      "text/html": [
       "<html><script type=\"math/tex; mode=display\">\\newcommand{\\Bold}[1]{\\mathbf{#1}}\\left(\\begin{array}{rrr|r}\n",
       "1 & 0 & 0 & \\frac{96}{137} \\\\\n",
       "0 & 1 & 0 & \\frac{66}{137} \\\\\n",
       "0 & 0 & 1 & -\\frac{13}{137}\n",
       "\\end{array}\\right)</script></html>"
      ],
      "text/latex": [
       "$$\\newcommand{\\Bold}[1]{\\mathbf{#1}}\\left(\\begin{array}{rrr|r}\n",
       "1 & 0 & 0 & \\frac{96}{137} \\\\\n",
       "0 & 1 & 0 & \\frac{66}{137} \\\\\n",
       "0 & 0 & 1 & -\\frac{13}{137}\n",
       "\\end{array}\\right)$$"
      ],
      "text/plain": [
       "[      1       0       0| 96/137]\n",
       "[      0       1       0| 66/137]\n",
       "[      0       0       1|-13/137]"
      ]
     },
     "execution_count": 9,
     "metadata": {},
     "output_type": "execute_result"
    }
   ],
   "source": [
    "mu.echelon_form()"
   ]
  },
  {
   "cell_type": "markdown",
   "metadata": {},
   "source": [
    "### Unit 2\n",
    "\n",
    "**Problem 7**"
   ]
  },
  {
   "cell_type": "code",
   "execution_count": 10,
   "metadata": {},
   "outputs": [
    {
     "data": {
      "text/plain": [
       "[(-1, 25, 3),\n",
       " (0, 1, -2),\n",
       " (6, -4, -3),\n",
       " (-3, -1, 1),\n",
       " (2, 1, 1),\n",
       " (-1, 1, -1),\n",
       " (1, 0, -2),\n",
       " (2, -1, -1),\n",
       " (1, 1, 0),\n",
       " (-1, 0, 1),\n",
       " (-1, 1, 2),\n",
       " (10, 4, 3),\n",
       " (0, 1, -13),\n",
       " (-3, 84, 1),\n",
       " (-3, -1, 0),\n",
       " (0, -1, 4),\n",
       " (3, 0, 1),\n",
       " (1, 0, -4),\n",
       " (2, 0, 0),\n",
       " (0, 9, 0)]"
      ]
     },
     "execution_count": 10,
     "metadata": {},
     "output_type": "execute_result"
    }
   ],
   "source": [
    "%display plain\n",
    "\n",
    "rvs = [vector(random_matrix(ZZ, 1, 3)) for i in range(20)]; rvs"
   ]
  },
  {
   "cell_type": "markdown",
   "metadata": {},
   "source": [
    "(a) The associated norms are:"
   ]
  },
  {
   "cell_type": "code",
   "execution_count": 11,
   "metadata": {},
   "outputs": [
    {
     "data": {
      "text/plain": [
       "[[25.20],\n",
       " [2.236],\n",
       " [7.810],\n",
       " [3.317],\n",
       " [2.449],\n",
       " [1.732],\n",
       " [2.236],\n",
       " [2.449],\n",
       " [1.414],\n",
       " [1.414],\n",
       " [2.449],\n",
       " [11.18],\n",
       " [13.04],\n",
       " [84.06],\n",
       " [3.162],\n",
       " [4.123],\n",
       " [3.162],\n",
       " [4.123],\n",
       " [2.000],\n",
       " [9.000]]"
      ]
     },
     "execution_count": 11,
     "metadata": {},
     "output_type": "execute_result"
    }
   ],
   "source": [
    "[[n(norm(x), digits = 4)] for x in rvs]"
   ]
  },
  {
   "cell_type": "markdown",
   "metadata": {},
   "source": [
    "(b) The angles (in rads)"
   ]
  },
  {
   "cell_type": "code",
   "execution_count": 12,
   "metadata": {},
   "outputs": [
    {
     "data": {
      "text/plain": [
       "(1/3*sqrt(3), 1/3*sqrt(3), 1/3*sqrt(3))"
      ]
     },
     "execution_count": 12,
     "metadata": {},
     "output_type": "execute_result"
    }
   ],
   "source": [
    "r = vector(ZZ, [1,1,1]) / sqrt(3); r"
   ]
  },
  {
   "cell_type": "code",
   "execution_count": 13,
   "metadata": {},
   "outputs": [
    {
     "data": {
      "text/plain": [
       "[0.9038,\n",
       " 1.832,\n",
       " 1.645,\n",
       " 2.120,\n",
       " 0.3398,\n",
       " 1.911,\n",
       " 1.832,\n",
       " 1.571,\n",
       " 0.6155,\n",
       " 1.571,\n",
       " 1.080,\n",
       " 0.4994,\n",
       " 2.131,\n",
       " 0.9725,\n",
       " 2.390,\n",
       " 1.137,\n",
       " 0.7520,\n",
       " 2.004,\n",
       " 0.9553,\n",
       " 0.9553]"
      ]
     },
     "execution_count": 13,
     "metadata": {},
     "output_type": "execute_result"
    }
   ],
   "source": [
    "[n(arccos(r.dot_product(x)/norm(x)/norm(r)), digits =4) for x in rvs]"
   ]
  },
  {
   "cell_type": "markdown",
   "metadata": {},
   "source": [
    "(c) The projections are:"
   ]
  },
  {
   "cell_type": "code",
   "execution_count": 14,
   "metadata": {},
   "outputs": [
    {
     "data": {
      "text/plain": [
       "[(9, 9, 9),\n",
       " (-1/3, -1/3, -1/3),\n",
       " (-1/3, -1/3, -1/3),\n",
       " (-1, -1, -1),\n",
       " (4/3, 4/3, 4/3),\n",
       " (-1/3, -1/3, -1/3),\n",
       " (-1/3, -1/3, -1/3),\n",
       " (0, 0, 0),\n",
       " (2/3, 2/3, 2/3),\n",
       " (0, 0, 0),\n",
       " (2/3, 2/3, 2/3),\n",
       " (17/3, 17/3, 17/3),\n",
       " (-4, -4, -4),\n",
       " (82/3, 82/3, 82/3),\n",
       " (-4/3, -4/3, -4/3),\n",
       " (1, 1, 1),\n",
       " (4/3, 4/3, 4/3),\n",
       " (-1, -1, -1),\n",
       " (2/3, 2/3, 2/3),\n",
       " (3, 3, 3)]"
      ]
     },
     "execution_count": 14,
     "metadata": {},
     "output_type": "execute_result"
    }
   ],
   "source": [
    "projs = [r.dot_product(x)*r/norm(r)^2 for x in rvs]; projs"
   ]
  },
  {
   "cell_type": "markdown",
   "metadata": {},
   "source": [
    "(d) The angles in degrees are:"
   ]
  },
  {
   "cell_type": "code",
   "execution_count": 15,
   "metadata": {},
   "outputs": [
    {
     "data": {
      "text/plain": [
       "[35.44,\n",
       " -14.79,\n",
       " -4.235,\n",
       " -29.92,\n",
       " 54.02,\n",
       " -19.10,\n",
       " -14.79,\n",
       " 0.0000,\n",
       " 46.78,\n",
       " 0.0000,\n",
       " 27.01,\n",
       " 50.30,\n",
       " -30.45,\n",
       " 32.27,\n",
       " -41.84,\n",
       " 24.07,\n",
       " 41.84,\n",
       " -24.07,\n",
       " 33.08,\n",
       " 33.08]"
      ]
     },
     "execution_count": 15,
     "metadata": {},
     "output_type": "execute_result"
    }
   ],
   "source": [
    "[n((180/pi)*x.dot_product(r)/norm(x)/norm(r), digits = 4) for x in rvs]"
   ]
  },
  {
   "cell_type": "markdown",
   "metadata": {},
   "source": [
    "**Problem 8**"
   ]
  },
  {
   "cell_type": "code",
   "execution_count": 16,
   "metadata": {},
   "outputs": [],
   "source": [
    "%display latex"
   ]
  },
  {
   "cell_type": "code",
   "execution_count": 17,
   "metadata": {},
   "outputs": [
    {
     "data": {
      "text/html": [
       "<html><script type=\"math/tex; mode=display\">\\newcommand{\\Bold}[1]{\\mathbf{#1}}\\left(\\begin{array}{rrr}\n",
       "2 & 1 & 1 \\\\\n",
       "-\\frac{2}{3} & \\frac{7}{6} & \\frac{1}{6} \\\\\n",
       "-\\frac{4}{11} & -\\frac{4}{11} & \\frac{12}{11}\n",
       "\\end{array}\\right)</script></html>"
      ],
      "text/latex": [
       "$$\\newcommand{\\Bold}[1]{\\mathbf{#1}}\\left(\\begin{array}{rrr}\n",
       "2 & 1 & 1 \\\\\n",
       "-\\frac{2}{3} & \\frac{7}{6} & \\frac{1}{6} \\\\\n",
       "-\\frac{4}{11} & -\\frac{4}{11} & \\frac{12}{11}\n",
       "\\end{array}\\right)$$"
      ],
      "text/plain": [
       "[    2     1     1]\n",
       "[ -2/3   7/6   1/6]\n",
       "[-4/11 -4/11 12/11]"
      ]
     },
     "execution_count": 17,
     "metadata": {},
     "output_type": "execute_result"
    }
   ],
   "source": [
    "m = matrix(QQ, [[2,1,1],[1,2,1],[1,1,2]])\n",
    "g, s = m.gram_schmidt(); g"
   ]
  },
  {
   "cell_type": "code",
   "execution_count": 18,
   "metadata": {},
   "outputs": [
    {
     "data": {
      "text/html": [
       "<html><script type=\"math/tex; mode=display\">\\newcommand{\\Bold}[1]{\\mathbf{#1}}\\left[\\left(2,\\,1,\\,1\\right), \\left(-\\frac{2}{3},\\,\\frac{7}{6},\\,\\frac{1}{6}\\right), \\left(-\\frac{4}{11},\\,-\\frac{4}{11},\\,\\frac{12}{11}\\right)\\right]</script></html>"
      ],
      "text/latex": [
       "$$\\newcommand{\\Bold}[1]{\\mathbf{#1}}\\left[\\left(2,\\,1,\\,1\\right), \\left(-\\frac{2}{3},\\,\\frac{7}{6},\\,\\frac{1}{6}\\right), \\left(-\\frac{4}{11},\\,-\\frac{4}{11},\\,\\frac{12}{11}\\right)\\right]$$"
      ],
      "text/plain": [
       "[(2, 1, 1), (-2/3, 7/6, 1/6), (-4/11, -4/11, 12/11)]"
      ]
     },
     "execution_count": 18,
     "metadata": {},
     "output_type": "execute_result"
    }
   ],
   "source": [
    "v1, v2, v3 = g\n",
    "[v1, v2, v3]"
   ]
  },
  {
   "cell_type": "code",
   "execution_count": 19,
   "metadata": {},
   "outputs": [
    {
     "data": {
      "text/html": [
       "<html><script type=\"math/tex; mode=display\">\\newcommand{\\Bold}[1]{\\mathbf{#1}}\\left(0.817,\\,0.408,\\,0.408\\right)</script></html>"
      ],
      "text/latex": [
       "$$\\newcommand{\\Bold}[1]{\\mathbf{#1}}\\left(0.817,\\,0.408,\\,0.408\\right)$$"
      ],
      "text/plain": [
       "(0.817, 0.408, 0.408)"
      ]
     },
     "execution_count": 19,
     "metadata": {},
     "output_type": "execute_result"
    }
   ],
   "source": [
    "nv1 = v1/norm(v1)\n",
    "n(nv1, digits = 3)"
   ]
  },
  {
   "cell_type": "code",
   "execution_count": 20,
   "metadata": {},
   "outputs": [
    {
     "data": {
      "text/html": [
       "<html><script type=\"math/tex; mode=display\">\\newcommand{\\Bold}[1]{\\mathbf{#1}}\\left(-0.492,\\,0.862,\\,0.123\\right)</script></html>"
      ],
      "text/latex": [
       "$$\\newcommand{\\Bold}[1]{\\mathbf{#1}}\\left(-0.492,\\,0.862,\\,0.123\\right)$$"
      ],
      "text/plain": [
       "(-0.492, 0.862, 0.123)"
      ]
     },
     "execution_count": 20,
     "metadata": {},
     "output_type": "execute_result"
    }
   ],
   "source": [
    "nv2 = v2/norm(v2)\n",
    "n(nv2, digits = 3)"
   ]
  },
  {
   "cell_type": "code",
   "execution_count": 21,
   "metadata": {},
   "outputs": [
    {
     "data": {
      "text/html": [
       "<html><script type=\"math/tex; mode=display\">\\newcommand{\\Bold}[1]{\\mathbf{#1}}\\left(-0.302,\\,-0.302,\\,0.905\\right)</script></html>"
      ],
      "text/latex": [
       "$$\\newcommand{\\Bold}[1]{\\mathbf{#1}}\\left(-0.302,\\,-0.302,\\,0.905\\right)$$"
      ],
      "text/plain": [
       "(-0.302, -0.302, 0.905)"
      ]
     },
     "execution_count": 21,
     "metadata": {},
     "output_type": "execute_result"
    }
   ],
   "source": [
    "nv3 = v3/norm(v3)\n",
    "n(nv3, digits = 3)"
   ]
  },
  {
   "cell_type": "markdown",
   "metadata": {},
   "source": [
    "### Unit 3\n",
    "\n",
    "**Problem 7**\n",
    "\n",
    "(a)"
   ]
  },
  {
   "cell_type": "code",
   "execution_count": 22,
   "metadata": {},
   "outputs": [
    {
     "data": {
      "text/html": [
       "<html><script type=\"math/tex; mode=display\">\\newcommand{\\Bold}[1]{\\mathbf{#1}}\\left(\\begin{array}{rrr}\n",
       "1 & 0 & 0 \\\\\n",
       "-1 & 1 & 0 \\\\\n",
       "0 & -1 & 1 \\\\\n",
       "0 & 0 & -1\n",
       "\\end{array}\\right)</script></html>"
      ],
      "text/latex": [
       "$$\\newcommand{\\Bold}[1]{\\mathbf{#1}}\\left(\\begin{array}{rrr}\n",
       "1 & 0 & 0 \\\\\n",
       "-1 & 1 & 0 \\\\\n",
       "0 & -1 & 1 \\\\\n",
       "0 & 0 & -1\n",
       "\\end{array}\\right)$$"
      ],
      "text/plain": [
       "[ 1  0  0]\n",
       "[-1  1  0]\n",
       "[ 0 -1  1]\n",
       "[ 0  0 -1]"
      ]
     },
     "execution_count": 22,
     "metadata": {},
     "output_type": "execute_result"
    }
   ],
   "source": [
    "%display latex\n",
    "A = matrix(SR, [[1, 0, 0], [-1, 1, 0], [0, -1, 1], [0, 0, -1]]); A"
   ]
  },
  {
   "cell_type": "code",
   "execution_count": 23,
   "metadata": {},
   "outputs": [
    {
     "data": {
      "text/html": [
       "<html><script type=\"math/tex; mode=display\">\\newcommand{\\Bold}[1]{\\mathbf{#1}}\\left(\\begin{array}{rrrr}\n",
       "-0.2705980500730981 & 0.4999999999999982 & 0.6532814824381891 & 0.5000000000000001 \\\\\n",
       "0.6532814824381878 & -0.5000000000000009 & 0.2705980500730975 & 0.5000000000000001 \\\\\n",
       "-0.6532814824381883 & -0.4999999999999989 & -0.2705980500730997 & 0.5 \\\\\n",
       "0.27059805007309873 & 0.5000000000000013 & -0.6532814824381871 & 0.49999999999999983\n",
       "\\end{array}\\right)</script></html>"
      ],
      "text/latex": [
       "$$\\newcommand{\\Bold}[1]{\\mathbf{#1}}\\left(\\begin{array}{rrrr}\n",
       "-0.2705980500730981 & 0.4999999999999982 & 0.6532814824381891 & 0.5000000000000001 \\\\\n",
       "0.6532814824381878 & -0.5000000000000009 & 0.2705980500730975 & 0.5000000000000001 \\\\\n",
       "-0.6532814824381883 & -0.4999999999999989 & -0.2705980500730997 & 0.5 \\\\\n",
       "0.27059805007309873 & 0.5000000000000013 & -0.6532814824381871 & 0.49999999999999983\n",
       "\\end{array}\\right)$$"
      ],
      "text/plain": [
       "[-0.2705980500730981  0.4999999999999982  0.6532814824381891  0.5000000000000001]\n",
       "[ 0.6532814824381878 -0.5000000000000009  0.2705980500730975  0.5000000000000001]\n",
       "[-0.6532814824381883 -0.4999999999999989 -0.2705980500730997                 0.5]\n",
       "[0.27059805007309873  0.5000000000000013 -0.6532814824381871 0.49999999999999983]"
      ]
     },
     "execution_count": 23,
     "metadata": {},
     "output_type": "execute_result"
    }
   ],
   "source": [
    "U, S, V = (A.change_ring(RDF)).SVD()\n",
    "U"
   ]
  },
  {
   "cell_type": "code",
   "execution_count": 24,
   "metadata": {},
   "outputs": [
    {
     "data": {
      "text/html": [
       "<html><script type=\"math/tex; mode=display\">\\newcommand{\\Bold}[1]{\\mathbf{#1}}\\left(\\begin{array}{rrr}\n",
       "1.8477590650225733 & 0.0 & 0.0 \\\\\n",
       "0.0 & 1.414213562373095 & 0.0 \\\\\n",
       "0.0 & 0.0 & 0.7653668647301793 \\\\\n",
       "0.0 & 0.0 & 0.0\n",
       "\\end{array}\\right)</script></html>"
      ],
      "text/latex": [
       "$$\\newcommand{\\Bold}[1]{\\mathbf{#1}}\\left(\\begin{array}{rrr}\n",
       "1.8477590650225733 & 0.0 & 0.0 \\\\\n",
       "0.0 & 1.414213562373095 & 0.0 \\\\\n",
       "0.0 & 0.0 & 0.7653668647301793 \\\\\n",
       "0.0 & 0.0 & 0.0\n",
       "\\end{array}\\right)$$"
      ],
      "text/plain": [
       "[1.8477590650225733                0.0                0.0]\n",
       "[               0.0  1.414213562373095                0.0]\n",
       "[               0.0                0.0 0.7653668647301793]\n",
       "[               0.0                0.0                0.0]"
      ]
     },
     "execution_count": 24,
     "metadata": {},
     "output_type": "execute_result"
    }
   ],
   "source": [
    "S"
   ]
  },
  {
   "cell_type": "code",
   "execution_count": 25,
   "metadata": {},
   "outputs": [
    {
     "data": {
      "text/html": [
       "<html><script type=\"math/tex; mode=display\">\\newcommand{\\Bold}[1]{\\mathbf{#1}}\\left(\\begin{array}{rrr}\n",
       "-0.4999999999999999 & 0.7071067811865454 & 0.5000000000000029 \\\\\n",
       "0.7071067811865471 & -3.441108539399111 \\times 10^{-15} & 0.7071067811865478 \\\\\n",
       "-0.5000000000000004 & -0.7071067811865495 & 0.4999999999999966\n",
       "\\end{array}\\right)</script></html>"
      ],
      "text/latex": [
       "$$\\newcommand{\\Bold}[1]{\\mathbf{#1}}\\left(\\begin{array}{rrr}\n",
       "-0.4999999999999999 & 0.7071067811865454 & 0.5000000000000029 \\\\\n",
       "0.7071067811865471 & -3.441108539399111 \\times 10^{-15} & 0.7071067811865478 \\\\\n",
       "-0.5000000000000004 & -0.7071067811865495 & 0.4999999999999966\n",
       "\\end{array}\\right)$$"
      ],
      "text/plain": [
       "[   -0.4999999999999999     0.7071067811865454     0.5000000000000029]\n",
       "[    0.7071067811865471 -3.441108539399111e-15     0.7071067811865478]\n",
       "[   -0.5000000000000004    -0.7071067811865495     0.4999999999999966]"
      ]
     },
     "execution_count": 25,
     "metadata": {},
     "output_type": "execute_result"
    }
   ],
   "source": [
    "V"
   ]
  },
  {
   "cell_type": "markdown",
   "metadata": {},
   "source": [
    "(b)"
   ]
  },
  {
   "cell_type": "code",
   "execution_count": 26,
   "metadata": {},
   "outputs": [
    {
     "data": {
      "text/html": [
       "<html><script type=\"math/tex; mode=display\">\\newcommand{\\Bold}[1]{\\mathbf{#1}}\\left(\\begin{array}{rrr}\n",
       "0.9999999999999979 & -1.240293742738464 \\times 10^{-15} & -1.165734175856416 \\times 10^{-15} \\\\\n",
       "-0.9999999999999984 & 1.0000000000000009 & 1.0056670134217877 \\times 10^{-15} \\\\\n",
       "1.4977156947037764 \\times 10^{-15} & -0.9999999999999978 & 1.000000000000001 \\\\\n",
       "-1.276756478318927 \\times 10^{-15} & -1.8077190387630668 \\times 10^{-15} & -1.0000000000000009\n",
       "\\end{array}\\right)</script></html>"
      ],
      "text/latex": [
       "$$\\newcommand{\\Bold}[1]{\\mathbf{#1}}\\left(\\begin{array}{rrr}\n",
       "0.9999999999999979 & -1.240293742738464 \\times 10^{-15} & -1.165734175856416 \\times 10^{-15} \\\\\n",
       "-0.9999999999999984 & 1.0000000000000009 & 1.0056670134217877 \\times 10^{-15} \\\\\n",
       "1.4977156947037764 \\times 10^{-15} & -0.9999999999999978 & 1.000000000000001 \\\\\n",
       "-1.276756478318927 \\times 10^{-15} & -1.8077190387630668 \\times 10^{-15} & -1.0000000000000009\n",
       "\\end{array}\\right)$$"
      ],
      "text/plain": [
       "[     0.9999999999999979  -1.240293742738464e-15  -1.165734175856416e-15]\n",
       "[    -0.9999999999999984      1.0000000000000009  1.0056670134217877e-15]\n",
       "[ 1.4977156947037764e-15     -0.9999999999999978       1.000000000000001]\n",
       "[ -1.276756478318927e-15 -1.8077190387630668e-15     -1.0000000000000009]"
      ]
     },
     "execution_count": 26,
     "metadata": {},
     "output_type": "execute_result"
    }
   ],
   "source": [
    "RA = U*S*transpose(V); RA"
   ]
  },
  {
   "cell_type": "code",
   "execution_count": 27,
   "metadata": {},
   "outputs": [
    {
     "data": {
      "text/html": [
       "<html><script type=\"math/tex; mode=display\">\\newcommand{\\Bold}[1]{\\mathbf{#1}}\\left(\\begin{array}{rrr}\n",
       "-2.1094237467877974 \\times 10^{-15} & -1.240293742738464 \\times 10^{-15} & -1.165734175856416 \\times 10^{-15} \\\\\n",
       "1.5543122344752192 \\times 10^{-15} & 8.881784197001252 \\times 10^{-16} & 1.0056670134217877 \\times 10^{-15} \\\\\n",
       "1.4977156947037764 \\times 10^{-15} & 2.220446049250313 \\times 10^{-15} & 1.1102230246251565 \\times 10^{-15} \\\\\n",
       "-1.276756478318927 \\times 10^{-15} & -1.8077190387630668 \\times 10^{-15} & -8.881784197001252 \\times 10^{-16}\n",
       "\\end{array}\\right)</script></html>"
      ],
      "text/latex": [
       "$$\\newcommand{\\Bold}[1]{\\mathbf{#1}}\\left(\\begin{array}{rrr}\n",
       "-2.1094237467877974 \\times 10^{-15} & -1.240293742738464 \\times 10^{-15} & -1.165734175856416 \\times 10^{-15} \\\\\n",
       "1.5543122344752192 \\times 10^{-15} & 8.881784197001252 \\times 10^{-16} & 1.0056670134217877 \\times 10^{-15} \\\\\n",
       "1.4977156947037764 \\times 10^{-15} & 2.220446049250313 \\times 10^{-15} & 1.1102230246251565 \\times 10^{-15} \\\\\n",
       "-1.276756478318927 \\times 10^{-15} & -1.8077190387630668 \\times 10^{-15} & -8.881784197001252 \\times 10^{-16}\n",
       "\\end{array}\\right)$$"
      ],
      "text/plain": [
       "[-2.1094237467877974e-15  -1.240293742738464e-15  -1.165734175856416e-15]\n",
       "[ 1.5543122344752192e-15   8.881784197001252e-16  1.0056670134217877e-15]\n",
       "[ 1.4977156947037764e-15   2.220446049250313e-15  1.1102230246251565e-15]\n",
       "[ -1.276756478318927e-15 -1.8077190387630668e-15  -8.881784197001252e-16]"
      ]
     },
     "execution_count": 27,
     "metadata": {},
     "output_type": "execute_result"
    }
   ],
   "source": [
    "RA - A"
   ]
  },
  {
   "cell_type": "markdown",
   "metadata": {},
   "source": [
    "The discrepancy is due to numerical errors related to the finite number of digits (16 digits)\n",
    "\n",
    "(c)"
   ]
  },
  {
   "cell_type": "code",
   "execution_count": 28,
   "metadata": {},
   "outputs": [
    {
     "data": {
      "text/html": [
       "<html><script type=\"math/tex; mode=display\">\\newcommand{\\Bold}[1]{\\mathbf{#1}}\\left(\\begin{array}{rrr}\n",
       "2 & -1 & 0 \\\\\n",
       "-1 & 2 & -1 \\\\\n",
       "0 & -1 & 2\n",
       "\\end{array}\\right)</script></html>"
      ],
      "text/latex": [
       "$$\\newcommand{\\Bold}[1]{\\mathbf{#1}}\\left(\\begin{array}{rrr}\n",
       "2 & -1 & 0 \\\\\n",
       "-1 & 2 & -1 \\\\\n",
       "0 & -1 & 2\n",
       "\\end{array}\\right)$$"
      ],
      "text/plain": [
       "[ 2 -1  0]\n",
       "[-1  2 -1]\n",
       "[ 0 -1  2]"
      ]
     },
     "execution_count": 28,
     "metadata": {},
     "output_type": "execute_result"
    }
   ],
   "source": [
    "ATA = transpose(A) * A; ATA"
   ]
  },
  {
   "cell_type": "code",
   "execution_count": 29,
   "metadata": {},
   "outputs": [],
   "source": [
    "eATA, vATA = ATA.eigenmatrix_right()"
   ]
  },
  {
   "cell_type": "markdown",
   "metadata": {},
   "source": [
    "The eigenvalues are the diagonal elements of the matrix:"
   ]
  },
  {
   "cell_type": "code",
   "execution_count": 30,
   "metadata": {},
   "outputs": [
    {
     "data": {
      "text/html": [
       "<html><script type=\"math/tex; mode=display\">\\newcommand{\\Bold}[1]{\\mathbf{#1}}\\left(\\begin{array}{rrr}\n",
       "-\\sqrt{2} + 2 & 0 & 0 \\\\\n",
       "0 & \\sqrt{2} + 2 & 0 \\\\\n",
       "0 & 0 & 2\n",
       "\\end{array}\\right)</script></html>"
      ],
      "text/latex": [
       "$$\\newcommand{\\Bold}[1]{\\mathbf{#1}}\\left(\\begin{array}{rrr}\n",
       "-\\sqrt{2} + 2 & 0 & 0 \\\\\n",
       "0 & \\sqrt{2} + 2 & 0 \\\\\n",
       "0 & 0 & 2\n",
       "\\end{array}\\right)$$"
      ],
      "text/plain": [
       "[-sqrt(2) + 2            0            0]\n",
       "[           0  sqrt(2) + 2            0]\n",
       "[           0            0            2]"
      ]
     },
     "execution_count": 30,
     "metadata": {},
     "output_type": "execute_result"
    }
   ],
   "source": [
    "eATA"
   ]
  },
  {
   "cell_type": "code",
   "execution_count": 31,
   "metadata": {},
   "outputs": [
    {
     "data": {
      "text/html": [
       "<html><script type=\"math/tex; mode=display\">\\newcommand{\\Bold}[1]{\\mathbf{#1}}\\left[\\sqrt{2} + 2, 2, -\\sqrt{2} + 2\\right]</script></html>"
      ],
      "text/latex": [
       "$$\\newcommand{\\Bold}[1]{\\mathbf{#1}}\\left[\\sqrt{2} + 2, 2, -\\sqrt{2} + 2\\right]$$"
      ],
      "text/plain": [
       "[sqrt(2) + 2, 2, -sqrt(2) + 2]"
      ]
     },
     "execution_count": 31,
     "metadata": {},
     "output_type": "execute_result"
    }
   ],
   "source": [
    "eordered = [eATA[1][1], eATA[2][2], eATA[0][0]]; eordered"
   ]
  },
  {
   "cell_type": "code",
   "execution_count": 32,
   "metadata": {},
   "outputs": [],
   "source": [
    "e1 = vATA.column(1)\n",
    "e2 = vATA.column(2)\n",
    "e3 = vATA.column(0)\n",
    "\n",
    "ne1 = e1/norm(e1)\n",
    "ne2 = e2/norm(e2)\n",
    "ne3 = e3/norm(e3)"
   ]
  },
  {
   "cell_type": "markdown",
   "metadata": {},
   "source": [
    "The normalized eigenvectors are the columns of the matrix"
   ]
  },
  {
   "cell_type": "code",
   "execution_count": 33,
   "metadata": {},
   "outputs": [
    {
     "data": {
      "text/html": [
       "<html><script type=\"math/tex; mode=display\">\\newcommand{\\Bold}[1]{\\mathbf{#1}}\\left(\\begin{array}{rrr}\n",
       "\\frac{1}{2} & \\frac{1}{2} \\, \\sqrt{2} & \\frac{1}{2} \\\\\n",
       "-\\frac{1}{2} \\, \\sqrt{2} & 0 & \\frac{1}{2} \\, \\sqrt{2} \\\\\n",
       "\\frac{1}{2} & -\\frac{1}{2} \\, \\sqrt{2} & \\frac{1}{2}\n",
       "\\end{array}\\right)</script></html>"
      ],
      "text/latex": [
       "$$\\newcommand{\\Bold}[1]{\\mathbf{#1}}\\left(\\begin{array}{rrr}\n",
       "\\frac{1}{2} & \\frac{1}{2} \\, \\sqrt{2} & \\frac{1}{2} \\\\\n",
       "-\\frac{1}{2} \\, \\sqrt{2} & 0 & \\frac{1}{2} \\, \\sqrt{2} \\\\\n",
       "\\frac{1}{2} & -\\frac{1}{2} \\, \\sqrt{2} & \\frac{1}{2}\n",
       "\\end{array}\\right)$$"
      ],
      "text/plain": [
       "[         1/2  1/2*sqrt(2)          1/2]\n",
       "[-1/2*sqrt(2)            0  1/2*sqrt(2)]\n",
       "[         1/2 -1/2*sqrt(2)          1/2]"
      ]
     },
     "execution_count": 33,
     "metadata": {},
     "output_type": "execute_result"
    }
   ],
   "source": [
    "vv = column_matrix(SR, [ne1, ne2, ne3]); vv"
   ]
  },
  {
   "cell_type": "markdown",
   "metadata": {},
   "source": [
    "(d)"
   ]
  },
  {
   "cell_type": "code",
   "execution_count": 34,
   "metadata": {},
   "outputs": [
    {
     "data": {
      "text/html": [
       "<html><script type=\"math/tex; mode=display\">\\newcommand{\\Bold}[1]{\\mathbf{#1}}\\left[-2.220446049250313 \\times 10^{-16}, -2.220446049250313 \\times 10^{-16}, -1.1102230246251565 \\times 10^{-16}\\right]</script></html>"
      ],
      "text/latex": [
       "$$\\newcommand{\\Bold}[1]{\\mathbf{#1}}\\left[-2.220446049250313 \\times 10^{-16}, -2.220446049250313 \\times 10^{-16}, -1.1102230246251565 \\times 10^{-16}\\right]$$"
      ],
      "text/plain": [
       "[-2.220446049250313e-16, -2.220446049250313e-16, -1.1102230246251565e-16]"
      ]
     },
     "execution_count": 34,
     "metadata": {},
     "output_type": "execute_result"
    }
   ],
   "source": [
    "[ (S[i][i] - sqrt(eordered[i]).n()) for i in range(0, 3) ]"
   ]
  },
  {
   "cell_type": "markdown",
   "metadata": {},
   "source": [
    "We confirm that the diagonal entries of S are the square roots of the eigenvalues as expected."
   ]
  },
  {
   "cell_type": "markdown",
   "metadata": {},
   "source": [
    "(e)"
   ]
  },
  {
   "cell_type": "code",
   "execution_count": 35,
   "metadata": {},
   "outputs": [
    {
     "data": {
      "text/html": [
       "<html><script type=\"math/tex; mode=display\">\\newcommand{\\Bold}[1]{\\mathbf{#1}}\\left(\\left(\\begin{array}{rrr}\n",
       "0.500000000000000 & 0.707106781186548 & 0.500000000000000 \\\\\n",
       "-0.707106781186548 & 0.000000000000000 & 0.707106781186548 \\\\\n",
       "0.500000000000000 & -0.707106781186548 & 0.500000000000000\n",
       "\\end{array}\\right), \\left(\\begin{array}{rrr}\n",
       "-0.4999999999999999 & 0.7071067811865454 & 0.5000000000000029 \\\\\n",
       "0.7071067811865471 & -3.441108539399111 \\times 10^{-15} & 0.7071067811865478 \\\\\n",
       "-0.5000000000000004 & -0.7071067811865495 & 0.4999999999999966\n",
       "\\end{array}\\right)\\right)</script></html>"
      ],
      "text/latex": [
       "$$\\newcommand{\\Bold}[1]{\\mathbf{#1}}\\left(\\left(\\begin{array}{rrr}\n",
       "0.500000000000000 & 0.707106781186548 & 0.500000000000000 \\\\\n",
       "-0.707106781186548 & 0.000000000000000 & 0.707106781186548 \\\\\n",
       "0.500000000000000 & -0.707106781186548 & 0.500000000000000\n",
       "\\end{array}\\right), \\left(\\begin{array}{rrr}\n",
       "-0.4999999999999999 & 0.7071067811865454 & 0.5000000000000029 \\\\\n",
       "0.7071067811865471 & -3.441108539399111 \\times 10^{-15} & 0.7071067811865478 \\\\\n",
       "-0.5000000000000004 & -0.7071067811865495 & 0.4999999999999966\n",
       "\\end{array}\\right)\\right)$$"
      ],
      "text/plain": [
       "(\n",
       "[ 0.500000000000000  0.707106781186548  0.500000000000000]\n",
       "[-0.707106781186548  0.000000000000000  0.707106781186548]\n",
       "[ 0.500000000000000 -0.707106781186548  0.500000000000000],\n",
       "\n",
       "[   -0.4999999999999999     0.7071067811865454     0.5000000000000029]\n",
       "[    0.7071067811865471 -3.441108539399111e-15     0.7071067811865478]\n",
       "[   -0.5000000000000004    -0.7071067811865495     0.4999999999999966]\n",
       ")"
      ]
     },
     "execution_count": 35,
     "metadata": {},
     "output_type": "execute_result"
    }
   ],
   "source": [
    "vv.n(), V"
   ]
  },
  {
   "cell_type": "markdown",
   "metadata": {},
   "source": [
    "**Problem 9**\n",
    "\n",
    "(a)"
   ]
  },
  {
   "cell_type": "code",
   "execution_count": 36,
   "metadata": {},
   "outputs": [
    {
     "data": {
      "text/html": [
       "<html><script type=\"math/tex; mode=display\">\\newcommand{\\Bold}[1]{\\mathbf{#1}}\\left(\\begin{array}{rrrrrr}\n",
       "1 & 1 & 0 & 0 & 0 & 0 \\\\\n",
       "1 & 2 & 1 & 0 & 0 & 0 \\\\\n",
       "0 & 1 & 2 & 1 & 0 & 0 \\\\\n",
       "0 & 0 & 1 & 3 & 1 & 0 \\\\\n",
       "0 & 0 & 0 & 1 & 3 & 1 \\\\\n",
       "0 & 0 & 0 & 0 & 1 & x\n",
       "\\end{array}\\right)</script></html>"
      ],
      "text/latex": [
       "$$\\newcommand{\\Bold}[1]{\\mathbf{#1}}\\left(\\begin{array}{rrrrrr}\n",
       "1 & 1 & 0 & 0 & 0 & 0 \\\\\n",
       "1 & 2 & 1 & 0 & 0 & 0 \\\\\n",
       "0 & 1 & 2 & 1 & 0 & 0 \\\\\n",
       "0 & 0 & 1 & 3 & 1 & 0 \\\\\n",
       "0 & 0 & 0 & 1 & 3 & 1 \\\\\n",
       "0 & 0 & 0 & 0 & 1 & x\n",
       "\\end{array}\\right)$$"
      ],
      "text/plain": [
       "[1 1 0 0 0 0]\n",
       "[1 2 1 0 0 0]\n",
       "[0 1 2 1 0 0]\n",
       "[0 0 1 3 1 0]\n",
       "[0 0 0 1 3 1]\n",
       "[0 0 0 0 1 x]"
      ]
     },
     "execution_count": 36,
     "metadata": {},
     "output_type": "execute_result"
    }
   ],
   "source": [
    "x = var('x')\n",
    "A = matrix(SR, [[1,1,0,0,0,0], [1,2,1,0,0,0], [0,1,2,1,0,0], [0,0,1,3,1,0], [0,0,0,1,3,1], [0,0,0,0,1,x]]); A"
   ]
  },
  {
   "cell_type": "markdown",
   "metadata": {},
   "source": [
    "The matrix is sigular when the determinant vanishes"
   ]
  },
  {
   "cell_type": "code",
   "execution_count": 37,
   "metadata": {},
   "outputs": [
    {
     "data": {
      "text/html": [
       "<html><script type=\"math/tex; mode=display\">\\newcommand{\\Bold}[1]{\\mathbf{#1}}\\left[x = \\left(\\frac{2}{5}\\right)\\right]</script></html>"
      ],
      "text/latex": [
       "$$\\newcommand{\\Bold}[1]{\\mathbf{#1}}\\left[x = \\left(\\frac{2}{5}\\right)\\right]$$"
      ],
      "text/plain": [
       "[x == (2/5)]"
      ]
     },
     "execution_count": 37,
     "metadata": {},
     "output_type": "execute_result"
    }
   ],
   "source": [
    "solve(A.det() == 0, x)"
   ]
  },
  {
   "cell_type": "markdown",
   "metadata": {},
   "source": [
    "The Cholesky decomposition is defined for symmetric positive definite matrices. A matrix is positive definite if all\\\n",
    "eigenvalues are positive. We can check this numerically for the matrix A by ploting the smallest eigenvalue of A versus x,\\\n",
    "as follows:"
   ]
  },
  {
   "cell_type": "code",
   "execution_count": 38,
   "metadata": {},
   "outputs": [
    {
     "data": {
      "image/png": "[encoded data removed]",
      "text/plain": [
       "Graphics object consisting of 1 graphics primitive"
      ]
     },
     "execution_count": 38,
     "metadata": {},
     "output_type": "execute_result"
    }
   ],
   "source": [
    "la = var('la')\n",
    "\n",
    "u = [[xx, min(det(A-la*matrix.identity(6)) (x = xx).roots(explicit_solutions = False, multiplicities = False, ring = RR))] for xx in srange(-2,2,.02)]\n",
    "points(u)"
   ]
  },
  {
   "cell_type": "markdown",
   "metadata": {},
   "source": [
    "Finally, we calculate the Cholesky decomposition for x = 3:"
   ]
  },
  {
   "cell_type": "code",
   "execution_count": 39,
   "metadata": {},
   "outputs": [
    {
     "data": {
      "text/html": [
       "<html><script type=\"math/tex; mode=display\">\\newcommand{\\Bold}[1]{\\mathbf{#1}}\\mathrm{True}</script></html>"
      ],
      "text/latex": [
       "$$\\newcommand{\\Bold}[1]{\\mathbf{#1}}\\mathrm{True}$$"
      ],
      "text/plain": [
       "True"
      ]
     },
     "execution_count": 39,
     "metadata": {},
     "output_type": "execute_result"
    }
   ],
   "source": [
    "(A(x = 3)).change_ring(QQ).is_positive_definite()"
   ]
  },
  {
   "cell_type": "code",
   "execution_count": 40,
   "metadata": {},
   "outputs": [
    {
     "data": {
      "text/html": [
       "<html><script type=\"math/tex; mode=display\">\\newcommand{\\Bold}[1]{\\mathbf{#1}}\\mathrm{True}</script></html>"
      ],
      "text/latex": [
       "$$\\newcommand{\\Bold}[1]{\\mathbf{#1}}\\mathrm{True}$$"
      ],
      "text/plain": [
       "True"
      ]
     },
     "execution_count": 40,
     "metadata": {},
     "output_type": "execute_result"
    }
   ],
   "source": [
    "(A(x = 3)).change_ring(QQ).is_symmetric()"
   ]
  },
  {
   "cell_type": "code",
   "execution_count": 41,
   "metadata": {},
   "outputs": [
    {
     "data": {
      "text/html": [
       "<html><script type=\"math/tex; mode=display\">\\newcommand{\\Bold}[1]{\\mathbf{#1}}\\left(\\begin{array}{rrrrrr}\n",
       "1 & 0 & 0 & 0 & 0 & 0 \\\\\n",
       "1 & 1 & 0 & 0 & 0 & 0 \\\\\n",
       "0 & 1 & 1 & 0 & 0 & 0 \\\\\n",
       "0 & 0 & 1 & 1.414213562373095? & 0 & 0 \\\\\n",
       "0 & 0 & 0 & 0.7071067811865475? & 1.581138830084190? & 0 \\\\\n",
       "0 & 0 & 0 & 0 & 0.6324555320336758? & 1.612451549659710?\n",
       "\\end{array}\\right)</script></html>"
      ],
      "text/latex": [
       "$$\\newcommand{\\Bold}[1]{\\mathbf{#1}}\\left(\\begin{array}{rrrrrr}\n",
       "1 & 0 & 0 & 0 & 0 & 0 \\\\\n",
       "1 & 1 & 0 & 0 & 0 & 0 \\\\\n",
       "0 & 1 & 1 & 0 & 0 & 0 \\\\\n",
       "0 & 0 & 1 & 1.414213562373095? & 0 & 0 \\\\\n",
       "0 & 0 & 0 & 0.7071067811865475? & 1.581138830084190? & 0 \\\\\n",
       "0 & 0 & 0 & 0 & 0.6324555320336758? & 1.612451549659710?\n",
       "\\end{array}\\right)$$"
      ],
      "text/plain": [
       "[                  1                   0                   0                   0                   0                   0]\n",
       "[                  1                   1                   0                   0                   0                   0]\n",
       "[                  0                   1                   1                   0                   0                   0]\n",
       "[                  0                   0                   1  1.414213562373095?                   0                   0]\n",
       "[                  0                   0                   0 0.7071067811865475?  1.581138830084190?                   0]\n",
       "[                  0                   0                   0                   0 0.6324555320336758?  1.612451549659710?]"
      ]
     },
     "execution_count": 41,
     "metadata": {},
     "output_type": "execute_result"
    }
   ],
   "source": [
    "L = (A(x = 3)).change_ring(QQ).cholesky(); L"
   ]
  },
  {
   "cell_type": "code",
   "execution_count": 42,
   "metadata": {},
   "outputs": [
    {
     "data": {
      "text/html": [
       "<html><script type=\"math/tex; mode=display\">\\newcommand{\\Bold}[1]{\\mathbf{#1}}\\left(\\begin{array}{rrrrrr}\n",
       "1 & 1 & 0 & 0 & 0 & 0 \\\\\n",
       "1 & 2 & 1 & 0 & 0 & 0 \\\\\n",
       "0 & 1 & 2 & 1 & 0 & 0 \\\\\n",
       "0 & 0 & 1 & 3 & 1 & 0 \\\\\n",
       "0 & 0 & 0 & 1 & 3 & 1 \\\\\n",
       "0 & 0 & 0 & 0 & 1 & 3\n",
       "\\end{array}\\right)</script></html>"
      ],
      "text/latex": [
       "$$\\newcommand{\\Bold}[1]{\\mathbf{#1}}\\left(\\begin{array}{rrrrrr}\n",
       "1 & 1 & 0 & 0 & 0 & 0 \\\\\n",
       "1 & 2 & 1 & 0 & 0 & 0 \\\\\n",
       "0 & 1 & 2 & 1 & 0 & 0 \\\\\n",
       "0 & 0 & 1 & 3 & 1 & 0 \\\\\n",
       "0 & 0 & 0 & 1 & 3 & 1 \\\\\n",
       "0 & 0 & 0 & 0 & 1 & 3\n",
       "\\end{array}\\right)$$"
      ],
      "text/plain": [
       "[1 1 0 0 0 0]\n",
       "[1 2 1 0 0 0]\n",
       "[0 1 2 1 0 0]\n",
       "[0 0 1 3 1 0]\n",
       "[0 0 0 1 3 1]\n",
       "[0 0 0 0 1 3]"
      ]
     },
     "execution_count": 42,
     "metadata": {},
     "output_type": "execute_result"
    }
   ],
   "source": [
    "(A(x = 3)).change_ring(QQ)"
   ]
  },
  {
   "cell_type": "markdown",
   "metadata": {},
   "source": [
    "(c)"
   ]
  },
  {
   "cell_type": "code",
   "execution_count": 43,
   "metadata": {},
   "outputs": [
    {
     "data": {
      "text/html": [
       "<html><script type=\"math/tex; mode=display\">\\newcommand{\\Bold}[1]{\\mathbf{#1}}5.692061405548898 \\times 10^{-19}</script></html>"
      ],
      "text/latex": [
       "$$\\newcommand{\\Bold}[1]{\\mathbf{#1}}5.692061405548898 \\times 10^{-19}$$"
      ],
      "text/plain": [
       "5.692061405548898e-19"
      ]
     },
     "execution_count": 43,
     "metadata": {},
     "output_type": "execute_result"
    }
   ],
   "source": [
    "((A(x = 3)).change_ring(QQ) - L*transpose(L)).norm(1)"
   ]
  },
  {
   "cell_type": "markdown",
   "metadata": {},
   "source": [
    "The discrepancy is due to numerical errors related to the finite number of digits (16 digits)\n",
    "\n",
    "(d)"
   ]
  },
  {
   "cell_type": "code",
   "execution_count": 44,
   "metadata": {},
   "outputs": [
    {
     "data": {
      "text/html": [
       "<html><script type=\"math/tex; mode=display\">\\newcommand{\\Bold}[1]{\\mathbf{#1}}\\left[13.00000000000000?, 13\\right]</script></html>"
      ],
      "text/latex": [
       "$$\\newcommand{\\Bold}[1]{\\mathbf{#1}}\\left[13.00000000000000?, 13\\right]$$"
      ],
      "text/plain": [
       "[13.00000000000000?, 13]"
      ]
     },
     "execution_count": 44,
     "metadata": {},
     "output_type": "execute_result"
    }
   ],
   "source": [
    "[det(L*transpose(L)), det(A).subs(x = 3)]"
   ]
  },
  {
   "cell_type": "code",
   "execution_count": 45,
   "metadata": {},
   "outputs": [
    {
     "data": {
      "text/html": [
       "<html><script type=\"math/tex; mode=display\">\\newcommand{\\Bold}[1]{\\mathbf{#1}}0.?e-36</script></html>"
      ],
      "text/latex": [
       "$$\\newcommand{\\Bold}[1]{\\mathbf{#1}}0.?e-36$$"
      ],
      "text/plain": [
       "0.?e-36"
      ]
     },
     "execution_count": 45,
     "metadata": {},
     "output_type": "execute_result"
    }
   ],
   "source": [
    "det(L*transpose(L)) - det(A).subs(x = 3)"
   ]
  },
  {
   "cell_type": "markdown",
   "metadata": {},
   "source": [
    "The small discrepancy is due to numerical errors related to the finite number of digits (16 digits)"
   ]
  },
  {
   "cell_type": "markdown",
   "metadata": {},
   "source": [
    "**Problem 10**\n",
    "\n",
    "Following “13.2.7 Application to Least Squares” page 287 in SageMath book"
   ]
  },
  {
   "cell_type": "code",
   "execution_count": 47,
   "metadata": {},
   "outputs": [
    {
     "data": {
      "text/html": [
       "<html><script type=\"math/tex; mode=display\">\\newcommand{\\Bold}[1]{\\mathbf{#1}}\\left(-0.5405405405405405,\\,-1.054054054054054,\\,-1.8108108108108107\\right)</script></html>"
      ],
      "text/latex": [
       "$$\\newcommand{\\Bold}[1]{\\mathbf{#1}}\\left(-0.5405405405405405,\\,-1.054054054054054,\\,-1.8108108108108107\\right)$$"
      ],
      "text/plain": [
       "(-0.5405405405405405, -1.054054054054054, -1.8108108108108107)"
      ]
     },
     "execution_count": 47,
     "metadata": {},
     "output_type": "execute_result"
    }
   ],
   "source": [
    "A = matrix(RDF, [[1,-1,0], [-1,1,1], [1,2,-1], [0, -1,1], [0,1,-1]])\n",
    "b = vector(RDF, [1, -2,-1, 0, 2])\n",
    "Z = transpose(A)*A\n",
    "C = Z.cholesky()\n",
    "R = transpose(A)*b\n",
    "Z.solve_right(R)"
   ]
  },
  {
   "cell_type": "markdown",
   "metadata": {},
   "source": [
    "### Unit 4\n",
    "\n",
    "**Problem 7**\n",
    "\n",
    "Use Sagemath for computing all the separate Taylor series with up to 5 terms that approximate the function cos(x) about x0 = 0, and plot all of them along with the cos(x) for angles between [−π, π] into a\n",
    "common plot. What do you observe about those approximation polynomials as their degree increases?\n",
    "What happens as the angle gets further away from zero radians (e.g., for angles greater than π) ?"
   ]
  },
  {
   "cell_type": "code",
   "execution_count": 48,
   "metadata": {},
   "outputs": [
    {
     "data": {
      "text/html": [
       "<html><script type=\"math/tex; mode=display\">\\newcommand{\\Bold}[1]{\\mathbf{#1}}\\left[1, -\\frac{1}{2} \\, x^{2} + 1, \\frac{1}{24} \\, x^{4} - \\frac{1}{2} \\, x^{2} + 1, -\\frac{1}{720} \\, x^{6} + \\frac{1}{24} \\, x^{4} - \\frac{1}{2} \\, x^{2} + 1, \\frac{1}{40320} \\, x^{8} - \\frac{1}{720} \\, x^{6} + \\frac{1}{24} \\, x^{4} - \\frac{1}{2} \\, x^{2} + 1\\right]</script></html>"
      ],
      "text/latex": [
       "$$\\newcommand{\\Bold}[1]{\\mathbf{#1}}\\left[1, -\\frac{1}{2} \\, x^{2} + 1, \\frac{1}{24} \\, x^{4} - \\frac{1}{2} \\, x^{2} + 1, -\\frac{1}{720} \\, x^{6} + \\frac{1}{24} \\, x^{4} - \\frac{1}{2} \\, x^{2} + 1, \\frac{1}{40320} \\, x^{8} - \\frac{1}{720} \\, x^{6} + \\frac{1}{24} \\, x^{4} - \\frac{1}{2} \\, x^{2} + 1\\right]$$"
      ],
      "text/plain": [
       "[1,\n",
       " -1/2*x^2 + 1,\n",
       " 1/24*x^4 - 1/2*x^2 + 1,\n",
       " -1/720*x^6 + 1/24*x^4 - 1/2*x^2 + 1,\n",
       " 1/40320*x^8 - 1/720*x^6 + 1/24*x^4 - 1/2*x^2 + 1]"
      ]
     },
     "execution_count": 48,
     "metadata": {},
     "output_type": "execute_result"
    }
   ],
   "source": [
    "w = [taylor(cos(x), x, 0, iterms) for iterms in range(0, 10, 2)]; w"
   ]
  },
  {
   "cell_type": "code",
   "execution_count": 49,
   "metadata": {},
   "outputs": [
    {
     "data": {
      "image/png": "[encoded data removed]",
      "text/plain": [
       "Graphics object consisting of 6 graphics primitives"
      ]
     },
     "execution_count": 49,
     "metadata": {},
     "output_type": "execute_result"
    }
   ],
   "source": [
    "g = plot(cos(x), (x, -pi, pi), linestyle = \"--\")\n",
    "g + plot(w, (x, -pi, pi), color = (\"blue\", \"red\", \"green\", \"orange\", \"yellow\"))"
   ]
  },
  {
   "cell_type": "markdown",
   "metadata": {},
   "source": [
    "We note that the function (dashed line) is better approximated as the degree of the taylor polynomial increases."
   ]
  },
  {
   "cell_type": "code",
   "execution_count": 50,
   "metadata": {},
   "outputs": [
    {
     "data": {
      "image/png": "[encoded data removed]",
      "text/plain": [
       "Graphics object consisting of 2 graphics primitives"
      ]
     },
     "execution_count": 50,
     "metadata": {},
     "output_type": "execute_result"
    }
   ],
   "source": [
    "plot([w[-1], cos(x)], (x, -2*pi, 2*pi), ymax = 3, color = [\"red\", \"blue\"])"
   ]
  },
  {
   "cell_type": "markdown",
   "metadata": {},
   "source": [
    "However, even the highest (eighth) degree polynomial approximation fails outside the region [-π, π]"
   ]
  },
  {
   "cell_type": "markdown",
   "metadata": {},
   "source": [
    "**Problem 9**\n",
    "\n",
    "(a) Install the automatic differentation library autograd in sagemath.\\\n",
    "(b) Utilise autograd to calculate numerically the gradient of the function\n",
    "$f(x, y) = cos(exp(x^2 − y^2)) − sin(x^2) sin(y^2)$\n",
    "for 11 equally-spaced points along the line $x + y = 1$ with $x ∈ [−1, 1]$ (including the endpoints).\n",
    "(c) Using sagemath calculate the gradient of f(x, y) analytically and evaluate it at the points defined in\n",
    "question (b).\\\n",
    "(d) Compare the results of questions (b) and (c) and comment on any discrepancies."
   ]
  },
  {
   "cell_type": "code",
   "execution_count": null,
   "metadata": {},
   "outputs": [],
   "source": [
    "%display plain"
   ]
  },
  {
   "cell_type": "code",
   "execution_count": 51,
   "metadata": {},
   "outputs": [
    {
     "name": "stdout",
     "output_type": "stream",
     "text": [
      "Collecting autograd\n",
      "  Using cached autograd-1.6.2-py3-none-any.whl (49 kB)\n",
      "Requirement already satisfied: numpy>=1.12 in /opt/sagemath-9.3/local/lib/python3.7/site-packages (from autograd) (1.19.5)\n",
      "Collecting future>=0.15.2\n",
      "  Downloading future-1.0.0-py3-none-any.whl (491 kB)\n",
      "\u001b[K     |████████████████████████████████| 491 kB 1.6 MB/s eta 0:00:01\n",
      "\u001b[?25hInstalling collected packages: future, autograd\n",
      "Successfully installed autograd-1.6.2 future-1.0.0\n",
      "\u001b[33mWARNING: You are using pip version 21.0.1; however, version 24.0 is available.\n",
      "You should consider upgrading via the '/opt/sagemath-9.3/local/bin/python3 -m pip install --upgrade pip' command.\u001b[0m\n",
      "Note: you may need to restart the kernel to use updated packages.\n"
     ]
    }
   ],
   "source": [
    "pip install autograd"
   ]
  },
  {
   "cell_type": "code",
   "execution_count": 54,
   "metadata": {},
   "outputs": [],
   "source": [
    "import autograd.numpy as np\n",
    "from autograd import grad"
   ]
  },
  {
   "cell_type": "markdown",
   "metadata": {},
   "source": [
    "(b)"
   ]
  },
  {
   "cell_type": "code",
   "execution_count": 55,
   "metadata": {},
   "outputs": [],
   "source": [
    "def f(w):\n",
    "    x,y = w\n",
    "    return np.cos(np.exp(x^2 - y^2)) - np.sin(x^2)*np.sin(y^2)"
   ]
  },
  {
   "cell_type": "code",
   "execution_count": 56,
   "metadata": {},
   "outputs": [],
   "source": [
    "agrad_f = grad(f)"
   ]
  },
  {
   "cell_type": "code",
   "execution_count": 58,
   "metadata": {},
   "outputs": [
    {
     "data": {
      "text/html": [
       "<html><script type=\"math/tex; mode=display\">\\newcommand{\\Bold}[1]{\\mathbf{#1}}\\left[\\verb|[-0.81284881|\\phantom{\\verb!xx!}\\verb|2.20999948]|, \\verb|[-0.11726926|\\phantom{\\verb!xx!}\\verb|2.15934352]|, \\verb|[0.63167069|\\phantom{\\verb!x!}\\verb|0.98114761]|, \\verb|[0.75247481|\\phantom{\\verb!x!}\\verb|0.2454285|\\phantom{\\verb!x!}\\verb|]|, \\verb|[0.42034436|\\phantom{\\verb!x!}\\verb|0.13195216]|, \\verb|[1.08110659e-16|\\phantom{\\verb!x!}\\verb|2.64606533e-01]|, \\verb|[-0.35320735|\\phantom{\\verb!xx!}\\verb|0.40676056]|, \\verb|[-0.75654151|\\phantom{\\verb!xx!}\\verb|0.53855609]|, \\verb|[-1.55605392|\\phantom{\\verb!xx!}\\verb|0.63986517]|, \\verb|[-2.87512176|\\phantom{\\verb!xx!}\\verb|0.46726323]|, \\verb|[-2.23323863|\\phantom{\\verb!xx!}\\verb|0.|\\phantom{\\verb!xxxxxxxx!}\\verb|]|\\right]</script></html>"
      ],
      "text/latex": [
       "$$\\newcommand{\\Bold}[1]{\\mathbf{#1}}\\left[\\verb|[-0.81284881|\\phantom{\\verb!xx!}\\verb|2.20999948]|, \\verb|[-0.11726926|\\phantom{\\verb!xx!}\\verb|2.15934352]|, \\verb|[0.63167069|\\phantom{\\verb!x!}\\verb|0.98114761]|, \\verb|[0.75247481|\\phantom{\\verb!x!}\\verb|0.2454285|\\phantom{\\verb!x!}\\verb|]|, \\verb|[0.42034436|\\phantom{\\verb!x!}\\verb|0.13195216]|, \\verb|[1.08110659e-16|\\phantom{\\verb!x!}\\verb|2.64606533e-01]|, \\verb|[-0.35320735|\\phantom{\\verb!xx!}\\verb|0.40676056]|, \\verb|[-0.75654151|\\phantom{\\verb!xx!}\\verb|0.53855609]|, \\verb|[-1.55605392|\\phantom{\\verb!xx!}\\verb|0.63986517]|, \\verb|[-2.87512176|\\phantom{\\verb!xx!}\\verb|0.46726323]|, \\verb|[-2.23323863|\\phantom{\\verb!xx!}\\verb|0.|\\phantom{\\verb!xxxxxxxx!}\\verb|]|\\right]$$"
      ],
      "text/plain": [
       "[array([-0.81284881,  2.20999948]),\n",
       " array([-0.11726926,  2.15934352]),\n",
       " array([0.63167069, 0.98114761]),\n",
       " array([0.75247481, 0.2454285 ]),\n",
       " array([0.42034436, 0.13195216]),\n",
       " array([1.08110659e-16, 2.64606533e-01]),\n",
       " array([-0.35320735,  0.40676056]),\n",
       " array([-0.75654151,  0.53855609]),\n",
       " array([-1.55605392,  0.63986517]),\n",
       " array([-2.87512176,  0.46726323]),\n",
       " array([-2.23323863,  0.        ])]"
      ]
     },
     "execution_count": 58,
     "metadata": {},
     "output_type": "execute_result"
    }
   ],
   "source": [
    "ps = [[x, 1-x] for x in srange(-1, 1.2, .2)]\n",
    "autograd = [agrad_f(np.array(xy)) for xy in ps]; autograd"
   ]
  },
  {
   "cell_type": "markdown",
   "metadata": {},
   "source": [
    "(c)"
   ]
  },
  {
   "cell_type": "code",
   "execution_count": 59,
   "metadata": {},
   "outputs": [
    {
     "data": {
      "text/html": [
       "<html><script type=\"math/tex; mode=display\">\\newcommand{\\Bold}[1]{\\mathbf{#1}}\\left[\\left(-0.812848810066905,\\,2.20999947851874\\right), \\left(-0.117269258435121,\\,2.15934352495780\\right), \\left(0.631670689396090,\\,0.981147612602535\\right), \\left(0.752474814064061,\\,0.245428500876159\\right), \\left(0.420344364180952,\\,0.131952158195372\\right), \\left(1.08110659468708 \\times 10^{-16},\\,0.264606533176414\\right), \\left(-0.353207349340094,\\,0.406760558930828\\right), \\left(-0.756541506629322,\\,0.538556094531499\\right), \\left(-1.55605391796461,\\,0.639865168368082\\right), \\left(-2.87512176136877,\\,0.467263230734805\\right), \\left(-2.23323863489003,\\,0\\right)\\right]</script></html>"
      ],
      "text/latex": [
       "$$\\newcommand{\\Bold}[1]{\\mathbf{#1}}\\left[\\left(-0.812848810066905,\\,2.20999947851874\\right), \\left(-0.117269258435121,\\,2.15934352495780\\right), \\left(0.631670689396090,\\,0.981147612602535\\right), \\left(0.752474814064061,\\,0.245428500876159\\right), \\left(0.420344364180952,\\,0.131952158195372\\right), \\left(1.08110659468708 \\times 10^{-16},\\,0.264606533176414\\right), \\left(-0.353207349340094,\\,0.406760558930828\\right), \\left(-0.756541506629322,\\,0.538556094531499\\right), \\left(-1.55605391796461,\\,0.639865168368082\\right), \\left(-2.87512176136877,\\,0.467263230734805\\right), \\left(-2.23323863489003,\\,0\\right)\\right]$$"
      ],
      "text/plain": [
       "[(-0.812848810066905, 2.20999947851874),\n",
       " (-0.117269258435121, 2.15934352495780),\n",
       " (0.631670689396090, 0.981147612602535),\n",
       " (0.752474814064061, 0.245428500876159),\n",
       " (0.420344364180952, 0.131952158195372),\n",
       " (1.08110659468708e-16, 0.264606533176414),\n",
       " (-0.353207349340094, 0.406760558930828),\n",
       " (-0.756541506629322, 0.538556094531499),\n",
       " (-1.55605391796461, 0.639865168368082),\n",
       " (-2.87512176136877, 0.467263230734805),\n",
       " (-2.23323863489003, 0)]"
      ]
     },
     "execution_count": 59,
     "metadata": {},
     "output_type": "execute_result"
    }
   ],
   "source": [
    "fa(x, y) = cos(exp(x^2 - y^2)) - sin(x^2)*sin(y^2)\n",
    "analyticgrad = [fa(x, y).gradient([x, y]).subs(x = w[0], y = w[1]) for w in ps]; analyticgrad"
   ]
  },
  {
   "cell_type": "markdown",
   "metadata": {},
   "source": [
    "(d)"
   ]
  },
  {
   "cell_type": "code",
   "execution_count": 60,
   "metadata": {},
   "outputs": [
    {
     "data": {
      "text/html": [
       "<html><script type=\"math/tex; mode=display\">\\newcommand{\\Bold}[1]{\\mathbf{#1}}\\left[0.000000000000000, -4.44089209850063 \\times 10^{-16}, 0.000000000000000, 0.000000000000000, 0.000000000000000, 0.000000000000000, 0.000000000000000, 0.000000000000000, 0.000000000000000, 0.000000000000000, 0.0\\right]</script></html>"
      ],
      "text/latex": [
       "$$\\newcommand{\\Bold}[1]{\\mathbf{#1}}\\left[0.000000000000000, -4.44089209850063 \\times 10^{-16}, 0.000000000000000, 0.000000000000000, 0.000000000000000, 0.000000000000000, 0.000000000000000, 0.000000000000000, 0.000000000000000, 0.000000000000000, 0.0\\right]$$"
      ],
      "text/plain": [
       "[0.000000000000000,\n",
       " -4.44089209850063e-16,\n",
       " 0.000000000000000,\n",
       " 0.000000000000000,\n",
       " 0.000000000000000,\n",
       " 0.000000000000000,\n",
       " 0.000000000000000,\n",
       " 0.000000000000000,\n",
       " 0.000000000000000,\n",
       " 0.000000000000000,\n",
       " 0.0]"
      ]
     },
     "execution_count": 60,
     "metadata": {},
     "output_type": "execute_result"
    }
   ],
   "source": [
    "[autograd[i][1] - analyticgrad[i][1] for i in range(len(ps))]"
   ]
  },
  {
   "cell_type": "markdown",
   "metadata": {},
   "source": [
    "The results of autograd are almost identical to those of the analytic differentiation modulo numerical round-off errors."
   ]
  }
 ],
 "metadata": {
  "kernelspec": {
   "display_name": "SageMath 9.3",
   "language": "sage",
   "name": "sagemath"
  },
  "language_info": {
   "codemirror_mode": {
    "name": "ipython",
    "version": 3
   },
   "file_extension": ".py",
   "mimetype": "text/x-python",
   "name": "python",
   "nbconvert_exporter": "python",
   "pygments_lexer": "ipython3",
   "version": "3.7.10"
  }
 },
 "nbformat": 4,
 "nbformat_minor": 2
}
