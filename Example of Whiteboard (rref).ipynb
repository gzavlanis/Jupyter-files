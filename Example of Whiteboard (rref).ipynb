{
 "cells": [
  {
   "cell_type": "markdown",
   "metadata": {},
   "source": [
    "## Define our matrix"
   ]
  },
  {
   "cell_type": "code",
   "execution_count": 1,
   "metadata": {},
   "outputs": [
    {
     "name": "stdout",
     "output_type": "stream",
     "text": [
      "\n",
      "The starting matrix: \n",
      "\n",
      "[4 0 1]\n",
      "[3 2 0]\n",
      "[0 0 1]\n"
     ]
    }
   ],
   "source": [
    "A = matrix(QQ, 3,3,[[4,0,1],[3,2,0],[0,0,1]])\n",
    "print(\"\\nThe starting matrix: \\n\")\n",
    "print(A)"
   ]
  },
  {
   "cell_type": "code",
   "execution_count": 2,
   "metadata": {},
   "outputs": [
    {
     "name": "stdout",
     "output_type": "stream",
     "text": [
      "\n",
      "First step: Create leading-1 in the first row \n",
      "\n"
     ]
    },
    {
     "data": {
      "text/plain": [
       "[  1   0 1/4]\n",
       "[  3   2   0]\n",
       "[  0   0   1]"
      ]
     },
     "execution_count": 2,
     "metadata": {},
     "output_type": "execute_result"
    }
   ],
   "source": [
    "A.rescale_row(0,1/4);\n",
    "print(\"\\nFirst step: Create leading-1 in the first row \\n\")\n",
    "A"
   ]
  },
  {
   "cell_type": "code",
   "execution_count": 3,
   "metadata": {},
   "outputs": [
    {
     "name": "stdout",
     "output_type": "stream",
     "text": [
      "\n",
      "Second step: Clear all the items down to the leading-1 of the first row \n",
      "\n"
     ]
    },
    {
     "data": {
      "text/plain": [
       "[   1    0  1/4]\n",
       "[   0    2 -3/4]\n",
       "[   0    0    1]"
      ]
     },
     "execution_count": 3,
     "metadata": {},
     "output_type": "execute_result"
    }
   ],
   "source": [
    "A.add_multiple_of_row(1,0,-3)\n",
    "print(\"\\nSecond step: Clear all the items down to the leading-1 of the first row \\n\")\n",
    "A"
   ]
  },
  {
   "cell_type": "code",
   "execution_count": 4,
   "metadata": {},
   "outputs": [
    {
     "name": "stdout",
     "output_type": "stream",
     "text": [
      "\n",
      "Third step: Create leading-1 in the second row \n",
      "\n"
     ]
    },
    {
     "data": {
      "text/plain": [
       "[   1    0  1/4]\n",
       "[   0    1 -3/8]\n",
       "[   0    0    1]"
      ]
     },
     "execution_count": 4,
     "metadata": {},
     "output_type": "execute_result"
    }
   ],
   "source": [
    "A.rescale_row(1,1/2);\n",
    "print(\"\\nThird step: Create leading-1 in the second row \\n\")\n",
    "A"
   ]
  },
  {
   "cell_type": "code",
   "execution_count": 5,
   "metadata": {},
   "outputs": [
    {
     "name": "stdout",
     "output_type": "stream",
     "text": [
      "\n",
      "Fourth step: Clear all the items above the leading-1 of the last row \n",
      "\n"
     ]
    },
    {
     "data": {
      "text/plain": [
       "[1 0 0]\n",
       "[0 1 0]\n",
       "[0 0 1]"
      ]
     },
     "execution_count": 5,
     "metadata": {},
     "output_type": "execute_result"
    }
   ],
   "source": [
    "A.add_multiple_of_row(0,2,-1/4)\n",
    "A.add_multiple_of_row(1,2,+3/8)\n",
    "print(\"\\nFourth step: Clear all the items above the leading-1 of the last row \\n\")\n",
    "A"
   ]
  },
  {
   "cell_type": "markdown",
   "metadata": {},
   "source": [
    "## The End"
   ]
  }
 ],
 "metadata": {
  "kernelspec": {
   "display_name": "SageMath 9.3",
   "language": "sage",
   "name": "sagemath"
  },
  "language_info": {
   "codemirror_mode": {
    "name": "ipython",
    "version": 3
   },
   "file_extension": ".py",
   "mimetype": "text/x-python",
   "name": "python",
   "nbconvert_exporter": "python",
   "pygments_lexer": "ipython3",
   "version": "3.7.10"
  }
 },
 "nbformat": 4,
 "nbformat_minor": 4
}
