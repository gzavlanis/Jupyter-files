{
 "cells": [
  {
   "cell_type": "markdown",
   "metadata": {},
   "source": [
    "# DAMA50: Mathematics for machine learning\n",
    "\n",
    "## Written assignment 5\n",
    "\n",
    "### Georgios Zavlanis\n",
    "\n",
    "\n",
    "### Problem 7\n",
    "\n",
    "a. First, we have to \"translate\" the problem into a linear programming problem. The process can be seen below:"
   ]
  },
  {
   "cell_type": "markdown",
   "metadata": {},
   "source": []
  }
 ],
 "metadata": {
  "language_info": {
   "name": "python"
  }
 },
 "nbformat": 4,
 "nbformat_minor": 2
}
