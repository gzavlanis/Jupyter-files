{
 "cells": [
  {
   "cell_type": "markdown",
   "metadata": {},
   "source": [
    "# DAMA50 - MATHEMATICS FOR MACHINE LEARNING\n",
    "## Unit 2 - Examples"
   ]
  },
  {
   "cell_type": "code",
   "execution_count": 1,
   "metadata": {
    "vscode": {
     "languageId": "python"
    }
   },
   "outputs": [],
   "source": [
    "%display latex"
   ]
  },
  {
   "cell_type": "code",
   "execution_count": 2,
   "metadata": {
    "vscode": {
     "languageId": "python"
    }
   },
   "outputs": [
    {
     "data": {
      "text/html": [
       "<html>\\(\\displaystyle \\left(\\begin{array}{rrr}\n",
       "-0.925070925388260 & 0.0341355496333591 & 0.263648198855437 \\\\\n",
       "0.0343327827982407 & 0.149463737880114 & 0.854617382180872 \\\\\n",
       "0.175508915973427 & 0.0351436930434239 & -0.845424878245230 \\\\\n",
       "-0.602061325697903 & -0.828583690032113 & 0.909396644342511\n",
       "\\end{array}\\right)\\)</html>"
      ],
      "text/latex": [
       "$\\displaystyle \\left(\\begin{array}{rrr}\n",
       "-0.925070925388260 & 0.0341355496333591 & 0.263648198855437 \\\\\n",
       "0.0343327827982407 & 0.149463737880114 & 0.854617382180872 \\\\\n",
       "0.175508915973427 & 0.0351436930434239 & -0.845424878245230 \\\\\n",
       "-0.602061325697903 & -0.828583690032113 & 0.909396644342511\n",
       "\\end{array}\\right)$"
      ],
      "text/plain": [
       "[-0.925070925388260 0.0341355496333591  0.263648198855437]\n",
       "[0.0343327827982407  0.149463737880114  0.854617382180872]\n",
       "[ 0.175508915973427 0.0351436930434239 -0.845424878245230]\n",
       "[-0.602061325697903 -0.828583690032113  0.909396644342511]"
      ]
     },
     "execution_count": 2,
     "metadata": {},
     "output_type": "execute_result"
    }
   ],
   "source": [
    "nn = 4    # number of  rows\n",
    "mm = 3    # number of columns\n",
    "m = random_matrix(RR,nn,mm) # Randomly assigned matrix (real numbers).\n",
    "m"
   ]
  },
  {
   "cell_type": "code",
   "execution_count": 3,
   "metadata": {
    "vscode": {
     "languageId": "python"
    }
   },
   "outputs": [
    {
     "name": "stdout",
     "output_type": "stream",
     "text": [
      "0 (-0.925070925388260, 0.0341355496333591, 0.263648198855437) 0.962513285886059\n",
      "1 (0.0343327827982407, 0.149463737880114, 0.854617382180872) 0.868267826676454\n",
      "2 (0.175508915973427, 0.0351436930434239, -0.845424878245230) 0.864165310286672\n",
      "3 (-0.602061325697903, -0.828583690032113, 0.909396644342511) 1.36968282022874\n"
     ]
    }
   ],
   "source": [
    "# Manipulate a matrix row by row.\n",
    "for i in range(nn) :\n",
    "    print(i, m[i], norm(m[i]))"
   ]
  },
  {
   "cell_type": "code",
   "execution_count": 4,
   "metadata": {
    "vscode": {
     "languageId": "python"
    }
   },
   "outputs": [
    {
     "name": "stdout",
     "output_type": "stream",
     "text": [
      "(-0.925070925388260, 0.0341355496333591, 0.263648198855437) 0.962513285886059\n",
      "(0.0343327827982407, 0.149463737880114, 0.854617382180872) 0.868267826676454\n",
      "(0.175508915973427, 0.0351436930434239, -0.845424878245230) 0.864165310286672\n",
      "(-0.602061325697903, -0.828583690032113, 0.909396644342511) 1.36968282022874\n"
     ]
    }
   ],
   "source": [
    "# or in a more Pythonic way.\n",
    "for mi in m :\n",
    "    print(mi, norm(mi))"
   ]
  },
  {
   "cell_type": "code",
   "execution_count": 5,
   "metadata": {
    "vscode": {
     "languageId": "python"
    }
   },
   "outputs": [
    {
     "data": {
      "text/html": [
       "\n",
       "<iframe srcdoc=\"<!DOCTYPE html>\n",
       "<html>\n",
       "<head>\n",
       "<title></title>\n",
       "<meta charset=&quot;utf-8&quot;>\n",
       "<meta name=viewport content=&quot;width=device-width, user-scalable=no, minimum-scale=1.0, maximum-scale=1.0&quot;>\n",
       "<style>\n",
       "\n",
       "    body { margin: 0px; overflow: hidden; }\n",
       "\n",
       "    #menu-container { position: absolute; bottom: 30px; right: 40px; cursor: default; }\n",
       "\n",
       "    #menu-message { position: absolute; bottom: 0px; right: 0px; white-space: nowrap;\n",
       "                    display: none; background-color: #F5F5F5; padding: 10px; }\n",
       "\n",
       "    #menu-content { position: absolute; bottom: 0px; right: 0px;\n",
       "                    display: none; background-color: #F5F5F5; border-bottom: 1px solid black;\n",
       "                    border-right: 1px solid black; border-left: 1px solid black; }\n",
       "\n",
       "    #menu-content div { border-top: 1px solid black; padding: 10px; white-space: nowrap; }\n",
       "\n",
       "    #menu-content div:hover { background-color: #FEFEFE; }\n",
       "\n",
       "    .dark-theme #menu-container { color: white; }\n",
       "\n",
       "    .dark-theme #menu-message { background-color: #181818; }\n",
       "\n",
       "    .dark-theme #menu-content { background-color: #181818; border-color: white; }\n",
       "\n",
       "    .dark-theme #menu-content div { border-color: white; }\n",
       "\n",
       "    .dark-theme #menu-content div:hover { background-color: #303030; }\n",
       "\n",
       "</style>\n",
       "\n",
       "</head>\n",
       "\n",
       "<body>\n",
       "\n",
       "<script src=&quot;/nbextensions/threejs-sage/r122/three.min.js&quot;></script>\n",
       "<script>\n",
       "  if ( !window.THREE ) document.write(' \\\n",
       "<script src=&quot;https://cdn.jsdelivr.net/gh/sagemath/threejs-sage@r122/build/three.min.js&quot;><\\/script> \\\n",
       "            ');\n",
       "</script>\n",
       "        \n",
       "<script>\n",
       "\n",
       "    var options = {&quot;animate&quot;: false, &quot;animationControls&quot;: true, &quot;aspectRatio&quot;: [1.0, 1.0, 1.0], &quot;autoScaling&quot;: [false, false, false], &quot;autoPlay&quot;: true, &quot;axes&quot;: false, &quot;axesLabels&quot;: [&quot;x&quot;, &quot;y&quot;, &quot;z&quot;], &quot;axesLabelsStyle&quot;: null, &quot;decimals&quot;: 2, &quot;delay&quot;: 20, &quot;frame&quot;: true, &quot;loop&quot;: true, &quot;projection&quot;: &quot;perspective&quot;, &quot;theme&quot;: &quot;light&quot;, &quot;viewpoint&quot;: false};\n",
       "    var animate = options.animate;\n",
       "\n",
       "    if ( options.theme === 'dark' )\n",
       "        document.body.className = 'dark-theme';\n",
       "\n",
       "    var scene = new THREE.Scene();\n",
       "\n",
       "    var renderer = new THREE.WebGLRenderer( { antialias: true, preserveDrawingBuffer: true } );\n",
       "    renderer.setPixelRatio( window.devicePixelRatio );\n",
       "    renderer.setSize( window.innerWidth, window.innerHeight );\n",
       "    renderer.setClearColor( options.theme === 'dark' ? 0 : 0xffffff, 1 );\n",
       "    document.body.appendChild( renderer.domElement );\n",
       "\n",
       "    var b = [{&quot;x&quot;:-0.9780851057922338, &quot;y&quot;:-0.6519300135331958, &quot;z&quot;:-0.9923432745010604}, {&quot;x&quot;:0.6326126711962148, &quot;y&quot;:0.6367296906832426, &quot;z&quot;:0.9948907732017143}]; // bounds\n",
       "\n",
       "    if ( b[0].x === b[1].x ) {\n",
       "        b[0].x -= 1;\n",
       "        b[1].x += 1;\n",
       "    }\n",
       "    if ( b[0].y === b[1].y ) {\n",
       "        b[0].y -= 1;\n",
       "        b[1].y += 1;\n",
       "    }\n",
       "    if ( b[0].z === b[1].z ) {\n",
       "        b[0].z -= 1;\n",
       "        b[1].z += 1;\n",
       "    }\n",
       "\n",
       "    var rxRange = Math.sqrt( Math.pow( b[1].z - b[0].z, 2 )\n",
       "                            + Math.pow( b[1].y - b[0].y, 2 ) );\n",
       "    var ryRange = Math.sqrt( Math.pow( b[1].x - b[0].x, 2 )\n",
       "                            + Math.pow( b[1].z - b[0].z, 2 ) );\n",
       "    var rzRange = Math.sqrt( Math.pow( b[1].x - b[0].x, 2 )\n",
       "                            + Math.pow( b[1].y - b[0].y, 2 ) );\n",
       "    var xRange = b[1].x - b[0].x;\n",
       "    var yRange = b[1].y - b[0].y;\n",
       "    var zRange = b[1].z - b[0].z;\n",
       "\n",
       "    var ar = options.aspectRatio;\n",
       "    var a = [ ar[0], ar[1], ar[2] ]; // aspect multipliers\n",
       "\n",
       "    var autoScaling = options.autoScaling;\n",
       "    var autoAspect = 2.5;\n",
       "    if ( xRange > autoAspect * rxRange && autoScaling[0] ) a[0] = autoAspect * rxRange / xRange;\n",
       "    if ( yRange > autoAspect * ryRange && autoScaling[1] ) a[1] = autoAspect * ryRange / yRange;\n",
       "    if ( zRange > autoAspect * rzRange && autoScaling[2] ) a[2] = autoAspect * rzRange / zRange;\n",
       "\n",
       "    // Distance from (xMid,yMid,zMid) to any corner of the bounding box, after applying aspectRatio\n",
       "    var midToCorner = Math.sqrt( a[0]*a[0]*xRange*xRange + a[1]*a[1]*yRange*yRange + a[2]*a[2]*zRange*zRange ) / 2;\n",
       "\n",
       "    var xMid = ( b[0].x + b[1].x ) / 2;\n",
       "    var yMid = ( b[0].y + b[1].y ) / 2;\n",
       "    var zMid = ( b[0].z + b[1].z ) / 2;\n",
       "\n",
       "    var box = new THREE.Geometry();\n",
       "    box.vertices.push( new THREE.Vector3( a[0]*b[0].x, a[1]*b[0].y, a[2]*b[0].z ) );\n",
       "    box.vertices.push( new THREE.Vector3( a[0]*b[1].x, a[1]*b[1].y, a[2]*b[1].z ) );\n",
       "    var boxMesh = new THREE.Line( box );\n",
       "    var boxColor = options.theme === 'dark' ? 'white' : 'black';\n",
       "    if ( options.frame ) scene.add( new THREE.BoxHelper( boxMesh, boxColor ) );\n",
       "\n",
       "    if ( options.axesLabels ) {\n",
       "\n",
       "        var d = options.decimals; // decimals\n",
       "        var offsetRatio = 0.1;\n",
       "        var al = options.axesLabels;\n",
       "        var als = options.axesLabelsStyle || [{}, {}, {}];\n",
       "\n",
       "        var offset = offsetRatio * a[1]*( b[1].y - b[0].y );\n",
       "        var xm = xMid.toFixed(d);\n",
       "        if ( /^-0.?0*$/.test(xm) ) xm = xm.substr(1);\n",
       "        addLabel( al[0] + '=' + xm, a[0]*xMid, a[1]*b[1].y+offset, a[2]*b[0].z, als[0] );\n",
       "        addLabel( ( b[0].x ).toFixed(d), a[0]*b[0].x, a[1]*b[1].y+offset, a[2]*b[0].z, als[0] );\n",
       "        addLabel( ( b[1].x ).toFixed(d), a[0]*b[1].x, a[1]*b[1].y+offset, a[2]*b[0].z, als[0] );\n",
       "\n",
       "        var offset = offsetRatio * a[0]*( b[1].x - b[0].x );\n",
       "        var ym = yMid.toFixed(d);\n",
       "        if ( /^-0.?0*$/.test(ym) ) ym = ym.substr(1);\n",
       "        addLabel( al[1] + '=' + ym, a[0]*b[1].x+offset, a[1]*yMid, a[2]*b[0].z, als[1] );\n",
       "        addLabel( ( b[0].y ).toFixed(d), a[0]*b[1].x+offset, a[1]*b[0].y, a[2]*b[0].z, als[1] );\n",
       "        addLabel( ( b[1].y ).toFixed(d), a[0]*b[1].x+offset, a[1]*b[1].y, a[2]*b[0].z, als[1] );\n",
       "\n",
       "        var offset = offsetRatio * a[1]*( b[1].y - b[0].y );\n",
       "        var zm = zMid.toFixed(d);\n",
       "        if ( /^-0.?0*$/.test(zm) ) zm = zm.substr(1);\n",
       "        addLabel( al[2] + '=' + zm, a[0]*b[1].x, a[1]*b[0].y-offset, a[2]*zMid, als[2] );\n",
       "        addLabel( ( b[0].z ).toFixed(d), a[0]*b[1].x, a[1]*b[0].y-offset, a[2]*b[0].z, als[2] );\n",
       "        addLabel( ( b[1].z ).toFixed(d), a[0]*b[1].x, a[1]*b[0].y-offset, a[2]*b[1].z, als[2] );\n",
       "\n",
       "    }\n",
       "\n",
       "    function addLabel( text, x, y, z, style ) {\n",
       "\n",
       "        var color = style.color || 'black';\n",
       "        var fontSize = style.fontSize || 14;\n",
       "        var fontFamily = style.fontFamily || 'monospace';\n",
       "        var fontStyle = style.fontStyle || 'normal';\n",
       "        var fontWeight = style.fontWeight || 'normal';\n",
       "        var opacity = style.opacity || 1;\n",
       "\n",
       "        if ( options.theme === 'dark' )\n",
       "            if ( color === 'black' || color === '#000000' )\n",
       "                color = 'white';\n",
       "\n",
       "        if ( Array.isArray( fontStyle ) ) {\n",
       "            fontFamily = fontFamily.map( function( f ) {\n",
       "                // Need to put quotes around fonts that have whitespace in their names.\n",
       "                return /\\s/.test( f ) ? '&quot;' + f + '&quot;' : f;\n",
       "            }).join(', ');\n",
       "        }\n",
       "\n",
       "        var canvas = document.createElement( 'canvas' );\n",
       "        var context = canvas.getContext( '2d' );\n",
       "        var pixelRatio = Math.round( window.devicePixelRatio );\n",
       "\n",
       "        // For example: italic bold 20px &quot;Times New Roman&quot;, Georgia, serif\n",
       "        var font = [fontStyle, fontWeight, fontSize + 'px', fontFamily].join(' ');\n",
       "\n",
       "        context.font = font;\n",
       "        var width = context.measureText( text ).width;\n",
       "        var height = fontSize;\n",
       "\n",
       "        // The dimensions of the canvas's underlying image data need to be powers\n",
       "        // of two in order for the resulting texture to support mipmapping.\n",
       "        canvas.width = THREE.MathUtils.ceilPowerOfTwo( width * pixelRatio );\n",
       "        canvas.height = THREE.MathUtils.ceilPowerOfTwo( height * pixelRatio );\n",
       "\n",
       "        // Re-compute the unscaled dimensions after the power of two conversion.\n",
       "        width = canvas.width / pixelRatio;\n",
       "        height = canvas.height / pixelRatio;\n",
       "\n",
       "        canvas.style.width = width + 'px';\n",
       "        canvas.style.height = height + 'px';\n",
       "\n",
       "        context.scale( pixelRatio, pixelRatio );\n",
       "        context.fillStyle = color;\n",
       "        context.font = font; // Must be set again after measureText.\n",
       "        context.textAlign = 'center';\n",
       "        context.textBaseline = 'middle';\n",
       "        context.fillText( text, width/2, height/2 );\n",
       "\n",
       "        var texture = new THREE.Texture( canvas );\n",
       "        texture.needsUpdate = true;\n",
       "\n",
       "        var materialOptions = { map: texture, sizeAttenuation: false, depthWrite: false };\n",
       "        if ( opacity < 1 ) {\n",
       "            // Setting opacity=1 would cause the texture's alpha component to be\n",
       "            // discarded, giving the text a black background instead of the\n",
       "            // background being transparent.\n",
       "            materialOptions.opacity = opacity;\n",
       "        }\n",
       "        var sprite = new THREE.Sprite( new THREE.SpriteMaterial( materialOptions ) );\n",
       "        sprite.position.set( x, y, z );\n",
       "\n",
       "        // Scaling factor, chosen somewhat arbitrarily so that the size of the text\n",
       "        // is consistent with previously generated plots.\n",
       "        var scale = 1/625;\n",
       "        if ( options.projection === 'orthographic' ) {\n",
       "            scale = midToCorner/256; // Needs to scale along with the plot itself.\n",
       "        }\n",
       "        sprite.scale.set( scale * width, scale * height, 1 );\n",
       "\n",
       "        scene.add( sprite );\n",
       "\n",
       "        return sprite;\n",
       "\n",
       "    }\n",
       "\n",
       "    if ( options.axes ) scene.add( new THREE.AxesHelper( Math.min( a[0]*b[1].x, a[1]*b[1].y, a[2]*b[1].z ) ) );\n",
       "\n",
       "    var camera = createCamera();\n",
       "    camera.up.set( 0, 0, 1 );\n",
       "    camera.position.set( a[0]*xMid, a[1]*yMid, a[2]*zMid );\n",
       "\n",
       "    // camera is positioned so that the line from the camera to the center\n",
       "    // of the bounding sphere of the objects makes an angle of 60 degrees with x-axis\n",
       "    // and an angle of 30 degrees with z-axis and the field of view of the camera looking\n",
       "    // at the center has an angle of 45 degrees.\n",
       "    const sin8 = Math.sin(Math.PI / 8);\n",
       "    const sin5 = Math.sin(Math.PI / 5);\n",
       "    const cos5 = Math.cos(Math.PI / 5);\n",
       "    const sin3 = Math.sin(Math.PI / 3);\n",
       "    const cos3 = Math.cos(Math.PI / 3);\n",
       "    var r = midToCorner / sin8;\n",
       "    var offset = new THREE.Vector3( r * sin3 * cos5, r * sin3 * sin5, r * cos3 );\n",
       "\n",
       "    if ( options.viewpoint ) {\n",
       "\n",
       "        var aa = options.viewpoint;\n",
       "        var axis = new THREE.Vector3( aa[0][0], aa[0][1], aa[0][2] ).normalize();\n",
       "        var angle = aa[1] * Math.PI / 180;\n",
       "        var q = new THREE.Quaternion().setFromAxisAngle( axis, angle ).inverse();\n",
       "\n",
       "        offset.set( 0, 0, offset.length() );\n",
       "        offset.applyQuaternion( q );\n",
       "\n",
       "    }\n",
       "\n",
       "    camera.position.add( offset );\n",
       "\n",
       "    function createCamera() {\n",
       "\n",
       "        var aspect = window.innerWidth / window.innerHeight;\n",
       "\n",
       "        // Scale the near and far clipping planes along with the overall plot size.\n",
       "        var nearClip = 0.01 * midToCorner;\n",
       "        var farClip = 100 * midToCorner;\n",
       "\n",
       "        if ( options.projection === 'orthographic' ) {\n",
       "            var camera = new THREE.OrthographicCamera( -1, 1, 1, -1, -farClip, farClip );\n",
       "            updateCameraAspect( camera, aspect );\n",
       "            return camera;\n",
       "        }\n",
       "\n",
       "        return new THREE.PerspectiveCamera( 45, aspect, nearClip, farClip );\n",
       "\n",
       "    }\n",
       "\n",
       "    function updateCameraAspect( camera, aspect ) {\n",
       "\n",
       "        if ( camera.isPerspectiveCamera ) {\n",
       "            camera.aspect = aspect;\n",
       "        } else if ( camera.isOrthographicCamera ) {\n",
       "            // Fit the camera frustum to the bounding box's diagonal so that the entire plot fits\n",
       "            // within at the default zoom level and camera position.\n",
       "            if ( aspect > 1 ) { // Wide window\n",
       "                camera.top = midToCorner;\n",
       "                camera.right = midToCorner * aspect;\n",
       "            } else { // Tall or square window\n",
       "                camera.top = midToCorner / aspect;\n",
       "                camera.right = midToCorner;\n",
       "            }\n",
       "            camera.bottom = -camera.top;\n",
       "            camera.left = -camera.right;\n",
       "        }\n",
       "\n",
       "        camera.updateProjectionMatrix();\n",
       "\n",
       "    }\n",
       "\n",
       "    var lights = [{&quot;x&quot;:-5, &quot;y&quot;:3, &quot;z&quot;:0, &quot;color&quot;:&quot;#7f7f7f&quot;, &quot;parent&quot;:&quot;camera&quot;}];\n",
       "    for ( var i=0 ; i < lights.length ; i++ ) {\n",
       "        var light = new THREE.DirectionalLight( lights[i].color, 1 );\n",
       "        light.position.set( a[0]*lights[i].x, a[1]*lights[i].y, a[2]*lights[i].z );\n",
       "        if ( lights[i].parent === 'camera' ) {\n",
       "            light.target.position.set( a[0]*xMid, a[1]*yMid, a[2]*zMid );\n",
       "            scene.add( light.target );\n",
       "            camera.add( light );\n",
       "        } else scene.add( light );\n",
       "    }\n",
       "    scene.add( camera );\n",
       "\n",
       "    var ambient = {&quot;color&quot;:&quot;#7f7f7f&quot;};\n",
       "    scene.add( new THREE.AmbientLight( ambient.color, 1 ) );\n",
       "\n",
       "    var controls = new THREE.OrbitControls( camera, renderer.domElement );\n",
       "    controls.target.set( a[0]*xMid, a[1]*yMid, a[2]*zMid );\n",
       "    controls.addEventListener( 'change', function() { if ( !animate ) render(); } );\n",
       "\n",
       "    window.addEventListener( 'resize', function() {\n",
       "\n",
       "        renderer.setSize( window.innerWidth, window.innerHeight );\n",
       "        updateCameraAspect( camera, window.innerWidth / window.innerHeight );\n",
       "        if ( window.rescaleFatLines ) rescaleFatLines();\n",
       "        if ( !animate ) render();\n",
       "\n",
       "    } );\n",
       "\n",
       "    var texts = [];\n",
       "    for ( var i=0 ; i < texts.length ; i++ ) addText( texts[i] );\n",
       "\n",
       "    function addText( json ) {\n",
       "        var sprite = addLabel( json.text, a[0]*json.x, a[1]*json.y, a[2]*json.z, json );\n",
       "        sprite.userData = json;\n",
       "    }\n",
       "\n",
       "    var points = [];\n",
       "    for ( var i=0 ; i < points.length ; i++ ) addPoint( points[i] );\n",
       "\n",
       "    function addPoint( json ) {\n",
       "\n",
       "        var geometry = new THREE.Geometry();\n",
       "        var v = json.point;\n",
       "        geometry.vertices.push( new THREE.Vector3( a[0]*v[0], a[1]*v[1], a[2]*v[2] ) );\n",
       "\n",
       "        var canvas = document.createElement( 'canvas' );\n",
       "        canvas.width = 128;\n",
       "        canvas.height = 128;\n",
       "\n",
       "        var context = canvas.getContext( '2d' );\n",
       "        context.arc( 64, 64, 64, 0, 2 * Math.PI );\n",
       "        context.fillStyle = json.color;\n",
       "        context.fill();\n",
       "\n",
       "        var texture = new THREE.Texture( canvas );\n",
       "        texture.needsUpdate = true;\n",
       "\n",
       "        var transparent = json.opacity < 1 ? true : false;\n",
       "        var size = camera.isOrthographicCamera ? json.size : json.size/100;\n",
       "        var material = new THREE.PointsMaterial( { size: size, map: texture,\n",
       "                                                   transparent: transparent, opacity: json.opacity,\n",
       "                                                   alphaTest: .1 } );\n",
       "\n",
       "        var c = new THREE.Vector3();\n",
       "        geometry.computeBoundingBox();\n",
       "        geometry.boundingBox.getCenter( c );\n",
       "        geometry.translate( -c.x, -c.y, -c.z );\n",
       "\n",
       "        var mesh = new THREE.Points( geometry, material );\n",
       "        mesh.position.set( c.x, c.y, c.z );\n",
       "        mesh.userData = json;\n",
       "        scene.add( mesh );\n",
       "\n",
       "    }\n",
       "\n",
       "    var lines = [];\n",
       "    for ( var i=0 ; i < lines.length ; i++ ) addLine( lines[i] );\n",
       "\n",
       "    function addLine( json ) {\n",
       "\n",
       "        var geometry = new THREE.Geometry();\n",
       "        for ( var i=0 ; i < json.points.length ; i++ ) {\n",
       "            var v = json.points[i];\n",
       "            geometry.vertices.push( new THREE.Vector3( a[0]*v[0], a[1]*v[1], a[2]*v[2] ) );\n",
       "        }\n",
       "\n",
       "        var c = new THREE.Vector3();\n",
       "        geometry.computeBoundingBox();\n",
       "        geometry.boundingBox.getCenter( c );\n",
       "        geometry.translate( -c.x, -c.y, -c.z );\n",
       "\n",
       "        var transparent = json.opacity < 1 ? true : false;\n",
       "        var materialOptions = { color: json.color, linewidth: json.linewidth,\n",
       "                                transparent: transparent, opacity: json.opacity };\n",
       "\n",
       "        var mesh;\n",
       "        if ( json.linewidth > 1 && window.createFatLineStrip ) {\n",
       "            mesh = createFatLineStrip( geometry, materialOptions );\n",
       "        } else {\n",
       "            var material = new THREE.LineBasicMaterial( materialOptions );\n",
       "            mesh = new THREE.Line( geometry, material );\n",
       "        }\n",
       "\n",
       "        mesh.position.set( c.x, c.y, c.z );\n",
       "        mesh.userData = json;\n",
       "        scene.add( mesh );\n",
       "\n",
       "    }\n",
       "\n",
       "    var surfaces = [{&quot;vertices&quot;: [{&quot;x&quot;: 0.4734272207354932, &quot;y&quot;: 0.4734272207354932, &quot;z&quot;: 0.4734272207354932}, {&quot;x&quot;: 0.48712265376053626, &quot;y&quot;: 0.4742818633221321, &quot;z&quot;: 0.4588771451238112}, {&quot;x&quot;: 0.46920072342738944, &quot;y&quot;: 0.48920072342738946, &quot;z&quot;: 0.4618802153517007}, {&quot;x&quot;: 0.48611796114372136, &quot;y&quot;: 0.4581819162103729, &quot;z&quot;: 0.47598178485238535}, {&quot;x&quot;: 0.46757509662513685, &quot;y&quot;: 0.46315046178348734, &quot;z&quot;: 0.4895561037978554}, {&quot;x&quot;: 0.4571196687206821, &quot;y&quot;: 0.4823211389340841, &quot;z&quot;: 0.4808408545517134}, {&quot;x&quot;: 0.01369543302504306, &quot;y&quot;: 0.0008546425866389346, &quot;z&quot;: -0.014550075611681994}, {&quot;x&quot;: -0.004226497308103743, &quot;y&quot;: 0.01577350269189626, &quot;z&quot;: -0.011547005383792518}, {&quot;x&quot;: 0.012690740408228145, &quot;y&quot;: -0.015245304525120271, &quot;z&quot;: 0.002554564116892126}, {&quot;x&quot;: -0.005852124110356349, &quot;y&quot;: -0.010276758952005841, &quot;z&quot;: 0.01612888306236219}, {&quot;x&quot;: -0.016307552014811107, &quot;y&quot;: 0.008893918198590912, &quot;z&quot;: 0.007413633816220196}, {&quot;x&quot;: 0.0, &quot;y&quot;: 0.0, &quot;z&quot;: 0.0}], &quot;faces&quot;: [[0, 1, 2], [0, 3, 1], [0, 4, 3], [0, 5, 4], [0, 2, 5], [2, 1, 6, 7], [1, 3, 8, 6], [3, 4, 9, 8], [4, 5, 10, 9], [5, 2, 7, 10], [7, 6, 11], [6, 8, 11], [8, 9, 11], [9, 10, 11], [10, 7, 11]], &quot;color&quot;: &quot;#ff0000&quot;, &quot;opacity&quot;: 1.0}, {&quot;vertices&quot;: [{&quot;x&quot;: 0.5773502691896258, &quot;y&quot;: 0.5773502691896258, &quot;z&quot;: 0.5773502691896258}, {&quot;x&quot;: 0.5145135198106223, &quot;y&quot;: 0.47599114849541, &quot;z&quot;: 0.4297769939004472}, {&quot;x&quot;: 0.460747728811182, &quot;y&quot;: 0.520747728811182, &quot;z&quot;: 0.43878620458411566}, {&quot;x&quot;: 0.5114994419601776, &quot;y&quot;: 0.4276913071601324, &quot;z&quot;: 0.4810909130861696}, {&quot;x&quot;: 0.45587084840442416, &quot;y&quot;: 0.4425969438794757, &quot;z&quot;: 0.5218138699225797}, {&quot;x&quot;: 0.4245045646910599, &quot;y&quot;: 0.500108975331266, &quot;z&quot;: 0.4956681221841538}, {&quot;x&quot;: 0.4734272207354932, &quot;y&quot;: 0.4734272207354932, &quot;z&quot;: 0.4734272207354932}], &quot;faces&quot;: [[0, 1, 2], [0, 3, 1], [0, 4, 3], [0, 5, 4], [0, 2, 5], [2, 1, 6], [1, 3, 6], [3, 4, 6], [4, 5, 6], [5, 2, 6]], &quot;color&quot;: &quot;#ff0000&quot;, &quot;opacity&quot;: 1.0}, {&quot;vertices&quot;: [{&quot;x&quot;: -0.7881014942251613, &quot;y&quot;: 0.029081313587881203, &quot;z&quot;: 0.22461146898605044}, {&quot;x&quot;: -0.7827071506014877, &quot;y&quot;: 0.03576448827544904, &quot;z&quot;: 0.24267347975354764}, {&quot;x&quot;: -0.7875663664119633, &quot;y&quot;: 0.04906156712139276, &quot;z&quot;: 0.22390216865463872}, {&quot;x&quot;: -0.7853027343319327, &quot;y&quot;: 0.013231489164039531, &quot;z&quot;: 0.236483705876942}, {&quot;x&quot;: -0.7917661091084696, &quot;y&quot;: 0.012602408690660986, &quot;z&quot;: 0.21388690413961464}, {&quot;x&quot;: -0.7931651106719532, &quot;y&quot;: 0.03474661468786369, &quot;z&quot;: 0.20611108650550924}, {&quot;x&quot;: 0.005394343623673623, &quot;y&quot;: 0.00668317468756784, &quot;z&quot;: 0.018062010767497184}, {&quot;x&quot;: 0.0005351278131979387, &quot;y&quot;: 0.019980253533511558, &quot;z&quot;: -0.0007093003314117367}, {&quot;x&quot;: 0.0027987598932286326, &quot;y&quot;: -0.015849824423841672, &quot;z&quot;: 0.011872236890891572}, {&quot;x&quot;: -0.003664614883308301, &quot;y&quot;: -0.016478904897220217, &quot;z&quot;: -0.010724564846435814}, {&quot;x&quot;: -0.0050636164467918925, &quot;y&quot;: 0.005665301099982485, &quot;z&quot;: -0.018500382480541203}, {&quot;x&quot;: 0.0, &quot;y&quot;: 0.0, &quot;z&quot;: 0.0}], &quot;faces&quot;: [[0, 1, 2], [0, 3, 1], [0, 4, 3], [0, 5, 4], [0, 2, 5], [2, 1, 6, 7], [1, 3, 8, 6], [3, 4, 9, 8], [4, 5, 10, 9], [5, 2, 7, 10], [7, 6, 11], [6, 8, 11], [8, 9, 11], [9, 10, 11], [10, 7, 11]], &quot;color&quot;: &quot;#6666ff&quot;, &quot;opacity&quot;: 1.0}, {&quot;vertices&quot;: [{&quot;x&quot;: -0.9610993832014162, &quot;y&quot;: 0.03546501657058683, &quot;z&quot;: 0.27391642559274443}, {&quot;x&quot;: -0.7719184633541404, &quot;y&quot;: 0.04913083765058472, &quot;z&quot;: 0.27879750128854197}, {&quot;x&quot;: -0.7864961107855675, &quot;y&quot;: 0.08902207418841587, &quot;z&quot;: 0.22248356799181523}, {&quot;x&quot;: -0.7797052145454754, &quot;y&quot;: -0.01846815968364381, &quot;z&quot;: 0.26022817965872513}, {&quot;x&quot;: -0.7990953388750862, &quot;y&quot;: -0.020355401103779442, &quot;z&quot;: 0.192437774446743}, {&quot;x&quot;: -0.8032923435655369, &quot;y&quot;: 0.04607721688782866, &quot;z&quot;: 0.16911032154442684}, {&quot;x&quot;: -0.7881014942251613, &quot;y&quot;: 0.029081313587881203, &quot;z&quot;: 0.22461146898605044}], &quot;faces&quot;: [[0, 1, 2], [0, 3, 1], [0, 4, 3], [0, 5, 4], [0, 2, 5], [2, 1, 6], [1, 3, 6], [3, 4, 6], [4, 5, 6], [5, 2, 6]], &quot;color&quot;: &quot;#6666ff&quot;, &quot;opacity&quot;: 1.0}, {&quot;vertices&quot;: [{&quot;x&quot;: 0.03242419104980615, &quot;y&quot;: 0.1411549078477645, &quot;z&quot;: 0.8071083965770985}, {&quot;x&quot;: 0.05140913280382729, &quot;y&quot;: 0.14717770503755084, &quot;z&quot;: 0.8052923842954423}, {&quot;x&quot;: 0.0323555846247697, &quot;y&quot;: 0.1608562378334869, &quot;z&quot;: 0.8036655939466653}, {&quot;x&quot;: 0.044226136753264714, &quot;y&quot;: 0.12517587123267737, &quot;z&quot;: 0.809428841893481}, {&quot;x&quot;: 0.020733252873903187, &quot;y&quot;: 0.12525652292237524, &quot;z&quot;: 0.8103585229333147}, {&quot;x&quot;: 0.013396848193265854, &quot;y&quot;: 0.14730820221273208, &quot;z&quot;: 0.8067966398165894}, {&quot;x&quot;: 0.018984941754021146, &quot;y&quot;: 0.006022797189786338, &quot;z&quot;: -0.001816012281656244}, {&quot;x&quot;: -6.860642503644926e-05, &quot;y&quot;: 0.01970132998572242, &quot;z&quot;: -0.0034428026304332802}, {&quot;x&quot;: 0.011801945703458565, &quot;y&quot;: -0.01597903661508711, &quot;z&quot;: 0.002320445316382474}, {&quot;x&quot;: -0.011690938175902965, &quot;y&quot;: -0.015898384925389246, &quot;z&quot;: 0.003250126356216117}, {&quot;x&quot;: -0.019027342856540296, &quot;y&quot;: 0.0061532943649675945, &quot;z&quot;: -0.00031175676050906593}, {&quot;x&quot;: 0.0, &quot;y&quot;: 0.0, &quot;z&quot;: 0.0}], &quot;faces&quot;: [[0, 1, 2], [0, 3, 1], [0, 4, 3], [0, 5, 4], [0, 2, 5], [2, 1, 6, 7], [1, 3, 8, 6], [3, 4, 9, 8], [4, 5, 10, 9], [5, 2, 7, 10], [7, 6, 11], [6, 8, 11], [8, 9, 11], [9, 10, 11], [10, 7, 11]], &quot;color&quot;: &quot;#6666ff&quot;, &quot;opacity&quot;: 1.0}, {&quot;vertices&quot;: [{&quot;x&quot;: 0.03954169640220262, &quot;y&quot;: 0.17214013152166402, &quot;z&quot;: 0.9842785324110958}, {&quot;x&quot;: 0.08937901631186959, &quot;y&quot;: 0.15922329941712351, &quot;z&quot;: 0.8016603597321298}, {&quot;x&quot;: 0.0322183717746968, &quot;y&quot;: 0.20025889780493175, &quot;z&quot;: 0.7967799886857987}, {&quot;x&quot;: 0.06783002816018184, &quot;y&quot;: 0.09321779800250315, &quot;z&quot;: 0.8140697325262459}, {&quot;x&quot;: -0.002648623477902734, &quot;y&quot;: 0.09345975307159676, &quot;z&quot;: 0.8168587756457469}, {&quot;x&quot;: -0.024657837519814735, &quot;y&quot;: 0.15961479094266728, &quot;z&quot;: 0.8061731262955714}, {&quot;x&quot;: 0.03242419104980615, &quot;y&quot;: 0.1411549078477645, &quot;z&quot;: 0.8071083965770985}], &quot;faces&quot;: [[0, 1, 2], [0, 3, 1], [0, 4, 3], [0, 5, 4], [0, 2, 5], [2, 1, 6], [1, 3, 6], [3, 4, 6], [4, 5, 6], [5, 2, 6]], &quot;color&quot;: &quot;#6666ff&quot;, &quot;opacity&quot;: 1.0}, {&quot;vertices&quot;: [{&quot;x&quot;: 0.16653909776876846, &quot;y&quot;: 0.0333475874957857, &quot;z&quot;: -0.8022173441920682}, {&quot;x&quot;: 0.14702721604284574, &quot;y&quot;: 0.031812123658572736, &quot;z&quot;: -0.8063318092020318}, {&quot;x&quot;: 0.1589218137520087, &quot;y&quot;: 0.05182231175794161, &quot;z&quot;: -0.8030306999846484}, {&quot;x&quot;: 0.16209737569444005, &quot;y&quot;: 0.013923894393735845, &quot;z&quot;: -0.8039468676211677}, {&quot;x&quot;: 0.1833058442841755, &quot;y&quot;: 0.022878548808884975, &quot;z&quot;: -0.7991717834456274}, {&quot;x&quot;: 0.1813432390703723, &quot;y&quot;: 0.04630105885979334, &quot;z&quot;: -0.7986055607068658}, {&quot;x&quot;: -0.019511881725922716, &quot;y&quot;: -0.0015354638372129673, &quot;z&quot;: -0.004114465009963567}, {&quot;x&quot;: -0.0076172840167597735, &quot;y&quot;: 0.01847472426215591, &quot;z&quot;: -0.0008133557925801392}, {&quot;x&quot;: -0.004441722074328426, &quot;y&quot;: -0.019423693102049857, &quot;z&quot;: -0.00172952342909952}, {&quot;x&quot;: 0.016766746515407063, &quot;y&quot;: -0.010469038686900727, &quot;z&quot;: 0.0030455607464407943}, {&quot;x&quot;: 0.014804141301603853, &quot;y&quot;: 0.012953471364007638, &quot;z&quot;: 0.003611783485202431}, {&quot;x&quot;: 0.0, &quot;y&quot;: 0.0, &quot;z&quot;: 0.0}], &quot;faces&quot;: [[0, 1, 2], [0, 3, 1], [0, 4, 3], [0, 5, 4], [0, 2, 5], [2, 1, 6, 7], [1, 3, 8, 6], [3, 4, 9, 8], [4, 5, 10, 9], [5, 2, 7, 10], [7, 6, 11], [6, 8, 11], [8, 9, 11], [9, 10, 11], [10, 7, 11]], &quot;color&quot;: &quot;#6666ff&quot;, &quot;opacity&quot;: 1.0}, {&quot;vertices&quot;: [{&quot;x&quot;: 0.20309646069362008, &quot;y&quot;: 0.040667789629006953, &quot;z&quot;: -0.9783138343805711}, {&quot;x&quot;: 0.10800345259100033, &quot;y&quot;: 0.028741195984146806, &quot;z&quot;: -0.8145607392219589}, {&quot;x&quot;: 0.14368724571848915, &quot;y&quot;: 0.08877176028225342, &quot;z&quot;: -0.8046574115698086}, {&quot;x&quot;: 0.1532139315457832, &quot;y&quot;: -0.024923491810363865, &quot;z&quot;: -0.8074059144793668}, {&quot;x&quot;: 0.21683933731498964, &quot;y&quot;: 0.001940471435083517, &quot;z&quot;: -0.7930806619527458}, {&quot;x&quot;: 0.21095152167358003, &quot;y&quot;: 0.07220800158780862, &quot;z&quot;: -0.791381993736461}, {&quot;x&quot;: 0.16653909776876846, &quot;y&quot;: 0.0333475874957857, &quot;z&quot;: -0.8022173441920682}], &quot;faces&quot;: [[0, 1, 2], [0, 3, 1], [0, 4, 3], [0, 5, 4], [0, 2, 5], [2, 1, 6], [1, 3, 6], [3, 4, 6], [4, 5, 6], [5, 2, 6]], &quot;color&quot;: &quot;#6666ff&quot;, &quot;opacity&quot;: 1.0}, {&quot;vertices&quot;: [{&quot;x&quot;: -0.36044132245875105, &quot;y&quot;: -0.4960554485985762, &quot;z&quot;: 0.5444364471449835}, {&quot;x&quot;: -0.34461656589232226, &quot;y&quot;: -0.49427410105837166, &quot;z&quot;: 0.5565361942726832}, {&quot;x&quot;: -0.36363747596834795, &quot;y&quot;: -0.480454137828151, &quot;z&quot;: 0.5565353605254366}, {&quot;x&quot;: -0.34746493152740804, &quot;y&quot;: -0.510555826043379, &quot;z&quot;: 0.5398155887447278}, {&quot;x&quot;: -0.36824622837830395, &quot;y&quot;: -0.5067985222493712, &quot;z&quot;: 0.5294808524687253}, {&quot;x&quot;: -0.378241410527373, &quot;y&quot;: -0.48819465581360816, &quot;z&quot;: 0.5398142397133447}, {&quot;x&quot;: 0.015824756566428795, &quot;y&quot;: 0.0017813475402045174, &quot;z&quot;: 0.012099747127699657}, {&quot;x&quot;: -0.0031961535095969135, &quot;y&quot;: 0.015601310770425186, &quot;z&quot;: 0.012098913380453075}, {&quot;x&quot;: 0.012976390931342993, &quot;y&quot;: -0.014500377444802773, &quot;z&quot;: -0.00462085840025577}, {&quot;x&quot;: -0.0078049059195529225, &quot;y&quot;: -0.010743073650794986, &quot;z&quot;: -0.01495559467625819}, {&quot;x&quot;: -0.01780008806862195, &quot;y&quot;: 0.007860792784968052, &quot;z&quot;: -0.004622207431638772}, {&quot;x&quot;: 0.0, &quot;y&quot;: 0.0, &quot;z&quot;: 0.0}], &quot;faces&quot;: [[0, 1, 2], [0, 3, 1], [0, 4, 3], [0, 5, 4], [0, 2, 5], [2, 1, 6, 7], [1, 3, 8, 6], [3, 4, 9, 8], [4, 5, 10, 9], [5, 2, 7, 10], [7, 6, 11], [6, 8, 11], [8, 9, 11], [9, 10, 11], [10, 7, 11]], &quot;color&quot;: &quot;#6666ff&quot;, &quot;opacity&quot;: 1.0}, {&quot;vertices&quot;: [{&quot;x&quot;: -0.4395625883643305, &quot;y&quot;: -0.6049456690226539, &quot;z&quot;: 0.663946886762175}, {&quot;x&quot;: -0.3129670527594647, &quot;y&quot;: -0.49071140597796264, &quot;z&quot;: 0.5807356885280824}, {&quot;x&quot;: -0.3700297829875418, &quot;y&quot;: -0.44925151628730065, &quot;z&quot;: 0.5807331872863427}, {&quot;x&quot;: -0.3215121496647221, &quot;y&quot;: -0.5395565809329845, &quot;z&quot;: 0.5305738719442162}, {&quot;x&quot;: -0.3838560402174098, &quot;y&quot;: -0.5282846695509612, &quot;z&quot;: 0.49956966311620893}, {&quot;x&quot;: -0.4138415866646169, &quot;y&quot;: -0.472473070243672, &quot;z&quot;: 0.5305698248500672}, {&quot;x&quot;: -0.36044132245875105, &quot;y&quot;: -0.4960554485985762, &quot;z&quot;: 0.5444364471449835}], &quot;faces&quot;: [[0, 1, 2], [0, 3, 1], [0, 4, 3], [0, 5, 4], [0, 2, 5], [2, 1, 6], [1, 3, 6], [3, 4, 6], [4, 5, 6], [5, 2, 6]], &quot;color&quot;: &quot;#6666ff&quot;, &quot;opacity&quot;: 1.0}];\n",
       "    for ( var i=0 ; i < surfaces.length ; i++ ) addSurface( surfaces[i] );\n",
       "\n",
       "    function addSurface( json ) {\n",
       "\n",
       "        var useFaceColors = 'faceColors' in json ? true : false;\n",
       "\n",
       "        var geometry = new THREE.Geometry();\n",
       "        for ( var i=0 ; i < json.vertices.length ; i++ ) {\n",
       "            var v = json.vertices[i];\n",
       "            geometry.vertices.push( new THREE.Vector3( a[0]*v.x, a[1]*v.y, a[2]*v.z ) );\n",
       "        }\n",
       "        for ( var i=0 ; i < json.faces.length ; i++ ) {\n",
       "            var f = json.faces[i];\n",
       "            for ( var j=0 ; j < f.length - 2 ; j++ ) {\n",
       "                var face = new THREE.Face3( f[0], f[j+1], f[j+2] );\n",
       "                if ( useFaceColors ) face.color.set( json.faceColors[i] );\n",
       "                geometry.faces.push( face );\n",
       "            }\n",
       "        }\n",
       "        geometry.computeVertexNormals();\n",
       "\n",
       "        var side = json.singleSide ? THREE.FrontSide : THREE.DoubleSide;\n",
       "        var transparent = json.opacity < 1 ? true : false;\n",
       "        var depthWrite = 'depthWrite' in json ? json.depthWrite : !transparent;\n",
       "        var flatShading = json.useFlatShading ? json.useFlatShading : false;\n",
       "\n",
       "        var material = new THREE.MeshPhongMaterial( { side: side,\n",
       "                                     color: useFaceColors ? 'white' : json.color,\n",
       "                                     vertexColors: useFaceColors ? THREE.FaceColors : THREE.NoColors,\n",
       "                                     transparent: transparent, opacity: json.opacity,\n",
       "                                     shininess: 20, flatShading: flatShading,\n",
       "                                     depthWrite: depthWrite } );\n",
       "\n",
       "        var c = new THREE.Vector3();\n",
       "        geometry.computeBoundingBox();\n",
       "        geometry.boundingBox.getCenter( c );\n",
       "        geometry.translate( -c.x, -c.y, -c.z );\n",
       "\n",
       "        var mesh = new THREE.Mesh( geometry, material );\n",
       "        mesh.position.set( c.x, c.y, c.z );\n",
       "        if ( transparent && json.renderOrder ) mesh.renderOrder = json.renderOrder;\n",
       "        mesh.userData = json;\n",
       "        scene.add( mesh );\n",
       "\n",
       "        if ( json.showMeshGrid ) addSurfaceMeshGrid( json );\n",
       "\n",
       "    }\n",
       "\n",
       "    function addSurfaceMeshGrid( json ) {\n",
       "\n",
       "        var geometry = new THREE.Geometry();\n",
       "\n",
       "        for ( var i=0 ; i < json.faces.length ; i++ ) {\n",
       "            var f = json.faces[i];\n",
       "            for ( var j=0 ; j < f.length ; j++ ) {\n",
       "                var k = j === f.length-1 ? 0 : j+1;\n",
       "                var v1 = json.vertices[f[j]];\n",
       "                var v2 = json.vertices[f[k]];\n",
       "                // vertices in opposite directions on neighboring faces\n",
       "                var nudge = f[j] < f[k] ? .0005*zRange : -.0005*zRange;\n",
       "                geometry.vertices.push( new THREE.Vector3( a[0]*v1.x, a[1]*v1.y, a[2]*(v1.z+nudge) ) );\n",
       "                geometry.vertices.push( new THREE.Vector3( a[0]*v2.x, a[1]*v2.y, a[2]*(v2.z+nudge) ) );\n",
       "            }\n",
       "        }\n",
       "\n",
       "        var c = new THREE.Vector3();\n",
       "        geometry.computeBoundingBox();\n",
       "        geometry.boundingBox.getCenter( c );\n",
       "        geometry.translate( -c.x, -c.y, -c.z );\n",
       "\n",
       "        var gridColor = options.theme === 'dark' ? 'white' : 'black';\n",
       "        var linewidth = json.linewidth || 1;\n",
       "        var materialOptions = { color: gridColor, linewidth: linewidth };\n",
       "\n",
       "        var mesh;\n",
       "        if ( linewidth > 1 && window.createFatLineSegments ) {\n",
       "            mesh = createFatLineSegments( geometry, materialOptions );\n",
       "        } else {\n",
       "            var material = new THREE.LineBasicMaterial( materialOptions );\n",
       "            mesh = new THREE.LineSegments( geometry, material );\n",
       "        }\n",
       "\n",
       "        mesh.position.set( c.x, c.y, c.z );\n",
       "        mesh.userData = json;\n",
       "        scene.add( mesh );\n",
       "\n",
       "    }\n",
       "\n",
       "    function render() {\n",
       "\n",
       "        if ( window.updateAnimation ) animate = updateAnimation();\n",
       "        if ( animate ) requestAnimationFrame( render );\n",
       "\n",
       "        renderer.render( scene, camera );\n",
       "\n",
       "    }\n",
       "\n",
       "    render();\n",
       "    controls.update();\n",
       "    if ( !animate ) render();\n",
       "\n",
       "\n",
       "    // menu functions\n",
       "\n",
       "    function toggleMenu() {\n",
       "\n",
       "        var m = document.getElementById( 'menu-content' );\n",
       "        if ( m.style.display === 'block' ) m.style.display = 'none'\n",
       "        else m.style.display = 'block';\n",
       "\n",
       "    }\n",
       "\n",
       "\n",
       "    function saveAsPNG() {\n",
       "\n",
       "        var a = document.body.appendChild( document.createElement( 'a' ) );\n",
       "        a.href = renderer.domElement.toDataURL( 'image/png' );\n",
       "        a.download = 'screenshot';\n",
       "        a.click();\n",
       "\n",
       "    }\n",
       "\n",
       "    function saveAsHTML() {\n",
       "\n",
       "        toggleMenu(); // otherwise visible in output\n",
       "        event.stopPropagation();\n",
       "\n",
       "        var blob = new Blob( [ '<!DOCTYPE html>\\n' + document.documentElement.outerHTML ] );\n",
       "        var a = document.body.appendChild( document.createElement( 'a' ) );\n",
       "        a.href = window.URL.createObjectURL( blob );\n",
       "        a.download = suggestFilename();\n",
       "        a.click();\n",
       "\n",
       "        function suggestFilename() {\n",
       "            if ( !document.title ) {\n",
       "                return 'graphic.html';\n",
       "            } else if ( /\\.html?$/i.test( document.title ) ) {\n",
       "                return document.title; // already ends in .htm or .html\n",
       "            } else {\n",
       "                return document.title + '.html';\n",
       "            }\n",
       "        }\n",
       "\n",
       "    }\n",
       "\n",
       "    function getViewpoint() {\n",
       "\n",
       "        function roundTo( x, n ) { return +x.toFixed(n); }\n",
       "\n",
       "        var v = camera.quaternion.inverse();\n",
       "        var r = Math.sqrt( v.x*v.x + v.y*v.y + v.z*v.z );\n",
       "        var axis = [ roundTo( v.x / r, 4 ), roundTo( v.y / r, 4 ), roundTo( v.z / r, 4 ) ];\n",
       "        var angle = roundTo( 2 * Math.atan2( r, v.w ) * 180 / Math.PI, 2 );\n",
       "\n",
       "        var textArea = document.createElement( 'textarea' );\n",
       "        textArea.textContent = JSON.stringify( axis ) + ',' + angle;\n",
       "        textArea.style.csstext = 'position: absolute; top: -100%';\n",
       "        document.body.append( textArea );\n",
       "        textArea.select();\n",
       "        document.execCommand( 'copy' );\n",
       "\n",
       "        var m = document.getElementById( 'menu-message' );\n",
       "        m.innerHTML = 'Viewpoint copied to clipboard';\n",
       "        m.style.display = 'block';\n",
       "        setTimeout( function() { m.style.display = 'none'; }, 2000 );\n",
       "\n",
       "    }\n",
       "\n",
       "    function getCamera() {\n",
       "\n",
       "        function roundTo( x, n ) { return +x.toFixed(n); }\n",
       "\n",
       "        var pos = camera.position;\n",
       "        var pos_r = [ roundTo( pos.x, 4 ), roundTo( pos.y, 4 ), roundTo( pos.z, 4 ) ];\n",
       "   //     var up = camera.up; // up is always (0,0,1)\n",
       "        var textArea = document.createElement('textarea');\n",
       "        var cam_position = JSON.stringify(pos_r);\n",
       "        textArea.textContent = ',camera_position=' + cam_position;\n",
       "        textArea.style.csstext = 'position: absolute; top: -100%';\n",
       "        document.body.append( textArea );\n",
       "        textArea.select();\n",
       "        document.execCommand( 'copy' );\n",
       "\n",
       "        var m = document.getElementById( 'menu-message' );\n",
       "        m.innerHTML = 'Camera position '+ cam_position+' copied to clipboard';\n",
       "        m.style.display = 'block';\n",
       "        setTimeout( function() { m.style.display = 'none'; }, 2000 );\n",
       "\n",
       "    }\n",
       "\n",
       "</script>\n",
       "\n",
       "<div id=&quot;menu-container&quot; onclick=&quot;toggleMenu()&quot;>&#x24d8;\n",
       "<div id=&quot;menu-message&quot;></div>\n",
       "<div id=&quot;menu-content&quot;>\n",
       "<div onclick=&quot;saveAsPNG()&quot;>Save as PNG</div>\n",
       "<div onclick=&quot;saveAsHTML()&quot;>Save as HTML</div>\n",
       "<div onclick=&quot;getCamera()&quot;>Get camera</div>\n",
       "<div onclick=&quot;getViewpoint()&quot;>Get viewpoint</div>\n",
       "<div>Close Menu</div>\n",
       "</div></div>\n",
       "\n",
       "\n",
       "</body>\n",
       "</html>\n",
       "\"\n",
       "        width=\"100%\"\n",
       "        height=\"400\"\n",
       "        style=\"border: 0;\">\n",
       "</iframe>\n"
      ],
      "text/plain": [
       "Graphics3d Object"
      ]
     },
     "execution_count": 5,
     "metadata": {},
     "output_type": "execute_result"
    }
   ],
   "source": [
    "# Visualize the 3d vectors.\n",
    "\n",
    "# Initialize a 3d plot displaying the 1/sqrt(3)[1 1 1]^T vector.\n",
    "arrows = arrow((0,0,0), (1./sqrt(3.0),1./sqrt(3.0),1./sqrt(3.0)), color = \"red\")\n",
    "\n",
    "# For each one of the vectros in matrix m\n",
    "for mi in m :\n",
    "    mi = mi/norm(mi)\n",
    "    arrows += arrow((0,0,0), mi) # Add them to the the plot.\n",
    "\n",
    "# Display the 3d-plot.\n",
    "arrows"
   ]
  },
  {
   "cell_type": "code",
   "execution_count": 6,
   "metadata": {
    "vscode": {
     "languageId": "python"
    }
   },
   "outputs": [
    {
     "data": {
      "image/png": "[encoded data removed]",
      "text/plain": [
       "Graphics object consisting of 3 graphics primitives"
      ]
     },
     "execution_count": 6,
     "metadata": {},
     "output_type": "execute_result"
    }
   ],
   "source": [
    "# Plot 2d arrows\n",
    "arrow2d((0,0), (2,0), legend_label='$x_1$', legend_color='black') + \\\n",
    "arrow2d((0,0), (1,1), legend_label='$x_2$', legend_color='black', color = \"red\") + \\\n",
    "arrow2d((0,0), (0,1), legend_label='$u_2$', legend_color='black', color = \"black\")"
   ]
  },
  {
   "cell_type": "code",
   "execution_count": 7,
   "metadata": {
    "vscode": {
     "languageId": "python"
    }
   },
   "outputs": [
    {
     "name": "stdout",
     "output_type": "stream",
     "text": [
      "Vector r: (0.577350269189626, 0.577350269189626, 0.577350269189626)\n",
      "\n",
      "Coordinate λ =  -0.362164420442106\n",
      "Coordinate λ =  0.599528546346024\n",
      "Coordinate λ =  -0.366485940513114\n"
     ]
    }
   ],
   "source": [
    "# Projections\n",
    "# Project each one of the vectors onto vector r.\n",
    "\n",
    "r = vector([1,1,1])/sqrt(3.)\n",
    "print (\"Vector r:\", r)\n",
    "print ()\n",
    "\n",
    "for i in range(3) :\n",
    "    print (\"Coordinate λ = \", r*m[i])"
   ]
  },
  {
   "cell_type": "code",
   "execution_count": 8,
   "metadata": {
    "vscode": {
     "languageId": "python"
    }
   },
   "outputs": [
    {
     "data": {
      "text/html": [
       "<html>\\(\\displaystyle \\left[-0.362164420442106, 0.599528546346024, -0.366485940513114, -0.300942887535230\\right]\\)</html>"
      ],
      "text/latex": [
       "$\\displaystyle \\left[-0.362164420442106, 0.599528546346024, -0.366485940513114, -0.300942887535230\\right]$"
      ],
      "text/plain": [
       "[-0.362164420442106, 0.599528546346024, -0.366485940513114, -0.300942887535230]"
      ]
     },
     "execution_count": 8,
     "metadata": {},
     "output_type": "execute_result"
    }
   ],
   "source": [
    "# We could also use a more compact command using an implicit for loop \n",
    "# Create a list containing the projection of each vector of m onto vector r.\n",
    "projections = [r.dot_product(x) for x in m]; projections"
   ]
  },
  {
   "cell_type": "markdown",
   "metadata": {},
   "source": [
    "### Find the projection matrix $P\\pi$ onto the line through the origin spanned by b = $[1, 2, 2]^T$. b is a direction and a basis of the one-dimensional subspace (line through origin)."
   ]
  },
  {
   "cell_type": "code",
   "execution_count": 9,
   "metadata": {
    "vscode": {
     "languageId": "python"
    }
   },
   "outputs": [
    {
     "data": {
      "text/html": [
       "<html>\\(\\displaystyle \\left(\\begin{array}{r}\n",
       "1 \\\\\n",
       "2 \\\\\n",
       "2\n",
       "\\end{array}\\right)\\)</html>"
      ],
      "text/latex": [
       "$\\displaystyle \\left(\\begin{array}{r}\n",
       "1 \\\\\n",
       "2 \\\\\n",
       "2\n",
       "\\end{array}\\right)$"
      ],
      "text/plain": [
       "[1]\n",
       "[2]\n",
       "[2]"
      ]
     },
     "execution_count": 9,
     "metadata": {},
     "output_type": "execute_result"
    }
   ],
   "source": [
    "b = vector([1,2,2]).column()\n",
    "b"
   ]
  },
  {
   "cell_type": "code",
   "execution_count": 32,
   "metadata": {
    "vscode": {
     "languageId": "python"
    }
   },
   "outputs": [
    {
     "name": "stdout",
     "output_type": "stream",
     "text": [
      "|b| = 3.0\n",
      "\n",
      "      bTb [9] <class 'sage.matrix.matrix_integer_dense.Matrix_integer_dense'>\n",
      "   bTb[0] (9) <class 'sage.modules.vector_integer_dense.Vector_integer_dense'>\n",
      "bTb[0][0] 9 <class 'sage.rings.integer.Integer'>\n",
      "\n",
      "Ppi\n",
      "[1/9 2/9 2/9]\n",
      "[2/9 4/9 4/9]\n",
      "[2/9 4/9 4/9]\n"
     ]
    }
   ],
   "source": [
    "bNorm = norm(b)\n",
    "print (\"|b| =\", bNorm)\n",
    "print ()\n",
    "\n",
    "bTb = b.transpose()*b\n",
    "\n",
    "print (\"      bTb\", bTb, type(bTb))\n",
    "print (\"   bTb[0]\", bTb[0],type(bTb[0]))\n",
    "print (\"bTb[0][0]\", bTb[0][0], type(bTb[0][0]))\n",
    "print ()\n",
    "#\n",
    "Ppi = b*b.transpose()/bTb[0][0] # bTb[0][0] = bNorm^2\n",
    "print (\"Ppi\")\n",
    "print (Ppi)"
   ]
  },
  {
   "cell_type": "markdown",
   "metadata": {},
   "source": [
    "### The projection $\\pi_U(\\vec{x})$ of $\\vec{x} = [1,1,1]^T$ onto the line through the origin spanned by $\\vec{b}$ is:"
   ]
  },
  {
   "cell_type": "code",
   "execution_count": 33,
   "metadata": {
    "vscode": {
     "languageId": "python"
    }
   },
   "outputs": [
    {
     "name": "stdout",
     "output_type": "stream",
     "text": [
      "[1]\n",
      "[1]\n",
      "[1]\n"
     ]
    }
   ],
   "source": [
    "x = vector([1,1,1]).column()\n",
    "print(x)"
   ]
  },
  {
   "cell_type": "code",
   "execution_count": 12,
   "metadata": {
    "vscode": {
     "languageId": "python"
    }
   },
   "outputs": [
    {
     "data": {
      "text/html": [
       "<html>\\(\\displaystyle \\left(\\begin{array}{r}\n",
       "\\frac{5}{9} \\\\\n",
       "\\frac{10}{9} \\\\\n",
       "\\frac{10}{9}\n",
       "\\end{array}\\right)\\)</html>"
      ],
      "text/latex": [
       "$\\displaystyle \\left(\\begin{array}{r}\n",
       "\\frac{5}{9} \\\\\n",
       "\\frac{10}{9} \\\\\n",
       "\\frac{10}{9}\n",
       "\\end{array}\\right)$"
      ],
      "text/plain": [
       "[ 5/9]\n",
       "[10/9]\n",
       "[10/9]"
      ]
     },
     "execution_count": 12,
     "metadata": {},
     "output_type": "execute_result"
    }
   ],
   "source": [
    "Ppi*x"
   ]
  },
  {
   "cell_type": "code",
   "execution_count": 13,
   "metadata": {
    "vscode": {
     "languageId": "python"
    }
   },
   "outputs": [
    {
     "data": {
      "text/html": [
       "<html>\\(\\displaystyle \\verb|Is|\\verb| |\\verb|invertible|\\verb| |\\verb|=| \\mathrm{False} \\verb| |\\verb|Det(Ppi)|\\verb| |\\verb|=| 0\\)</html>"
      ],
      "text/latex": [
       "$\\displaystyle \\verb|Is|\\verb| |\\verb|invertible|\\verb| |\\verb|=| \\mathrm{False} \\verb| |\\verb|Det(Ppi)|\\verb| |\\verb|=| 0$"
      ],
      "text/plain": [
       "'Is invertible = ' False ' Det(Ppi) = ' 0"
      ]
     },
     "metadata": {},
     "output_type": "display_data"
    },
    {
     "data": {
      "text/html": [
       "<html>\\(\\displaystyle \\verb|Is|\\verb| |\\verb|symmetric|\\verb| |\\verb|=| \\mathrm{True}\\)</html>"
      ],
      "text/latex": [
       "$\\displaystyle \\verb|Is|\\verb| |\\verb|symmetric|\\verb| |\\verb|=| \\mathrm{True}$"
      ],
      "text/plain": [
       "'Is symmetric = ' True"
      ]
     },
     "metadata": {},
     "output_type": "display_data"
    },
    {
     "data": {
      "text/html": [
       "<html>\\(\\displaystyle \\verb|Is|\\verb| |\\verb|the|\\verb| |\\verb|same|\\verb| |\\verb|as|\\verb| |\\verb|its|\\verb| |\\verb|transpose|\\verb| |\\verb|=| \\mathrm{True}\\)</html>"
      ],
      "text/latex": [
       "$\\displaystyle \\verb|Is|\\verb| |\\verb|the|\\verb| |\\verb|same|\\verb| |\\verb|as|\\verb| |\\verb|its|\\verb| |\\verb|transpose|\\verb| |\\verb|=| \\mathrm{True}$"
      ],
      "text/plain": [
       "'Is the same as its transpose = ' True"
      ]
     },
     "metadata": {},
     "output_type": "display_data"
    },
    {
     "data": {
      "text/html": [
       "<html>\\(\\displaystyle \\verb|Is|\\verb| |\\verb|the|\\verb| |\\verb|same|\\verb| |\\verb|as|\\verb| |\\verb|its|\\verb| |\\verb|square|\\verb| |\\verb|=| \\mathrm{True}\\)</html>"
      ],
      "text/latex": [
       "$\\displaystyle \\verb|Is|\\verb| |\\verb|the|\\verb| |\\verb|same|\\verb| |\\verb|as|\\verb| |\\verb|its|\\verb| |\\verb|square|\\verb| |\\verb|=| \\mathrm{True}$"
      ],
      "text/plain": [
       "'Is the same as its square = ' True"
      ]
     },
     "metadata": {},
     "output_type": "display_data"
    }
   ],
   "source": [
    "show(\"Is invertible = \", Ppi.is_invertible(), \" Det(Ppi) = \", Ppi.determinant())\n",
    "show(\"Is symmetric = \", Ppi.is_symmetric())\n",
    "show(\"Is the same as its transpose = \", Ppi.transpose() == Ppi)\n",
    "show(\"Is the same as its square = \", Ppi*Ppi == Ppi)"
   ]
  },
  {
   "cell_type": "code",
   "execution_count": 14,
   "metadata": {
    "vscode": {
     "languageId": "python"
    }
   },
   "outputs": [],
   "source": [
    "def generalized_inner_product(x,A,y):\n",
    "    if A.dimensions()[0] != A.dimensions()[1]:\n",
    "        return 'No symmetric matrix is provided'\n",
    "    elif A.is_positive_definite() == False:\n",
    "        return 'No psd matrix is provided'\n",
    "    else:\n",
    "        return x * A * y.column()"
   ]
  },
  {
   "cell_type": "code",
   "execution_count": 15,
   "metadata": {
    "vscode": {
     "languageId": "python"
    }
   },
   "outputs": [
    {
     "name": "stdout",
     "output_type": "stream",
     "text": [
      "Dot product of x,y:  13\n",
      "Generalized inner product of x,y:  (85)\n"
     ]
    }
   ],
   "source": [
    "x = vector([4,1])\n",
    "y = vector([3,1])\n",
    "\n",
    "print('Dot product of x,y: ', x.inner_product(y))\n",
    "\n",
    "A = matrix([[7,0],[0,1]])\n",
    "\n",
    "a = generalized_inner_product(x,A,y)\n",
    "\n",
    "if type(a)=='str':\n",
    "    print(a)\n",
    "else:\n",
    "    print('Generalized inner product of x,y: ', a)"
   ]
  },
  {
   "cell_type": "code",
   "execution_count": 16,
   "metadata": {
    "vscode": {
     "languageId": "python"
    }
   },
   "outputs": [
    {
     "name": "stdout",
     "output_type": "stream",
     "text": [
      "Inner product (b1,b2): [0]\n"
     ]
    }
   ],
   "source": [
    "# Check the orthogonality between two vectors.\n",
    "b1 = vector([1,1,1])\n",
    "b1 = b1.column()\n",
    "\n",
    "b2 = vector([-2,1,1])\n",
    "b2 = b2.column()\n",
    "\n",
    "print (\"Inner product (b1,b2):\", b1.transpose()*b2)"
   ]
  },
  {
   "cell_type": "markdown",
   "metadata": {},
   "source": [
    "### Gram-Schmidt orthogonalization\n",
    "Documantation : https://doc.sagemath.org/html/en/reference/matrices/sage/matrix/matrix2.html#sage.matrix.matrix2.Matrix.gram_schmidt\n",
    "    "
   ]
  },
  {
   "cell_type": "code",
   "execution_count": 17,
   "metadata": {
    "vscode": {
     "languageId": "python"
    }
   },
   "outputs": [
    {
     "name": "stdout",
     "output_type": "stream",
     "text": [
      "u1: (2, 0)\n",
      "u2: (1, 1)\n",
      "b1.dot_product(b2): 2\n"
     ]
    }
   ],
   "source": [
    "nonOrthogonalBasis = matrix([[2,0],[1,1]])\n",
    "b1, b2 = nonOrthogonalBasis\n",
    "print (\"u1:\", b1)\n",
    "print (\"u2:\", b2)\n",
    "print (\"b1.dot_product(b2):\", b1.dot_product(b2))"
   ]
  },
  {
   "cell_type": "code",
   "execution_count": 18,
   "metadata": {
    "vscode": {
     "languageId": "python"
    }
   },
   "outputs": [
    {
     "data": {
      "text/html": [
       "<html>\\(\\displaystyle \\left(\\begin{array}{rr}\n",
       "2 & 0 \\\\\n",
       "0 & 1\n",
       "\\end{array}\\right)\\)</html>"
      ],
      "text/latex": [
       "$\\displaystyle \\left(\\begin{array}{rr}\n",
       "2 & 0 \\\\\n",
       "0 & 1\n",
       "\\end{array}\\right)$"
      ],
      "text/plain": [
       "[2 0]\n",
       "[0 1]"
      ]
     },
     "execution_count": 18,
     "metadata": {},
     "output_type": "execute_result"
    }
   ],
   "source": [
    "# Gram-Schmidt orthogonalization\n",
    "orthogonalBasis, s = nonOrthogonalBasis.gram_schmidt()\n",
    "orthogonalBasis"
   ]
  },
  {
   "cell_type": "code",
   "execution_count": 19,
   "metadata": {
    "vscode": {
     "languageId": "python"
    }
   },
   "outputs": [
    {
     "name": "stdout",
     "output_type": "stream",
     "text": [
      "u1: (2, 0)\n",
      "u2: (0, 1)\n",
      "u1.dot_product(u2): 0\n"
     ]
    }
   ],
   "source": [
    "# Check the orthogonality of the new basis\n",
    "u1, u2 = orthogonalBasis\n",
    "\n",
    "print (\"u1:\", u1)\n",
    "print (\"u2:\", u2)\n",
    "print (\"u1.dot_product(u2):\", u1.dot_product(u2))"
   ]
  },
  {
   "cell_type": "code",
   "execution_count": 20,
   "metadata": {
    "vscode": {
     "languageId": "python"
    }
   },
   "outputs": [],
   "source": [
    "# Create a rotation matrix.\n",
    "def R(thetaRads):\n",
    "    return matrix([[cos(thetaRads), -sin(thetaRads)], [sin(thetaRads), cos(thetaRads)]])"
   ]
  },
  {
   "cell_type": "code",
   "execution_count": 21,
   "metadata": {
    "vscode": {
     "languageId": "python"
    }
   },
   "outputs": [],
   "source": [
    "# Convert degrees into rads.\n",
    "def degreesToRads(theta):\n",
    "    return pi*theta/180.0\n",
    "\n",
    "# Convert rads into degrees.\n",
    "def radsToDegrees(thetaRads):\n",
    "    return (180*thetaRads/pi).n()"
   ]
  },
  {
   "cell_type": "code",
   "execution_count": 22,
   "metadata": {
    "vscode": {
     "languageId": "python"
    }
   },
   "outputs": [
    {
     "data": {
      "text/html": [
       "<html>\\(\\displaystyle 45.0000000000000\\)</html>"
      ],
      "text/latex": [
       "$\\displaystyle 45.0000000000000$"
      ],
      "text/plain": [
       "45.0000000000000"
      ]
     },
     "execution_count": 22,
     "metadata": {},
     "output_type": "execute_result"
    }
   ],
   "source": [
    "radsToDegrees(pi/4)"
   ]
  },
  {
   "cell_type": "code",
   "execution_count": 23,
   "metadata": {
    "vscode": {
     "languageId": "python"
    }
   },
   "outputs": [],
   "source": [
    "# Calculate the angle between two vectors\n",
    "def angle(x1,x2):\n",
    "    normalizedInnerProd = x1.column().transpose()*x2.column()/norm(x1)/norm(x2)\n",
    "    return radsToDegrees(arccos(normalizedInnerProd[0][0]))"
   ]
  },
  {
   "cell_type": "code",
   "execution_count": 24,
   "metadata": {
    "vscode": {
     "languageId": "python"
    }
   },
   "outputs": [],
   "source": [
    "x = vector([1,0])"
   ]
  },
  {
   "cell_type": "code",
   "execution_count": 25,
   "metadata": {
    "vscode": {
     "languageId": "python"
    }
   },
   "outputs": [],
   "source": [
    "y = vector([0,1])"
   ]
  },
  {
   "cell_type": "code",
   "execution_count": 26,
   "metadata": {
    "vscode": {
     "languageId": "python"
    }
   },
   "outputs": [
    {
     "name": "stdout",
     "output_type": "stream",
     "text": [
      "90.0000000000000\n"
     ]
    }
   ],
   "source": [
    "print (angle(x,y))"
   ]
  },
  {
   "cell_type": "code",
   "execution_count": 27,
   "metadata": {
    "vscode": {
     "languageId": "python"
    }
   },
   "outputs": [
    {
     "data": {
      "text/html": [
       "<html>\\(\\displaystyle \\left(0,\\,1\\right)\\)</html>"
      ],
      "text/latex": [
       "$\\displaystyle \\left(0,\\,1\\right)$"
      ],
      "text/plain": [
       "(0, 1)"
      ]
     },
     "execution_count": 27,
     "metadata": {},
     "output_type": "execute_result"
    }
   ],
   "source": [
    "# Rotate vector x by 90 degrees\n",
    "R(pi/2)*x"
   ]
  },
  {
   "cell_type": "code",
   "execution_count": 28,
   "metadata": {
    "vscode": {
     "languageId": "python"
    }
   },
   "outputs": [
    {
     "data": {
      "text/html": [
       "<html>\\(\\displaystyle \\left(0.707106781186548,\\,0.707106781186547\\right)\\)</html>"
      ],
      "text/latex": [
       "$\\displaystyle \\left(0.707106781186548,\\,0.707106781186547\\right)$"
      ],
      "text/plain": [
       "(0.707106781186548, 0.707106781186547)"
      ]
     },
     "execution_count": 28,
     "metadata": {},
     "output_type": "execute_result"
    }
   ],
   "source": [
    "(R(degreesToRads(45))*x).n()"
   ]
  },
  {
   "cell_type": "code",
   "execution_count": 29,
   "metadata": {
    "vscode": {
     "languageId": "python"
    }
   },
   "outputs": [
    {
     "data": {
      "text/html": [
       "<html>\\(\\displaystyle 0\\)</html>"
      ],
      "text/latex": [
       "$\\displaystyle 0$"
      ],
      "text/plain": [
       "0"
      ]
     },
     "execution_count": 29,
     "metadata": {},
     "output_type": "execute_result"
    }
   ],
   "source": [
    "x.inner_product(y)"
   ]
  },
  {
   "cell_type": "markdown",
   "metadata": {},
   "source": [
    "## Quadratic forms"
   ]
  },
  {
   "cell_type": "code",
   "execution_count": 30,
   "metadata": {
    "vscode": {
     "languageId": "python"
    }
   },
   "outputs": [
    {
     "data": {
      "text/html": [
       "<html>\\(\\displaystyle x^{2} + 6 \\, x y + 4 \\, y^{2}\\)</html>"
      ],
      "text/latex": [
       "$\\displaystyle x^{2} + 6 \\, x y + 4 \\, y^{2}$"
      ],
      "text/plain": [
       "x^2 + 6*x*y + 4*y^2"
      ]
     },
     "execution_count": 30,
     "metadata": {},
     "output_type": "execute_result"
    }
   ],
   "source": [
    "x,y=var('x,y')\n",
    "X=vector(SR,[x,y])\n",
    "A=matrix(SR,[[1,3],[3,4]])\n",
    "(X*A*X).expand()"
   ]
  }
 ],
 "metadata": {
  "kernelspec": {
   "display_name": "SageMath 9.3",
   "language": "sage",
   "name": "sagemath"
  },
  "language_info": {
   "codemirror_mode": {
    "name": "ipython",
    "version": 3
   },
   "file_extension": ".py",
   "mimetype": "text/x-python",
   "name": "python",
   "nbconvert_exporter": "python",
   "pygments_lexer": "ipython3",
   "version": "3.7.10"
  }
 },
 "nbformat": 4,
 "nbformat_minor": 4
}
