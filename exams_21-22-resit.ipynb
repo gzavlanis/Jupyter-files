{
 "cells": [
  {
   "cell_type": "markdown",
   "metadata": {},
   "source": [
    "# Exams solutions 2021 - 2022 - Resit (Sagemath part)\n",
    "\n",
    "### Trying to solve Quiz problems using Sagemath\n",
    "\n",
    "**Problem 1**"
   ]
  },
  {
   "cell_type": "code",
   "execution_count": 34,
   "metadata": {},
   "outputs": [
    {
     "data": {
      "text/html": [
       "<html><script type=\"math/tex; mode=display\">\\newcommand{\\Bold}[1]{\\mathbf{#1}}\\left(\\begin{array}{rr}\n",
       "1 & 1 \\\\\n",
       "1 & 1\n",
       "\\end{array}\\right)</script></html>"
      ],
      "text/latex": [
       "$$\\newcommand{\\Bold}[1]{\\mathbf{#1}}\\left(\\begin{array}{rr}\n",
       "1 & 1 \\\\\n",
       "1 & 1\n",
       "\\end{array}\\right)$$"
      ],
      "text/plain": [
       "[1 1]\n",
       "[1 1]"
      ]
     },
     "execution_count": 34,
     "metadata": {},
     "output_type": "execute_result"
    }
   ],
   "source": [
    "%display latex\n",
    "\n",
    "A = matrix([[1,1], [1,1]]); A"
   ]
  },
  {
   "cell_type": "code",
   "execution_count": 35,
   "metadata": {},
   "outputs": [
    {
     "data": {
      "text/html": [
       "<html><script type=\"math/tex; mode=display\">\\newcommand{\\Bold}[1]{\\mathbf{#1}}x^{2} - 2x</script></html>"
      ],
      "text/latex": [
       "$$\\newcommand{\\Bold}[1]{\\mathbf{#1}}x^{2} - 2x$$"
      ],
      "text/plain": [
       "x^2 - 2*x"
      ]
     },
     "execution_count": 35,
     "metadata": {},
     "output_type": "execute_result"
    }
   ],
   "source": [
    "A.characteristic_polynomial()"
   ]
  },
  {
   "cell_type": "markdown",
   "metadata": {},
   "source": [
    "**Problem 2**"
   ]
  },
  {
   "cell_type": "code",
   "execution_count": 36,
   "metadata": {},
   "outputs": [
    {
     "data": {
      "text/html": [
       "<html><script type=\"math/tex; mode=display\">\\newcommand{\\Bold}[1]{\\mathbf{#1}}\\left(\\begin{array}{rrr}\n",
       "1 & 0 & 5 \\\\\n",
       "0 & 1 & -1\n",
       "\\end{array}\\right)</script></html>"
      ],
      "text/latex": [
       "$$\\newcommand{\\Bold}[1]{\\mathbf{#1}}\\left(\\begin{array}{rrr}\n",
       "1 & 0 & 5 \\\\\n",
       "0 & 1 & -1\n",
       "\\end{array}\\right)$$"
      ],
      "text/plain": [
       "[ 1  0  5]\n",
       "[ 0  1 -1]"
      ]
     },
     "execution_count": 36,
     "metadata": {},
     "output_type": "execute_result"
    }
   ],
   "source": [
    "A = matrix(2, 3, [[1, 0, 5], [0, 1, -1]]); A"
   ]
  },
  {
   "cell_type": "code",
   "execution_count": 37,
   "metadata": {},
   "outputs": [
    {
     "data": {
      "text/html": [
       "<html><script type=\"math/tex; mode=display\">\\newcommand{\\Bold}[1]{\\mathbf{#1}}\\left(\\begin{array}{rrr}\n",
       "1 & 0 & 5 \\\\\n",
       "0 & 1 & -1\n",
       "\\end{array}\\right)</script></html>"
      ],
      "text/latex": [
       "$$\\newcommand{\\Bold}[1]{\\mathbf{#1}}\\left(\\begin{array}{rrr}\n",
       "1 & 0 & 5 \\\\\n",
       "0 & 1 & -1\n",
       "\\end{array}\\right)$$"
      ],
      "text/plain": [
       "[ 1  0  5]\n",
       "[ 0  1 -1]"
      ]
     },
     "execution_count": 37,
     "metadata": {},
     "output_type": "execute_result"
    }
   ],
   "source": [
    "A.echelon_form()"
   ]
  },
  {
   "cell_type": "code",
   "execution_count": 38,
   "metadata": {},
   "outputs": [
    {
     "data": {
      "text/html": [
       "<html><script type=\"math/tex; mode=display\">\\newcommand{\\Bold}[1]{\\mathbf{#1}}\\left(\\begin{array}{rr}\n",
       "1 & 0 \\\\\n",
       "0 & 1\n",
       "\\end{array}\\right)</script></html>"
      ],
      "text/latex": [
       "$$\\newcommand{\\Bold}[1]{\\mathbf{#1}}\\left(\\begin{array}{rr}\n",
       "1 & 0 \\\\\n",
       "0 & 1\n",
       "\\end{array}\\right)$$"
      ],
      "text/plain": [
       "[1 0]\n",
       "[0 1]"
      ]
     },
     "execution_count": 38,
     "metadata": {},
     "output_type": "execute_result"
    }
   ],
   "source": [
    "B = matrix([[1,1], [1,2]])\n",
    "B.echelon_form()"
   ]
  },
  {
   "cell_type": "code",
   "execution_count": 39,
   "metadata": {},
   "outputs": [
    {
     "data": {
      "text/html": [
       "<html><script type=\"math/tex; mode=display\">\\newcommand{\\Bold}[1]{\\mathbf{#1}}\\left(\\begin{array}{rr}\n",
       "1 & 0 \\\\\n",
       "0 & 1\n",
       "\\end{array}\\right)</script></html>"
      ],
      "text/latex": [
       "$$\\newcommand{\\Bold}[1]{\\mathbf{#1}}\\left(\\begin{array}{rr}\n",
       "1 & 0 \\\\\n",
       "0 & 1\n",
       "\\end{array}\\right)$$"
      ],
      "text/plain": [
       "[1 0]\n",
       "[0 1]"
      ]
     },
     "execution_count": 39,
     "metadata": {},
     "output_type": "execute_result"
    }
   ],
   "source": [
    "C = matrix([[1,1], [3,4]])\n",
    "C.echelon_form()"
   ]
  },
  {
   "cell_type": "code",
   "execution_count": 40,
   "metadata": {},
   "outputs": [
    {
     "data": {
      "text/html": [
       "<html><script type=\"math/tex; mode=display\">\\newcommand{\\Bold}[1]{\\mathbf{#1}}\\left(\\begin{array}{rrr}\n",
       "1 & 1 & 0 \\\\\n",
       "0 & 0 & 1\n",
       "\\end{array}\\right)</script></html>"
      ],
      "text/latex": [
       "$$\\newcommand{\\Bold}[1]{\\mathbf{#1}}\\left(\\begin{array}{rrr}\n",
       "1 & 1 & 0 \\\\\n",
       "0 & 0 & 1\n",
       "\\end{array}\\right)$$"
      ],
      "text/plain": [
       "[1 1 0]\n",
       "[0 0 1]"
      ]
     },
     "execution_count": 40,
     "metadata": {},
     "output_type": "execute_result"
    }
   ],
   "source": [
    "D = matrix(2, 3, [[1,1,1], [1,1,0]])\n",
    "D.echelon_form()"
   ]
  },
  {
   "cell_type": "markdown",
   "metadata": {},
   "source": [
    "**Problem 3**"
   ]
  },
  {
   "cell_type": "code",
   "execution_count": 41,
   "metadata": {},
   "outputs": [
    {
     "data": {
      "text/html": [
       "<html><script type=\"math/tex; mode=display\">\\newcommand{\\Bold}[1]{\\mathbf{#1}}\\left(-b c + a d, b c - a d\\right)</script></html>"
      ],
      "text/latex": [
       "$$\\newcommand{\\Bold}[1]{\\mathbf{#1}}\\left(-b c + a d, b c - a d\\right)$$"
      ],
      "text/plain": [
       "(-b*c + a*d, b*c - a*d)"
      ]
     },
     "execution_count": 41,
     "metadata": {},
     "output_type": "execute_result"
    }
   ],
   "source": [
    "a, b, c, d = var('a, b, c, d')\n",
    "A = matrix([[a,b], [c,d]])\n",
    "B = matrix([[c,d], [a,b]])\n",
    "\n",
    "A.determinant(), B.determinant()"
   ]
  },
  {
   "cell_type": "markdown",
   "metadata": {},
   "source": [
    "**Problem 5**"
   ]
  },
  {
   "cell_type": "code",
   "execution_count": 42,
   "metadata": {},
   "outputs": [
    {
     "data": {
      "text/html": [
       "<html><script type=\"math/tex; mode=display\">\\newcommand{\\Bold}[1]{\\mathbf{#1}}\\left(\\begin{array}{rr}\n",
       "2 & 3 \\\\\n",
       "1 & 1 \\\\\n",
       "3 & 2\n",
       "\\end{array}\\right)</script></html>"
      ],
      "text/latex": [
       "$$\\newcommand{\\Bold}[1]{\\mathbf{#1}}\\left(\\begin{array}{rr}\n",
       "2 & 3 \\\\\n",
       "1 & 1 \\\\\n",
       "3 & 2\n",
       "\\end{array}\\right)$$"
      ],
      "text/plain": [
       "[2 3]\n",
       "[1 1]\n",
       "[3 2]"
      ]
     },
     "execution_count": 42,
     "metadata": {},
     "output_type": "execute_result"
    }
   ],
   "source": [
    "A = matrix(3,2, [[2,3],[1,1],[3,2]]); A"
   ]
  },
  {
   "cell_type": "code",
   "execution_count": 43,
   "metadata": {},
   "outputs": [
    {
     "ename": "ZeroDivisionError",
     "evalue": "matrix must be nonsingular",
     "output_type": "error",
     "traceback": [
      "\u001b[0;31m---------------------------------------------------------------------------\u001b[0m",
      "\u001b[0;31mZeroDivisionError\u001b[0m                         Traceback (most recent call last)",
      "\u001b[0;32m<ipython-input-43-0a144764d9c2>\u001b[0m in \u001b[0;36m<module>\u001b[0;34m\u001b[0m\n\u001b[0;32m----> 1\u001b[0;31m \u001b[0;34m(\u001b[0m\u001b[0mA\u001b[0m\u001b[0;34m*\u001b[0m\u001b[0mA\u001b[0m\u001b[0;34m.\u001b[0m\u001b[0mT\u001b[0m\u001b[0;34m)\u001b[0m\u001b[0;34m**\u001b[0m\u001b[0;34m(\u001b[0m\u001b[0;34m-\u001b[0m\u001b[0mInteger\u001b[0m\u001b[0;34m(\u001b[0m\u001b[0;36m1\u001b[0m\u001b[0;34m)\u001b[0m\u001b[0;34m)\u001b[0m\u001b[0;34m\u001b[0m\u001b[0;34m\u001b[0m\u001b[0m\n\u001b[0m",
      "\u001b[0;32m/opt/sagemath-9.3/local/lib/python3.7/site-packages/sage/matrix/matrix_integer_dense.pyx\u001b[0m in \u001b[0;36msage.matrix.matrix_integer_dense.Matrix_integer_dense.__pow__ (build/cythonized/sage/matrix/matrix_integer_dense.cpp:11117)\u001b[0;34m()\u001b[0m\n\u001b[1;32m    971\u001b[0m                         \u001b[0;32mraise\u001b[0m \u001b[0mNotImplementedError\u001b[0m\u001b[0;34m(\u001b[0m\u001b[0;34m\"the given exponent is not supported\"\u001b[0m\u001b[0;34m)\u001b[0m\u001b[0;34m\u001b[0m\u001b[0;34m\u001b[0m\u001b[0m\n\u001b[1;32m    972\u001b[0m             \u001b[0;32mif\u001b[0m \u001b[0mmpz_sgn\u001b[0m\u001b[0;34m(\u001b[0m\u001b[0;34m(\u001b[0m\u001b[0;34m<\u001b[0m\u001b[0mInteger\u001b[0m\u001b[0;34m>\u001b[0m\u001b[0mn\u001b[0m\u001b[0;34m)\u001b[0m\u001b[0;34m.\u001b[0m\u001b[0mvalue\u001b[0m\u001b[0;34m)\u001b[0m \u001b[0;34m<\u001b[0m \u001b[0;36m0\u001b[0m\u001b[0;34m:\u001b[0m\u001b[0;34m\u001b[0m\u001b[0;34m\u001b[0m\u001b[0m\n\u001b[0;32m--> 973\u001b[0;31m                 \u001b[0;32mreturn\u001b[0m \u001b[0;34m(\u001b[0m\u001b[0;34m~\u001b[0m\u001b[0mself\u001b[0m\u001b[0;34m)\u001b[0m \u001b[0;34m**\u001b[0m \u001b[0;34m(\u001b[0m\u001b[0;34m-\u001b[0m\u001b[0mn\u001b[0m\u001b[0;34m)\u001b[0m\u001b[0;34m\u001b[0m\u001b[0;34m\u001b[0m\u001b[0m\n\u001b[0m\u001b[1;32m    974\u001b[0m \u001b[0;34m\u001b[0m\u001b[0m\n\u001b[1;32m    975\u001b[0m             \u001b[0;32mif\u001b[0m \u001b[0mmpz_fits_ulong_p\u001b[0m\u001b[0;34m(\u001b[0m\u001b[0;34m(\u001b[0m\u001b[0;34m<\u001b[0m\u001b[0mInteger\u001b[0m\u001b[0;34m>\u001b[0m\u001b[0mn\u001b[0m\u001b[0;34m)\u001b[0m\u001b[0;34m.\u001b[0m\u001b[0mvalue\u001b[0m\u001b[0;34m)\u001b[0m\u001b[0;34m:\u001b[0m\u001b[0;34m\u001b[0m\u001b[0;34m\u001b[0m\u001b[0m\n",
      "\u001b[0;32m/opt/sagemath-9.3/local/lib/python3.7/site-packages/sage/matrix/matrix_integer_dense.pyx\u001b[0m in \u001b[0;36msage.matrix.matrix_integer_dense.Matrix_integer_dense.__invert__ (build/cythonized/sage/matrix/matrix_integer_dense.cpp:33806)\u001b[0;34m()\u001b[0m\n\u001b[1;32m   4095\u001b[0m             \u001b[0mZeroDivisionError\u001b[0m\u001b[0;34m:\u001b[0m \u001b[0mmatrix\u001b[0m \u001b[0mmust\u001b[0m \u001b[0mbe\u001b[0m \u001b[0mnonsingular\u001b[0m\u001b[0;34m\u001b[0m\u001b[0;34m\u001b[0m\u001b[0m\n\u001b[1;32m   4096\u001b[0m         \"\"\"\n\u001b[0;32m-> 4097\u001b[0;31m         \u001b[0mA\u001b[0m\u001b[0;34m,\u001b[0m \u001b[0md\u001b[0m \u001b[0;34m=\u001b[0m \u001b[0mself\u001b[0m\u001b[0;34m.\u001b[0m\u001b[0m_invert_flint\u001b[0m\u001b[0;34m(\u001b[0m\u001b[0;34m)\u001b[0m\u001b[0;34m\u001b[0m\u001b[0;34m\u001b[0m\u001b[0m\n\u001b[0m\u001b[1;32m   4098\u001b[0m         \u001b[0;32mreturn\u001b[0m \u001b[0mA\u001b[0m \u001b[0;34m/\u001b[0m \u001b[0md\u001b[0m\u001b[0;34m\u001b[0m\u001b[0;34m\u001b[0m\u001b[0m\n\u001b[1;32m   4099\u001b[0m \u001b[0;34m\u001b[0m\u001b[0m\n",
      "\u001b[0;32m/opt/sagemath-9.3/local/lib/python3.7/site-packages/sage/matrix/matrix_integer_dense.pyx\u001b[0m in \u001b[0;36msage.matrix.matrix_integer_dense.Matrix_integer_dense._invert_flint (build/cythonized/sage/matrix/matrix_integer_dense.cpp:33642)\u001b[0;34m()\u001b[0m\n\u001b[1;32m   4056\u001b[0m         \u001b[0mfmpz_clear\u001b[0m\u001b[0;34m(\u001b[0m\u001b[0mfden\u001b[0m\u001b[0;34m)\u001b[0m\u001b[0;34m\u001b[0m\u001b[0;34m\u001b[0m\u001b[0m\n\u001b[1;32m   4057\u001b[0m         \u001b[0;32mif\u001b[0m \u001b[0mres\u001b[0m \u001b[0;34m==\u001b[0m \u001b[0;36m0\u001b[0m\u001b[0;34m:\u001b[0m\u001b[0;34m\u001b[0m\u001b[0;34m\u001b[0m\u001b[0m\n\u001b[0;32m-> 4058\u001b[0;31m             \u001b[0;32mraise\u001b[0m \u001b[0mZeroDivisionError\u001b[0m\u001b[0;34m(\u001b[0m\u001b[0;34m'matrix must be nonsingular'\u001b[0m\u001b[0;34m)\u001b[0m\u001b[0;34m\u001b[0m\u001b[0;34m\u001b[0m\u001b[0m\n\u001b[0m\u001b[1;32m   4059\u001b[0m         \u001b[0;32mif\u001b[0m \u001b[0mden\u001b[0m \u001b[0;34m<\u001b[0m \u001b[0;36m0\u001b[0m\u001b[0;34m:\u001b[0m\u001b[0;34m\u001b[0m\u001b[0;34m\u001b[0m\u001b[0m\n\u001b[1;32m   4060\u001b[0m             \u001b[0;32mreturn\u001b[0m \u001b[0;34m-\u001b[0m\u001b[0mM\u001b[0m\u001b[0;34m,\u001b[0m \u001b[0;34m-\u001b[0m\u001b[0mden\u001b[0m\u001b[0;34m\u001b[0m\u001b[0;34m\u001b[0m\u001b[0m\n",
      "\u001b[0;31mZeroDivisionError\u001b[0m: matrix must be nonsingular"
     ]
    }
   ],
   "source": [
    "(A*A.T)^(-1)"
   ]
  },
  {
   "cell_type": "markdown",
   "metadata": {},
   "source": [
    "**Problem 6**"
   ]
  },
  {
   "cell_type": "code",
   "execution_count": 45,
   "metadata": {},
   "outputs": [
    {
     "data": {
      "text/html": [
       "<html><script type=\"math/tex; mode=display\">\\newcommand{\\Bold}[1]{\\mathbf{#1}}\\frac{24}{91}</script></html>"
      ],
      "text/latex": [
       "$$\\newcommand{\\Bold}[1]{\\mathbf{#1}}\\frac{24}{91}$$"
      ],
      "text/plain": [
       "24/91"
      ]
     },
     "execution_count": 45,
     "metadata": {},
     "output_type": "execute_result"
    }
   ],
   "source": [
    "Pomega = 15\n",
    "P1 = 10/15\n",
    "P2 = 9/14\n",
    "P3 = 8/13\n",
    "\n",
    "Pkkk = P1*P2*P3; Pkkk"
   ]
  },
  {
   "cell_type": "markdown",
   "metadata": {},
   "source": [
    "**Problem 7**"
   ]
  },
  {
   "cell_type": "code",
   "execution_count": 46,
   "metadata": {},
   "outputs": [
    {
     "data": {
      "text/html": [
       "<html><script type=\"math/tex; mode=display\">\\newcommand{\\Bold}[1]{\\mathbf{#1}}\\left(6.10000000000000, 6.30000000000000\\right)</script></html>"
      ],
      "text/latex": [
       "$$\\newcommand{\\Bold}[1]{\\mathbf{#1}}\\left(6.10000000000000, 6.30000000000000\\right)$$"
      ],
      "text/plain": [
       "(6.10000000000000, 6.30000000000000)"
      ]
     },
     "execution_count": 46,
     "metadata": {},
     "output_type": "execute_result"
    }
   ],
   "source": [
    "M1 = (7+3+4+10+8+2.5+4+6.5+7+9)/10\n",
    "M2 = (8+3+5+5.5+6+4+7+8.5+9+7)/10\n",
    "\n",
    "M1, M2"
   ]
  },
  {
   "cell_type": "code",
   "execution_count": 47,
   "metadata": {},
   "outputs": [
    {
     "data": {
      "text/html": [
       "<html><script type=\"math/tex; mode=display\">\\newcommand{\\Bold}[1]{\\mathbf{#1}}\\left(\\left[0.810000000000001, 9.61000000000000, 4.41000000000000, 15.2100000000000, 3.61000000000000, 12.9600000000000, 4.41000000000000, 0.160000000000000, 0.810000000000001, 8.41000000000000\\right], \\left[2.89000000000000, 10.8900000000000, 1.69000000000000, 0.640000000000000, 0.0899999999999999, 5.29000000000000, 0.490000000000000, 4.84000000000000, 7.29000000000000, 0.490000000000000\\right]\\right)</script></html>"
      ],
      "text/latex": [
       "$$\\newcommand{\\Bold}[1]{\\mathbf{#1}}\\left(\\left[0.810000000000001, 9.61000000000000, 4.41000000000000, 15.2100000000000, 3.61000000000000, 12.9600000000000, 4.41000000000000, 0.160000000000000, 0.810000000000001, 8.41000000000000\\right], \\left[2.89000000000000, 10.8900000000000, 1.69000000000000, 0.640000000000000, 0.0899999999999999, 5.29000000000000, 0.490000000000000, 4.84000000000000, 7.29000000000000, 0.490000000000000\\right]\\right)$$"
      ],
      "text/plain": [
       "([0.810000000000001,\n",
       "  9.61000000000000,\n",
       "  4.41000000000000,\n",
       "  15.2100000000000,\n",
       "  3.61000000000000,\n",
       "  12.9600000000000,\n",
       "  4.41000000000000,\n",
       "  0.160000000000000,\n",
       "  0.810000000000001,\n",
       "  8.41000000000000],\n",
       " [2.89000000000000,\n",
       "  10.8900000000000,\n",
       "  1.69000000000000,\n",
       "  0.640000000000000,\n",
       "  0.0899999999999999,\n",
       "  5.29000000000000,\n",
       "  0.490000000000000,\n",
       "  4.84000000000000,\n",
       "  7.29000000000000,\n",
       "  0.490000000000000])"
      ]
     },
     "execution_count": 47,
     "metadata": {},
     "output_type": "execute_result"
    }
   ],
   "source": [
    "μ1=sum(data1)/len(data1)\n",
    "μ2=sum(data2)/len(data2)\n",
    "data1 = [7, 3, 4, 10, 8, 2.5, 4, 6.5, 7, 9]\n",
    "data2 = [8, 3, 5, 5.5, 6, 4, 7, 8.5, 9, 7]\n",
    "\n",
    "vv1=[(data1[i]-μ1)^2  for i in range(10)]\n",
    "vv2=[(data2[i]-μ2)^2  for i in range(10)]\n",
    "\n",
    "vv1, vv2"
   ]
  },
  {
   "cell_type": "code",
   "execution_count": 48,
   "metadata": {},
   "outputs": [
    {
     "data": {
      "text/html": [
       "<html><script type=\"math/tex; mode=display\">\\newcommand{\\Bold}[1]{\\mathbf{#1}}\\left(2.45764114548890, 1.86010752377383\\right)</script></html>"
      ],
      "text/latex": [
       "$$\\newcommand{\\Bold}[1]{\\mathbf{#1}}\\left(2.45764114548890, 1.86010752377383\\right)$$"
      ],
      "text/plain": [
       "(2.45764114548890, 1.86010752377383)"
      ]
     },
     "execution_count": 48,
     "metadata": {},
     "output_type": "execute_result"
    }
   ],
   "source": [
    "v1=sum(vv1)/len(vv1)\n",
    "v2=sum(vv2)/len(vv2)\n",
    "\n",
    "σ1=sqrt(v1)\n",
    "σ2=sqrt(v2)\n",
    "\n",
    "σ1, σ2 #standard deviations"
   ]
  },
  {
   "cell_type": "markdown",
   "metadata": {},
   "source": [
    "**Problem 8**"
   ]
  },
  {
   "cell_type": "code",
   "execution_count": 49,
   "metadata": {},
   "outputs": [
    {
     "data": {
      "text/html": [
       "<html><script type=\"math/tex; mode=display\">\\newcommand{\\Bold}[1]{\\mathbf{#1}}\\left(1,\\,3,\\,4,\\,-1\\right)</script></html>"
      ],
      "text/latex": [
       "$$\\newcommand{\\Bold}[1]{\\mathbf{#1}}\\left(1,\\,3,\\,4,\\,-1\\right)$$"
      ],
      "text/plain": [
       "(1, 3, 4, -1)"
      ]
     },
     "execution_count": 49,
     "metadata": {},
     "output_type": "execute_result"
    }
   ],
   "source": [
    "x = vector([1,3,4,-1]);x"
   ]
  },
  {
   "cell_type": "code",
   "execution_count": 50,
   "metadata": {},
   "outputs": [
    {
     "data": {
      "text/html": [
       "<html><script type=\"math/tex; mode=display\">\\newcommand{\\Bold}[1]{\\mathbf{#1}}\\left(a,\\,b,\\,c,\\,d\\right)</script></html>"
      ],
      "text/latex": [
       "$$\\newcommand{\\Bold}[1]{\\mathbf{#1}}\\left(a,\\,b,\\,c,\\,d\\right)$$"
      ],
      "text/plain": [
       "(a, b, c, d)"
      ]
     },
     "execution_count": 50,
     "metadata": {},
     "output_type": "execute_result"
    }
   ],
   "source": [
    "a, b, c, d = var('a, b, c, d')\n",
    "y = vector([a, b, c, d]);y"
   ]
  },
  {
   "cell_type": "code",
   "execution_count": 51,
   "metadata": {},
   "outputs": [
    {
     "data": {
      "text/html": [
       "<html><script type=\"math/tex; mode=display\">\\newcommand{\\Bold}[1]{\\mathbf{#1}}\\frac{\\sqrt{3} {\\left(a + 3 \\, b + 4 \\, c - d\\right)}}{9 \\, \\sqrt{a^{2} + b^{2} + c^{2} + d^{2}}}</script></html>"
      ],
      "text/latex": [
       "$$\\newcommand{\\Bold}[1]{\\mathbf{#1}}\\frac{\\sqrt{3} {\\left(a + 3 \\, b + 4 \\, c - d\\right)}}{9 \\, \\sqrt{a^{2} + b^{2} + c^{2} + d^{2}}}$$"
      ],
      "text/plain": [
       "1/9*sqrt(3)*(a + 3*b + 4*c - d)/sqrt(a^2 + b^2 + c^2 + d^2)"
      ]
     },
     "execution_count": 51,
     "metadata": {},
     "output_type": "execute_result"
    }
   ],
   "source": [
    "cos = x.dot_product(y)/sqrt(x.dot_product(x)*y.dot_product(y)); cos"
   ]
  },
  {
   "cell_type": "code",
   "execution_count": 52,
   "metadata": {},
   "outputs": [
    {
     "data": {
      "text/html": [
       "<html><script type=\"math/tex; mode=display\">\\newcommand{\\Bold}[1]{\\mathbf{#1}}\\frac{\\sqrt{3} {\\left(a + 3 \\, b + 4 \\, c - d\\right)}}{9 \\, \\sqrt{a^{2} + b^{2} + c^{2} + d^{2}}}</script></html>"
      ],
      "text/latex": [
       "$$\\newcommand{\\Bold}[1]{\\mathbf{#1}}\\frac{\\sqrt{3} {\\left(a + 3 \\, b + 4 \\, c - d\\right)}}{9 \\, \\sqrt{a^{2} + b^{2} + c^{2} + d^{2}}}$$"
      ],
      "text/plain": [
       "1/9*sqrt(3)*(a + 3*b + 4*c - d)/sqrt(a^2 + b^2 + c^2 + d^2)"
      ]
     },
     "execution_count": 52,
     "metadata": {},
     "output_type": "execute_result"
    }
   ],
   "source": [
    "f(a,b,c,d) = cos; f(a,b,c,d)"
   ]
  },
  {
   "cell_type": "code",
   "execution_count": 53,
   "metadata": {},
   "outputs": [
    {
     "data": {
      "text/html": [
       "<html><script type=\"math/tex; mode=display\">\\newcommand{\\Bold}[1]{\\mathbf{#1}}0</script></html>"
      ],
      "text/latex": [
       "$$\\newcommand{\\Bold}[1]{\\mathbf{#1}}0$$"
      ],
      "text/plain": [
       "0"
      ]
     },
     "execution_count": 53,
     "metadata": {},
     "output_type": "execute_result"
    }
   ],
   "source": [
    "f(2,-1,1,3)"
   ]
  },
  {
   "cell_type": "code",
   "execution_count": 54,
   "metadata": {},
   "outputs": [
    {
     "data": {
      "text/html": [
       "<html><script type=\"math/tex; mode=display\">\\newcommand{\\Bold}[1]{\\mathbf{#1}}\\frac{1}{9} \\, \\sqrt{3}</script></html>"
      ],
      "text/latex": [
       "$$\\newcommand{\\Bold}[1]{\\mathbf{#1}}\\frac{1}{9} \\, \\sqrt{3}$$"
      ],
      "text/plain": [
       "1/9*sqrt(3)"
      ]
     },
     "execution_count": 54,
     "metadata": {},
     "output_type": "execute_result"
    }
   ],
   "source": [
    "f(1,0,0,0)"
   ]
  },
  {
   "cell_type": "code",
   "execution_count": 55,
   "metadata": {},
   "outputs": [
    {
     "data": {
      "text/html": [
       "<html><script type=\"math/tex; mode=display\">\\newcommand{\\Bold}[1]{\\mathbf{#1}}-\\frac{1}{81} \\, \\sqrt{6} \\sqrt{3}</script></html>"
      ],
      "text/latex": [
       "$$\\newcommand{\\Bold}[1]{\\mathbf{#1}}-\\frac{1}{81} \\, \\sqrt{6} \\sqrt{3}$$"
      ],
      "text/plain": [
       "-1/81*sqrt(6)*sqrt(3)"
      ]
     },
     "execution_count": 55,
     "metadata": {},
     "output_type": "execute_result"
    }
   ],
   "source": [
    "f(2,1,0,7)"
   ]
  },
  {
   "cell_type": "code",
   "execution_count": 56,
   "metadata": {},
   "outputs": [
    {
     "data": {
      "text/html": [
       "<html><script type=\"math/tex; mode=display\">\\newcommand{\\Bold}[1]{\\mathbf{#1}}\\frac{7}{270} \\, \\sqrt{30} \\sqrt{3}</script></html>"
      ],
      "text/latex": [
       "$$\\newcommand{\\Bold}[1]{\\mathbf{#1}}\\frac{7}{270} \\, \\sqrt{30} \\sqrt{3}$$"
      ],
      "text/plain": [
       "7/270*sqrt(30)*sqrt(3)"
      ]
     },
     "execution_count": 56,
     "metadata": {},
     "output_type": "execute_result"
    }
   ],
   "source": [
    "f(4,3,-1,2)"
   ]
  },
  {
   "cell_type": "code",
   "execution_count": 57,
   "metadata": {},
   "outputs": [
    {
     "data": {
      "text/html": [
       "<html><script type=\"math/tex; mode=display\">\\newcommand{\\Bold}[1]{\\mathbf{#1}}\\frac{1}{9} \\, \\sqrt{3} \\sqrt{2}</script></html>"
      ],
      "text/latex": [
       "$$\\newcommand{\\Bold}[1]{\\mathbf{#1}}\\frac{1}{9} \\, \\sqrt{3} \\sqrt{2}$$"
      ],
      "text/plain": [
       "1/9*sqrt(3)*sqrt(2)"
      ]
     },
     "execution_count": 57,
     "metadata": {},
     "output_type": "execute_result"
    }
   ],
   "source": [
    "f(2,0,0,-2)"
   ]
  },
  {
   "cell_type": "markdown",
   "metadata": {},
   "source": [
    "**Problem 9**"
   ]
  },
  {
   "cell_type": "code",
   "execution_count": 58,
   "metadata": {},
   "outputs": [
    {
     "data": {
      "text/html": [
       "<html><script type=\"math/tex; mode=display\">\\newcommand{\\Bold}[1]{\\mathbf{#1}}\\left(\\frac{x}{\\sqrt{x^{2} + y^{2}}},\\,\\frac{y}{\\sqrt{x^{2} + y^{2}}}\\right)</script></html>"
      ],
      "text/latex": [
       "$$\\newcommand{\\Bold}[1]{\\mathbf{#1}}\\left(\\frac{x}{\\sqrt{x^{2} + y^{2}}},\\,\\frac{y}{\\sqrt{x^{2} + y^{2}}}\\right)$$"
      ],
      "text/plain": [
       "(x/sqrt(x^2 + y^2), y/sqrt(x^2 + y^2))"
      ]
     },
     "execution_count": 58,
     "metadata": {},
     "output_type": "execute_result"
    }
   ],
   "source": [
    "f(x, y) = sqrt(x^2+y^2)\n",
    "f(x, y).gradient()"
   ]
  },
  {
   "cell_type": "markdown",
   "metadata": {},
   "source": [
    "**Problem 10**"
   ]
  },
  {
   "cell_type": "code",
   "execution_count": 59,
   "metadata": {},
   "outputs": [
    {
     "data": {
      "text/html": [
       "<html><script type=\"math/tex; mode=display\">\\newcommand{\\Bold}[1]{\\mathbf{#1}}\\sin\\left(3 \\, x y\\right)</script></html>"
      ],
      "text/latex": [
       "$$\\newcommand{\\Bold}[1]{\\mathbf{#1}}\\sin\\left(3 \\, x y\\right)$$"
      ],
      "text/plain": [
       "sin(3*x*y)"
      ]
     },
     "execution_count": 59,
     "metadata": {},
     "output_type": "execute_result"
    }
   ],
   "source": [
    "f(x,y)=sin(3*x*y); f(x,y)"
   ]
  },
  {
   "cell_type": "code",
   "execution_count": 60,
   "metadata": {},
   "outputs": [
    {
     "data": {
      "text/html": [
       "<html><script type=\"math/tex; mode=display\">\\newcommand{\\Bold}[1]{\\mathbf{#1}}3 \\, y \\cos\\left(3 \\, x y\\right)</script></html>"
      ],
      "text/latex": [
       "$$\\newcommand{\\Bold}[1]{\\mathbf{#1}}3 \\, y \\cos\\left(3 \\, x y\\right)$$"
      ],
      "text/plain": [
       "3*y*cos(3*x*y)"
      ]
     },
     "execution_count": 60,
     "metadata": {},
     "output_type": "execute_result"
    }
   ],
   "source": [
    "diff(f(x, y), x)"
   ]
  },
  {
   "cell_type": "markdown",
   "metadata": {},
   "source": [
    "**Problem 11**"
   ]
  },
  {
   "cell_type": "code",
   "execution_count": 61,
   "metadata": {},
   "outputs": [
    {
     "data": {
      "text/html": [
       "<html><script type=\"math/tex; mode=display\">\\newcommand{\\Bold}[1]{\\mathbf{#1}}\\frac{1}{4}</script></html>"
      ],
      "text/latex": [
       "$$\\newcommand{\\Bold}[1]{\\mathbf{#1}}\\frac{1}{4}$$"
      ],
      "text/plain": [
       "1/4"
      ]
     },
     "execution_count": 61,
     "metadata": {},
     "output_type": "execute_result"
    }
   ],
   "source": [
    "x = 1-1/6-1/3-1/4; x"
   ]
  },
  {
   "cell_type": "code",
   "execution_count": 62,
   "metadata": {},
   "outputs": [
    {
     "data": {
      "text/html": [
       "<html><script type=\"math/tex; mode=display\">\\newcommand{\\Bold}[1]{\\mathbf{#1}}\\frac{5}{12}</script></html>"
      ],
      "text/latex": [
       "$$\\newcommand{\\Bold}[1]{\\mathbf{#1}}\\frac{5}{12}$$"
      ],
      "text/plain": [
       "5/12"
      ]
     },
     "execution_count": 62,
     "metadata": {},
     "output_type": "execute_result"
    }
   ],
   "source": [
    "f = 1/6+1/4; f"
   ]
  },
  {
   "cell_type": "markdown",
   "metadata": {},
   "source": [
    "**Problem 12**"
   ]
  },
  {
   "cell_type": "code",
   "execution_count": 78,
   "metadata": {},
   "outputs": [
    {
     "data": {
      "text/html": [
       "<html><script type=\"math/tex; mode=display\">\\newcommand{\\Bold}[1]{\\mathbf{#1}}\\left(\\begin{array}{rr}\n",
       "\\frac{\\sqrt{3} {\\left(\\pi + 9 \\, b + 12 \\, c - 3 \\, d\\right)}}{9 \\, \\sqrt{\\pi^{2} + 9 \\, b^{2} + 9 \\, c^{2} + 9 \\, d^{2}}} & -\\frac{1}{2} \\, \\sqrt{3} \\\\\n",
       "\\frac{1}{2} \\, \\sqrt{3} & \\frac{\\sqrt{3} {\\left(\\pi + 9 \\, b + 12 \\, c - 3 \\, d\\right)}}{9 \\, \\sqrt{\\pi^{2} + 9 \\, b^{2} + 9 \\, c^{2} + 9 \\, d^{2}}}\n",
       "\\end{array}\\right)</script></html>"
      ],
      "text/latex": [
       "$$\\newcommand{\\Bold}[1]{\\mathbf{#1}}\\left(\\begin{array}{rr}\n",
       "\\frac{\\sqrt{3} {\\left(\\pi + 9 \\, b + 12 \\, c - 3 \\, d\\right)}}{9 \\, \\sqrt{\\pi^{2} + 9 \\, b^{2} + 9 \\, c^{2} + 9 \\, d^{2}}} & -\\frac{1}{2} \\, \\sqrt{3} \\\\\n",
       "\\frac{1}{2} \\, \\sqrt{3} & \\frac{\\sqrt{3} {\\left(\\pi + 9 \\, b + 12 \\, c - 3 \\, d\\right)}}{9 \\, \\sqrt{\\pi^{2} + 9 \\, b^{2} + 9 \\, c^{2} + 9 \\, d^{2}}}\n",
       "\\end{array}\\right)$$"
      ],
      "text/plain": [
       "[1/9*sqrt(3)*(pi + 9*b + 12*c - 3*d)/sqrt(pi^2 + 9*b^2 + 9*c^2 + 9*d^2)                                                           -1/2*sqrt(3)]\n",
       "[                                                           1/2*sqrt(3) 1/9*sqrt(3)*(pi + 9*b + 12*c - 3*d)/sqrt(pi^2 + 9*b^2 + 9*c^2 + 9*d^2)]"
      ]
     },
     "execution_count": 78,
     "metadata": {},
     "output_type": "execute_result"
    }
   ],
   "source": [
    "x = vector([1,3])\n",
    "\n",
    "R = matrix([[cos(pi/3), -sin(pi/3)], [sin(pi/3), cos(pi/3)]]); R"
   ]
  },
  {
   "cell_type": "code",
   "execution_count": 75,
   "metadata": {},
   "outputs": [
    {
     "data": {
      "text/html": [
       "<html><script type=\"math/tex; mode=display\">\\newcommand{\\Bold}[1]{\\mathbf{#1}}\\left(\\frac{\\sqrt{3} {\\left(\\pi + 9 \\, b + 12 \\, c - 3 \\, d\\right)}}{9 \\, \\sqrt{\\pi^{2} + 9 \\, b^{2} + 9 \\, c^{2} + 9 \\, d^{2}}} - \\frac{3}{2} \\, \\sqrt{3},\\,\\frac{\\sqrt{3} {\\left(\\pi + 9 \\, b + 12 \\, c - 3 \\, d\\right)}}{3 \\, \\sqrt{\\pi^{2} + 9 \\, b^{2} + 9 \\, c^{2} + 9 \\, d^{2}}} + \\frac{1}{2} \\, \\sqrt{3}\\right)</script></html>"
      ],
      "text/latex": [
       "$$\\newcommand{\\Bold}[1]{\\mathbf{#1}}\\left(\\frac{\\sqrt{3} {\\left(\\pi + 9 \\, b + 12 \\, c - 3 \\, d\\right)}}{9 \\, \\sqrt{\\pi^{2} + 9 \\, b^{2} + 9 \\, c^{2} + 9 \\, d^{2}}} - \\frac{3}{2} \\, \\sqrt{3},\\,\\frac{\\sqrt{3} {\\left(\\pi + 9 \\, b + 12 \\, c - 3 \\, d\\right)}}{3 \\, \\sqrt{\\pi^{2} + 9 \\, b^{2} + 9 \\, c^{2} + 9 \\, d^{2}}} + \\frac{1}{2} \\, \\sqrt{3}\\right)$$"
      ],
      "text/plain": [
       "(1/9*sqrt(3)*(pi + 9*b + 12*c - 3*d)/sqrt(pi^2 + 9*b^2 + 9*c^2 + 9*d^2) - 3/2*sqrt(3), 1/3*sqrt(3)*(pi + 9*b + 12*c - 3*d)/sqrt(pi^2 + 9*b^2 + 9*c^2 + 9*d^2) + 1/2*sqrt(3))"
      ]
     },
     "execution_count": 75,
     "metadata": {},
     "output_type": "execute_result"
    }
   ],
   "source": [
    "x2 = R*x; x2.simplify()"
   ]
  },
  {
   "cell_type": "markdown",
   "metadata": {},
   "source": [
    "**Problem 13**"
   ]
  },
  {
   "cell_type": "code",
   "execution_count": 80,
   "metadata": {},
   "outputs": [
    {
     "data": {
      "text/html": [
       "<html><script type=\"math/tex; mode=display\">\\newcommand{\\Bold}[1]{\\mathbf{#1}}6 \\, x + 2</script></html>"
      ],
      "text/latex": [
       "$$\\newcommand{\\Bold}[1]{\\mathbf{#1}}6 \\, x + 2$$"
      ],
      "text/plain": [
       "6*x + 2"
      ]
     },
     "execution_count": 80,
     "metadata": {},
     "output_type": "execute_result"
    }
   ],
   "source": [
    "f(x) = x^3+x^2-x-1\n",
    "df(x) = diff(f(x), 2); df(x)"
   ]
  },
  {
   "cell_type": "code",
   "execution_count": 81,
   "metadata": {},
   "outputs": [
    {
     "data": {
      "text/html": [
       "<html><script type=\"math/tex; mode=display\">\\newcommand{\\Bold}[1]{\\mathbf{#1}}\\left(-4, 4\\right)</script></html>"
      ],
      "text/latex": [
       "$$\\newcommand{\\Bold}[1]{\\mathbf{#1}}\\left(-4, 4\\right)$$"
      ],
      "text/plain": [
       "(-4, 4)"
      ]
     },
     "execution_count": 81,
     "metadata": {},
     "output_type": "execute_result"
    }
   ],
   "source": [
    "df(-1), df(1/3)"
   ]
  },
  {
   "cell_type": "markdown",
   "metadata": {},
   "source": [
    "**Problem 14**"
   ]
  },
  {
   "cell_type": "code",
   "execution_count": 82,
   "metadata": {},
   "outputs": [
    {
     "data": {
      "text/html": [
       "<html><script type=\"math/tex; mode=display\">\\newcommand{\\Bold}[1]{\\mathbf{#1}}\\left(\\begin{array}{rrr}\n",
       "1 & 0 & 0 \\\\\n",
       "1 & 2 & 1 \\\\\n",
       "0 & 0 & 3\n",
       "\\end{array}\\right)</script></html>"
      ],
      "text/latex": [
       "$$\\newcommand{\\Bold}[1]{\\mathbf{#1}}\\left(\\begin{array}{rrr}\n",
       "1 & 0 & 0 \\\\\n",
       "1 & 2 & 1 \\\\\n",
       "0 & 0 & 3\n",
       "\\end{array}\\right)$$"
      ],
      "text/plain": [
       "[1 0 0]\n",
       "[1 2 1]\n",
       "[0 0 3]"
      ]
     },
     "execution_count": 82,
     "metadata": {},
     "output_type": "execute_result"
    }
   ],
   "source": [
    "A = matrix([[1,0,0], [1,2,1], [0,0,3]]); A"
   ]
  },
  {
   "cell_type": "code",
   "execution_count": 83,
   "metadata": {},
   "outputs": [
    {
     "data": {
      "text/html": [
       "<html><script type=\"math/tex; mode=display\">\\newcommand{\\Bold}[1]{\\mathbf{#1}}\\left[3, 2, 1\\right]</script></html>"
      ],
      "text/latex": [
       "$$\\newcommand{\\Bold}[1]{\\mathbf{#1}}\\left[3, 2, 1\\right]$$"
      ],
      "text/plain": [
       "[3, 2, 1]"
      ]
     },
     "execution_count": 83,
     "metadata": {},
     "output_type": "execute_result"
    }
   ],
   "source": [
    "A.eigenvalues()"
   ]
  },
  {
   "cell_type": "markdown",
   "metadata": {},
   "source": [
    "**Problem 15**"
   ]
  },
  {
   "cell_type": "code",
   "execution_count": 84,
   "metadata": {},
   "outputs": [
    {
     "data": {
      "text/html": [
       "<html><script type=\"math/tex; mode=display\">\\newcommand{\\Bold}[1]{\\mathbf{#1}}\\left(\\begin{array}{rr}\n",
       "1 & -5 \\\\\n",
       "2 & 0\n",
       "\\end{array}\\right)</script></html>"
      ],
      "text/latex": [
       "$$\\newcommand{\\Bold}[1]{\\mathbf{#1}}\\left(\\begin{array}{rr}\n",
       "1 & -5 \\\\\n",
       "2 & 0\n",
       "\\end{array}\\right)$$"
      ],
      "text/plain": [
       "[ 1 -5]\n",
       "[ 2  0]"
      ]
     },
     "execution_count": 84,
     "metadata": {},
     "output_type": "execute_result"
    }
   ],
   "source": [
    "A = matrix([[1,-5], [2,0]]);A"
   ]
  },
  {
   "cell_type": "code",
   "execution_count": 85,
   "metadata": {},
   "outputs": [
    {
     "data": {
      "text/html": [
       "<html><script type=\"math/tex; mode=display\">\\newcommand{\\Bold}[1]{\\mathbf{#1}}\\left(\\begin{array}{rr}\n",
       "0 & \\frac{1}{2} \\\\\n",
       "-\\frac{1}{5} & \\frac{1}{10}\n",
       "\\end{array}\\right)</script></html>"
      ],
      "text/latex": [
       "$$\\newcommand{\\Bold}[1]{\\mathbf{#1}}\\left(\\begin{array}{rr}\n",
       "0 & \\frac{1}{2} \\\\\n",
       "-\\frac{1}{5} & \\frac{1}{10}\n",
       "\\end{array}\\right)$$"
      ],
      "text/plain": [
       "[   0  1/2]\n",
       "[-1/5 1/10]"
      ]
     },
     "execution_count": 85,
     "metadata": {},
     "output_type": "execute_result"
    }
   ],
   "source": [
    "A^(-1)"
   ]
  },
  {
   "cell_type": "markdown",
   "metadata": {},
   "source": [
    "### Part 3 - Sagemath excercises\n",
    "\n",
    "**Problem 1**\n",
    "\n",
    "(a)"
   ]
  },
  {
   "cell_type": "code",
   "execution_count": 94,
   "metadata": {},
   "outputs": [
    {
     "data": {
      "text/html": [
       "<html><script type=\"math/tex; mode=display\">\\newcommand{\\Bold}[1]{\\mathbf{#1}}\\left(\\begin{array}{rrrrr}\n",
       "0 & 2 & l & 1 & 0 \\\\\n",
       "1 & -l & 2 & 1 & 2 \\\\\n",
       "2 & -1 & 0 & 0 & -1 \\\\\n",
       "2 & 0 & 1 & 1 & 2 \\\\\n",
       "1 & 2 & -1 & 0 & -3\n",
       "\\end{array}\\right)</script></html>"
      ],
      "text/latex": [
       "$$\\newcommand{\\Bold}[1]{\\mathbf{#1}}\\left(\\begin{array}{rrrrr}\n",
       "0 & 2 & l & 1 & 0 \\\\\n",
       "1 & -l & 2 & 1 & 2 \\\\\n",
       "2 & -1 & 0 & 0 & -1 \\\\\n",
       "2 & 0 & 1 & 1 & 2 \\\\\n",
       "1 & 2 & -1 & 0 & -3\n",
       "\\end{array}\\right)$$"
      ],
      "text/plain": [
       "[ 0  2  l  1  0]\n",
       "[ 1 -l  2  1  2]\n",
       "[ 2 -1  0  0 -1]\n",
       "[ 2  0  1  1  2]\n",
       "[ 1  2 -1  0 -3]"
      ]
     },
     "execution_count": 94,
     "metadata": {},
     "output_type": "execute_result"
    }
   ],
   "source": [
    "l = var('l')\n",
    "A = matrix([[0, 2, l, 1, 0], [1, -l, 2, 1, 2], [2, -1, 0, 0, -1], [2, 0, 1, 1, 2], [1, 2,-1, 0, -3]]); A"
   ]
  },
  {
   "cell_type": "code",
   "execution_count": 95,
   "metadata": {},
   "outputs": [
    {
     "data": {
      "text/html": [
       "<html><script type=\"math/tex; mode=display\">\\newcommand{\\Bold}[1]{\\mathbf{#1}}\\left(x_{1},\\,x_{2},\\,x_{3},\\,x_{4},\\,x_{5}\\right)</script></html>"
      ],
      "text/latex": [
       "$$\\newcommand{\\Bold}[1]{\\mathbf{#1}}\\left(x_{1},\\,x_{2},\\,x_{3},\\,x_{4},\\,x_{5}\\right)$$"
      ],
      "text/plain": [
       "(x1, x2, x3, x4, x5)"
      ]
     },
     "execution_count": 95,
     "metadata": {},
     "output_type": "execute_result"
    }
   ],
   "source": [
    "x1,x2,x3,x4, x5 = var('x1, x2, x3, x4,x5')\n",
    "X = vector([x1, x2, x3, x4, x5]); X"
   ]
  },
  {
   "cell_type": "code",
   "execution_count": 96,
   "metadata": {},
   "outputs": [
    {
     "data": {
      "text/html": [
       "<html><script type=\"math/tex; mode=display\">\\newcommand{\\Bold}[1]{\\mathbf{#1}}\\left(1,\\,0,\\,-1,\\,2,\\,3\\right)</script></html>"
      ],
      "text/latex": [
       "$$\\newcommand{\\Bold}[1]{\\mathbf{#1}}\\left(1,\\,0,\\,-1,\\,2,\\,3\\right)$$"
      ],
      "text/plain": [
       "(1, 0, -1, 2, 3)"
      ]
     },
     "execution_count": 96,
     "metadata": {},
     "output_type": "execute_result"
    }
   ],
   "source": [
    "Y = vector([1, 0, -1, 2, 3]); Y"
   ]
  },
  {
   "cell_type": "markdown",
   "metadata": {},
   "source": [
    "(b) determinant = 0 for no solutions"
   ]
  },
  {
   "cell_type": "code",
   "execution_count": 97,
   "metadata": {},
   "outputs": [
    {
     "data": {
      "text/html": [
       "<html><script type=\"math/tex; mode=display\">\\newcommand{\\Bold}[1]{\\mathbf{#1}}\\left[l = 1, l = \\left(-\\frac{11}{5}\\right)\\right]</script></html>"
      ],
      "text/latex": [
       "$$\\newcommand{\\Bold}[1]{\\mathbf{#1}}\\left[l = 1, l = \\left(-\\frac{11}{5}\\right)\\right]$$"
      ],
      "text/plain": [
       "[l == 1, l == (-11/5)]"
      ]
     },
     "execution_count": 97,
     "metadata": {},
     "output_type": "execute_result"
    }
   ],
   "source": [
    "solve(det(A) == 0, l)"
   ]
  },
  {
   "cell_type": "markdown",
   "metadata": {},
   "source": [
    "(c) The solution is:"
   ]
  },
  {
   "cell_type": "code",
   "execution_count": 100,
   "metadata": {},
   "outputs": [
    {
     "data": {
      "text/html": [
       "<html><script type=\"math/tex; mode=display\">\\newcommand{\\Bold}[1]{\\mathbf{#1}}\\left(-\\frac{5}{7},\\,-\\frac{2}{21},\\,-\\frac{61}{21},\\,7,\\,-\\frac{1}{3}\\right)</script></html>"
      ],
      "text/latex": [
       "$$\\newcommand{\\Bold}[1]{\\mathbf{#1}}\\left(-\\frac{5}{7},\\,-\\frac{2}{21},\\,-\\frac{61}{21},\\,7,\\,-\\frac{1}{3}\\right)$$"
      ],
      "text/plain": [
       "(-5/7, -2/21, -61/21, 7, -1/3)"
      ]
     },
     "execution_count": 100,
     "metadata": {},
     "output_type": "execute_result"
    }
   ],
   "source": [
    "S = (A^(-1)*Y).substitute(l=2); S"
   ]
  },
  {
   "cell_type": "code",
   "execution_count": 101,
   "metadata": {},
   "outputs": [
    {
     "data": {
      "text/html": [
       "<html><script type=\"math/tex; mode=display\">\\newcommand{\\Bold}[1]{\\mathbf{#1}}\\mathrm{True}</script></html>"
      ],
      "text/latex": [
       "$$\\newcommand{\\Bold}[1]{\\mathbf{#1}}\\mathrm{True}$$"
      ],
      "text/plain": [
       "True"
      ]
     },
     "execution_count": 101,
     "metadata": {},
     "output_type": "execute_result"
    }
   ],
   "source": [
    "(A*S).substitute(l=2) == Y"
   ]
  },
  {
   "cell_type": "markdown",
   "metadata": {},
   "source": [
    "**Problem 2**\n",
    "\n",
    "(a) Projection excercise"
   ]
  },
  {
   "cell_type": "code",
   "execution_count": 104,
   "metadata": {},
   "outputs": [
    {
     "data": {
      "text/html": [
       "<html><script type=\"math/tex; mode=display\">\\newcommand{\\Bold}[1]{\\mathbf{#1}}\\left(\\left(1,\\,2,\\,3\\right), \\left(1,\\,0,\\,1\\right), \\left(1,\\,1,\\,0\\right), \\left(\\begin{array}{rr}\n",
       "1 & 1 \\\\\n",
       "0 & 1 \\\\\n",
       "1 & 0\n",
       "\\end{array}\\right)\\right)</script></html>"
      ],
      "text/latex": [
       "$$\\newcommand{\\Bold}[1]{\\mathbf{#1}}\\left(\\left(1,\\,2,\\,3\\right), \\left(1,\\,0,\\,1\\right), \\left(1,\\,1,\\,0\\right), \\left(\\begin{array}{rr}\n",
       "1 & 1 \\\\\n",
       "0 & 1 \\\\\n",
       "1 & 0\n",
       "\\end{array}\\right)\\right)$$"
      ],
      "text/plain": [
       "(\n",
       "                                 [1 1]\n",
       "                                 [0 1]\n",
       "(1, 2, 3), (1, 0, 1), (1, 1, 0), [1 0]\n",
       ")"
      ]
     },
     "execution_count": 104,
     "metadata": {},
     "output_type": "execute_result"
    }
   ],
   "source": [
    "b = vector([1,2,3])\n",
    "b1 = vector([1,0,1])\n",
    "b2 = vector([1,1,0])\n",
    "B = matrix([[1,1], [0,1], [1,0]])\n",
    "\n",
    "b, b1, b2, B"
   ]
  },
  {
   "cell_type": "code",
   "execution_count": 106,
   "metadata": {},
   "outputs": [
    {
     "data": {
      "text/html": [
       "<html><script type=\"math/tex; mode=display\">\\newcommand{\\Bold}[1]{\\mathbf{#1}}\\left(\\begin{array}{rrr}\n",
       "\\frac{2}{3} & \\frac{1}{3} & \\frac{1}{3} \\\\\n",
       "\\frac{1}{3} & \\frac{2}{3} & -\\frac{1}{3} \\\\\n",
       "\\frac{1}{3} & -\\frac{1}{3} & \\frac{2}{3}\n",
       "\\end{array}\\right)</script></html>"
      ],
      "text/latex": [
       "$$\\newcommand{\\Bold}[1]{\\mathbf{#1}}\\left(\\begin{array}{rrr}\n",
       "\\frac{2}{3} & \\frac{1}{3} & \\frac{1}{3} \\\\\n",
       "\\frac{1}{3} & \\frac{2}{3} & -\\frac{1}{3} \\\\\n",
       "\\frac{1}{3} & -\\frac{1}{3} & \\frac{2}{3}\n",
       "\\end{array}\\right)$$"
      ],
      "text/plain": [
       "[ 2/3  1/3  1/3]\n",
       "[ 1/3  2/3 -1/3]\n",
       "[ 1/3 -1/3  2/3]"
      ]
     },
     "execution_count": 106,
     "metadata": {},
     "output_type": "execute_result"
    }
   ],
   "source": [
    "P = B*(B.T*B)^(-1)*B.T; P # projection matrix"
   ]
  },
  {
   "cell_type": "code",
   "execution_count": 107,
   "metadata": {},
   "outputs": [
    {
     "data": {
      "text/html": [
       "<html><script type=\"math/tex; mode=display\">\\newcommand{\\Bold}[1]{\\mathbf{#1}}\\left(\\frac{7}{3},\\,\\frac{2}{3},\\,\\frac{5}{3}\\right)</script></html>"
      ],
      "text/latex": [
       "$$\\newcommand{\\Bold}[1]{\\mathbf{#1}}\\left(\\frac{7}{3},\\,\\frac{2}{3},\\,\\frac{5}{3}\\right)$$"
      ],
      "text/plain": [
       "(7/3, 2/3, 5/3)"
      ]
     },
     "execution_count": 107,
     "metadata": {},
     "output_type": "execute_result"
    }
   ],
   "source": [
    "Pb = P*b; Pb # the final projection"
   ]
  },
  {
   "cell_type": "markdown",
   "metadata": {},
   "source": [
    "(b) Projection error:"
   ]
  },
  {
   "cell_type": "code",
   "execution_count": 115,
   "metadata": {},
   "outputs": [
    {
     "data": {
      "text/html": [
       "<html><script type=\"math/tex; mode=display\">\\newcommand{\\Bold}[1]{\\mathbf{#1}}\\left(\\left(\\frac{4}{3},\\,-\\frac{4}{3},\\,-\\frac{4}{3}\\right), 4 \\, \\sqrt{\\frac{1}{3}}\\right)</script></html>"
      ],
      "text/latex": [
       "$$\\newcommand{\\Bold}[1]{\\mathbf{#1}}\\left(\\left(\\frac{4}{3},\\,-\\frac{4}{3},\\,-\\frac{4}{3}\\right), 4 \\, \\sqrt{\\frac{1}{3}}\\right)$$"
      ],
      "text/plain": [
       "((4/3, -4/3, -4/3), 4*sqrt(1/3))"
      ]
     },
     "execution_count": 115,
     "metadata": {},
     "output_type": "execute_result"
    }
   ],
   "source": [
    "Pb-b, abs(Pb-b)"
   ]
  },
  {
   "cell_type": "markdown",
   "metadata": {},
   "source": [
    "(c) as above:"
   ]
  },
  {
   "cell_type": "code",
   "execution_count": 116,
   "metadata": {},
   "outputs": [
    {
     "data": {
      "text/html": [
       "<html><script type=\"math/tex; mode=display\">\\newcommand{\\Bold}[1]{\\mathbf{#1}}\\left(\\begin{array}{rrr}\n",
       "\\frac{2}{3} & \\frac{1}{3} & \\frac{1}{3} \\\\\n",
       "\\frac{1}{3} & \\frac{2}{3} & -\\frac{1}{3} \\\\\n",
       "\\frac{1}{3} & -\\frac{1}{3} & \\frac{2}{3}\n",
       "\\end{array}\\right)</script></html>"
      ],
      "text/latex": [
       "$$\\newcommand{\\Bold}[1]{\\mathbf{#1}}\\left(\\begin{array}{rrr}\n",
       "\\frac{2}{3} & \\frac{1}{3} & \\frac{1}{3} \\\\\n",
       "\\frac{1}{3} & \\frac{2}{3} & -\\frac{1}{3} \\\\\n",
       "\\frac{1}{3} & -\\frac{1}{3} & \\frac{2}{3}\n",
       "\\end{array}\\right)$$"
      ],
      "text/plain": [
       "[ 2/3  1/3  1/3]\n",
       "[ 1/3  2/3 -1/3]\n",
       "[ 1/3 -1/3  2/3]"
      ]
     },
     "execution_count": 116,
     "metadata": {},
     "output_type": "execute_result"
    }
   ],
   "source": [
    "B*(B.T*B)^(-1)*B.T"
   ]
  },
  {
   "cell_type": "markdown",
   "metadata": {},
   "source": [
    "**Problem 3**"
   ]
  },
  {
   "cell_type": "code",
   "execution_count": 117,
   "metadata": {},
   "outputs": [
    {
     "data": {
      "text/html": [
       "<html><script type=\"math/tex; mode=display\">\\newcommand{\\Bold}[1]{\\mathbf{#1}}{\\left(x y - 1\\right)}^{2} + {\\left(x + z + 1\\right)}^{2} + {\\left(x - z\\right)}^{2}</script></html>"
      ],
      "text/latex": [
       "$$\\newcommand{\\Bold}[1]{\\mathbf{#1}}{\\left(x y - 1\\right)}^{2} + {\\left(x + z + 1\\right)}^{2} + {\\left(x - z\\right)}^{2}$$"
      ],
      "text/plain": [
       "(x*y - 1)^2 + (x + z + 1)^2 + (x - z)^2"
      ]
     },
     "execution_count": 117,
     "metadata": {},
     "output_type": "execute_result"
    }
   ],
   "source": [
    "f(x, y, z) = (x-z)^2+(x+z+1)^2+(x*y-1)^2; f(x, y, z)"
   ]
  },
  {
   "cell_type": "code",
   "execution_count": 118,
   "metadata": {},
   "outputs": [
    {
     "data": {
      "text/html": [
       "<html><script type=\"math/tex; mode=display\">\\newcommand{\\Bold}[1]{\\mathbf{#1}}\\left(2 \\, {\\left(x y - 1\\right)} y + 4 \\, x + 2,\\,2 \\, {\\left(x y - 1\\right)} x,\\,4 \\, z + 2\\right)</script></html>"
      ],
      "text/latex": [
       "$$\\newcommand{\\Bold}[1]{\\mathbf{#1}}\\left(2 \\, {\\left(x y - 1\\right)} y + 4 \\, x + 2,\\,2 \\, {\\left(x y - 1\\right)} x,\\,4 \\, z + 2\\right)$$"
      ],
      "text/plain": [
       "(2*(x*y - 1)*y + 4*x + 2, 2*(x*y - 1)*x, 4*z + 2)"
      ]
     },
     "execution_count": 118,
     "metadata": {},
     "output_type": "execute_result"
    }
   ],
   "source": [
    "grd = f(x, y, z).gradient(); grd"
   ]
  },
  {
   "cell_type": "code",
   "execution_count": 125,
   "metadata": {},
   "outputs": [
    {
     "data": {
      "text/html": [
       "<html><script type=\"math/tex; mode=display\">\\newcommand{\\Bold}[1]{\\mathbf{#1}}\\left[\\left[x = 0, y = 1, z = \\left(-\\frac{1}{2}\\right)\\right], \\left[x = \\left(-\\frac{1}{2}\\right), y = \\left(-2\\right), z = \\left(-\\frac{1}{2}\\right)\\right]\\right]</script></html>"
      ],
      "text/latex": [
       "$$\\newcommand{\\Bold}[1]{\\mathbf{#1}}\\left[\\left[x = 0, y = 1, z = \\left(-\\frac{1}{2}\\right)\\right], \\left[x = \\left(-\\frac{1}{2}\\right), y = \\left(-2\\right), z = \\left(-\\frac{1}{2}\\right)\\right]\\right]$$"
      ],
      "text/plain": [
       "[[x == 0, y == 1, z == (-1/2)], [x == (-1/2), y == -2, z == (-1/2)]]"
      ]
     },
     "execution_count": 125,
     "metadata": {},
     "output_type": "execute_result"
    }
   ],
   "source": [
    "spoints = solve([grd[0] == 0, grd[1] == 0, grd[2] == 0], [x, y, z]); spoints"
   ]
  },
  {
   "cell_type": "code",
   "execution_count": 131,
   "metadata": {},
   "outputs": [
    {
     "data": {
      "text/html": [
       "<html><script type=\"math/tex; mode=display\">\\newcommand{\\Bold}[1]{\\mathbf{#1}}\\left(\\begin{array}{rrr}\n",
       "2 \\, y^{2} + 4 & 4 \\, x y - 2 & 0 \\\\\n",
       "4 \\, x y - 2 & 2 \\, x^{2} & 0 \\\\\n",
       "0 & 0 & 4\n",
       "\\end{array}\\right)</script></html>"
      ],
      "text/latex": [
       "$$\\newcommand{\\Bold}[1]{\\mathbf{#1}}\\left(\\begin{array}{rrr}\n",
       "2 \\, y^{2} + 4 & 4 \\, x y - 2 & 0 \\\\\n",
       "4 \\, x y - 2 & 2 \\, x^{2} & 0 \\\\\n",
       "0 & 0 & 4\n",
       "\\end{array}\\right)$$"
      ],
      "text/plain": [
       "[2*y^2 + 4 4*x*y - 2         0]\n",
       "[4*x*y - 2     2*x^2         0]\n",
       "[        0         0         4]"
      ]
     },
     "execution_count": 131,
     "metadata": {},
     "output_type": "execute_result"
    }
   ],
   "source": [
    "H = f.hessian(); H(x, y, z)"
   ]
  },
  {
   "cell_type": "code",
   "execution_count": 132,
   "metadata": {},
   "outputs": [
    {
     "data": {
      "text/html": [
       "<html><script type=\"math/tex; mode=display\">\\newcommand{\\Bold}[1]{\\mathbf{#1}}\\left[\\left(\\begin{array}{rrr}\n",
       "6 & -2 & 0 \\\\\n",
       "-2 & 0 & 0 \\\\\n",
       "0 & 0 & 4\n",
       "\\end{array}\\right), \\left(\\begin{array}{rrr}\n",
       "12 & 2 & 0 \\\\\n",
       "2 & \\frac{1}{2} & 0 \\\\\n",
       "0 & 0 & 4\n",
       "\\end{array}\\right)\\right]</script></html>"
      ],
      "text/latex": [
       "$$\\newcommand{\\Bold}[1]{\\mathbf{#1}}\\left[\\left(\\begin{array}{rrr}\n",
       "6 & -2 & 0 \\\\\n",
       "-2 & 0 & 0 \\\\\n",
       "0 & 0 & 4\n",
       "\\end{array}\\right), \\left(\\begin{array}{rrr}\n",
       "12 & 2 & 0 \\\\\n",
       "2 & \\frac{1}{2} & 0 \\\\\n",
       "0 & 0 & 4\n",
       "\\end{array}\\right)\\right]$$"
      ],
      "text/plain": [
       "[\n",
       "[ 6 -2  0]  [ 12   2   0]\n",
       "[-2  0  0]  [  2 1/2   0]\n",
       "[ 0  0  4], [  0   0   4]\n",
       "]"
      ]
     },
     "execution_count": 132,
     "metadata": {},
     "output_type": "execute_result"
    }
   ],
   "source": [
    "Hs = [H(x, y, z).substitute(s) for s in spoints]; Hs"
   ]
  },
  {
   "cell_type": "code",
   "execution_count": 133,
   "metadata": {},
   "outputs": [
    {
     "data": {
      "text/html": [
       "<html><script type=\"math/tex; mode=display\">\\newcommand{\\Bold}[1]{\\mathbf{#1}}\\left[\\left[-\\sqrt{13} + 3, \\sqrt{13} + 3, 4\\right], \\left[-\\frac{1}{4} \\, \\sqrt{593} + \\frac{25}{4}, \\frac{1}{4} \\, \\sqrt{593} + \\frac{25}{4}, 4\\right]\\right]</script></html>"
      ],
      "text/latex": [
       "$$\\newcommand{\\Bold}[1]{\\mathbf{#1}}\\left[\\left[-\\sqrt{13} + 3, \\sqrt{13} + 3, 4\\right], \\left[-\\frac{1}{4} \\, \\sqrt{593} + \\frac{25}{4}, \\frac{1}{4} \\, \\sqrt{593} + \\frac{25}{4}, 4\\right]\\right]$$"
      ],
      "text/plain": [
       "[[-sqrt(13) + 3, sqrt(13) + 3, 4],\n",
       " [-1/4*sqrt(593) + 25/4, 1/4*sqrt(593) + 25/4, 4]]"
      ]
     },
     "execution_count": 133,
     "metadata": {},
     "output_type": "execute_result"
    }
   ],
   "source": [
    "sH = [H.eigenvalues() for H in Hs]; sH"
   ]
  },
  {
   "cell_type": "code",
   "execution_count": 136,
   "metadata": {},
   "outputs": [
    {
     "data": {
      "text/html": [
       "<html><script type=\"math/tex; mode=display\">\\newcommand{\\Bold}[1]{\\mathbf{#1}}\\left(-0.605551275463989, 6.60555127546399, 4.00000000000000\\right)</script></html>"
      ],
      "text/latex": [
       "$$\\newcommand{\\Bold}[1]{\\mathbf{#1}}\\left(-0.605551275463989, 6.60555127546399, 4.00000000000000\\right)$$"
      ],
      "text/plain": [
       "(-0.605551275463989, 6.60555127546399, 4.00000000000000)"
      ]
     },
     "execution_count": 136,
     "metadata": {},
     "output_type": "execute_result"
    }
   ],
   "source": [
    "sH[0][0].n(), sH[0][1].n(), sH[0][2].n()"
   ]
  },
  {
   "cell_type": "code",
   "execution_count": 137,
   "metadata": {},
   "outputs": [
    {
     "data": {
      "text/html": [
       "<html><script type=\"math/tex; mode=display\">\\newcommand{\\Bold}[1]{\\mathbf{#1}}\\left(0.162102169057039, 12.3378978309430, 4.00000000000000\\right)</script></html>"
      ],
      "text/latex": [
       "$$\\newcommand{\\Bold}[1]{\\mathbf{#1}}\\left(0.162102169057039, 12.3378978309430, 4.00000000000000\\right)$$"
      ],
      "text/plain": [
       "(0.162102169057039, 12.3378978309430, 4.00000000000000)"
      ]
     },
     "execution_count": 137,
     "metadata": {},
     "output_type": "execute_result"
    }
   ],
   "source": [
    "sH[1][0].n(), sH[1][1].n(), sH[1][2].n()"
   ]
  },
  {
   "cell_type": "markdown",
   "metadata": {},
   "source": [
    "The first is a saddle point and the second is a minimum."
   ]
  },
  {
   "cell_type": "code",
   "execution_count": 146,
   "metadata": {},
   "outputs": [
    {
     "data": {
      "text/html": [
       "<html><script type=\"math/tex; mode=display\">\\newcommand{\\Bold}[1]{\\mathbf{#1}}\\left(\\left[-0.605551275463989, 6.60555127546399, 4.00000000000000\\right], \\left[0.162102169057039, 12.3378978309430, 4.00000000000000\\right]\\right)</script></html>"
      ],
      "text/latex": [
       "$$\\newcommand{\\Bold}[1]{\\mathbf{#1}}\\left(\\left[-0.605551275463989, 6.60555127546399, 4.00000000000000\\right], \\left[0.162102169057039, 12.3378978309430, 4.00000000000000\\right]\\right)$$"
      ],
      "text/plain": [
       "([-0.605551275463989, 6.60555127546399, 4.00000000000000],\n",
       " [0.162102169057039, 12.3378978309430, 4.00000000000000])"
      ]
     },
     "execution_count": 146,
     "metadata": {},
     "output_type": "execute_result"
    }
   ],
   "source": [
    "list(map(n, sH[0])), list(map(n, sH[1])) # another way"
   ]
  },
  {
   "cell_type": "markdown",
   "metadata": {},
   "source": [
    "(c)"
   ]
  },
  {
   "cell_type": "code",
   "execution_count": 152,
   "metadata": {},
   "outputs": [
    {
     "data": {
      "text/html": [
       "<html><script type=\"math/tex; mode=display\">\\newcommand{\\Bold}[1]{\\mathbf{#1}}\\left[\\left[\\left[x = 0, y = 1, z = \\left(-\\frac{1}{2}\\right)\\right], \\frac{3}{2}\\right], \\left[\\left[x = \\left(-\\frac{1}{2}\\right), y = \\left(-2\\right), z = \\left(-\\frac{1}{2}\\right)\\right], 0\\right]\\right]</script></html>"
      ],
      "text/latex": [
       "$$\\newcommand{\\Bold}[1]{\\mathbf{#1}}\\left[\\left[\\left[x = 0, y = 1, z = \\left(-\\frac{1}{2}\\right)\\right], \\frac{3}{2}\\right], \\left[\\left[x = \\left(-\\frac{1}{2}\\right), y = \\left(-2\\right), z = \\left(-\\frac{1}{2}\\right)\\right], 0\\right]\\right]$$"
      ],
      "text/plain": [
       "[[[x == 0, y == 1, z == (-1/2)], 3/2],\n",
       " [[x == (-1/2), y == -2, z == (-1/2)], 0]]"
      ]
     },
     "execution_count": 152,
     "metadata": {},
     "output_type": "execute_result"
    }
   ],
   "source": [
    "[[s, f(x, y, z).subs(s)] for s in spoints]"
   ]
  },
  {
   "cell_type": "code",
   "execution_count": null,
   "metadata": {},
   "outputs": [],
   "source": []
  }
 ],
 "metadata": {
  "kernelspec": {
   "display_name": "SageMath 9.3",
   "language": "sage",
   "name": "sagemath"
  },
  "language_info": {
   "codemirror_mode": {
    "name": "ipython",
    "version": 3
   },
   "file_extension": ".py",
   "mimetype": "text/x-python",
   "name": "python",
   "nbconvert_exporter": "python",
   "pygments_lexer": "ipython3",
   "version": "3.7.10"
  }
 },
 "nbformat": 4,
 "nbformat_minor": 4
}
